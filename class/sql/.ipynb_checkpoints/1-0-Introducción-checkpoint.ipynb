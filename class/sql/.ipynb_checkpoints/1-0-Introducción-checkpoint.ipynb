{
 "cells": [
  {
   "cell_type": "markdown",
   "id": "1e401ac9-df83-4439-a644-0a3f933306f2",
   "metadata": {},
   "source": [
    "# Que es SQL ?"
   ]
  },
  {
   "cell_type": "markdown",
   "id": "b241b435-f7f0-4893-b628-bb36e46fbaf5",
   "metadata": {},
   "source": [
    "SQL (Structured Query Language) es un lenguaje de programación utilizado para administrar y manipular bases de datos relacionales. Permite realizar diversas operaciones como crear, modificar y eliminar tablas, insertar, actualizar y eliminar datos, así como realizar consultas para recuperar información de la base de datos.\n",
    "\n",
    "SQL es un lenguaje declarativo, lo que significa que se le indica qué se desea hacer y no cómo hacerlo. Utiliza una sintaxis clara y sencilla para escribir consultas y comandos, lo que facilita su aprendizaje y uso.\n",
    "\n",
    "En resumen, SQL es el lenguaje estándar utilizado para interactuar con bases de datos relacionales y realizar operaciones de gestión y consulta de datos de manera eficiente y segura."
   ]
  },
  {
   "cell_type": "markdown",
   "id": "4fec69e2-6223-415d-9a10-464b642c6436",
   "metadata": {},
   "source": [
    "<img align='middle' src=\"https://bookdown.org/paranedagarcia/database/images/sql-mapa.jpg\"/>"
   ]
  },
  {
   "cell_type": "markdown",
   "id": "5c6a5a23-25cc-4aa8-aa39-fd9d2052513b",
   "metadata": {},
   "source": [
    "# Que es una Base de Datos ?"
   ]
  },
  {
   "cell_type": "markdown",
   "id": "fb029f0e-afa5-4cc5-b673-59ee2b34875a",
   "metadata": {},
   "source": [
    "Una base de datos es un conjunto organizado de datos que se almacenan y se acceden de manera eficiente. Proporciona un medio para almacenar, organizar y gestionar grandes cantidades de información de manera estructurada.\n",
    "\n",
    "Las bases de datos se utilizan en una amplia variedad de aplicaciones, desde sistemas de gestión de inventario hasta redes sociales y sistemas bancarios. Permiten almacenar y recuperar datos de manera rápida y eficiente, y proporcionan mecanismos para garantizar la integridad y seguridad de los datos.\n",
    "\n",
    "Existen diferentes tipos de bases de datos, como las bases de datos relacionales, las bases de datos NoSQL y las bases de datos en memoria. Cada tipo tiene sus propias características y se utiliza en diferentes escenarios según los requisitos de la aplicación.\n",
    "\n",
    "En resumen, una base de datos es un componente fundamental en el almacenamiento y gestión de datos, proporcionando una estructura organizada y eficiente para almacenar y acceder a la información."
   ]
  },
  {
   "cell_type": "markdown",
   "id": "94a365e2-89e7-48a8-8d1c-d5db29b29266",
   "metadata": {},
   "source": [
    "<img align='middle' src=\"https://atlantictech.io/wp-content/uploads/2022/08/4113d-basededatos-1300x731.png\"/>"
   ]
  },
  {
   "cell_type": "markdown",
   "id": "c829bc86-8650-411e-a84f-8bc60ecf7f5e",
   "metadata": {},
   "source": [
    "## Relación SQL y Bases de Datos"
   ]
  },
  {
   "cell_type": "markdown",
   "id": "859c3dc9-1db5-448a-a199-59bfc689226a",
   "metadata": {},
   "source": [
    "SQL (Structured Query Language) es un lenguaje de programación diseñado para administrar, consultar y manipular bases de datos relacionales. Las bases de datos son sistemas de almacenamiento de datos organizados en tablas con filas y columnas, y SQL se utiliza para interactuar con estas bases de datos de manera eficiente."
   ]
  },
  {
   "cell_type": "markdown",
   "id": "8a21fd75-e09f-4aad-b9c0-97ff14895685",
   "metadata": {},
   "source": [
    "# ¿Qué es una tabla en SQL?\n",
    "\n",
    "En SQL, una tabla es una estructura de datos que se utiliza para almacenar información de manera organizada. Una tabla consta de filas y columnas, donde cada fila representa un registro y cada columna representa un atributo o campo.\n",
    "\n",
    "Las tablas en SQL se utilizan para almacenar y organizar datos relacionados entre sí. Cada tabla tiene un nombre único y está compuesta por una o más columnas, que definen los tipos de datos y las propiedades de los atributos que se pueden almacenar en la tabla.\n",
    "\n",
    "Las tablas en SQL se crean utilizando el comando `CREATE TABLE`, donde se especifica el nombre de la tabla y las columnas que la componen, junto con sus tipos de datos y restricciones.\n",
    "\n",
    "Por ejemplo, la siguiente es una declaración de creación de una tabla llamada `usuarios` con tres columnas: `id`, `nombre` y `edad`:\n",
    "\n",
    "```sql\n",
    "CREATE TABLE usuarios (\n",
    "  id INT PRIMARY KEY,\n",
    "  nombre VARCHAR(50),\n",
    "  edad INT\n",
    ");\n",
    "```\n",
    "\n",
    "En resumen, una tabla en SQL es una estructura de datos que se utiliza para almacenar y organizar información de manera tabular, donde cada fila representa un registro y cada columna representa un atributo o campo."
   ]
  },
  {
   "cell_type": "markdown",
   "id": "8a200c4a-0ddb-480f-a1ab-08a79dbfdaaf",
   "metadata": {},
   "source": [
    "<img align='middle' src=\"https://i.stack.imgur.com/odn1f.jpg\"/>"
   ]
  },
  {
   "cell_type": "markdown",
   "id": "6ba5b938-d942-4815-b817-d06ff36b33ed",
   "metadata": {},
   "source": [
    "## Tipos de datos en una tabla SQL\n",
    "\n",
    "En una tabla SQL, se pueden encontrar diferentes tipos de datos para almacenar diferentes tipos de información. Algunos de los tipos de datos comunes en SQL son:\n",
    "\n",
    "- `INT` o `INTEGER`: para almacenar números enteros.\n",
    "- `FLOAT` o `REAL`: para almacenar números decimales.\n",
    "- `VARCHAR` o `CHARACTER VARYING`: para almacenar cadenas de caracteres de longitud variable.\n",
    "- `DATE`: para almacenar fechas.\n",
    "- `TIME`: para almacenar horas.\n",
    "- `BOOLEAN`: para almacenar valores de verdadero o falso.\n",
    "\n",
    "Estos son solo algunos ejemplos de los tipos de datos que se pueden encontrar en una tabla SQL. La elección del tipo de dato adecuado depende del tipo de información que se desea almacenar y manipular en la tabla.\n"
   ]
  },
  {
   "cell_type": "markdown",
   "id": "99448b2c-7d66-4c62-9ad0-b9b68c88989f",
   "metadata": {},
   "source": [
    "<img align='middle' src=\"https://www.unipamplona.edu.co/unipamplona/portalIG/home_74/recursos/administracion-bases-de-datos/15052015/datos1.png\"/>"
   ]
  },
  {
   "cell_type": "markdown",
   "id": "1f854281-f45e-4961-a308-ea9985d15d38",
   "metadata": {},
   "source": [
    "<img align='middle' src=\"https://www.unipamplona.edu.co/unipamplona/portalIG/home_74/recursos/administracion-bases-de-datos/15052015/datos2.png\"/>"
   ]
  },
  {
   "cell_type": "markdown",
   "id": "98757c98-fc8c-4941-9fe3-89b5ce6789dd",
   "metadata": {},
   "source": [
    "<img align='middle' src=\"https://www.unipamplona.edu.co/unipamplona/portalIG/home_74/recursos/administracion-bases-de-datos/15052015/datos3.png\"/>"
   ]
  },
  {
   "cell_type": "markdown",
   "id": "0dfa5796-8ea5-47a2-93ac-e7422624f890",
   "metadata": {},
   "source": [
    "## ¿Qué es un registro en una tabla?\n",
    "\n",
    "En SQL, un registro es una fila individual en una tabla que contiene información específica. Cada registro representa una entidad o instancia de los datos almacenados en la tabla.\n",
    "\n",
    "Por ejemplo, si tenemos una tabla llamada `usuarios` con las columnas `id`, `nombre` y `edad`, cada registro en esa tabla sería una fila que contiene los valores correspondientes para cada columna.\n",
    "\n",
    "Un registro se compone de valores para cada columna de la tabla. Cada valor se almacena en una celda dentro del registro.\n",
    "\n",
    "En resumen, un registro en una tabla de SQL es una fila individual que contiene información específica y representa una entidad o instancia de los datos almacenados en la tabla."
   ]
  },
  {
   "cell_type": "markdown",
   "id": "670fd4ce-39c9-45f3-985d-258686a10b6f",
   "metadata": {},
   "source": [
    "<img align='middle' src=\"https://codigosql.top/wp-content/uploads/2020/10/que-es-una-tabla-en-base-de-datos.jpg\"/>"
   ]
  },
  {
   "cell_type": "markdown",
   "id": "e31b93f6-873c-4e97-99a6-19e4ee83ce23",
   "metadata": {},
   "source": [
    "## Comparación entre una tabla SQL y un libro de Excel\n",
    "\n",
    "En SQL, una tabla es una estructura de datos que organiza la información en filas y columnas. Cada fila representa un registro individual y cada columna representa un atributo o campo de datos.\n",
    "\n",
    "Por otro lado, un libro de Excel también organiza la información en filas y columnas, donde cada fila representa un registro y cada columna representa un campo de datos.\n",
    "\n",
    "A continuación, se presentan algunas diferencias clave entre una tabla SQL y un libro de Excel:\n",
    "\n",
    "- **Estructura y esquema:** En SQL, la estructura y el esquema de la tabla están definidos de antemano, lo que significa que se especifican las columnas y los tipos de datos que pueden contener. En un libro de Excel, la estructura y el esquema pueden ser más flexibles y no están estrictamente definidos.\n",
    "\n",
    "- **Capacidad de consulta y manipulación de datos:** SQL proporciona un lenguaje de consulta poderoso que permite realizar consultas complejas, filtrar datos, realizar agregaciones y realizar operaciones de unión entre tablas. En un libro de Excel, las operaciones de consulta y manipulación de datos pueden ser más limitadas y requieren fórmulas y funciones específicas.\n",
    "\n",
    "- **Escalabilidad y rendimiento:** Las bases de datos SQL están diseñadas para manejar grandes volúmenes de datos y ofrecen un rendimiento optimizado para consultas y operaciones de datos. En un libro de Excel, el rendimiento puede verse afectado por el tamaño del archivo y la cantidad de datos.\n",
    "\n",
    "- **Acceso concurrente y seguridad:** Las bases de datos SQL ofrecen mecanismos de control de acceso y seguridad para proteger los datos y permitir el acceso concurrente de múltiples usuarios. En un libro de Excel, el acceso concurrente y la seguridad pueden ser más limitados y dependen de las configuraciones del archivo.\n",
    "\n",
    "En resumen, aunque tanto una tabla SQL como un libro de Excel organizan la información en filas y columnas, existen diferencias significativas en términos de estructura, capacidad de consulta, escalabilidad y seguridad. La elección entre utilizar una tabla SQL o un libro de Excel depende de los requisitos específicos del proyecto y las necesidades de manipulación y análisis de datos."
   ]
  }
 ],
 "metadata": {
  "editor": "DataCamp Workspace",
  "kernelspec": {
   "display_name": "Python 3 (ipykernel)",
   "language": "python",
   "name": "python3"
  },
  "language_info": {
   "codemirror_mode": {
    "name": "ipython",
    "version": 3
   },
   "file_extension": ".py",
   "mimetype": "text/x-python",
   "name": "python",
   "nbconvert_exporter": "python",
   "pygments_lexer": "ipython3",
   "version": "3.11.6"
  }
 },
 "nbformat": 4,
 "nbformat_minor": 5
}
