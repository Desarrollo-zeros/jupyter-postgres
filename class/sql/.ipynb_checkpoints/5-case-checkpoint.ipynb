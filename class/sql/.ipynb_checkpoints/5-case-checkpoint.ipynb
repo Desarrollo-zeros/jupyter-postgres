{
 "cells": [
  {
   "cell_type": "code",
   "execution_count": 1,
   "id": "4af6eddc-22be-4999-b616-677cd9ab55ae",
   "metadata": {
    "customType": "sql",
    "dataFrameVariableName": "df1",
    "executionCancelledAt": null,
    "executionTime": 2150,
    "lastExecutedAt": 1687828390554,
    "lastScheduledRunId": null,
    "lastSuccessfullyExecutedCode": "select * from world.countries",
    "outputsMetadata": {
     "0": {
      "height": 327,
      "type": "dataFrame"
     }
    },
    "sqlCellMode": "dataFrame",
    "sqlSource": {
     "integrationId": "c632441c-e1dc-4637-a56d-10b85efd89be",
     "type": "integration"
    }
   },
   "outputs": [
    {
     "@datacamp/metadata": {
      "executedQuery": "select * from world.countries",
      "executedQueryParameters": []
     },
     "data": {
      "application/com.datacamp.data-table.v1+json": {
       "table": {
        "data": [
         {
          "cap_lat": 34.5228,
          "cap_long": 69.1761,
          "capital": "Kabul",
          "code": "AFG",
          "continent": "Asia",
          "gov_form": "Islamic Emirate",
          "indep_year": 1919,
          "index": 0,
          "local_name": "Afganistan/Afqanestan",
          "name": "Afghanistan",
          "region": "Southern and Central Asia",
          "surface_area": 652090
         },
         {
          "cap_lat": 52.3738,
          "cap_long": 4.89095,
          "capital": "Amsterdam",
          "code": "NLD",
          "continent": "Europe",
          "gov_form": "Constitutional Monarchy",
          "indep_year": 1581,
          "index": 1,
          "local_name": "Nederland",
          "name": "Netherlands",
          "region": "Western Europe",
          "surface_area": 41526
         },
         {
          "cap_lat": 41.3317,
          "cap_long": 19.8172,
          "capital": "Tirane",
          "code": "ALB",
          "continent": "Europe",
          "gov_form": "Republic",
          "indep_year": 1912,
          "index": 2,
          "local_name": "Shqiperia",
          "name": "Albania",
          "region": "Southern Europe",
          "surface_area": 28748
         },
         {
          "cap_lat": 36.7397,
          "cap_long": 3.05097,
          "capital": "Algiers",
          "code": "DZA",
          "continent": "Africa",
          "gov_form": "Republic",
          "indep_year": 1962,
          "index": 3,
          "local_name": "Al-Jazair/Algerie",
          "name": "Algeria",
          "region": "Northern Africa",
          "surface_area": 2381740
         },
         {
          "cap_lat": -14.2846,
          "cap_long": -170.691,
          "capital": "Pago Pago",
          "code": "ASM",
          "continent": "Oceania",
          "gov_form": "US Territory",
          "indep_year": null,
          "index": 4,
          "local_name": "Amerika Samoa",
          "name": "American Samoa",
          "region": "Polynesia",
          "surface_area": 199
         },
         {
          "cap_lat": 42.5075,
          "cap_long": 1.5218,
          "capital": "Andorra la Vella",
          "code": "AND",
          "continent": "Europe",
          "gov_form": "Parliamentary Coprincipality",
          "indep_year": 1278,
          "index": 5,
          "local_name": "Andorra",
          "name": "Andorra",
          "region": "Southern Europe",
          "surface_area": 468
         },
         {
          "cap_lat": -8.81155,
          "cap_long": 13.242,
          "capital": "Luanda",
          "code": "AGO",
          "continent": "Africa",
          "gov_form": "Republic",
          "indep_year": 1975,
          "index": 6,
          "local_name": "Angola",
          "name": "Angola",
          "region": "Central Africa",
          "surface_area": 1246700
         },
         {
          "cap_lat": 17.1175,
          "cap_long": -61.8456,
          "capital": "Saint John's",
          "code": "ATG",
          "continent": "North America",
          "gov_form": "Constitutional Monarchy",
          "indep_year": 1981,
          "index": 7,
          "local_name": "Antigua and Barbuda",
          "name": "Antigua and Barbuda",
          "region": "Caribbean",
          "surface_area": 442
         },
         {
          "cap_lat": 24.4764,
          "cap_long": 54.3705,
          "capital": "Abu Dhabi",
          "code": "ARE",
          "continent": "Asia",
          "gov_form": "Emirate Federation",
          "indep_year": 1971,
          "index": 8,
          "local_name": "Al-Imarat al-´Arabiya al-Muttahida",
          "name": "United Arab Emirates",
          "region": "Middle East",
          "surface_area": 83600
         },
         {
          "cap_lat": -34.6118,
          "cap_long": -58.4173,
          "capital": "Buenos Aires",
          "code": "ARG",
          "continent": "South America",
          "gov_form": "Federal Republic",
          "indep_year": 1816,
          "index": 9,
          "local_name": "Argentina",
          "name": "Argentina",
          "region": "South America",
          "surface_area": 2780400
         },
         {
          "cap_lat": 40.1596,
          "cap_long": 44.509,
          "capital": "Yerevan",
          "code": "ARM",
          "continent": "Asia",
          "gov_form": "Republic",
          "indep_year": 1991,
          "index": 10,
          "local_name": "Hajastan",
          "name": "Armenia",
          "region": "Middle East",
          "surface_area": 29800
         },
         {
          "cap_lat": 12.5167,
          "cap_long": -70.0167,
          "capital": "Oranjestad",
          "code": "ABW",
          "continent": "North America",
          "gov_form": "Nonmetropolitan Territory of The Netherlands",
          "indep_year": null,
          "index": 11,
          "local_name": "Aruba",
          "name": "Aruba",
          "region": "Caribbean",
          "surface_area": 193
         },
         {
          "cap_lat": -35.282,
          "cap_long": 149.129,
          "capital": "Canberra",
          "code": "AUS",
          "continent": "Oceania",
          "gov_form": "Constitutional Monarchy, Federation",
          "indep_year": 1901,
          "index": 12,
          "local_name": "Australia",
          "name": "Australia",
          "region": "Australia and New Zealand",
          "surface_area": 7741220
         },
         {
          "cap_lat": 40.3834,
          "cap_long": 49.8932,
          "capital": "Baku",
          "code": "AZE",
          "continent": "Asia",
          "gov_form": "Federal Republic",
          "indep_year": 1991,
          "index": 13,
          "local_name": "Azarbaycan",
          "name": "Azerbaijan",
          "region": "Middle East",
          "surface_area": 86600
         },
         {
          "cap_lat": 25.0661,
          "cap_long": -77.339,
          "capital": "Nassau",
          "code": "BHS",
          "continent": "North America",
          "gov_form": "Constitutional Monarchy",
          "indep_year": 1973,
          "index": 14,
          "local_name": "The Bahamas",
          "name": "Bahamas",
          "region": "Caribbean",
          "surface_area": 13878
         },
         {
          "cap_lat": 26.1921,
          "cap_long": 50.5354,
          "capital": "Manama",
          "code": "BHR",
          "continent": "Asia",
          "gov_form": "Monarchy (Emirate)",
          "indep_year": 1971,
          "index": 15,
          "local_name": "Al-Bahrayn",
          "name": "Bahrain",
          "region": "Middle East",
          "surface_area": 694
         },
         {
          "cap_lat": 23.7055,
          "cap_long": 90.4113,
          "capital": "Dhaka",
          "code": "BGD",
          "continent": "Asia",
          "gov_form": "Republic",
          "indep_year": 1971,
          "index": 16,
          "local_name": "Bangladesh",
          "name": "Bangladesh",
          "region": "Southern and Central Asia",
          "surface_area": 143998
         },
         {
          "cap_lat": 13.0935,
          "cap_long": -59.6105,
          "capital": "Bridgetown",
          "code": "BRB",
          "continent": "North America",
          "gov_form": "Constitutional Monarchy",
          "indep_year": 1966,
          "index": 17,
          "local_name": "Barbados",
          "name": "Barbados",
          "region": "Caribbean",
          "surface_area": 430
         },
         {
          "cap_lat": 50.8371,
          "cap_long": 4.36761,
          "capital": "Brussels",
          "code": "BEL",
          "continent": "Europe",
          "gov_form": "Constitutional Monarchy, Federation",
          "indep_year": 1830,
          "index": 18,
          "local_name": "Belgie/Belgique",
          "name": "Belgium",
          "region": "Western Europe",
          "surface_area": 30518
         },
         {
          "cap_lat": 17.2534,
          "cap_long": -88.7713,
          "capital": "Belmopan",
          "code": "BLZ",
          "continent": "North America",
          "gov_form": "Constitutional Monarchy",
          "indep_year": 1981,
          "index": 19,
          "local_name": "Belize",
          "name": "Belize",
          "region": "Central America",
          "surface_area": 22696
         },
         {
          "cap_lat": 6.4779,
          "cap_long": 2.6323,
          "capital": "Porto-Novo",
          "code": "BEN",
          "continent": "Africa",
          "gov_form": "Republic",
          "indep_year": 1960,
          "index": 20,
          "local_name": "Benin",
          "name": "Benin",
          "region": "Western Africa",
          "surface_area": 112622
         },
         {
          "cap_lat": 32.3293,
          "cap_long": -64.706,
          "capital": "Hamilton",
          "code": "BMU",
          "continent": "North America",
          "gov_form": "Dependent Territory of the UK",
          "indep_year": null,
          "index": 21,
          "local_name": "Bermuda",
          "name": "Bermuda",
          "region": "North America",
          "surface_area": 53
         },
         {
          "cap_lat": 27.5768,
          "cap_long": 89.6177,
          "capital": "Thimphu",
          "code": "BTN",
          "continent": "Asia",
          "gov_form": "Monarchy",
          "indep_year": 1910,
          "index": 22,
          "local_name": "Druk-Yul",
          "name": "Bhutan",
          "region": "Southern and Central Asia",
          "surface_area": 47000
         },
         {
          "cap_lat": -13.9908,
          "cap_long": -66.1936,
          "capital": "La Paz",
          "code": "BOL",
          "continent": "South America",
          "gov_form": "Republic",
          "indep_year": 1825,
          "index": 23,
          "local_name": "Bolivia",
          "name": "Bolivia",
          "region": "South America",
          "surface_area": 1098580
         },
         {
          "cap_lat": 43.8607,
          "cap_long": 18.4214,
          "capital": "Sarajevo",
          "code": "BIH",
          "continent": "Europe",
          "gov_form": "Federal Republic",
          "indep_year": 1992,
          "index": 24,
          "local_name": "Bosna i Hercegovina",
          "name": "Bosnia and Herzegovina",
          "region": "Southern Europe",
          "surface_area": 51197
         },
         {
          "cap_lat": -24.6544,
          "cap_long": 25.9201,
          "capital": "Gaborone",
          "code": "BWA",
          "continent": "Africa",
          "gov_form": "Republic",
          "indep_year": 1966,
          "index": 25,
          "local_name": "Botswana",
          "name": "Botswana",
          "region": "Southern Africa",
          "surface_area": 581730
         },
         {
          "cap_lat": -15.7801,
          "cap_long": -47.9292,
          "capital": "Brasilia",
          "code": "BRA",
          "continent": "South America",
          "gov_form": "Federal Republic",
          "indep_year": 1822,
          "index": 26,
          "local_name": "Brasil",
          "name": "Brazil",
          "region": "South America",
          "surface_area": 8547400
         },
         {
          "cap_lat": 51.5002,
          "cap_long": -0.126236,
          "capital": "London",
          "code": "GBR",
          "continent": "Europe",
          "gov_form": "Constitutional Monarchy",
          "indep_year": 1066,
          "index": 27,
          "local_name": "United Kingdom",
          "name": "United Kingdom",
          "region": "British Islands",
          "surface_area": 242900
         },
         {
          "cap_lat": 18.431389,
          "cap_long": -64.623056,
          "capital": "Road Town",
          "code": "VGB",
          "continent": "North America",
          "gov_form": "Dependent Territory of the UK",
          "indep_year": null,
          "index": 28,
          "local_name": "British Virgin Islands",
          "name": "Virgin Islands, British",
          "region": "Caribbean",
          "surface_area": 151
         },
         {
          "cap_lat": 4.94199,
          "cap_long": 114.946,
          "capital": "Bandar Seri Begawan",
          "code": "BRN",
          "continent": "Asia",
          "gov_form": "Monarchy (Sultanate)",
          "indep_year": 1984,
          "index": 29,
          "local_name": "Brunei Darussalam",
          "name": "Brunei",
          "region": "Southeast Asia",
          "surface_area": 5765
         },
         {
          "cap_lat": 42.7105,
          "cap_long": 23.3238,
          "capital": "Sofia",
          "code": "BGR",
          "continent": "Europe",
          "gov_form": "Republic",
          "indep_year": 1908,
          "index": 30,
          "local_name": "Balgarija",
          "name": "Bulgaria",
          "region": "Eastern Europe",
          "surface_area": 110994
         },
         {
          "cap_lat": 12.3605,
          "cap_long": -1.53395,
          "capital": "Ouagadougou",
          "code": "BFA",
          "continent": "Africa",
          "gov_form": "Republic",
          "indep_year": 1960,
          "index": 31,
          "local_name": "Burkina Faso",
          "name": "Burkina Faso",
          "region": "Western Africa",
          "surface_area": 274000
         },
         {
          "cap_lat": -3.3784,
          "cap_long": 29.3639,
          "capital": "Bujumbura",
          "code": "BDI",
          "continent": "Africa",
          "gov_form": "Republic",
          "indep_year": 1962,
          "index": 32,
          "local_name": "Burundi/Uburundi",
          "name": "Burundi",
          "region": "Eastern Africa",
          "surface_area": 27834
         },
         {
          "cap_lat": 19.3022,
          "cap_long": -81.3857,
          "capital": "George Town",
          "code": "CYM",
          "continent": "North America",
          "gov_form": "Dependent Territory of the UK",
          "indep_year": null,
          "index": 33,
          "local_name": "Cayman Islands",
          "name": "Cayman Islands",
          "region": "Caribbean",
          "surface_area": 264
         },
         {
          "cap_lat": -33.475,
          "cap_long": -70.6475,
          "capital": "Santiago",
          "code": "CHL",
          "continent": "South America",
          "gov_form": "Republic",
          "indep_year": 1810,
          "index": 34,
          "local_name": "Chile",
          "name": "Chile",
          "region": "South America",
          "surface_area": 756626
         },
         {
          "cap_lat": 9.63701,
          "cap_long": -84.0089,
          "capital": "San Jose",
          "code": "CRI",
          "continent": "North America",
          "gov_form": "Republic",
          "indep_year": 1821,
          "index": 35,
          "local_name": "Costa Rica",
          "name": "Costa Rica",
          "region": "Central America",
          "surface_area": 51100
         },
         {
          "cap_lat": 11.5806,
          "cap_long": 43.1425,
          "capital": "Djibouti",
          "code": "DJI",
          "continent": "Africa",
          "gov_form": "Republic",
          "indep_year": 1977,
          "index": 36,
          "local_name": "Djibouti/Jibuti",
          "name": "Djibouti",
          "region": "Eastern Africa",
          "surface_area": 23200
         },
         {
          "cap_lat": 15.2976,
          "cap_long": -61.39,
          "capital": "Roseau",
          "code": "DMA",
          "continent": "North America",
          "gov_form": "Republic",
          "indep_year": 1978,
          "index": 37,
          "local_name": "Dominica",
          "name": "Dominica",
          "region": "Caribbean",
          "surface_area": 751
         },
         {
          "cap_lat": 18.479,
          "cap_long": -69.8908,
          "capital": "Santo Domingo",
          "code": "DOM",
          "continent": "North America",
          "gov_form": "Republic",
          "indep_year": 1844,
          "index": 38,
          "local_name": "Republica Dominicana",
          "name": "Dominican Republic",
          "region": "Caribbean",
          "surface_area": 48511
         },
         {
          "cap_lat": -0.229498,
          "cap_long": -78.5243,
          "capital": "Quito",
          "code": "ECU",
          "continent": "South America",
          "gov_form": "Republic",
          "indep_year": 1822,
          "index": 39,
          "local_name": "Ecuador",
          "name": "Ecuador",
          "region": "South America",
          "surface_area": 283561
         },
         {
          "cap_lat": 30.0982,
          "cap_long": 31.2461,
          "capital": "Cairo",
          "code": "EGY",
          "continent": "Africa",
          "gov_form": "Republic",
          "indep_year": 1922,
          "index": 40,
          "local_name": "Misr",
          "name": "Egypt",
          "region": "Northern Africa",
          "surface_area": 1001450
         },
         {
          "cap_lat": 13.7034,
          "cap_long": -89.2073,
          "capital": "San Salvador",
          "code": "SLV",
          "continent": "North America",
          "gov_form": "Republic",
          "indep_year": 1841,
          "index": 41,
          "local_name": "El Salvador",
          "name": "El Salvador",
          "region": "Central America",
          "surface_area": 21041
         },
         {
          "cap_lat": 15.3315,
          "cap_long": 38.9183,
          "capital": "Asmara",
          "code": "ERI",
          "continent": "Africa",
          "gov_form": "Republic",
          "indep_year": 1993,
          "index": 42,
          "local_name": "Ertra",
          "name": "Eritrea",
          "region": "Eastern Africa",
          "surface_area": 117600
         },
         {
          "cap_lat": 40.4167,
          "cap_long": -3.70327,
          "capital": "Madrid",
          "code": "ESP",
          "continent": "Europe",
          "gov_form": "Constitutional Monarchy",
          "indep_year": 1492,
          "index": 43,
          "local_name": "Espana",
          "name": "Spain",
          "region": "Southern Europe",
          "surface_area": 505992
         },
         {
          "cap_lat": -25.746,
          "cap_long": 28.1871,
          "capital": "Pretoria",
          "code": "ZAF",
          "continent": "Africa",
          "gov_form": "Republic",
          "indep_year": 1910,
          "index": 44,
          "local_name": "South Africa",
          "name": "South Africa",
          "region": "Southern Africa",
          "surface_area": 1221040
         },
         {
          "cap_lat": 9.02274,
          "cap_long": 38.7468,
          "capital": "Addis Ababa",
          "code": "ETH",
          "continent": "Africa",
          "gov_form": "Republic",
          "indep_year": -1000,
          "index": 45,
          "local_name": "YeItyop´iya",
          "name": "Ethiopia",
          "region": "Eastern Africa",
          "surface_area": 1104300
         },
         {
          "cap_lat": -18.1149,
          "cap_long": 178.399,
          "capital": "Suva",
          "code": "FJI",
          "continent": "Oceania",
          "gov_form": "Republic",
          "indep_year": 1970,
          "index": 46,
          "local_name": "Fiji Islands",
          "name": "Fiji Islands",
          "region": "Melanesia",
          "surface_area": 18274
         },
         {
          "cap_lat": 14.5515,
          "cap_long": 121.035,
          "capital": "Manila",
          "code": "PHL",
          "continent": "Asia",
          "gov_form": "Republic",
          "indep_year": 1946,
          "index": 47,
          "local_name": "Pilipinas",
          "name": "Philippines",
          "region": "Southeast Asia",
          "surface_area": 300000
         },
         {
          "cap_lat": 61.8926,
          "cap_long": -6.91181,
          "capital": "Torshavn",
          "code": "FRO",
          "continent": "Europe",
          "gov_form": "Part of Denmark",
          "indep_year": null,
          "index": 48,
          "local_name": "Foroyar",
          "name": "Faroe Islands",
          "region": "Nordic Countries",
          "surface_area": 1399
         },
         {
          "cap_lat": 0.38832,
          "cap_long": 9.45162,
          "capital": "Libreville",
          "code": "GAB",
          "continent": "Africa",
          "gov_form": "Republic",
          "indep_year": 1960,
          "index": 49,
          "local_name": "Le Gabon",
          "name": "Gabon",
          "region": "Central Africa",
          "surface_area": 267668
         },
         {
          "cap_lat": 13.4495,
          "cap_long": -16.5885,
          "capital": "Banjul",
          "code": "GMB",
          "continent": "Africa",
          "gov_form": "Republic",
          "indep_year": 1965,
          "index": 50,
          "local_name": "The Gambia",
          "name": "Gambia",
          "region": "Western Africa",
          "surface_area": 11295
         },
         {
          "cap_lat": 41.71,
          "cap_long": 44.793,
          "capital": "Tbilisi",
          "code": "GEO",
          "continent": "Asia",
          "gov_form": "Republic",
          "indep_year": 1991,
          "index": 51,
          "local_name": "Sakartvelo",
          "name": "Georgia",
          "region": "Middle East",
          "surface_area": 69700
         },
         {
          "cap_lat": 5.57045,
          "cap_long": -0.20795,
          "capital": "Accra",
          "code": "GHA",
          "continent": "Africa",
          "gov_form": "Republic",
          "indep_year": 1957,
          "index": 52,
          "local_name": "Ghana",
          "name": "Ghana",
          "region": "Western Africa",
          "surface_area": 238533
         },
         {
          "cap_lat": null,
          "cap_long": null,
          "capital": "",
          "code": "GIB",
          "continent": "Europe",
          "gov_form": "Dependent Territory of the UK",
          "indep_year": null,
          "index": 53,
          "local_name": "Gibraltar",
          "name": "Gibraltar",
          "region": "Southern Europe",
          "surface_area": 6
         },
         {
          "cap_lat": 12.0653,
          "cap_long": -61.7449,
          "capital": "Saint George's",
          "code": "GRD",
          "continent": "North America",
          "gov_form": "Constitutional Monarchy",
          "indep_year": 1974,
          "index": 54,
          "local_name": "Grenada",
          "name": "Grenada",
          "region": "Caribbean",
          "surface_area": 344
         },
         {
          "cap_lat": 64.1836,
          "cap_long": -51.7214,
          "capital": "Nuuk",
          "code": "GRL",
          "continent": "North America",
          "gov_form": "Part of Denmark",
          "indep_year": null,
          "index": 55,
          "local_name": "Kalaallit Nunaat/Gronland",
          "name": "Greenland",
          "region": "North America",
          "surface_area": 2166090
         },
         {
          "cap_lat": 13.4443,
          "cap_long": 144.794,
          "capital": "Agana",
          "code": "GUM",
          "continent": "Oceania",
          "gov_form": "US Territory",
          "indep_year": null,
          "index": 56,
          "local_name": "Guam",
          "name": "Guam",
          "region": "Micronesia",
          "surface_area": 549
         },
         {
          "cap_lat": 14.6248,
          "cap_long": -90.5328,
          "capital": "Guatemala City",
          "code": "GTM",
          "continent": "North America",
          "gov_form": "Republic",
          "indep_year": 1821,
          "index": 57,
          "local_name": "Guatemala",
          "name": "Guatemala",
          "region": "Central America",
          "surface_area": 108889
         },
         {
          "cap_lat": 9.51667,
          "cap_long": -13.7,
          "capital": "Conakry",
          "code": "GIN",
          "continent": "Africa",
          "gov_form": "Republic",
          "indep_year": 1958,
          "index": 58,
          "local_name": "Guinee",
          "name": "Guinea",
          "region": "Western Africa",
          "surface_area": 245857
         },
         {
          "cap_lat": 11.8037,
          "cap_long": -15.1804,
          "capital": "Bissau",
          "code": "GNB",
          "continent": "Africa",
          "gov_form": "Republic",
          "indep_year": 1974,
          "index": 59,
          "local_name": "Guine-Bissau",
          "name": "Guinea-Bissau",
          "region": "Western Africa",
          "surface_area": 36125
         },
         {
          "cap_lat": 6.80461,
          "cap_long": -58.1548,
          "capital": "Georgetown",
          "code": "GUY",
          "continent": "South America",
          "gov_form": "Republic",
          "indep_year": 1966,
          "index": 60,
          "local_name": "Guyana",
          "name": "Guyana",
          "region": "South America",
          "surface_area": 214969
         },
         {
          "cap_lat": 18.5392,
          "cap_long": -72.3288,
          "capital": "Port-au-Prince",
          "code": "HTI",
          "continent": "North America",
          "gov_form": "Republic",
          "indep_year": 1804,
          "index": 61,
          "local_name": "Haiti/Dayti",
          "name": "Haiti",
          "region": "Caribbean",
          "surface_area": 27750
         },
         {
          "cap_lat": 15.1333,
          "cap_long": -87.4667,
          "capital": "Tegucigalpa",
          "code": "HND",
          "continent": "North America",
          "gov_form": "Republic",
          "indep_year": 1838,
          "index": 62,
          "local_name": "Honduras",
          "name": "Honduras",
          "region": "Central America",
          "surface_area": 112088
         },
         {
          "cap_lat": -6.19752,
          "cap_long": 106.83,
          "capital": "Jakarta",
          "code": "IDN",
          "continent": "Asia",
          "gov_form": "Republic",
          "indep_year": 1945,
          "index": 63,
          "local_name": "Indonesia",
          "name": "Indonesia",
          "region": "Southeast Asia",
          "surface_area": 1904570
         },
         {
          "cap_lat": 28.6353,
          "cap_long": 77.225,
          "capital": "New Delhi",
          "code": "IND",
          "continent": "Asia",
          "gov_form": "Federal Republic",
          "indep_year": 1947,
          "index": 64,
          "local_name": "Bharat/India",
          "name": "India",
          "region": "Southern and Central Asia",
          "surface_area": 3287260
         },
         {
          "cap_lat": 33.3302,
          "cap_long": 44.394,
          "capital": "Baghdad",
          "code": "IRQ",
          "continent": "Asia",
          "gov_form": "Republic",
          "indep_year": 1932,
          "index": 65,
          "local_name": "Al-´Iraq",
          "name": "Iraq",
          "region": "Middle East",
          "surface_area": 438317
         },
         {
          "cap_lat": 35.6878,
          "cap_long": 51.4447,
          "capital": "Tehran",
          "code": "IRN",
          "continent": "Asia",
          "gov_form": "Islamic Republic",
          "indep_year": 1906,
          "index": 66,
          "local_name": "Iran",
          "name": "Iran",
          "region": "Southern and Central Asia",
          "surface_area": 1648200
         },
         {
          "cap_lat": 53.3441,
          "cap_long": -6.26749,
          "capital": "Dublin",
          "code": "IRL",
          "continent": "Europe",
          "gov_form": "Republic",
          "indep_year": 1921,
          "index": 67,
          "local_name": "Ireland/Eire",
          "name": "Ireland",
          "region": "British Islands",
          "surface_area": 70273
         },
         {
          "cap_lat": 64.1353,
          "cap_long": -21.8952,
          "capital": "Reykjavik",
          "code": "ISL",
          "continent": "Europe",
          "gov_form": "Republic",
          "indep_year": 1944,
          "index": 68,
          "local_name": "Island",
          "name": "Iceland",
          "region": "Nordic Countries",
          "surface_area": 103000
         },
         {
          "cap_lat": 31.7717,
          "cap_long": 35.2035,
          "capital": "",
          "code": "ISR",
          "continent": "Asia",
          "gov_form": "Republic",
          "indep_year": 1948,
          "index": 69,
          "local_name": "Yisrael/Israil",
          "name": "Israel",
          "region": "Middle East",
          "surface_area": 21056
         },
         {
          "cap_lat": 41.8955,
          "cap_long": 12.4823,
          "capital": "Rome",
          "code": "ITA",
          "continent": "Europe",
          "gov_form": "Republic",
          "indep_year": 1861,
          "index": 70,
          "local_name": "Italia",
          "name": "Italy",
          "region": "Southern Europe",
          "surface_area": 301316
         },
         {
          "cap_lat": 48.2201,
          "cap_long": 16.3798,
          "capital": "Vienna",
          "code": "AUT",
          "continent": "Europe",
          "gov_form": "Federal Republic",
          "indep_year": 1918,
          "index": 71,
          "local_name": "Osterreich",
          "name": "Austria",
          "region": "Western Europe",
          "surface_area": 83859
         },
         {
          "cap_lat": 17.9927,
          "cap_long": -76.792,
          "capital": "Kingston",
          "code": "JAM",
          "continent": "North America",
          "gov_form": "Constitutional Monarchy",
          "indep_year": 1962,
          "index": 72,
          "local_name": "Jamaica",
          "name": "Jamaica",
          "region": "Caribbean",
          "surface_area": 10990
         },
         {
          "cap_lat": 35.67,
          "cap_long": 139.77,
          "capital": "Tokyo",
          "code": "JPN",
          "continent": "Asia",
          "gov_form": "Constitutional Monarchy",
          "indep_year": -660,
          "index": 73,
          "local_name": "Nihon/Nippon",
          "name": "Japan",
          "region": "Eastern Asia",
          "surface_area": 377829
         },
         {
          "cap_lat": 15.352,
          "cap_long": 44.2075,
          "capital": "Sana'a",
          "code": "YEM",
          "continent": "Asia",
          "gov_form": "Republic",
          "indep_year": 1918,
          "index": 74,
          "local_name": "Al-Yaman",
          "name": "Yemen",
          "region": "Middle East",
          "surface_area": 527968
         },
         {
          "cap_lat": 31.9497,
          "cap_long": 35.9263,
          "capital": "Amman",
          "code": "JOR",
          "continent": "Asia",
          "gov_form": "Constitutional Monarchy",
          "indep_year": 1946,
          "index": 75,
          "local_name": "Al-Urdunn",
          "name": "Jordan",
          "region": "Middle East",
          "surface_area": 88946
         },
         {
          "cap_lat": 11.5556,
          "cap_long": 104.874,
          "capital": "Phnom Penh",
          "code": "KHM",
          "continent": "Asia",
          "gov_form": "Constitutional Monarchy",
          "indep_year": 1953,
          "index": 76,
          "local_name": "Kampuchea",
          "name": "Cambodia",
          "region": "Southeast Asia",
          "surface_area": 181035
         },
         {
          "cap_lat": 3.8721,
          "cap_long": 11.5174,
          "capital": "Yaounde",
          "code": "CMR",
          "continent": "Africa",
          "gov_form": "Republic",
          "indep_year": 1960,
          "index": 77,
          "local_name": "Cameroun/Cameroon",
          "name": "Cameroon",
          "region": "Central Africa",
          "surface_area": 475442
         },
         {
          "cap_lat": 45.4215,
          "cap_long": -75.6919,
          "capital": "Ottawa",
          "code": "CAN",
          "continent": "North America",
          "gov_form": "Constitutional Monarchy, Federation",
          "indep_year": 1867,
          "index": 78,
          "local_name": "Canada",
          "name": "Canada",
          "region": "North America",
          "surface_area": 9970610
         },
         {
          "cap_lat": 14.9218,
          "cap_long": -23.5087,
          "capital": "Praia",
          "code": "CPV",
          "continent": "Africa",
          "gov_form": "Republic",
          "indep_year": 1975,
          "index": 79,
          "local_name": "Cabo Verde",
          "name": "Cape Verde",
          "region": "Western Africa",
          "surface_area": 4033
         },
         {
          "cap_lat": 51.1879,
          "cap_long": 71.4382,
          "capital": "Astana",
          "code": "KAZ",
          "continent": "Asia",
          "gov_form": "Republic",
          "indep_year": 1991,
          "index": 80,
          "local_name": "Qazaqstan",
          "name": "Kazakhstan",
          "region": "Southern and Central Asia",
          "surface_area": 2724900
         },
         {
          "cap_lat": -1.27975,
          "cap_long": 36.8126,
          "capital": "Nairobi",
          "code": "KEN",
          "continent": "Africa",
          "gov_form": "Republic",
          "indep_year": 1963,
          "index": 81,
          "local_name": "Kenya",
          "name": "Kenya",
          "region": "Eastern Africa",
          "surface_area": 580367
         },
         {
          "cap_lat": 5.63056,
          "cap_long": 21.6407,
          "capital": "Bangui",
          "code": "CAF",
          "continent": "Africa",
          "gov_form": "Republic",
          "indep_year": 1960,
          "index": 82,
          "local_name": "Centrafrique/Be-Afrika",
          "name": "Central African Republic",
          "region": "Central Africa",
          "surface_area": 622984
         },
         {
          "cap_lat": 40.0495,
          "cap_long": 116.286,
          "capital": "Beijing",
          "code": "CHN",
          "continent": "Asia",
          "gov_form": "People'sRepublic",
          "indep_year": -1523,
          "index": 83,
          "local_name": "Zhongquo",
          "name": "China",
          "region": "Eastern Asia",
          "surface_area": 9572900
         },
         {
          "cap_lat": 42.8851,
          "cap_long": 74.6057,
          "capital": "Bishkek",
          "code": "KGZ",
          "continent": "Asia",
          "gov_form": "Republic",
          "indep_year": 1991,
          "index": 84,
          "local_name": "Kyrgyzstan",
          "name": "Kyrgyzstan",
          "region": "Southern and Central Asia",
          "surface_area": 199900
         },
         {
          "cap_lat": 1.32905,
          "cap_long": 172.979,
          "capital": "Tarawa",
          "code": "KIR",
          "continent": "Oceania",
          "gov_form": "Republic",
          "indep_year": 1979,
          "index": 85,
          "local_name": "Kiribati",
          "name": "Kiribati",
          "region": "Micronesia",
          "surface_area": 726
         },
         {
          "cap_lat": 4.60987,
          "cap_long": -74.082,
          "capital": "Bogota",
          "code": "COL",
          "continent": "South America",
          "gov_form": "Republic",
          "indep_year": 1810,
          "index": 86,
          "local_name": "Colombia",
          "name": "Colombia",
          "region": "South America",
          "surface_area": 1138910
         },
         {
          "cap_lat": -11.6986,
          "cap_long": 43.2418,
          "capital": "Moroni",
          "code": "COM",
          "continent": "Africa",
          "gov_form": "Republic",
          "indep_year": 1975,
          "index": 87,
          "local_name": "Komori/Comores",
          "name": "Comoros",
          "region": "Eastern Africa",
          "surface_area": 1862
         },
         {
          "cap_lat": -4.2767,
          "cap_long": 15.2662,
          "capital": "Brazzaville",
          "code": "COG",
          "continent": "Africa",
          "gov_form": "Republic",
          "indep_year": 1960,
          "index": 88,
          "local_name": "Congo",
          "name": "Congo",
          "region": "Central Africa",
          "surface_area": 342000
         },
         {
          "cap_lat": -4.325,
          "cap_long": 15.3222,
          "capital": "Kinshasa",
          "code": "COD",
          "continent": "Africa",
          "gov_form": "Republic",
          "indep_year": 1960,
          "index": 89,
          "local_name": "Republique Democratique du Congo",
          "name": "Congo, The Democratic Republic of the",
          "region": "Central Africa",
          "surface_area": 2344860
         },
         {
          "cap_lat": 39.0319,
          "cap_long": 125.754,
          "capital": "Pyongyang",
          "code": "PRK",
          "continent": "Asia",
          "gov_form": "Socialistic Republic",
          "indep_year": 1948,
          "index": 90,
          "local_name": "Choson Minjujuui In´min Konghwaguk (Bukhan)",
          "name": "North Korea",
          "region": "Eastern Asia",
          "surface_area": 120538
         },
         {
          "cap_lat": 37.5323,
          "cap_long": 126.957,
          "capital": "Seoul",
          "code": "KOR",
          "continent": "Asia",
          "gov_form": "Republic",
          "indep_year": 1948,
          "index": 91,
          "local_name": "Taehan Minguk (Namhan)",
          "name": "South Korea",
          "region": "Eastern Asia",
          "surface_area": 99434
         },
         {
          "cap_lat": 37.9792,
          "cap_long": 23.7166,
          "capital": "Athens",
          "code": "GRC",
          "continent": "Europe",
          "gov_form": "Republic",
          "indep_year": 1830,
          "index": 92,
          "local_name": "Ellada",
          "name": "Greece",
          "region": "Southern Europe",
          "surface_area": 131626
         },
         {
          "cap_lat": 45.8069,
          "cap_long": 15.9614,
          "capital": "Zagreb",
          "code": "HRV",
          "continent": "Europe",
          "gov_form": "Republic",
          "indep_year": 1991,
          "index": 93,
          "local_name": "Hrvatska",
          "name": "Croatia",
          "region": "Southern Europe",
          "surface_area": 56538
         },
         {
          "cap_lat": 23.1333,
          "cap_long": -82.3667,
          "capital": "Havana",
          "code": "CUB",
          "continent": "North America",
          "gov_form": "Socialistic Republic",
          "indep_year": 1902,
          "index": 94,
          "local_name": "Cuba",
          "name": "Cuba",
          "region": "Caribbean",
          "surface_area": 110861
         },
         {
          "cap_lat": 29.3721,
          "cap_long": 47.9824,
          "capital": "Kuwait City",
          "code": "KWT",
          "continent": "Asia",
          "gov_form": "Constitutional Monarchy (Emirate)",
          "indep_year": 1961,
          "index": 95,
          "local_name": "Al-Kuwayt",
          "name": "Kuwait",
          "region": "Middle East",
          "surface_area": 17818
         },
         {
          "cap_lat": 35.1676,
          "cap_long": 33.3736,
          "capital": "Nicosia",
          "code": "CYP",
          "continent": "Asia",
          "gov_form": "Republic",
          "indep_year": 1960,
          "index": 96,
          "local_name": "Kypros/Kibris",
          "name": "Cyprus",
          "region": "Middle East",
          "surface_area": 9251
         },
         {
          "cap_lat": 18.5826,
          "cap_long": 102.177,
          "capital": "Vientiane",
          "code": "LAO",
          "continent": "Asia",
          "gov_form": "Republic",
          "indep_year": 1953,
          "index": 97,
          "local_name": "Lao",
          "name": "Laos",
          "region": "Southeast Asia",
          "surface_area": 236800
         },
         {
          "cap_lat": 56.9465,
          "cap_long": 24.1048,
          "capital": "Riga",
          "code": "LVA",
          "continent": "Europe",
          "gov_form": "Republic",
          "indep_year": 1991,
          "index": 98,
          "local_name": "Latvija",
          "name": "Latvia",
          "region": "Baltic Countries",
          "surface_area": 64589
         },
         {
          "cap_lat": -29.5208,
          "cap_long": 27.7167,
          "capital": "Maseru",
          "code": "LSO",
          "continent": "Africa",
          "gov_form": "Constitutional Monarchy",
          "indep_year": 1966,
          "index": 99,
          "local_name": "Lesotho",
          "name": "Lesotho",
          "region": "Southern Africa",
          "surface_area": 30355
         },
         {
          "cap_lat": 33.8872,
          "cap_long": 35.5134,
          "capital": "Beirut",
          "code": "LBN",
          "continent": "Asia",
          "gov_form": "Republic",
          "indep_year": 1941,
          "index": 100,
          "local_name": "Lubnan",
          "name": "Lebanon",
          "region": "Middle East",
          "surface_area": 10400
         },
         {
          "cap_lat": 6.30039,
          "cap_long": -10.7957,
          "capital": "Monrovia",
          "code": "LBR",
          "continent": "Africa",
          "gov_form": "Republic",
          "indep_year": 1847,
          "index": 101,
          "local_name": "Liberia",
          "name": "Liberia",
          "region": "Western Africa",
          "surface_area": 111369
         },
         {
          "cap_lat": 32.8578,
          "cap_long": 13.1072,
          "capital": "Tripoli",
          "code": "LBY",
          "continent": "Africa",
          "gov_form": "Socialistic State",
          "indep_year": 1951,
          "index": 102,
          "local_name": "Libiya",
          "name": "Libya",
          "region": "Northern Africa",
          "surface_area": 1759540
         },
         {
          "cap_lat": 47.1411,
          "cap_long": 9.52148,
          "capital": "Vaduz",
          "code": "LIE",
          "continent": "Europe",
          "gov_form": "Constitutional Monarchy",
          "indep_year": 1806,
          "index": 103,
          "local_name": "Liechtenstein",
          "name": "Liechtenstein",
          "region": "Western Europe",
          "surface_area": 160
         },
         {
          "cap_lat": 54.6896,
          "cap_long": 25.2799,
          "capital": "Vilnius",
          "code": "LTU",
          "continent": "Europe",
          "gov_form": "Republic",
          "indep_year": 1991,
          "index": 104,
          "local_name": "Lietuva",
          "name": "Lithuania",
          "region": "Baltic Countries",
          "surface_area": 65301
         },
         {
          "cap_lat": 49.61,
          "cap_long": 6.1296,
          "capital": "Luxembourg",
          "code": "LUX",
          "continent": "Europe",
          "gov_form": "Constitutional Monarchy",
          "indep_year": 1867,
          "index": 105,
          "local_name": "Luxembourg/Letzebuerg",
          "name": "Luxembourg",
          "region": "Western Europe",
          "surface_area": 2586
         },
         {
          "cap_lat": 22.1667,
          "cap_long": 113.55,
          "capital": "",
          "code": "MAC",
          "continent": "Asia",
          "gov_form": "Special Administrative Region of China",
          "indep_year": null,
          "index": 106,
          "local_name": "Macau/Aomen",
          "name": "Macao",
          "region": "Eastern Asia",
          "surface_area": 18
         },
         {
          "cap_lat": -20.4667,
          "cap_long": 45.7167,
          "capital": "Antananarivo",
          "code": "MDG",
          "continent": "Africa",
          "gov_form": "Federal Republic",
          "indep_year": 1960,
          "index": 107,
          "local_name": "Madagasikara/Madagascar",
          "name": "Madagascar",
          "region": "Eastern Africa",
          "surface_area": 587041
         },
         {
          "cap_lat": 42.0024,
          "cap_long": 21.4361,
          "capital": "Skopje",
          "code": "MKD",
          "continent": "Europe",
          "gov_form": "Republic",
          "indep_year": 1991,
          "index": 108,
          "local_name": "Makedonija",
          "name": "Macedonia",
          "region": "Southern Europe",
          "surface_area": 25713
         },
         {
          "cap_lat": -13.9899,
          "cap_long": 33.7703,
          "capital": "Lilongwe",
          "code": "MWI",
          "continent": "Africa",
          "gov_form": "Republic",
          "indep_year": 1964,
          "index": 109,
          "local_name": "Malawi",
          "name": "Malawi",
          "region": "Eastern Africa",
          "surface_area": 118484
         },
         {
          "cap_lat": 4.1742,
          "cap_long": 73.5109,
          "capital": "Male",
          "code": "MDV",
          "continent": "Asia",
          "gov_form": "Republic",
          "indep_year": 1965,
          "index": 110,
          "local_name": "Dhivehi Raajje/Maldives",
          "name": "Maldives",
          "region": "Southern and Central Asia",
          "surface_area": 298
         },
         {
          "cap_lat": 3.12433,
          "cap_long": 101.684,
          "capital": "Kuala Lumpur",
          "code": "MYS",
          "continent": "Asia",
          "gov_form": "Constitutional Monarchy, Federation",
          "indep_year": 1957,
          "index": 111,
          "local_name": "Malaysia",
          "name": "Malaysia",
          "region": "Southeast Asia",
          "surface_area": 329758
         },
         {
          "cap_lat": 13.5667,
          "cap_long": -7.50034,
          "capital": "Bamako",
          "code": "MLI",
          "continent": "Africa",
          "gov_form": "Republic",
          "indep_year": 1960,
          "index": 112,
          "local_name": "Mali",
          "name": "Mali",
          "region": "Western Africa",
          "surface_area": 1240190
         },
         {
          "cap_lat": 35.9042,
          "cap_long": 14.5189,
          "capital": "Valletta",
          "code": "MLT",
          "continent": "Europe",
          "gov_form": "Republic",
          "indep_year": 1964,
          "index": 113,
          "local_name": "Malta",
          "name": "Malta",
          "region": "Southern Europe",
          "surface_area": 316
         },
         {
          "cap_lat": 33.9905,
          "cap_long": -6.8704,
          "capital": "Rabat",
          "code": "MAR",
          "continent": "Africa",
          "gov_form": "Constitutional Monarchy",
          "indep_year": 1956,
          "index": 114,
          "local_name": "Al-Maghrib",
          "name": "Morocco",
          "region": "Northern Africa",
          "surface_area": 446550
         },
         {
          "cap_lat": 7.11046,
          "cap_long": 171.135,
          "capital": "Majuro",
          "code": "MHL",
          "continent": "Oceania",
          "gov_form": "Republic",
          "indep_year": 1990,
          "index": 115,
          "local_name": "Marshall Islands/Majol",
          "name": "Marshall Islands",
          "region": "Micronesia",
          "surface_area": 181
         },
         {
          "cap_lat": 18.2367,
          "cap_long": -15.9824,
          "capital": "Nouakchott",
          "code": "MRT",
          "continent": "Africa",
          "gov_form": "Republic",
          "indep_year": 1960,
          "index": 116,
          "local_name": "Muritaniya/Mauritanie",
          "name": "Mauritania",
          "region": "Western Africa",
          "surface_area": 1025520
         },
         {
          "cap_lat": -20.1605,
          "cap_long": 57.4977,
          "capital": "Port Louis",
          "code": "MUS",
          "continent": "Africa",
          "gov_form": "Republic",
          "indep_year": 1968,
          "index": 117,
          "local_name": "Mauritius",
          "name": "Mauritius",
          "region": "Eastern Africa",
          "surface_area": 2040
         },
         {
          "cap_lat": 19.427,
          "cap_long": -99.1276,
          "capital": "Mexico City",
          "code": "MEX",
          "continent": "North America",
          "gov_form": "Federal Republic",
          "indep_year": 1810,
          "index": 118,
          "local_name": "Mexico",
          "name": "Mexico",
          "region": "Central America",
          "surface_area": 1958200
         },
         {
          "cap_lat": 6.91771,
          "cap_long": 158.185,
          "capital": "Palikir",
          "code": "FSM",
          "continent": "Oceania",
          "gov_form": "Federal Republic",
          "indep_year": 1990,
          "index": 119,
          "local_name": "Micronesia",
          "name": "Micronesia, Federated States of",
          "region": "Micronesia",
          "surface_area": 702
         },
         {
          "cap_lat": 47.0167,
          "cap_long": 28.8497,
          "capital": "Chisinau",
          "code": "MDA",
          "continent": "Europe",
          "gov_form": "Republic",
          "indep_year": 1991,
          "index": 120,
          "local_name": "Moldova",
          "name": "Moldova",
          "region": "Eastern Europe",
          "surface_area": 33851
         },
         {
          "cap_lat": 43.7325,
          "cap_long": 7.41891,
          "capital": "Monaco",
          "code": "MCO",
          "continent": "Europe",
          "gov_form": "Constitutional Monarchy",
          "indep_year": 1861,
          "index": 121,
          "local_name": "Monaco",
          "name": "Monaco",
          "region": "Western Europe",
          "surface_area": 2
         },
         {
          "cap_lat": 47.9129,
          "cap_long": 106.937,
          "capital": "Ulaanbaatar",
          "code": "MNG",
          "continent": "Asia",
          "gov_form": "Republic",
          "indep_year": 1921,
          "index": 122,
          "local_name": "Mongol Uls",
          "name": "Mongolia",
          "region": "Eastern Asia",
          "surface_area": 1566500
         },
         {
          "cap_lat": -25.9664,
          "cap_long": 32.5713,
          "capital": "Maputo",
          "code": "MOZ",
          "continent": "Africa",
          "gov_form": "Republic",
          "indep_year": 1975,
          "index": 123,
          "local_name": "Mocambique",
          "name": "Mozambique",
          "region": "Eastern Africa",
          "surface_area": 801590
         },
         {
          "cap_lat": 21.914,
          "cap_long": 95.9562,
          "capital": "Naypyidaw",
          "code": "MMR",
          "continent": "Asia",
          "gov_form": "Republic",
          "indep_year": 1948,
          "index": 124,
          "local_name": "Myanma Pye",
          "name": "Myanmar",
          "region": "Southeast Asia",
          "surface_area": 676578
         },
         {
          "cap_lat": -22.5648,
          "cap_long": 17.0931,
          "capital": "Windhoek",
          "code": "NAM",
          "continent": "Africa",
          "gov_form": "Republic",
          "indep_year": 1990,
          "index": 125,
          "local_name": "Namibia",
          "name": "Namibia",
          "region": "Southern Africa",
          "surface_area": 824292
         },
         {
          "cap_lat": -0.5477,
          "cap_long": 166.920867,
          "capital": "Yaren District",
          "code": "NRU",
          "continent": "Oceania",
          "gov_form": "Republic",
          "indep_year": 1968,
          "index": 126,
          "local_name": "Naoero/Nauru",
          "name": "Nauru",
          "region": "Micronesia",
          "surface_area": 21
         },
         {
          "cap_lat": 27.6939,
          "cap_long": 85.3157,
          "capital": "Kathmandu",
          "code": "NPL",
          "continent": "Asia",
          "gov_form": "Constitutional Monarchy",
          "indep_year": 1769,
          "index": 127,
          "local_name": "Nepal",
          "name": "Nepal",
          "region": "Southern and Central Asia",
          "surface_area": 147181
         },
         {
          "cap_lat": 12.1475,
          "cap_long": -86.2734,
          "capital": "Managua",
          "code": "NIC",
          "continent": "North America",
          "gov_form": "Republic",
          "indep_year": 1838,
          "index": 128,
          "local_name": "Nicaragua",
          "name": "Nicaragua",
          "region": "Central America",
          "surface_area": 130000
         },
         {
          "cap_lat": 13.514,
          "cap_long": 2.1073,
          "capital": "Niamey",
          "code": "NER",
          "continent": "Africa",
          "gov_form": "Republic",
          "indep_year": 1960,
          "index": 129,
          "local_name": "Niger",
          "name": "Niger",
          "region": "Western Africa",
          "surface_area": 1267000
         },
         {
          "cap_lat": 9.05804,
          "cap_long": 7.48906,
          "capital": "Abuja",
          "code": "NGA",
          "continent": "Africa",
          "gov_form": "Federal Republic",
          "indep_year": 1960,
          "index": 130,
          "local_name": "Nigeria",
          "name": "Nigeria",
          "region": "Western Africa",
          "surface_area": 923768
         },
         {
          "cap_lat": 59.9138,
          "cap_long": 10.7387,
          "capital": "Oslo",
          "code": "NOR",
          "continent": "Europe",
          "gov_form": "Constitutional Monarchy",
          "indep_year": 1905,
          "index": 131,
          "local_name": "Norge",
          "name": "Norway",
          "region": "Nordic Countries",
          "surface_area": 323877
         },
         {
          "cap_lat": 5.332,
          "cap_long": -4.0305,
          "capital": "Yamoussoukro",
          "code": "CIV",
          "continent": "Africa",
          "gov_form": "Republic",
          "indep_year": 1960,
          "index": 132,
          "local_name": "Cote dIvoire",
          "name": "Cote d'Ivoire",
          "region": "Western Africa",
          "surface_area": 322463
         },
         {
          "cap_lat": 23.6105,
          "cap_long": 58.5874,
          "capital": "Muscat",
          "code": "OMN",
          "continent": "Asia",
          "gov_form": "Monarchy (Sultanate)",
          "indep_year": 1951,
          "index": 133,
          "local_name": "´Uman",
          "name": "Oman",
          "region": "Middle East",
          "surface_area": 309500
         },
         {
          "cap_lat": 30.5167,
          "cap_long": 72.8,
          "capital": "Islamabad",
          "code": "PAK",
          "continent": "Asia",
          "gov_form": "Republic",
          "indep_year": 1947,
          "index": 134,
          "local_name": "Pakistan",
          "name": "Pakistan",
          "region": "Southern and Central Asia",
          "surface_area": 796095
         },
         {
          "cap_lat": 7.34194,
          "cap_long": 134.479,
          "capital": "Koror",
          "code": "PLW",
          "continent": "Oceania",
          "gov_form": "Republic",
          "indep_year": 1994,
          "index": 135,
          "local_name": "Belau/Palau",
          "name": "Palau",
          "region": "Micronesia",
          "surface_area": 459
         },
         {
          "cap_lat": 8.99427,
          "cap_long": -79.5188,
          "capital": "Panama City",
          "code": "PAN",
          "continent": "North America",
          "gov_form": "Republic",
          "indep_year": 1903,
          "index": 136,
          "local_name": "Panama",
          "name": "Panama",
          "region": "Central America",
          "surface_area": 75517
         },
         {
          "cap_lat": -9.47357,
          "cap_long": 147.194,
          "capital": "Port Moresby",
          "code": "PNG",
          "continent": "Oceania",
          "gov_form": "Constitutional Monarchy",
          "indep_year": 1975,
          "index": 137,
          "local_name": "Papua New Guinea/Papua Niugini",
          "name": "Papua New Guinea",
          "region": "Melanesia",
          "surface_area": 462840
         },
         {
          "cap_lat": -25.3005,
          "cap_long": -57.6362,
          "capital": "Asuncion",
          "code": "PRY",
          "continent": "South America",
          "gov_form": "Republic",
          "indep_year": 1811,
          "index": 138,
          "local_name": "Paraguay",
          "name": "Paraguay",
          "region": "South America",
          "surface_area": 406752
         },
         {
          "cap_lat": -12.0931,
          "cap_long": -77.0465,
          "capital": "Lima",
          "code": "PER",
          "continent": "South America",
          "gov_form": "Republic",
          "indep_year": 1821,
          "index": 139,
          "local_name": "Peru/Piruw",
          "name": "Peru",
          "region": "South America",
          "surface_area": 1285220
         },
         {
          "cap_lat": 15.1935,
          "cap_long": 145.765,
          "capital": "Saipan",
          "code": "MNP",
          "continent": "Oceania",
          "gov_form": "Commonwealth of the US",
          "indep_year": null,
          "index": 140,
          "local_name": "Northern Mariana Islands",
          "name": "Northern Mariana Islands",
          "region": "Micronesia",
          "surface_area": 464
         },
         {
          "cap_lat": 38.7072,
          "cap_long": -9.13552,
          "capital": "Lisbon",
          "code": "PRT",
          "continent": "Europe",
          "gov_form": "Republic",
          "indep_year": 1143,
          "index": 141,
          "local_name": "Portugal",
          "name": "Portugal",
          "region": "Southern Europe",
          "surface_area": 91982
         },
         {
          "cap_lat": 18.23,
          "cap_long": -66,
          "capital": "San Juan",
          "code": "PRI",
          "continent": "North America",
          "gov_form": "Commonwealth of the US",
          "indep_year": null,
          "index": 142,
          "local_name": "Puerto Rico",
          "name": "Puerto Rico",
          "region": "Caribbean",
          "surface_area": 8875
         },
         {
          "cap_lat": 52.26,
          "cap_long": 21.02,
          "capital": "Warsaw",
          "code": "POL",
          "continent": "Europe",
          "gov_form": "Republic",
          "indep_year": 1918,
          "index": 143,
          "local_name": "Polska",
          "name": "Poland",
          "region": "Eastern Europe",
          "surface_area": 323250
         },
         {
          "cap_lat": 3.7523,
          "cap_long": 8.7741,
          "capital": "Malabo",
          "code": "GNQ",
          "continent": "Africa",
          "gov_form": "Republic",
          "indep_year": 1968,
          "index": 144,
          "local_name": "Guinea Ecuatorial",
          "name": "Equatorial Guinea",
          "region": "Central Africa",
          "surface_area": 28051
         },
         {
          "cap_lat": 25.2948,
          "cap_long": 51.5082,
          "capital": "Doha",
          "code": "QAT",
          "continent": "Asia",
          "gov_form": "Monarchy",
          "indep_year": 1971,
          "index": 145,
          "local_name": "Qatar",
          "name": "Qatar",
          "region": "Middle East",
          "surface_area": 11000
         },
         {
          "cap_lat": 48.8566,
          "cap_long": 2.35097,
          "capital": "Paris",
          "code": "FRA",
          "continent": "Europe",
          "gov_form": "Republic",
          "indep_year": 843,
          "index": 146,
          "local_name": "France",
          "name": "France",
          "region": "Western Europe",
          "surface_area": 551500
         },
         {
          "cap_lat": -17.535,
          "cap_long": -149.57,
          "capital": "Papeete",
          "code": "PYF",
          "continent": "Oceania",
          "gov_form": "Nonmetropolitan Territory of France",
          "indep_year": null,
          "index": 147,
          "local_name": "Polynesie francaise",
          "name": "French Polynesia",
          "region": "Polynesia",
          "surface_area": 4000
         },
         {
          "cap_lat": -1.95325,
          "cap_long": 30.0587,
          "capital": "Kigali",
          "code": "RWA",
          "continent": "Africa",
          "gov_form": "Republic",
          "indep_year": 1962,
          "index": 148,
          "local_name": "Rwanda/Urwanda",
          "name": "Rwanda",
          "region": "Eastern Africa",
          "surface_area": 26338
         },
         {
          "cap_lat": 59.3327,
          "cap_long": 18.0645,
          "capital": "Stockholm",
          "code": "SWE",
          "continent": "Europe",
          "gov_form": "Constitutional Monarchy",
          "indep_year": 836,
          "index": 149,
          "local_name": "Sverige",
          "name": "Sweden",
          "region": "Nordic Countries",
          "surface_area": 449964
         },
         {
          "cap_lat": 17.3,
          "cap_long": -62.7309,
          "capital": "Basseterre",
          "code": "KNA",
          "continent": "North America",
          "gov_form": "Constitutional Monarchy",
          "indep_year": 1983,
          "index": 150,
          "local_name": "Saint Kitts and Nevis",
          "name": "Saint Kitts and Nevis",
          "region": "Caribbean",
          "surface_area": 261
         },
         {
          "cap_lat": 14,
          "cap_long": -60.9832,
          "capital": "Castries",
          "code": "LCA",
          "continent": "North America",
          "gov_form": "Constitutional Monarchy",
          "indep_year": 1979,
          "index": 151,
          "local_name": "Saint Lucia",
          "name": "Saint Lucia",
          "region": "Caribbean",
          "surface_area": 622
         },
         {
          "cap_lat": 13.2035,
          "cap_long": -61.2653,
          "capital": "Kingstown",
          "code": "VCT",
          "continent": "North America",
          "gov_form": "Constitutional Monarchy",
          "indep_year": 1979,
          "index": 152,
          "local_name": "Saint Vincent and the Grenadines",
          "name": "Saint Vincent and the Grenadines",
          "region": "Caribbean",
          "surface_area": 388
         },
         {
          "cap_lat": 52.5235,
          "cap_long": 13.4115,
          "capital": "Berlin",
          "code": "DEU",
          "continent": "Europe",
          "gov_form": "Federal Republic",
          "indep_year": 1955,
          "index": 153,
          "local_name": "Deutschland",
          "name": "Germany",
          "region": "Western Europe",
          "surface_area": 357022
         },
         {
          "cap_lat": -9.42676,
          "cap_long": 159.949,
          "capital": "Honiara",
          "code": "SLB",
          "continent": "Oceania",
          "gov_form": "Constitutional Monarchy",
          "indep_year": 1978,
          "index": 154,
          "local_name": "Solomon Islands",
          "name": "Solomon Islands",
          "region": "Melanesia",
          "surface_area": 28896
         },
         {
          "cap_lat": -15.3982,
          "cap_long": 28.2937,
          "capital": "Lusaka",
          "code": "ZMB",
          "continent": "Africa",
          "gov_form": "Republic",
          "indep_year": 1964,
          "index": 155,
          "local_name": "Zambia",
          "name": "Zambia",
          "region": "Eastern Africa",
          "surface_area": 752618
         },
         {
          "cap_lat": -13.8314,
          "cap_long": -171.752,
          "capital": "Apia",
          "code": "WSM",
          "continent": "Oceania",
          "gov_form": "Parlementary Monarchy",
          "indep_year": 1962,
          "index": 156,
          "local_name": "Samoa",
          "name": "Samoa",
          "region": "Polynesia",
          "surface_area": 2831
         },
         {
          "cap_lat": 43.9322,
          "cap_long": 12.4486,
          "capital": "San Marino",
          "code": "SMR",
          "continent": "Europe",
          "gov_form": "Republic",
          "indep_year": 885,
          "index": 157,
          "local_name": "San Marino",
          "name": "San Marino",
          "region": "Southern Europe",
          "surface_area": 61
         },
         {
          "cap_lat": 0.20618,
          "cap_long": 6.6071,
          "capital": "Sao Tome",
          "code": "STP",
          "continent": "Africa",
          "gov_form": "Republic",
          "indep_year": 1975,
          "index": 158,
          "local_name": "Sao Tome e Principe",
          "name": "Sao Tome and Principe",
          "region": "Central Africa",
          "surface_area": 964
         },
         {
          "cap_lat": 24.6748,
          "cap_long": 46.6977,
          "capital": "Riyadh",
          "code": "SAU",
          "continent": "Asia",
          "gov_form": "Monarchy",
          "indep_year": 1932,
          "index": 159,
          "local_name": "Al-´Arabiya as-Sa´udiya",
          "name": "Saudi Arabia",
          "region": "Middle East",
          "surface_area": 2149690
         },
         {
          "cap_lat": 14.7247,
          "cap_long": -17.4734,
          "capital": "Dakar",
          "code": "SEN",
          "continent": "Africa",
          "gov_form": "Republic",
          "indep_year": 1960,
          "index": 160,
          "local_name": "Senegal/Sounougal",
          "name": "Senegal",
          "region": "Western Africa",
          "surface_area": 196722
         },
         {
          "cap_lat": -4.6309,
          "cap_long": 55.4466,
          "capital": "Victoria",
          "code": "SYC",
          "continent": "Africa",
          "gov_form": "Republic",
          "indep_year": 1976,
          "index": 161,
          "local_name": "Sesel/Seychelles",
          "name": "Seychelles",
          "region": "Eastern Africa",
          "surface_area": 455
         },
         {
          "cap_lat": 8.4821,
          "cap_long": -13.2134,
          "capital": "Freetown",
          "code": "SLE",
          "continent": "Africa",
          "gov_form": "Republic",
          "indep_year": 1961,
          "index": 162,
          "local_name": "Sierra Leone",
          "name": "Sierra Leone",
          "region": "Western Africa",
          "surface_area": 71740
         },
         {
          "cap_lat": 1.28941,
          "cap_long": 103.85,
          "capital": "Singapore",
          "code": "SGP",
          "continent": "Asia",
          "gov_form": "Republic",
          "indep_year": 1965,
          "index": 163,
          "local_name": "Singapore/Singapura/Xinjiapo/Singapur",
          "name": "Singapore",
          "region": "Southeast Asia",
          "surface_area": 618
         },
         {
          "cap_lat": 48.1484,
          "cap_long": 17.1073,
          "capital": "Bratislava",
          "code": "SVK",
          "continent": "Europe",
          "gov_form": "Republic",
          "indep_year": 1993,
          "index": 164,
          "local_name": "Slovensko",
          "name": "Slovakia",
          "region": "Eastern Europe",
          "surface_area": 49012
         },
         {
          "cap_lat": 46.0546,
          "cap_long": 14.5044,
          "capital": "Ljubljana",
          "code": "SVN",
          "continent": "Europe",
          "gov_form": "Republic",
          "indep_year": 1991,
          "index": 165,
          "local_name": "Slovenija",
          "name": "Slovenia",
          "region": "Southern Europe",
          "surface_area": 20256
         },
         {
          "cap_lat": 2.07515,
          "cap_long": 45.3254,
          "capital": "Mogadishu",
          "code": "SOM",
          "continent": "Africa",
          "gov_form": "Republic",
          "indep_year": 1960,
          "index": 166,
          "local_name": "Soomaaliya",
          "name": "Somalia",
          "region": "Eastern Africa",
          "surface_area": 637657
         },
         {
          "cap_lat": 6.92148,
          "cap_long": 79.8528,
          "capital": "Colombo",
          "code": "LKA",
          "continent": "Asia",
          "gov_form": "Republic",
          "indep_year": 1948,
          "index": 167,
          "local_name": "Sri Lanka/Ilankai",
          "name": "Sri Lanka",
          "region": "Southern and Central Asia",
          "surface_area": 65610
         },
         {
          "cap_lat": 15.5932,
          "cap_long": 32.5363,
          "capital": "Khartoum",
          "code": "SDN",
          "continent": "Africa",
          "gov_form": "Islamic Republic",
          "indep_year": 1956,
          "index": 168,
          "local_name": "As-Sudan",
          "name": "Sudan",
          "region": "Northern Africa",
          "surface_area": 2505810
         },
         {
          "cap_lat": 60.1608,
          "cap_long": 24.9525,
          "capital": "Helsinki",
          "code": "FIN",
          "continent": "Europe",
          "gov_form": "Republic",
          "indep_year": 1917,
          "index": 169,
          "local_name": "Suomi",
          "name": "Finland",
          "region": "Nordic Countries",
          "surface_area": 338145
         },
         {
          "cap_lat": 5.8232,
          "cap_long": -55.1679,
          "capital": "Paramaribo",
          "code": "SUR",
          "continent": "South America",
          "gov_form": "Republic",
          "indep_year": 1975,
          "index": 170,
          "local_name": "Suriname",
          "name": "Suriname",
          "region": "South America",
          "surface_area": 163265
         },
         {
          "cap_lat": -26.5225,
          "cap_long": 31.4659,
          "capital": "Mbabane",
          "code": "SWZ",
          "continent": "Africa",
          "gov_form": "Monarchy",
          "indep_year": 1968,
          "index": 171,
          "local_name": "kaNgwane",
          "name": "Swaziland",
          "region": "Southern Africa",
          "surface_area": 17364
         },
         {
          "cap_lat": 46.948,
          "cap_long": 7.44821,
          "capital": "Bern",
          "code": "CHE",
          "continent": "Europe",
          "gov_form": "Federation",
          "indep_year": 1499,
          "index": 172,
          "local_name": "Schweiz/Suisse/Svizzera/Svizra",
          "name": "Switzerland",
          "region": "Western Europe",
          "surface_area": 41284
         },
         {
          "cap_lat": 33.5146,
          "cap_long": 36.3119,
          "capital": "Damascus",
          "code": "SYR",
          "continent": "Asia",
          "gov_form": "Republic",
          "indep_year": 1941,
          "index": 173,
          "local_name": "Suriya",
          "name": "Syria",
          "region": "Middle East",
          "surface_area": 185180
         },
         {
          "cap_lat": 38.5878,
          "cap_long": 68.7864,
          "capital": "Dushanbe",
          "code": "TJK",
          "continent": "Asia",
          "gov_form": "Republic",
          "indep_year": 1991,
          "index": 174,
          "local_name": "Tocikiston",
          "name": "Tajikistan",
          "region": "Southern and Central Asia",
          "surface_area": 143100
         },
         {
          "cap_lat": -6.17486,
          "cap_long": 35.7382,
          "capital": "Dodoma",
          "code": "TZA",
          "continent": "Africa",
          "gov_form": "Republic",
          "indep_year": 1961,
          "index": 175,
          "local_name": "Tanzania",
          "name": "Tanzania",
          "region": "Eastern Africa",
          "surface_area": 883749
         },
         {
          "cap_lat": 55.6763,
          "cap_long": 12.5681,
          "capital": "Copenhagen",
          "code": "DNK",
          "continent": "Europe",
          "gov_form": "Constitutional Monarchy",
          "indep_year": 800,
          "index": 176,
          "local_name": "Danmark",
          "name": "Denmark",
          "region": "Nordic Countries",
          "surface_area": 43094
         },
         {
          "cap_lat": 13.7308,
          "cap_long": 100.521,
          "capital": "Bangkok",
          "code": "THA",
          "continent": "Asia",
          "gov_form": "Constitutional Monarchy",
          "indep_year": 1350,
          "index": 177,
          "local_name": "Prathet Thai",
          "name": "Thailand",
          "region": "Southeast Asia",
          "surface_area": 513115
         },
         {
          "cap_lat": 6.1228,
          "cap_long": 1.2255,
          "capital": "Lome",
          "code": "TGO",
          "continent": "Africa",
          "gov_form": "Republic",
          "indep_year": 1960,
          "index": 178,
          "local_name": "Togo",
          "name": "Togo",
          "region": "Western Africa",
          "surface_area": 56785
         },
         {
          "cap_lat": -21.136,
          "cap_long": -175.216,
          "capital": "Nuku'alofa",
          "code": "TON",
          "continent": "Oceania",
          "gov_form": "Monarchy",
          "indep_year": 1970,
          "index": 179,
          "local_name": "Tonga",
          "name": "Tonga",
          "region": "Polynesia",
          "surface_area": 650
         },
         {
          "cap_lat": 10.6596,
          "cap_long": -61.4789,
          "capital": "Port-of-Spain",
          "code": "TTO",
          "continent": "North America",
          "gov_form": "Republic",
          "indep_year": 1962,
          "index": 180,
          "local_name": "Trinidad and Tobago",
          "name": "Trinidad and Tobago",
          "region": "Caribbean",
          "surface_area": 5130
         },
         {
          "cap_lat": 12.1048,
          "cap_long": 15.0445,
          "capital": "N'Djamena",
          "code": "TCD",
          "continent": "Africa",
          "gov_form": "Republic",
          "indep_year": 1960,
          "index": 181,
          "local_name": "Tchad/Tshad",
          "name": "Chad",
          "region": "Central Africa",
          "surface_area": 1284000
         },
         {
          "cap_lat": 50.0878,
          "cap_long": 14.4205,
          "capital": "Prague",
          "code": "CZE",
          "continent": "Europe",
          "gov_form": "Republic",
          "indep_year": 1993,
          "index": 182,
          "local_name": "¸esko",
          "name": "Czech Republic",
          "region": "Eastern Europe",
          "surface_area": 78866
         },
         {
          "cap_lat": 36.7899,
          "cap_long": 10.21,
          "capital": "Tunis",
          "code": "TUN",
          "continent": "Africa",
          "gov_form": "Republic",
          "indep_year": 1956,
          "index": 183,
          "local_name": "Tunis/Tunisie",
          "name": "Tunisia",
          "region": "Northern Africa",
          "surface_area": 163610
         },
         {
          "cap_lat": 39.7153,
          "cap_long": 32.3606,
          "capital": "Ankara",
          "code": "TUR",
          "continent": "Asia",
          "gov_form": "Republic",
          "indep_year": 1923,
          "index": 184,
          "local_name": "Turkiye",
          "name": "Turkey",
          "region": "Middle East",
          "surface_area": 774815
         },
         {
          "cap_lat": 37.9509,
          "cap_long": 58.3794,
          "capital": "Ashgabat",
          "code": "TKM",
          "continent": "Asia",
          "gov_form": "Republic",
          "indep_year": 1991,
          "index": 185,
          "local_name": "Turkmenostan",
          "name": "Turkmenistan",
          "region": "Southern and Central Asia",
          "surface_area": 488100
         },
         {
          "cap_lat": 21.4602778,
          "cap_long": -71.141389,
          "capital": "Grand Turk",
          "code": "TCA",
          "continent": "North America",
          "gov_form": "Dependent Territory of the UK",
          "indep_year": null,
          "index": 186,
          "local_name": "The Turks and Caicos Islands",
          "name": "Turks and Caicos Islands",
          "region": "Caribbean",
          "surface_area": 430
         },
         {
          "cap_lat": -8.6314877,
          "cap_long": 179.089567,
          "capital": "Funafuti",
          "code": "TUV",
          "continent": "Oceania",
          "gov_form": "Constitutional Monarchy",
          "indep_year": 1978,
          "index": 187,
          "local_name": "Tuvalu",
          "name": "Tuvalu",
          "region": "Polynesia",
          "surface_area": 26
         },
         {
          "cap_lat": 0.314269,
          "cap_long": 32.5729,
          "capital": "Kampala",
          "code": "UGA",
          "continent": "Africa",
          "gov_form": "Republic",
          "indep_year": 1962,
          "index": 188,
          "local_name": "Uganda",
          "name": "Uganda",
          "region": "Eastern Africa",
          "surface_area": 241038
         },
         {
          "cap_lat": 50.4536,
          "cap_long": 30.5038,
          "capital": "Kiev",
          "code": "UKR",
          "continent": "Europe",
          "gov_form": "Republic",
          "indep_year": 1991,
          "index": 189,
          "local_name": "Ukrajina",
          "name": "Ukraine",
          "region": "Eastern Europe",
          "surface_area": 603700
         },
         {
          "cap_lat": 47.4984,
          "cap_long": 19.0408,
          "capital": "Budapest",
          "code": "HUN",
          "continent": "Europe",
          "gov_form": "Republic",
          "indep_year": 1918,
          "index": 190,
          "local_name": "Magyarorszag",
          "name": "Hungary",
          "region": "Eastern Europe",
          "surface_area": 93030
         },
         {
          "cap_lat": -34.8941,
          "cap_long": -56.0675,
          "capital": "Montevideo",
          "code": "URY",
          "continent": "South America",
          "gov_form": "Republic",
          "indep_year": 1828,
          "index": 191,
          "local_name": "Uruguay",
          "name": "Uruguay",
          "region": "South America",
          "surface_area": 175016
         },
         {
          "cap_lat": -22.2677,
          "cap_long": 166.464,
          "capital": "Noum'ea",
          "code": "NCL",
          "continent": "Oceania",
          "gov_form": "Nonmetropolitan Territory of France",
          "indep_year": null,
          "index": 192,
          "local_name": "Nouvelle-Caledonie",
          "name": "New Caledonia",
          "region": "Melanesia",
          "surface_area": 18575
         },
         {
          "cap_lat": -41.2865,
          "cap_long": 174.776,
          "capital": "Wellington",
          "code": "NZL",
          "continent": "Oceania",
          "gov_form": "Constitutional Monarchy",
          "indep_year": 1907,
          "index": 193,
          "local_name": "New Zealand/Aotearoa",
          "name": "New Zealand",
          "region": "Australia and New Zealand",
          "surface_area": 270534
         },
         {
          "cap_lat": 41.3052,
          "cap_long": 69.269,
          "capital": "Tashkent",
          "code": "UZB",
          "continent": "Asia",
          "gov_form": "Republic",
          "indep_year": 1991,
          "index": 194,
          "local_name": "Uzbekiston",
          "name": "Uzbekistan",
          "region": "Southern and Central Asia",
          "surface_area": 447400
         },
         {
          "cap_lat": 53.9678,
          "cap_long": 27.5766,
          "capital": "Minsk",
          "code": "BLR",
          "continent": "Europe",
          "gov_form": "Republic",
          "indep_year": 1991,
          "index": 195,
          "local_name": "Belarus",
          "name": "Belarus",
          "region": "Eastern Europe",
          "surface_area": 207600
         },
         {
          "cap_lat": -17.7404,
          "cap_long": 168.321,
          "capital": "Port-Vila",
          "code": "VUT",
          "continent": "Oceania",
          "gov_form": "Republic",
          "indep_year": 1980,
          "index": 196,
          "local_name": "Vanuatu",
          "name": "Vanuatu",
          "region": "Melanesia",
          "surface_area": 12189
         },
         {
          "cap_lat": 9.08165,
          "cap_long": -69.8371,
          "capital": "Caracas",
          "code": "VEN",
          "continent": "South America",
          "gov_form": "Federal Republic",
          "indep_year": 1811,
          "index": 197,
          "local_name": "Venezuela",
          "name": "Venezuela",
          "region": "South America",
          "surface_area": 912050
         },
         {
          "cap_lat": 55.7558,
          "cap_long": 37.6176,
          "capital": "Moscow",
          "code": "RUS",
          "continent": "Europe",
          "gov_form": "Federal Republic",
          "indep_year": 1991,
          "index": 198,
          "local_name": "Rossija",
          "name": "Russian Federation",
          "region": "Eastern Europe",
          "surface_area": 17075400
         },
         {
          "cap_lat": 21.0069,
          "cap_long": 105.825,
          "capital": "Hanoi",
          "code": "VNM",
          "continent": "Asia",
          "gov_form": "Socialistic Republic",
          "indep_year": 1945,
          "index": 199,
          "local_name": "Viet Nam",
          "name": "Vietnam",
          "region": "Southeast Asia",
          "surface_area": 331689
         },
         {
          "cap_lat": 59.4392,
          "cap_long": 24.7586,
          "capital": "Tallinn",
          "code": "EST",
          "continent": "Europe",
          "gov_form": "Republic",
          "indep_year": 1991,
          "index": 200,
          "local_name": "Eesti",
          "name": "Estonia",
          "region": "Baltic Countries",
          "surface_area": 45227
         },
         {
          "cap_lat": 38.8895,
          "cap_long": -77.032,
          "capital": "Washington D.C.",
          "code": "USA",
          "continent": "North America",
          "gov_form": "Federal Republic",
          "indep_year": 1776,
          "index": 201,
          "local_name": "United States",
          "name": "United States",
          "region": "North America",
          "surface_area": 9363520
         },
         {
          "cap_lat": 18.3358,
          "cap_long": -64.8963,
          "capital": "Charlotte Amalie",
          "code": "VIR",
          "continent": "North America",
          "gov_form": "US Territory",
          "indep_year": null,
          "index": 202,
          "local_name": "Virgin Islands of the United States",
          "name": "Virgin Islands, U.S.",
          "region": "Caribbean",
          "surface_area": 347
         },
         {
          "cap_lat": -17.8312,
          "cap_long": 31.0672,
          "capital": "Harare",
          "code": "ZWE",
          "continent": "Africa",
          "gov_form": "Republic",
          "indep_year": 1980,
          "index": 203,
          "local_name": "Zimbabwe",
          "name": "Zimbabwe",
          "region": "Eastern Africa",
          "surface_area": 390757
         },
         {
          "cap_lat": null,
          "cap_long": null,
          "capital": "",
          "code": "PSE",
          "continent": "Asia",
          "gov_form": "Autonomous Area",
          "indep_year": null,
          "index": 204,
          "local_name": "Filastin",
          "name": "Palestine",
          "region": "Middle East",
          "surface_area": 6257
         }
        ],
        "schema": {
         "fields": [
          {
           "name": "index",
           "type": "integer"
          },
          {
           "name": "code",
           "type": "string"
          },
          {
           "name": "name",
           "type": "string"
          },
          {
           "name": "continent",
           "type": "string"
          },
          {
           "name": "region",
           "type": "string"
          },
          {
           "name": "surface_area",
           "type": "integer"
          },
          {
           "name": "indep_year",
           "type": "number"
          },
          {
           "name": "local_name",
           "type": "string"
          },
          {
           "name": "gov_form",
           "type": "string"
          },
          {
           "name": "capital",
           "type": "string"
          },
          {
           "name": "cap_long",
           "type": "number"
          },
          {
           "name": "cap_lat",
           "type": "number"
          }
         ],
         "pandas_version": "1.4.0",
         "primaryKey": [
          "index"
         ]
        }
       },
       "total_rows": 205,
       "truncation_type": null
      },
      "text/html": [
       "<div>\n",
       "<style scoped>\n",
       "    .dataframe tbody tr th:only-of-type {\n",
       "        vertical-align: middle;\n",
       "    }\n",
       "\n",
       "    .dataframe tbody tr th {\n",
       "        vertical-align: top;\n",
       "    }\n",
       "\n",
       "    .dataframe thead th {\n",
       "        text-align: right;\n",
       "    }\n",
       "</style>\n",
       "<table border=\"1\" class=\"dataframe\">\n",
       "  <thead>\n",
       "    <tr style=\"text-align: right;\">\n",
       "      <th></th>\n",
       "      <th>code</th>\n",
       "      <th>name</th>\n",
       "      <th>continent</th>\n",
       "      <th>region</th>\n",
       "      <th>surface_area</th>\n",
       "      <th>indep_year</th>\n",
       "      <th>local_name</th>\n",
       "      <th>gov_form</th>\n",
       "      <th>capital</th>\n",
       "      <th>cap_long</th>\n",
       "      <th>cap_lat</th>\n",
       "    </tr>\n",
       "  </thead>\n",
       "  <tbody>\n",
       "    <tr>\n",
       "      <th>0</th>\n",
       "      <td>AFG</td>\n",
       "      <td>Afghanistan</td>\n",
       "      <td>Asia</td>\n",
       "      <td>Southern and Central Asia</td>\n",
       "      <td>652090</td>\n",
       "      <td>1919.0</td>\n",
       "      <td>Afganistan/Afqanestan</td>\n",
       "      <td>Islamic Emirate</td>\n",
       "      <td>Kabul</td>\n",
       "      <td>69.17610</td>\n",
       "      <td>34.5228</td>\n",
       "    </tr>\n",
       "    <tr>\n",
       "      <th>1</th>\n",
       "      <td>NLD</td>\n",
       "      <td>Netherlands</td>\n",
       "      <td>Europe</td>\n",
       "      <td>Western Europe</td>\n",
       "      <td>41526</td>\n",
       "      <td>1581.0</td>\n",
       "      <td>Nederland</td>\n",
       "      <td>Constitutional Monarchy</td>\n",
       "      <td>Amsterdam</td>\n",
       "      <td>4.89095</td>\n",
       "      <td>52.3738</td>\n",
       "    </tr>\n",
       "    <tr>\n",
       "      <th>2</th>\n",
       "      <td>ALB</td>\n",
       "      <td>Albania</td>\n",
       "      <td>Europe</td>\n",
       "      <td>Southern Europe</td>\n",
       "      <td>28748</td>\n",
       "      <td>1912.0</td>\n",
       "      <td>Shqiperia</td>\n",
       "      <td>Republic</td>\n",
       "      <td>Tirane</td>\n",
       "      <td>19.81720</td>\n",
       "      <td>41.3317</td>\n",
       "    </tr>\n",
       "    <tr>\n",
       "      <th>3</th>\n",
       "      <td>DZA</td>\n",
       "      <td>Algeria</td>\n",
       "      <td>Africa</td>\n",
       "      <td>Northern Africa</td>\n",
       "      <td>2381740</td>\n",
       "      <td>1962.0</td>\n",
       "      <td>Al-Jazair/Algerie</td>\n",
       "      <td>Republic</td>\n",
       "      <td>Algiers</td>\n",
       "      <td>3.05097</td>\n",
       "      <td>36.7397</td>\n",
       "    </tr>\n",
       "    <tr>\n",
       "      <th>4</th>\n",
       "      <td>ASM</td>\n",
       "      <td>American Samoa</td>\n",
       "      <td>Oceania</td>\n",
       "      <td>Polynesia</td>\n",
       "      <td>199</td>\n",
       "      <td>NaN</td>\n",
       "      <td>Amerika Samoa</td>\n",
       "      <td>US Territory</td>\n",
       "      <td>Pago Pago</td>\n",
       "      <td>-170.69100</td>\n",
       "      <td>-14.2846</td>\n",
       "    </tr>\n",
       "    <tr>\n",
       "      <th>...</th>\n",
       "      <td>...</td>\n",
       "      <td>...</td>\n",
       "      <td>...</td>\n",
       "      <td>...</td>\n",
       "      <td>...</td>\n",
       "      <td>...</td>\n",
       "      <td>...</td>\n",
       "      <td>...</td>\n",
       "      <td>...</td>\n",
       "      <td>...</td>\n",
       "      <td>...</td>\n",
       "    </tr>\n",
       "    <tr>\n",
       "      <th>200</th>\n",
       "      <td>EST</td>\n",
       "      <td>Estonia</td>\n",
       "      <td>Europe</td>\n",
       "      <td>Baltic Countries</td>\n",
       "      <td>45227</td>\n",
       "      <td>1991.0</td>\n",
       "      <td>Eesti</td>\n",
       "      <td>Republic</td>\n",
       "      <td>Tallinn</td>\n",
       "      <td>24.75860</td>\n",
       "      <td>59.4392</td>\n",
       "    </tr>\n",
       "    <tr>\n",
       "      <th>201</th>\n",
       "      <td>USA</td>\n",
       "      <td>United States</td>\n",
       "      <td>North America</td>\n",
       "      <td>North America</td>\n",
       "      <td>9363520</td>\n",
       "      <td>1776.0</td>\n",
       "      <td>United States</td>\n",
       "      <td>Federal Republic</td>\n",
       "      <td>Washington D.C.</td>\n",
       "      <td>-77.03200</td>\n",
       "      <td>38.8895</td>\n",
       "    </tr>\n",
       "    <tr>\n",
       "      <th>202</th>\n",
       "      <td>VIR</td>\n",
       "      <td>Virgin Islands, U.S.</td>\n",
       "      <td>North America</td>\n",
       "      <td>Caribbean</td>\n",
       "      <td>347</td>\n",
       "      <td>NaN</td>\n",
       "      <td>Virgin Islands of the United States</td>\n",
       "      <td>US Territory</td>\n",
       "      <td>Charlotte Amalie</td>\n",
       "      <td>-64.89630</td>\n",
       "      <td>18.3358</td>\n",
       "    </tr>\n",
       "    <tr>\n",
       "      <th>203</th>\n",
       "      <td>ZWE</td>\n",
       "      <td>Zimbabwe</td>\n",
       "      <td>Africa</td>\n",
       "      <td>Eastern Africa</td>\n",
       "      <td>390757</td>\n",
       "      <td>1980.0</td>\n",
       "      <td>Zimbabwe</td>\n",
       "      <td>Republic</td>\n",
       "      <td>Harare</td>\n",
       "      <td>31.06720</td>\n",
       "      <td>-17.8312</td>\n",
       "    </tr>\n",
       "    <tr>\n",
       "      <th>204</th>\n",
       "      <td>PSE</td>\n",
       "      <td>Palestine</td>\n",
       "      <td>Asia</td>\n",
       "      <td>Middle East</td>\n",
       "      <td>6257</td>\n",
       "      <td>NaN</td>\n",
       "      <td>Filastin</td>\n",
       "      <td>Autonomous Area</td>\n",
       "      <td></td>\n",
       "      <td>NaN</td>\n",
       "      <td>NaN</td>\n",
       "    </tr>\n",
       "  </tbody>\n",
       "</table>\n",
       "<p>205 rows × 11 columns</p>\n",
       "</div>"
      ],
      "text/plain": [
       "    code                  name  ...   cap_long  cap_lat\n",
       "0    AFG           Afghanistan  ...   69.17610  34.5228\n",
       "1    NLD           Netherlands  ...    4.89095  52.3738\n",
       "2    ALB               Albania  ...   19.81720  41.3317\n",
       "3    DZA               Algeria  ...    3.05097  36.7397\n",
       "4    ASM        American Samoa  ... -170.69100 -14.2846\n",
       "..   ...                   ...  ...        ...      ...\n",
       "200  EST               Estonia  ...   24.75860  59.4392\n",
       "201  USA         United States  ...  -77.03200  38.8895\n",
       "202  VIR  Virgin Islands, U.S.  ...  -64.89630  18.3358\n",
       "203  ZWE              Zimbabwe  ...   31.06720 -17.8312\n",
       "204  PSE             Palestine  ...        NaN      NaN\n",
       "\n",
       "[205 rows x 11 columns]"
      ]
     },
     "execution_count": 1,
     "metadata": {},
     "output_type": "execute_result"
    }
   ],
   "source": [
    "select * from world.countries"
   ]
  },
  {
   "cell_type": "code",
   "execution_count": 1,
   "id": "f110fcb5-e749-499d-8e9f-533d994891e3",
   "metadata": {
    "customType": "sql",
    "dataFrameVariableName": "df",
    "executionTime": 1900,
    "initial": false,
    "integrationId": "c632441c-e1dc-4637-a56d-10b85efd89be",
    "lastSuccessfullyExecutedCode": "SELECT local_name, continent, code, surface_area,\n    CASE WHEN surface_area > 2000000 THEN 'large'\n        WHEN surface_area > 350000 THEN 'medium'\n        ELSE 'small' END\n        AS geosize_group\nFROM world.countries;",
    "outputsMetadata": {
     "0": {
      "height": 327,
      "type": "dataFrame"
     }
    }
   },
   "outputs": [
    {
     "data": {
      "application/com.datacamp.data-table.v1+json": {
       "table": {
        "data": [
         {
          "code": "AFG",
          "continent": "Asia",
          "geosize_group": "medium",
          "index": 0,
          "local_name": "Afganistan/Afqanestan",
          "surface_area": 652090
         },
         {
          "code": "NLD",
          "continent": "Europe",
          "geosize_group": "small",
          "index": 1,
          "local_name": "Nederland",
          "surface_area": 41526
         },
         {
          "code": "ALB",
          "continent": "Europe",
          "geosize_group": "small",
          "index": 2,
          "local_name": "Shqiperia",
          "surface_area": 28748
         },
         {
          "code": "DZA",
          "continent": "Africa",
          "geosize_group": "large",
          "index": 3,
          "local_name": "Al-Jazair/Algerie",
          "surface_area": 2381740
         },
         {
          "code": "ASM",
          "continent": "Oceania",
          "geosize_group": "small",
          "index": 4,
          "local_name": "Amerika Samoa",
          "surface_area": 199
         },
         {
          "code": "AND",
          "continent": "Europe",
          "geosize_group": "small",
          "index": 5,
          "local_name": "Andorra",
          "surface_area": 468
         },
         {
          "code": "AGO",
          "continent": "Africa",
          "geosize_group": "medium",
          "index": 6,
          "local_name": "Angola",
          "surface_area": 1246700
         },
         {
          "code": "ATG",
          "continent": "North America",
          "geosize_group": "small",
          "index": 7,
          "local_name": "Antigua and Barbuda",
          "surface_area": 442
         },
         {
          "code": "ARE",
          "continent": "Asia",
          "geosize_group": "small",
          "index": 8,
          "local_name": "Al-Imarat al-´Arabiya al-Muttahida",
          "surface_area": 83600
         },
         {
          "code": "ARG",
          "continent": "South America",
          "geosize_group": "large",
          "index": 9,
          "local_name": "Argentina",
          "surface_area": 2780400
         },
         {
          "code": "ARM",
          "continent": "Asia",
          "geosize_group": "small",
          "index": 10,
          "local_name": "Hajastan",
          "surface_area": 29800
         },
         {
          "code": "ABW",
          "continent": "North America",
          "geosize_group": "small",
          "index": 11,
          "local_name": "Aruba",
          "surface_area": 193
         },
         {
          "code": "AUS",
          "continent": "Oceania",
          "geosize_group": "large",
          "index": 12,
          "local_name": "Australia",
          "surface_area": 7741220
         },
         {
          "code": "AZE",
          "continent": "Asia",
          "geosize_group": "small",
          "index": 13,
          "local_name": "Azarbaycan",
          "surface_area": 86600
         },
         {
          "code": "BHS",
          "continent": "North America",
          "geosize_group": "small",
          "index": 14,
          "local_name": "The Bahamas",
          "surface_area": 13878
         },
         {
          "code": "BHR",
          "continent": "Asia",
          "geosize_group": "small",
          "index": 15,
          "local_name": "Al-Bahrayn",
          "surface_area": 694
         },
         {
          "code": "BGD",
          "continent": "Asia",
          "geosize_group": "small",
          "index": 16,
          "local_name": "Bangladesh",
          "surface_area": 143998
         },
         {
          "code": "BRB",
          "continent": "North America",
          "geosize_group": "small",
          "index": 17,
          "local_name": "Barbados",
          "surface_area": 430
         },
         {
          "code": "BEL",
          "continent": "Europe",
          "geosize_group": "small",
          "index": 18,
          "local_name": "Belgie/Belgique",
          "surface_area": 30518
         },
         {
          "code": "BLZ",
          "continent": "North America",
          "geosize_group": "small",
          "index": 19,
          "local_name": "Belize",
          "surface_area": 22696
         },
         {
          "code": "BEN",
          "continent": "Africa",
          "geosize_group": "small",
          "index": 20,
          "local_name": "Benin",
          "surface_area": 112622
         },
         {
          "code": "BMU",
          "continent": "North America",
          "geosize_group": "small",
          "index": 21,
          "local_name": "Bermuda",
          "surface_area": 53
         },
         {
          "code": "BTN",
          "continent": "Asia",
          "geosize_group": "small",
          "index": 22,
          "local_name": "Druk-Yul",
          "surface_area": 47000
         },
         {
          "code": "BOL",
          "continent": "South America",
          "geosize_group": "medium",
          "index": 23,
          "local_name": "Bolivia",
          "surface_area": 1098580
         },
         {
          "code": "BIH",
          "continent": "Europe",
          "geosize_group": "small",
          "index": 24,
          "local_name": "Bosna i Hercegovina",
          "surface_area": 51197
         },
         {
          "code": "BWA",
          "continent": "Africa",
          "geosize_group": "medium",
          "index": 25,
          "local_name": "Botswana",
          "surface_area": 581730
         },
         {
          "code": "BRA",
          "continent": "South America",
          "geosize_group": "large",
          "index": 26,
          "local_name": "Brasil",
          "surface_area": 8547400
         },
         {
          "code": "GBR",
          "continent": "Europe",
          "geosize_group": "small",
          "index": 27,
          "local_name": "United Kingdom",
          "surface_area": 242900
         },
         {
          "code": "VGB",
          "continent": "North America",
          "geosize_group": "small",
          "index": 28,
          "local_name": "British Virgin Islands",
          "surface_area": 151
         },
         {
          "code": "BRN",
          "continent": "Asia",
          "geosize_group": "small",
          "index": 29,
          "local_name": "Brunei Darussalam",
          "surface_area": 5765
         },
         {
          "code": "BGR",
          "continent": "Europe",
          "geosize_group": "small",
          "index": 30,
          "local_name": "Balgarija",
          "surface_area": 110994
         },
         {
          "code": "BFA",
          "continent": "Africa",
          "geosize_group": "small",
          "index": 31,
          "local_name": "Burkina Faso",
          "surface_area": 274000
         },
         {
          "code": "BDI",
          "continent": "Africa",
          "geosize_group": "small",
          "index": 32,
          "local_name": "Burundi/Uburundi",
          "surface_area": 27834
         },
         {
          "code": "CYM",
          "continent": "North America",
          "geosize_group": "small",
          "index": 33,
          "local_name": "Cayman Islands",
          "surface_area": 264
         },
         {
          "code": "CHL",
          "continent": "South America",
          "geosize_group": "medium",
          "index": 34,
          "local_name": "Chile",
          "surface_area": 756626
         },
         {
          "code": "CRI",
          "continent": "North America",
          "geosize_group": "small",
          "index": 35,
          "local_name": "Costa Rica",
          "surface_area": 51100
         },
         {
          "code": "DJI",
          "continent": "Africa",
          "geosize_group": "small",
          "index": 36,
          "local_name": "Djibouti/Jibuti",
          "surface_area": 23200
         },
         {
          "code": "DMA",
          "continent": "North America",
          "geosize_group": "small",
          "index": 37,
          "local_name": "Dominica",
          "surface_area": 751
         },
         {
          "code": "DOM",
          "continent": "North America",
          "geosize_group": "small",
          "index": 38,
          "local_name": "Republica Dominicana",
          "surface_area": 48511
         },
         {
          "code": "ECU",
          "continent": "South America",
          "geosize_group": "small",
          "index": 39,
          "local_name": "Ecuador",
          "surface_area": 283561
         },
         {
          "code": "EGY",
          "continent": "Africa",
          "geosize_group": "medium",
          "index": 40,
          "local_name": "Misr",
          "surface_area": 1001450
         },
         {
          "code": "SLV",
          "continent": "North America",
          "geosize_group": "small",
          "index": 41,
          "local_name": "El Salvador",
          "surface_area": 21041
         },
         {
          "code": "ERI",
          "continent": "Africa",
          "geosize_group": "small",
          "index": 42,
          "local_name": "Ertra",
          "surface_area": 117600
         },
         {
          "code": "ESP",
          "continent": "Europe",
          "geosize_group": "medium",
          "index": 43,
          "local_name": "Espana",
          "surface_area": 505992
         },
         {
          "code": "ZAF",
          "continent": "Africa",
          "geosize_group": "medium",
          "index": 44,
          "local_name": "South Africa",
          "surface_area": 1221040
         },
         {
          "code": "ETH",
          "continent": "Africa",
          "geosize_group": "medium",
          "index": 45,
          "local_name": "YeItyop´iya",
          "surface_area": 1104300
         },
         {
          "code": "FJI",
          "continent": "Oceania",
          "geosize_group": "small",
          "index": 46,
          "local_name": "Fiji Islands",
          "surface_area": 18274
         },
         {
          "code": "PHL",
          "continent": "Asia",
          "geosize_group": "small",
          "index": 47,
          "local_name": "Pilipinas",
          "surface_area": 300000
         },
         {
          "code": "FRO",
          "continent": "Europe",
          "geosize_group": "small",
          "index": 48,
          "local_name": "Foroyar",
          "surface_area": 1399
         },
         {
          "code": "GAB",
          "continent": "Africa",
          "geosize_group": "small",
          "index": 49,
          "local_name": "Le Gabon",
          "surface_area": 267668
         },
         {
          "code": "GMB",
          "continent": "Africa",
          "geosize_group": "small",
          "index": 50,
          "local_name": "The Gambia",
          "surface_area": 11295
         },
         {
          "code": "GEO",
          "continent": "Asia",
          "geosize_group": "small",
          "index": 51,
          "local_name": "Sakartvelo",
          "surface_area": 69700
         },
         {
          "code": "GHA",
          "continent": "Africa",
          "geosize_group": "small",
          "index": 52,
          "local_name": "Ghana",
          "surface_area": 238533
         },
         {
          "code": "GIB",
          "continent": "Europe",
          "geosize_group": "small",
          "index": 53,
          "local_name": "Gibraltar",
          "surface_area": 6
         },
         {
          "code": "GRD",
          "continent": "North America",
          "geosize_group": "small",
          "index": 54,
          "local_name": "Grenada",
          "surface_area": 344
         },
         {
          "code": "GRL",
          "continent": "North America",
          "geosize_group": "large",
          "index": 55,
          "local_name": "Kalaallit Nunaat/Gronland",
          "surface_area": 2166090
         },
         {
          "code": "GUM",
          "continent": "Oceania",
          "geosize_group": "small",
          "index": 56,
          "local_name": "Guam",
          "surface_area": 549
         },
         {
          "code": "GTM",
          "continent": "North America",
          "geosize_group": "small",
          "index": 57,
          "local_name": "Guatemala",
          "surface_area": 108889
         },
         {
          "code": "GIN",
          "continent": "Africa",
          "geosize_group": "small",
          "index": 58,
          "local_name": "Guinee",
          "surface_area": 245857
         },
         {
          "code": "GNB",
          "continent": "Africa",
          "geosize_group": "small",
          "index": 59,
          "local_name": "Guine-Bissau",
          "surface_area": 36125
         },
         {
          "code": "GUY",
          "continent": "South America",
          "geosize_group": "small",
          "index": 60,
          "local_name": "Guyana",
          "surface_area": 214969
         },
         {
          "code": "HTI",
          "continent": "North America",
          "geosize_group": "small",
          "index": 61,
          "local_name": "Haiti/Dayti",
          "surface_area": 27750
         },
         {
          "code": "HND",
          "continent": "North America",
          "geosize_group": "small",
          "index": 62,
          "local_name": "Honduras",
          "surface_area": 112088
         },
         {
          "code": "HKG",
          "continent": "Asia",
          "geosize_group": "small",
          "index": 63,
          "local_name": "Xianggang/Hong Kong",
          "surface_area": 1075
         },
         {
          "code": "IDN",
          "continent": "Asia",
          "geosize_group": "medium",
          "index": 64,
          "local_name": "Indonesia",
          "surface_area": 1904570
         },
         {
          "code": "IND",
          "continent": "Asia",
          "geosize_group": "large",
          "index": 65,
          "local_name": "Bharat/India",
          "surface_area": 3287260
         },
         {
          "code": "IRQ",
          "continent": "Asia",
          "geosize_group": "medium",
          "index": 66,
          "local_name": "Al-´Iraq",
          "surface_area": 438317
         },
         {
          "code": "IRN",
          "continent": "Asia",
          "geosize_group": "medium",
          "index": 67,
          "local_name": "Iran",
          "surface_area": 1648200
         },
         {
          "code": "IRL",
          "continent": "Europe",
          "geosize_group": "small",
          "index": 68,
          "local_name": "Ireland/Eire",
          "surface_area": 70273
         },
         {
          "code": "ISL",
          "continent": "Europe",
          "geosize_group": "small",
          "index": 69,
          "local_name": "Island",
          "surface_area": 103000
         },
         {
          "code": "ISR",
          "continent": "Asia",
          "geosize_group": "small",
          "index": 70,
          "local_name": "Yisrael/Israil",
          "surface_area": 21056
         },
         {
          "code": "ITA",
          "continent": "Europe",
          "geosize_group": "small",
          "index": 71,
          "local_name": "Italia",
          "surface_area": 301316
         },
         {
          "code": "AUT",
          "continent": "Europe",
          "geosize_group": "small",
          "index": 72,
          "local_name": "Osterreich",
          "surface_area": 83859
         },
         {
          "code": "JAM",
          "continent": "North America",
          "geosize_group": "small",
          "index": 73,
          "local_name": "Jamaica",
          "surface_area": 10990
         },
         {
          "code": "JPN",
          "continent": "Asia",
          "geosize_group": "medium",
          "index": 74,
          "local_name": "Nihon/Nippon",
          "surface_area": 377829
         },
         {
          "code": "YEM",
          "continent": "Asia",
          "geosize_group": "medium",
          "index": 75,
          "local_name": "Al-Yaman",
          "surface_area": 527968
         },
         {
          "code": "JOR",
          "continent": "Asia",
          "geosize_group": "small",
          "index": 76,
          "local_name": "Al-Urdunn",
          "surface_area": 88946
         },
         {
          "code": "KHM",
          "continent": "Asia",
          "geosize_group": "small",
          "index": 77,
          "local_name": "Kampuchea",
          "surface_area": 181035
         },
         {
          "code": "CMR",
          "continent": "Africa",
          "geosize_group": "medium",
          "index": 78,
          "local_name": "Cameroun/Cameroon",
          "surface_area": 475442
         },
         {
          "code": "CAN",
          "continent": "North America",
          "geosize_group": "large",
          "index": 79,
          "local_name": "Canada",
          "surface_area": 9970610
         },
         {
          "code": "CPV",
          "continent": "Africa",
          "geosize_group": "small",
          "index": 80,
          "local_name": "Cabo Verde",
          "surface_area": 4033
         },
         {
          "code": "KAZ",
          "continent": "Asia",
          "geosize_group": "large",
          "index": 81,
          "local_name": "Qazaqstan",
          "surface_area": 2724900
         },
         {
          "code": "KEN",
          "continent": "Africa",
          "geosize_group": "medium",
          "index": 82,
          "local_name": "Kenya",
          "surface_area": 580367
         },
         {
          "code": "CAF",
          "continent": "Africa",
          "geosize_group": "medium",
          "index": 83,
          "local_name": "Centrafrique/Be-Afrika",
          "surface_area": 622984
         },
         {
          "code": "CHN",
          "continent": "Asia",
          "geosize_group": "large",
          "index": 84,
          "local_name": "Zhongquo",
          "surface_area": 9572900
         },
         {
          "code": "KGZ",
          "continent": "Asia",
          "geosize_group": "small",
          "index": 85,
          "local_name": "Kyrgyzstan",
          "surface_area": 199900
         },
         {
          "code": "KIR",
          "continent": "Oceania",
          "geosize_group": "small",
          "index": 86,
          "local_name": "Kiribati",
          "surface_area": 726
         },
         {
          "code": "COL",
          "continent": "South America",
          "geosize_group": "medium",
          "index": 87,
          "local_name": "Colombia",
          "surface_area": 1138910
         },
         {
          "code": "COM",
          "continent": "Africa",
          "geosize_group": "small",
          "index": 88,
          "local_name": "Komori/Comores",
          "surface_area": 1862
         },
         {
          "code": "COG",
          "continent": "Africa",
          "geosize_group": "small",
          "index": 89,
          "local_name": "Congo",
          "surface_area": 342000
         },
         {
          "code": "COD",
          "continent": "Africa",
          "geosize_group": "large",
          "index": 90,
          "local_name": "Republique Democratique du Congo",
          "surface_area": 2344860
         },
         {
          "code": "PRK",
          "continent": "Asia",
          "geosize_group": "small",
          "index": 91,
          "local_name": "Choson Minjujuui In´min Konghwaguk (Bukhan)",
          "surface_area": 120538
         },
         {
          "code": "KOR",
          "continent": "Asia",
          "geosize_group": "small",
          "index": 92,
          "local_name": "Taehan Minguk (Namhan)",
          "surface_area": 99434
         },
         {
          "code": "GRC",
          "continent": "Europe",
          "geosize_group": "small",
          "index": 93,
          "local_name": "Ellada",
          "surface_area": 131626
         },
         {
          "code": "HRV",
          "continent": "Europe",
          "geosize_group": "small",
          "index": 94,
          "local_name": "Hrvatska",
          "surface_area": 56538
         },
         {
          "code": "CUB",
          "continent": "North America",
          "geosize_group": "small",
          "index": 95,
          "local_name": "Cuba",
          "surface_area": 110861
         },
         {
          "code": "KWT",
          "continent": "Asia",
          "geosize_group": "small",
          "index": 96,
          "local_name": "Al-Kuwayt",
          "surface_area": 17818
         },
         {
          "code": "CYP",
          "continent": "Asia",
          "geosize_group": "small",
          "index": 97,
          "local_name": "Kypros/Kibris",
          "surface_area": 9251
         },
         {
          "code": "LAO",
          "continent": "Asia",
          "geosize_group": "small",
          "index": 98,
          "local_name": "Lao",
          "surface_area": 236800
         },
         {
          "code": "LVA",
          "continent": "Europe",
          "geosize_group": "small",
          "index": 99,
          "local_name": "Latvija",
          "surface_area": 64589
         },
         {
          "code": "LSO",
          "continent": "Africa",
          "geosize_group": "small",
          "index": 100,
          "local_name": "Lesotho",
          "surface_area": 30355
         },
         {
          "code": "LBN",
          "continent": "Asia",
          "geosize_group": "small",
          "index": 101,
          "local_name": "Lubnan",
          "surface_area": 10400
         },
         {
          "code": "LBR",
          "continent": "Africa",
          "geosize_group": "small",
          "index": 102,
          "local_name": "Liberia",
          "surface_area": 111369
         },
         {
          "code": "LBY",
          "continent": "Africa",
          "geosize_group": "medium",
          "index": 103,
          "local_name": "Libiya",
          "surface_area": 1759540
         },
         {
          "code": "LIE",
          "continent": "Europe",
          "geosize_group": "small",
          "index": 104,
          "local_name": "Liechtenstein",
          "surface_area": 160
         },
         {
          "code": "LTU",
          "continent": "Europe",
          "geosize_group": "small",
          "index": 105,
          "local_name": "Lietuva",
          "surface_area": 65301
         },
         {
          "code": "LUX",
          "continent": "Europe",
          "geosize_group": "small",
          "index": 106,
          "local_name": "Luxembourg/Letzebuerg",
          "surface_area": 2586
         },
         {
          "code": "MAC",
          "continent": "Asia",
          "geosize_group": "small",
          "index": 107,
          "local_name": "Macau/Aomen",
          "surface_area": 18
         },
         {
          "code": "MDG",
          "continent": "Africa",
          "geosize_group": "medium",
          "index": 108,
          "local_name": "Madagasikara/Madagascar",
          "surface_area": 587041
         },
         {
          "code": "MKD",
          "continent": "Europe",
          "geosize_group": "small",
          "index": 109,
          "local_name": "Makedonija",
          "surface_area": 25713
         },
         {
          "code": "MWI",
          "continent": "Africa",
          "geosize_group": "small",
          "index": 110,
          "local_name": "Malawi",
          "surface_area": 118484
         },
         {
          "code": "MDV",
          "continent": "Asia",
          "geosize_group": "small",
          "index": 111,
          "local_name": "Dhivehi Raajje/Maldives",
          "surface_area": 298
         },
         {
          "code": "MYS",
          "continent": "Asia",
          "geosize_group": "small",
          "index": 112,
          "local_name": "Malaysia",
          "surface_area": 329758
         },
         {
          "code": "MLI",
          "continent": "Africa",
          "geosize_group": "medium",
          "index": 113,
          "local_name": "Mali",
          "surface_area": 1240190
         },
         {
          "code": "MLT",
          "continent": "Europe",
          "geosize_group": "small",
          "index": 114,
          "local_name": "Malta",
          "surface_area": 316
         },
         {
          "code": "MAR",
          "continent": "Africa",
          "geosize_group": "medium",
          "index": 115,
          "local_name": "Al-Maghrib",
          "surface_area": 446550
         },
         {
          "code": "MHL",
          "continent": "Oceania",
          "geosize_group": "small",
          "index": 116,
          "local_name": "Marshall Islands/Majol",
          "surface_area": 181
         },
         {
          "code": "MRT",
          "continent": "Africa",
          "geosize_group": "medium",
          "index": 117,
          "local_name": "Muritaniya/Mauritanie",
          "surface_area": 1025520
         },
         {
          "code": "MUS",
          "continent": "Africa",
          "geosize_group": "small",
          "index": 118,
          "local_name": "Mauritius",
          "surface_area": 2040
         },
         {
          "code": "MEX",
          "continent": "North America",
          "geosize_group": "medium",
          "index": 119,
          "local_name": "Mexico",
          "surface_area": 1958200
         },
         {
          "code": "FSM",
          "continent": "Oceania",
          "geosize_group": "small",
          "index": 120,
          "local_name": "Micronesia",
          "surface_area": 702
         },
         {
          "code": "MDA",
          "continent": "Europe",
          "geosize_group": "small",
          "index": 121,
          "local_name": "Moldova",
          "surface_area": 33851
         },
         {
          "code": "MCO",
          "continent": "Europe",
          "geosize_group": "small",
          "index": 122,
          "local_name": "Monaco",
          "surface_area": 1.5
         },
         {
          "code": "MNG",
          "continent": "Asia",
          "geosize_group": "medium",
          "index": 123,
          "local_name": "Mongol Uls",
          "surface_area": 1566500
         },
         {
          "code": "MOZ",
          "continent": "Africa",
          "geosize_group": "medium",
          "index": 124,
          "local_name": "Mocambique",
          "surface_area": 801590
         },
         {
          "code": "MMR",
          "continent": "Asia",
          "geosize_group": "medium",
          "index": 125,
          "local_name": "Myanma Pye",
          "surface_area": 676578
         },
         {
          "code": "NAM",
          "continent": "Africa",
          "geosize_group": "medium",
          "index": 126,
          "local_name": "Namibia",
          "surface_area": 824292
         },
         {
          "code": "NRU",
          "continent": "Oceania",
          "geosize_group": "small",
          "index": 127,
          "local_name": "Naoero/Nauru",
          "surface_area": 21
         },
         {
          "code": "NPL",
          "continent": "Asia",
          "geosize_group": "small",
          "index": 128,
          "local_name": "Nepal",
          "surface_area": 147181
         },
         {
          "code": "NIC",
          "continent": "North America",
          "geosize_group": "small",
          "index": 129,
          "local_name": "Nicaragua",
          "surface_area": 130000
         },
         {
          "code": "NER",
          "continent": "Africa",
          "geosize_group": "medium",
          "index": 130,
          "local_name": "Niger",
          "surface_area": 1267000
         },
         {
          "code": "NGA",
          "continent": "Africa",
          "geosize_group": "medium",
          "index": 131,
          "local_name": "Nigeria",
          "surface_area": 923768
         },
         {
          "code": "NOR",
          "continent": "Europe",
          "geosize_group": "small",
          "index": 132,
          "local_name": "Norge",
          "surface_area": 323877
         },
         {
          "code": "CIV",
          "continent": "Africa",
          "geosize_group": "small",
          "index": 133,
          "local_name": "Cote dIvoire",
          "surface_area": 322463
         },
         {
          "code": "OMN",
          "continent": "Asia",
          "geosize_group": "small",
          "index": 134,
          "local_name": "´Uman",
          "surface_area": 309500
         },
         {
          "code": "PAK",
          "continent": "Asia",
          "geosize_group": "medium",
          "index": 135,
          "local_name": "Pakistan",
          "surface_area": 796095
         },
         {
          "code": "PLW",
          "continent": "Oceania",
          "geosize_group": "small",
          "index": 136,
          "local_name": "Belau/Palau",
          "surface_area": 459
         },
         {
          "code": "PAN",
          "continent": "North America",
          "geosize_group": "small",
          "index": 137,
          "local_name": "Panama",
          "surface_area": 75517
         },
         {
          "code": "PNG",
          "continent": "Oceania",
          "geosize_group": "medium",
          "index": 138,
          "local_name": "Papua New Guinea/Papua Niugini",
          "surface_area": 462840
         },
         {
          "code": "PRY",
          "continent": "South America",
          "geosize_group": "medium",
          "index": 139,
          "local_name": "Paraguay",
          "surface_area": 406752
         },
         {
          "code": "PER",
          "continent": "South America",
          "geosize_group": "medium",
          "index": 140,
          "local_name": "Peru/Piruw",
          "surface_area": 1285220
         },
         {
          "code": "MNP",
          "continent": "Oceania",
          "geosize_group": "small",
          "index": 141,
          "local_name": "Northern Mariana Islands",
          "surface_area": 464
         },
         {
          "code": "PRT",
          "continent": "Europe",
          "geosize_group": "small",
          "index": 142,
          "local_name": "Portugal",
          "surface_area": 91982
         },
         {
          "code": "PRI",
          "continent": "North America",
          "geosize_group": "small",
          "index": 143,
          "local_name": "Puerto Rico",
          "surface_area": 8875
         },
         {
          "code": "POL",
          "continent": "Europe",
          "geosize_group": "small",
          "index": 144,
          "local_name": "Polska",
          "surface_area": 323250
         },
         {
          "code": "GNQ",
          "continent": "Africa",
          "geosize_group": "small",
          "index": 145,
          "local_name": "Guinea Ecuatorial",
          "surface_area": 28051
         },
         {
          "code": "QAT",
          "continent": "Asia",
          "geosize_group": "small",
          "index": 146,
          "local_name": "Qatar",
          "surface_area": 11000
         },
         {
          "code": "FRA",
          "continent": "Europe",
          "geosize_group": "medium",
          "index": 147,
          "local_name": "France",
          "surface_area": 551500
         },
         {
          "code": "PYF",
          "continent": "Oceania",
          "geosize_group": "small",
          "index": 148,
          "local_name": "Polynesie francaise",
          "surface_area": 4000
         },
         {
          "code": "RWA",
          "continent": "Africa",
          "geosize_group": "small",
          "index": 149,
          "local_name": "Rwanda/Urwanda",
          "surface_area": 26338
         },
         {
          "code": "SWE",
          "continent": "Europe",
          "geosize_group": "medium",
          "index": 150,
          "local_name": "Sverige",
          "surface_area": 449964
         },
         {
          "code": "KNA",
          "continent": "North America",
          "geosize_group": "small",
          "index": 151,
          "local_name": "Saint Kitts and Nevis",
          "surface_area": 261
         },
         {
          "code": "LCA",
          "continent": "North America",
          "geosize_group": "small",
          "index": 152,
          "local_name": "Saint Lucia",
          "surface_area": 622
         },
         {
          "code": "VCT",
          "continent": "North America",
          "geosize_group": "small",
          "index": 153,
          "local_name": "Saint Vincent and the Grenadines",
          "surface_area": 388
         },
         {
          "code": "DEU",
          "continent": "Europe",
          "geosize_group": "medium",
          "index": 154,
          "local_name": "Deutschland",
          "surface_area": 357022
         },
         {
          "code": "SLB",
          "continent": "Oceania",
          "geosize_group": "small",
          "index": 155,
          "local_name": "Solomon Islands",
          "surface_area": 28896
         },
         {
          "code": "ZMB",
          "continent": "Africa",
          "geosize_group": "medium",
          "index": 156,
          "local_name": "Zambia",
          "surface_area": 752618
         },
         {
          "code": "WSM",
          "continent": "Oceania",
          "geosize_group": "small",
          "index": 157,
          "local_name": "Samoa",
          "surface_area": 2831
         },
         {
          "code": "SMR",
          "continent": "Europe",
          "geosize_group": "small",
          "index": 158,
          "local_name": "San Marino",
          "surface_area": 61
         },
         {
          "code": "STP",
          "continent": "Africa",
          "geosize_group": "small",
          "index": 159,
          "local_name": "Sao Tome e Principe",
          "surface_area": 964
         },
         {
          "code": "SAU",
          "continent": "Asia",
          "geosize_group": "large",
          "index": 160,
          "local_name": "Al-´Arabiya as-Sa´udiya",
          "surface_area": 2149690
         },
         {
          "code": "SEN",
          "continent": "Africa",
          "geosize_group": "small",
          "index": 161,
          "local_name": "Senegal/Sounougal",
          "surface_area": 196722
         },
         {
          "code": "SYC",
          "continent": "Africa",
          "geosize_group": "small",
          "index": 162,
          "local_name": "Sesel/Seychelles",
          "surface_area": 455
         },
         {
          "code": "SLE",
          "continent": "Africa",
          "geosize_group": "small",
          "index": 163,
          "local_name": "Sierra Leone",
          "surface_area": 71740
         },
         {
          "code": "SGP",
          "continent": "Asia",
          "geosize_group": "small",
          "index": 164,
          "local_name": "Singapore/Singapura/Xinjiapo/Singapur",
          "surface_area": 618
         },
         {
          "code": "SVK",
          "continent": "Europe",
          "geosize_group": "small",
          "index": 165,
          "local_name": "Slovensko",
          "surface_area": 49012
         },
         {
          "code": "SVN",
          "continent": "Europe",
          "geosize_group": "small",
          "index": 166,
          "local_name": "Slovenija",
          "surface_area": 20256
         },
         {
          "code": "SOM",
          "continent": "Africa",
          "geosize_group": "medium",
          "index": 167,
          "local_name": "Soomaaliya",
          "surface_area": 637657
         },
         {
          "code": "LKA",
          "continent": "Asia",
          "geosize_group": "small",
          "index": 168,
          "local_name": "Sri Lanka/Ilankai",
          "surface_area": 65610
         },
         {
          "code": "SDN",
          "continent": "Africa",
          "geosize_group": "large",
          "index": 169,
          "local_name": "As-Sudan",
          "surface_area": 2505810
         },
         {
          "code": "FIN",
          "continent": "Europe",
          "geosize_group": "small",
          "index": 170,
          "local_name": "Suomi",
          "surface_area": 338145
         },
         {
          "code": "SUR",
          "continent": "South America",
          "geosize_group": "small",
          "index": 171,
          "local_name": "Suriname",
          "surface_area": 163265
         },
         {
          "code": "SWZ",
          "continent": "Africa",
          "geosize_group": "small",
          "index": 172,
          "local_name": "kaNgwane",
          "surface_area": 17364
         },
         {
          "code": "CHE",
          "continent": "Europe",
          "geosize_group": "small",
          "index": 173,
          "local_name": "Schweiz/Suisse/Svizzera/Svizra",
          "surface_area": 41284
         },
         {
          "code": "SYR",
          "continent": "Asia",
          "geosize_group": "small",
          "index": 174,
          "local_name": "Suriya",
          "surface_area": 185180
         },
         {
          "code": "TJK",
          "continent": "Asia",
          "geosize_group": "small",
          "index": 175,
          "local_name": "Tocikiston",
          "surface_area": 143100
         },
         {
          "code": "TZA",
          "continent": "Africa",
          "geosize_group": "medium",
          "index": 176,
          "local_name": "Tanzania",
          "surface_area": 883749
         },
         {
          "code": "DNK",
          "continent": "Europe",
          "geosize_group": "small",
          "index": 177,
          "local_name": "Danmark",
          "surface_area": 43094
         },
         {
          "code": "THA",
          "continent": "Asia",
          "geosize_group": "medium",
          "index": 178,
          "local_name": "Prathet Thai",
          "surface_area": 513115
         },
         {
          "code": "TGO",
          "continent": "Africa",
          "geosize_group": "small",
          "index": 179,
          "local_name": "Togo",
          "surface_area": 56785
         },
         {
          "code": "TON",
          "continent": "Oceania",
          "geosize_group": "small",
          "index": 180,
          "local_name": "Tonga",
          "surface_area": 650
         },
         {
          "code": "TTO",
          "continent": "North America",
          "geosize_group": "small",
          "index": 181,
          "local_name": "Trinidad and Tobago",
          "surface_area": 5130
         },
         {
          "code": "TCD",
          "continent": "Africa",
          "geosize_group": "medium",
          "index": 182,
          "local_name": "Tchad/Tshad",
          "surface_area": 1284000
         },
         {
          "code": "CZE",
          "continent": "Europe",
          "geosize_group": "small",
          "index": 183,
          "local_name": "¸esko",
          "surface_area": 78866
         },
         {
          "code": "TUN",
          "continent": "Africa",
          "geosize_group": "small",
          "index": 184,
          "local_name": "Tunis/Tunisie",
          "surface_area": 163610
         },
         {
          "code": "TUR",
          "continent": "Asia",
          "geosize_group": "medium",
          "index": 185,
          "local_name": "Turkiye",
          "surface_area": 774815
         },
         {
          "code": "TKM",
          "continent": "Asia",
          "geosize_group": "medium",
          "index": 186,
          "local_name": "Turkmenostan",
          "surface_area": 488100
         },
         {
          "code": "TCA",
          "continent": "North America",
          "geosize_group": "small",
          "index": 187,
          "local_name": "The Turks and Caicos Islands",
          "surface_area": 430
         },
         {
          "code": "TUV",
          "continent": "Oceania",
          "geosize_group": "small",
          "index": 188,
          "local_name": "Tuvalu",
          "surface_area": 26
         },
         {
          "code": "UGA",
          "continent": "Africa",
          "geosize_group": "small",
          "index": 189,
          "local_name": "Uganda",
          "surface_area": 241038
         },
         {
          "code": "UKR",
          "continent": "Europe",
          "geosize_group": "medium",
          "index": 190,
          "local_name": "Ukrajina",
          "surface_area": 603700
         },
         {
          "code": "HUN",
          "continent": "Europe",
          "geosize_group": "small",
          "index": 191,
          "local_name": "Magyarorszag",
          "surface_area": 93030
         },
         {
          "code": "URY",
          "continent": "South America",
          "geosize_group": "small",
          "index": 192,
          "local_name": "Uruguay",
          "surface_area": 175016
         },
         {
          "code": "NCL",
          "continent": "Oceania",
          "geosize_group": "small",
          "index": 193,
          "local_name": "Nouvelle-Caledonie",
          "surface_area": 18575
         },
         {
          "code": "NZL",
          "continent": "Oceania",
          "geosize_group": "small",
          "index": 194,
          "local_name": "New Zealand/Aotearoa",
          "surface_area": 270534
         },
         {
          "code": "UZB",
          "continent": "Asia",
          "geosize_group": "medium",
          "index": 195,
          "local_name": "Uzbekiston",
          "surface_area": 447400
         },
         {
          "code": "BLR",
          "continent": "Europe",
          "geosize_group": "small",
          "index": 196,
          "local_name": "Belarus",
          "surface_area": 207600
         },
         {
          "code": "VUT",
          "continent": "Oceania",
          "geosize_group": "small",
          "index": 197,
          "local_name": "Vanuatu",
          "surface_area": 12189
         },
         {
          "code": "VEN",
          "continent": "South America",
          "geosize_group": "medium",
          "index": 198,
          "local_name": "Venezuela",
          "surface_area": 912050
         },
         {
          "code": "RUS",
          "continent": "Europe",
          "geosize_group": "large",
          "index": 199,
          "local_name": "Rossija",
          "surface_area": 17075400
         },
         {
          "code": "VNM",
          "continent": "Asia",
          "geosize_group": "small",
          "index": 200,
          "local_name": "Viet Nam",
          "surface_area": 331689
         },
         {
          "code": "EST",
          "continent": "Europe",
          "geosize_group": "small",
          "index": 201,
          "local_name": "Eesti",
          "surface_area": 45227
         },
         {
          "code": "USA",
          "continent": "North America",
          "geosize_group": "large",
          "index": 202,
          "local_name": "United States",
          "surface_area": 9363520
         },
         {
          "code": "VIR",
          "continent": "North America",
          "geosize_group": "small",
          "index": 203,
          "local_name": "Virgin Islands of the United States",
          "surface_area": 347
         },
         {
          "code": "ZWE",
          "continent": "Africa",
          "geosize_group": "medium",
          "index": 204,
          "local_name": "Zimbabwe",
          "surface_area": 390757
         },
         {
          "code": "PSE",
          "continent": "Asia",
          "geosize_group": "small",
          "index": 205,
          "local_name": "Filastin",
          "surface_area": 6257
         }
        ],
        "schema": {
         "fields": [
          {
           "name": "index",
           "type": "integer"
          },
          {
           "name": "local_name",
           "type": "string"
          },
          {
           "name": "continent",
           "type": "string"
          },
          {
           "name": "code",
           "type": "string"
          },
          {
           "name": "surface_area",
           "type": "number"
          },
          {
           "name": "geosize_group",
           "type": "string"
          }
         ],
         "pandas_version": "1.4.0",
         "primaryKey": [
          "index"
         ]
        }
       },
       "total_rows": 206,
       "truncation_type": null
      },
      "text/html": [
       "<div>\n",
       "<style scoped>\n",
       "    .dataframe tbody tr th:only-of-type {\n",
       "        vertical-align: middle;\n",
       "    }\n",
       "\n",
       "    .dataframe tbody tr th {\n",
       "        vertical-align: top;\n",
       "    }\n",
       "\n",
       "    .dataframe thead th {\n",
       "        text-align: right;\n",
       "    }\n",
       "</style>\n",
       "<table border=\"1\" class=\"dataframe\">\n",
       "  <thead>\n",
       "    <tr style=\"text-align: right;\">\n",
       "      <th></th>\n",
       "      <th>local_name</th>\n",
       "      <th>continent</th>\n",
       "      <th>code</th>\n",
       "      <th>surface_area</th>\n",
       "      <th>geosize_group</th>\n",
       "    </tr>\n",
       "  </thead>\n",
       "  <tbody>\n",
       "    <tr>\n",
       "      <th>0</th>\n",
       "      <td>Afganistan/Afqanestan</td>\n",
       "      <td>Asia</td>\n",
       "      <td>AFG</td>\n",
       "      <td>652090.0</td>\n",
       "      <td>medium</td>\n",
       "    </tr>\n",
       "    <tr>\n",
       "      <th>1</th>\n",
       "      <td>Nederland</td>\n",
       "      <td>Europe</td>\n",
       "      <td>NLD</td>\n",
       "      <td>41526.0</td>\n",
       "      <td>small</td>\n",
       "    </tr>\n",
       "    <tr>\n",
       "      <th>2</th>\n",
       "      <td>Shqiperia</td>\n",
       "      <td>Europe</td>\n",
       "      <td>ALB</td>\n",
       "      <td>28748.0</td>\n",
       "      <td>small</td>\n",
       "    </tr>\n",
       "    <tr>\n",
       "      <th>3</th>\n",
       "      <td>Al-Jazair/Algerie</td>\n",
       "      <td>Africa</td>\n",
       "      <td>DZA</td>\n",
       "      <td>2381740.0</td>\n",
       "      <td>large</td>\n",
       "    </tr>\n",
       "    <tr>\n",
       "      <th>4</th>\n",
       "      <td>Amerika Samoa</td>\n",
       "      <td>Oceania</td>\n",
       "      <td>ASM</td>\n",
       "      <td>199.0</td>\n",
       "      <td>small</td>\n",
       "    </tr>\n",
       "    <tr>\n",
       "      <th>...</th>\n",
       "      <td>...</td>\n",
       "      <td>...</td>\n",
       "      <td>...</td>\n",
       "      <td>...</td>\n",
       "      <td>...</td>\n",
       "    </tr>\n",
       "    <tr>\n",
       "      <th>201</th>\n",
       "      <td>Eesti</td>\n",
       "      <td>Europe</td>\n",
       "      <td>EST</td>\n",
       "      <td>45227.0</td>\n",
       "      <td>small</td>\n",
       "    </tr>\n",
       "    <tr>\n",
       "      <th>202</th>\n",
       "      <td>United States</td>\n",
       "      <td>North America</td>\n",
       "      <td>USA</td>\n",
       "      <td>9363520.0</td>\n",
       "      <td>large</td>\n",
       "    </tr>\n",
       "    <tr>\n",
       "      <th>203</th>\n",
       "      <td>Virgin Islands of the United States</td>\n",
       "      <td>North America</td>\n",
       "      <td>VIR</td>\n",
       "      <td>347.0</td>\n",
       "      <td>small</td>\n",
       "    </tr>\n",
       "    <tr>\n",
       "      <th>204</th>\n",
       "      <td>Zimbabwe</td>\n",
       "      <td>Africa</td>\n",
       "      <td>ZWE</td>\n",
       "      <td>390757.0</td>\n",
       "      <td>medium</td>\n",
       "    </tr>\n",
       "    <tr>\n",
       "      <th>205</th>\n",
       "      <td>Filastin</td>\n",
       "      <td>Asia</td>\n",
       "      <td>PSE</td>\n",
       "      <td>6257.0</td>\n",
       "      <td>small</td>\n",
       "    </tr>\n",
       "  </tbody>\n",
       "</table>\n",
       "<p>206 rows × 5 columns</p>\n",
       "</div>"
      ],
      "text/plain": [
       "                              local_name  ... geosize_group\n",
       "0                  Afganistan/Afqanestan  ...        medium\n",
       "1                              Nederland  ...         small\n",
       "2                              Shqiperia  ...         small\n",
       "3                     Al-Jazair/Algerie  ...         large\n",
       "4                          Amerika Samoa  ...         small\n",
       "..                                   ...  ...           ...\n",
       "201                                Eesti  ...         small\n",
       "202                        United States  ...         large\n",
       "203  Virgin Islands of the United States  ...         small\n",
       "204                             Zimbabwe  ...        medium\n",
       "205                             Filastin  ...         small\n",
       "\n",
       "[206 rows x 5 columns]"
      ]
     },
     "execution_count": 1,
     "metadata": {},
     "output_type": "execute_result"
    }
   ],
   "source": [
    "SELECT local_name, continent, code, surface_area,\n",
    "    CASE WHEN surface_area > 2000000 THEN 'large'\n",
    "        WHEN surface_area > 350000 THEN 'medium'\n",
    "        ELSE 'small' END\n",
    "        AS geosize_group\n",
    "FROM world.countries;"
   ]
  },
  {
   "cell_type": "code",
   "execution_count": 4,
   "id": "f2848a96-ca7d-41e2-ac54-c49fa2dfa73c",
   "metadata": {
    "customType": "sql",
    "dataFrameVariableName": "df2",
    "executionCancelledAt": null,
    "executionTime": 1889,
    "lastExecutedAt": 1687828834987,
    "lastScheduledRunId": null,
    "lastSuccessfullyExecutedCode": "select * from world.populations where country_code = 'COL'",
    "outputsMetadata": {
     "0": {
      "height": 117,
      "type": "dataFrame"
     }
    },
    "sqlCellMode": "dataFrame",
    "sqlSource": {
     "integrationId": "c632441c-e1dc-4637-a56d-10b85efd89be",
     "type": "integration"
    }
   },
   "outputs": [
    {
     "@datacamp/metadata": {
      "executedQuery": "select * from world.populations where country_code = 'COL'",
      "executedQueryParameters": []
     },
     "data": {
      "application/com.datacamp.data-table.v1+json": {
       "table": {
        "data": [
         {
          "country_code": "COL",
          "fertility_rate": 2.01,
          "index": 0,
          "life_expectancy": 73.277855,
          "pop_id": 86,
          "size": 45918100,
          "year": 2010
         },
         {
          "country_code": "COL",
          "fertility_rate": 1.875,
          "index": 1,
          "life_expectancy": 74.18202,
          "pop_id": 85,
          "size": 48228704,
          "year": 2015
         }
        ],
        "schema": {
         "fields": [
          {
           "name": "index",
           "type": "integer"
          },
          {
           "name": "pop_id",
           "type": "integer"
          },
          {
           "name": "country_code",
           "type": "string"
          },
          {
           "name": "year",
           "type": "integer"
          },
          {
           "name": "fertility_rate",
           "type": "number"
          },
          {
           "name": "life_expectancy",
           "type": "number"
          },
          {
           "name": "size",
           "type": "integer"
          }
         ],
         "pandas_version": "1.4.0",
         "primaryKey": [
          "index"
         ]
        }
       },
       "total_rows": 2,
       "truncation_type": null
      },
      "text/html": [
       "<div>\n",
       "<style scoped>\n",
       "    .dataframe tbody tr th:only-of-type {\n",
       "        vertical-align: middle;\n",
       "    }\n",
       "\n",
       "    .dataframe tbody tr th {\n",
       "        vertical-align: top;\n",
       "    }\n",
       "\n",
       "    .dataframe thead th {\n",
       "        text-align: right;\n",
       "    }\n",
       "</style>\n",
       "<table border=\"1\" class=\"dataframe\">\n",
       "  <thead>\n",
       "    <tr style=\"text-align: right;\">\n",
       "      <th></th>\n",
       "      <th>pop_id</th>\n",
       "      <th>country_code</th>\n",
       "      <th>year</th>\n",
       "      <th>fertility_rate</th>\n",
       "      <th>life_expectancy</th>\n",
       "      <th>size</th>\n",
       "    </tr>\n",
       "  </thead>\n",
       "  <tbody>\n",
       "    <tr>\n",
       "      <th>0</th>\n",
       "      <td>86</td>\n",
       "      <td>COL</td>\n",
       "      <td>2010</td>\n",
       "      <td>2.010</td>\n",
       "      <td>73.277855</td>\n",
       "      <td>45918100</td>\n",
       "    </tr>\n",
       "    <tr>\n",
       "      <th>1</th>\n",
       "      <td>85</td>\n",
       "      <td>COL</td>\n",
       "      <td>2015</td>\n",
       "      <td>1.875</td>\n",
       "      <td>74.182020</td>\n",
       "      <td>48228704</td>\n",
       "    </tr>\n",
       "  </tbody>\n",
       "</table>\n",
       "</div>"
      ],
      "text/plain": [
       "   pop_id country_code  year  fertility_rate  life_expectancy      size\n",
       "0      86          COL  2010           2.010        73.277855  45918100\n",
       "1      85          COL  2015           1.875        74.182020  48228704"
      ]
     },
     "execution_count": 4,
     "metadata": {},
     "output_type": "execute_result"
    }
   ],
   "source": [
    "select * from world.populations where country_code = 'COL'"
   ]
  },
  {
   "cell_type": "code",
   "execution_count": 2,
   "id": "a4501ea2-2b0e-4d3a-aaa1-0a8e08749a59",
   "metadata": {
    "customType": "sql",
    "dataFrameVariableName": "df",
    "executionTime": 1386,
    "initial": false,
    "integrationId": "c632441c-e1dc-4637-a56d-10b85efd89be",
    "lastSuccessfullyExecutedCode": "SELECT country_code, size,\n    CASE WHEN size > 50000000 THEN 'large'\n        WHEN size > 1000000 THEN 'medium'\n        ELSE 'small' END\n        AS popsize_group\nFROM world.populations\nWHERE year = 2015;",
    "outputsMetadata": {
     "0": {
      "height": 310,
      "type": "dataFrame"
     }
    }
   },
   "outputs": [
    {
     "data": {
      "application/com.datacamp.data-table.v1+json": {
       "table": {
        "data": [
         {
          "country_code": "ABW",
          "index": 0,
          "popsize_group": "small",
          "size": 103889
         },
         {
          "country_code": "AFG",
          "index": 1,
          "popsize_group": "medium",
          "size": 32526562
         },
         {
          "country_code": "AGO",
          "index": 2,
          "popsize_group": "medium",
          "size": 25021974
         },
         {
          "country_code": "ALB",
          "index": 3,
          "popsize_group": "medium",
          "size": 2889167
         },
         {
          "country_code": "AND",
          "index": 4,
          "popsize_group": "small",
          "size": 70473
         },
         {
          "country_code": "ARE",
          "index": 5,
          "popsize_group": "medium",
          "size": 9156963
         },
         {
          "country_code": "ARG",
          "index": 6,
          "popsize_group": "medium",
          "size": 43416756
         },
         {
          "country_code": "ARM",
          "index": 7,
          "popsize_group": "medium",
          "size": 3017712
         },
         {
          "country_code": "ASM",
          "index": 8,
          "popsize_group": "small",
          "size": 55538
         },
         {
          "country_code": "ATG",
          "index": 9,
          "popsize_group": "small",
          "size": 91818
         },
         {
          "country_code": "AUS",
          "index": 10,
          "popsize_group": "medium",
          "size": 23789752
         },
         {
          "country_code": "AUT",
          "index": 11,
          "popsize_group": "medium",
          "size": 8638366
         },
         {
          "country_code": "AZE",
          "index": 12,
          "popsize_group": "medium",
          "size": 9649341
         },
         {
          "country_code": "BDI",
          "index": 13,
          "popsize_group": "medium",
          "size": 11178921
         },
         {
          "country_code": "BEL",
          "index": 14,
          "popsize_group": "medium",
          "size": 11249420
         },
         {
          "country_code": "BEN",
          "index": 15,
          "popsize_group": "medium",
          "size": 10879829
         },
         {
          "country_code": "BFA",
          "index": 16,
          "popsize_group": "medium",
          "size": 18105570
         },
         {
          "country_code": "BGD",
          "index": 17,
          "popsize_group": "large",
          "size": 160995650
         },
         {
          "country_code": "BGR",
          "index": 18,
          "popsize_group": "medium",
          "size": 7177991
         },
         {
          "country_code": "BHR",
          "index": 19,
          "popsize_group": "medium",
          "size": 1377237
         },
         {
          "country_code": "BHS",
          "index": 20,
          "popsize_group": "small",
          "size": 388019
         },
         {
          "country_code": "BIH",
          "index": 21,
          "popsize_group": "medium",
          "size": 3810416
         },
         {
          "country_code": "BLR",
          "index": 22,
          "popsize_group": "medium",
          "size": 9489616
         },
         {
          "country_code": "BLZ",
          "index": 23,
          "popsize_group": "small",
          "size": 359287
         },
         {
          "country_code": "BMU",
          "index": 24,
          "popsize_group": "small",
          "size": 65235
         },
         {
          "country_code": "BOL",
          "index": 25,
          "popsize_group": "medium",
          "size": 10724705
         },
         {
          "country_code": "BRA",
          "index": 26,
          "popsize_group": "large",
          "size": 207847520
         },
         {
          "country_code": "BRB",
          "index": 27,
          "popsize_group": "small",
          "size": 284215
         },
         {
          "country_code": "BRN",
          "index": 28,
          "popsize_group": "small",
          "size": 423188
         },
         {
          "country_code": "BTN",
          "index": 29,
          "popsize_group": "small",
          "size": 774830
         },
         {
          "country_code": "BWA",
          "index": 30,
          "popsize_group": "medium",
          "size": 2262485
         },
         {
          "country_code": "CAF",
          "index": 31,
          "popsize_group": "medium",
          "size": 4900274
         },
         {
          "country_code": "CAN",
          "index": 32,
          "popsize_group": "medium",
          "size": 35848608
         },
         {
          "country_code": "CHE",
          "index": 33,
          "popsize_group": "medium",
          "size": 8281430
         },
         {
          "country_code": "CHI",
          "index": 34,
          "popsize_group": "small",
          "size": 163692
         },
         {
          "country_code": "CHL",
          "index": 35,
          "popsize_group": "medium",
          "size": 17948140
         },
         {
          "country_code": "CHN",
          "index": 36,
          "popsize_group": "large",
          "size": 1371220000
         },
         {
          "country_code": "CIV",
          "index": 37,
          "popsize_group": "medium",
          "size": 22701556
         },
         {
          "country_code": "CMR",
          "index": 38,
          "popsize_group": "medium",
          "size": 23344180
         },
         {
          "country_code": "COD",
          "index": 39,
          "popsize_group": "large",
          "size": 77266816
         },
         {
          "country_code": "COG",
          "index": 40,
          "popsize_group": "medium",
          "size": 4620330
         },
         {
          "country_code": "COL",
          "index": 41,
          "popsize_group": "medium",
          "size": 48228704
         },
         {
          "country_code": "COM",
          "index": 42,
          "popsize_group": "small",
          "size": 788474
         },
         {
          "country_code": "CPV",
          "index": 43,
          "popsize_group": "small",
          "size": 520502
         },
         {
          "country_code": "CRI",
          "index": 44,
          "popsize_group": "medium",
          "size": 4807850
         },
         {
          "country_code": "CUB",
          "index": 45,
          "popsize_group": "medium",
          "size": 11389562
         },
         {
          "country_code": "CUW",
          "index": 46,
          "popsize_group": "small",
          "size": 157979
         },
         {
          "country_code": "CYM",
          "index": 47,
          "popsize_group": "small",
          "size": 59967
         },
         {
          "country_code": "CYP",
          "index": 48,
          "popsize_group": "medium",
          "size": 1165300
         },
         {
          "country_code": "CZE",
          "index": 49,
          "popsize_group": "medium",
          "size": 10546059
         },
         {
          "country_code": "DEU",
          "index": 50,
          "popsize_group": "large",
          "size": 81679770
         },
         {
          "country_code": "DJI",
          "index": 51,
          "popsize_group": "small",
          "size": 887861
         },
         {
          "country_code": "DMA",
          "index": 52,
          "popsize_group": "small",
          "size": 72680
         },
         {
          "country_code": "DNK",
          "index": 53,
          "popsize_group": "medium",
          "size": 5683483
         },
         {
          "country_code": "DOM",
          "index": 54,
          "popsize_group": "medium",
          "size": 10528391
         },
         {
          "country_code": "DZA",
          "index": 55,
          "popsize_group": "medium",
          "size": 39666520
         },
         {
          "country_code": "ECU",
          "index": 56,
          "popsize_group": "medium",
          "size": 16144363
         },
         {
          "country_code": "EGY",
          "index": 57,
          "popsize_group": "large",
          "size": 91508080
         },
         {
          "country_code": "ERI",
          "index": 58,
          "popsize_group": "small",
          "size": null
         },
         {
          "country_code": "ESP",
          "index": 59,
          "popsize_group": "medium",
          "size": 46443992
         },
         {
          "country_code": "EST",
          "index": 60,
          "popsize_group": "medium",
          "size": 1314608
         },
         {
          "country_code": "ETH",
          "index": 61,
          "popsize_group": "large",
          "size": 99390750
         },
         {
          "country_code": "FIN",
          "index": 62,
          "popsize_group": "medium",
          "size": 5479531
         },
         {
          "country_code": "FJI",
          "index": 63,
          "popsize_group": "small",
          "size": 892145
         },
         {
          "country_code": "FRA",
          "index": 64,
          "popsize_group": "large",
          "size": 66538392
         },
         {
          "country_code": "FRO",
          "index": 65,
          "popsize_group": "small",
          "size": 48199
         },
         {
          "country_code": "FSM",
          "index": 66,
          "popsize_group": "small",
          "size": 104460
         },
         {
          "country_code": "GAB",
          "index": 67,
          "popsize_group": "medium",
          "size": 1725292
         },
         {
          "country_code": "GBR",
          "index": 68,
          "popsize_group": "large",
          "size": 65128860
         },
         {
          "country_code": "GEO",
          "index": 69,
          "popsize_group": "medium",
          "size": 3717100
         },
         {
          "country_code": "GHA",
          "index": 70,
          "popsize_group": "medium",
          "size": 27409892
         },
         {
          "country_code": "GIB",
          "index": 71,
          "popsize_group": "small",
          "size": 32217
         },
         {
          "country_code": "GIN",
          "index": 72,
          "popsize_group": "medium",
          "size": 12608590
         },
         {
          "country_code": "GMB",
          "index": 73,
          "popsize_group": "medium",
          "size": 1990924
         },
         {
          "country_code": "GNB",
          "index": 74,
          "popsize_group": "medium",
          "size": 1844325
         },
         {
          "country_code": "GNQ",
          "index": 75,
          "popsize_group": "small",
          "size": 845060
         },
         {
          "country_code": "GRC",
          "index": 76,
          "popsize_group": "medium",
          "size": 10820883
         },
         {
          "country_code": "GRD",
          "index": 77,
          "popsize_group": "small",
          "size": 106825
         },
         {
          "country_code": "GRL",
          "index": 78,
          "popsize_group": "small",
          "size": 56114
         },
         {
          "country_code": "GTM",
          "index": 79,
          "popsize_group": "medium",
          "size": 16342897
         },
         {
          "country_code": "GUM",
          "index": 80,
          "popsize_group": "small",
          "size": 169885
         },
         {
          "country_code": "GUY",
          "index": 81,
          "popsize_group": "small",
          "size": 767085
         },
         {
          "country_code": "HKG",
          "index": 82,
          "popsize_group": "medium",
          "size": 7305700
         },
         {
          "country_code": "HND",
          "index": 83,
          "popsize_group": "medium",
          "size": 8075060
         },
         {
          "country_code": "HRV",
          "index": 84,
          "popsize_group": "medium",
          "size": 4203604
         },
         {
          "country_code": "HTI",
          "index": 85,
          "popsize_group": "medium",
          "size": 10711067
         },
         {
          "country_code": "HUN",
          "index": 86,
          "popsize_group": "medium",
          "size": 9843028
         },
         {
          "country_code": "IDN",
          "index": 87,
          "popsize_group": "large",
          "size": 257563810
         },
         {
          "country_code": "IMN",
          "index": 88,
          "popsize_group": "small",
          "size": 87780
         },
         {
          "country_code": "IND",
          "index": 89,
          "popsize_group": "large",
          "size": 1311050500
         },
         {
          "country_code": "IRL",
          "index": 90,
          "popsize_group": "medium",
          "size": 4643740
         },
         {
          "country_code": "IRN",
          "index": 91,
          "popsize_group": "large",
          "size": 79109270
         },
         {
          "country_code": "IRQ",
          "index": 92,
          "popsize_group": "medium",
          "size": 36423396
         },
         {
          "country_code": "ISL",
          "index": 93,
          "popsize_group": "small",
          "size": 330815
         },
         {
          "country_code": "ISR",
          "index": 94,
          "popsize_group": "medium",
          "size": 8380100
         },
         {
          "country_code": "ITA",
          "index": 95,
          "popsize_group": "large",
          "size": 60730584
         },
         {
          "country_code": "JAM",
          "index": 96,
          "popsize_group": "medium",
          "size": 2793335
         },
         {
          "country_code": "JOR",
          "index": 97,
          "popsize_group": "medium",
          "size": 7594547
         },
         {
          "country_code": "JPN",
          "index": 98,
          "popsize_group": "large",
          "size": 126958470
         },
         {
          "country_code": "KAZ",
          "index": 99,
          "popsize_group": "medium",
          "size": 17544126
         },
         {
          "country_code": "KEN",
          "index": 100,
          "popsize_group": "medium",
          "size": 46050304
         },
         {
          "country_code": "KGZ",
          "index": 101,
          "popsize_group": "medium",
          "size": 5956900
         },
         {
          "country_code": "KHM",
          "index": 102,
          "popsize_group": "medium",
          "size": 15577899
         },
         {
          "country_code": "KIR",
          "index": 103,
          "popsize_group": "small",
          "size": 112423
         },
         {
          "country_code": "KNA",
          "index": 104,
          "popsize_group": "small",
          "size": 55572
         },
         {
          "country_code": "KOR",
          "index": 105,
          "popsize_group": "large",
          "size": 50617044
         },
         {
          "country_code": "KWT",
          "index": 106,
          "popsize_group": "medium",
          "size": 3892115
         },
         {
          "country_code": "LAO",
          "index": 107,
          "popsize_group": "medium",
          "size": 6802023
         },
         {
          "country_code": "LBN",
          "index": 108,
          "popsize_group": "medium",
          "size": 5850743
         },
         {
          "country_code": "LBR",
          "index": 109,
          "popsize_group": "medium",
          "size": 4503438
         },
         {
          "country_code": "LBY",
          "index": 110,
          "popsize_group": "medium",
          "size": 6278438
         },
         {
          "country_code": "LCA",
          "index": 111,
          "popsize_group": "small",
          "size": 184999
         },
         {
          "country_code": "LIE",
          "index": 112,
          "popsize_group": "small",
          "size": 37531
         },
         {
          "country_code": "LKA",
          "index": 113,
          "popsize_group": "medium",
          "size": 20966000
         },
         {
          "country_code": "LSO",
          "index": 114,
          "popsize_group": "medium",
          "size": 2135022
         },
         {
          "country_code": "LTU",
          "index": 115,
          "popsize_group": "medium",
          "size": 2904910
         },
         {
          "country_code": "LUX",
          "index": 116,
          "popsize_group": "small",
          "size": 569604
         },
         {
          "country_code": "LVA",
          "index": 117,
          "popsize_group": "medium",
          "size": 1977527
         },
         {
          "country_code": "MAC",
          "index": 118,
          "popsize_group": "small",
          "size": 587606
         },
         {
          "country_code": "MAF",
          "index": 119,
          "popsize_group": "small",
          "size": 31754
         },
         {
          "country_code": "MAR",
          "index": 120,
          "popsize_group": "medium",
          "size": 34377512
         },
         {
          "country_code": "MCO",
          "index": 121,
          "popsize_group": "small",
          "size": 37731
         },
         {
          "country_code": "MDA",
          "index": 122,
          "popsize_group": "medium",
          "size": 3554108
         },
         {
          "country_code": "MDG",
          "index": 123,
          "popsize_group": "medium",
          "size": 24235390
         },
         {
          "country_code": "MDV",
          "index": 124,
          "popsize_group": "small",
          "size": 409163
         },
         {
          "country_code": "MEX",
          "index": 125,
          "popsize_group": "large",
          "size": 127017224
         },
         {
          "country_code": "MHL",
          "index": 126,
          "popsize_group": "small",
          "size": 52993
         },
         {
          "country_code": "MKD",
          "index": 127,
          "popsize_group": "medium",
          "size": 2078453
         },
         {
          "country_code": "MLI",
          "index": 128,
          "popsize_group": "medium",
          "size": 17599694
         },
         {
          "country_code": "MLT",
          "index": 129,
          "popsize_group": "small",
          "size": 431874
         },
         {
          "country_code": "MMR",
          "index": 130,
          "popsize_group": "large",
          "size": 53897152
         },
         {
          "country_code": "MNE",
          "index": 131,
          "popsize_group": "small",
          "size": 622159
         },
         {
          "country_code": "MNG",
          "index": 132,
          "popsize_group": "medium",
          "size": 2959134
         },
         {
          "country_code": "MNP",
          "index": 133,
          "popsize_group": "small",
          "size": 55070
         },
         {
          "country_code": "MOZ",
          "index": 134,
          "popsize_group": "medium",
          "size": 27977864
         },
         {
          "country_code": "MRT",
          "index": 135,
          "popsize_group": "medium",
          "size": 4067564
         },
         {
          "country_code": "MUS",
          "index": 136,
          "popsize_group": "medium",
          "size": 1262605
         },
         {
          "country_code": "MWI",
          "index": 137,
          "popsize_group": "medium",
          "size": 17215232
         },
         {
          "country_code": "MYS",
          "index": 138,
          "popsize_group": "medium",
          "size": 30331008
         },
         {
          "country_code": "NAM",
          "index": 139,
          "popsize_group": "medium",
          "size": 2458830
         },
         {
          "country_code": "NCL",
          "index": 140,
          "popsize_group": "small",
          "size": 273000
         },
         {
          "country_code": "NER",
          "index": 141,
          "popsize_group": "medium",
          "size": 19899120
         },
         {
          "country_code": "NGA",
          "index": 142,
          "popsize_group": "large",
          "size": 182201970
         },
         {
          "country_code": "NIC",
          "index": 143,
          "popsize_group": "medium",
          "size": 6082032
         },
         {
          "country_code": "NLD",
          "index": 144,
          "popsize_group": "medium",
          "size": 16939924
         },
         {
          "country_code": "NOR",
          "index": 145,
          "popsize_group": "medium",
          "size": 5190239
         },
         {
          "country_code": "NPL",
          "index": 146,
          "popsize_group": "medium",
          "size": 28513700
         },
         {
          "country_code": "NRU",
          "index": 147,
          "popsize_group": "small",
          "size": 12475
         },
         {
          "country_code": "NZL",
          "index": 148,
          "popsize_group": "medium",
          "size": 4595700
         },
         {
          "country_code": "OMN",
          "index": 149,
          "popsize_group": "medium",
          "size": 4490541
         },
         {
          "country_code": "PAK",
          "index": 150,
          "popsize_group": "large",
          "size": 188924880
         },
         {
          "country_code": "PAN",
          "index": 151,
          "popsize_group": "medium",
          "size": 3929141
         },
         {
          "country_code": "PER",
          "index": 152,
          "popsize_group": "medium",
          "size": 31376670
         },
         {
          "country_code": "PHL",
          "index": 153,
          "popsize_group": "large",
          "size": 100699390
         },
         {
          "country_code": "PLW",
          "index": 154,
          "popsize_group": "small",
          "size": 21291
         },
         {
          "country_code": "PNG",
          "index": 155,
          "popsize_group": "medium",
          "size": 7619321
         },
         {
          "country_code": "POL",
          "index": 156,
          "popsize_group": "medium",
          "size": 37986412
         },
         {
          "country_code": "PRI",
          "index": 157,
          "popsize_group": "medium",
          "size": 3474182
         },
         {
          "country_code": "PRK",
          "index": 158,
          "popsize_group": "medium",
          "size": 25155316
         },
         {
          "country_code": "PRT",
          "index": 159,
          "popsize_group": "medium",
          "size": 10358076
         },
         {
          "country_code": "PRY",
          "index": 160,
          "popsize_group": "medium",
          "size": 6639123
         },
         {
          "country_code": "PSE",
          "index": 161,
          "popsize_group": "medium",
          "size": 4422143
         },
         {
          "country_code": "PYF",
          "index": 162,
          "popsize_group": "small",
          "size": 282764
         },
         {
          "country_code": "QAT",
          "index": 163,
          "popsize_group": "medium",
          "size": 2235355
         },
         {
          "country_code": "ROU",
          "index": 164,
          "popsize_group": "medium",
          "size": 19815308
         },
         {
          "country_code": "RUS",
          "index": 165,
          "popsize_group": "large",
          "size": 144096860
         },
         {
          "country_code": "RWA",
          "index": 166,
          "popsize_group": "medium",
          "size": 11609666
         },
         {
          "country_code": "SAU",
          "index": 167,
          "popsize_group": "medium",
          "size": 31540372
         },
         {
          "country_code": "SDN",
          "index": 168,
          "popsize_group": "medium",
          "size": 40234880
         },
         {
          "country_code": "SEN",
          "index": 169,
          "popsize_group": "medium",
          "size": 15129273
         },
         {
          "country_code": "SGP",
          "index": 170,
          "popsize_group": "medium",
          "size": 5535002
         },
         {
          "country_code": "SLB",
          "index": 171,
          "popsize_group": "small",
          "size": 583591
         },
         {
          "country_code": "SLE",
          "index": 172,
          "popsize_group": "medium",
          "size": 6453184
         },
         {
          "country_code": "SLV",
          "index": 173,
          "popsize_group": "medium",
          "size": 6126583
         },
         {
          "country_code": "SMR",
          "index": 174,
          "popsize_group": "small",
          "size": 31781
         },
         {
          "country_code": "SOM",
          "index": 175,
          "popsize_group": "medium",
          "size": 10787104
         },
         {
          "country_code": "SRB",
          "index": 176,
          "popsize_group": "medium",
          "size": 7095383
         },
         {
          "country_code": "SSD",
          "index": 177,
          "popsize_group": "medium",
          "size": 12339812
         },
         {
          "country_code": "STP",
          "index": 178,
          "popsize_group": "small",
          "size": 190344
         },
         {
          "country_code": "SUR",
          "index": 179,
          "popsize_group": "small",
          "size": 542975
         },
         {
          "country_code": "SVK",
          "index": 180,
          "popsize_group": "medium",
          "size": 5423801
         },
         {
          "country_code": "SVN",
          "index": 181,
          "popsize_group": "medium",
          "size": 2063531
         },
         {
          "country_code": "SWE",
          "index": 182,
          "popsize_group": "medium",
          "size": 9799186
         },
         {
          "country_code": "SWZ",
          "index": 183,
          "popsize_group": "medium",
          "size": 1286970
         },
         {
          "country_code": "SXM",
          "index": 184,
          "popsize_group": "small",
          "size": 38824
         },
         {
          "country_code": "SYC",
          "index": 185,
          "popsize_group": "small",
          "size": 93419
         },
         {
          "country_code": "SYR",
          "index": 186,
          "popsize_group": "medium",
          "size": 18502412
         },
         {
          "country_code": "TCA",
          "index": 187,
          "popsize_group": "small",
          "size": 34339
         },
         {
          "country_code": "TCD",
          "index": 188,
          "popsize_group": "medium",
          "size": 14037472
         },
         {
          "country_code": "TGO",
          "index": 189,
          "popsize_group": "medium",
          "size": 7304578
         },
         {
          "country_code": "THA",
          "index": 190,
          "popsize_group": "large",
          "size": 67959360
         },
         {
          "country_code": "TJK",
          "index": 191,
          "popsize_group": "medium",
          "size": 8481855
         },
         {
          "country_code": "TKM",
          "index": 192,
          "popsize_group": "medium",
          "size": 5373502
         },
         {
          "country_code": "TLS",
          "index": 193,
          "popsize_group": "medium",
          "size": 1184765
         },
         {
          "country_code": "TON",
          "index": 194,
          "popsize_group": "small",
          "size": 106170
         },
         {
          "country_code": "TTO",
          "index": 195,
          "popsize_group": "medium",
          "size": 1360088
         },
         {
          "country_code": "TUN",
          "index": 196,
          "popsize_group": "medium",
          "size": 11253554
         },
         {
          "country_code": "TUR",
          "index": 197,
          "popsize_group": "large",
          "size": 78665830
         },
         {
          "country_code": "TUV",
          "index": 198,
          "popsize_group": "small",
          "size": 9916
         },
         {
          "country_code": "TZA",
          "index": 199,
          "popsize_group": "large",
          "size": 53470420
         },
         {
          "country_code": "UGA",
          "index": 200,
          "popsize_group": "medium",
          "size": 39032384
         },
         {
          "country_code": "UKR",
          "index": 201,
          "popsize_group": "medium",
          "size": 45154028
         },
         {
          "country_code": "URY",
          "index": 202,
          "popsize_group": "medium",
          "size": 3431555
         },
         {
          "country_code": "USA",
          "index": 203,
          "popsize_group": "large",
          "size": 321418820
         },
         {
          "country_code": "UZB",
          "index": 204,
          "popsize_group": "medium",
          "size": 31298900
         },
         {
          "country_code": "VCT",
          "index": 205,
          "popsize_group": "small",
          "size": 109462
         },
         {
          "country_code": "VEN",
          "index": 206,
          "popsize_group": "medium",
          "size": 31108084
         },
         {
          "country_code": "VGB",
          "index": 207,
          "popsize_group": "small",
          "size": 30117
         },
         {
          "country_code": "VIR",
          "index": 208,
          "popsize_group": "small",
          "size": 103574
         },
         {
          "country_code": "VNM",
          "index": 209,
          "popsize_group": "large",
          "size": 91713296
         },
         {
          "country_code": "VUT",
          "index": 210,
          "popsize_group": "small",
          "size": 264652
         },
         {
          "country_code": "WSM",
          "index": 211,
          "popsize_group": "small",
          "size": 193228
         },
         {
          "country_code": "XKX",
          "index": 212,
          "popsize_group": "medium",
          "size": 1801800
         },
         {
          "country_code": "YEM",
          "index": 213,
          "popsize_group": "medium",
          "size": 26832216
         },
         {
          "country_code": "ZAF",
          "index": 214,
          "popsize_group": "large",
          "size": 55011976
         },
         {
          "country_code": "ZMB",
          "index": 215,
          "popsize_group": "medium",
          "size": 16211767
         },
         {
          "country_code": "ZWE",
          "index": 216,
          "popsize_group": "medium",
          "size": 15602751
         }
        ],
        "schema": {
         "fields": [
          {
           "name": "index",
           "type": "integer"
          },
          {
           "name": "country_code",
           "type": "string"
          },
          {
           "name": "size",
           "type": "number"
          },
          {
           "name": "popsize_group",
           "type": "string"
          }
         ],
         "pandas_version": "1.4.0",
         "primaryKey": [
          "index"
         ]
        }
       },
       "total_rows": 217,
       "truncation_type": null
      },
      "text/html": [
       "<div>\n",
       "<style scoped>\n",
       "    .dataframe tbody tr th:only-of-type {\n",
       "        vertical-align: middle;\n",
       "    }\n",
       "\n",
       "    .dataframe tbody tr th {\n",
       "        vertical-align: top;\n",
       "    }\n",
       "\n",
       "    .dataframe thead th {\n",
       "        text-align: right;\n",
       "    }\n",
       "</style>\n",
       "<table border=\"1\" class=\"dataframe\">\n",
       "  <thead>\n",
       "    <tr style=\"text-align: right;\">\n",
       "      <th></th>\n",
       "      <th>country_code</th>\n",
       "      <th>size</th>\n",
       "      <th>popsize_group</th>\n",
       "    </tr>\n",
       "  </thead>\n",
       "  <tbody>\n",
       "    <tr>\n",
       "      <th>0</th>\n",
       "      <td>ABW</td>\n",
       "      <td>103889.0</td>\n",
       "      <td>small</td>\n",
       "    </tr>\n",
       "    <tr>\n",
       "      <th>1</th>\n",
       "      <td>AFG</td>\n",
       "      <td>32526562.0</td>\n",
       "      <td>medium</td>\n",
       "    </tr>\n",
       "    <tr>\n",
       "      <th>2</th>\n",
       "      <td>AGO</td>\n",
       "      <td>25021974.0</td>\n",
       "      <td>medium</td>\n",
       "    </tr>\n",
       "    <tr>\n",
       "      <th>3</th>\n",
       "      <td>ALB</td>\n",
       "      <td>2889167.0</td>\n",
       "      <td>medium</td>\n",
       "    </tr>\n",
       "    <tr>\n",
       "      <th>4</th>\n",
       "      <td>AND</td>\n",
       "      <td>70473.0</td>\n",
       "      <td>small</td>\n",
       "    </tr>\n",
       "    <tr>\n",
       "      <th>...</th>\n",
       "      <td>...</td>\n",
       "      <td>...</td>\n",
       "      <td>...</td>\n",
       "    </tr>\n",
       "    <tr>\n",
       "      <th>212</th>\n",
       "      <td>XKX</td>\n",
       "      <td>1801800.0</td>\n",
       "      <td>medium</td>\n",
       "    </tr>\n",
       "    <tr>\n",
       "      <th>213</th>\n",
       "      <td>YEM</td>\n",
       "      <td>26832216.0</td>\n",
       "      <td>medium</td>\n",
       "    </tr>\n",
       "    <tr>\n",
       "      <th>214</th>\n",
       "      <td>ZAF</td>\n",
       "      <td>55011976.0</td>\n",
       "      <td>large</td>\n",
       "    </tr>\n",
       "    <tr>\n",
       "      <th>215</th>\n",
       "      <td>ZMB</td>\n",
       "      <td>16211767.0</td>\n",
       "      <td>medium</td>\n",
       "    </tr>\n",
       "    <tr>\n",
       "      <th>216</th>\n",
       "      <td>ZWE</td>\n",
       "      <td>15602751.0</td>\n",
       "      <td>medium</td>\n",
       "    </tr>\n",
       "  </tbody>\n",
       "</table>\n",
       "<p>217 rows × 3 columns</p>\n",
       "</div>"
      ],
      "text/plain": [
       "    country_code        size popsize_group\n",
       "0            ABW    103889.0         small\n",
       "1            AFG  32526562.0        medium\n",
       "2            AGO  25021974.0        medium\n",
       "3            ALB   2889167.0        medium\n",
       "4            AND     70473.0         small\n",
       "..           ...         ...           ...\n",
       "212          XKX   1801800.0        medium\n",
       "213          YEM  26832216.0        medium\n",
       "214          ZAF  55011976.0         large\n",
       "215          ZMB  16211767.0        medium\n",
       "216          ZWE  15602751.0        medium\n",
       "\n",
       "[217 rows x 3 columns]"
      ]
     },
     "execution_count": 2,
     "metadata": {},
     "output_type": "execute_result"
    }
   ],
   "source": [
    "SELECT country_code, size,\n",
    "    CASE WHEN size > 50000000 THEN 'large'\n",
    "        WHEN size > 1000000 THEN 'medium'\n",
    "        ELSE 'small' END\n",
    "        AS popsize_group\n",
    "FROM world.populations\n",
    "WHERE year = 2015;"
   ]
  },
  {
   "cell_type": "code",
   "execution_count": 2,
   "id": "01f36a7c-b49d-4658-a41c-4802fb0d30a0",
   "metadata": {
    "customType": "sql",
    "dataFrameVariableName": "df",
    "executionTime": 1449,
    "initial": false,
    "integrationId": "c632441c-e1dc-4637-a56d-10b85efd89be",
    "lastSuccessfullyExecutedCode": "SELECT local_name, continent, code, surface_area,\n    CASE WHEN surface_area > 2000000 THEN 'large'\n       WHEN surface_area > 350000 THEN 'medium'\n       ELSE 'small' END\n       AS geosize_group\n--INTO world.countries_fmestre --> lo guarda en una nueva tabla\nFROM world.countries;",
    "outputsMetadata": {
     "0": {
      "height": 327,
      "type": "dataFrame"
     }
    }
   },
   "outputs": [
    {
     "data": {
      "application/com.datacamp.data-table.v1+json": {
       "table": {
        "data": [
         {
          "code": "AFG",
          "continent": "Asia",
          "geosize_group": "medium",
          "index": 0,
          "local_name": "Afganistan/Afqanestan",
          "surface_area": 652090
         },
         {
          "code": "NLD",
          "continent": "Europe",
          "geosize_group": "small",
          "index": 1,
          "local_name": "Nederland",
          "surface_area": 41526
         },
         {
          "code": "ALB",
          "continent": "Europe",
          "geosize_group": "small",
          "index": 2,
          "local_name": "Shqiperia",
          "surface_area": 28748
         },
         {
          "code": "DZA",
          "continent": "Africa",
          "geosize_group": "large",
          "index": 3,
          "local_name": "Al-Jazair/Algerie",
          "surface_area": 2381740
         },
         {
          "code": "ASM",
          "continent": "Oceania",
          "geosize_group": "small",
          "index": 4,
          "local_name": "Amerika Samoa",
          "surface_area": 199
         },
         {
          "code": "AND",
          "continent": "Europe",
          "geosize_group": "small",
          "index": 5,
          "local_name": "Andorra",
          "surface_area": 468
         },
         {
          "code": "AGO",
          "continent": "Africa",
          "geosize_group": "medium",
          "index": 6,
          "local_name": "Angola",
          "surface_area": 1246700
         },
         {
          "code": "ATG",
          "continent": "North America",
          "geosize_group": "small",
          "index": 7,
          "local_name": "Antigua and Barbuda",
          "surface_area": 442
         },
         {
          "code": "ARE",
          "continent": "Asia",
          "geosize_group": "small",
          "index": 8,
          "local_name": "Al-Imarat al-´Arabiya al-Muttahida",
          "surface_area": 83600
         },
         {
          "code": "ARG",
          "continent": "South America",
          "geosize_group": "large",
          "index": 9,
          "local_name": "Argentina",
          "surface_area": 2780400
         },
         {
          "code": "ARM",
          "continent": "Asia",
          "geosize_group": "small",
          "index": 10,
          "local_name": "Hajastan",
          "surface_area": 29800
         },
         {
          "code": "ABW",
          "continent": "North America",
          "geosize_group": "small",
          "index": 11,
          "local_name": "Aruba",
          "surface_area": 193
         },
         {
          "code": "AUS",
          "continent": "Oceania",
          "geosize_group": "large",
          "index": 12,
          "local_name": "Australia",
          "surface_area": 7741220
         },
         {
          "code": "AZE",
          "continent": "Asia",
          "geosize_group": "small",
          "index": 13,
          "local_name": "Azarbaycan",
          "surface_area": 86600
         },
         {
          "code": "BHS",
          "continent": "North America",
          "geosize_group": "small",
          "index": 14,
          "local_name": "The Bahamas",
          "surface_area": 13878
         },
         {
          "code": "BHR",
          "continent": "Asia",
          "geosize_group": "small",
          "index": 15,
          "local_name": "Al-Bahrayn",
          "surface_area": 694
         },
         {
          "code": "BGD",
          "continent": "Asia",
          "geosize_group": "small",
          "index": 16,
          "local_name": "Bangladesh",
          "surface_area": 143998
         },
         {
          "code": "BRB",
          "continent": "North America",
          "geosize_group": "small",
          "index": 17,
          "local_name": "Barbados",
          "surface_area": 430
         },
         {
          "code": "BEL",
          "continent": "Europe",
          "geosize_group": "small",
          "index": 18,
          "local_name": "Belgie/Belgique",
          "surface_area": 30518
         },
         {
          "code": "BLZ",
          "continent": "North America",
          "geosize_group": "small",
          "index": 19,
          "local_name": "Belize",
          "surface_area": 22696
         },
         {
          "code": "BEN",
          "continent": "Africa",
          "geosize_group": "small",
          "index": 20,
          "local_name": "Benin",
          "surface_area": 112622
         },
         {
          "code": "BMU",
          "continent": "North America",
          "geosize_group": "small",
          "index": 21,
          "local_name": "Bermuda",
          "surface_area": 53
         },
         {
          "code": "BTN",
          "continent": "Asia",
          "geosize_group": "small",
          "index": 22,
          "local_name": "Druk-Yul",
          "surface_area": 47000
         },
         {
          "code": "BOL",
          "continent": "South America",
          "geosize_group": "medium",
          "index": 23,
          "local_name": "Bolivia",
          "surface_area": 1098580
         },
         {
          "code": "BIH",
          "continent": "Europe",
          "geosize_group": "small",
          "index": 24,
          "local_name": "Bosna i Hercegovina",
          "surface_area": 51197
         },
         {
          "code": "BWA",
          "continent": "Africa",
          "geosize_group": "medium",
          "index": 25,
          "local_name": "Botswana",
          "surface_area": 581730
         },
         {
          "code": "BRA",
          "continent": "South America",
          "geosize_group": "large",
          "index": 26,
          "local_name": "Brasil",
          "surface_area": 8547400
         },
         {
          "code": "GBR",
          "continent": "Europe",
          "geosize_group": "small",
          "index": 27,
          "local_name": "United Kingdom",
          "surface_area": 242900
         },
         {
          "code": "VGB",
          "continent": "North America",
          "geosize_group": "small",
          "index": 28,
          "local_name": "British Virgin Islands",
          "surface_area": 151
         },
         {
          "code": "BRN",
          "continent": "Asia",
          "geosize_group": "small",
          "index": 29,
          "local_name": "Brunei Darussalam",
          "surface_area": 5765
         },
         {
          "code": "BGR",
          "continent": "Europe",
          "geosize_group": "small",
          "index": 30,
          "local_name": "Balgarija",
          "surface_area": 110994
         },
         {
          "code": "BFA",
          "continent": "Africa",
          "geosize_group": "small",
          "index": 31,
          "local_name": "Burkina Faso",
          "surface_area": 274000
         },
         {
          "code": "BDI",
          "continent": "Africa",
          "geosize_group": "small",
          "index": 32,
          "local_name": "Burundi/Uburundi",
          "surface_area": 27834
         },
         {
          "code": "CYM",
          "continent": "North America",
          "geosize_group": "small",
          "index": 33,
          "local_name": "Cayman Islands",
          "surface_area": 264
         },
         {
          "code": "CHL",
          "continent": "South America",
          "geosize_group": "medium",
          "index": 34,
          "local_name": "Chile",
          "surface_area": 756626
         },
         {
          "code": "CRI",
          "continent": "North America",
          "geosize_group": "small",
          "index": 35,
          "local_name": "Costa Rica",
          "surface_area": 51100
         },
         {
          "code": "DJI",
          "continent": "Africa",
          "geosize_group": "small",
          "index": 36,
          "local_name": "Djibouti/Jibuti",
          "surface_area": 23200
         },
         {
          "code": "DMA",
          "continent": "North America",
          "geosize_group": "small",
          "index": 37,
          "local_name": "Dominica",
          "surface_area": 751
         },
         {
          "code": "DOM",
          "continent": "North America",
          "geosize_group": "small",
          "index": 38,
          "local_name": "Republica Dominicana",
          "surface_area": 48511
         },
         {
          "code": "ECU",
          "continent": "South America",
          "geosize_group": "small",
          "index": 39,
          "local_name": "Ecuador",
          "surface_area": 283561
         },
         {
          "code": "EGY",
          "continent": "Africa",
          "geosize_group": "medium",
          "index": 40,
          "local_name": "Misr",
          "surface_area": 1001450
         },
         {
          "code": "SLV",
          "continent": "North America",
          "geosize_group": "small",
          "index": 41,
          "local_name": "El Salvador",
          "surface_area": 21041
         },
         {
          "code": "ERI",
          "continent": "Africa",
          "geosize_group": "small",
          "index": 42,
          "local_name": "Ertra",
          "surface_area": 117600
         },
         {
          "code": "ESP",
          "continent": "Europe",
          "geosize_group": "medium",
          "index": 43,
          "local_name": "Espana",
          "surface_area": 505992
         },
         {
          "code": "ZAF",
          "continent": "Africa",
          "geosize_group": "medium",
          "index": 44,
          "local_name": "South Africa",
          "surface_area": 1221040
         },
         {
          "code": "ETH",
          "continent": "Africa",
          "geosize_group": "medium",
          "index": 45,
          "local_name": "YeItyop´iya",
          "surface_area": 1104300
         },
         {
          "code": "FJI",
          "continent": "Oceania",
          "geosize_group": "small",
          "index": 46,
          "local_name": "Fiji Islands",
          "surface_area": 18274
         },
         {
          "code": "PHL",
          "continent": "Asia",
          "geosize_group": "small",
          "index": 47,
          "local_name": "Pilipinas",
          "surface_area": 300000
         },
         {
          "code": "FRO",
          "continent": "Europe",
          "geosize_group": "small",
          "index": 48,
          "local_name": "Foroyar",
          "surface_area": 1399
         },
         {
          "code": "GAB",
          "continent": "Africa",
          "geosize_group": "small",
          "index": 49,
          "local_name": "Le Gabon",
          "surface_area": 267668
         },
         {
          "code": "GMB",
          "continent": "Africa",
          "geosize_group": "small",
          "index": 50,
          "local_name": "The Gambia",
          "surface_area": 11295
         },
         {
          "code": "GEO",
          "continent": "Asia",
          "geosize_group": "small",
          "index": 51,
          "local_name": "Sakartvelo",
          "surface_area": 69700
         },
         {
          "code": "GHA",
          "continent": "Africa",
          "geosize_group": "small",
          "index": 52,
          "local_name": "Ghana",
          "surface_area": 238533
         },
         {
          "code": "GIB",
          "continent": "Europe",
          "geosize_group": "small",
          "index": 53,
          "local_name": "Gibraltar",
          "surface_area": 6
         },
         {
          "code": "GRD",
          "continent": "North America",
          "geosize_group": "small",
          "index": 54,
          "local_name": "Grenada",
          "surface_area": 344
         },
         {
          "code": "GRL",
          "continent": "North America",
          "geosize_group": "large",
          "index": 55,
          "local_name": "Kalaallit Nunaat/Gronland",
          "surface_area": 2166090
         },
         {
          "code": "GUM",
          "continent": "Oceania",
          "geosize_group": "small",
          "index": 56,
          "local_name": "Guam",
          "surface_area": 549
         },
         {
          "code": "GTM",
          "continent": "North America",
          "geosize_group": "small",
          "index": 57,
          "local_name": "Guatemala",
          "surface_area": 108889
         },
         {
          "code": "GIN",
          "continent": "Africa",
          "geosize_group": "small",
          "index": 58,
          "local_name": "Guinee",
          "surface_area": 245857
         },
         {
          "code": "GNB",
          "continent": "Africa",
          "geosize_group": "small",
          "index": 59,
          "local_name": "Guine-Bissau",
          "surface_area": 36125
         },
         {
          "code": "GUY",
          "continent": "South America",
          "geosize_group": "small",
          "index": 60,
          "local_name": "Guyana",
          "surface_area": 214969
         },
         {
          "code": "HTI",
          "continent": "North America",
          "geosize_group": "small",
          "index": 61,
          "local_name": "Haiti/Dayti",
          "surface_area": 27750
         },
         {
          "code": "HND",
          "continent": "North America",
          "geosize_group": "small",
          "index": 62,
          "local_name": "Honduras",
          "surface_area": 112088
         },
         {
          "code": "HKG",
          "continent": "Asia",
          "geosize_group": "small",
          "index": 63,
          "local_name": "Xianggang/Hong Kong",
          "surface_area": 1075
         },
         {
          "code": "IDN",
          "continent": "Asia",
          "geosize_group": "medium",
          "index": 64,
          "local_name": "Indonesia",
          "surface_area": 1904570
         },
         {
          "code": "IND",
          "continent": "Asia",
          "geosize_group": "large",
          "index": 65,
          "local_name": "Bharat/India",
          "surface_area": 3287260
         },
         {
          "code": "IRQ",
          "continent": "Asia",
          "geosize_group": "medium",
          "index": 66,
          "local_name": "Al-´Iraq",
          "surface_area": 438317
         },
         {
          "code": "IRN",
          "continent": "Asia",
          "geosize_group": "medium",
          "index": 67,
          "local_name": "Iran",
          "surface_area": 1648200
         },
         {
          "code": "IRL",
          "continent": "Europe",
          "geosize_group": "small",
          "index": 68,
          "local_name": "Ireland/Eire",
          "surface_area": 70273
         },
         {
          "code": "ISL",
          "continent": "Europe",
          "geosize_group": "small",
          "index": 69,
          "local_name": "Island",
          "surface_area": 103000
         },
         {
          "code": "ISR",
          "continent": "Asia",
          "geosize_group": "small",
          "index": 70,
          "local_name": "Yisrael/Israil",
          "surface_area": 21056
         },
         {
          "code": "ITA",
          "continent": "Europe",
          "geosize_group": "small",
          "index": 71,
          "local_name": "Italia",
          "surface_area": 301316
         },
         {
          "code": "AUT",
          "continent": "Europe",
          "geosize_group": "small",
          "index": 72,
          "local_name": "Osterreich",
          "surface_area": 83859
         },
         {
          "code": "JAM",
          "continent": "North America",
          "geosize_group": "small",
          "index": 73,
          "local_name": "Jamaica",
          "surface_area": 10990
         },
         {
          "code": "JPN",
          "continent": "Asia",
          "geosize_group": "medium",
          "index": 74,
          "local_name": "Nihon/Nippon",
          "surface_area": 377829
         },
         {
          "code": "YEM",
          "continent": "Asia",
          "geosize_group": "medium",
          "index": 75,
          "local_name": "Al-Yaman",
          "surface_area": 527968
         },
         {
          "code": "JOR",
          "continent": "Asia",
          "geosize_group": "small",
          "index": 76,
          "local_name": "Al-Urdunn",
          "surface_area": 88946
         },
         {
          "code": "KHM",
          "continent": "Asia",
          "geosize_group": "small",
          "index": 77,
          "local_name": "Kampuchea",
          "surface_area": 181035
         },
         {
          "code": "CMR",
          "continent": "Africa",
          "geosize_group": "medium",
          "index": 78,
          "local_name": "Cameroun/Cameroon",
          "surface_area": 475442
         },
         {
          "code": "CAN",
          "continent": "North America",
          "geosize_group": "large",
          "index": 79,
          "local_name": "Canada",
          "surface_area": 9970610
         },
         {
          "code": "CPV",
          "continent": "Africa",
          "geosize_group": "small",
          "index": 80,
          "local_name": "Cabo Verde",
          "surface_area": 4033
         },
         {
          "code": "KAZ",
          "continent": "Asia",
          "geosize_group": "large",
          "index": 81,
          "local_name": "Qazaqstan",
          "surface_area": 2724900
         },
         {
          "code": "KEN",
          "continent": "Africa",
          "geosize_group": "medium",
          "index": 82,
          "local_name": "Kenya",
          "surface_area": 580367
         },
         {
          "code": "CAF",
          "continent": "Africa",
          "geosize_group": "medium",
          "index": 83,
          "local_name": "Centrafrique/Be-Afrika",
          "surface_area": 622984
         },
         {
          "code": "CHN",
          "continent": "Asia",
          "geosize_group": "large",
          "index": 84,
          "local_name": "Zhongquo",
          "surface_area": 9572900
         },
         {
          "code": "KGZ",
          "continent": "Asia",
          "geosize_group": "small",
          "index": 85,
          "local_name": "Kyrgyzstan",
          "surface_area": 199900
         },
         {
          "code": "KIR",
          "continent": "Oceania",
          "geosize_group": "small",
          "index": 86,
          "local_name": "Kiribati",
          "surface_area": 726
         },
         {
          "code": "COL",
          "continent": "South America",
          "geosize_group": "medium",
          "index": 87,
          "local_name": "Colombia",
          "surface_area": 1138910
         },
         {
          "code": "COM",
          "continent": "Africa",
          "geosize_group": "small",
          "index": 88,
          "local_name": "Komori/Comores",
          "surface_area": 1862
         },
         {
          "code": "COG",
          "continent": "Africa",
          "geosize_group": "small",
          "index": 89,
          "local_name": "Congo",
          "surface_area": 342000
         },
         {
          "code": "COD",
          "continent": "Africa",
          "geosize_group": "large",
          "index": 90,
          "local_name": "Republique Democratique du Congo",
          "surface_area": 2344860
         },
         {
          "code": "PRK",
          "continent": "Asia",
          "geosize_group": "small",
          "index": 91,
          "local_name": "Choson Minjujuui In´min Konghwaguk (Bukhan)",
          "surface_area": 120538
         },
         {
          "code": "KOR",
          "continent": "Asia",
          "geosize_group": "small",
          "index": 92,
          "local_name": "Taehan Minguk (Namhan)",
          "surface_area": 99434
         },
         {
          "code": "GRC",
          "continent": "Europe",
          "geosize_group": "small",
          "index": 93,
          "local_name": "Ellada",
          "surface_area": 131626
         },
         {
          "code": "HRV",
          "continent": "Europe",
          "geosize_group": "small",
          "index": 94,
          "local_name": "Hrvatska",
          "surface_area": 56538
         },
         {
          "code": "CUB",
          "continent": "North America",
          "geosize_group": "small",
          "index": 95,
          "local_name": "Cuba",
          "surface_area": 110861
         },
         {
          "code": "KWT",
          "continent": "Asia",
          "geosize_group": "small",
          "index": 96,
          "local_name": "Al-Kuwayt",
          "surface_area": 17818
         },
         {
          "code": "CYP",
          "continent": "Asia",
          "geosize_group": "small",
          "index": 97,
          "local_name": "Kypros/Kibris",
          "surface_area": 9251
         },
         {
          "code": "LAO",
          "continent": "Asia",
          "geosize_group": "small",
          "index": 98,
          "local_name": "Lao",
          "surface_area": 236800
         },
         {
          "code": "LVA",
          "continent": "Europe",
          "geosize_group": "small",
          "index": 99,
          "local_name": "Latvija",
          "surface_area": 64589
         },
         {
          "code": "LSO",
          "continent": "Africa",
          "geosize_group": "small",
          "index": 100,
          "local_name": "Lesotho",
          "surface_area": 30355
         },
         {
          "code": "LBN",
          "continent": "Asia",
          "geosize_group": "small",
          "index": 101,
          "local_name": "Lubnan",
          "surface_area": 10400
         },
         {
          "code": "LBR",
          "continent": "Africa",
          "geosize_group": "small",
          "index": 102,
          "local_name": "Liberia",
          "surface_area": 111369
         },
         {
          "code": "LBY",
          "continent": "Africa",
          "geosize_group": "medium",
          "index": 103,
          "local_name": "Libiya",
          "surface_area": 1759540
         },
         {
          "code": "LIE",
          "continent": "Europe",
          "geosize_group": "small",
          "index": 104,
          "local_name": "Liechtenstein",
          "surface_area": 160
         },
         {
          "code": "LTU",
          "continent": "Europe",
          "geosize_group": "small",
          "index": 105,
          "local_name": "Lietuva",
          "surface_area": 65301
         },
         {
          "code": "LUX",
          "continent": "Europe",
          "geosize_group": "small",
          "index": 106,
          "local_name": "Luxembourg/Letzebuerg",
          "surface_area": 2586
         },
         {
          "code": "MAC",
          "continent": "Asia",
          "geosize_group": "small",
          "index": 107,
          "local_name": "Macau/Aomen",
          "surface_area": 18
         },
         {
          "code": "MDG",
          "continent": "Africa",
          "geosize_group": "medium",
          "index": 108,
          "local_name": "Madagasikara/Madagascar",
          "surface_area": 587041
         },
         {
          "code": "MKD",
          "continent": "Europe",
          "geosize_group": "small",
          "index": 109,
          "local_name": "Makedonija",
          "surface_area": 25713
         },
         {
          "code": "MWI",
          "continent": "Africa",
          "geosize_group": "small",
          "index": 110,
          "local_name": "Malawi",
          "surface_area": 118484
         },
         {
          "code": "MDV",
          "continent": "Asia",
          "geosize_group": "small",
          "index": 111,
          "local_name": "Dhivehi Raajje/Maldives",
          "surface_area": 298
         },
         {
          "code": "MYS",
          "continent": "Asia",
          "geosize_group": "small",
          "index": 112,
          "local_name": "Malaysia",
          "surface_area": 329758
         },
         {
          "code": "MLI",
          "continent": "Africa",
          "geosize_group": "medium",
          "index": 113,
          "local_name": "Mali",
          "surface_area": 1240190
         },
         {
          "code": "MLT",
          "continent": "Europe",
          "geosize_group": "small",
          "index": 114,
          "local_name": "Malta",
          "surface_area": 316
         },
         {
          "code": "MAR",
          "continent": "Africa",
          "geosize_group": "medium",
          "index": 115,
          "local_name": "Al-Maghrib",
          "surface_area": 446550
         },
         {
          "code": "MHL",
          "continent": "Oceania",
          "geosize_group": "small",
          "index": 116,
          "local_name": "Marshall Islands/Majol",
          "surface_area": 181
         },
         {
          "code": "MRT",
          "continent": "Africa",
          "geosize_group": "medium",
          "index": 117,
          "local_name": "Muritaniya/Mauritanie",
          "surface_area": 1025520
         },
         {
          "code": "MUS",
          "continent": "Africa",
          "geosize_group": "small",
          "index": 118,
          "local_name": "Mauritius",
          "surface_area": 2040
         },
         {
          "code": "MEX",
          "continent": "North America",
          "geosize_group": "medium",
          "index": 119,
          "local_name": "Mexico",
          "surface_area": 1958200
         },
         {
          "code": "FSM",
          "continent": "Oceania",
          "geosize_group": "small",
          "index": 120,
          "local_name": "Micronesia",
          "surface_area": 702
         },
         {
          "code": "MDA",
          "continent": "Europe",
          "geosize_group": "small",
          "index": 121,
          "local_name": "Moldova",
          "surface_area": 33851
         },
         {
          "code": "MCO",
          "continent": "Europe",
          "geosize_group": "small",
          "index": 122,
          "local_name": "Monaco",
          "surface_area": 1.5
         },
         {
          "code": "MNG",
          "continent": "Asia",
          "geosize_group": "medium",
          "index": 123,
          "local_name": "Mongol Uls",
          "surface_area": 1566500
         },
         {
          "code": "MOZ",
          "continent": "Africa",
          "geosize_group": "medium",
          "index": 124,
          "local_name": "Mocambique",
          "surface_area": 801590
         },
         {
          "code": "MMR",
          "continent": "Asia",
          "geosize_group": "medium",
          "index": 125,
          "local_name": "Myanma Pye",
          "surface_area": 676578
         },
         {
          "code": "NAM",
          "continent": "Africa",
          "geosize_group": "medium",
          "index": 126,
          "local_name": "Namibia",
          "surface_area": 824292
         },
         {
          "code": "NRU",
          "continent": "Oceania",
          "geosize_group": "small",
          "index": 127,
          "local_name": "Naoero/Nauru",
          "surface_area": 21
         },
         {
          "code": "NPL",
          "continent": "Asia",
          "geosize_group": "small",
          "index": 128,
          "local_name": "Nepal",
          "surface_area": 147181
         },
         {
          "code": "NIC",
          "continent": "North America",
          "geosize_group": "small",
          "index": 129,
          "local_name": "Nicaragua",
          "surface_area": 130000
         },
         {
          "code": "NER",
          "continent": "Africa",
          "geosize_group": "medium",
          "index": 130,
          "local_name": "Niger",
          "surface_area": 1267000
         },
         {
          "code": "NGA",
          "continent": "Africa",
          "geosize_group": "medium",
          "index": 131,
          "local_name": "Nigeria",
          "surface_area": 923768
         },
         {
          "code": "NOR",
          "continent": "Europe",
          "geosize_group": "small",
          "index": 132,
          "local_name": "Norge",
          "surface_area": 323877
         },
         {
          "code": "CIV",
          "continent": "Africa",
          "geosize_group": "small",
          "index": 133,
          "local_name": "Cote dIvoire",
          "surface_area": 322463
         },
         {
          "code": "OMN",
          "continent": "Asia",
          "geosize_group": "small",
          "index": 134,
          "local_name": "´Uman",
          "surface_area": 309500
         },
         {
          "code": "PAK",
          "continent": "Asia",
          "geosize_group": "medium",
          "index": 135,
          "local_name": "Pakistan",
          "surface_area": 796095
         },
         {
          "code": "PLW",
          "continent": "Oceania",
          "geosize_group": "small",
          "index": 136,
          "local_name": "Belau/Palau",
          "surface_area": 459
         },
         {
          "code": "PAN",
          "continent": "North America",
          "geosize_group": "small",
          "index": 137,
          "local_name": "Panama",
          "surface_area": 75517
         },
         {
          "code": "PNG",
          "continent": "Oceania",
          "geosize_group": "medium",
          "index": 138,
          "local_name": "Papua New Guinea/Papua Niugini",
          "surface_area": 462840
         },
         {
          "code": "PRY",
          "continent": "South America",
          "geosize_group": "medium",
          "index": 139,
          "local_name": "Paraguay",
          "surface_area": 406752
         },
         {
          "code": "PER",
          "continent": "South America",
          "geosize_group": "medium",
          "index": 140,
          "local_name": "Peru/Piruw",
          "surface_area": 1285220
         },
         {
          "code": "MNP",
          "continent": "Oceania",
          "geosize_group": "small",
          "index": 141,
          "local_name": "Northern Mariana Islands",
          "surface_area": 464
         },
         {
          "code": "PRT",
          "continent": "Europe",
          "geosize_group": "small",
          "index": 142,
          "local_name": "Portugal",
          "surface_area": 91982
         },
         {
          "code": "PRI",
          "continent": "North America",
          "geosize_group": "small",
          "index": 143,
          "local_name": "Puerto Rico",
          "surface_area": 8875
         },
         {
          "code": "POL",
          "continent": "Europe",
          "geosize_group": "small",
          "index": 144,
          "local_name": "Polska",
          "surface_area": 323250
         },
         {
          "code": "GNQ",
          "continent": "Africa",
          "geosize_group": "small",
          "index": 145,
          "local_name": "Guinea Ecuatorial",
          "surface_area": 28051
         },
         {
          "code": "QAT",
          "continent": "Asia",
          "geosize_group": "small",
          "index": 146,
          "local_name": "Qatar",
          "surface_area": 11000
         },
         {
          "code": "FRA",
          "continent": "Europe",
          "geosize_group": "medium",
          "index": 147,
          "local_name": "France",
          "surface_area": 551500
         },
         {
          "code": "PYF",
          "continent": "Oceania",
          "geosize_group": "small",
          "index": 148,
          "local_name": "Polynesie francaise",
          "surface_area": 4000
         },
         {
          "code": "RWA",
          "continent": "Africa",
          "geosize_group": "small",
          "index": 149,
          "local_name": "Rwanda/Urwanda",
          "surface_area": 26338
         },
         {
          "code": "SWE",
          "continent": "Europe",
          "geosize_group": "medium",
          "index": 150,
          "local_name": "Sverige",
          "surface_area": 449964
         },
         {
          "code": "KNA",
          "continent": "North America",
          "geosize_group": "small",
          "index": 151,
          "local_name": "Saint Kitts and Nevis",
          "surface_area": 261
         },
         {
          "code": "LCA",
          "continent": "North America",
          "geosize_group": "small",
          "index": 152,
          "local_name": "Saint Lucia",
          "surface_area": 622
         },
         {
          "code": "VCT",
          "continent": "North America",
          "geosize_group": "small",
          "index": 153,
          "local_name": "Saint Vincent and the Grenadines",
          "surface_area": 388
         },
         {
          "code": "DEU",
          "continent": "Europe",
          "geosize_group": "medium",
          "index": 154,
          "local_name": "Deutschland",
          "surface_area": 357022
         },
         {
          "code": "SLB",
          "continent": "Oceania",
          "geosize_group": "small",
          "index": 155,
          "local_name": "Solomon Islands",
          "surface_area": 28896
         },
         {
          "code": "ZMB",
          "continent": "Africa",
          "geosize_group": "medium",
          "index": 156,
          "local_name": "Zambia",
          "surface_area": 752618
         },
         {
          "code": "WSM",
          "continent": "Oceania",
          "geosize_group": "small",
          "index": 157,
          "local_name": "Samoa",
          "surface_area": 2831
         },
         {
          "code": "SMR",
          "continent": "Europe",
          "geosize_group": "small",
          "index": 158,
          "local_name": "San Marino",
          "surface_area": 61
         },
         {
          "code": "STP",
          "continent": "Africa",
          "geosize_group": "small",
          "index": 159,
          "local_name": "Sao Tome e Principe",
          "surface_area": 964
         },
         {
          "code": "SAU",
          "continent": "Asia",
          "geosize_group": "large",
          "index": 160,
          "local_name": "Al-´Arabiya as-Sa´udiya",
          "surface_area": 2149690
         },
         {
          "code": "SEN",
          "continent": "Africa",
          "geosize_group": "small",
          "index": 161,
          "local_name": "Senegal/Sounougal",
          "surface_area": 196722
         },
         {
          "code": "SYC",
          "continent": "Africa",
          "geosize_group": "small",
          "index": 162,
          "local_name": "Sesel/Seychelles",
          "surface_area": 455
         },
         {
          "code": "SLE",
          "continent": "Africa",
          "geosize_group": "small",
          "index": 163,
          "local_name": "Sierra Leone",
          "surface_area": 71740
         },
         {
          "code": "SGP",
          "continent": "Asia",
          "geosize_group": "small",
          "index": 164,
          "local_name": "Singapore/Singapura/Xinjiapo/Singapur",
          "surface_area": 618
         },
         {
          "code": "SVK",
          "continent": "Europe",
          "geosize_group": "small",
          "index": 165,
          "local_name": "Slovensko",
          "surface_area": 49012
         },
         {
          "code": "SVN",
          "continent": "Europe",
          "geosize_group": "small",
          "index": 166,
          "local_name": "Slovenija",
          "surface_area": 20256
         },
         {
          "code": "SOM",
          "continent": "Africa",
          "geosize_group": "medium",
          "index": 167,
          "local_name": "Soomaaliya",
          "surface_area": 637657
         },
         {
          "code": "LKA",
          "continent": "Asia",
          "geosize_group": "small",
          "index": 168,
          "local_name": "Sri Lanka/Ilankai",
          "surface_area": 65610
         },
         {
          "code": "SDN",
          "continent": "Africa",
          "geosize_group": "large",
          "index": 169,
          "local_name": "As-Sudan",
          "surface_area": 2505810
         },
         {
          "code": "FIN",
          "continent": "Europe",
          "geosize_group": "small",
          "index": 170,
          "local_name": "Suomi",
          "surface_area": 338145
         },
         {
          "code": "SUR",
          "continent": "South America",
          "geosize_group": "small",
          "index": 171,
          "local_name": "Suriname",
          "surface_area": 163265
         },
         {
          "code": "SWZ",
          "continent": "Africa",
          "geosize_group": "small",
          "index": 172,
          "local_name": "kaNgwane",
          "surface_area": 17364
         },
         {
          "code": "CHE",
          "continent": "Europe",
          "geosize_group": "small",
          "index": 173,
          "local_name": "Schweiz/Suisse/Svizzera/Svizra",
          "surface_area": 41284
         },
         {
          "code": "SYR",
          "continent": "Asia",
          "geosize_group": "small",
          "index": 174,
          "local_name": "Suriya",
          "surface_area": 185180
         },
         {
          "code": "TJK",
          "continent": "Asia",
          "geosize_group": "small",
          "index": 175,
          "local_name": "Tocikiston",
          "surface_area": 143100
         },
         {
          "code": "TZA",
          "continent": "Africa",
          "geosize_group": "medium",
          "index": 176,
          "local_name": "Tanzania",
          "surface_area": 883749
         },
         {
          "code": "DNK",
          "continent": "Europe",
          "geosize_group": "small",
          "index": 177,
          "local_name": "Danmark",
          "surface_area": 43094
         },
         {
          "code": "THA",
          "continent": "Asia",
          "geosize_group": "medium",
          "index": 178,
          "local_name": "Prathet Thai",
          "surface_area": 513115
         },
         {
          "code": "TGO",
          "continent": "Africa",
          "geosize_group": "small",
          "index": 179,
          "local_name": "Togo",
          "surface_area": 56785
         },
         {
          "code": "TON",
          "continent": "Oceania",
          "geosize_group": "small",
          "index": 180,
          "local_name": "Tonga",
          "surface_area": 650
         },
         {
          "code": "TTO",
          "continent": "North America",
          "geosize_group": "small",
          "index": 181,
          "local_name": "Trinidad and Tobago",
          "surface_area": 5130
         },
         {
          "code": "TCD",
          "continent": "Africa",
          "geosize_group": "medium",
          "index": 182,
          "local_name": "Tchad/Tshad",
          "surface_area": 1284000
         },
         {
          "code": "CZE",
          "continent": "Europe",
          "geosize_group": "small",
          "index": 183,
          "local_name": "¸esko",
          "surface_area": 78866
         },
         {
          "code": "TUN",
          "continent": "Africa",
          "geosize_group": "small",
          "index": 184,
          "local_name": "Tunis/Tunisie",
          "surface_area": 163610
         },
         {
          "code": "TUR",
          "continent": "Asia",
          "geosize_group": "medium",
          "index": 185,
          "local_name": "Turkiye",
          "surface_area": 774815
         },
         {
          "code": "TKM",
          "continent": "Asia",
          "geosize_group": "medium",
          "index": 186,
          "local_name": "Turkmenostan",
          "surface_area": 488100
         },
         {
          "code": "TCA",
          "continent": "North America",
          "geosize_group": "small",
          "index": 187,
          "local_name": "The Turks and Caicos Islands",
          "surface_area": 430
         },
         {
          "code": "TUV",
          "continent": "Oceania",
          "geosize_group": "small",
          "index": 188,
          "local_name": "Tuvalu",
          "surface_area": 26
         },
         {
          "code": "UGA",
          "continent": "Africa",
          "geosize_group": "small",
          "index": 189,
          "local_name": "Uganda",
          "surface_area": 241038
         },
         {
          "code": "UKR",
          "continent": "Europe",
          "geosize_group": "medium",
          "index": 190,
          "local_name": "Ukrajina",
          "surface_area": 603700
         },
         {
          "code": "HUN",
          "continent": "Europe",
          "geosize_group": "small",
          "index": 191,
          "local_name": "Magyarorszag",
          "surface_area": 93030
         },
         {
          "code": "URY",
          "continent": "South America",
          "geosize_group": "small",
          "index": 192,
          "local_name": "Uruguay",
          "surface_area": 175016
         },
         {
          "code": "NCL",
          "continent": "Oceania",
          "geosize_group": "small",
          "index": 193,
          "local_name": "Nouvelle-Caledonie",
          "surface_area": 18575
         },
         {
          "code": "NZL",
          "continent": "Oceania",
          "geosize_group": "small",
          "index": 194,
          "local_name": "New Zealand/Aotearoa",
          "surface_area": 270534
         },
         {
          "code": "UZB",
          "continent": "Asia",
          "geosize_group": "medium",
          "index": 195,
          "local_name": "Uzbekiston",
          "surface_area": 447400
         },
         {
          "code": "BLR",
          "continent": "Europe",
          "geosize_group": "small",
          "index": 196,
          "local_name": "Belarus",
          "surface_area": 207600
         },
         {
          "code": "VUT",
          "continent": "Oceania",
          "geosize_group": "small",
          "index": 197,
          "local_name": "Vanuatu",
          "surface_area": 12189
         },
         {
          "code": "VEN",
          "continent": "South America",
          "geosize_group": "medium",
          "index": 198,
          "local_name": "Venezuela",
          "surface_area": 912050
         },
         {
          "code": "RUS",
          "continent": "Europe",
          "geosize_group": "large",
          "index": 199,
          "local_name": "Rossija",
          "surface_area": 17075400
         },
         {
          "code": "VNM",
          "continent": "Asia",
          "geosize_group": "small",
          "index": 200,
          "local_name": "Viet Nam",
          "surface_area": 331689
         },
         {
          "code": "EST",
          "continent": "Europe",
          "geosize_group": "small",
          "index": 201,
          "local_name": "Eesti",
          "surface_area": 45227
         },
         {
          "code": "USA",
          "continent": "North America",
          "geosize_group": "large",
          "index": 202,
          "local_name": "United States",
          "surface_area": 9363520
         },
         {
          "code": "VIR",
          "continent": "North America",
          "geosize_group": "small",
          "index": 203,
          "local_name": "Virgin Islands of the United States",
          "surface_area": 347
         },
         {
          "code": "ZWE",
          "continent": "Africa",
          "geosize_group": "medium",
          "index": 204,
          "local_name": "Zimbabwe",
          "surface_area": 390757
         },
         {
          "code": "PSE",
          "continent": "Asia",
          "geosize_group": "small",
          "index": 205,
          "local_name": "Filastin",
          "surface_area": 6257
         }
        ],
        "schema": {
         "fields": [
          {
           "name": "index",
           "type": "integer"
          },
          {
           "name": "local_name",
           "type": "string"
          },
          {
           "name": "continent",
           "type": "string"
          },
          {
           "name": "code",
           "type": "string"
          },
          {
           "name": "surface_area",
           "type": "number"
          },
          {
           "name": "geosize_group",
           "type": "string"
          }
         ],
         "pandas_version": "1.4.0",
         "primaryKey": [
          "index"
         ]
        }
       },
       "total_rows": 206,
       "truncation_type": null
      },
      "text/html": [
       "<div>\n",
       "<style scoped>\n",
       "    .dataframe tbody tr th:only-of-type {\n",
       "        vertical-align: middle;\n",
       "    }\n",
       "\n",
       "    .dataframe tbody tr th {\n",
       "        vertical-align: top;\n",
       "    }\n",
       "\n",
       "    .dataframe thead th {\n",
       "        text-align: right;\n",
       "    }\n",
       "</style>\n",
       "<table border=\"1\" class=\"dataframe\">\n",
       "  <thead>\n",
       "    <tr style=\"text-align: right;\">\n",
       "      <th></th>\n",
       "      <th>local_name</th>\n",
       "      <th>continent</th>\n",
       "      <th>code</th>\n",
       "      <th>surface_area</th>\n",
       "      <th>geosize_group</th>\n",
       "    </tr>\n",
       "  </thead>\n",
       "  <tbody>\n",
       "    <tr>\n",
       "      <th>0</th>\n",
       "      <td>Afganistan/Afqanestan</td>\n",
       "      <td>Asia</td>\n",
       "      <td>AFG</td>\n",
       "      <td>652090.0</td>\n",
       "      <td>medium</td>\n",
       "    </tr>\n",
       "    <tr>\n",
       "      <th>1</th>\n",
       "      <td>Nederland</td>\n",
       "      <td>Europe</td>\n",
       "      <td>NLD</td>\n",
       "      <td>41526.0</td>\n",
       "      <td>small</td>\n",
       "    </tr>\n",
       "    <tr>\n",
       "      <th>2</th>\n",
       "      <td>Shqiperia</td>\n",
       "      <td>Europe</td>\n",
       "      <td>ALB</td>\n",
       "      <td>28748.0</td>\n",
       "      <td>small</td>\n",
       "    </tr>\n",
       "    <tr>\n",
       "      <th>3</th>\n",
       "      <td>Al-Jazair/Algerie</td>\n",
       "      <td>Africa</td>\n",
       "      <td>DZA</td>\n",
       "      <td>2381740.0</td>\n",
       "      <td>large</td>\n",
       "    </tr>\n",
       "    <tr>\n",
       "      <th>4</th>\n",
       "      <td>Amerika Samoa</td>\n",
       "      <td>Oceania</td>\n",
       "      <td>ASM</td>\n",
       "      <td>199.0</td>\n",
       "      <td>small</td>\n",
       "    </tr>\n",
       "    <tr>\n",
       "      <th>...</th>\n",
       "      <td>...</td>\n",
       "      <td>...</td>\n",
       "      <td>...</td>\n",
       "      <td>...</td>\n",
       "      <td>...</td>\n",
       "    </tr>\n",
       "    <tr>\n",
       "      <th>201</th>\n",
       "      <td>Eesti</td>\n",
       "      <td>Europe</td>\n",
       "      <td>EST</td>\n",
       "      <td>45227.0</td>\n",
       "      <td>small</td>\n",
       "    </tr>\n",
       "    <tr>\n",
       "      <th>202</th>\n",
       "      <td>United States</td>\n",
       "      <td>North America</td>\n",
       "      <td>USA</td>\n",
       "      <td>9363520.0</td>\n",
       "      <td>large</td>\n",
       "    </tr>\n",
       "    <tr>\n",
       "      <th>203</th>\n",
       "      <td>Virgin Islands of the United States</td>\n",
       "      <td>North America</td>\n",
       "      <td>VIR</td>\n",
       "      <td>347.0</td>\n",
       "      <td>small</td>\n",
       "    </tr>\n",
       "    <tr>\n",
       "      <th>204</th>\n",
       "      <td>Zimbabwe</td>\n",
       "      <td>Africa</td>\n",
       "      <td>ZWE</td>\n",
       "      <td>390757.0</td>\n",
       "      <td>medium</td>\n",
       "    </tr>\n",
       "    <tr>\n",
       "      <th>205</th>\n",
       "      <td>Filastin</td>\n",
       "      <td>Asia</td>\n",
       "      <td>PSE</td>\n",
       "      <td>6257.0</td>\n",
       "      <td>small</td>\n",
       "    </tr>\n",
       "  </tbody>\n",
       "</table>\n",
       "<p>206 rows × 5 columns</p>\n",
       "</div>"
      ],
      "text/plain": [
       "                              local_name  ... geosize_group\n",
       "0                  Afganistan/Afqanestan  ...        medium\n",
       "1                              Nederland  ...         small\n",
       "2                              Shqiperia  ...         small\n",
       "3                     Al-Jazair/Algerie  ...         large\n",
       "4                          Amerika Samoa  ...         small\n",
       "..                                   ...  ...           ...\n",
       "201                                Eesti  ...         small\n",
       "202                        United States  ...         large\n",
       "203  Virgin Islands of the United States  ...         small\n",
       "204                             Zimbabwe  ...        medium\n",
       "205                             Filastin  ...         small\n",
       "\n",
       "[206 rows x 5 columns]"
      ]
     },
     "execution_count": 2,
     "metadata": {},
     "output_type": "execute_result"
    }
   ],
   "source": [
    "SELECT local_name, continent, code, surface_area,\n",
    "    CASE WHEN surface_area > 2000000 THEN 'large'\n",
    "       WHEN surface_area > 350000 THEN 'medium'\n",
    "       ELSE 'small' END\n",
    "       AS geosize_group\n",
    "--INTO world.countries_fmestre --> lo guarda en una nueva tabla\n",
    "FROM world.countries;"
   ]
  },
  {
   "cell_type": "code",
   "execution_count": 4,
   "id": "bc6b94a0-460a-4586-90a1-23ac423f64b4",
   "metadata": {
    "customType": "sql",
    "dataFrameVariableName": "df",
    "executionTime": 1452,
    "initial": false,
    "integrationId": "c632441c-e1dc-4637-a56d-10b85efd89be",
    "lastSuccessfullyExecutedCode": "SELECT country_code, size,\n    CASE WHEN size > 50000000 THEN 'large'\n        WHEN size > 1000000 THEN 'medium'\n        ELSE 'small' END\n        AS popsize_group\n--INTO world.pop_plus --> lo guarda en una nueva tabla\nFROM world.populations\nWHERE year = 2015;",
    "outputsMetadata": {
     "0": {
      "height": 310,
      "type": "dataFrame"
     }
    }
   },
   "outputs": [
    {
     "data": {
      "application/com.datacamp.data-table.v1+json": {
       "table": {
        "data": [
         {
          "country_code": "ABW",
          "index": 0,
          "popsize_group": "small",
          "size": 103889
         },
         {
          "country_code": "AFG",
          "index": 1,
          "popsize_group": "medium",
          "size": 32526562
         },
         {
          "country_code": "AGO",
          "index": 2,
          "popsize_group": "medium",
          "size": 25021974
         },
         {
          "country_code": "ALB",
          "index": 3,
          "popsize_group": "medium",
          "size": 2889167
         },
         {
          "country_code": "AND",
          "index": 4,
          "popsize_group": "small",
          "size": 70473
         },
         {
          "country_code": "ARE",
          "index": 5,
          "popsize_group": "medium",
          "size": 9156963
         },
         {
          "country_code": "ARG",
          "index": 6,
          "popsize_group": "medium",
          "size": 43416756
         },
         {
          "country_code": "ARM",
          "index": 7,
          "popsize_group": "medium",
          "size": 3017712
         },
         {
          "country_code": "ASM",
          "index": 8,
          "popsize_group": "small",
          "size": 55538
         },
         {
          "country_code": "ATG",
          "index": 9,
          "popsize_group": "small",
          "size": 91818
         },
         {
          "country_code": "AUS",
          "index": 10,
          "popsize_group": "medium",
          "size": 23789752
         },
         {
          "country_code": "AUT",
          "index": 11,
          "popsize_group": "medium",
          "size": 8638366
         },
         {
          "country_code": "AZE",
          "index": 12,
          "popsize_group": "medium",
          "size": 9649341
         },
         {
          "country_code": "BDI",
          "index": 13,
          "popsize_group": "medium",
          "size": 11178921
         },
         {
          "country_code": "BEL",
          "index": 14,
          "popsize_group": "medium",
          "size": 11249420
         },
         {
          "country_code": "BEN",
          "index": 15,
          "popsize_group": "medium",
          "size": 10879829
         },
         {
          "country_code": "BFA",
          "index": 16,
          "popsize_group": "medium",
          "size": 18105570
         },
         {
          "country_code": "BGD",
          "index": 17,
          "popsize_group": "large",
          "size": 160995650
         },
         {
          "country_code": "BGR",
          "index": 18,
          "popsize_group": "medium",
          "size": 7177991
         },
         {
          "country_code": "BHR",
          "index": 19,
          "popsize_group": "medium",
          "size": 1377237
         },
         {
          "country_code": "BHS",
          "index": 20,
          "popsize_group": "small",
          "size": 388019
         },
         {
          "country_code": "BIH",
          "index": 21,
          "popsize_group": "medium",
          "size": 3810416
         },
         {
          "country_code": "BLR",
          "index": 22,
          "popsize_group": "medium",
          "size": 9489616
         },
         {
          "country_code": "BLZ",
          "index": 23,
          "popsize_group": "small",
          "size": 359287
         },
         {
          "country_code": "BMU",
          "index": 24,
          "popsize_group": "small",
          "size": 65235
         },
         {
          "country_code": "BOL",
          "index": 25,
          "popsize_group": "medium",
          "size": 10724705
         },
         {
          "country_code": "BRA",
          "index": 26,
          "popsize_group": "large",
          "size": 207847520
         },
         {
          "country_code": "BRB",
          "index": 27,
          "popsize_group": "small",
          "size": 284215
         },
         {
          "country_code": "BRN",
          "index": 28,
          "popsize_group": "small",
          "size": 423188
         },
         {
          "country_code": "BTN",
          "index": 29,
          "popsize_group": "small",
          "size": 774830
         },
         {
          "country_code": "BWA",
          "index": 30,
          "popsize_group": "medium",
          "size": 2262485
         },
         {
          "country_code": "CAF",
          "index": 31,
          "popsize_group": "medium",
          "size": 4900274
         },
         {
          "country_code": "CAN",
          "index": 32,
          "popsize_group": "medium",
          "size": 35848608
         },
         {
          "country_code": "CHE",
          "index": 33,
          "popsize_group": "medium",
          "size": 8281430
         },
         {
          "country_code": "CHI",
          "index": 34,
          "popsize_group": "small",
          "size": 163692
         },
         {
          "country_code": "CHL",
          "index": 35,
          "popsize_group": "medium",
          "size": 17948140
         },
         {
          "country_code": "CHN",
          "index": 36,
          "popsize_group": "large",
          "size": 1371220000
         },
         {
          "country_code": "CIV",
          "index": 37,
          "popsize_group": "medium",
          "size": 22701556
         },
         {
          "country_code": "CMR",
          "index": 38,
          "popsize_group": "medium",
          "size": 23344180
         },
         {
          "country_code": "COD",
          "index": 39,
          "popsize_group": "large",
          "size": 77266816
         },
         {
          "country_code": "COG",
          "index": 40,
          "popsize_group": "medium",
          "size": 4620330
         },
         {
          "country_code": "COL",
          "index": 41,
          "popsize_group": "medium",
          "size": 48228704
         },
         {
          "country_code": "COM",
          "index": 42,
          "popsize_group": "small",
          "size": 788474
         },
         {
          "country_code": "CPV",
          "index": 43,
          "popsize_group": "small",
          "size": 520502
         },
         {
          "country_code": "CRI",
          "index": 44,
          "popsize_group": "medium",
          "size": 4807850
         },
         {
          "country_code": "CUB",
          "index": 45,
          "popsize_group": "medium",
          "size": 11389562
         },
         {
          "country_code": "CUW",
          "index": 46,
          "popsize_group": "small",
          "size": 157979
         },
         {
          "country_code": "CYM",
          "index": 47,
          "popsize_group": "small",
          "size": 59967
         },
         {
          "country_code": "CYP",
          "index": 48,
          "popsize_group": "medium",
          "size": 1165300
         },
         {
          "country_code": "CZE",
          "index": 49,
          "popsize_group": "medium",
          "size": 10546059
         },
         {
          "country_code": "DEU",
          "index": 50,
          "popsize_group": "large",
          "size": 81679770
         },
         {
          "country_code": "DJI",
          "index": 51,
          "popsize_group": "small",
          "size": 887861
         },
         {
          "country_code": "DMA",
          "index": 52,
          "popsize_group": "small",
          "size": 72680
         },
         {
          "country_code": "DNK",
          "index": 53,
          "popsize_group": "medium",
          "size": 5683483
         },
         {
          "country_code": "DOM",
          "index": 54,
          "popsize_group": "medium",
          "size": 10528391
         },
         {
          "country_code": "DZA",
          "index": 55,
          "popsize_group": "medium",
          "size": 39666520
         },
         {
          "country_code": "ECU",
          "index": 56,
          "popsize_group": "medium",
          "size": 16144363
         },
         {
          "country_code": "EGY",
          "index": 57,
          "popsize_group": "large",
          "size": 91508080
         },
         {
          "country_code": "ERI",
          "index": 58,
          "popsize_group": "small",
          "size": null
         },
         {
          "country_code": "ESP",
          "index": 59,
          "popsize_group": "medium",
          "size": 46443992
         },
         {
          "country_code": "EST",
          "index": 60,
          "popsize_group": "medium",
          "size": 1314608
         },
         {
          "country_code": "ETH",
          "index": 61,
          "popsize_group": "large",
          "size": 99390750
         },
         {
          "country_code": "FIN",
          "index": 62,
          "popsize_group": "medium",
          "size": 5479531
         },
         {
          "country_code": "FJI",
          "index": 63,
          "popsize_group": "small",
          "size": 892145
         },
         {
          "country_code": "FRA",
          "index": 64,
          "popsize_group": "large",
          "size": 66538392
         },
         {
          "country_code": "FRO",
          "index": 65,
          "popsize_group": "small",
          "size": 48199
         },
         {
          "country_code": "FSM",
          "index": 66,
          "popsize_group": "small",
          "size": 104460
         },
         {
          "country_code": "GAB",
          "index": 67,
          "popsize_group": "medium",
          "size": 1725292
         },
         {
          "country_code": "GBR",
          "index": 68,
          "popsize_group": "large",
          "size": 65128860
         },
         {
          "country_code": "GEO",
          "index": 69,
          "popsize_group": "medium",
          "size": 3717100
         },
         {
          "country_code": "GHA",
          "index": 70,
          "popsize_group": "medium",
          "size": 27409892
         },
         {
          "country_code": "GIB",
          "index": 71,
          "popsize_group": "small",
          "size": 32217
         },
         {
          "country_code": "GIN",
          "index": 72,
          "popsize_group": "medium",
          "size": 12608590
         },
         {
          "country_code": "GMB",
          "index": 73,
          "popsize_group": "medium",
          "size": 1990924
         },
         {
          "country_code": "GNB",
          "index": 74,
          "popsize_group": "medium",
          "size": 1844325
         },
         {
          "country_code": "GNQ",
          "index": 75,
          "popsize_group": "small",
          "size": 845060
         },
         {
          "country_code": "GRC",
          "index": 76,
          "popsize_group": "medium",
          "size": 10820883
         },
         {
          "country_code": "GRD",
          "index": 77,
          "popsize_group": "small",
          "size": 106825
         },
         {
          "country_code": "GRL",
          "index": 78,
          "popsize_group": "small",
          "size": 56114
         },
         {
          "country_code": "GTM",
          "index": 79,
          "popsize_group": "medium",
          "size": 16342897
         },
         {
          "country_code": "GUM",
          "index": 80,
          "popsize_group": "small",
          "size": 169885
         },
         {
          "country_code": "GUY",
          "index": 81,
          "popsize_group": "small",
          "size": 767085
         },
         {
          "country_code": "HKG",
          "index": 82,
          "popsize_group": "medium",
          "size": 7305700
         },
         {
          "country_code": "HND",
          "index": 83,
          "popsize_group": "medium",
          "size": 8075060
         },
         {
          "country_code": "HRV",
          "index": 84,
          "popsize_group": "medium",
          "size": 4203604
         },
         {
          "country_code": "HTI",
          "index": 85,
          "popsize_group": "medium",
          "size": 10711067
         },
         {
          "country_code": "HUN",
          "index": 86,
          "popsize_group": "medium",
          "size": 9843028
         },
         {
          "country_code": "IDN",
          "index": 87,
          "popsize_group": "large",
          "size": 257563810
         },
         {
          "country_code": "IMN",
          "index": 88,
          "popsize_group": "small",
          "size": 87780
         },
         {
          "country_code": "IND",
          "index": 89,
          "popsize_group": "large",
          "size": 1311050500
         },
         {
          "country_code": "IRL",
          "index": 90,
          "popsize_group": "medium",
          "size": 4643740
         },
         {
          "country_code": "IRN",
          "index": 91,
          "popsize_group": "large",
          "size": 79109270
         },
         {
          "country_code": "IRQ",
          "index": 92,
          "popsize_group": "medium",
          "size": 36423396
         },
         {
          "country_code": "ISL",
          "index": 93,
          "popsize_group": "small",
          "size": 330815
         },
         {
          "country_code": "ISR",
          "index": 94,
          "popsize_group": "medium",
          "size": 8380100
         },
         {
          "country_code": "ITA",
          "index": 95,
          "popsize_group": "large",
          "size": 60730584
         },
         {
          "country_code": "JAM",
          "index": 96,
          "popsize_group": "medium",
          "size": 2793335
         },
         {
          "country_code": "JOR",
          "index": 97,
          "popsize_group": "medium",
          "size": 7594547
         },
         {
          "country_code": "JPN",
          "index": 98,
          "popsize_group": "large",
          "size": 126958470
         },
         {
          "country_code": "KAZ",
          "index": 99,
          "popsize_group": "medium",
          "size": 17544126
         },
         {
          "country_code": "KEN",
          "index": 100,
          "popsize_group": "medium",
          "size": 46050304
         },
         {
          "country_code": "KGZ",
          "index": 101,
          "popsize_group": "medium",
          "size": 5956900
         },
         {
          "country_code": "KHM",
          "index": 102,
          "popsize_group": "medium",
          "size": 15577899
         },
         {
          "country_code": "KIR",
          "index": 103,
          "popsize_group": "small",
          "size": 112423
         },
         {
          "country_code": "KNA",
          "index": 104,
          "popsize_group": "small",
          "size": 55572
         },
         {
          "country_code": "KOR",
          "index": 105,
          "popsize_group": "large",
          "size": 50617044
         },
         {
          "country_code": "KWT",
          "index": 106,
          "popsize_group": "medium",
          "size": 3892115
         },
         {
          "country_code": "LAO",
          "index": 107,
          "popsize_group": "medium",
          "size": 6802023
         },
         {
          "country_code": "LBN",
          "index": 108,
          "popsize_group": "medium",
          "size": 5850743
         },
         {
          "country_code": "LBR",
          "index": 109,
          "popsize_group": "medium",
          "size": 4503438
         },
         {
          "country_code": "LBY",
          "index": 110,
          "popsize_group": "medium",
          "size": 6278438
         },
         {
          "country_code": "LCA",
          "index": 111,
          "popsize_group": "small",
          "size": 184999
         },
         {
          "country_code": "LIE",
          "index": 112,
          "popsize_group": "small",
          "size": 37531
         },
         {
          "country_code": "LKA",
          "index": 113,
          "popsize_group": "medium",
          "size": 20966000
         },
         {
          "country_code": "LSO",
          "index": 114,
          "popsize_group": "medium",
          "size": 2135022
         },
         {
          "country_code": "LTU",
          "index": 115,
          "popsize_group": "medium",
          "size": 2904910
         },
         {
          "country_code": "LUX",
          "index": 116,
          "popsize_group": "small",
          "size": 569604
         },
         {
          "country_code": "LVA",
          "index": 117,
          "popsize_group": "medium",
          "size": 1977527
         },
         {
          "country_code": "MAC",
          "index": 118,
          "popsize_group": "small",
          "size": 587606
         },
         {
          "country_code": "MAF",
          "index": 119,
          "popsize_group": "small",
          "size": 31754
         },
         {
          "country_code": "MAR",
          "index": 120,
          "popsize_group": "medium",
          "size": 34377512
         },
         {
          "country_code": "MCO",
          "index": 121,
          "popsize_group": "small",
          "size": 37731
         },
         {
          "country_code": "MDA",
          "index": 122,
          "popsize_group": "medium",
          "size": 3554108
         },
         {
          "country_code": "MDG",
          "index": 123,
          "popsize_group": "medium",
          "size": 24235390
         },
         {
          "country_code": "MDV",
          "index": 124,
          "popsize_group": "small",
          "size": 409163
         },
         {
          "country_code": "MEX",
          "index": 125,
          "popsize_group": "large",
          "size": 127017224
         },
         {
          "country_code": "MHL",
          "index": 126,
          "popsize_group": "small",
          "size": 52993
         },
         {
          "country_code": "MKD",
          "index": 127,
          "popsize_group": "medium",
          "size": 2078453
         },
         {
          "country_code": "MLI",
          "index": 128,
          "popsize_group": "medium",
          "size": 17599694
         },
         {
          "country_code": "MLT",
          "index": 129,
          "popsize_group": "small",
          "size": 431874
         },
         {
          "country_code": "MMR",
          "index": 130,
          "popsize_group": "large",
          "size": 53897152
         },
         {
          "country_code": "MNE",
          "index": 131,
          "popsize_group": "small",
          "size": 622159
         },
         {
          "country_code": "MNG",
          "index": 132,
          "popsize_group": "medium",
          "size": 2959134
         },
         {
          "country_code": "MNP",
          "index": 133,
          "popsize_group": "small",
          "size": 55070
         },
         {
          "country_code": "MOZ",
          "index": 134,
          "popsize_group": "medium",
          "size": 27977864
         },
         {
          "country_code": "MRT",
          "index": 135,
          "popsize_group": "medium",
          "size": 4067564
         },
         {
          "country_code": "MUS",
          "index": 136,
          "popsize_group": "medium",
          "size": 1262605
         },
         {
          "country_code": "MWI",
          "index": 137,
          "popsize_group": "medium",
          "size": 17215232
         },
         {
          "country_code": "MYS",
          "index": 138,
          "popsize_group": "medium",
          "size": 30331008
         },
         {
          "country_code": "NAM",
          "index": 139,
          "popsize_group": "medium",
          "size": 2458830
         },
         {
          "country_code": "NCL",
          "index": 140,
          "popsize_group": "small",
          "size": 273000
         },
         {
          "country_code": "NER",
          "index": 141,
          "popsize_group": "medium",
          "size": 19899120
         },
         {
          "country_code": "NGA",
          "index": 142,
          "popsize_group": "large",
          "size": 182201970
         },
         {
          "country_code": "NIC",
          "index": 143,
          "popsize_group": "medium",
          "size": 6082032
         },
         {
          "country_code": "NLD",
          "index": 144,
          "popsize_group": "medium",
          "size": 16939924
         },
         {
          "country_code": "NOR",
          "index": 145,
          "popsize_group": "medium",
          "size": 5190239
         },
         {
          "country_code": "NPL",
          "index": 146,
          "popsize_group": "medium",
          "size": 28513700
         },
         {
          "country_code": "NRU",
          "index": 147,
          "popsize_group": "small",
          "size": 12475
         },
         {
          "country_code": "NZL",
          "index": 148,
          "popsize_group": "medium",
          "size": 4595700
         },
         {
          "country_code": "OMN",
          "index": 149,
          "popsize_group": "medium",
          "size": 4490541
         },
         {
          "country_code": "PAK",
          "index": 150,
          "popsize_group": "large",
          "size": 188924880
         },
         {
          "country_code": "PAN",
          "index": 151,
          "popsize_group": "medium",
          "size": 3929141
         },
         {
          "country_code": "PER",
          "index": 152,
          "popsize_group": "medium",
          "size": 31376670
         },
         {
          "country_code": "PHL",
          "index": 153,
          "popsize_group": "large",
          "size": 100699390
         },
         {
          "country_code": "PLW",
          "index": 154,
          "popsize_group": "small",
          "size": 21291
         },
         {
          "country_code": "PNG",
          "index": 155,
          "popsize_group": "medium",
          "size": 7619321
         },
         {
          "country_code": "POL",
          "index": 156,
          "popsize_group": "medium",
          "size": 37986412
         },
         {
          "country_code": "PRI",
          "index": 157,
          "popsize_group": "medium",
          "size": 3474182
         },
         {
          "country_code": "PRK",
          "index": 158,
          "popsize_group": "medium",
          "size": 25155316
         },
         {
          "country_code": "PRT",
          "index": 159,
          "popsize_group": "medium",
          "size": 10358076
         },
         {
          "country_code": "PRY",
          "index": 160,
          "popsize_group": "medium",
          "size": 6639123
         },
         {
          "country_code": "PSE",
          "index": 161,
          "popsize_group": "medium",
          "size": 4422143
         },
         {
          "country_code": "PYF",
          "index": 162,
          "popsize_group": "small",
          "size": 282764
         },
         {
          "country_code": "QAT",
          "index": 163,
          "popsize_group": "medium",
          "size": 2235355
         },
         {
          "country_code": "ROU",
          "index": 164,
          "popsize_group": "medium",
          "size": 19815308
         },
         {
          "country_code": "RUS",
          "index": 165,
          "popsize_group": "large",
          "size": 144096860
         },
         {
          "country_code": "RWA",
          "index": 166,
          "popsize_group": "medium",
          "size": 11609666
         },
         {
          "country_code": "SAU",
          "index": 167,
          "popsize_group": "medium",
          "size": 31540372
         },
         {
          "country_code": "SDN",
          "index": 168,
          "popsize_group": "medium",
          "size": 40234880
         },
         {
          "country_code": "SEN",
          "index": 169,
          "popsize_group": "medium",
          "size": 15129273
         },
         {
          "country_code": "SGP",
          "index": 170,
          "popsize_group": "medium",
          "size": 5535002
         },
         {
          "country_code": "SLB",
          "index": 171,
          "popsize_group": "small",
          "size": 583591
         },
         {
          "country_code": "SLE",
          "index": 172,
          "popsize_group": "medium",
          "size": 6453184
         },
         {
          "country_code": "SLV",
          "index": 173,
          "popsize_group": "medium",
          "size": 6126583
         },
         {
          "country_code": "SMR",
          "index": 174,
          "popsize_group": "small",
          "size": 31781
         },
         {
          "country_code": "SOM",
          "index": 175,
          "popsize_group": "medium",
          "size": 10787104
         },
         {
          "country_code": "SRB",
          "index": 176,
          "popsize_group": "medium",
          "size": 7095383
         },
         {
          "country_code": "SSD",
          "index": 177,
          "popsize_group": "medium",
          "size": 12339812
         },
         {
          "country_code": "STP",
          "index": 178,
          "popsize_group": "small",
          "size": 190344
         },
         {
          "country_code": "SUR",
          "index": 179,
          "popsize_group": "small",
          "size": 542975
         },
         {
          "country_code": "SVK",
          "index": 180,
          "popsize_group": "medium",
          "size": 5423801
         },
         {
          "country_code": "SVN",
          "index": 181,
          "popsize_group": "medium",
          "size": 2063531
         },
         {
          "country_code": "SWE",
          "index": 182,
          "popsize_group": "medium",
          "size": 9799186
         },
         {
          "country_code": "SWZ",
          "index": 183,
          "popsize_group": "medium",
          "size": 1286970
         },
         {
          "country_code": "SXM",
          "index": 184,
          "popsize_group": "small",
          "size": 38824
         },
         {
          "country_code": "SYC",
          "index": 185,
          "popsize_group": "small",
          "size": 93419
         },
         {
          "country_code": "SYR",
          "index": 186,
          "popsize_group": "medium",
          "size": 18502412
         },
         {
          "country_code": "TCA",
          "index": 187,
          "popsize_group": "small",
          "size": 34339
         },
         {
          "country_code": "TCD",
          "index": 188,
          "popsize_group": "medium",
          "size": 14037472
         },
         {
          "country_code": "TGO",
          "index": 189,
          "popsize_group": "medium",
          "size": 7304578
         },
         {
          "country_code": "THA",
          "index": 190,
          "popsize_group": "large",
          "size": 67959360
         },
         {
          "country_code": "TJK",
          "index": 191,
          "popsize_group": "medium",
          "size": 8481855
         },
         {
          "country_code": "TKM",
          "index": 192,
          "popsize_group": "medium",
          "size": 5373502
         },
         {
          "country_code": "TLS",
          "index": 193,
          "popsize_group": "medium",
          "size": 1184765
         },
         {
          "country_code": "TON",
          "index": 194,
          "popsize_group": "small",
          "size": 106170
         },
         {
          "country_code": "TTO",
          "index": 195,
          "popsize_group": "medium",
          "size": 1360088
         },
         {
          "country_code": "TUN",
          "index": 196,
          "popsize_group": "medium",
          "size": 11253554
         },
         {
          "country_code": "TUR",
          "index": 197,
          "popsize_group": "large",
          "size": 78665830
         },
         {
          "country_code": "TUV",
          "index": 198,
          "popsize_group": "small",
          "size": 9916
         },
         {
          "country_code": "TZA",
          "index": 199,
          "popsize_group": "large",
          "size": 53470420
         },
         {
          "country_code": "UGA",
          "index": 200,
          "popsize_group": "medium",
          "size": 39032384
         },
         {
          "country_code": "UKR",
          "index": 201,
          "popsize_group": "medium",
          "size": 45154028
         },
         {
          "country_code": "URY",
          "index": 202,
          "popsize_group": "medium",
          "size": 3431555
         },
         {
          "country_code": "USA",
          "index": 203,
          "popsize_group": "large",
          "size": 321418820
         },
         {
          "country_code": "UZB",
          "index": 204,
          "popsize_group": "medium",
          "size": 31298900
         },
         {
          "country_code": "VCT",
          "index": 205,
          "popsize_group": "small",
          "size": 109462
         },
         {
          "country_code": "VEN",
          "index": 206,
          "popsize_group": "medium",
          "size": 31108084
         },
         {
          "country_code": "VGB",
          "index": 207,
          "popsize_group": "small",
          "size": 30117
         },
         {
          "country_code": "VIR",
          "index": 208,
          "popsize_group": "small",
          "size": 103574
         },
         {
          "country_code": "VNM",
          "index": 209,
          "popsize_group": "large",
          "size": 91713296
         },
         {
          "country_code": "VUT",
          "index": 210,
          "popsize_group": "small",
          "size": 264652
         },
         {
          "country_code": "WSM",
          "index": 211,
          "popsize_group": "small",
          "size": 193228
         },
         {
          "country_code": "XKX",
          "index": 212,
          "popsize_group": "medium",
          "size": 1801800
         },
         {
          "country_code": "YEM",
          "index": 213,
          "popsize_group": "medium",
          "size": 26832216
         },
         {
          "country_code": "ZAF",
          "index": 214,
          "popsize_group": "large",
          "size": 55011976
         },
         {
          "country_code": "ZMB",
          "index": 215,
          "popsize_group": "medium",
          "size": 16211767
         },
         {
          "country_code": "ZWE",
          "index": 216,
          "popsize_group": "medium",
          "size": 15602751
         }
        ],
        "schema": {
         "fields": [
          {
           "name": "index",
           "type": "integer"
          },
          {
           "name": "country_code",
           "type": "string"
          },
          {
           "name": "size",
           "type": "number"
          },
          {
           "name": "popsize_group",
           "type": "string"
          }
         ],
         "pandas_version": "1.4.0",
         "primaryKey": [
          "index"
         ]
        }
       },
       "total_rows": 217,
       "truncation_type": null
      },
      "text/html": [
       "<div>\n",
       "<style scoped>\n",
       "    .dataframe tbody tr th:only-of-type {\n",
       "        vertical-align: middle;\n",
       "    }\n",
       "\n",
       "    .dataframe tbody tr th {\n",
       "        vertical-align: top;\n",
       "    }\n",
       "\n",
       "    .dataframe thead th {\n",
       "        text-align: right;\n",
       "    }\n",
       "</style>\n",
       "<table border=\"1\" class=\"dataframe\">\n",
       "  <thead>\n",
       "    <tr style=\"text-align: right;\">\n",
       "      <th></th>\n",
       "      <th>country_code</th>\n",
       "      <th>size</th>\n",
       "      <th>popsize_group</th>\n",
       "    </tr>\n",
       "  </thead>\n",
       "  <tbody>\n",
       "    <tr>\n",
       "      <th>0</th>\n",
       "      <td>ABW</td>\n",
       "      <td>103889.0</td>\n",
       "      <td>small</td>\n",
       "    </tr>\n",
       "    <tr>\n",
       "      <th>1</th>\n",
       "      <td>AFG</td>\n",
       "      <td>32526562.0</td>\n",
       "      <td>medium</td>\n",
       "    </tr>\n",
       "    <tr>\n",
       "      <th>2</th>\n",
       "      <td>AGO</td>\n",
       "      <td>25021974.0</td>\n",
       "      <td>medium</td>\n",
       "    </tr>\n",
       "    <tr>\n",
       "      <th>3</th>\n",
       "      <td>ALB</td>\n",
       "      <td>2889167.0</td>\n",
       "      <td>medium</td>\n",
       "    </tr>\n",
       "    <tr>\n",
       "      <th>4</th>\n",
       "      <td>AND</td>\n",
       "      <td>70473.0</td>\n",
       "      <td>small</td>\n",
       "    </tr>\n",
       "    <tr>\n",
       "      <th>...</th>\n",
       "      <td>...</td>\n",
       "      <td>...</td>\n",
       "      <td>...</td>\n",
       "    </tr>\n",
       "    <tr>\n",
       "      <th>212</th>\n",
       "      <td>XKX</td>\n",
       "      <td>1801800.0</td>\n",
       "      <td>medium</td>\n",
       "    </tr>\n",
       "    <tr>\n",
       "      <th>213</th>\n",
       "      <td>YEM</td>\n",
       "      <td>26832216.0</td>\n",
       "      <td>medium</td>\n",
       "    </tr>\n",
       "    <tr>\n",
       "      <th>214</th>\n",
       "      <td>ZAF</td>\n",
       "      <td>55011976.0</td>\n",
       "      <td>large</td>\n",
       "    </tr>\n",
       "    <tr>\n",
       "      <th>215</th>\n",
       "      <td>ZMB</td>\n",
       "      <td>16211767.0</td>\n",
       "      <td>medium</td>\n",
       "    </tr>\n",
       "    <tr>\n",
       "      <th>216</th>\n",
       "      <td>ZWE</td>\n",
       "      <td>15602751.0</td>\n",
       "      <td>medium</td>\n",
       "    </tr>\n",
       "  </tbody>\n",
       "</table>\n",
       "<p>217 rows × 3 columns</p>\n",
       "</div>"
      ],
      "text/plain": [
       "    country_code        size popsize_group\n",
       "0            ABW    103889.0         small\n",
       "1            AFG  32526562.0        medium\n",
       "2            AGO  25021974.0        medium\n",
       "3            ALB   2889167.0        medium\n",
       "4            AND     70473.0         small\n",
       "..           ...         ...           ...\n",
       "212          XKX   1801800.0        medium\n",
       "213          YEM  26832216.0        medium\n",
       "214          ZAF  55011976.0         large\n",
       "215          ZMB  16211767.0        medium\n",
       "216          ZWE  15602751.0        medium\n",
       "\n",
       "[217 rows x 3 columns]"
      ]
     },
     "execution_count": 4,
     "metadata": {},
     "output_type": "execute_result"
    }
   ],
   "source": [
    "SELECT country_code, size,\n",
    "    CASE WHEN size > 50000000 THEN 'large'\n",
    "        WHEN size > 1000000 THEN 'medium'\n",
    "        ELSE 'small' END\n",
    "        AS popsize_group\n",
    "--INTO world.pop_plus --> lo guarda en una nueva tabla\n",
    "FROM world.populations\n",
    "WHERE year = 2015;"
   ]
  }
 ],
 "metadata": {
  "editor": "DataCamp Workspace",
  "kernelspec": {
   "display_name": "Python 3 (ipykernel)",
   "language": "python",
   "name": "python3"
  },
  "language_info": {
   "codemirror_mode": {
    "name": "ipython",
    "version": 3
   },
   "file_extension": ".py",
   "mimetype": "text/x-python",
   "name": "python",
   "nbconvert_exporter": "python",
   "pygments_lexer": "ipython3",
   "version": "3.11.6"
  }
 },
 "nbformat": 4,
 "nbformat_minor": 5
}
