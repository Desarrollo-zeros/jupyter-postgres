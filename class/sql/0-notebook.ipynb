{
 "cells": [
  {
   "cell_type": "markdown",
   "id": "b3feb785-7294-4193-8ac9-28075ee9ae60",
   "metadata": {},
   "source": []
  },
  {
   "cell_type": "markdown",
   "id": "be71af8f-f7ec-4096-9b2e-9c321f38e8cc",
   "metadata": {},
   "source": [
    "# Menú principal"
   ]
  },
  {
   "cell_type": "code",
   "execution_count": 10,
   "id": "632ccdb5-5118-4ddf-9aea-b440bf759c2a",
   "metadata": {
    "executionTime": 101,
    "lastSuccessfullyExecutedCode": "!!ps -fe"
   },
   "outputs": [
    {
     "data": {
      "text/plain": [
       "['UID        PID  PPID  C STIME TTY          TIME CMD',\n",
       " 'repl         1     0  0 15:51 pts/0    00:00:00 /bin/bash /usr/bin/init.sh',\n",
       " 'repl         9     1  0 15:51 ?        00:00:00 /usr/bin/python3 /usr/bin/supervisord',\n",
       " 'repl        31     9  0 15:51 ?        00:00:00 /bin/bash /usr/bin/git_backup.sh',\n",
       " 'repl        32     9  0 15:51 ?        00:00:03 /usr/bin/python3 /usr/local/bin/jupyter-lab --collaborative',\n",
       " 'repl        93     1  0 15:51 pts/0    00:00:01 python3 -m dc_workspace.start_json_rpc_server',\n",
       " 'repl        95     1  0 15:51 pts/0    00:00:00 python3 -i -c from dc_workspace import *',\n",
       " 'repl       257    32  0 15:53 ?        00:00:02 /usr/bin/python3 -m python_kernel.kernel -f /home/repl/.local/share/jupyter/runtime/kernel-ef118d15-8387-42a1-a954-76753abfcdc9.json',\n",
       " 'repl       321    32  0 15:53 ?        00:00:01 /usr/bin/python3 -m python_kernel.kernel -f /home/repl/.local/share/jupyter/runtime/kernel-9a2f32ed-1192-4156-8a93-c4b91151285c.json',\n",
       " 'repl       361    32  0 15:53 ?        00:00:01 /usr/bin/python3 -m python_kernel.kernel -f /home/repl/.local/share/jupyter/runtime/kernel-66fed061-2520-4fc1-b5b9-49315271199d.json',\n",
       " 'repl      2297    32  0 16:29 ?        00:00:01 /usr/bin/python3 -m python_kernel.kernel -f /home/repl/.local/share/jupyter/runtime/kernel-a925b267-17ab-4ce9-b29e-cb239ac05c38.json',\n",
       " 'repl      2720    31  0 16:36 ?        00:00:00 sleep 120',\n",
       " 'repl      2743   257  0 16:36 ?        00:00:00 ps -fe']"
      ]
     },
     "execution_count": 10,
     "metadata": {},
     "output_type": "execute_result"
    }
   ],
   "source": [
    "!!ps -fe"
   ]
  },
  {
   "cell_type": "markdown",
   "id": "0fd9d40e-a706-4048-88ca-f4f6aa633c56",
   "metadata": {},
   "source": [
    "## secundario"
   ]
  },
  {
   "cell_type": "code",
   "execution_count": 6,
   "id": "aeb09caa-fb46-4022-917c-2367d68cdae4",
   "metadata": {
    "executionTime": 70,
    "lastSuccessfullyExecutedCode": "!!pwd"
   },
   "outputs": [
    {
     "data": {
      "text/plain": [
       "['/work/files/workspace']"
      ]
     },
     "execution_count": 6,
     "metadata": {},
     "output_type": "execute_result"
    }
   ],
   "source": [
    "!!pwd"
   ]
  },
  {
   "cell_type": "markdown",
   "id": "f13cff35-3b55-4d26-82e1-f525d8eb4f47",
   "metadata": {},
   "source": [
    "### Bases de Datos"
   ]
  },
  {
   "cell_type": "code",
   "execution_count": 7,
   "id": "5e65dd2c-88a0-4144-a214-04a108b5d067",
   "metadata": {
    "customType": "sql",
    "dataFrameVariableName": "df",
    "executionTime": 1095,
    "initial": false,
    "integrationId": "c632441c-e1dc-4637-a56d-10b85efd89be",
    "lastSuccessfullyExecutedCode": "select count(*) from cinema.films where release_year < 2000",
    "outputsMetadata": {
     "0": {
      "height": 93,
      "type": "dataFrame"
     }
    }
   },
   "outputs": [
    {
     "data": {
      "application/com.datacamp.data-table.v1+json": {
       "table": {
        "data": [
         {
          "count": 1337,
          "index": 0
         }
        ],
        "schema": {
         "fields": [
          {
           "name": "index",
           "type": "integer"
          },
          {
           "name": "count",
           "type": "integer"
          }
         ],
         "pandas_version": "1.4.0",
         "primaryKey": [
          "index"
         ]
        }
       },
       "total_rows": 1,
       "truncation_type": null
      },
      "text/html": [
       "<div>\n",
       "<style scoped>\n",
       "    .dataframe tbody tr th:only-of-type {\n",
       "        vertical-align: middle;\n",
       "    }\n",
       "\n",
       "    .dataframe tbody tr th {\n",
       "        vertical-align: top;\n",
       "    }\n",
       "\n",
       "    .dataframe thead th {\n",
       "        text-align: right;\n",
       "    }\n",
       "</style>\n",
       "<table border=\"1\" class=\"dataframe\">\n",
       "  <thead>\n",
       "    <tr style=\"text-align: right;\">\n",
       "      <th></th>\n",
       "      <th>count</th>\n",
       "    </tr>\n",
       "  </thead>\n",
       "  <tbody>\n",
       "    <tr>\n",
       "      <th>0</th>\n",
       "      <td>1337</td>\n",
       "    </tr>\n",
       "  </tbody>\n",
       "</table>\n",
       "</div>"
      ],
      "text/plain": [
       "   count\n",
       "0   1337"
      ]
     },
     "execution_count": 7,
     "metadata": {},
     "output_type": "execute_result"
    }
   ],
   "source": [
    "select count(*) from cinema.films where release_year < 2000"
   ]
  },
  {
   "cell_type": "code",
   "execution_count": 8,
   "id": "b83b2f6d-5280-4874-acaa-0fc33b2719ef",
   "metadata": {
    "executionTime": 87,
    "lastSuccessfullyExecutedCode": "!!df -hT"
   },
   "outputs": [
    {
     "data": {
      "text/plain": [
       "['Filesystem                                      Type     Size  Used Avail Use% Mounted on',\n",
       " 'overlay                                         overlay  200G   46G  155G  23% /',\n",
       " 'tmpfs                                           tmpfs     64M     0   64M   0% /dev',\n",
       " 'tmpfs                                           tmpfs     31G     0   31G   0% /sys/fs/cgroup',\n",
       " '/dev/nvme0n1p1                                  xfs      200G   46G  155G  23% /etc/hosts',\n",
       " '127.0.0.1:/                                     nfs4     8.0E   52G  8.0E   1% /shared-templates',\n",
       " 'shm                                             tmpfs     64M     0   64M   0% /dev/shm',\n",
       " 'overlay                                         overlay  200G   46G  155G  23% /var/lib/python/site-packages',\n",
       " 'tmpfs                                           tmpfs     31G   12K   31G   1% /run/secrets/kubernetes.io/serviceaccount',\n",
       " 'tmpfs                                           tmpfs     31G     0   31G   0% /proc/acpi',\n",
       " 'tmpfs                                           tmpfs     31G     0   31G   0% /sys/firmware',\n",
       " '127.0.0.1:/084e0221-9904-45d2-8da5-15e60a529b60 nfs4     8.0E  3.8T  8.0E   1% /work/files']"
      ]
     },
     "execution_count": 8,
     "metadata": {},
     "output_type": "execute_result"
    }
   ],
   "source": [
    "!!df -hT"
   ]
  },
  {
   "cell_type": "markdown",
   "id": "ff80f233-a3df-424d-8d6c-2e2d15538398",
   "metadata": {},
   "source": []
  }
 ],
 "metadata": {
  "editor": "DataCamp Workspace",
  "kernelspec": {
   "display_name": "Python 3 (ipykernel)",
   "language": "python",
   "name": "python3"
  },
  "language_info": {
   "codemirror_mode": {
    "name": "ipython",
    "version": 3
   },
   "file_extension": ".py",
   "mimetype": "text/x-python",
   "name": "python",
   "nbconvert_exporter": "python",
   "pygments_lexer": "ipython3",
   "version": "3.11.6"
  }
 },
 "nbformat": 4,
 "nbformat_minor": 5
}
