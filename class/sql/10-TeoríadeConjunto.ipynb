{
 "cells": [
  {
   "cell_type": "markdown",
   "id": "3dd86355-116d-444a-b035-8776cca7b435",
   "metadata": {},
   "source": [
    "<h1>Teoría de Conjuntos</h1>\n",
    "\n",
    "- UNION/UNION ALL --> no buscan registro, solo concatenan, \n",
    "- UNION/UNION ALL la suma de 2 o mas tablas\n",
    "- UNION ALL toma en cuenta los repetidos/duplicados, UNION no los toma en cuenta\n",
    "- La lista de campos deben tener la misma estructura, mismo tipo de datos"
   ]
  },
  {
   "cell_type": "markdown",
   "id": "fe9bc992-ffa8-4d4a-85d6-29e5cd130580",
   "metadata": {},
   "source": [
    "<img src=\"https://www.simplilearn.com/ice9/free_resources_article_thumb/Union_illustration-SQL_Union.PNG\"/>\n"
   ]
  },
  {
   "cell_type": "code",
   "execution_count": 1,
   "id": "7c93d403-c8b0-4bcf-9080-3a649cf9661c",
   "metadata": {
    "customType": "sql",
    "dataFrameVariableName": "df",
    "executionTime": 1409,
    "initial": false,
    "integrationId": "c632441c-e1dc-4637-a56d-10b85efd89be",
    "lastSuccessfullyExecutedCode": "Select country_code\n  from world.cities\n  UNION\nSelect code\n  from world.currencies\norder by country_code;",
    "outputsMetadata": {
     "0": {
      "height": 310,
      "type": "dataFrame"
     }
    }
   },
   "outputs": [
    {
     "data": {
      "application/com.datacamp.data-table.v1+json": {
       "table": {
        "data": [
         {
          "country_code": "ABW",
          "index": 0
         },
         {
          "country_code": "AFG",
          "index": 1
         },
         {
          "country_code": "AGO",
          "index": 2
         },
         {
          "country_code": "AIA",
          "index": 3
         },
         {
          "country_code": "ALB",
          "index": 4
         },
         {
          "country_code": "AND",
          "index": 5
         },
         {
          "country_code": "ARE",
          "index": 6
         },
         {
          "country_code": "ARG",
          "index": 7
         },
         {
          "country_code": "ARM",
          "index": 8
         },
         {
          "country_code": "ATG",
          "index": 9
         },
         {
          "country_code": "AUS",
          "index": 10
         },
         {
          "country_code": "AUT",
          "index": 11
         },
         {
          "country_code": "AZE",
          "index": 12
         },
         {
          "country_code": "BDI",
          "index": 13
         },
         {
          "country_code": "BEL",
          "index": 14
         },
         {
          "country_code": "BEN",
          "index": 15
         },
         {
          "country_code": "BFA",
          "index": 16
         },
         {
          "country_code": "BGD",
          "index": 17
         },
         {
          "country_code": "BGR",
          "index": 18
         },
         {
          "country_code": "BHR",
          "index": 19
         },
         {
          "country_code": "BIH",
          "index": 20
         },
         {
          "country_code": "BLR",
          "index": 21
         },
         {
          "country_code": "BLZ",
          "index": 22
         },
         {
          "country_code": "BMU",
          "index": 23
         },
         {
          "country_code": "BOL",
          "index": 24
         },
         {
          "country_code": "BRA",
          "index": 25
         },
         {
          "country_code": "BRB",
          "index": 26
         },
         {
          "country_code": "BRN",
          "index": 27
         },
         {
          "country_code": "BTN",
          "index": 28
         },
         {
          "country_code": "BWA",
          "index": 29
         },
         {
          "country_code": "CAF",
          "index": 30
         },
         {
          "country_code": "CAN",
          "index": 31
         },
         {
          "country_code": "CCK",
          "index": 32
         },
         {
          "country_code": "CHE",
          "index": 33
         },
         {
          "country_code": "CHL",
          "index": 34
         },
         {
          "country_code": "CHN",
          "index": 35
         },
         {
          "country_code": "CIV",
          "index": 36
         },
         {
          "country_code": "CMR",
          "index": 37
         },
         {
          "country_code": "COD",
          "index": 38
         },
         {
          "country_code": "COG",
          "index": 39
         },
         {
          "country_code": "COK",
          "index": 40
         },
         {
          "country_code": "COL",
          "index": 41
         },
         {
          "country_code": "COM",
          "index": 42
         },
         {
          "country_code": "CPV",
          "index": 43
         },
         {
          "country_code": "CRI",
          "index": 44
         },
         {
          "country_code": "CUB",
          "index": 45
         },
         {
          "country_code": "CYM",
          "index": 46
         },
         {
          "country_code": "CYP",
          "index": 47
         },
         {
          "country_code": "CZE",
          "index": 48
         },
         {
          "country_code": "DEU",
          "index": 49
         },
         {
          "country_code": "DJI",
          "index": 50
         },
         {
          "country_code": "DMA",
          "index": 51
         },
         {
          "country_code": "DNK",
          "index": 52
         },
         {
          "country_code": "DOM",
          "index": 53
         },
         {
          "country_code": "DZA",
          "index": 54
         },
         {
          "country_code": "ECU",
          "index": 55
         },
         {
          "country_code": "EGY",
          "index": 56
         },
         {
          "country_code": "ERI",
          "index": 57
         },
         {
          "country_code": "ESP",
          "index": 58
         },
         {
          "country_code": "EST",
          "index": 59
         },
         {
          "country_code": "ETH",
          "index": 60
         },
         {
          "country_code": "FIN",
          "index": 61
         },
         {
          "country_code": "FLK",
          "index": 62
         },
         {
          "country_code": "FRA",
          "index": 63
         },
         {
          "country_code": "FRO",
          "index": 64
         },
         {
          "country_code": "GAB",
          "index": 65
         },
         {
          "country_code": "GBR",
          "index": 66
         },
         {
          "country_code": "GEO",
          "index": 67
         },
         {
          "country_code": "GHA",
          "index": 68
         },
         {
          "country_code": "GIB",
          "index": 69
         },
         {
          "country_code": "GIN",
          "index": 70
         },
         {
          "country_code": "GNB",
          "index": 71
         },
         {
          "country_code": "GNQ",
          "index": 72
         },
         {
          "country_code": "GRC",
          "index": 73
         },
         {
          "country_code": "GRD",
          "index": 74
         },
         {
          "country_code": "GTM",
          "index": 75
         },
         {
          "country_code": "GUY",
          "index": 76
         },
         {
          "country_code": "HKG",
          "index": 77
         },
         {
          "country_code": "HND",
          "index": 78
         },
         {
          "country_code": "HRV",
          "index": 79
         },
         {
          "country_code": "HTI",
          "index": 80
         },
         {
          "country_code": "HUN",
          "index": 81
         },
         {
          "country_code": "IDN",
          "index": 82
         },
         {
          "country_code": "IND",
          "index": 83
         },
         {
          "country_code": "IOT",
          "index": 84
         },
         {
          "country_code": "IRL",
          "index": 85
         },
         {
          "country_code": "IRN",
          "index": 86
         },
         {
          "country_code": "IRQ",
          "index": 87
         },
         {
          "country_code": "ISL",
          "index": 88
         },
         {
          "country_code": "ISR",
          "index": 89
         },
         {
          "country_code": "ITA",
          "index": 90
         },
         {
          "country_code": "JAM",
          "index": 91
         },
         {
          "country_code": "JOR",
          "index": 92
         },
         {
          "country_code": "JPN",
          "index": 93
         },
         {
          "country_code": "KAZ",
          "index": 94
         },
         {
          "country_code": "KEN",
          "index": 95
         },
         {
          "country_code": "KGZ",
          "index": 96
         },
         {
          "country_code": "KHM",
          "index": 97
         },
         {
          "country_code": "KIR",
          "index": 98
         },
         {
          "country_code": "KNA",
          "index": 99
         },
         {
          "country_code": "KOR",
          "index": 100
         },
         {
          "country_code": "KWT",
          "index": 101
         },
         {
          "country_code": "LAO",
          "index": 102
         },
         {
          "country_code": "LBN",
          "index": 103
         },
         {
          "country_code": "LBR",
          "index": 104
         },
         {
          "country_code": "LBY",
          "index": 105
         },
         {
          "country_code": "LCA",
          "index": 106
         },
         {
          "country_code": "LIE",
          "index": 107
         },
         {
          "country_code": "LKA",
          "index": 108
         },
         {
          "country_code": "LSO",
          "index": 109
         },
         {
          "country_code": "LTU",
          "index": 110
         },
         {
          "country_code": "LUX",
          "index": 111
         },
         {
          "country_code": "LVA",
          "index": 112
         },
         {
          "country_code": "MAR",
          "index": 113
         },
         {
          "country_code": "MCO",
          "index": 114
         },
         {
          "country_code": "MDA",
          "index": 115
         },
         {
          "country_code": "MDG",
          "index": 116
         },
         {
          "country_code": "MDV",
          "index": 117
         },
         {
          "country_code": "MEX",
          "index": 118
         },
         {
          "country_code": "MHL",
          "index": 119
         },
         {
          "country_code": "MLI",
          "index": 120
         },
         {
          "country_code": "MLT",
          "index": 121
         },
         {
          "country_code": "MMR",
          "index": 122
         },
         {
          "country_code": "MNG",
          "index": 123
         },
         {
          "country_code": "MOZ",
          "index": 124
         },
         {
          "country_code": "MRT",
          "index": 125
         },
         {
          "country_code": "MSR",
          "index": 126
         },
         {
          "country_code": "MUS",
          "index": 127
         },
         {
          "country_code": "MWI",
          "index": 128
         },
         {
          "country_code": "MYS",
          "index": 129
         },
         {
          "country_code": "NAM",
          "index": 130
         },
         {
          "country_code": "NCL",
          "index": 131
         },
         {
          "country_code": "NER",
          "index": 132
         },
         {
          "country_code": "NGA",
          "index": 133
         },
         {
          "country_code": "NIC",
          "index": 134
         },
         {
          "country_code": "NIU",
          "index": 135
         },
         {
          "country_code": "NLD",
          "index": 136
         },
         {
          "country_code": "NOR",
          "index": 137
         },
         {
          "country_code": "NPL",
          "index": 138
         },
         {
          "country_code": "NRU",
          "index": 139
         },
         {
          "country_code": "NZL",
          "index": 140
         },
         {
          "country_code": "OMN",
          "index": 141
         },
         {
          "country_code": "PAK",
          "index": 142
         },
         {
          "country_code": "PAN",
          "index": 143
         },
         {
          "country_code": "PER",
          "index": 144
         },
         {
          "country_code": "PHL",
          "index": 145
         },
         {
          "country_code": "PLW",
          "index": 146
         },
         {
          "country_code": "PNG",
          "index": 147
         },
         {
          "country_code": "POL",
          "index": 148
         },
         {
          "country_code": "PRK",
          "index": 149
         },
         {
          "country_code": "PRT",
          "index": 150
         },
         {
          "country_code": "PRY",
          "index": 151
         },
         {
          "country_code": "PSE",
          "index": 152
         },
         {
          "country_code": "PYF",
          "index": 153
         },
         {
          "country_code": "QAT",
          "index": 154
         },
         {
          "country_code": "ROM",
          "index": 155
         },
         {
          "country_code": "RUS",
          "index": 156
         },
         {
          "country_code": "RWA",
          "index": 157
         },
         {
          "country_code": "SAU",
          "index": 158
         },
         {
          "country_code": "SDN",
          "index": 159
         },
         {
          "country_code": "SEN",
          "index": 160
         },
         {
          "country_code": "SGP",
          "index": 161
         },
         {
          "country_code": "SGS",
          "index": 162
         },
         {
          "country_code": "SHN",
          "index": 163
         },
         {
          "country_code": "SLB",
          "index": 164
         },
         {
          "country_code": "SLE",
          "index": 165
         },
         {
          "country_code": "SLV",
          "index": 166
         },
         {
          "country_code": "SMR",
          "index": 167
         },
         {
          "country_code": "SOM",
          "index": 168
         },
         {
          "country_code": "SUR",
          "index": 169
         },
         {
          "country_code": "SVK",
          "index": 170
         },
         {
          "country_code": "SVN",
          "index": 171
         },
         {
          "country_code": "SWE",
          "index": 172
         },
         {
          "country_code": "SWZ",
          "index": 173
         },
         {
          "country_code": "SYC",
          "index": 174
         },
         {
          "country_code": "SYR",
          "index": 175
         },
         {
          "country_code": "TCA",
          "index": 176
         },
         {
          "country_code": "TCD",
          "index": 177
         },
         {
          "country_code": "TGO",
          "index": 178
         },
         {
          "country_code": "THA",
          "index": 179
         },
         {
          "country_code": "TJK",
          "index": 180
         },
         {
          "country_code": "TKM",
          "index": 181
         },
         {
          "country_code": "TMP",
          "index": 182
         },
         {
          "country_code": "TON",
          "index": 183
         },
         {
          "country_code": "TTO",
          "index": 184
         },
         {
          "country_code": "TUN",
          "index": 185
         },
         {
          "country_code": "TUR",
          "index": 186
         },
         {
          "country_code": "TUV",
          "index": 187
         },
         {
          "country_code": "TWN",
          "index": 188
         },
         {
          "country_code": "TZA",
          "index": 189
         },
         {
          "country_code": "UGA",
          "index": 190
         },
         {
          "country_code": "UKR",
          "index": 191
         },
         {
          "country_code": "URY",
          "index": 192
         },
         {
          "country_code": "USA",
          "index": 193
         },
         {
          "country_code": "UZB",
          "index": 194
         },
         {
          "country_code": "VCT",
          "index": 195
         },
         {
          "country_code": "VEN",
          "index": 196
         },
         {
          "country_code": "VNM",
          "index": 197
         },
         {
          "country_code": "VUT",
          "index": 198
         },
         {
          "country_code": "WLF",
          "index": 199
         },
         {
          "country_code": "WSM",
          "index": 200
         },
         {
          "country_code": "YEM",
          "index": 201
         },
         {
          "country_code": "ZAF",
          "index": 202
         },
         {
          "country_code": "ZMB",
          "index": 203
         },
         {
          "country_code": "ZWE",
          "index": 204
         }
        ],
        "schema": {
         "fields": [
          {
           "name": "index",
           "type": "integer"
          },
          {
           "name": "country_code",
           "type": "string"
          }
         ],
         "pandas_version": "1.4.0",
         "primaryKey": [
          "index"
         ]
        }
       },
       "total_rows": 205,
       "truncation_type": null
      },
      "text/html": [
       "<div>\n",
       "<style scoped>\n",
       "    .dataframe tbody tr th:only-of-type {\n",
       "        vertical-align: middle;\n",
       "    }\n",
       "\n",
       "    .dataframe tbody tr th {\n",
       "        vertical-align: top;\n",
       "    }\n",
       "\n",
       "    .dataframe thead th {\n",
       "        text-align: right;\n",
       "    }\n",
       "</style>\n",
       "<table border=\"1\" class=\"dataframe\">\n",
       "  <thead>\n",
       "    <tr style=\"text-align: right;\">\n",
       "      <th></th>\n",
       "      <th>country_code</th>\n",
       "    </tr>\n",
       "  </thead>\n",
       "  <tbody>\n",
       "    <tr>\n",
       "      <th>0</th>\n",
       "      <td>ABW</td>\n",
       "    </tr>\n",
       "    <tr>\n",
       "      <th>1</th>\n",
       "      <td>AFG</td>\n",
       "    </tr>\n",
       "    <tr>\n",
       "      <th>2</th>\n",
       "      <td>AGO</td>\n",
       "    </tr>\n",
       "    <tr>\n",
       "      <th>3</th>\n",
       "      <td>AIA</td>\n",
       "    </tr>\n",
       "    <tr>\n",
       "      <th>4</th>\n",
       "      <td>ALB</td>\n",
       "    </tr>\n",
       "    <tr>\n",
       "      <th>...</th>\n",
       "      <td>...</td>\n",
       "    </tr>\n",
       "    <tr>\n",
       "      <th>200</th>\n",
       "      <td>WSM</td>\n",
       "    </tr>\n",
       "    <tr>\n",
       "      <th>201</th>\n",
       "      <td>YEM</td>\n",
       "    </tr>\n",
       "    <tr>\n",
       "      <th>202</th>\n",
       "      <td>ZAF</td>\n",
       "    </tr>\n",
       "    <tr>\n",
       "      <th>203</th>\n",
       "      <td>ZMB</td>\n",
       "    </tr>\n",
       "    <tr>\n",
       "      <th>204</th>\n",
       "      <td>ZWE</td>\n",
       "    </tr>\n",
       "  </tbody>\n",
       "</table>\n",
       "<p>205 rows × 1 columns</p>\n",
       "</div>"
      ],
      "text/plain": [
       "    country_code\n",
       "0            ABW\n",
       "1            AFG\n",
       "2            AGO\n",
       "3            AIA\n",
       "4            ALB\n",
       "..           ...\n",
       "200          WSM\n",
       "201          YEM\n",
       "202          ZAF\n",
       "203          ZMB\n",
       "204          ZWE\n",
       "\n",
       "[205 rows x 1 columns]"
      ]
     },
     "execution_count": 1,
     "metadata": {},
     "output_type": "execute_result"
    }
   ],
   "source": [
    "Select country_code\n",
    "  from world.cities\n",
    "  UNION\n",
    "Select code\n",
    "  from world.currencies\n",
    "order by country_code;"
   ]
  },
  {
   "cell_type": "markdown",
   "id": "13e209c2-0ab3-4a2d-9a94-ef9edd352cb6",
   "metadata": {},
   "source": [
    "<h1>----------------------------------------------------------------</h1>"
   ]
  },
  {
   "cell_type": "markdown",
   "id": "3109db87-40d7-45b8-81e3-1330a0fc59f3",
   "metadata": {},
   "source": [
    "\n",
    "<img src=\"https://www.simplilearn.com/ice9/free_resources_article_thumb/union_all_illustration-SQL_Union.PNG\"/>"
   ]
  },
  {
   "cell_type": "code",
   "execution_count": 2,
   "id": "002149c4-3ba8-413a-8c2c-0e6fb78696c3",
   "metadata": {
    "customType": "sql",
    "dataFrameVariableName": "df",
    "executionTime": 1674,
    "initial": false,
    "integrationId": "c632441c-e1dc-4637-a56d-10b85efd89be",
    "lastSuccessfullyExecutedCode": "SELECT code, year\nFROM world.economies\nUNION ALL\nSELECT country_code, year\n  FROM world.populations\nORDER BY code, year;",
    "outputsMetadata": {
     "0": {
      "height": 310,
      "type": "dataFrame"
     }
    }
   },
   "outputs": [
    {
     "data": {
      "application/com.datacamp.data-table.v1+json": {
       "table": {
        "data": [
         {
          "code": "ABW",
          "index": 0,
          "year": 2010
         },
         {
          "code": "ABW",
          "index": 1,
          "year": 2015
         },
         {
          "code": "AFG",
          "index": 2,
          "year": 2010
         },
         {
          "code": "AFG",
          "index": 3,
          "year": 2010
         },
         {
          "code": "AFG",
          "index": 4,
          "year": 2015
         },
         {
          "code": "AFG",
          "index": 5,
          "year": 2015
         },
         {
          "code": "AGO",
          "index": 6,
          "year": 2010
         },
         {
          "code": "AGO",
          "index": 7,
          "year": 2010
         },
         {
          "code": "AGO",
          "index": 8,
          "year": 2015
         },
         {
          "code": "AGO",
          "index": 9,
          "year": 2015
         },
         {
          "code": "ALB",
          "index": 10,
          "year": 2010
         },
         {
          "code": "ALB",
          "index": 11,
          "year": 2010
         },
         {
          "code": "ALB",
          "index": 12,
          "year": 2015
         },
         {
          "code": "ALB",
          "index": 13,
          "year": 2015
         },
         {
          "code": "AND",
          "index": 14,
          "year": 2010
         },
         {
          "code": "AND",
          "index": 15,
          "year": 2015
         },
         {
          "code": "ARE",
          "index": 16,
          "year": 2010
         },
         {
          "code": "ARE",
          "index": 17,
          "year": 2010
         },
         {
          "code": "ARE",
          "index": 18,
          "year": 2015
         },
         {
          "code": "ARE",
          "index": 19,
          "year": 2015
         },
         {
          "code": "ARG",
          "index": 20,
          "year": 2010
         },
         {
          "code": "ARG",
          "index": 21,
          "year": 2010
         },
         {
          "code": "ARG",
          "index": 22,
          "year": 2015
         },
         {
          "code": "ARG",
          "index": 23,
          "year": 2015
         },
         {
          "code": "ARM",
          "index": 24,
          "year": 2010
         },
         {
          "code": "ARM",
          "index": 25,
          "year": 2010
         },
         {
          "code": "ARM",
          "index": 26,
          "year": 2015
         },
         {
          "code": "ARM",
          "index": 27,
          "year": 2015
         },
         {
          "code": "ASM",
          "index": 28,
          "year": 2010
         },
         {
          "code": "ASM",
          "index": 29,
          "year": 2015
         },
         {
          "code": "ATG",
          "index": 30,
          "year": 2010
         },
         {
          "code": "ATG",
          "index": 31,
          "year": 2010
         },
         {
          "code": "ATG",
          "index": 32,
          "year": 2015
         },
         {
          "code": "ATG",
          "index": 33,
          "year": 2015
         },
         {
          "code": "AUS",
          "index": 34,
          "year": 2010
         },
         {
          "code": "AUS",
          "index": 35,
          "year": 2010
         },
         {
          "code": "AUS",
          "index": 36,
          "year": 2015
         },
         {
          "code": "AUS",
          "index": 37,
          "year": 2015
         },
         {
          "code": "AUT",
          "index": 38,
          "year": 2010
         },
         {
          "code": "AUT",
          "index": 39,
          "year": 2010
         },
         {
          "code": "AUT",
          "index": 40,
          "year": 2015
         },
         {
          "code": "AUT",
          "index": 41,
          "year": 2015
         },
         {
          "code": "AZE",
          "index": 42,
          "year": 2010
         },
         {
          "code": "AZE",
          "index": 43,
          "year": 2010
         },
         {
          "code": "AZE",
          "index": 44,
          "year": 2015
         },
         {
          "code": "AZE",
          "index": 45,
          "year": 2015
         },
         {
          "code": "BDI",
          "index": 46,
          "year": 2010
         },
         {
          "code": "BDI",
          "index": 47,
          "year": 2010
         },
         {
          "code": "BDI",
          "index": 48,
          "year": 2015
         },
         {
          "code": "BDI",
          "index": 49,
          "year": 2015
         },
         {
          "code": "BEL",
          "index": 50,
          "year": 2010
         },
         {
          "code": "BEL",
          "index": 51,
          "year": 2010
         },
         {
          "code": "BEL",
          "index": 52,
          "year": 2015
         },
         {
          "code": "BEL",
          "index": 53,
          "year": 2015
         },
         {
          "code": "BEN",
          "index": 54,
          "year": 2010
         },
         {
          "code": "BEN",
          "index": 55,
          "year": 2010
         },
         {
          "code": "BEN",
          "index": 56,
          "year": 2015
         },
         {
          "code": "BEN",
          "index": 57,
          "year": 2015
         },
         {
          "code": "BFA",
          "index": 58,
          "year": 2010
         },
         {
          "code": "BFA",
          "index": 59,
          "year": 2010
         },
         {
          "code": "BFA",
          "index": 60,
          "year": 2015
         },
         {
          "code": "BFA",
          "index": 61,
          "year": 2015
         },
         {
          "code": "BGD",
          "index": 62,
          "year": 2010
         },
         {
          "code": "BGD",
          "index": 63,
          "year": 2010
         },
         {
          "code": "BGD",
          "index": 64,
          "year": 2015
         },
         {
          "code": "BGD",
          "index": 65,
          "year": 2015
         },
         {
          "code": "BGR",
          "index": 66,
          "year": 2010
         },
         {
          "code": "BGR",
          "index": 67,
          "year": 2010
         },
         {
          "code": "BGR",
          "index": 68,
          "year": 2015
         },
         {
          "code": "BGR",
          "index": 69,
          "year": 2015
         },
         {
          "code": "BHR",
          "index": 70,
          "year": 2010
         },
         {
          "code": "BHR",
          "index": 71,
          "year": 2010
         },
         {
          "code": "BHR",
          "index": 72,
          "year": 2015
         },
         {
          "code": "BHR",
          "index": 73,
          "year": 2015
         },
         {
          "code": "BHS",
          "index": 74,
          "year": 2010
         },
         {
          "code": "BHS",
          "index": 75,
          "year": 2010
         },
         {
          "code": "BHS",
          "index": 76,
          "year": 2015
         },
         {
          "code": "BHS",
          "index": 77,
          "year": 2015
         },
         {
          "code": "BIH",
          "index": 78,
          "year": 2010
         },
         {
          "code": "BIH",
          "index": 79,
          "year": 2010
         },
         {
          "code": "BIH",
          "index": 80,
          "year": 2015
         },
         {
          "code": "BIH",
          "index": 81,
          "year": 2015
         },
         {
          "code": "BLR",
          "index": 82,
          "year": 2010
         },
         {
          "code": "BLR",
          "index": 83,
          "year": 2010
         },
         {
          "code": "BLR",
          "index": 84,
          "year": 2015
         },
         {
          "code": "BLR",
          "index": 85,
          "year": 2015
         },
         {
          "code": "BLZ",
          "index": 86,
          "year": 2010
         },
         {
          "code": "BLZ",
          "index": 87,
          "year": 2010
         },
         {
          "code": "BLZ",
          "index": 88,
          "year": 2015
         },
         {
          "code": "BLZ",
          "index": 89,
          "year": 2015
         },
         {
          "code": "BMU",
          "index": 90,
          "year": 2010
         },
         {
          "code": "BMU",
          "index": 91,
          "year": 2015
         },
         {
          "code": "BOL",
          "index": 92,
          "year": 2010
         },
         {
          "code": "BOL",
          "index": 93,
          "year": 2010
         },
         {
          "code": "BOL",
          "index": 94,
          "year": 2015
         },
         {
          "code": "BOL",
          "index": 95,
          "year": 2015
         },
         {
          "code": "BRA",
          "index": 96,
          "year": 2010
         },
         {
          "code": "BRA",
          "index": 97,
          "year": 2010
         },
         {
          "code": "BRA",
          "index": 98,
          "year": 2015
         },
         {
          "code": "BRA",
          "index": 99,
          "year": 2015
         },
         {
          "code": "BRB",
          "index": 100,
          "year": 2010
         },
         {
          "code": "BRB",
          "index": 101,
          "year": 2010
         },
         {
          "code": "BRB",
          "index": 102,
          "year": 2015
         },
         {
          "code": "BRB",
          "index": 103,
          "year": 2015
         },
         {
          "code": "BRN",
          "index": 104,
          "year": 2010
         },
         {
          "code": "BRN",
          "index": 105,
          "year": 2010
         },
         {
          "code": "BRN",
          "index": 106,
          "year": 2015
         },
         {
          "code": "BRN",
          "index": 107,
          "year": 2015
         },
         {
          "code": "BTN",
          "index": 108,
          "year": 2010
         },
         {
          "code": "BTN",
          "index": 109,
          "year": 2010
         },
         {
          "code": "BTN",
          "index": 110,
          "year": 2015
         },
         {
          "code": "BTN",
          "index": 111,
          "year": 2015
         },
         {
          "code": "BWA",
          "index": 112,
          "year": 2010
         },
         {
          "code": "BWA",
          "index": 113,
          "year": 2010
         },
         {
          "code": "BWA",
          "index": 114,
          "year": 2015
         },
         {
          "code": "BWA",
          "index": 115,
          "year": 2015
         },
         {
          "code": "CAF",
          "index": 116,
          "year": 2010
         },
         {
          "code": "CAF",
          "index": 117,
          "year": 2010
         },
         {
          "code": "CAF",
          "index": 118,
          "year": 2015
         },
         {
          "code": "CAF",
          "index": 119,
          "year": 2015
         },
         {
          "code": "CAN",
          "index": 120,
          "year": 2010
         },
         {
          "code": "CAN",
          "index": 121,
          "year": 2010
         },
         {
          "code": "CAN",
          "index": 122,
          "year": 2015
         },
         {
          "code": "CAN",
          "index": 123,
          "year": 2015
         },
         {
          "code": "CHE",
          "index": 124,
          "year": 2010
         },
         {
          "code": "CHE",
          "index": 125,
          "year": 2010
         },
         {
          "code": "CHE",
          "index": 126,
          "year": 2015
         },
         {
          "code": "CHE",
          "index": 127,
          "year": 2015
         },
         {
          "code": "CHI",
          "index": 128,
          "year": 2010
         },
         {
          "code": "CHI",
          "index": 129,
          "year": 2015
         },
         {
          "code": "CHL",
          "index": 130,
          "year": 2010
         },
         {
          "code": "CHL",
          "index": 131,
          "year": 2010
         },
         {
          "code": "CHL",
          "index": 132,
          "year": 2015
         },
         {
          "code": "CHL",
          "index": 133,
          "year": 2015
         },
         {
          "code": "CHN",
          "index": 134,
          "year": 2010
         },
         {
          "code": "CHN",
          "index": 135,
          "year": 2010
         },
         {
          "code": "CHN",
          "index": 136,
          "year": 2015
         },
         {
          "code": "CHN",
          "index": 137,
          "year": 2015
         },
         {
          "code": "CIV",
          "index": 138,
          "year": 2010
         },
         {
          "code": "CIV",
          "index": 139,
          "year": 2010
         },
         {
          "code": "CIV",
          "index": 140,
          "year": 2015
         },
         {
          "code": "CIV",
          "index": 141,
          "year": 2015
         },
         {
          "code": "CMR",
          "index": 142,
          "year": 2010
         },
         {
          "code": "CMR",
          "index": 143,
          "year": 2010
         },
         {
          "code": "CMR",
          "index": 144,
          "year": 2015
         },
         {
          "code": "CMR",
          "index": 145,
          "year": 2015
         },
         {
          "code": "COD",
          "index": 146,
          "year": 2010
         },
         {
          "code": "COD",
          "index": 147,
          "year": 2010
         },
         {
          "code": "COD",
          "index": 148,
          "year": 2015
         },
         {
          "code": "COD",
          "index": 149,
          "year": 2015
         },
         {
          "code": "COG",
          "index": 150,
          "year": 2010
         },
         {
          "code": "COG",
          "index": 151,
          "year": 2010
         },
         {
          "code": "COG",
          "index": 152,
          "year": 2015
         },
         {
          "code": "COG",
          "index": 153,
          "year": 2015
         },
         {
          "code": "COL",
          "index": 154,
          "year": 2010
         },
         {
          "code": "COL",
          "index": 155,
          "year": 2010
         },
         {
          "code": "COL",
          "index": 156,
          "year": 2015
         },
         {
          "code": "COL",
          "index": 157,
          "year": 2015
         },
         {
          "code": "COM",
          "index": 158,
          "year": 2010
         },
         {
          "code": "COM",
          "index": 159,
          "year": 2010
         },
         {
          "code": "COM",
          "index": 160,
          "year": 2015
         },
         {
          "code": "COM",
          "index": 161,
          "year": 2015
         },
         {
          "code": "CPV",
          "index": 162,
          "year": 2010
         },
         {
          "code": "CPV",
          "index": 163,
          "year": 2010
         },
         {
          "code": "CPV",
          "index": 164,
          "year": 2015
         },
         {
          "code": "CPV",
          "index": 165,
          "year": 2015
         },
         {
          "code": "CRI",
          "index": 166,
          "year": 2010
         },
         {
          "code": "CRI",
          "index": 167,
          "year": 2010
         },
         {
          "code": "CRI",
          "index": 168,
          "year": 2015
         },
         {
          "code": "CRI",
          "index": 169,
          "year": 2015
         },
         {
          "code": "CUB",
          "index": 170,
          "year": 2010
         },
         {
          "code": "CUB",
          "index": 171,
          "year": 2015
         },
         {
          "code": "CUW",
          "index": 172,
          "year": 2010
         },
         {
          "code": "CUW",
          "index": 173,
          "year": 2015
         },
         {
          "code": "CYM",
          "index": 174,
          "year": 2010
         },
         {
          "code": "CYM",
          "index": 175,
          "year": 2015
         },
         {
          "code": "CYP",
          "index": 176,
          "year": 2010
         },
         {
          "code": "CYP",
          "index": 177,
          "year": 2010
         },
         {
          "code": "CYP",
          "index": 178,
          "year": 2015
         },
         {
          "code": "CYP",
          "index": 179,
          "year": 2015
         },
         {
          "code": "CZE",
          "index": 180,
          "year": 2010
         },
         {
          "code": "CZE",
          "index": 181,
          "year": 2010
         },
         {
          "code": "CZE",
          "index": 182,
          "year": 2015
         },
         {
          "code": "CZE",
          "index": 183,
          "year": 2015
         },
         {
          "code": "DEU",
          "index": 184,
          "year": 2010
         },
         {
          "code": "DEU",
          "index": 185,
          "year": 2010
         },
         {
          "code": "DEU",
          "index": 186,
          "year": 2015
         },
         {
          "code": "DEU",
          "index": 187,
          "year": 2015
         },
         {
          "code": "DJI",
          "index": 188,
          "year": 2010
         },
         {
          "code": "DJI",
          "index": 189,
          "year": 2010
         },
         {
          "code": "DJI",
          "index": 190,
          "year": 2015
         },
         {
          "code": "DJI",
          "index": 191,
          "year": 2015
         },
         {
          "code": "DMA",
          "index": 192,
          "year": 2010
         },
         {
          "code": "DMA",
          "index": 193,
          "year": 2010
         },
         {
          "code": "DMA",
          "index": 194,
          "year": 2015
         },
         {
          "code": "DMA",
          "index": 195,
          "year": 2015
         },
         {
          "code": "DNK",
          "index": 196,
          "year": 2010
         },
         {
          "code": "DNK",
          "index": 197,
          "year": 2010
         },
         {
          "code": "DNK",
          "index": 198,
          "year": 2015
         },
         {
          "code": "DNK",
          "index": 199,
          "year": 2015
         },
         {
          "code": "DOM",
          "index": 200,
          "year": 2010
         },
         {
          "code": "DOM",
          "index": 201,
          "year": 2010
         },
         {
          "code": "DOM",
          "index": 202,
          "year": 2015
         },
         {
          "code": "DOM",
          "index": 203,
          "year": 2015
         },
         {
          "code": "DZA",
          "index": 204,
          "year": 2010
         },
         {
          "code": "DZA",
          "index": 205,
          "year": 2010
         },
         {
          "code": "DZA",
          "index": 206,
          "year": 2015
         },
         {
          "code": "DZA",
          "index": 207,
          "year": 2015
         },
         {
          "code": "ECU",
          "index": 208,
          "year": 2010
         },
         {
          "code": "ECU",
          "index": 209,
          "year": 2010
         },
         {
          "code": "ECU",
          "index": 210,
          "year": 2015
         },
         {
          "code": "ECU",
          "index": 211,
          "year": 2015
         },
         {
          "code": "EGY",
          "index": 212,
          "year": 2010
         },
         {
          "code": "EGY",
          "index": 213,
          "year": 2010
         },
         {
          "code": "EGY",
          "index": 214,
          "year": 2015
         },
         {
          "code": "EGY",
          "index": 215,
          "year": 2015
         },
         {
          "code": "ERI",
          "index": 216,
          "year": 2010
         },
         {
          "code": "ERI",
          "index": 217,
          "year": 2010
         },
         {
          "code": "ERI",
          "index": 218,
          "year": 2015
         },
         {
          "code": "ERI",
          "index": 219,
          "year": 2015
         },
         {
          "code": "ESP",
          "index": 220,
          "year": 2010
         },
         {
          "code": "ESP",
          "index": 221,
          "year": 2010
         },
         {
          "code": "ESP",
          "index": 222,
          "year": 2015
         },
         {
          "code": "ESP",
          "index": 223,
          "year": 2015
         },
         {
          "code": "EST",
          "index": 224,
          "year": 2010
         },
         {
          "code": "EST",
          "index": 225,
          "year": 2010
         },
         {
          "code": "EST",
          "index": 226,
          "year": 2015
         },
         {
          "code": "EST",
          "index": 227,
          "year": 2015
         },
         {
          "code": "ETH",
          "index": 228,
          "year": 2010
         },
         {
          "code": "ETH",
          "index": 229,
          "year": 2010
         },
         {
          "code": "ETH",
          "index": 230,
          "year": 2015
         },
         {
          "code": "ETH",
          "index": 231,
          "year": 2015
         },
         {
          "code": "FIN",
          "index": 232,
          "year": 2010
         },
         {
          "code": "FIN",
          "index": 233,
          "year": 2010
         },
         {
          "code": "FIN",
          "index": 234,
          "year": 2015
         },
         {
          "code": "FIN",
          "index": 235,
          "year": 2015
         },
         {
          "code": "FJI",
          "index": 236,
          "year": 2010
         },
         {
          "code": "FJI",
          "index": 237,
          "year": 2010
         },
         {
          "code": "FJI",
          "index": 238,
          "year": 2015
         },
         {
          "code": "FJI",
          "index": 239,
          "year": 2015
         },
         {
          "code": "FRA",
          "index": 240,
          "year": 2010
         },
         {
          "code": "FRA",
          "index": 241,
          "year": 2010
         },
         {
          "code": "FRA",
          "index": 242,
          "year": 2015
         },
         {
          "code": "FRA",
          "index": 243,
          "year": 2015
         },
         {
          "code": "FRO",
          "index": 244,
          "year": 2010
         },
         {
          "code": "FRO",
          "index": 245,
          "year": 2015
         },
         {
          "code": "FSM",
          "index": 246,
          "year": 2010
         },
         {
          "code": "FSM",
          "index": 247,
          "year": 2010
         },
         {
          "code": "FSM",
          "index": 248,
          "year": 2015
         },
         {
          "code": "FSM",
          "index": 249,
          "year": 2015
         },
         {
          "code": "GAB",
          "index": 250,
          "year": 2010
         },
         {
          "code": "GAB",
          "index": 251,
          "year": 2010
         },
         {
          "code": "GAB",
          "index": 252,
          "year": 2015
         },
         {
          "code": "GAB",
          "index": 253,
          "year": 2015
         },
         {
          "code": "GBR",
          "index": 254,
          "year": 2010
         },
         {
          "code": "GBR",
          "index": 255,
          "year": 2010
         },
         {
          "code": "GBR",
          "index": 256,
          "year": 2015
         },
         {
          "code": "GBR",
          "index": 257,
          "year": 2015
         },
         {
          "code": "GEO",
          "index": 258,
          "year": 2010
         },
         {
          "code": "GEO",
          "index": 259,
          "year": 2010
         },
         {
          "code": "GEO",
          "index": 260,
          "year": 2015
         },
         {
          "code": "GEO",
          "index": 261,
          "year": 2015
         },
         {
          "code": "GHA",
          "index": 262,
          "year": 2010
         },
         {
          "code": "GHA",
          "index": 263,
          "year": 2010
         },
         {
          "code": "GHA",
          "index": 264,
          "year": 2015
         },
         {
          "code": "GHA",
          "index": 265,
          "year": 2015
         },
         {
          "code": "GIB",
          "index": 266,
          "year": 2010
         },
         {
          "code": "GIB",
          "index": 267,
          "year": 2015
         },
         {
          "code": "GIN",
          "index": 268,
          "year": 2010
         },
         {
          "code": "GIN",
          "index": 269,
          "year": 2010
         },
         {
          "code": "GIN",
          "index": 270,
          "year": 2015
         },
         {
          "code": "GIN",
          "index": 271,
          "year": 2015
         },
         {
          "code": "GMB",
          "index": 272,
          "year": 2010
         },
         {
          "code": "GMB",
          "index": 273,
          "year": 2010
         },
         {
          "code": "GMB",
          "index": 274,
          "year": 2015
         },
         {
          "code": "GMB",
          "index": 275,
          "year": 2015
         },
         {
          "code": "GNB",
          "index": 276,
          "year": 2010
         },
         {
          "code": "GNB",
          "index": 277,
          "year": 2010
         },
         {
          "code": "GNB",
          "index": 278,
          "year": 2015
         },
         {
          "code": "GNB",
          "index": 279,
          "year": 2015
         },
         {
          "code": "GNQ",
          "index": 280,
          "year": 2010
         },
         {
          "code": "GNQ",
          "index": 281,
          "year": 2010
         },
         {
          "code": "GNQ",
          "index": 282,
          "year": 2015
         },
         {
          "code": "GNQ",
          "index": 283,
          "year": 2015
         },
         {
          "code": "GRC",
          "index": 284,
          "year": 2010
         },
         {
          "code": "GRC",
          "index": 285,
          "year": 2010
         },
         {
          "code": "GRC",
          "index": 286,
          "year": 2015
         },
         {
          "code": "GRC",
          "index": 287,
          "year": 2015
         },
         {
          "code": "GRD",
          "index": 288,
          "year": 2010
         },
         {
          "code": "GRD",
          "index": 289,
          "year": 2010
         },
         {
          "code": "GRD",
          "index": 290,
          "year": 2015
         },
         {
          "code": "GRD",
          "index": 291,
          "year": 2015
         },
         {
          "code": "GRL",
          "index": 292,
          "year": 2010
         },
         {
          "code": "GRL",
          "index": 293,
          "year": 2015
         },
         {
          "code": "GTM",
          "index": 294,
          "year": 2010
         },
         {
          "code": "GTM",
          "index": 295,
          "year": 2010
         },
         {
          "code": "GTM",
          "index": 296,
          "year": 2015
         },
         {
          "code": "GTM",
          "index": 297,
          "year": 2015
         },
         {
          "code": "GUM",
          "index": 298,
          "year": 2010
         },
         {
          "code": "GUM",
          "index": 299,
          "year": 2015
         },
         {
          "code": "GUY",
          "index": 300,
          "year": 2010
         },
         {
          "code": "GUY",
          "index": 301,
          "year": 2010
         },
         {
          "code": "GUY",
          "index": 302,
          "year": 2015
         },
         {
          "code": "GUY",
          "index": 303,
          "year": 2015
         },
         {
          "code": "HKG",
          "index": 304,
          "year": 2010
         },
         {
          "code": "HKG",
          "index": 305,
          "year": 2010
         },
         {
          "code": "HKG",
          "index": 306,
          "year": 2015
         },
         {
          "code": "HKG",
          "index": 307,
          "year": 2015
         },
         {
          "code": "HND",
          "index": 308,
          "year": 2010
         },
         {
          "code": "HND",
          "index": 309,
          "year": 2010
         },
         {
          "code": "HND",
          "index": 310,
          "year": 2015
         },
         {
          "code": "HND",
          "index": 311,
          "year": 2015
         },
         {
          "code": "HRV",
          "index": 312,
          "year": 2010
         },
         {
          "code": "HRV",
          "index": 313,
          "year": 2010
         },
         {
          "code": "HRV",
          "index": 314,
          "year": 2015
         },
         {
          "code": "HRV",
          "index": 315,
          "year": 2015
         },
         {
          "code": "HTI",
          "index": 316,
          "year": 2010
         },
         {
          "code": "HTI",
          "index": 317,
          "year": 2010
         },
         {
          "code": "HTI",
          "index": 318,
          "year": 2015
         },
         {
          "code": "HTI",
          "index": 319,
          "year": 2015
         },
         {
          "code": "HUN",
          "index": 320,
          "year": 2010
         },
         {
          "code": "HUN",
          "index": 321,
          "year": 2010
         },
         {
          "code": "HUN",
          "index": 322,
          "year": 2015
         },
         {
          "code": "HUN",
          "index": 323,
          "year": 2015
         },
         {
          "code": "IDN",
          "index": 324,
          "year": 2010
         },
         {
          "code": "IDN",
          "index": 325,
          "year": 2010
         },
         {
          "code": "IDN",
          "index": 326,
          "year": 2015
         },
         {
          "code": "IDN",
          "index": 327,
          "year": 2015
         },
         {
          "code": "IMN",
          "index": 328,
          "year": 2010
         },
         {
          "code": "IMN",
          "index": 329,
          "year": 2015
         },
         {
          "code": "IND",
          "index": 330,
          "year": 2010
         },
         {
          "code": "IND",
          "index": 331,
          "year": 2010
         },
         {
          "code": "IND",
          "index": 332,
          "year": 2015
         },
         {
          "code": "IND",
          "index": 333,
          "year": 2015
         },
         {
          "code": "IRL",
          "index": 334,
          "year": 2010
         },
         {
          "code": "IRL",
          "index": 335,
          "year": 2010
         },
         {
          "code": "IRL",
          "index": 336,
          "year": 2015
         },
         {
          "code": "IRL",
          "index": 337,
          "year": 2015
         },
         {
          "code": "IRN",
          "index": 338,
          "year": 2010
         },
         {
          "code": "IRN",
          "index": 339,
          "year": 2010
         },
         {
          "code": "IRN",
          "index": 340,
          "year": 2015
         },
         {
          "code": "IRN",
          "index": 341,
          "year": 2015
         },
         {
          "code": "IRQ",
          "index": 342,
          "year": 2010
         },
         {
          "code": "IRQ",
          "index": 343,
          "year": 2010
         },
         {
          "code": "IRQ",
          "index": 344,
          "year": 2015
         },
         {
          "code": "IRQ",
          "index": 345,
          "year": 2015
         },
         {
          "code": "ISL",
          "index": 346,
          "year": 2010
         },
         {
          "code": "ISL",
          "index": 347,
          "year": 2010
         },
         {
          "code": "ISL",
          "index": 348,
          "year": 2015
         },
         {
          "code": "ISL",
          "index": 349,
          "year": 2015
         },
         {
          "code": "ISR",
          "index": 350,
          "year": 2010
         },
         {
          "code": "ISR",
          "index": 351,
          "year": 2010
         },
         {
          "code": "ISR",
          "index": 352,
          "year": 2015
         },
         {
          "code": "ISR",
          "index": 353,
          "year": 2015
         },
         {
          "code": "ITA",
          "index": 354,
          "year": 2010
         },
         {
          "code": "ITA",
          "index": 355,
          "year": 2010
         },
         {
          "code": "ITA",
          "index": 356,
          "year": 2015
         },
         {
          "code": "ITA",
          "index": 357,
          "year": 2015
         },
         {
          "code": "JAM",
          "index": 358,
          "year": 2010
         },
         {
          "code": "JAM",
          "index": 359,
          "year": 2010
         },
         {
          "code": "JAM",
          "index": 360,
          "year": 2015
         },
         {
          "code": "JAM",
          "index": 361,
          "year": 2015
         },
         {
          "code": "JOR",
          "index": 362,
          "year": 2010
         },
         {
          "code": "JOR",
          "index": 363,
          "year": 2010
         },
         {
          "code": "JOR",
          "index": 364,
          "year": 2015
         },
         {
          "code": "JOR",
          "index": 365,
          "year": 2015
         },
         {
          "code": "JPN",
          "index": 366,
          "year": 2010
         },
         {
          "code": "JPN",
          "index": 367,
          "year": 2010
         },
         {
          "code": "JPN",
          "index": 368,
          "year": 2015
         },
         {
          "code": "JPN",
          "index": 369,
          "year": 2015
         },
         {
          "code": "KAZ",
          "index": 370,
          "year": 2010
         },
         {
          "code": "KAZ",
          "index": 371,
          "year": 2010
         },
         {
          "code": "KAZ",
          "index": 372,
          "year": 2015
         },
         {
          "code": "KAZ",
          "index": 373,
          "year": 2015
         },
         {
          "code": "KEN",
          "index": 374,
          "year": 2010
         },
         {
          "code": "KEN",
          "index": 375,
          "year": 2010
         },
         {
          "code": "KEN",
          "index": 376,
          "year": 2015
         },
         {
          "code": "KEN",
          "index": 377,
          "year": 2015
         },
         {
          "code": "KGZ",
          "index": 378,
          "year": 2010
         },
         {
          "code": "KGZ",
          "index": 379,
          "year": 2010
         },
         {
          "code": "KGZ",
          "index": 380,
          "year": 2015
         },
         {
          "code": "KGZ",
          "index": 381,
          "year": 2015
         },
         {
          "code": "KHM",
          "index": 382,
          "year": 2010
         },
         {
          "code": "KHM",
          "index": 383,
          "year": 2010
         },
         {
          "code": "KHM",
          "index": 384,
          "year": 2015
         },
         {
          "code": "KHM",
          "index": 385,
          "year": 2015
         },
         {
          "code": "KIR",
          "index": 386,
          "year": 2010
         },
         {
          "code": "KIR",
          "index": 387,
          "year": 2010
         },
         {
          "code": "KIR",
          "index": 388,
          "year": 2015
         },
         {
          "code": "KIR",
          "index": 389,
          "year": 2015
         },
         {
          "code": "KNA",
          "index": 390,
          "year": 2010
         },
         {
          "code": "KNA",
          "index": 391,
          "year": 2010
         },
         {
          "code": "KNA",
          "index": 392,
          "year": 2015
         },
         {
          "code": "KNA",
          "index": 393,
          "year": 2015
         },
         {
          "code": "KOR",
          "index": 394,
          "year": 2010
         },
         {
          "code": "KOR",
          "index": 395,
          "year": 2010
         },
         {
          "code": "KOR",
          "index": 396,
          "year": 2015
         },
         {
          "code": "KOR",
          "index": 397,
          "year": 2015
         },
         {
          "code": "KWT",
          "index": 398,
          "year": 2010
         },
         {
          "code": "KWT",
          "index": 399,
          "year": 2010
         },
         {
          "code": "KWT",
          "index": 400,
          "year": 2015
         },
         {
          "code": "KWT",
          "index": 401,
          "year": 2015
         },
         {
          "code": "LAO",
          "index": 402,
          "year": 2010
         },
         {
          "code": "LAO",
          "index": 403,
          "year": 2010
         },
         {
          "code": "LAO",
          "index": 404,
          "year": 2015
         },
         {
          "code": "LAO",
          "index": 405,
          "year": 2015
         },
         {
          "code": "LBN",
          "index": 406,
          "year": 2010
         },
         {
          "code": "LBN",
          "index": 407,
          "year": 2010
         },
         {
          "code": "LBN",
          "index": 408,
          "year": 2015
         },
         {
          "code": "LBN",
          "index": 409,
          "year": 2015
         },
         {
          "code": "LBR",
          "index": 410,
          "year": 2010
         },
         {
          "code": "LBR",
          "index": 411,
          "year": 2010
         },
         {
          "code": "LBR",
          "index": 412,
          "year": 2015
         },
         {
          "code": "LBR",
          "index": 413,
          "year": 2015
         },
         {
          "code": "LBY",
          "index": 414,
          "year": 2010
         },
         {
          "code": "LBY",
          "index": 415,
          "year": 2010
         },
         {
          "code": "LBY",
          "index": 416,
          "year": 2015
         },
         {
          "code": "LBY",
          "index": 417,
          "year": 2015
         },
         {
          "code": "LCA",
          "index": 418,
          "year": 2010
         },
         {
          "code": "LCA",
          "index": 419,
          "year": 2010
         },
         {
          "code": "LCA",
          "index": 420,
          "year": 2015
         },
         {
          "code": "LCA",
          "index": 421,
          "year": 2015
         },
         {
          "code": "LIE",
          "index": 422,
          "year": 2010
         },
         {
          "code": "LIE",
          "index": 423,
          "year": 2015
         },
         {
          "code": "LKA",
          "index": 424,
          "year": 2010
         },
         {
          "code": "LKA",
          "index": 425,
          "year": 2010
         },
         {
          "code": "LKA",
          "index": 426,
          "year": 2015
         },
         {
          "code": "LKA",
          "index": 427,
          "year": 2015
         },
         {
          "code": "LSO",
          "index": 428,
          "year": 2010
         },
         {
          "code": "LSO",
          "index": 429,
          "year": 2010
         },
         {
          "code": "LSO",
          "index": 430,
          "year": 2015
         },
         {
          "code": "LSO",
          "index": 431,
          "year": 2015
         },
         {
          "code": "LTU",
          "index": 432,
          "year": 2010
         },
         {
          "code": "LTU",
          "index": 433,
          "year": 2010
         },
         {
          "code": "LTU",
          "index": 434,
          "year": 2015
         },
         {
          "code": "LTU",
          "index": 435,
          "year": 2015
         },
         {
          "code": "LUX",
          "index": 436,
          "year": 2010
         },
         {
          "code": "LUX",
          "index": 437,
          "year": 2010
         },
         {
          "code": "LUX",
          "index": 438,
          "year": 2015
         },
         {
          "code": "LUX",
          "index": 439,
          "year": 2015
         },
         {
          "code": "LVA",
          "index": 440,
          "year": 2010
         },
         {
          "code": "LVA",
          "index": 441,
          "year": 2010
         },
         {
          "code": "LVA",
          "index": 442,
          "year": 2015
         },
         {
          "code": "LVA",
          "index": 443,
          "year": 2015
         },
         {
          "code": "MAC",
          "index": 444,
          "year": 2010
         },
         {
          "code": "MAC",
          "index": 445,
          "year": 2010
         },
         {
          "code": "MAC",
          "index": 446,
          "year": 2015
         },
         {
          "code": "MAC",
          "index": 447,
          "year": 2015
         },
         {
          "code": "MAF",
          "index": 448,
          "year": 2010
         },
         {
          "code": "MAF",
          "index": 449,
          "year": 2015
         },
         {
          "code": "MAR",
          "index": 450,
          "year": 2010
         },
         {
          "code": "MAR",
          "index": 451,
          "year": 2010
         },
         {
          "code": "MAR",
          "index": 452,
          "year": 2015
         },
         {
          "code": "MAR",
          "index": 453,
          "year": 2015
         },
         {
          "code": "MCO",
          "index": 454,
          "year": 2010
         },
         {
          "code": "MCO",
          "index": 455,
          "year": 2015
         },
         {
          "code": "MDA",
          "index": 456,
          "year": 2010
         },
         {
          "code": "MDA",
          "index": 457,
          "year": 2010
         },
         {
          "code": "MDA",
          "index": 458,
          "year": 2015
         },
         {
          "code": "MDA",
          "index": 459,
          "year": 2015
         },
         {
          "code": "MDG",
          "index": 460,
          "year": 2010
         },
         {
          "code": "MDG",
          "index": 461,
          "year": 2010
         },
         {
          "code": "MDG",
          "index": 462,
          "year": 2015
         },
         {
          "code": "MDG",
          "index": 463,
          "year": 2015
         },
         {
          "code": "MDV",
          "index": 464,
          "year": 2010
         },
         {
          "code": "MDV",
          "index": 465,
          "year": 2010
         },
         {
          "code": "MDV",
          "index": 466,
          "year": 2015
         },
         {
          "code": "MDV",
          "index": 467,
          "year": 2015
         },
         {
          "code": "MEX",
          "index": 468,
          "year": 2010
         },
         {
          "code": "MEX",
          "index": 469,
          "year": 2010
         },
         {
          "code": "MEX",
          "index": 470,
          "year": 2015
         },
         {
          "code": "MEX",
          "index": 471,
          "year": 2015
         },
         {
          "code": "MHL",
          "index": 472,
          "year": 2010
         },
         {
          "code": "MHL",
          "index": 473,
          "year": 2010
         },
         {
          "code": "MHL",
          "index": 474,
          "year": 2015
         },
         {
          "code": "MHL",
          "index": 475,
          "year": 2015
         },
         {
          "code": "MKD",
          "index": 476,
          "year": 2010
         },
         {
          "code": "MKD",
          "index": 477,
          "year": 2010
         },
         {
          "code": "MKD",
          "index": 478,
          "year": 2015
         },
         {
          "code": "MKD",
          "index": 479,
          "year": 2015
         },
         {
          "code": "MLI",
          "index": 480,
          "year": 2010
         },
         {
          "code": "MLI",
          "index": 481,
          "year": 2010
         },
         {
          "code": "MLI",
          "index": 482,
          "year": 2015
         },
         {
          "code": "MLI",
          "index": 483,
          "year": 2015
         },
         {
          "code": "MLT",
          "index": 484,
          "year": 2010
         },
         {
          "code": "MLT",
          "index": 485,
          "year": 2010
         },
         {
          "code": "MLT",
          "index": 486,
          "year": 2015
         },
         {
          "code": "MLT",
          "index": 487,
          "year": 2015
         },
         {
          "code": "MMR",
          "index": 488,
          "year": 2010
         },
         {
          "code": "MMR",
          "index": 489,
          "year": 2010
         },
         {
          "code": "MMR",
          "index": 490,
          "year": 2015
         },
         {
          "code": "MMR",
          "index": 491,
          "year": 2015
         },
         {
          "code": "MNE",
          "index": 492,
          "year": 2010
         },
         {
          "code": "MNE",
          "index": 493,
          "year": 2010
         },
         {
          "code": "MNE",
          "index": 494,
          "year": 2015
         },
         {
          "code": "MNE",
          "index": 495,
          "year": 2015
         },
         {
          "code": "MNG",
          "index": 496,
          "year": 2010
         },
         {
          "code": "MNG",
          "index": 497,
          "year": 2010
         },
         {
          "code": "MNG",
          "index": 498,
          "year": 2015
         },
         {
          "code": "MNG",
          "index": 499,
          "year": 2015
         },
         {
          "code": "MNP",
          "index": 500,
          "year": 2010
         },
         {
          "code": "MNP",
          "index": 501,
          "year": 2015
         },
         {
          "code": "MOZ",
          "index": 502,
          "year": 2010
         },
         {
          "code": "MOZ",
          "index": 503,
          "year": 2010
         },
         {
          "code": "MOZ",
          "index": 504,
          "year": 2015
         },
         {
          "code": "MOZ",
          "index": 505,
          "year": 2015
         },
         {
          "code": "MRT",
          "index": 506,
          "year": 2010
         },
         {
          "code": "MRT",
          "index": 507,
          "year": 2010
         },
         {
          "code": "MRT",
          "index": 508,
          "year": 2015
         },
         {
          "code": "MRT",
          "index": 509,
          "year": 2015
         },
         {
          "code": "MUS",
          "index": 510,
          "year": 2010
         },
         {
          "code": "MUS",
          "index": 511,
          "year": 2010
         },
         {
          "code": "MUS",
          "index": 512,
          "year": 2015
         },
         {
          "code": "MUS",
          "index": 513,
          "year": 2015
         },
         {
          "code": "MWI",
          "index": 514,
          "year": 2010
         },
         {
          "code": "MWI",
          "index": 515,
          "year": 2010
         },
         {
          "code": "MWI",
          "index": 516,
          "year": 2015
         },
         {
          "code": "MWI",
          "index": 517,
          "year": 2015
         },
         {
          "code": "MYS",
          "index": 518,
          "year": 2010
         },
         {
          "code": "MYS",
          "index": 519,
          "year": 2010
         },
         {
          "code": "MYS",
          "index": 520,
          "year": 2015
         },
         {
          "code": "MYS",
          "index": 521,
          "year": 2015
         },
         {
          "code": "NAM",
          "index": 522,
          "year": 2010
         },
         {
          "code": "NAM",
          "index": 523,
          "year": 2010
         },
         {
          "code": "NAM",
          "index": 524,
          "year": 2015
         },
         {
          "code": "NAM",
          "index": 525,
          "year": 2015
         },
         {
          "code": "NCL",
          "index": 526,
          "year": 2010
         },
         {
          "code": "NCL",
          "index": 527,
          "year": 2015
         },
         {
          "code": "NER",
          "index": 528,
          "year": 2010
         },
         {
          "code": "NER",
          "index": 529,
          "year": 2010
         },
         {
          "code": "NER",
          "index": 530,
          "year": 2015
         },
         {
          "code": "NER",
          "index": 531,
          "year": 2015
         },
         {
          "code": "NGA",
          "index": 532,
          "year": 2010
         },
         {
          "code": "NGA",
          "index": 533,
          "year": 2010
         },
         {
          "code": "NGA",
          "index": 534,
          "year": 2015
         },
         {
          "code": "NGA",
          "index": 535,
          "year": 2015
         },
         {
          "code": "NIC",
          "index": 536,
          "year": 2010
         },
         {
          "code": "NIC",
          "index": 537,
          "year": 2010
         },
         {
          "code": "NIC",
          "index": 538,
          "year": 2015
         },
         {
          "code": "NIC",
          "index": 539,
          "year": 2015
         },
         {
          "code": "NLD",
          "index": 540,
          "year": 2010
         },
         {
          "code": "NLD",
          "index": 541,
          "year": 2010
         },
         {
          "code": "NLD",
          "index": 542,
          "year": 2015
         },
         {
          "code": "NLD",
          "index": 543,
          "year": 2015
         },
         {
          "code": "NOR",
          "index": 544,
          "year": 2010
         },
         {
          "code": "NOR",
          "index": 545,
          "year": 2010
         },
         {
          "code": "NOR",
          "index": 546,
          "year": 2015
         },
         {
          "code": "NOR",
          "index": 547,
          "year": 2015
         },
         {
          "code": "NPL",
          "index": 548,
          "year": 2010
         },
         {
          "code": "NPL",
          "index": 549,
          "year": 2010
         },
         {
          "code": "NPL",
          "index": 550,
          "year": 2015
         },
         {
          "code": "NPL",
          "index": 551,
          "year": 2015
         },
         {
          "code": "NRU",
          "index": 552,
          "year": 2010
         },
         {
          "code": "NRU",
          "index": 553,
          "year": 2010
         },
         {
          "code": "NRU",
          "index": 554,
          "year": 2015
         },
         {
          "code": "NRU",
          "index": 555,
          "year": 2015
         },
         {
          "code": "NZL",
          "index": 556,
          "year": 2010
         },
         {
          "code": "NZL",
          "index": 557,
          "year": 2010
         },
         {
          "code": "NZL",
          "index": 558,
          "year": 2015
         },
         {
          "code": "NZL",
          "index": 559,
          "year": 2015
         },
         {
          "code": "OMN",
          "index": 560,
          "year": 2010
         },
         {
          "code": "OMN",
          "index": 561,
          "year": 2010
         },
         {
          "code": "OMN",
          "index": 562,
          "year": 2015
         },
         {
          "code": "OMN",
          "index": 563,
          "year": 2015
         },
         {
          "code": "PAK",
          "index": 564,
          "year": 2010
         },
         {
          "code": "PAK",
          "index": 565,
          "year": 2010
         },
         {
          "code": "PAK",
          "index": 566,
          "year": 2015
         },
         {
          "code": "PAK",
          "index": 567,
          "year": 2015
         },
         {
          "code": "PAN",
          "index": 568,
          "year": 2010
         },
         {
          "code": "PAN",
          "index": 569,
          "year": 2010
         },
         {
          "code": "PAN",
          "index": 570,
          "year": 2015
         },
         {
          "code": "PAN",
          "index": 571,
          "year": 2015
         },
         {
          "code": "PER",
          "index": 572,
          "year": 2010
         },
         {
          "code": "PER",
          "index": 573,
          "year": 2010
         },
         {
          "code": "PER",
          "index": 574,
          "year": 2015
         },
         {
          "code": "PER",
          "index": 575,
          "year": 2015
         },
         {
          "code": "PHL",
          "index": 576,
          "year": 2010
         },
         {
          "code": "PHL",
          "index": 577,
          "year": 2010
         },
         {
          "code": "PHL",
          "index": 578,
          "year": 2015
         },
         {
          "code": "PHL",
          "index": 579,
          "year": 2015
         },
         {
          "code": "PLW",
          "index": 580,
          "year": 2010
         },
         {
          "code": "PLW",
          "index": 581,
          "year": 2010
         },
         {
          "code": "PLW",
          "index": 582,
          "year": 2015
         },
         {
          "code": "PLW",
          "index": 583,
          "year": 2015
         },
         {
          "code": "PNG",
          "index": 584,
          "year": 2010
         },
         {
          "code": "PNG",
          "index": 585,
          "year": 2010
         },
         {
          "code": "PNG",
          "index": 586,
          "year": 2015
         },
         {
          "code": "PNG",
          "index": 587,
          "year": 2015
         },
         {
          "code": "POL",
          "index": 588,
          "year": 2010
         },
         {
          "code": "POL",
          "index": 589,
          "year": 2010
         },
         {
          "code": "POL",
          "index": 590,
          "year": 2015
         },
         {
          "code": "POL",
          "index": 591,
          "year": 2015
         },
         {
          "code": "PRI",
          "index": 592,
          "year": 2010
         },
         {
          "code": "PRI",
          "index": 593,
          "year": 2010
         },
         {
          "code": "PRI",
          "index": 594,
          "year": 2015
         },
         {
          "code": "PRI",
          "index": 595,
          "year": 2015
         },
         {
          "code": "PRK",
          "index": 596,
          "year": 2010
         },
         {
          "code": "PRK",
          "index": 597,
          "year": 2015
         },
         {
          "code": "PRT",
          "index": 598,
          "year": 2010
         },
         {
          "code": "PRT",
          "index": 599,
          "year": 2010
         },
         {
          "code": "PRT",
          "index": 600,
          "year": 2015
         },
         {
          "code": "PRT",
          "index": 601,
          "year": 2015
         },
         {
          "code": "PRY",
          "index": 602,
          "year": 2010
         },
         {
          "code": "PRY",
          "index": 603,
          "year": 2010
         },
         {
          "code": "PRY",
          "index": 604,
          "year": 2015
         },
         {
          "code": "PRY",
          "index": 605,
          "year": 2015
         },
         {
          "code": "PSE",
          "index": 606,
          "year": 2010
         },
         {
          "code": "PSE",
          "index": 607,
          "year": 2015
         },
         {
          "code": "PYF",
          "index": 608,
          "year": 2010
         },
         {
          "code": "PYF",
          "index": 609,
          "year": 2015
         },
         {
          "code": "QAT",
          "index": 610,
          "year": 2010
         },
         {
          "code": "QAT",
          "index": 611,
          "year": 2010
         },
         {
          "code": "QAT",
          "index": 612,
          "year": 2015
         },
         {
          "code": "QAT",
          "index": 613,
          "year": 2015
         },
         {
          "code": "ROU",
          "index": 614,
          "year": 2010
         },
         {
          "code": "ROU",
          "index": 615,
          "year": 2010
         },
         {
          "code": "ROU",
          "index": 616,
          "year": 2015
         },
         {
          "code": "ROU",
          "index": 617,
          "year": 2015
         },
         {
          "code": "RUS",
          "index": 618,
          "year": 2010
         },
         {
          "code": "RUS",
          "index": 619,
          "year": 2010
         },
         {
          "code": "RUS",
          "index": 620,
          "year": 2015
         },
         {
          "code": "RUS",
          "index": 621,
          "year": 2015
         },
         {
          "code": "RWA",
          "index": 622,
          "year": 2010
         },
         {
          "code": "RWA",
          "index": 623,
          "year": 2010
         },
         {
          "code": "RWA",
          "index": 624,
          "year": 2015
         },
         {
          "code": "RWA",
          "index": 625,
          "year": 2015
         },
         {
          "code": "SAU",
          "index": 626,
          "year": 2010
         },
         {
          "code": "SAU",
          "index": 627,
          "year": 2010
         },
         {
          "code": "SAU",
          "index": 628,
          "year": 2015
         },
         {
          "code": "SAU",
          "index": 629,
          "year": 2015
         },
         {
          "code": "SDN",
          "index": 630,
          "year": 2010
         },
         {
          "code": "SDN",
          "index": 631,
          "year": 2010
         },
         {
          "code": "SDN",
          "index": 632,
          "year": 2015
         },
         {
          "code": "SDN",
          "index": 633,
          "year": 2015
         },
         {
          "code": "SEN",
          "index": 634,
          "year": 2010
         },
         {
          "code": "SEN",
          "index": 635,
          "year": 2010
         },
         {
          "code": "SEN",
          "index": 636,
          "year": 2015
         },
         {
          "code": "SEN",
          "index": 637,
          "year": 2015
         },
         {
          "code": "SGP",
          "index": 638,
          "year": 2010
         },
         {
          "code": "SGP",
          "index": 639,
          "year": 2010
         },
         {
          "code": "SGP",
          "index": 640,
          "year": 2015
         },
         {
          "code": "SGP",
          "index": 641,
          "year": 2015
         },
         {
          "code": "SLB",
          "index": 642,
          "year": 2010
         },
         {
          "code": "SLB",
          "index": 643,
          "year": 2010
         },
         {
          "code": "SLB",
          "index": 644,
          "year": 2015
         },
         {
          "code": "SLB",
          "index": 645,
          "year": 2015
         },
         {
          "code": "SLE",
          "index": 646,
          "year": 2010
         },
         {
          "code": "SLE",
          "index": 647,
          "year": 2010
         },
         {
          "code": "SLE",
          "index": 648,
          "year": 2015
         },
         {
          "code": "SLE",
          "index": 649,
          "year": 2015
         },
         {
          "code": "SLV",
          "index": 650,
          "year": 2010
         },
         {
          "code": "SLV",
          "index": 651,
          "year": 2010
         },
         {
          "code": "SLV",
          "index": 652,
          "year": 2015
         },
         {
          "code": "SLV",
          "index": 653,
          "year": 2015
         },
         {
          "code": "SMR",
          "index": 654,
          "year": 2010
         },
         {
          "code": "SMR",
          "index": 655,
          "year": 2010
         },
         {
          "code": "SMR",
          "index": 656,
          "year": 2015
         },
         {
          "code": "SMR",
          "index": 657,
          "year": 2015
         },
         {
          "code": "SOM",
          "index": 658,
          "year": 2010
         },
         {
          "code": "SOM",
          "index": 659,
          "year": 2015
         },
         {
          "code": "SRB",
          "index": 660,
          "year": 2010
         },
         {
          "code": "SRB",
          "index": 661,
          "year": 2010
         },
         {
          "code": "SRB",
          "index": 662,
          "year": 2015
         },
         {
          "code": "SRB",
          "index": 663,
          "year": 2015
         },
         {
          "code": "SSD",
          "index": 664,
          "year": 2010
         },
         {
          "code": "SSD",
          "index": 665,
          "year": 2010
         },
         {
          "code": "SSD",
          "index": 666,
          "year": 2015
         },
         {
          "code": "SSD",
          "index": 667,
          "year": 2015
         },
         {
          "code": "STP",
          "index": 668,
          "year": 2010
         },
         {
          "code": "STP",
          "index": 669,
          "year": 2010
         },
         {
          "code": "STP",
          "index": 670,
          "year": 2015
         },
         {
          "code": "STP",
          "index": 671,
          "year": 2015
         },
         {
          "code": "SUR",
          "index": 672,
          "year": 2010
         },
         {
          "code": "SUR",
          "index": 673,
          "year": 2010
         },
         {
          "code": "SUR",
          "index": 674,
          "year": 2015
         },
         {
          "code": "SUR",
          "index": 675,
          "year": 2015
         },
         {
          "code": "SVK",
          "index": 676,
          "year": 2010
         },
         {
          "code": "SVK",
          "index": 677,
          "year": 2010
         },
         {
          "code": "SVK",
          "index": 678,
          "year": 2015
         },
         {
          "code": "SVK",
          "index": 679,
          "year": 2015
         },
         {
          "code": "SVN",
          "index": 680,
          "year": 2010
         },
         {
          "code": "SVN",
          "index": 681,
          "year": 2010
         },
         {
          "code": "SVN",
          "index": 682,
          "year": 2015
         },
         {
          "code": "SVN",
          "index": 683,
          "year": 2015
         },
         {
          "code": "SWE",
          "index": 684,
          "year": 2010
         },
         {
          "code": "SWE",
          "index": 685,
          "year": 2010
         },
         {
          "code": "SWE",
          "index": 686,
          "year": 2015
         },
         {
          "code": "SWE",
          "index": 687,
          "year": 2015
         },
         {
          "code": "SWZ",
          "index": 688,
          "year": 2010
         },
         {
          "code": "SWZ",
          "index": 689,
          "year": 2010
         },
         {
          "code": "SWZ",
          "index": 690,
          "year": 2015
         },
         {
          "code": "SWZ",
          "index": 691,
          "year": 2015
         },
         {
          "code": "SXM",
          "index": 692,
          "year": 2010
         },
         {
          "code": "SXM",
          "index": 693,
          "year": 2015
         },
         {
          "code": "SYC",
          "index": 694,
          "year": 2010
         },
         {
          "code": "SYC",
          "index": 695,
          "year": 2010
         },
         {
          "code": "SYC",
          "index": 696,
          "year": 2015
         },
         {
          "code": "SYC",
          "index": 697,
          "year": 2015
         },
         {
          "code": "SYR",
          "index": 698,
          "year": 2010
         },
         {
          "code": "SYR",
          "index": 699,
          "year": 2010
         },
         {
          "code": "SYR",
          "index": 700,
          "year": 2015
         },
         {
          "code": "SYR",
          "index": 701,
          "year": 2015
         },
         {
          "code": "TCA",
          "index": 702,
          "year": 2010
         },
         {
          "code": "TCA",
          "index": 703,
          "year": 2015
         },
         {
          "code": "TCD",
          "index": 704,
          "year": 2010
         },
         {
          "code": "TCD",
          "index": 705,
          "year": 2010
         },
         {
          "code": "TCD",
          "index": 706,
          "year": 2015
         },
         {
          "code": "TCD",
          "index": 707,
          "year": 2015
         },
         {
          "code": "TGO",
          "index": 708,
          "year": 2010
         },
         {
          "code": "TGO",
          "index": 709,
          "year": 2010
         },
         {
          "code": "TGO",
          "index": 710,
          "year": 2015
         },
         {
          "code": "TGO",
          "index": 711,
          "year": 2015
         },
         {
          "code": "THA",
          "index": 712,
          "year": 2010
         },
         {
          "code": "THA",
          "index": 713,
          "year": 2010
         },
         {
          "code": "THA",
          "index": 714,
          "year": 2015
         },
         {
          "code": "THA",
          "index": 715,
          "year": 2015
         },
         {
          "code": "TJK",
          "index": 716,
          "year": 2010
         },
         {
          "code": "TJK",
          "index": 717,
          "year": 2010
         },
         {
          "code": "TJK",
          "index": 718,
          "year": 2015
         },
         {
          "code": "TJK",
          "index": 719,
          "year": 2015
         },
         {
          "code": "TKM",
          "index": 720,
          "year": 2010
         },
         {
          "code": "TKM",
          "index": 721,
          "year": 2010
         },
         {
          "code": "TKM",
          "index": 722,
          "year": 2015
         },
         {
          "code": "TKM",
          "index": 723,
          "year": 2015
         },
         {
          "code": "TLS",
          "index": 724,
          "year": 2010
         },
         {
          "code": "TLS",
          "index": 725,
          "year": 2010
         },
         {
          "code": "TLS",
          "index": 726,
          "year": 2015
         },
         {
          "code": "TLS",
          "index": 727,
          "year": 2015
         },
         {
          "code": "TON",
          "index": 728,
          "year": 2010
         },
         {
          "code": "TON",
          "index": 729,
          "year": 2010
         },
         {
          "code": "TON",
          "index": 730,
          "year": 2015
         },
         {
          "code": "TON",
          "index": 731,
          "year": 2015
         },
         {
          "code": "TTO",
          "index": 732,
          "year": 2010
         },
         {
          "code": "TTO",
          "index": 733,
          "year": 2010
         },
         {
          "code": "TTO",
          "index": 734,
          "year": 2015
         },
         {
          "code": "TTO",
          "index": 735,
          "year": 2015
         },
         {
          "code": "TUN",
          "index": 736,
          "year": 2010
         },
         {
          "code": "TUN",
          "index": 737,
          "year": 2010
         },
         {
          "code": "TUN",
          "index": 738,
          "year": 2015
         },
         {
          "code": "TUN",
          "index": 739,
          "year": 2015
         },
         {
          "code": "TUR",
          "index": 740,
          "year": 2010
         },
         {
          "code": "TUR",
          "index": 741,
          "year": 2010
         },
         {
          "code": "TUR",
          "index": 742,
          "year": 2015
         },
         {
          "code": "TUR",
          "index": 743,
          "year": 2015
         },
         {
          "code": "TUV",
          "index": 744,
          "year": 2010
         },
         {
          "code": "TUV",
          "index": 745,
          "year": 2010
         },
         {
          "code": "TUV",
          "index": 746,
          "year": 2015
         },
         {
          "code": "TUV",
          "index": 747,
          "year": 2015
         },
         {
          "code": "TZA",
          "index": 748,
          "year": 2010
         },
         {
          "code": "TZA",
          "index": 749,
          "year": 2010
         },
         {
          "code": "TZA",
          "index": 750,
          "year": 2015
         },
         {
          "code": "TZA",
          "index": 751,
          "year": 2015
         },
         {
          "code": "UGA",
          "index": 752,
          "year": 2010
         },
         {
          "code": "UGA",
          "index": 753,
          "year": 2010
         },
         {
          "code": "UGA",
          "index": 754,
          "year": 2015
         },
         {
          "code": "UGA",
          "index": 755,
          "year": 2015
         },
         {
          "code": "UKR",
          "index": 756,
          "year": 2010
         },
         {
          "code": "UKR",
          "index": 757,
          "year": 2010
         },
         {
          "code": "UKR",
          "index": 758,
          "year": 2015
         },
         {
          "code": "UKR",
          "index": 759,
          "year": 2015
         },
         {
          "code": "URY",
          "index": 760,
          "year": 2010
         },
         {
          "code": "URY",
          "index": 761,
          "year": 2010
         },
         {
          "code": "URY",
          "index": 762,
          "year": 2015
         },
         {
          "code": "URY",
          "index": 763,
          "year": 2015
         },
         {
          "code": "USA",
          "index": 764,
          "year": 2010
         },
         {
          "code": "USA",
          "index": 765,
          "year": 2010
         },
         {
          "code": "USA",
          "index": 766,
          "year": 2015
         },
         {
          "code": "USA",
          "index": 767,
          "year": 2015
         },
         {
          "code": "UZB",
          "index": 768,
          "year": 2010
         },
         {
          "code": "UZB",
          "index": 769,
          "year": 2010
         },
         {
          "code": "UZB",
          "index": 770,
          "year": 2015
         },
         {
          "code": "UZB",
          "index": 771,
          "year": 2015
         },
         {
          "code": "VCT",
          "index": 772,
          "year": 2010
         },
         {
          "code": "VCT",
          "index": 773,
          "year": 2010
         },
         {
          "code": "VCT",
          "index": 774,
          "year": 2015
         },
         {
          "code": "VCT",
          "index": 775,
          "year": 2015
         },
         {
          "code": "VEN",
          "index": 776,
          "year": 2010
         },
         {
          "code": "VEN",
          "index": 777,
          "year": 2010
         },
         {
          "code": "VEN",
          "index": 778,
          "year": 2015
         },
         {
          "code": "VEN",
          "index": 779,
          "year": 2015
         },
         {
          "code": "VGB",
          "index": 780,
          "year": 2010
         },
         {
          "code": "VGB",
          "index": 781,
          "year": 2015
         },
         {
          "code": "VIR",
          "index": 782,
          "year": 2010
         },
         {
          "code": "VIR",
          "index": 783,
          "year": 2015
         },
         {
          "code": "VNM",
          "index": 784,
          "year": 2010
         },
         {
          "code": "VNM",
          "index": 785,
          "year": 2010
         },
         {
          "code": "VNM",
          "index": 786,
          "year": 2015
         },
         {
          "code": "VNM",
          "index": 787,
          "year": 2015
         },
         {
          "code": "VUT",
          "index": 788,
          "year": 2010
         },
         {
          "code": "VUT",
          "index": 789,
          "year": 2010
         },
         {
          "code": "VUT",
          "index": 790,
          "year": 2015
         },
         {
          "code": "VUT",
          "index": 791,
          "year": 2015
         },
         {
          "code": "WSM",
          "index": 792,
          "year": 2010
         },
         {
          "code": "WSM",
          "index": 793,
          "year": 2010
         },
         {
          "code": "WSM",
          "index": 794,
          "year": 2015
         },
         {
          "code": "WSM",
          "index": 795,
          "year": 2015
         },
         {
          "code": "XKX",
          "index": 796,
          "year": 2010
         },
         {
          "code": "XKX",
          "index": 797,
          "year": 2015
         },
         {
          "code": "YEM",
          "index": 798,
          "year": 2010
         },
         {
          "code": "YEM",
          "index": 799,
          "year": 2010
         },
         {
          "code": "YEM",
          "index": 800,
          "year": 2015
         },
         {
          "code": "YEM",
          "index": 801,
          "year": 2015
         },
         {
          "code": "ZAF",
          "index": 802,
          "year": 2010
         },
         {
          "code": "ZAF",
          "index": 803,
          "year": 2010
         },
         {
          "code": "ZAF",
          "index": 804,
          "year": 2015
         },
         {
          "code": "ZAF",
          "index": 805,
          "year": 2015
         },
         {
          "code": "ZMB",
          "index": 806,
          "year": 2010
         },
         {
          "code": "ZMB",
          "index": 807,
          "year": 2010
         },
         {
          "code": "ZMB",
          "index": 808,
          "year": 2015
         },
         {
          "code": "ZMB",
          "index": 809,
          "year": 2015
         },
         {
          "code": "ZWE",
          "index": 810,
          "year": 2010
         },
         {
          "code": "ZWE",
          "index": 811,
          "year": 2010
         },
         {
          "code": "ZWE",
          "index": 812,
          "year": 2015
         },
         {
          "code": "ZWE",
          "index": 813,
          "year": 2015
         }
        ],
        "schema": {
         "fields": [
          {
           "name": "index",
           "type": "integer"
          },
          {
           "name": "code",
           "type": "string"
          },
          {
           "name": "year",
           "type": "integer"
          }
         ],
         "pandas_version": "1.4.0",
         "primaryKey": [
          "index"
         ]
        }
       },
       "total_rows": 814,
       "truncation_type": null
      },
      "text/html": [
       "<div>\n",
       "<style scoped>\n",
       "    .dataframe tbody tr th:only-of-type {\n",
       "        vertical-align: middle;\n",
       "    }\n",
       "\n",
       "    .dataframe tbody tr th {\n",
       "        vertical-align: top;\n",
       "    }\n",
       "\n",
       "    .dataframe thead th {\n",
       "        text-align: right;\n",
       "    }\n",
       "</style>\n",
       "<table border=\"1\" class=\"dataframe\">\n",
       "  <thead>\n",
       "    <tr style=\"text-align: right;\">\n",
       "      <th></th>\n",
       "      <th>code</th>\n",
       "      <th>year</th>\n",
       "    </tr>\n",
       "  </thead>\n",
       "  <tbody>\n",
       "    <tr>\n",
       "      <th>0</th>\n",
       "      <td>ABW</td>\n",
       "      <td>2010</td>\n",
       "    </tr>\n",
       "    <tr>\n",
       "      <th>1</th>\n",
       "      <td>ABW</td>\n",
       "      <td>2015</td>\n",
       "    </tr>\n",
       "    <tr>\n",
       "      <th>2</th>\n",
       "      <td>AFG</td>\n",
       "      <td>2010</td>\n",
       "    </tr>\n",
       "    <tr>\n",
       "      <th>3</th>\n",
       "      <td>AFG</td>\n",
       "      <td>2010</td>\n",
       "    </tr>\n",
       "    <tr>\n",
       "      <th>4</th>\n",
       "      <td>AFG</td>\n",
       "      <td>2015</td>\n",
       "    </tr>\n",
       "    <tr>\n",
       "      <th>...</th>\n",
       "      <td>...</td>\n",
       "      <td>...</td>\n",
       "    </tr>\n",
       "    <tr>\n",
       "      <th>809</th>\n",
       "      <td>ZMB</td>\n",
       "      <td>2015</td>\n",
       "    </tr>\n",
       "    <tr>\n",
       "      <th>810</th>\n",
       "      <td>ZWE</td>\n",
       "      <td>2010</td>\n",
       "    </tr>\n",
       "    <tr>\n",
       "      <th>811</th>\n",
       "      <td>ZWE</td>\n",
       "      <td>2010</td>\n",
       "    </tr>\n",
       "    <tr>\n",
       "      <th>812</th>\n",
       "      <td>ZWE</td>\n",
       "      <td>2015</td>\n",
       "    </tr>\n",
       "    <tr>\n",
       "      <th>813</th>\n",
       "      <td>ZWE</td>\n",
       "      <td>2015</td>\n",
       "    </tr>\n",
       "  </tbody>\n",
       "</table>\n",
       "<p>814 rows × 2 columns</p>\n",
       "</div>"
      ],
      "text/plain": [
       "    code  year\n",
       "0    ABW  2010\n",
       "1    ABW  2015\n",
       "2    AFG  2010\n",
       "3    AFG  2010\n",
       "4    AFG  2015\n",
       "..   ...   ...\n",
       "809  ZMB  2015\n",
       "810  ZWE  2010\n",
       "811  ZWE  2010\n",
       "812  ZWE  2015\n",
       "813  ZWE  2015\n",
       "\n",
       "[814 rows x 2 columns]"
      ]
     },
     "execution_count": 2,
     "metadata": {},
     "output_type": "execute_result"
    }
   ],
   "source": [
    "SELECT code, year\n",
    "FROM world.economies\n",
    "UNION ALL\n",
    "SELECT country_code, year\n",
    "  FROM world.populations\n",
    "ORDER BY code, year;"
   ]
  }
 ],
 "metadata": {
  "editor": "DataCamp Workspace",
  "kernelspec": {
   "display_name": "Python 3 (ipykernel)",
   "language": "python",
   "name": "python3"
  },
  "language_info": {
   "codemirror_mode": {
    "name": "ipython",
    "version": 3
   },
   "file_extension": ".py",
   "mimetype": "text/x-python",
   "name": "python",
   "nbconvert_exporter": "python",
   "pygments_lexer": "ipython3",
   "version": "3.11.6"
  }
 },
 "nbformat": 4,
 "nbformat_minor": 5
}
