{
 "cells": [
  {
   "cell_type": "markdown",
   "id": "9c61a15f-5a8a-4a19-bff3-04ab5b1b8e76",
   "metadata": {},
   "source": [
    "INTERSECCIÓN \n",
    "\n",
    "- Solo los registros comunes de los campos listados"
   ]
  },
  {
   "cell_type": "code",
   "execution_count": 1,
   "id": "5658c759-b089-4061-9358-d1c7afa8de3b",
   "metadata": {
    "customType": "sql",
    "dataFrameVariableName": "df",
    "executionTime": 1463,
    "initial": false,
    "integrationId": "c632441c-e1dc-4637-a56d-10b85efd89be",
    "lastSuccessfullyExecutedCode": "Select code, year\nfrom world.economies\nINTERSECT\nSelect country_code, year\nfrom world.populations\norder by code,year;",
    "outputsMetadata": {
     "0": {
      "height": 310,
      "type": "dataFrame"
     }
    }
   },
   "outputs": [
    {
     "data": {
      "application/com.datacamp.data-table.v1+json": {
       "table": {
        "data": [
         {
          "code": "AFG",
          "index": 0,
          "year": 2010
         },
         {
          "code": "AFG",
          "index": 1,
          "year": 2015
         },
         {
          "code": "AGO",
          "index": 2,
          "year": 2010
         },
         {
          "code": "AGO",
          "index": 3,
          "year": 2015
         },
         {
          "code": "ALB",
          "index": 4,
          "year": 2010
         },
         {
          "code": "ALB",
          "index": 5,
          "year": 2015
         },
         {
          "code": "ARE",
          "index": 6,
          "year": 2010
         },
         {
          "code": "ARE",
          "index": 7,
          "year": 2015
         },
         {
          "code": "ARG",
          "index": 8,
          "year": 2010
         },
         {
          "code": "ARG",
          "index": 9,
          "year": 2015
         },
         {
          "code": "ARM",
          "index": 10,
          "year": 2010
         },
         {
          "code": "ARM",
          "index": 11,
          "year": 2015
         },
         {
          "code": "ATG",
          "index": 12,
          "year": 2010
         },
         {
          "code": "ATG",
          "index": 13,
          "year": 2015
         },
         {
          "code": "AUS",
          "index": 14,
          "year": 2010
         },
         {
          "code": "AUS",
          "index": 15,
          "year": 2015
         },
         {
          "code": "AUT",
          "index": 16,
          "year": 2010
         },
         {
          "code": "AUT",
          "index": 17,
          "year": 2015
         },
         {
          "code": "AZE",
          "index": 18,
          "year": 2010
         },
         {
          "code": "AZE",
          "index": 19,
          "year": 2015
         },
         {
          "code": "BDI",
          "index": 20,
          "year": 2010
         },
         {
          "code": "BDI",
          "index": 21,
          "year": 2015
         },
         {
          "code": "BEL",
          "index": 22,
          "year": 2010
         },
         {
          "code": "BEL",
          "index": 23,
          "year": 2015
         },
         {
          "code": "BEN",
          "index": 24,
          "year": 2010
         },
         {
          "code": "BEN",
          "index": 25,
          "year": 2015
         },
         {
          "code": "BFA",
          "index": 26,
          "year": 2010
         },
         {
          "code": "BFA",
          "index": 27,
          "year": 2015
         },
         {
          "code": "BGD",
          "index": 28,
          "year": 2010
         },
         {
          "code": "BGD",
          "index": 29,
          "year": 2015
         },
         {
          "code": "BGR",
          "index": 30,
          "year": 2010
         },
         {
          "code": "BGR",
          "index": 31,
          "year": 2015
         },
         {
          "code": "BHR",
          "index": 32,
          "year": 2010
         },
         {
          "code": "BHR",
          "index": 33,
          "year": 2015
         },
         {
          "code": "BHS",
          "index": 34,
          "year": 2010
         },
         {
          "code": "BHS",
          "index": 35,
          "year": 2015
         },
         {
          "code": "BIH",
          "index": 36,
          "year": 2010
         },
         {
          "code": "BIH",
          "index": 37,
          "year": 2015
         },
         {
          "code": "BLR",
          "index": 38,
          "year": 2010
         },
         {
          "code": "BLR",
          "index": 39,
          "year": 2015
         },
         {
          "code": "BLZ",
          "index": 40,
          "year": 2010
         },
         {
          "code": "BLZ",
          "index": 41,
          "year": 2015
         },
         {
          "code": "BOL",
          "index": 42,
          "year": 2010
         },
         {
          "code": "BOL",
          "index": 43,
          "year": 2015
         },
         {
          "code": "BRA",
          "index": 44,
          "year": 2010
         },
         {
          "code": "BRA",
          "index": 45,
          "year": 2015
         },
         {
          "code": "BRB",
          "index": 46,
          "year": 2010
         },
         {
          "code": "BRB",
          "index": 47,
          "year": 2015
         },
         {
          "code": "BRN",
          "index": 48,
          "year": 2010
         },
         {
          "code": "BRN",
          "index": 49,
          "year": 2015
         },
         {
          "code": "BTN",
          "index": 50,
          "year": 2010
         },
         {
          "code": "BTN",
          "index": 51,
          "year": 2015
         },
         {
          "code": "BWA",
          "index": 52,
          "year": 2010
         },
         {
          "code": "BWA",
          "index": 53,
          "year": 2015
         },
         {
          "code": "CAF",
          "index": 54,
          "year": 2010
         },
         {
          "code": "CAF",
          "index": 55,
          "year": 2015
         },
         {
          "code": "CAN",
          "index": 56,
          "year": 2010
         },
         {
          "code": "CAN",
          "index": 57,
          "year": 2015
         },
         {
          "code": "CHE",
          "index": 58,
          "year": 2010
         },
         {
          "code": "CHE",
          "index": 59,
          "year": 2015
         },
         {
          "code": "CHL",
          "index": 60,
          "year": 2010
         },
         {
          "code": "CHL",
          "index": 61,
          "year": 2015
         },
         {
          "code": "CHN",
          "index": 62,
          "year": 2010
         },
         {
          "code": "CHN",
          "index": 63,
          "year": 2015
         },
         {
          "code": "CIV",
          "index": 64,
          "year": 2010
         },
         {
          "code": "CIV",
          "index": 65,
          "year": 2015
         },
         {
          "code": "CMR",
          "index": 66,
          "year": 2010
         },
         {
          "code": "CMR",
          "index": 67,
          "year": 2015
         },
         {
          "code": "COD",
          "index": 68,
          "year": 2010
         },
         {
          "code": "COD",
          "index": 69,
          "year": 2015
         },
         {
          "code": "COG",
          "index": 70,
          "year": 2010
         },
         {
          "code": "COG",
          "index": 71,
          "year": 2015
         },
         {
          "code": "COL",
          "index": 72,
          "year": 2010
         },
         {
          "code": "COL",
          "index": 73,
          "year": 2015
         },
         {
          "code": "COM",
          "index": 74,
          "year": 2010
         },
         {
          "code": "COM",
          "index": 75,
          "year": 2015
         },
         {
          "code": "CPV",
          "index": 76,
          "year": 2010
         },
         {
          "code": "CPV",
          "index": 77,
          "year": 2015
         },
         {
          "code": "CRI",
          "index": 78,
          "year": 2010
         },
         {
          "code": "CRI",
          "index": 79,
          "year": 2015
         },
         {
          "code": "CYP",
          "index": 80,
          "year": 2010
         },
         {
          "code": "CYP",
          "index": 81,
          "year": 2015
         },
         {
          "code": "CZE",
          "index": 82,
          "year": 2010
         },
         {
          "code": "CZE",
          "index": 83,
          "year": 2015
         },
         {
          "code": "DEU",
          "index": 84,
          "year": 2010
         },
         {
          "code": "DEU",
          "index": 85,
          "year": 2015
         },
         {
          "code": "DJI",
          "index": 86,
          "year": 2010
         },
         {
          "code": "DJI",
          "index": 87,
          "year": 2015
         },
         {
          "code": "DMA",
          "index": 88,
          "year": 2010
         },
         {
          "code": "DMA",
          "index": 89,
          "year": 2015
         },
         {
          "code": "DNK",
          "index": 90,
          "year": 2010
         },
         {
          "code": "DNK",
          "index": 91,
          "year": 2015
         },
         {
          "code": "DOM",
          "index": 92,
          "year": 2010
         },
         {
          "code": "DOM",
          "index": 93,
          "year": 2015
         },
         {
          "code": "DZA",
          "index": 94,
          "year": 2010
         },
         {
          "code": "DZA",
          "index": 95,
          "year": 2015
         },
         {
          "code": "ECU",
          "index": 96,
          "year": 2010
         },
         {
          "code": "ECU",
          "index": 97,
          "year": 2015
         },
         {
          "code": "EGY",
          "index": 98,
          "year": 2010
         },
         {
          "code": "EGY",
          "index": 99,
          "year": 2015
         },
         {
          "code": "ERI",
          "index": 100,
          "year": 2010
         },
         {
          "code": "ERI",
          "index": 101,
          "year": 2015
         },
         {
          "code": "ESP",
          "index": 102,
          "year": 2010
         },
         {
          "code": "ESP",
          "index": 103,
          "year": 2015
         },
         {
          "code": "EST",
          "index": 104,
          "year": 2010
         },
         {
          "code": "EST",
          "index": 105,
          "year": 2015
         },
         {
          "code": "ETH",
          "index": 106,
          "year": 2010
         },
         {
          "code": "ETH",
          "index": 107,
          "year": 2015
         },
         {
          "code": "FIN",
          "index": 108,
          "year": 2010
         },
         {
          "code": "FIN",
          "index": 109,
          "year": 2015
         },
         {
          "code": "FJI",
          "index": 110,
          "year": 2010
         },
         {
          "code": "FJI",
          "index": 111,
          "year": 2015
         },
         {
          "code": "FRA",
          "index": 112,
          "year": 2010
         },
         {
          "code": "FRA",
          "index": 113,
          "year": 2015
         },
         {
          "code": "FSM",
          "index": 114,
          "year": 2010
         },
         {
          "code": "FSM",
          "index": 115,
          "year": 2015
         },
         {
          "code": "GAB",
          "index": 116,
          "year": 2010
         },
         {
          "code": "GAB",
          "index": 117,
          "year": 2015
         },
         {
          "code": "GBR",
          "index": 118,
          "year": 2010
         },
         {
          "code": "GBR",
          "index": 119,
          "year": 2015
         },
         {
          "code": "GEO",
          "index": 120,
          "year": 2010
         },
         {
          "code": "GEO",
          "index": 121,
          "year": 2015
         },
         {
          "code": "GHA",
          "index": 122,
          "year": 2010
         },
         {
          "code": "GHA",
          "index": 123,
          "year": 2015
         },
         {
          "code": "GIN",
          "index": 124,
          "year": 2010
         },
         {
          "code": "GIN",
          "index": 125,
          "year": 2015
         },
         {
          "code": "GMB",
          "index": 126,
          "year": 2010
         },
         {
          "code": "GMB",
          "index": 127,
          "year": 2015
         },
         {
          "code": "GNB",
          "index": 128,
          "year": 2010
         },
         {
          "code": "GNB",
          "index": 129,
          "year": 2015
         },
         {
          "code": "GNQ",
          "index": 130,
          "year": 2010
         },
         {
          "code": "GNQ",
          "index": 131,
          "year": 2015
         },
         {
          "code": "GRC",
          "index": 132,
          "year": 2010
         },
         {
          "code": "GRC",
          "index": 133,
          "year": 2015
         },
         {
          "code": "GRD",
          "index": 134,
          "year": 2010
         },
         {
          "code": "GRD",
          "index": 135,
          "year": 2015
         },
         {
          "code": "GTM",
          "index": 136,
          "year": 2010
         },
         {
          "code": "GTM",
          "index": 137,
          "year": 2015
         },
         {
          "code": "GUY",
          "index": 138,
          "year": 2010
         },
         {
          "code": "GUY",
          "index": 139,
          "year": 2015
         },
         {
          "code": "HKG",
          "index": 140,
          "year": 2010
         },
         {
          "code": "HKG",
          "index": 141,
          "year": 2015
         },
         {
          "code": "HND",
          "index": 142,
          "year": 2010
         },
         {
          "code": "HND",
          "index": 143,
          "year": 2015
         },
         {
          "code": "HRV",
          "index": 144,
          "year": 2010
         },
         {
          "code": "HRV",
          "index": 145,
          "year": 2015
         },
         {
          "code": "HTI",
          "index": 146,
          "year": 2010
         },
         {
          "code": "HTI",
          "index": 147,
          "year": 2015
         },
         {
          "code": "HUN",
          "index": 148,
          "year": 2010
         },
         {
          "code": "HUN",
          "index": 149,
          "year": 2015
         },
         {
          "code": "IDN",
          "index": 150,
          "year": 2010
         },
         {
          "code": "IDN",
          "index": 151,
          "year": 2015
         },
         {
          "code": "IND",
          "index": 152,
          "year": 2010
         },
         {
          "code": "IND",
          "index": 153,
          "year": 2015
         },
         {
          "code": "IRL",
          "index": 154,
          "year": 2010
         },
         {
          "code": "IRL",
          "index": 155,
          "year": 2015
         },
         {
          "code": "IRN",
          "index": 156,
          "year": 2010
         },
         {
          "code": "IRN",
          "index": 157,
          "year": 2015
         },
         {
          "code": "IRQ",
          "index": 158,
          "year": 2010
         },
         {
          "code": "IRQ",
          "index": 159,
          "year": 2015
         },
         {
          "code": "ISL",
          "index": 160,
          "year": 2010
         },
         {
          "code": "ISL",
          "index": 161,
          "year": 2015
         },
         {
          "code": "ISR",
          "index": 162,
          "year": 2010
         },
         {
          "code": "ISR",
          "index": 163,
          "year": 2015
         },
         {
          "code": "ITA",
          "index": 164,
          "year": 2010
         },
         {
          "code": "ITA",
          "index": 165,
          "year": 2015
         },
         {
          "code": "JAM",
          "index": 166,
          "year": 2010
         },
         {
          "code": "JAM",
          "index": 167,
          "year": 2015
         },
         {
          "code": "JOR",
          "index": 168,
          "year": 2010
         },
         {
          "code": "JOR",
          "index": 169,
          "year": 2015
         },
         {
          "code": "JPN",
          "index": 170,
          "year": 2010
         },
         {
          "code": "JPN",
          "index": 171,
          "year": 2015
         },
         {
          "code": "KAZ",
          "index": 172,
          "year": 2010
         },
         {
          "code": "KAZ",
          "index": 173,
          "year": 2015
         },
         {
          "code": "KEN",
          "index": 174,
          "year": 2010
         },
         {
          "code": "KEN",
          "index": 175,
          "year": 2015
         },
         {
          "code": "KGZ",
          "index": 176,
          "year": 2010
         },
         {
          "code": "KGZ",
          "index": 177,
          "year": 2015
         },
         {
          "code": "KHM",
          "index": 178,
          "year": 2010
         },
         {
          "code": "KHM",
          "index": 179,
          "year": 2015
         },
         {
          "code": "KIR",
          "index": 180,
          "year": 2010
         },
         {
          "code": "KIR",
          "index": 181,
          "year": 2015
         },
         {
          "code": "KNA",
          "index": 182,
          "year": 2010
         },
         {
          "code": "KNA",
          "index": 183,
          "year": 2015
         },
         {
          "code": "KOR",
          "index": 184,
          "year": 2010
         },
         {
          "code": "KOR",
          "index": 185,
          "year": 2015
         },
         {
          "code": "KWT",
          "index": 186,
          "year": 2010
         },
         {
          "code": "KWT",
          "index": 187,
          "year": 2015
         },
         {
          "code": "LAO",
          "index": 188,
          "year": 2010
         },
         {
          "code": "LAO",
          "index": 189,
          "year": 2015
         },
         {
          "code": "LBN",
          "index": 190,
          "year": 2010
         },
         {
          "code": "LBN",
          "index": 191,
          "year": 2015
         },
         {
          "code": "LBR",
          "index": 192,
          "year": 2010
         },
         {
          "code": "LBR",
          "index": 193,
          "year": 2015
         },
         {
          "code": "LBY",
          "index": 194,
          "year": 2010
         },
         {
          "code": "LBY",
          "index": 195,
          "year": 2015
         },
         {
          "code": "LCA",
          "index": 196,
          "year": 2010
         },
         {
          "code": "LCA",
          "index": 197,
          "year": 2015
         },
         {
          "code": "LKA",
          "index": 198,
          "year": 2010
         },
         {
          "code": "LKA",
          "index": 199,
          "year": 2015
         },
         {
          "code": "LSO",
          "index": 200,
          "year": 2010
         },
         {
          "code": "LSO",
          "index": 201,
          "year": 2015
         },
         {
          "code": "LTU",
          "index": 202,
          "year": 2010
         },
         {
          "code": "LTU",
          "index": 203,
          "year": 2015
         },
         {
          "code": "LUX",
          "index": 204,
          "year": 2010
         },
         {
          "code": "LUX",
          "index": 205,
          "year": 2015
         },
         {
          "code": "LVA",
          "index": 206,
          "year": 2010
         },
         {
          "code": "LVA",
          "index": 207,
          "year": 2015
         },
         {
          "code": "MAC",
          "index": 208,
          "year": 2010
         },
         {
          "code": "MAC",
          "index": 209,
          "year": 2015
         },
         {
          "code": "MAR",
          "index": 210,
          "year": 2010
         },
         {
          "code": "MAR",
          "index": 211,
          "year": 2015
         },
         {
          "code": "MDA",
          "index": 212,
          "year": 2010
         },
         {
          "code": "MDA",
          "index": 213,
          "year": 2015
         },
         {
          "code": "MDG",
          "index": 214,
          "year": 2010
         },
         {
          "code": "MDG",
          "index": 215,
          "year": 2015
         },
         {
          "code": "MDV",
          "index": 216,
          "year": 2010
         },
         {
          "code": "MDV",
          "index": 217,
          "year": 2015
         },
         {
          "code": "MEX",
          "index": 218,
          "year": 2010
         },
         {
          "code": "MEX",
          "index": 219,
          "year": 2015
         },
         {
          "code": "MHL",
          "index": 220,
          "year": 2010
         },
         {
          "code": "MHL",
          "index": 221,
          "year": 2015
         },
         {
          "code": "MKD",
          "index": 222,
          "year": 2010
         },
         {
          "code": "MKD",
          "index": 223,
          "year": 2015
         },
         {
          "code": "MLI",
          "index": 224,
          "year": 2010
         },
         {
          "code": "MLI",
          "index": 225,
          "year": 2015
         },
         {
          "code": "MLT",
          "index": 226,
          "year": 2010
         },
         {
          "code": "MLT",
          "index": 227,
          "year": 2015
         },
         {
          "code": "MMR",
          "index": 228,
          "year": 2010
         },
         {
          "code": "MMR",
          "index": 229,
          "year": 2015
         },
         {
          "code": "MNE",
          "index": 230,
          "year": 2010
         },
         {
          "code": "MNE",
          "index": 231,
          "year": 2015
         },
         {
          "code": "MNG",
          "index": 232,
          "year": 2010
         },
         {
          "code": "MNG",
          "index": 233,
          "year": 2015
         },
         {
          "code": "MOZ",
          "index": 234,
          "year": 2010
         },
         {
          "code": "MOZ",
          "index": 235,
          "year": 2015
         },
         {
          "code": "MRT",
          "index": 236,
          "year": 2010
         },
         {
          "code": "MRT",
          "index": 237,
          "year": 2015
         },
         {
          "code": "MUS",
          "index": 238,
          "year": 2010
         },
         {
          "code": "MUS",
          "index": 239,
          "year": 2015
         },
         {
          "code": "MWI",
          "index": 240,
          "year": 2010
         },
         {
          "code": "MWI",
          "index": 241,
          "year": 2015
         },
         {
          "code": "MYS",
          "index": 242,
          "year": 2010
         },
         {
          "code": "MYS",
          "index": 243,
          "year": 2015
         },
         {
          "code": "NAM",
          "index": 244,
          "year": 2010
         },
         {
          "code": "NAM",
          "index": 245,
          "year": 2015
         },
         {
          "code": "NER",
          "index": 246,
          "year": 2010
         },
         {
          "code": "NER",
          "index": 247,
          "year": 2015
         },
         {
          "code": "NGA",
          "index": 248,
          "year": 2010
         },
         {
          "code": "NGA",
          "index": 249,
          "year": 2015
         },
         {
          "code": "NIC",
          "index": 250,
          "year": 2010
         },
         {
          "code": "NIC",
          "index": 251,
          "year": 2015
         },
         {
          "code": "NLD",
          "index": 252,
          "year": 2010
         },
         {
          "code": "NLD",
          "index": 253,
          "year": 2015
         },
         {
          "code": "NOR",
          "index": 254,
          "year": 2010
         },
         {
          "code": "NOR",
          "index": 255,
          "year": 2015
         },
         {
          "code": "NPL",
          "index": 256,
          "year": 2010
         },
         {
          "code": "NPL",
          "index": 257,
          "year": 2015
         },
         {
          "code": "NRU",
          "index": 258,
          "year": 2010
         },
         {
          "code": "NRU",
          "index": 259,
          "year": 2015
         },
         {
          "code": "NZL",
          "index": 260,
          "year": 2010
         },
         {
          "code": "NZL",
          "index": 261,
          "year": 2015
         },
         {
          "code": "OMN",
          "index": 262,
          "year": 2010
         },
         {
          "code": "OMN",
          "index": 263,
          "year": 2015
         },
         {
          "code": "PAK",
          "index": 264,
          "year": 2010
         },
         {
          "code": "PAK",
          "index": 265,
          "year": 2015
         },
         {
          "code": "PAN",
          "index": 266,
          "year": 2010
         },
         {
          "code": "PAN",
          "index": 267,
          "year": 2015
         },
         {
          "code": "PER",
          "index": 268,
          "year": 2010
         },
         {
          "code": "PER",
          "index": 269,
          "year": 2015
         },
         {
          "code": "PHL",
          "index": 270,
          "year": 2010
         },
         {
          "code": "PHL",
          "index": 271,
          "year": 2015
         },
         {
          "code": "PLW",
          "index": 272,
          "year": 2010
         },
         {
          "code": "PLW",
          "index": 273,
          "year": 2015
         },
         {
          "code": "PNG",
          "index": 274,
          "year": 2010
         },
         {
          "code": "PNG",
          "index": 275,
          "year": 2015
         },
         {
          "code": "POL",
          "index": 276,
          "year": 2010
         },
         {
          "code": "POL",
          "index": 277,
          "year": 2015
         },
         {
          "code": "PRI",
          "index": 278,
          "year": 2010
         },
         {
          "code": "PRI",
          "index": 279,
          "year": 2015
         },
         {
          "code": "PRT",
          "index": 280,
          "year": 2010
         },
         {
          "code": "PRT",
          "index": 281,
          "year": 2015
         },
         {
          "code": "PRY",
          "index": 282,
          "year": 2010
         },
         {
          "code": "PRY",
          "index": 283,
          "year": 2015
         },
         {
          "code": "QAT",
          "index": 284,
          "year": 2010
         },
         {
          "code": "QAT",
          "index": 285,
          "year": 2015
         },
         {
          "code": "ROU",
          "index": 286,
          "year": 2010
         },
         {
          "code": "ROU",
          "index": 287,
          "year": 2015
         },
         {
          "code": "RUS",
          "index": 288,
          "year": 2010
         },
         {
          "code": "RUS",
          "index": 289,
          "year": 2015
         },
         {
          "code": "RWA",
          "index": 290,
          "year": 2010
         },
         {
          "code": "RWA",
          "index": 291,
          "year": 2015
         },
         {
          "code": "SAU",
          "index": 292,
          "year": 2010
         },
         {
          "code": "SAU",
          "index": 293,
          "year": 2015
         },
         {
          "code": "SDN",
          "index": 294,
          "year": 2010
         },
         {
          "code": "SDN",
          "index": 295,
          "year": 2015
         },
         {
          "code": "SEN",
          "index": 296,
          "year": 2010
         },
         {
          "code": "SEN",
          "index": 297,
          "year": 2015
         },
         {
          "code": "SGP",
          "index": 298,
          "year": 2010
         },
         {
          "code": "SGP",
          "index": 299,
          "year": 2015
         },
         {
          "code": "SLB",
          "index": 300,
          "year": 2010
         },
         {
          "code": "SLB",
          "index": 301,
          "year": 2015
         },
         {
          "code": "SLE",
          "index": 302,
          "year": 2010
         },
         {
          "code": "SLE",
          "index": 303,
          "year": 2015
         },
         {
          "code": "SLV",
          "index": 304,
          "year": 2010
         },
         {
          "code": "SLV",
          "index": 305,
          "year": 2015
         },
         {
          "code": "SMR",
          "index": 306,
          "year": 2010
         },
         {
          "code": "SMR",
          "index": 307,
          "year": 2015
         },
         {
          "code": "SRB",
          "index": 308,
          "year": 2010
         },
         {
          "code": "SRB",
          "index": 309,
          "year": 2015
         },
         {
          "code": "SSD",
          "index": 310,
          "year": 2010
         },
         {
          "code": "SSD",
          "index": 311,
          "year": 2015
         },
         {
          "code": "STP",
          "index": 312,
          "year": 2010
         },
         {
          "code": "STP",
          "index": 313,
          "year": 2015
         },
         {
          "code": "SUR",
          "index": 314,
          "year": 2010
         },
         {
          "code": "SUR",
          "index": 315,
          "year": 2015
         },
         {
          "code": "SVK",
          "index": 316,
          "year": 2010
         },
         {
          "code": "SVK",
          "index": 317,
          "year": 2015
         },
         {
          "code": "SVN",
          "index": 318,
          "year": 2010
         },
         {
          "code": "SVN",
          "index": 319,
          "year": 2015
         },
         {
          "code": "SWE",
          "index": 320,
          "year": 2010
         },
         {
          "code": "SWE",
          "index": 321,
          "year": 2015
         },
         {
          "code": "SWZ",
          "index": 322,
          "year": 2010
         },
         {
          "code": "SWZ",
          "index": 323,
          "year": 2015
         },
         {
          "code": "SYC",
          "index": 324,
          "year": 2010
         },
         {
          "code": "SYC",
          "index": 325,
          "year": 2015
         },
         {
          "code": "SYR",
          "index": 326,
          "year": 2010
         },
         {
          "code": "SYR",
          "index": 327,
          "year": 2015
         },
         {
          "code": "TCD",
          "index": 328,
          "year": 2010
         },
         {
          "code": "TCD",
          "index": 329,
          "year": 2015
         },
         {
          "code": "TGO",
          "index": 330,
          "year": 2010
         },
         {
          "code": "TGO",
          "index": 331,
          "year": 2015
         },
         {
          "code": "THA",
          "index": 332,
          "year": 2010
         },
         {
          "code": "THA",
          "index": 333,
          "year": 2015
         },
         {
          "code": "TJK",
          "index": 334,
          "year": 2010
         },
         {
          "code": "TJK",
          "index": 335,
          "year": 2015
         },
         {
          "code": "TKM",
          "index": 336,
          "year": 2010
         },
         {
          "code": "TKM",
          "index": 337,
          "year": 2015
         },
         {
          "code": "TLS",
          "index": 338,
          "year": 2010
         },
         {
          "code": "TLS",
          "index": 339,
          "year": 2015
         },
         {
          "code": "TON",
          "index": 340,
          "year": 2010
         },
         {
          "code": "TON",
          "index": 341,
          "year": 2015
         },
         {
          "code": "TTO",
          "index": 342,
          "year": 2010
         },
         {
          "code": "TTO",
          "index": 343,
          "year": 2015
         },
         {
          "code": "TUN",
          "index": 344,
          "year": 2010
         },
         {
          "code": "TUN",
          "index": 345,
          "year": 2015
         },
         {
          "code": "TUR",
          "index": 346,
          "year": 2010
         },
         {
          "code": "TUR",
          "index": 347,
          "year": 2015
         },
         {
          "code": "TUV",
          "index": 348,
          "year": 2010
         },
         {
          "code": "TUV",
          "index": 349,
          "year": 2015
         },
         {
          "code": "TZA",
          "index": 350,
          "year": 2010
         },
         {
          "code": "TZA",
          "index": 351,
          "year": 2015
         },
         {
          "code": "UGA",
          "index": 352,
          "year": 2010
         },
         {
          "code": "UGA",
          "index": 353,
          "year": 2015
         },
         {
          "code": "UKR",
          "index": 354,
          "year": 2010
         },
         {
          "code": "UKR",
          "index": 355,
          "year": 2015
         },
         {
          "code": "URY",
          "index": 356,
          "year": 2010
         },
         {
          "code": "URY",
          "index": 357,
          "year": 2015
         },
         {
          "code": "USA",
          "index": 358,
          "year": 2010
         },
         {
          "code": "USA",
          "index": 359,
          "year": 2015
         },
         {
          "code": "UZB",
          "index": 360,
          "year": 2010
         },
         {
          "code": "UZB",
          "index": 361,
          "year": 2015
         },
         {
          "code": "VCT",
          "index": 362,
          "year": 2010
         },
         {
          "code": "VCT",
          "index": 363,
          "year": 2015
         },
         {
          "code": "VEN",
          "index": 364,
          "year": 2010
         },
         {
          "code": "VEN",
          "index": 365,
          "year": 2015
         },
         {
          "code": "VNM",
          "index": 366,
          "year": 2010
         },
         {
          "code": "VNM",
          "index": 367,
          "year": 2015
         },
         {
          "code": "VUT",
          "index": 368,
          "year": 2010
         },
         {
          "code": "VUT",
          "index": 369,
          "year": 2015
         },
         {
          "code": "WSM",
          "index": 370,
          "year": 2010
         },
         {
          "code": "WSM",
          "index": 371,
          "year": 2015
         },
         {
          "code": "YEM",
          "index": 372,
          "year": 2010
         },
         {
          "code": "YEM",
          "index": 373,
          "year": 2015
         },
         {
          "code": "ZAF",
          "index": 374,
          "year": 2010
         },
         {
          "code": "ZAF",
          "index": 375,
          "year": 2015
         },
         {
          "code": "ZMB",
          "index": 376,
          "year": 2010
         },
         {
          "code": "ZMB",
          "index": 377,
          "year": 2015
         },
         {
          "code": "ZWE",
          "index": 378,
          "year": 2010
         },
         {
          "code": "ZWE",
          "index": 379,
          "year": 2015
         }
        ],
        "schema": {
         "fields": [
          {
           "name": "index",
           "type": "integer"
          },
          {
           "name": "code",
           "type": "string"
          },
          {
           "name": "year",
           "type": "integer"
          }
         ],
         "pandas_version": "1.4.0",
         "primaryKey": [
          "index"
         ]
        }
       },
       "total_rows": 380,
       "truncation_type": null
      },
      "text/html": [
       "<div>\n",
       "<style scoped>\n",
       "    .dataframe tbody tr th:only-of-type {\n",
       "        vertical-align: middle;\n",
       "    }\n",
       "\n",
       "    .dataframe tbody tr th {\n",
       "        vertical-align: top;\n",
       "    }\n",
       "\n",
       "    .dataframe thead th {\n",
       "        text-align: right;\n",
       "    }\n",
       "</style>\n",
       "<table border=\"1\" class=\"dataframe\">\n",
       "  <thead>\n",
       "    <tr style=\"text-align: right;\">\n",
       "      <th></th>\n",
       "      <th>code</th>\n",
       "      <th>year</th>\n",
       "    </tr>\n",
       "  </thead>\n",
       "  <tbody>\n",
       "    <tr>\n",
       "      <th>0</th>\n",
       "      <td>AFG</td>\n",
       "      <td>2010</td>\n",
       "    </tr>\n",
       "    <tr>\n",
       "      <th>1</th>\n",
       "      <td>AFG</td>\n",
       "      <td>2015</td>\n",
       "    </tr>\n",
       "    <tr>\n",
       "      <th>2</th>\n",
       "      <td>AGO</td>\n",
       "      <td>2010</td>\n",
       "    </tr>\n",
       "    <tr>\n",
       "      <th>3</th>\n",
       "      <td>AGO</td>\n",
       "      <td>2015</td>\n",
       "    </tr>\n",
       "    <tr>\n",
       "      <th>4</th>\n",
       "      <td>ALB</td>\n",
       "      <td>2010</td>\n",
       "    </tr>\n",
       "    <tr>\n",
       "      <th>...</th>\n",
       "      <td>...</td>\n",
       "      <td>...</td>\n",
       "    </tr>\n",
       "    <tr>\n",
       "      <th>375</th>\n",
       "      <td>ZAF</td>\n",
       "      <td>2015</td>\n",
       "    </tr>\n",
       "    <tr>\n",
       "      <th>376</th>\n",
       "      <td>ZMB</td>\n",
       "      <td>2010</td>\n",
       "    </tr>\n",
       "    <tr>\n",
       "      <th>377</th>\n",
       "      <td>ZMB</td>\n",
       "      <td>2015</td>\n",
       "    </tr>\n",
       "    <tr>\n",
       "      <th>378</th>\n",
       "      <td>ZWE</td>\n",
       "      <td>2010</td>\n",
       "    </tr>\n",
       "    <tr>\n",
       "      <th>379</th>\n",
       "      <td>ZWE</td>\n",
       "      <td>2015</td>\n",
       "    </tr>\n",
       "  </tbody>\n",
       "</table>\n",
       "<p>380 rows × 2 columns</p>\n",
       "</div>"
      ],
      "text/plain": [
       "    code  year\n",
       "0    AFG  2010\n",
       "1    AFG  2015\n",
       "2    AGO  2010\n",
       "3    AGO  2015\n",
       "4    ALB  2010\n",
       "..   ...   ...\n",
       "375  ZAF  2015\n",
       "376  ZMB  2010\n",
       "377  ZMB  2015\n",
       "378  ZWE  2010\n",
       "379  ZWE  2015\n",
       "\n",
       "[380 rows x 2 columns]"
      ]
     },
     "execution_count": 1,
     "metadata": {},
     "output_type": "execute_result"
    }
   ],
   "source": [
    "Select code, year\n",
    "from world.economies\n",
    "INTERSECT\n",
    "Select country_code, year\n",
    "from world.populations\n",
    "order by code,year;"
   ]
  },
  {
   "cell_type": "code",
   "execution_count": 6,
   "id": "fbff0199-e286-4bef-9c42-dac7ecdf587f",
   "metadata": {
    "customType": "sql",
    "dataFrameVariableName": "df",
    "executionTime": 1387,
    "initial": false,
    "integrationId": "c632441c-e1dc-4637-a56d-10b85efd89be",
    "lastSuccessfullyExecutedCode": "Select code \nfrom world.countries\nINTERSECT\nSelect country_code\nfrom world.cities",
    "outputsMetadata": {
     "0": {
      "height": 310,
      "type": "dataFrame"
     }
    }
   },
   "outputs": [
    {
     "data": {
      "application/com.datacamp.data-table.v1+json": {
       "table": {
        "data": [
         {
          "code": "KHM",
          "index": 0
         },
         {
          "code": "IND",
          "index": 1
         },
         {
          "code": "TZA",
          "index": 2
         },
         {
          "code": "EGY",
          "index": 3
         },
         {
          "code": "CMR",
          "index": 4
         },
         {
          "code": "CHL",
          "index": 5
         },
         {
          "code": "GEO",
          "index": 6
         },
         {
          "code": "GTM",
          "index": 7
         },
         {
          "code": "VEN",
          "index": 8
         },
         {
          "code": "ARG",
          "index": 9
         },
         {
          "code": "USA",
          "index": 10
         },
         {
          "code": "COG",
          "index": 11
         },
         {
          "code": "CUB",
          "index": 12
         },
         {
          "code": "ARM",
          "index": 13
         },
         {
          "code": "AUT",
          "index": 14
         },
         {
          "code": "HUN",
          "index": 15
         },
         {
          "code": "RUS",
          "index": 16
         },
         {
          "code": "BGD",
          "index": 17
         },
         {
          "code": "GBR",
          "index": 18
         },
         {
          "code": "COD",
          "index": 19
         },
         {
          "code": "KAZ",
          "index": 20
         },
         {
          "code": "IRN",
          "index": 21
         },
         {
          "code": "MMR",
          "index": 22
         },
         {
          "code": "PAK",
          "index": 23
         },
         {
          "code": "BFA",
          "index": 24
         },
         {
          "code": "URY",
          "index": 25
         },
         {
          "code": "CZE",
          "index": 26
         },
         {
          "code": "VNM",
          "index": 27
         },
         {
          "code": "NZL",
          "index": 28
         },
         {
          "code": "UKR",
          "index": 29
         },
         {
          "code": "DZA",
          "index": 30
         },
         {
          "code": "THA",
          "index": 31
         },
         {
          "code": "CIV",
          "index": 32
         },
         {
          "code": "PHL",
          "index": 33
         },
         {
          "code": "COL",
          "index": 34
         },
         {
          "code": "POL",
          "index": 35
         },
         {
          "code": "PRK",
          "index": 36
         },
         {
          "code": "TUR",
          "index": 37
         },
         {
          "code": "SEN",
          "index": 38
         },
         {
          "code": "DEU",
          "index": 39
         },
         {
          "code": "MOZ",
          "index": 40
         },
         {
          "code": "ESP",
          "index": 41
         },
         {
          "code": "IDN",
          "index": 42
         },
         {
          "code": "TUN",
          "index": 43
         },
         {
          "code": "GHA",
          "index": 44
         },
         {
          "code": "SGP",
          "index": 45
         },
         {
          "code": "BLR",
          "index": 46
         },
         {
          "code": "ARE",
          "index": 47
         },
         {
          "code": "AUS",
          "index": 48
         },
         {
          "code": "FRA",
          "index": 49
         },
         {
          "code": "CHN",
          "index": 50
         },
         {
          "code": "UGA",
          "index": 51
         },
         {
          "code": "MAR",
          "index": 52
         },
         {
          "code": "ZAF",
          "index": 53
         },
         {
          "code": "MYS",
          "index": 54
         },
         {
          "code": "NIC",
          "index": 55
         },
         {
          "code": "CAN",
          "index": 56
         },
         {
          "code": "BRA",
          "index": 57
         },
         {
          "code": "AFG",
          "index": 58
         },
         {
          "code": "NGA",
          "index": 59
         },
         {
          "code": "LBY",
          "index": 60
         },
         {
          "code": "SDN",
          "index": 61
         },
         {
          "code": "ECU",
          "index": 62
         },
         {
          "code": "KOR",
          "index": 63
         },
         {
          "code": "PER",
          "index": 64
         },
         {
          "code": "ZWE",
          "index": 65
         },
         {
          "code": "YEM",
          "index": 66
         },
         {
          "code": "ITA",
          "index": 67
         },
         {
          "code": "AZE",
          "index": 68
         },
         {
          "code": "SAU",
          "index": 69
         },
         {
          "code": "KEN",
          "index": 70
         },
         {
          "code": "JPN",
          "index": 71
         },
         {
          "code": "ZMB",
          "index": 72
         },
         {
          "code": "AGO",
          "index": 73
         },
         {
          "code": "BOL",
          "index": 74
         },
         {
          "code": "MEX",
          "index": 75
         },
         {
          "code": "UZB",
          "index": 76
         },
         {
          "code": "IRQ",
          "index": 77
         },
         {
          "code": "ETH",
          "index": 78
         }
        ],
        "schema": {
         "fields": [
          {
           "name": "index",
           "type": "integer"
          },
          {
           "name": "code",
           "type": "string"
          }
         ],
         "pandas_version": "1.4.0",
         "primaryKey": [
          "index"
         ]
        }
       },
       "total_rows": 79,
       "truncation_type": null
      },
      "text/html": [
       "<div>\n",
       "<style scoped>\n",
       "    .dataframe tbody tr th:only-of-type {\n",
       "        vertical-align: middle;\n",
       "    }\n",
       "\n",
       "    .dataframe tbody tr th {\n",
       "        vertical-align: top;\n",
       "    }\n",
       "\n",
       "    .dataframe thead th {\n",
       "        text-align: right;\n",
       "    }\n",
       "</style>\n",
       "<table border=\"1\" class=\"dataframe\">\n",
       "  <thead>\n",
       "    <tr style=\"text-align: right;\">\n",
       "      <th></th>\n",
       "      <th>code</th>\n",
       "    </tr>\n",
       "  </thead>\n",
       "  <tbody>\n",
       "    <tr>\n",
       "      <th>0</th>\n",
       "      <td>KHM</td>\n",
       "    </tr>\n",
       "    <tr>\n",
       "      <th>1</th>\n",
       "      <td>IND</td>\n",
       "    </tr>\n",
       "    <tr>\n",
       "      <th>2</th>\n",
       "      <td>TZA</td>\n",
       "    </tr>\n",
       "    <tr>\n",
       "      <th>3</th>\n",
       "      <td>EGY</td>\n",
       "    </tr>\n",
       "    <tr>\n",
       "      <th>4</th>\n",
       "      <td>CMR</td>\n",
       "    </tr>\n",
       "    <tr>\n",
       "      <th>...</th>\n",
       "      <td>...</td>\n",
       "    </tr>\n",
       "    <tr>\n",
       "      <th>74</th>\n",
       "      <td>BOL</td>\n",
       "    </tr>\n",
       "    <tr>\n",
       "      <th>75</th>\n",
       "      <td>MEX</td>\n",
       "    </tr>\n",
       "    <tr>\n",
       "      <th>76</th>\n",
       "      <td>UZB</td>\n",
       "    </tr>\n",
       "    <tr>\n",
       "      <th>77</th>\n",
       "      <td>IRQ</td>\n",
       "    </tr>\n",
       "    <tr>\n",
       "      <th>78</th>\n",
       "      <td>ETH</td>\n",
       "    </tr>\n",
       "  </tbody>\n",
       "</table>\n",
       "<p>79 rows × 1 columns</p>\n",
       "</div>"
      ],
      "text/plain": [
       "   code\n",
       "0   KHM\n",
       "1   IND\n",
       "2   TZA\n",
       "3   EGY\n",
       "4   CMR\n",
       "..  ...\n",
       "74  BOL\n",
       "75  MEX\n",
       "76  UZB\n",
       "77  IRQ\n",
       "78  ETH\n",
       "\n",
       "[79 rows x 1 columns]"
      ]
     },
     "execution_count": 6,
     "metadata": {},
     "output_type": "execute_result"
    }
   ],
   "source": [
    "Select code \n",
    "from world.countries\n",
    "INTERSECT\n",
    "Select country_code\n",
    "from world.cities"
   ]
  }
 ],
 "metadata": {
  "editor": "DataCamp Workspace",
  "kernelspec": {
   "display_name": "Python 3 (ipykernel)",
   "language": "python",
   "name": "python3"
  },
  "language_info": {
   "codemirror_mode": {
    "name": "ipython",
    "version": 3
   },
   "file_extension": ".py",
   "mimetype": "text/x-python",
   "name": "python",
   "nbconvert_exporter": "python",
   "pygments_lexer": "ipython3",
   "version": "3.11.6"
  }
 },
 "nbformat": 4,
 "nbformat_minor": 5
}
