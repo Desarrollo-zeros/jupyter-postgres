{
 "cells": [
  {
   "cell_type": "code",
   "execution_count": 1,
   "id": "c89fde0c-9279-45c5-8285-4c17a3af66bc",
   "metadata": {
    "customType": "sql",
    "dataFrameVariableName": "df",
    "executionTime": 1289,
    "initial": false,
    "integrationId": "c632441c-e1dc-4637-a56d-10b85efd89be",
    "lastSuccessfullyExecutedCode": "select release_year, count(*) from cinema.films group by release_year",
    "outputsMetadata": {
     "0": {
      "height": 311,
      "type": "dataFrame"
     }
    }
   },
   "outputs": [
    {
     "data": {
      "application/com.datacamp.data-table.v1+json": {
       "table": {
        "data": [
         {
          "count": 5,
          "index": 0,
          "release_year": 1954
         },
         {
          "count": 31,
          "index": 1,
          "release_year": 1988
         },
         {
          "count": 3,
          "index": 2,
          "release_year": 1959
         },
         {
          "count": 10,
          "index": 3,
          "release_year": 1964
         },
         {
          "count": 10,
          "index": 4,
          "release_year": 1969
         },
         {
          "count": 42,
          "index": 5,
          "release_year": null
         },
         {
          "count": 225,
          "index": 6,
          "release_year": 2008
         },
         {
          "count": 31,
          "index": 7,
          "release_year": 1991
         },
         {
          "count": 33,
          "index": 8,
          "release_year": 1989
         },
         {
          "count": 4,
          "index": 9,
          "release_year": 1945
         },
         {
          "count": 9,
          "index": 10,
          "release_year": 1974
         },
         {
          "count": 16,
          "index": 11,
          "release_year": 1977
         },
         {
          "count": 11,
          "index": 12,
          "release_year": 1971
         },
         {
          "count": 1,
          "index": 13,
          "release_year": 1943
         },
         {
          "count": 1,
          "index": 14,
          "release_year": 1935
         },
         {
          "count": 3,
          "index": 15,
          "release_year": 1956
         },
         {
          "count": 5,
          "index": 16,
          "release_year": 1940
         },
         {
          "count": 31,
          "index": 17,
          "release_year": 1984
         },
         {
          "count": 22,
          "index": 18,
          "release_year": 1983
         },
         {
          "count": 260,
          "index": 19,
          "release_year": 2009
         },
         {
          "count": 1,
          "index": 20,
          "release_year": 1934
         },
         {
          "count": 221,
          "index": 21,
          "release_year": 2005
         },
         {
          "count": 1,
          "index": 22,
          "release_year": 1958
         },
         {
          "count": 9,
          "index": 23,
          "release_year": 1973
         },
         {
          "count": 236,
          "index": 24,
          "release_year": 2013
         },
         {
          "count": 169,
          "index": 25,
          "release_year": 2003
         },
         {
          "count": 2,
          "index": 26,
          "release_year": 1933
         },
         {
          "count": 226,
          "index": 27,
          "release_year": 2015
         },
         {
          "count": 48,
          "index": 28,
          "release_year": 1993
         },
         {
          "count": 30,
          "index": 29,
          "release_year": 1990
         },
         {
          "count": 1,
          "index": 30,
          "release_year": 1930
         },
         {
          "count": 4,
          "index": 31,
          "release_year": 1953
         },
         {
          "count": 209,
          "index": 32,
          "release_year": 2002
         },
         {
          "count": 16,
          "index": 33,
          "release_year": 1979
         },
         {
          "count": 214,
          "index": 34,
          "release_year": 2004
         },
         {
          "count": 118,
          "index": 35,
          "release_year": 1997
         },
         {
          "count": 24,
          "index": 36,
          "release_year": 1980
         },
         {
          "count": 106,
          "index": 37,
          "release_year": 2016
         },
         {
          "count": 26,
          "index": 38,
          "release_year": 1986
         },
         {
          "count": 6,
          "index": 39,
          "release_year": 1975
         },
         {
          "count": 12,
          "index": 40,
          "release_year": 1970
         },
         {
          "count": 2,
          "index": 41,
          "release_year": 1936
         },
         {
          "count": 30,
          "index": 42,
          "release_year": 1982
         },
         {
          "count": 2,
          "index": 43,
          "release_year": 1942
         },
         {
          "count": 70,
          "index": 44,
          "release_year": 1995
         },
         {
          "count": 34,
          "index": 45,
          "release_year": 1992
         },
         {
          "count": 54,
          "index": 46,
          "release_year": 1994
         },
         {
          "count": 8,
          "index": 47,
          "release_year": 1963
         },
         {
          "count": 1,
          "index": 48,
          "release_year": 1920
         },
         {
          "count": 252,
          "index": 49,
          "release_year": 2014
         },
         {
          "count": 227,
          "index": 50,
          "release_year": 2010
         },
         {
          "count": 3,
          "index": 51,
          "release_year": 1939
         },
         {
          "count": 99,
          "index": 52,
          "release_year": 1996
         },
         {
          "count": 32,
          "index": 53,
          "release_year": 1987
         },
         {
          "count": 4,
          "index": 54,
          "release_year": 1967
         },
         {
          "count": 171,
          "index": 55,
          "release_year": 2000
         },
         {
          "count": 224,
          "index": 56,
          "release_year": 2011
         },
         {
          "count": 7,
          "index": 57,
          "release_year": 1965
         },
         {
          "count": 3,
          "index": 58,
          "release_year": 1948
         },
         {
          "count": 1,
          "index": 59,
          "release_year": 1932
         },
         {
          "count": 29,
          "index": 60,
          "release_year": 1985
         },
         {
          "count": 2,
          "index": 61,
          "release_year": 1949
         },
         {
          "count": 1,
          "index": 62,
          "release_year": 1941
         },
         {
          "count": 3,
          "index": 63,
          "release_year": 1947
         },
         {
          "count": 2,
          "index": 64,
          "release_year": 1938
         },
         {
          "count": 1,
          "index": 65,
          "release_year": 1925
         },
         {
          "count": 3,
          "index": 66,
          "release_year": 1960
         },
         {
          "count": 3,
          "index": 67,
          "release_year": 1946
         },
         {
          "count": 3,
          "index": 68,
          "release_year": 1951
         },
         {
          "count": 134,
          "index": 69,
          "release_year": 1998
         },
         {
          "count": 10,
          "index": 70,
          "release_year": 1976
         },
         {
          "count": 9,
          "index": 71,
          "release_year": 1972
         },
         {
          "count": 203,
          "index": 72,
          "release_year": 2007
         },
         {
          "count": 33,
          "index": 73,
          "release_year": 1981
         },
         {
          "count": 6,
          "index": 74,
          "release_year": 1966
         },
         {
          "count": 1,
          "index": 75,
          "release_year": 1916
         },
         {
          "count": 16,
          "index": 76,
          "release_year": 1978
         },
         {
          "count": 2,
          "index": 77,
          "release_year": 1929
         },
         {
          "count": 1,
          "index": 78,
          "release_year": 1927
         },
         {
          "count": 11,
          "index": 79,
          "release_year": 1968
         },
         {
          "count": 1,
          "index": 80,
          "release_year": 1944
         },
         {
          "count": 238,
          "index": 81,
          "release_year": 2006
         },
         {
          "count": 5,
          "index": 82,
          "release_year": 1961
         },
         {
          "count": 4,
          "index": 83,
          "release_year": 1952
         },
         {
          "count": 8,
          "index": 84,
          "release_year": 1962
         },
         {
          "count": 188,
          "index": 85,
          "release_year": 2001
         },
         {
          "count": 168,
          "index": 86,
          "release_year": 1999
         },
         {
          "count": 1,
          "index": 87,
          "release_year": 1950
         },
         {
          "count": 2,
          "index": 88,
          "release_year": 1957
         },
         {
          "count": 2,
          "index": 89,
          "release_year": 1955
         },
         {
          "count": 2,
          "index": 90,
          "release_year": 1937
         },
         {
          "count": 220,
          "index": 91,
          "release_year": 2012
         }
        ],
        "schema": {
         "fields": [
          {
           "name": "index",
           "type": "integer"
          },
          {
           "name": "release_year",
           "type": "number"
          },
          {
           "name": "count",
           "type": "integer"
          }
         ],
         "pandas_version": "1.4.0",
         "primaryKey": [
          "index"
         ]
        }
       },
       "total_rows": 92,
       "truncation_type": null
      },
      "text/html": [
       "<div>\n",
       "<style scoped>\n",
       "    .dataframe tbody tr th:only-of-type {\n",
       "        vertical-align: middle;\n",
       "    }\n",
       "\n",
       "    .dataframe tbody tr th {\n",
       "        vertical-align: top;\n",
       "    }\n",
       "\n",
       "    .dataframe thead th {\n",
       "        text-align: right;\n",
       "    }\n",
       "</style>\n",
       "<table border=\"1\" class=\"dataframe\">\n",
       "  <thead>\n",
       "    <tr style=\"text-align: right;\">\n",
       "      <th></th>\n",
       "      <th>release_year</th>\n",
       "      <th>count</th>\n",
       "    </tr>\n",
       "  </thead>\n",
       "  <tbody>\n",
       "    <tr>\n",
       "      <th>0</th>\n",
       "      <td>1954.0</td>\n",
       "      <td>5</td>\n",
       "    </tr>\n",
       "    <tr>\n",
       "      <th>1</th>\n",
       "      <td>1988.0</td>\n",
       "      <td>31</td>\n",
       "    </tr>\n",
       "    <tr>\n",
       "      <th>2</th>\n",
       "      <td>1959.0</td>\n",
       "      <td>3</td>\n",
       "    </tr>\n",
       "    <tr>\n",
       "      <th>3</th>\n",
       "      <td>1964.0</td>\n",
       "      <td>10</td>\n",
       "    </tr>\n",
       "    <tr>\n",
       "      <th>4</th>\n",
       "      <td>1969.0</td>\n",
       "      <td>10</td>\n",
       "    </tr>\n",
       "    <tr>\n",
       "      <th>...</th>\n",
       "      <td>...</td>\n",
       "      <td>...</td>\n",
       "    </tr>\n",
       "    <tr>\n",
       "      <th>87</th>\n",
       "      <td>1950.0</td>\n",
       "      <td>1</td>\n",
       "    </tr>\n",
       "    <tr>\n",
       "      <th>88</th>\n",
       "      <td>1957.0</td>\n",
       "      <td>2</td>\n",
       "    </tr>\n",
       "    <tr>\n",
       "      <th>89</th>\n",
       "      <td>1955.0</td>\n",
       "      <td>2</td>\n",
       "    </tr>\n",
       "    <tr>\n",
       "      <th>90</th>\n",
       "      <td>1937.0</td>\n",
       "      <td>2</td>\n",
       "    </tr>\n",
       "    <tr>\n",
       "      <th>91</th>\n",
       "      <td>2012.0</td>\n",
       "      <td>220</td>\n",
       "    </tr>\n",
       "  </tbody>\n",
       "</table>\n",
       "<p>92 rows × 2 columns</p>\n",
       "</div>"
      ],
      "text/plain": [
       "    release_year  count\n",
       "0         1954.0      5\n",
       "1         1988.0     31\n",
       "2         1959.0      3\n",
       "3         1964.0     10\n",
       "4         1969.0     10\n",
       "..           ...    ...\n",
       "87        1950.0      1\n",
       "88        1957.0      2\n",
       "89        1955.0      2\n",
       "90        1937.0      2\n",
       "91        2012.0    220\n",
       "\n",
       "[92 rows x 2 columns]"
      ]
     },
     "execution_count": 1,
     "metadata": {},
     "output_type": "execute_result"
    }
   ],
   "source": [
    "select release_year, count(*) from cinema.films group by release_year"
   ]
  },
  {
   "cell_type": "code",
   "execution_count": 2,
   "id": "7c999824-0f3d-4806-8e1e-709c596f2f9f",
   "metadata": {
    "customType": "sql",
    "dataFrameVariableName": "df",
    "executionTime": 1426,
    "initial": false,
    "integrationId": "c632441c-e1dc-4637-a56d-10b85efd89be",
    "lastSuccessfullyExecutedCode": "select release_year, avg(duration) from cinema.films group by release_year",
    "outputsMetadata": {
     "0": {
      "height": 311,
      "type": "dataFrame"
     }
    }
   },
   "outputs": [
    {
     "data": {
      "application/com.datacamp.data-table.v1+json": {
       "table": {
        "data": [
         {
          "avg": 140.6,
          "index": 0,
          "release_year": 1954
         },
         {
          "avg": 107,
          "index": 1,
          "release_year": 1988
         },
         {
          "avg": 136.6666666667,
          "index": 2,
          "release_year": 1959
         },
         {
          "avg": 119.4,
          "index": 3,
          "release_year": 1964
         },
         {
          "avg": 126,
          "index": 4,
          "release_year": 1969
         },
         {
          "avg": 77.4390243902,
          "index": 5,
          "release_year": null
         },
         {
          "avg": 105.3822222222,
          "index": 6,
          "release_year": 2008
         },
         {
          "avg": 113.064516129,
          "index": 7,
          "release_year": 1991
         },
         {
          "avg": 113.1212121212,
          "index": 8,
          "release_year": 1989
         },
         {
          "avg": 103.75,
          "index": 9,
          "release_year": 1945
         },
         {
          "avg": 113.7777777778,
          "index": 10,
          "release_year": 1974
         },
         {
          "avg": 112.8125,
          "index": 11,
          "release_year": 1977
         },
         {
          "avg": 105.5454545455,
          "index": 12,
          "release_year": 1971
         },
         {
          "avg": 122,
          "index": 13,
          "release_year": 1943
         },
         {
          "avg": 81,
          "index": 14,
          "release_year": 1935
         },
         {
          "avg": 103,
          "index": 15,
          "release_year": 1956
         },
         {
          "avg": 108,
          "index": 16,
          "release_year": 1940
         },
         {
          "avg": 118.5483870968,
          "index": 17,
          "release_year": 1984
         },
         {
          "avg": 114.0909090909,
          "index": 18,
          "release_year": 1983
         },
         {
          "avg": 105.1274131274,
          "index": 19,
          "release_year": 2009
         },
         {
          "avg": 65,
          "index": 20,
          "release_year": 1934
         },
         {
          "avg": 107.5045454545,
          "index": 21,
          "release_year": 2005
         },
         {
          "avg": 108,
          "index": 22,
          "release_year": 1958
         },
         {
          "avg": 111.3333333333,
          "index": 23,
          "release_year": 1973
         },
         {
          "avg": 108.1404255319,
          "index": 24,
          "release_year": 2013
         },
         {
          "avg": 106.4023668639,
          "index": 25,
          "release_year": 2003
         },
         {
          "avg": 77.5,
          "index": 26,
          "release_year": 1933
         },
         {
          "avg": 106.0982142857,
          "index": 27,
          "release_year": 2015
         },
         {
          "avg": 120.2291666667,
          "index": 28,
          "release_year": 1993
         },
         {
          "avg": 114.1,
          "index": 29,
          "release_year": 1990
         },
         {
          "avg": 96,
          "index": 30,
          "release_year": 1930
         },
         {
          "avg": 106.25,
          "index": 31,
          "release_year": 1953
         },
         {
          "avg": 104.2296650718,
          "index": 32,
          "release_year": 2002
         },
         {
          "avg": 124.9375,
          "index": 33,
          "release_year": 1979
         },
         {
          "avg": 107.2990654206,
          "index": 34,
          "release_year": 2004
         },
         {
          "avg": 110.2542372881,
          "index": 35,
          "release_year": 1997
         },
         {
          "avg": 122.4166666667,
          "index": 36,
          "release_year": 1980
         },
         {
          "avg": 109.6320754717,
          "index": 37,
          "release_year": 2016
         },
         {
          "avg": 104.6538461538,
          "index": 38,
          "release_year": 1986
         },
         {
          "avg": 121.8333333333,
          "index": 39,
          "release_year": 1975
         },
         {
          "avg": 133.1666666667,
          "index": 40,
          "release_year": 1970
         },
         {
          "avg": 93.5,
          "index": 41,
          "release_year": 1936
         },
         {
          "avg": 113.5,
          "index": 42,
          "release_year": 1982
         },
         {
          "avg": 76,
          "index": 43,
          "release_year": 1942
         },
         {
          "avg": 114.5285714286,
          "index": 44,
          "release_year": 1995
         },
         {
          "avg": 116.0882352941,
          "index": 45,
          "release_year": 1992
         },
         {
          "avg": 111.4814814815,
          "index": 46,
          "release_year": 1994
         },
         {
          "avg": 153.875,
          "index": 47,
          "release_year": 1963
         },
         {
          "avg": 110,
          "index": 48,
          "release_year": 1920
         },
         {
          "avg": 105.4262948207,
          "index": 49,
          "release_year": 2014
         },
         {
          "avg": 105.4355555556,
          "index": 50,
          "release_year": 2010
         },
         {
          "avg": 149.3333333333,
          "index": 51,
          "release_year": 1939
         },
         {
          "avg": 110.0101010101,
          "index": 52,
          "release_year": 1996
         },
         {
          "avg": 105.5,
          "index": 53,
          "release_year": 1987
         },
         {
          "avg": 105.75,
          "index": 54,
          "release_year": 1967
         },
         {
          "avg": 107.5352941176,
          "index": 55,
          "release_year": 2000
         },
         {
          "avg": 105.1165919283,
          "index": 56,
          "release_year": 2011
         },
         {
          "avg": 155,
          "index": 57,
          "release_year": 1965
         },
         {
          "avg": 98.6666666667,
          "index": 58,
          "release_year": 1948
         },
         {
          "avg": 79,
          "index": 59,
          "release_year": 1932
         },
         {
          "avg": 108.724137931,
          "index": 60,
          "release_year": 1985
         },
         {
          "avg": 106,
          "index": 61,
          "release_year": 1949
         },
         {
          "avg": 118,
          "index": 62,
          "release_year": 1941
         },
         {
          "avg": 101.6666666667,
          "index": 63,
          "release_year": 1947
         },
         {
          "avg": 116,
          "index": 64,
          "release_year": 1938
         },
         {
          "avg": 151,
          "index": 65,
          "release_year": 1925
         },
         {
          "avg": 126.3333333333,
          "index": 66,
          "release_year": 1960
         },
         {
          "avg": 144.6666666667,
          "index": 67,
          "release_year": 1946
         },
         {
          "avg": 134.6666666667,
          "index": 68,
          "release_year": 1951
         },
         {
          "avg": 109.4626865672,
          "index": 69,
          "release_year": 1998
         },
         {
          "avg": 112.4,
          "index": 70,
          "release_year": 1976
         },
         {
          "avg": 115.3333333333,
          "index": 71,
          "release_year": 1972
         },
         {
          "avg": 106.8768472906,
          "index": 72,
          "release_year": 2007
         },
         {
          "avg": 111.7272727273,
          "index": 73,
          "release_year": 1981
         },
         {
          "avg": 119.1666666667,
          "index": 74,
          "release_year": 1966
         },
         {
          "avg": 123,
          "index": 75,
          "release_year": 1916
         },
         {
          "avg": 122.1875,
          "index": 76,
          "release_year": 1978
         },
         {
          "avg": 105,
          "index": 77,
          "release_year": 1929
         },
         {
          "avg": 145,
          "index": 78,
          "release_year": 1927
         },
         {
          "avg": 120.5454545455,
          "index": 79,
          "release_year": 1968
         },
         {
          "avg": 101,
          "index": 80,
          "release_year": 1944
         },
         {
          "avg": 107.1856540084,
          "index": 81,
          "release_year": 2006
         },
         {
          "avg": 145.6,
          "index": 82,
          "release_year": 1961
         },
         {
          "avg": 106.75,
          "index": 83,
          "release_year": 1952
         },
         {
          "avg": 141.375,
          "index": 84,
          "release_year": 1962
         },
         {
          "avg": 106.9414893617,
          "index": 85,
          "release_year": 2001
         },
         {
          "avg": 108.6428571429,
          "index": 86,
          "release_year": 1999
         },
         {
          "avg": 107,
          "index": 87,
          "release_year": 1950
         },
         {
          "avg": 128.5,
          "index": 88,
          "release_year": 1957
         },
         {
          "avg": 112.5,
          "index": 89,
          "release_year": 1955
         },
         {
          "avg": 92,
          "index": 90,
          "release_year": 1937
         },
         {
          "avg": 106,
          "index": 91,
          "release_year": 2012
         }
        ],
        "schema": {
         "fields": [
          {
           "name": "index",
           "type": "integer"
          },
          {
           "name": "release_year",
           "type": "number"
          },
          {
           "name": "avg",
           "type": "number"
          }
         ],
         "pandas_version": "1.4.0",
         "primaryKey": [
          "index"
         ]
        }
       },
       "total_rows": 92,
       "truncation_type": null
      },
      "text/html": [
       "<div>\n",
       "<style scoped>\n",
       "    .dataframe tbody tr th:only-of-type {\n",
       "        vertical-align: middle;\n",
       "    }\n",
       "\n",
       "    .dataframe tbody tr th {\n",
       "        vertical-align: top;\n",
       "    }\n",
       "\n",
       "    .dataframe thead th {\n",
       "        text-align: right;\n",
       "    }\n",
       "</style>\n",
       "<table border=\"1\" class=\"dataframe\">\n",
       "  <thead>\n",
       "    <tr style=\"text-align: right;\">\n",
       "      <th></th>\n",
       "      <th>release_year</th>\n",
       "      <th>avg</th>\n",
       "    </tr>\n",
       "  </thead>\n",
       "  <tbody>\n",
       "    <tr>\n",
       "      <th>0</th>\n",
       "      <td>1954.0</td>\n",
       "      <td>140.600000</td>\n",
       "    </tr>\n",
       "    <tr>\n",
       "      <th>1</th>\n",
       "      <td>1988.0</td>\n",
       "      <td>107.000000</td>\n",
       "    </tr>\n",
       "    <tr>\n",
       "      <th>2</th>\n",
       "      <td>1959.0</td>\n",
       "      <td>136.666667</td>\n",
       "    </tr>\n",
       "    <tr>\n",
       "      <th>3</th>\n",
       "      <td>1964.0</td>\n",
       "      <td>119.400000</td>\n",
       "    </tr>\n",
       "    <tr>\n",
       "      <th>4</th>\n",
       "      <td>1969.0</td>\n",
       "      <td>126.000000</td>\n",
       "    </tr>\n",
       "    <tr>\n",
       "      <th>...</th>\n",
       "      <td>...</td>\n",
       "      <td>...</td>\n",
       "    </tr>\n",
       "    <tr>\n",
       "      <th>87</th>\n",
       "      <td>1950.0</td>\n",
       "      <td>107.000000</td>\n",
       "    </tr>\n",
       "    <tr>\n",
       "      <th>88</th>\n",
       "      <td>1957.0</td>\n",
       "      <td>128.500000</td>\n",
       "    </tr>\n",
       "    <tr>\n",
       "      <th>89</th>\n",
       "      <td>1955.0</td>\n",
       "      <td>112.500000</td>\n",
       "    </tr>\n",
       "    <tr>\n",
       "      <th>90</th>\n",
       "      <td>1937.0</td>\n",
       "      <td>92.000000</td>\n",
       "    </tr>\n",
       "    <tr>\n",
       "      <th>91</th>\n",
       "      <td>2012.0</td>\n",
       "      <td>106.000000</td>\n",
       "    </tr>\n",
       "  </tbody>\n",
       "</table>\n",
       "<p>92 rows × 2 columns</p>\n",
       "</div>"
      ],
      "text/plain": [
       "    release_year         avg\n",
       "0         1954.0  140.600000\n",
       "1         1988.0  107.000000\n",
       "2         1959.0  136.666667\n",
       "3         1964.0  119.400000\n",
       "4         1969.0  126.000000\n",
       "..           ...         ...\n",
       "87        1950.0  107.000000\n",
       "88        1957.0  128.500000\n",
       "89        1955.0  112.500000\n",
       "90        1937.0   92.000000\n",
       "91        2012.0  106.000000\n",
       "\n",
       "[92 rows x 2 columns]"
      ]
     },
     "execution_count": 2,
     "metadata": {},
     "output_type": "execute_result"
    }
   ],
   "source": [
    "select release_year, avg(duration) from cinema.films group by release_year"
   ]
  },
  {
   "cell_type": "code",
   "execution_count": 3,
   "id": "83d12c16-9945-4003-92f5-57e3632ec749",
   "metadata": {
    "customType": "sql",
    "dataFrameVariableName": "df",
    "executionTime": 1247,
    "initial": false,
    "integrationId": "c632441c-e1dc-4637-a56d-10b85efd89be",
    "lastSuccessfullyExecutedCode": "select release_year, max(budget) from cinema.films group by release_year",
    "outputsMetadata": {
     "0": {
      "height": 311,
      "type": "dataFrame"
     }
    }
   },
   "outputs": [
    {
     "data": {
      "application/com.datacamp.data-table.v1+json": {
       "table": {
        "data": [
         {
          "index": 0,
          "max": 5000000,
          "release_year": 1954
         },
         {
          "index": 1,
          "max": 1100000000,
          "release_year": 1988
         },
         {
          "index": 2,
          "max": 5000000,
          "release_year": 1959
         },
         {
          "index": 3,
          "max": 19000000,
          "release_year": 1964
         },
         {
          "index": 4,
          "max": 20000000,
          "release_year": 1969
         },
         {
          "index": 5,
          "max": 15000000,
          "release_year": null
         },
         {
          "index": 6,
          "max": 553632000,
          "release_year": 2008
         },
         {
          "index": 7,
          "max": 102000000,
          "release_year": 1991
         },
         {
          "index": 8,
          "max": 69500000,
          "release_year": 1989
         },
         {
          "index": 9,
          "max": 2160000,
          "release_year": 1945
         },
         {
          "index": 10,
          "max": 13000000,
          "release_year": 1974
         },
         {
          "index": 11,
          "max": 26000000,
          "release_year": 1977
         },
         {
          "index": 12,
          "max": 9000000,
          "release_year": 1971
         },
         {
          "index": 13,
          "max": 2627000,
          "release_year": 1943
         },
         {
          "index": 14,
          "max": 609000,
          "release_year": 1935
         },
         {
          "index": 15,
          "max": 4500000,
          "release_year": 1956
         },
         {
          "index": 16,
          "max": 2600000,
          "release_year": 1940
         },
         {
          "index": 17,
          "max": 58000000,
          "release_year": 1984
         },
         {
          "index": 18,
          "max": 39000000,
          "release_year": 1983
         },
         {
          "index": 19,
          "max": 250000000,
          "release_year": 2009
         },
         {
          "index": 20,
          "max": 325000,
          "release_year": 1934
         },
         {
          "index": 21,
          "max": 4200000000,
          "release_year": 2005
         },
         {
          "index": 22,
          "max": 3000000,
          "release_year": 1958
         },
         {
          "index": 23,
          "max": 8000000,
          "release_year": 1973
         },
         {
          "index": 24,
          "max": 225000000,
          "release_year": 2013
         },
         {
          "index": 25,
          "max": 200000000,
          "release_year": 2003
         },
         {
          "index": 26,
          "max": 439000,
          "release_year": 1933
         },
         {
          "index": 27,
          "max": 250000000,
          "release_year": 2015
         },
         {
          "index": 28,
          "max": 70000000,
          "release_year": 1993
         },
         {
          "index": 29,
          "max": 100000000,
          "release_year": 1990
         },
         {
          "index": 30,
          "max": 3950000,
          "release_year": 1930
         },
         {
          "index": 31,
          "max": 5000000,
          "release_year": 1953
         },
         {
          "index": 32,
          "max": 142000000,
          "release_year": 2002
         },
         {
          "index": 33,
          "max": 35000000,
          "release_year": 1979
         },
         {
          "index": 34,
          "max": 2127519898,
          "release_year": 2004
         },
         {
          "index": 35,
          "max": 2400000000,
          "release_year": 1997
         },
         {
          "index": 36,
          "max": 54000000,
          "release_year": 1980
         },
         {
          "index": 37,
          "max": 250000000,
          "release_year": 2016
         },
         {
          "index": 38,
          "max": 40000000,
          "release_year": 1986
         },
         {
          "index": 39,
          "max": 11000000,
          "release_year": 1975
         },
         {
          "index": 40,
          "max": 25000000,
          "release_year": 1970
         },
         {
          "index": 41,
          "max": 1500000,
          "release_year": 1936
         },
         {
          "index": 42,
          "max": 35000000,
          "release_year": 1982
         },
         {
          "index": 43,
          "max": 950000,
          "release_year": 1942
         },
         {
          "index": 44,
          "max": 175000000,
          "release_year": 1995
         },
         {
          "index": 45,
          "max": 80000000,
          "release_year": 1992
         },
         {
          "index": 46,
          "max": 115000000,
          "release_year": 1994
         },
         {
          "index": 47,
          "max": 31115000,
          "release_year": 1963
         },
         {
          "index": 48,
          "max": 100000,
          "release_year": 1920
         },
         {
          "index": 49,
          "max": 250000000,
          "release_year": 2014
         },
         {
          "index": 50,
          "max": 600000000,
          "release_year": 2010
         },
         {
          "index": 51,
          "max": 3977000,
          "release_year": 1939
         },
         {
          "index": 52,
          "max": 100000000,
          "release_year": 1996
         },
         {
          "index": 53,
          "max": 51000000,
          "release_year": 1987
         },
         {
          "index": 54,
          "max": 9500000,
          "release_year": 1967
         },
         {
          "index": 55,
          "max": 140000000,
          "release_year": 2000
         },
         {
          "index": 56,
          "max": 250000000,
          "release_year": 2011
         },
         {
          "index": 57,
          "max": 20000000,
          "release_year": 1965
         },
         {
          "index": 58,
          "max": 3700000,
          "release_year": 1948
         },
         {
          "index": 59,
          "max": 800000,
          "release_year": 1932
         },
         {
          "index": 60,
          "max": 44000000,
          "release_year": 1985
         },
         {
          "index": 61,
          "max": 1600000,
          "release_year": 1949
         },
         {
          "index": 62,
          "max": 1250000,
          "release_year": 1941
         },
         {
          "index": 63,
          "max": 3209000,
          "release_year": 1947
         },
         {
          "index": 64,
          "max": 2000000,
          "release_year": 1938
         },
         {
          "index": 65,
          "max": 245000,
          "release_year": 1925
         },
         {
          "index": 66,
          "max": 3000000,
          "release_year": 1960
         },
         {
          "index": 67,
          "max": 8000000,
          "release_year": 1946
         },
         {
          "index": 68,
          "max": 7623000,
          "release_year": 1951
         },
         {
          "index": 69,
          "max": 700000000,
          "release_year": 1998
         },
         {
          "index": 70,
          "max": 9000000,
          "release_year": 1976
         },
         {
          "index": 71,
          "max": 6000000,
          "release_year": 1972
         },
         {
          "index": 72,
          "max": 300000000,
          "release_year": 2007
         },
         {
          "index": 73,
          "max": 48000000,
          "release_year": 1981
         },
         {
          "index": 74,
          "max": 6000000,
          "release_year": 1966
         },
         {
          "index": 75,
          "max": 385907,
          "release_year": 1916
         },
         {
          "index": 76,
          "max": 55000000,
          "release_year": 1978
         },
         {
          "index": 77,
          "max": 379000,
          "release_year": 1929
         },
         {
          "index": 78,
          "max": 6000000,
          "release_year": 1927
         },
         {
          "index": 79,
          "max": 12000000,
          "release_year": 1968
         },
         {
          "index": 80,
          "max": 2361000,
          "release_year": 1944
         },
         {
          "index": 81,
          "max": 12215500000,
          "release_year": 2006
         },
         {
          "index": 82,
          "max": 6000000,
          "release_year": 1961
         },
         {
          "index": 83,
          "max": 4000000,
          "release_year": 1952
         },
         {
          "index": 84,
          "max": 15000000,
          "release_year": 1962
         },
         {
          "index": 85,
          "max": 400000000,
          "release_year": 2001
         },
         {
          "index": 86,
          "max": 1000000000,
          "release_year": 1999
         },
         {
          "index": 87,
          "max": 3768785,
          "release_year": 1950
         },
         {
          "index": 88,
          "max": 3000000,
          "release_year": 1957
         },
         {
          "index": 89,
          "max": 1200000,
          "release_year": 1955
         },
         {
          "index": 90,
          "max": 2000000,
          "release_year": 1937
         },
         {
          "index": 91,
          "max": 263700000,
          "release_year": 2012
         }
        ],
        "schema": {
         "fields": [
          {
           "name": "index",
           "type": "integer"
          },
          {
           "name": "release_year",
           "type": "number"
          },
          {
           "name": "max",
           "type": "integer"
          }
         ],
         "pandas_version": "1.4.0",
         "primaryKey": [
          "index"
         ]
        }
       },
       "total_rows": 92,
       "truncation_type": null
      },
      "text/html": [
       "<div>\n",
       "<style scoped>\n",
       "    .dataframe tbody tr th:only-of-type {\n",
       "        vertical-align: middle;\n",
       "    }\n",
       "\n",
       "    .dataframe tbody tr th {\n",
       "        vertical-align: top;\n",
       "    }\n",
       "\n",
       "    .dataframe thead th {\n",
       "        text-align: right;\n",
       "    }\n",
       "</style>\n",
       "<table border=\"1\" class=\"dataframe\">\n",
       "  <thead>\n",
       "    <tr style=\"text-align: right;\">\n",
       "      <th></th>\n",
       "      <th>release_year</th>\n",
       "      <th>max</th>\n",
       "    </tr>\n",
       "  </thead>\n",
       "  <tbody>\n",
       "    <tr>\n",
       "      <th>0</th>\n",
       "      <td>1954.0</td>\n",
       "      <td>5000000</td>\n",
       "    </tr>\n",
       "    <tr>\n",
       "      <th>1</th>\n",
       "      <td>1988.0</td>\n",
       "      <td>1100000000</td>\n",
       "    </tr>\n",
       "    <tr>\n",
       "      <th>2</th>\n",
       "      <td>1959.0</td>\n",
       "      <td>5000000</td>\n",
       "    </tr>\n",
       "    <tr>\n",
       "      <th>3</th>\n",
       "      <td>1964.0</td>\n",
       "      <td>19000000</td>\n",
       "    </tr>\n",
       "    <tr>\n",
       "      <th>4</th>\n",
       "      <td>1969.0</td>\n",
       "      <td>20000000</td>\n",
       "    </tr>\n",
       "    <tr>\n",
       "      <th>...</th>\n",
       "      <td>...</td>\n",
       "      <td>...</td>\n",
       "    </tr>\n",
       "    <tr>\n",
       "      <th>87</th>\n",
       "      <td>1950.0</td>\n",
       "      <td>3768785</td>\n",
       "    </tr>\n",
       "    <tr>\n",
       "      <th>88</th>\n",
       "      <td>1957.0</td>\n",
       "      <td>3000000</td>\n",
       "    </tr>\n",
       "    <tr>\n",
       "      <th>89</th>\n",
       "      <td>1955.0</td>\n",
       "      <td>1200000</td>\n",
       "    </tr>\n",
       "    <tr>\n",
       "      <th>90</th>\n",
       "      <td>1937.0</td>\n",
       "      <td>2000000</td>\n",
       "    </tr>\n",
       "    <tr>\n",
       "      <th>91</th>\n",
       "      <td>2012.0</td>\n",
       "      <td>263700000</td>\n",
       "    </tr>\n",
       "  </tbody>\n",
       "</table>\n",
       "<p>92 rows × 2 columns</p>\n",
       "</div>"
      ],
      "text/plain": [
       "    release_year         max\n",
       "0         1954.0     5000000\n",
       "1         1988.0  1100000000\n",
       "2         1959.0     5000000\n",
       "3         1964.0    19000000\n",
       "4         1969.0    20000000\n",
       "..           ...         ...\n",
       "87        1950.0     3768785\n",
       "88        1957.0     3000000\n",
       "89        1955.0     1200000\n",
       "90        1937.0     2000000\n",
       "91        2012.0   263700000\n",
       "\n",
       "[92 rows x 2 columns]"
      ]
     },
     "execution_count": 3,
     "metadata": {},
     "output_type": "execute_result"
    }
   ],
   "source": [
    "select release_year, max(budget) from cinema.films group by release_year"
   ]
  },
  {
   "cell_type": "code",
   "execution_count": 4,
   "id": "92351797-b108-45fd-96ae-9dc775b2fe07",
   "metadata": {
    "customType": "sql",
    "dataFrameVariableName": "df",
    "executionTime": 1352,
    "initial": false,
    "integrationId": "c632441c-e1dc-4637-a56d-10b85efd89be",
    "lastSuccessfullyExecutedCode": "select imdb_score, count(*) from cinema.reviews group by imdb_score",
    "outputsMetadata": {
     "0": {
      "height": 311,
      "type": "dataFrame"
     }
    }
   },
   "outputs": [
    {
     "data": {
      "application/com.datacamp.data-table.v1+json": {
       "table": {
        "data": [
         {
          "count": 117,
          "imdb_score": 5.7,
          "index": 0
         },
         {
          "count": 104,
          "imdb_score": 5.4,
          "index": 1
         },
         {
          "count": 1,
          "imdb_score": 9.1,
          "index": 2
         },
         {
          "count": 113,
          "imdb_score": 7.7,
          "index": 3
         },
         {
          "count": 112,
          "imdb_score": 5.6,
          "index": 4
         },
         {
          "count": 5,
          "imdb_score": 3,
          "index": 5
         },
         {
          "count": 2,
          "imdb_score": 2.4,
          "index": 6
         },
         {
          "count": 71,
          "imdb_score": 7.9,
          "index": 7
         },
         {
          "count": 1,
          "imdb_score": 1.7,
          "index": 8
         },
         {
          "count": 68,
          "imdb_score": 8.1,
          "index": 9
         },
         {
          "count": 103,
          "imdb_score": 7.8,
          "index": 10
         },
         {
          "count": 181,
          "imdb_score": 6.8,
          "index": 11
         },
         {
          "count": 174,
          "imdb_score": 6.9,
          "index": 12
         },
         {
          "count": 11,
          "imdb_score": 8.7,
          "index": 13
         },
         {
          "count": 222,
          "imdb_score": 6.7,
          "index": 14
         },
         {
          "count": 121,
          "imdb_score": 7.6,
          "index": 15
         },
         {
          "count": 2,
          "imdb_score": 2.5,
          "index": 16
         },
         {
          "count": 175,
          "imdb_score": 6.2,
          "index": 17
         },
         {
          "count": 14,
          "imdb_score": 3.6,
          "index": 18
         },
         {
          "count": 18,
          "imdb_score": 4,
          "index": 19
         },
         {
          "count": 16,
          "imdb_score": 3.3,
          "index": 20
         },
         {
          "count": 2,
          "imdb_score": 9,
          "index": 21
         },
         {
          "count": 6,
          "imdb_score": 2.7,
          "index": 22
         },
         {
          "count": 12,
          "imdb_score": 3.4,
          "index": 23
         },
         {
          "count": 1,
          "imdb_score": 1.6,
          "index": 24
         },
         {
          "count": 7,
          "imdb_score": 3.2,
          "index": 25
         },
         {
          "count": 144,
          "imdb_score": 5.9,
          "index": 26
         },
         {
          "count": 9,
          "imdb_score": 3.7,
          "index": 27
         },
         {
          "count": 131,
          "imdb_score": 6,
          "index": 28
         },
         {
          "count": 97,
          "imdb_score": 5.5,
          "index": 29
         },
         {
          "count": 71,
          "imdb_score": 5.1,
          "index": 30
         },
         {
          "count": 92,
          "imdb_score": 5.3,
          "index": 31
         },
         {
          "count": 31,
          "imdb_score": 4.7,
          "index": 32
         },
         {
          "count": 185,
          "imdb_score": 6.4,
          "index": 33
         },
         {
          "count": 26,
          "imdb_score": 4.1,
          "index": 34
         },
         {
          "count": 1,
          "imdb_score": 9.5,
          "index": 35
         },
         {
          "count": 52,
          "imdb_score": 4.8,
          "index": 36
         },
         {
          "count": 75,
          "imdb_score": 8,
          "index": 37
         },
         {
          "count": 14,
          "imdb_score": 3.5,
          "index": 38
         },
         {
          "count": 67,
          "imdb_score": 5.2,
          "index": 39
         },
         {
          "count": 179,
          "imdb_score": 7.1,
          "index": 40
         },
         {
          "count": 50,
          "imdb_score": 4.9,
          "index": 41
         },
         {
          "count": 182,
          "imdb_score": 7,
          "index": 42
         },
         {
          "count": 31,
          "imdb_score": 4.3,
          "index": 43
         },
         {
          "count": 5,
          "imdb_score": 8.8,
          "index": 44
         },
         {
          "count": 1,
          "imdb_score": 9.2,
          "index": 45
         },
         {
          "count": 129,
          "imdb_score": 7.5,
          "index": 46
         },
         {
          "count": 39,
          "imdb_score": 8.2,
          "index": 47
         },
         {
          "count": 199,
          "imdb_score": 6.6,
          "index": 48
         },
         {
          "count": 174,
          "imdb_score": 6.3,
          "index": 49
         },
         {
          "count": 14,
          "imdb_score": 3.8,
          "index": 50
         },
         {
          "count": 2,
          "imdb_score": 2,
          "index": 51
         },
         {
          "count": 33,
          "imdb_score": 4.5,
          "index": 52
         },
         {
          "count": 38,
          "imdb_score": 4.6,
          "index": 53
         },
         {
          "count": 12,
          "imdb_score": 8.6,
          "index": 54
         },
         {
          "count": 37,
          "imdb_score": 8.3,
          "index": 55
         },
         {
          "count": 122,
          "imdb_score": 5.8,
          "index": 56
         },
         {
          "count": 2,
          "imdb_score": 2.6,
          "index": 57
         },
         {
          "count": 9,
          "imdb_score": 2.8,
          "index": 58
         },
         {
          "count": 3,
          "imdb_score": 1.9,
          "index": 59
         },
         {
          "count": 177,
          "imdb_score": 6.1,
          "index": 60
         },
         {
          "count": 22,
          "imdb_score": 8.4,
          "index": 61
         },
         {
          "count": 1,
          "imdb_score": 9.3,
          "index": 62
         },
         {
          "count": 25,
          "imdb_score": 4.4,
          "index": 63
         },
         {
          "count": 42,
          "imdb_score": 5,
          "index": 64
         },
         {
          "count": 144,
          "imdb_score": 7.4,
          "index": 65
         },
         {
          "count": 186,
          "imdb_score": 6.5,
          "index": 66
         },
         {
          "count": 3,
          "imdb_score": 2.1,
          "index": 67
         },
         {
          "count": 181,
          "imdb_score": 7.3,
          "index": 68
         },
         {
          "count": 194,
          "imdb_score": 7.2,
          "index": 69
         },
         {
          "count": 3,
          "imdb_score": 2.2,
          "index": 70
         },
         {
          "count": 14,
          "imdb_score": 3.9,
          "index": 71
         },
         {
          "count": 3,
          "imdb_score": 2.3,
          "index": 72
         },
         {
          "count": 4,
          "imdb_score": 2.9,
          "index": 73
         },
         {
          "count": 21,
          "imdb_score": 8.5,
          "index": 74
         },
         {
          "count": 8,
          "imdb_score": 3.1,
          "index": 75
         },
         {
          "count": 5,
          "imdb_score": 8.9,
          "index": 76
         },
         {
          "count": 20,
          "imdb_score": 4.2,
          "index": 77
         }
        ],
        "schema": {
         "fields": [
          {
           "name": "index",
           "type": "integer"
          },
          {
           "name": "imdb_score",
           "type": "number"
          },
          {
           "name": "count",
           "type": "integer"
          }
         ],
         "pandas_version": "1.4.0",
         "primaryKey": [
          "index"
         ]
        }
       },
       "total_rows": 78,
       "truncation_type": null
      },
      "text/html": [
       "<div>\n",
       "<style scoped>\n",
       "    .dataframe tbody tr th:only-of-type {\n",
       "        vertical-align: middle;\n",
       "    }\n",
       "\n",
       "    .dataframe tbody tr th {\n",
       "        vertical-align: top;\n",
       "    }\n",
       "\n",
       "    .dataframe thead th {\n",
       "        text-align: right;\n",
       "    }\n",
       "</style>\n",
       "<table border=\"1\" class=\"dataframe\">\n",
       "  <thead>\n",
       "    <tr style=\"text-align: right;\">\n",
       "      <th></th>\n",
       "      <th>imdb_score</th>\n",
       "      <th>count</th>\n",
       "    </tr>\n",
       "  </thead>\n",
       "  <tbody>\n",
       "    <tr>\n",
       "      <th>0</th>\n",
       "      <td>5.7</td>\n",
       "      <td>117</td>\n",
       "    </tr>\n",
       "    <tr>\n",
       "      <th>1</th>\n",
       "      <td>5.4</td>\n",
       "      <td>104</td>\n",
       "    </tr>\n",
       "    <tr>\n",
       "      <th>2</th>\n",
       "      <td>9.1</td>\n",
       "      <td>1</td>\n",
       "    </tr>\n",
       "    <tr>\n",
       "      <th>3</th>\n",
       "      <td>7.7</td>\n",
       "      <td>113</td>\n",
       "    </tr>\n",
       "    <tr>\n",
       "      <th>4</th>\n",
       "      <td>5.6</td>\n",
       "      <td>112</td>\n",
       "    </tr>\n",
       "    <tr>\n",
       "      <th>...</th>\n",
       "      <td>...</td>\n",
       "      <td>...</td>\n",
       "    </tr>\n",
       "    <tr>\n",
       "      <th>73</th>\n",
       "      <td>2.9</td>\n",
       "      <td>4</td>\n",
       "    </tr>\n",
       "    <tr>\n",
       "      <th>74</th>\n",
       "      <td>8.5</td>\n",
       "      <td>21</td>\n",
       "    </tr>\n",
       "    <tr>\n",
       "      <th>75</th>\n",
       "      <td>3.1</td>\n",
       "      <td>8</td>\n",
       "    </tr>\n",
       "    <tr>\n",
       "      <th>76</th>\n",
       "      <td>8.9</td>\n",
       "      <td>5</td>\n",
       "    </tr>\n",
       "    <tr>\n",
       "      <th>77</th>\n",
       "      <td>4.2</td>\n",
       "      <td>20</td>\n",
       "    </tr>\n",
       "  </tbody>\n",
       "</table>\n",
       "<p>78 rows × 2 columns</p>\n",
       "</div>"
      ],
      "text/plain": [
       "    imdb_score  count\n",
       "0          5.7    117\n",
       "1          5.4    104\n",
       "2          9.1      1\n",
       "3          7.7    113\n",
       "4          5.6    112\n",
       "..         ...    ...\n",
       "73         2.9      4\n",
       "74         8.5     21\n",
       "75         3.1      8\n",
       "76         8.9      5\n",
       "77         4.2     20\n",
       "\n",
       "[78 rows x 2 columns]"
      ]
     },
     "execution_count": 4,
     "metadata": {},
     "output_type": "execute_result"
    }
   ],
   "source": [
    "select imdb_score, count(*) from cinema.reviews group by imdb_score"
   ]
  },
  {
   "cell_type": "code",
   "execution_count": 5,
   "id": "b58d5523-9131-42e9-ad5a-a9dac3c1a5d1",
   "metadata": {
    "customType": "sql",
    "dataFrameVariableName": "df",
    "executionTime": 1302,
    "initial": false,
    "integrationId": "c632441c-e1dc-4637-a56d-10b85efd89be",
    "lastSuccessfullyExecutedCode": "select release_year, min(gross) from cinema.films group by release_year",
    "outputsMetadata": {
     "0": {
      "height": 311,
      "type": "dataFrame"
     }
    }
   },
   "outputs": [
    {
     "data": {
      "application/com.datacamp.data-table.v1+json": {
       "table": {
        "data": [
         {
          "index": 0,
          "min": 269061,
          "release_year": 1954
         },
         {
          "index": 1,
          "min": 439162,
          "release_year": 1988
         },
         {
          "index": 2,
          "min": 25000000,
          "release_year": 1959
         },
         {
          "index": 3,
          "min": 12438,
          "release_year": 1964
         },
         {
          "index": 4,
          "min": 26893,
          "release_year": 1969
         },
         {
          "index": 5,
          "min": 145118,
          "release_year": null
         },
         {
          "index": 6,
          "min": 3478,
          "release_year": 2008
         },
         {
          "index": 7,
          "min": 869325,
          "release_year": 1991
         },
         {
          "index": 8,
          "min": 792966,
          "release_year": 1989
         },
         {
          "index": 9,
          "min": null,
          "release_year": 1945
         },
         {
          "index": 10,
          "min": 21000000,
          "release_year": 1974
         },
         {
          "index": 11,
          "min": 1000000,
          "release_year": 1977
         },
         {
          "index": 12,
          "min": 8231,
          "release_year": 1971
         },
         {
          "index": 13,
          "min": null,
          "release_year": 1943
         },
         {
          "index": 14,
          "min": 3000000,
          "release_year": 1935
         },
         {
          "index": 15,
          "min": null,
          "release_year": 1956
         },
         {
          "index": 16,
          "min": 76400000,
          "release_year": 1940
         },
         {
          "index": 17,
          "min": 5100000,
          "release_year": 1984
         },
         {
          "index": 18,
          "min": 12200000,
          "release_year": 1983
         },
         {
          "index": 19,
          "min": 828,
          "release_year": 2009
         },
         {
          "index": 20,
          "min": null,
          "release_year": 1934
         },
         {
          "index": 21,
          "min": 12667,
          "release_year": 2005
         },
         {
          "index": 22,
          "min": null,
          "release_year": 1958
         },
         {
          "index": 23,
          "min": 32645,
          "release_year": 1973
         },
         {
          "index": 24,
          "min": 2843,
          "release_year": 2013
         },
         {
          "index": 25,
          "min": 2580,
          "release_year": 2003
         },
         {
          "index": 26,
          "min": 2300000,
          "release_year": 1933
         },
         {
          "index": 27,
          "min": 1711,
          "release_year": 2015
         },
         {
          "index": 28,
          "min": 48856,
          "release_year": 1993
         },
         {
          "index": 29,
          "min": 333658,
          "release_year": 1990
         },
         {
          "index": 30,
          "min": null,
          "release_year": 1930
         },
         {
          "index": 31,
          "min": 5000000,
          "release_year": 1953
         },
         {
          "index": 32,
          "min": 13134,
          "release_year": 2002
         },
         {
          "index": 33,
          "min": 29200000,
          "release_year": 1979
         },
         {
          "index": 34,
          "min": 5199,
          "release_year": 2004
         },
         {
          "index": 35,
          "min": 5494,
          "release_year": 1997
         },
         {
          "index": 36,
          "min": 45250,
          "release_year": 1980
         },
         {
          "index": 37,
          "min": 31662,
          "release_year": 2016
         },
         {
          "index": 38,
          "min": 1953732,
          "release_year": 1986
         },
         {
          "index": 39,
          "min": 1229197,
          "release_year": 1975
         },
         {
          "index": 40,
          "min": 5000000,
          "release_year": 1970
         },
         {
          "index": 41,
          "min": 163245,
          "release_year": 1936
         },
         {
          "index": 42,
          "min": 5333658,
          "release_year": 1982
         },
         {
          "index": 43,
          "min": 102797150,
          "release_year": 1942
         },
         {
          "index": 44,
          "min": 529766,
          "release_year": 1995
         },
         {
          "index": 45,
          "min": 1100000,
          "release_year": 1992
         },
         {
          "index": 46,
          "min": 125169,
          "release_year": 1994
         },
         {
          "index": 47,
          "min": 24800000,
          "release_year": 1963
         },
         {
          "index": 48,
          "min": 3000000,
          "release_year": 1920
         },
         {
          "index": 49,
          "min": 162,
          "release_year": 2014
         },
         {
          "index": 50,
          "min": 12561,
          "release_year": 2010
         },
         {
          "index": 51,
          "min": 22202612,
          "release_year": 1939
         },
         {
          "index": 52,
          "min": 22434,
          "release_year": 1996
         },
         {
          "index": 53,
          "min": 354704,
          "release_year": 1987
         },
         {
          "index": 54,
          "min": 43100000,
          "release_year": 1967
         },
         {
          "index": 55,
          "min": 5725,
          "release_year": 2000
         },
         {
          "index": 56,
          "min": 2245,
          "release_year": 2011
         },
         {
          "index": 57,
          "min": 14873,
          "release_year": 1965
         },
         {
          "index": 58,
          "min": 2956000,
          "release_year": 1948
         },
         {
          "index": 59,
          "min": null,
          "release_year": 1932
         },
         {
          "index": 60,
          "min": 4250320,
          "release_year": 1985
         },
         {
          "index": 61,
          "min": null,
          "release_year": 1949
         },
         {
          "index": 62,
          "min": null,
          "release_year": 1941
         },
         {
          "index": 63,
          "min": 7927,
          "release_year": 1947
         },
         {
          "index": 64,
          "min": null,
          "release_year": 1938
         },
         {
          "index": 65,
          "min": null,
          "release_year": 1925
         },
         {
          "index": 66,
          "min": 32000000,
          "release_year": 1960
         },
         {
          "index": 67,
          "min": 20400000,
          "release_year": 1946
         },
         {
          "index": 68,
          "min": null,
          "release_year": 1951
         },
         {
          "index": 69,
          "min": 10508,
          "release_year": 1998
         },
         {
          "index": 70,
          "min": 25000000,
          "release_year": 1976
         },
         {
          "index": 71,
          "min": 180483,
          "release_year": 1972
         },
         {
          "index": 72,
          "min": 5561,
          "release_year": 2007
         },
         {
          "index": 73,
          "min": 126387,
          "release_year": 1981
         },
         {
          "index": 74,
          "min": 6100000,
          "release_year": 1966
         },
         {
          "index": 75,
          "min": null,
          "release_year": 1916
         },
         {
          "index": 76,
          "min": 321952,
          "release_year": 1978
         },
         {
          "index": 77,
          "min": 9950,
          "release_year": 1929
         },
         {
          "index": 78,
          "min": 26435,
          "release_year": 1927
         },
         {
          "index": 79,
          "min": 16800000,
          "release_year": 1968
         },
         {
          "index": 80,
          "min": null,
          "release_year": 1944
         },
         {
          "index": 81,
          "min": 721,
          "release_year": 2006
         },
         {
          "index": 82,
          "min": 43650000,
          "release_year": 1961
         },
         {
          "index": 83,
          "min": 36000000,
          "release_year": 1952
         },
         {
          "index": 84,
          "min": 6000000,
          "release_year": 1962
         },
         {
          "index": 85,
          "min": 703,
          "release_year": 2001
         },
         {
          "index": 86,
          "min": 7680,
          "release_year": 1999
         },
         {
          "index": 87,
          "min": 8000000,
          "release_year": 1950
         },
         {
          "index": 88,
          "min": 27200000,
          "release_year": 1957
         },
         {
          "index": 89,
          "min": null,
          "release_year": 1955
         },
         {
          "index": 90,
          "min": 184925485,
          "release_year": 1937
         },
         {
          "index": 91,
          "min": 1332,
          "release_year": 2012
         }
        ],
        "schema": {
         "fields": [
          {
           "name": "index",
           "type": "integer"
          },
          {
           "name": "release_year",
           "type": "number"
          },
          {
           "name": "min",
           "type": "number"
          }
         ],
         "pandas_version": "1.4.0",
         "primaryKey": [
          "index"
         ]
        }
       },
       "total_rows": 92,
       "truncation_type": null
      },
      "text/html": [
       "<div>\n",
       "<style scoped>\n",
       "    .dataframe tbody tr th:only-of-type {\n",
       "        vertical-align: middle;\n",
       "    }\n",
       "\n",
       "    .dataframe tbody tr th {\n",
       "        vertical-align: top;\n",
       "    }\n",
       "\n",
       "    .dataframe thead th {\n",
       "        text-align: right;\n",
       "    }\n",
       "</style>\n",
       "<table border=\"1\" class=\"dataframe\">\n",
       "  <thead>\n",
       "    <tr style=\"text-align: right;\">\n",
       "      <th></th>\n",
       "      <th>release_year</th>\n",
       "      <th>min</th>\n",
       "    </tr>\n",
       "  </thead>\n",
       "  <tbody>\n",
       "    <tr>\n",
       "      <th>0</th>\n",
       "      <td>1954.0</td>\n",
       "      <td>269061.0</td>\n",
       "    </tr>\n",
       "    <tr>\n",
       "      <th>1</th>\n",
       "      <td>1988.0</td>\n",
       "      <td>439162.0</td>\n",
       "    </tr>\n",
       "    <tr>\n",
       "      <th>2</th>\n",
       "      <td>1959.0</td>\n",
       "      <td>25000000.0</td>\n",
       "    </tr>\n",
       "    <tr>\n",
       "      <th>3</th>\n",
       "      <td>1964.0</td>\n",
       "      <td>12438.0</td>\n",
       "    </tr>\n",
       "    <tr>\n",
       "      <th>4</th>\n",
       "      <td>1969.0</td>\n",
       "      <td>26893.0</td>\n",
       "    </tr>\n",
       "    <tr>\n",
       "      <th>...</th>\n",
       "      <td>...</td>\n",
       "      <td>...</td>\n",
       "    </tr>\n",
       "    <tr>\n",
       "      <th>87</th>\n",
       "      <td>1950.0</td>\n",
       "      <td>8000000.0</td>\n",
       "    </tr>\n",
       "    <tr>\n",
       "      <th>88</th>\n",
       "      <td>1957.0</td>\n",
       "      <td>27200000.0</td>\n",
       "    </tr>\n",
       "    <tr>\n",
       "      <th>89</th>\n",
       "      <td>1955.0</td>\n",
       "      <td>NaN</td>\n",
       "    </tr>\n",
       "    <tr>\n",
       "      <th>90</th>\n",
       "      <td>1937.0</td>\n",
       "      <td>184925485.0</td>\n",
       "    </tr>\n",
       "    <tr>\n",
       "      <th>91</th>\n",
       "      <td>2012.0</td>\n",
       "      <td>1332.0</td>\n",
       "    </tr>\n",
       "  </tbody>\n",
       "</table>\n",
       "<p>92 rows × 2 columns</p>\n",
       "</div>"
      ],
      "text/plain": [
       "    release_year          min\n",
       "0         1954.0     269061.0\n",
       "1         1988.0     439162.0\n",
       "2         1959.0   25000000.0\n",
       "3         1964.0      12438.0\n",
       "4         1969.0      26893.0\n",
       "..           ...          ...\n",
       "87        1950.0    8000000.0\n",
       "88        1957.0   27200000.0\n",
       "89        1955.0          NaN\n",
       "90        1937.0  184925485.0\n",
       "91        2012.0       1332.0\n",
       "\n",
       "[92 rows x 2 columns]"
      ]
     },
     "execution_count": 5,
     "metadata": {},
     "output_type": "execute_result"
    }
   ],
   "source": [
    "select release_year, min(gross) from cinema.films group by release_year"
   ]
  },
  {
   "cell_type": "code",
   "execution_count": 6,
   "id": "48f40722-1f7b-4fb5-a721-a32aa0a95907",
   "metadata": {
    "customType": "sql",
    "dataFrameVariableName": "df",
    "executionTime": 1251,
    "initial": false,
    "integrationId": "c632441c-e1dc-4637-a56d-10b85efd89be",
    "lastSuccessfullyExecutedCode": "select language, sum(gross) from cinema.films group by language",
    "outputsMetadata": {
     "0": {
      "height": 311,
      "type": "dataFrame"
     }
    }
   },
   "outputs": [
    {
     "data": {
      "application/com.datacamp.data-table.v1+json": {
       "table": {
        "data": [
         {
          "index": 0,
          "language": "Danish",
          "sum": 2403857
         },
         {
          "index": 1,
          "language": "Greek",
          "sum": 110197
         },
         {
          "index": 2,
          "language": "Dzongkha",
          "sum": 505295
         },
         {
          "index": 3,
          "language": "None",
          "sum": 2601847
         },
         {
          "index": 4,
          "language": "Tamil",
          "sum": null
         },
         {
          "index": 5,
          "language": "Swahili",
          "sum": null
         },
         {
          "index": 6,
          "language": "Mandarin",
          "sum": 163611530
         },
         {
          "index": 7,
          "language": "Urdu",
          "sum": null
         },
         {
          "index": 8,
          "language": "Filipino",
          "sum": 10166502
         },
         {
          "index": 9,
          "language": "Bosnian",
          "sum": 301305
         },
         {
          "index": 10,
          "language": "Maya",
          "sum": 50859889
         },
         {
          "index": 11,
          "language": "Dutch",
          "sum": 5654665
         },
         {
          "index": 12,
          "language": "Dari",
          "sum": 16925238
         },
         {
          "index": 13,
          "language": "Spanish",
          "sum": 257312526
         },
         {
          "index": 14,
          "language": "Japanese",
          "sum": 57216469
         },
         {
          "index": 15,
          "language": "Slovenian",
          "sum": null
         },
         {
          "index": 16,
          "language": "Arabic",
          "sum": 1681831
         },
         {
          "index": 17,
          "language": "French",
          "sum": 232942888
         },
         {
          "index": 18,
          "language": "",
          "sum": 4319281
         },
         {
          "index": 19,
          "language": "Hebrew",
          "sum": 5442464
         },
         {
          "index": 20,
          "language": "Aramaic",
          "sum": 499263
         },
         {
          "index": 21,
          "language": "Hungarian",
          "sum": 195888
         },
         {
          "index": 22,
          "language": "Thai",
          "sum": 12461829
         },
         {
          "index": 23,
          "language": "Kannada",
          "sum": null
         },
         {
          "index": 24,
          "language": "Telugu",
          "sum": 6498000
         },
         {
          "index": 25,
          "language": "Czech",
          "sum": 617228
         },
         {
          "index": 26,
          "language": "Kazakh",
          "sum": 77231
         },
         {
          "index": 27,
          "language": "Korean",
          "sum": 6603670
         },
         {
          "index": 28,
          "language": "Icelandic",
          "sum": 11835
         },
         {
          "index": 29,
          "language": "Polish",
          "sum": 3826455
         },
         {
          "index": 30,
          "language": "Russian",
          "sum": 2171160
         },
         {
          "index": 31,
          "language": "Persian",
          "sum": 9137632
         },
         {
          "index": 32,
          "language": "German",
          "sum": 43748635
         },
         {
          "index": 33,
          "language": "Italian",
          "sum": 32882341
         },
         {
          "index": 34,
          "language": "Chinese",
          "sum": 50000
         },
         {
          "index": 35,
          "language": "Mongolian",
          "sum": 5701643
         },
         {
          "index": 36,
          "language": "Norwegian",
          "sum": 1804549
         },
         {
          "index": 37,
          "language": "Aboriginal",
          "sum": 78680789
         },
         {
          "index": 38,
          "language": "Indonesian",
          "sum": 4589344
         },
         {
          "index": 39,
          "language": "Swedish",
          "sum": 198780
         },
         {
          "index": 40,
          "language": "Panjabi",
          "sum": null
         },
         {
          "index": 41,
          "language": "Vietnamese",
          "sum": 638951
         },
         {
          "index": 42,
          "language": "Cantonese",
          "sum": 64294253
         },
         {
          "index": 43,
          "language": "Portuguese",
          "sum": 13573100
         },
         {
          "index": 44,
          "language": "Hindi",
          "sum": 46559734
         },
         {
          "index": 45,
          "language": "Romanian",
          "sum": 1185783
         },
         {
          "index": 46,
          "language": "English",
          "sum": 201364863894
         },
         {
          "index": 47,
          "language": "Zulu",
          "sum": 2912363
         }
        ],
        "schema": {
         "fields": [
          {
           "name": "index",
           "type": "integer"
          },
          {
           "name": "language",
           "type": "string"
          },
          {
           "name": "sum",
           "type": "number"
          }
         ],
         "pandas_version": "1.4.0",
         "primaryKey": [
          "index"
         ]
        }
       },
       "total_rows": 48,
       "truncation_type": null
      },
      "text/html": [
       "<div>\n",
       "<style scoped>\n",
       "    .dataframe tbody tr th:only-of-type {\n",
       "        vertical-align: middle;\n",
       "    }\n",
       "\n",
       "    .dataframe tbody tr th {\n",
       "        vertical-align: top;\n",
       "    }\n",
       "\n",
       "    .dataframe thead th {\n",
       "        text-align: right;\n",
       "    }\n",
       "</style>\n",
       "<table border=\"1\" class=\"dataframe\">\n",
       "  <thead>\n",
       "    <tr style=\"text-align: right;\">\n",
       "      <th></th>\n",
       "      <th>language</th>\n",
       "      <th>sum</th>\n",
       "    </tr>\n",
       "  </thead>\n",
       "  <tbody>\n",
       "    <tr>\n",
       "      <th>0</th>\n",
       "      <td>Danish</td>\n",
       "      <td>2.403857e+06</td>\n",
       "    </tr>\n",
       "    <tr>\n",
       "      <th>1</th>\n",
       "      <td>Greek</td>\n",
       "      <td>1.101970e+05</td>\n",
       "    </tr>\n",
       "    <tr>\n",
       "      <th>2</th>\n",
       "      <td>Dzongkha</td>\n",
       "      <td>5.052950e+05</td>\n",
       "    </tr>\n",
       "    <tr>\n",
       "      <th>3</th>\n",
       "      <td>None</td>\n",
       "      <td>2.601847e+06</td>\n",
       "    </tr>\n",
       "    <tr>\n",
       "      <th>4</th>\n",
       "      <td>Tamil</td>\n",
       "      <td>NaN</td>\n",
       "    </tr>\n",
       "    <tr>\n",
       "      <th>5</th>\n",
       "      <td>Swahili</td>\n",
       "      <td>NaN</td>\n",
       "    </tr>\n",
       "    <tr>\n",
       "      <th>6</th>\n",
       "      <td>Mandarin</td>\n",
       "      <td>1.636115e+08</td>\n",
       "    </tr>\n",
       "    <tr>\n",
       "      <th>7</th>\n",
       "      <td>Urdu</td>\n",
       "      <td>NaN</td>\n",
       "    </tr>\n",
       "    <tr>\n",
       "      <th>8</th>\n",
       "      <td>Filipino</td>\n",
       "      <td>1.016650e+07</td>\n",
       "    </tr>\n",
       "    <tr>\n",
       "      <th>9</th>\n",
       "      <td>Bosnian</td>\n",
       "      <td>3.013050e+05</td>\n",
       "    </tr>\n",
       "    <tr>\n",
       "      <th>10</th>\n",
       "      <td>Maya</td>\n",
       "      <td>5.085989e+07</td>\n",
       "    </tr>\n",
       "    <tr>\n",
       "      <th>11</th>\n",
       "      <td>Dutch</td>\n",
       "      <td>5.654665e+06</td>\n",
       "    </tr>\n",
       "    <tr>\n",
       "      <th>12</th>\n",
       "      <td>Dari</td>\n",
       "      <td>1.692524e+07</td>\n",
       "    </tr>\n",
       "    <tr>\n",
       "      <th>13</th>\n",
       "      <td>Spanish</td>\n",
       "      <td>2.573125e+08</td>\n",
       "    </tr>\n",
       "    <tr>\n",
       "      <th>14</th>\n",
       "      <td>Japanese</td>\n",
       "      <td>5.721647e+07</td>\n",
       "    </tr>\n",
       "    <tr>\n",
       "      <th>15</th>\n",
       "      <td>Slovenian</td>\n",
       "      <td>NaN</td>\n",
       "    </tr>\n",
       "    <tr>\n",
       "      <th>16</th>\n",
       "      <td>Arabic</td>\n",
       "      <td>1.681831e+06</td>\n",
       "    </tr>\n",
       "    <tr>\n",
       "      <th>17</th>\n",
       "      <td>French</td>\n",
       "      <td>2.329429e+08</td>\n",
       "    </tr>\n",
       "    <tr>\n",
       "      <th>18</th>\n",
       "      <td></td>\n",
       "      <td>4.319281e+06</td>\n",
       "    </tr>\n",
       "    <tr>\n",
       "      <th>19</th>\n",
       "      <td>Hebrew</td>\n",
       "      <td>5.442464e+06</td>\n",
       "    </tr>\n",
       "    <tr>\n",
       "      <th>20</th>\n",
       "      <td>Aramaic</td>\n",
       "      <td>4.992630e+05</td>\n",
       "    </tr>\n",
       "    <tr>\n",
       "      <th>21</th>\n",
       "      <td>Hungarian</td>\n",
       "      <td>1.958880e+05</td>\n",
       "    </tr>\n",
       "    <tr>\n",
       "      <th>22</th>\n",
       "      <td>Thai</td>\n",
       "      <td>1.246183e+07</td>\n",
       "    </tr>\n",
       "    <tr>\n",
       "      <th>23</th>\n",
       "      <td>Kannada</td>\n",
       "      <td>NaN</td>\n",
       "    </tr>\n",
       "    <tr>\n",
       "      <th>24</th>\n",
       "      <td>Telugu</td>\n",
       "      <td>6.498000e+06</td>\n",
       "    </tr>\n",
       "    <tr>\n",
       "      <th>25</th>\n",
       "      <td>Czech</td>\n",
       "      <td>6.172280e+05</td>\n",
       "    </tr>\n",
       "    <tr>\n",
       "      <th>26</th>\n",
       "      <td>Kazakh</td>\n",
       "      <td>7.723100e+04</td>\n",
       "    </tr>\n",
       "    <tr>\n",
       "      <th>27</th>\n",
       "      <td>Korean</td>\n",
       "      <td>6.603670e+06</td>\n",
       "    </tr>\n",
       "    <tr>\n",
       "      <th>28</th>\n",
       "      <td>Icelandic</td>\n",
       "      <td>1.183500e+04</td>\n",
       "    </tr>\n",
       "    <tr>\n",
       "      <th>29</th>\n",
       "      <td>Polish</td>\n",
       "      <td>3.826455e+06</td>\n",
       "    </tr>\n",
       "    <tr>\n",
       "      <th>30</th>\n",
       "      <td>Russian</td>\n",
       "      <td>2.171160e+06</td>\n",
       "    </tr>\n",
       "    <tr>\n",
       "      <th>31</th>\n",
       "      <td>Persian</td>\n",
       "      <td>9.137632e+06</td>\n",
       "    </tr>\n",
       "    <tr>\n",
       "      <th>32</th>\n",
       "      <td>German</td>\n",
       "      <td>4.374864e+07</td>\n",
       "    </tr>\n",
       "    <tr>\n",
       "      <th>33</th>\n",
       "      <td>Italian</td>\n",
       "      <td>3.288234e+07</td>\n",
       "    </tr>\n",
       "    <tr>\n",
       "      <th>34</th>\n",
       "      <td>Chinese</td>\n",
       "      <td>5.000000e+04</td>\n",
       "    </tr>\n",
       "    <tr>\n",
       "      <th>35</th>\n",
       "      <td>Mongolian</td>\n",
       "      <td>5.701643e+06</td>\n",
       "    </tr>\n",
       "    <tr>\n",
       "      <th>36</th>\n",
       "      <td>Norwegian</td>\n",
       "      <td>1.804549e+06</td>\n",
       "    </tr>\n",
       "    <tr>\n",
       "      <th>37</th>\n",
       "      <td>Aboriginal</td>\n",
       "      <td>7.868079e+07</td>\n",
       "    </tr>\n",
       "    <tr>\n",
       "      <th>38</th>\n",
       "      <td>Indonesian</td>\n",
       "      <td>4.589344e+06</td>\n",
       "    </tr>\n",
       "    <tr>\n",
       "      <th>39</th>\n",
       "      <td>Swedish</td>\n",
       "      <td>1.987800e+05</td>\n",
       "    </tr>\n",
       "    <tr>\n",
       "      <th>40</th>\n",
       "      <td>Panjabi</td>\n",
       "      <td>NaN</td>\n",
       "    </tr>\n",
       "    <tr>\n",
       "      <th>41</th>\n",
       "      <td>Vietnamese</td>\n",
       "      <td>6.389510e+05</td>\n",
       "    </tr>\n",
       "    <tr>\n",
       "      <th>42</th>\n",
       "      <td>Cantonese</td>\n",
       "      <td>6.429425e+07</td>\n",
       "    </tr>\n",
       "    <tr>\n",
       "      <th>43</th>\n",
       "      <td>Portuguese</td>\n",
       "      <td>1.357310e+07</td>\n",
       "    </tr>\n",
       "    <tr>\n",
       "      <th>44</th>\n",
       "      <td>Hindi</td>\n",
       "      <td>4.655973e+07</td>\n",
       "    </tr>\n",
       "    <tr>\n",
       "      <th>45</th>\n",
       "      <td>Romanian</td>\n",
       "      <td>1.185783e+06</td>\n",
       "    </tr>\n",
       "    <tr>\n",
       "      <th>46</th>\n",
       "      <td>English</td>\n",
       "      <td>2.013649e+11</td>\n",
       "    </tr>\n",
       "    <tr>\n",
       "      <th>47</th>\n",
       "      <td>Zulu</td>\n",
       "      <td>2.912363e+06</td>\n",
       "    </tr>\n",
       "  </tbody>\n",
       "</table>\n",
       "</div>"
      ],
      "text/plain": [
       "      language           sum\n",
       "0       Danish  2.403857e+06\n",
       "1        Greek  1.101970e+05\n",
       "2     Dzongkha  5.052950e+05\n",
       "3         None  2.601847e+06\n",
       "4        Tamil           NaN\n",
       "5      Swahili           NaN\n",
       "6     Mandarin  1.636115e+08\n",
       "7         Urdu           NaN\n",
       "8     Filipino  1.016650e+07\n",
       "9      Bosnian  3.013050e+05\n",
       "10        Maya  5.085989e+07\n",
       "11       Dutch  5.654665e+06\n",
       "12        Dari  1.692524e+07\n",
       "13     Spanish  2.573125e+08\n",
       "14    Japanese  5.721647e+07\n",
       "15   Slovenian           NaN\n",
       "16      Arabic  1.681831e+06\n",
       "17      French  2.329429e+08\n",
       "18              4.319281e+06\n",
       "19      Hebrew  5.442464e+06\n",
       "20     Aramaic  4.992630e+05\n",
       "21   Hungarian  1.958880e+05\n",
       "22        Thai  1.246183e+07\n",
       "23     Kannada           NaN\n",
       "24      Telugu  6.498000e+06\n",
       "25       Czech  6.172280e+05\n",
       "26      Kazakh  7.723100e+04\n",
       "27      Korean  6.603670e+06\n",
       "28   Icelandic  1.183500e+04\n",
       "29      Polish  3.826455e+06\n",
       "30     Russian  2.171160e+06\n",
       "31     Persian  9.137632e+06\n",
       "32      German  4.374864e+07\n",
       "33     Italian  3.288234e+07\n",
       "34     Chinese  5.000000e+04\n",
       "35   Mongolian  5.701643e+06\n",
       "36   Norwegian  1.804549e+06\n",
       "37  Aboriginal  7.868079e+07\n",
       "38  Indonesian  4.589344e+06\n",
       "39     Swedish  1.987800e+05\n",
       "40     Panjabi           NaN\n",
       "41  Vietnamese  6.389510e+05\n",
       "42   Cantonese  6.429425e+07\n",
       "43  Portuguese  1.357310e+07\n",
       "44       Hindi  4.655973e+07\n",
       "45    Romanian  1.185783e+06\n",
       "46     English  2.013649e+11\n",
       "47        Zulu  2.912363e+06"
      ]
     },
     "execution_count": 6,
     "metadata": {},
     "output_type": "execute_result"
    }
   ],
   "source": [
    "select language, sum(gross) from cinema.films group by language"
   ]
  },
  {
   "cell_type": "code",
   "execution_count": 7,
   "id": "7cce300f-f8bb-437c-a03b-898a15b2e9ed",
   "metadata": {
    "customType": "sql",
    "dataFrameVariableName": "df",
    "executionTime": 1227,
    "initial": false,
    "integrationId": "c632441c-e1dc-4637-a56d-10b85efd89be",
    "lastSuccessfullyExecutedCode": "select country, sum(budget) from cinema.films group by country",
    "outputsMetadata": {
     "0": {
      "height": 311,
      "type": "dataFrame"
     }
    }
   },
   "outputs": [
    {
     "data": {
      "application/com.datacamp.data-table.v1+json": {
       "table": {
        "data": [
         {
          "country": "Soviet Union",
          "index": 0,
          "sum": 1000000
         },
         {
          "country": "Indonesia",
          "index": 1,
          "sum": 1100000
         },
         {
          "country": "Italy",
          "index": 2,
          "sum": 261350000
         },
         {
          "country": "Cameroon",
          "index": 3,
          "sum": null
         },
         {
          "country": "Czech Republic",
          "index": 4,
          "sum": 146450000
         },
         {
          "country": "Sweden",
          "index": 5,
          "sum": 50400000
         },
         {
          "country": "USA",
          "index": 6,
          "sum": 125693604035
         },
         {
          "country": "Dominican Republic",
          "index": 7,
          "sum": 500000
         },
         {
          "country": "Cambodia",
          "index": 8,
          "sum": null
         },
         {
          "country": "Ireland",
          "index": 9,
          "sum": 99190000
         },
         {
          "country": "Germany",
          "index": 10,
          "sum": 3005010000
         },
         {
          "country": "Canada",
          "index": 11,
          "sum": 1613032000
         },
         {
          "country": "Finland",
          "index": 12,
          "sum": 3850000
         },
         {
          "country": "South Korea",
          "index": 13,
          "sum": 16607520000
         },
         {
          "country": "Colombia",
          "index": 14,
          "sum": 3000000
         },
         {
          "country": "New Line",
          "index": 15,
          "sum": 90000000
         },
         {
          "country": "Argentina",
          "index": 16,
          "sum": 5700000
         },
         {
          "country": "Slovenia",
          "index": 17,
          "sum": 500000
         },
         {
          "country": "Egypt",
          "index": 18,
          "sum": 1500000
         },
         {
          "country": "Greece",
          "index": 19,
          "sum": 18000000
         },
         {
          "country": "West Germany",
          "index": 20,
          "sum": 41000000
         },
         {
          "country": "Bahamas",
          "index": 21,
          "sum": 5000000
         },
         {
          "country": "Afghanistan",
          "index": 22,
          "sum": 46000
         },
         {
          "country": "Kyrgyzstan",
          "index": 23,
          "sum": 1400000
         },
         {
          "country": "India",
          "index": 24,
          "sum": 1861493748
         },
         {
          "country": "Iran",
          "index": 25,
          "sum": 14690000
         },
         {
          "country": "Chile",
          "index": 26,
          "sum": 26000000
         },
         {
          "country": "France",
          "index": 27,
          "sum": 3987364500
         },
         {
          "country": "Slovakia",
          "index": 28,
          "sum": null
         },
         {
          "country": "Israel",
          "index": 29,
          "sum": 3450000
         },
         {
          "country": "South Africa",
          "index": 30,
          "sum": 126000000
         },
         {
          "country": "Peru",
          "index": 31,
          "sum": 45000000
         },
         {
          "country": "Kenya",
          "index": 32,
          "sum": 15000
         },
         {
          "country": "Iceland",
          "index": 33,
          "sum": 13800000
         },
         {
          "country": "Hong Kong",
          "index": 34,
          "sum": 373100000
         },
         {
          "country": "Japan",
          "index": 35,
          "sum": 6999919898
         },
         {
          "country": "Denmark",
          "index": 36,
          "sum": 125300000
         },
         {
          "country": "Philippines",
          "index": 37,
          "sum": 7000
         },
         {
          "country": "Turkey",
          "index": 38,
          "sum": 8300000
         },
         {
          "country": "Nigeria",
          "index": 39,
          "sum": 7500000
         },
         {
          "country": "Switzerland",
          "index": 40,
          "sum": 35000000
         },
         {
          "country": "New Zealand",
          "index": 41,
          "sum": 1059850000
         },
         {
          "country": "Hungary",
          "index": 42,
          "sum": 2520000000
         },
         {
          "country": "Russia",
          "index": 43,
          "sum": 172700000
         },
         {
          "country": "China",
          "index": 44,
          "sum": 1431037000
         },
         {
          "country": "Norway",
          "index": 45,
          "sum": 133100000
         },
         {
          "country": "Pakistan",
          "index": 46,
          "sum": 1000000
         },
         {
          "country": "Netherlands",
          "index": 47,
          "sum": 50050000
         },
         {
          "country": "Romania",
          "index": 48,
          "sum": 17758000
         },
         {
          "country": "",
          "index": 49,
          "sum": 3500000
         },
         {
          "country": "Brazil",
          "index": 50,
          "sum": 29200000
         },
         {
          "country": "Australia",
          "index": 51,
          "sum": 1558605523
         },
         {
          "country": "UK",
          "index": 52,
          "sum": 10485439127
         },
         {
          "country": "Libya",
          "index": 53,
          "sum": 35000000
         },
         {
          "country": "Panama",
          "index": 54,
          "sum": 20000000
         },
         {
          "country": "Bulgaria",
          "index": 55,
          "sum": 7000000
         },
         {
          "country": "Spain",
          "index": 56,
          "sum": 1156050000
         },
         {
          "country": "Aruba",
          "index": 57,
          "sum": 35000000
         },
         {
          "country": "United Arab Emirates",
          "index": 58,
          "sum": 125000
         },
         {
          "country": "Georgia",
          "index": 59,
          "sum": 20000000
         },
         {
          "country": "Belgium",
          "index": 60,
          "sum": 49000000
         },
         {
          "country": "Mexico",
          "index": 61,
          "sum": 77118775
         },
         {
          "country": "Poland",
          "index": 62,
          "sum": 2400000
         },
         {
          "country": "Taiwan",
          "index": 63,
          "sum": 30000000
         },
         {
          "country": "Thailand",
          "index": 64,
          "sum": 909000000
         }
        ],
        "schema": {
         "fields": [
          {
           "name": "index",
           "type": "integer"
          },
          {
           "name": "country",
           "type": "string"
          },
          {
           "name": "sum",
           "type": "number"
          }
         ],
         "pandas_version": "1.4.0",
         "primaryKey": [
          "index"
         ]
        }
       },
       "total_rows": 65,
       "truncation_type": null
      },
      "text/html": [
       "<div>\n",
       "<style scoped>\n",
       "    .dataframe tbody tr th:only-of-type {\n",
       "        vertical-align: middle;\n",
       "    }\n",
       "\n",
       "    .dataframe tbody tr th {\n",
       "        vertical-align: top;\n",
       "    }\n",
       "\n",
       "    .dataframe thead th {\n",
       "        text-align: right;\n",
       "    }\n",
       "</style>\n",
       "<table border=\"1\" class=\"dataframe\">\n",
       "  <thead>\n",
       "    <tr style=\"text-align: right;\">\n",
       "      <th></th>\n",
       "      <th>country</th>\n",
       "      <th>sum</th>\n",
       "    </tr>\n",
       "  </thead>\n",
       "  <tbody>\n",
       "    <tr>\n",
       "      <th>0</th>\n",
       "      <td>Soviet Union</td>\n",
       "      <td>1000000.0</td>\n",
       "    </tr>\n",
       "    <tr>\n",
       "      <th>1</th>\n",
       "      <td>Indonesia</td>\n",
       "      <td>1100000.0</td>\n",
       "    </tr>\n",
       "    <tr>\n",
       "      <th>2</th>\n",
       "      <td>Italy</td>\n",
       "      <td>261350000.0</td>\n",
       "    </tr>\n",
       "    <tr>\n",
       "      <th>3</th>\n",
       "      <td>Cameroon</td>\n",
       "      <td>NaN</td>\n",
       "    </tr>\n",
       "    <tr>\n",
       "      <th>4</th>\n",
       "      <td>Czech Republic</td>\n",
       "      <td>146450000.0</td>\n",
       "    </tr>\n",
       "    <tr>\n",
       "      <th>...</th>\n",
       "      <td>...</td>\n",
       "      <td>...</td>\n",
       "    </tr>\n",
       "    <tr>\n",
       "      <th>60</th>\n",
       "      <td>Belgium</td>\n",
       "      <td>49000000.0</td>\n",
       "    </tr>\n",
       "    <tr>\n",
       "      <th>61</th>\n",
       "      <td>Mexico</td>\n",
       "      <td>77118775.0</td>\n",
       "    </tr>\n",
       "    <tr>\n",
       "      <th>62</th>\n",
       "      <td>Poland</td>\n",
       "      <td>2400000.0</td>\n",
       "    </tr>\n",
       "    <tr>\n",
       "      <th>63</th>\n",
       "      <td>Taiwan</td>\n",
       "      <td>30000000.0</td>\n",
       "    </tr>\n",
       "    <tr>\n",
       "      <th>64</th>\n",
       "      <td>Thailand</td>\n",
       "      <td>909000000.0</td>\n",
       "    </tr>\n",
       "  </tbody>\n",
       "</table>\n",
       "<p>65 rows × 2 columns</p>\n",
       "</div>"
      ],
      "text/plain": [
       "           country          sum\n",
       "0     Soviet Union    1000000.0\n",
       "1        Indonesia    1100000.0\n",
       "2            Italy  261350000.0\n",
       "3         Cameroon          NaN\n",
       "4   Czech Republic  146450000.0\n",
       "..             ...          ...\n",
       "60         Belgium   49000000.0\n",
       "61          Mexico   77118775.0\n",
       "62          Poland    2400000.0\n",
       "63          Taiwan   30000000.0\n",
       "64        Thailand  909000000.0\n",
       "\n",
       "[65 rows x 2 columns]"
      ]
     },
     "execution_count": 7,
     "metadata": {},
     "output_type": "execute_result"
    }
   ],
   "source": [
    "select country, sum(budget) from cinema.films group by country"
   ]
  },
  {
   "cell_type": "code",
   "execution_count": 8,
   "id": "8867eb3c-fd52-4f71-a59a-44ebe3a75548",
   "metadata": {
    "customType": "sql",
    "dataFrameVariableName": "df",
    "executionTime": 1466,
    "initial": false,
    "integrationId": "c632441c-e1dc-4637-a56d-10b85efd89be",
    "lastSuccessfullyExecutedCode": "select release_year, country, max(budget) from cinema.films group by release_year, country order by release_year, country",
    "outputsMetadata": {
     "0": {
      "height": 311,
      "type": "dataFrame"
     }
    }
   },
   "outputs": [
    {
     "data": {
      "application/com.datacamp.data-table.v1+json": {
       "table": {
        "data": [
         {
          "country": "USA",
          "index": 0,
          "max": 385907,
          "release_year": 1916
         },
         {
          "country": "USA",
          "index": 1,
          "max": 100000,
          "release_year": 1920
         },
         {
          "country": "USA",
          "index": 2,
          "max": 245000,
          "release_year": 1925
         },
         {
          "country": "Germany",
          "index": 3,
          "max": 6000000,
          "release_year": 1927
         },
         {
          "country": "Germany",
          "index": 4,
          "max": null,
          "release_year": 1929
         },
         {
          "country": "USA",
          "index": 5,
          "max": 379000,
          "release_year": 1929
         },
         {
          "country": "USA",
          "index": 6,
          "max": 3950000,
          "release_year": 1930
         },
         {
          "country": "USA",
          "index": 7,
          "max": 800000,
          "release_year": 1932
         },
         {
          "country": "USA",
          "index": 8,
          "max": 439000,
          "release_year": 1933
         },
         {
          "country": "USA",
          "index": 9,
          "max": 325000,
          "release_year": 1934
         },
         {
          "country": "USA",
          "index": 10,
          "max": 609000,
          "release_year": 1935
         },
         {
          "country": "USA",
          "index": 11,
          "max": 1500000,
          "release_year": 1936
         },
         {
          "country": "USA",
          "index": 12,
          "max": 2000000,
          "release_year": 1937
         },
         {
          "country": "USA",
          "index": 13,
          "max": 2000000,
          "release_year": 1938
         },
         {
          "country": "USA",
          "index": 14,
          "max": 3977000,
          "release_year": 1939
         },
         {
          "country": "USA",
          "index": 15,
          "max": 2600000,
          "release_year": 1940
         },
         {
          "country": "USA",
          "index": 16,
          "max": 1250000,
          "release_year": 1941
         },
         {
          "country": "USA",
          "index": 17,
          "max": 950000,
          "release_year": 1942
         },
         {
          "country": "USA",
          "index": 18,
          "max": 2627000,
          "release_year": 1943
         },
         {
          "country": "USA",
          "index": 19,
          "max": 2361000,
          "release_year": 1944
         },
         {
          "country": "USA",
          "index": 20,
          "max": 2160000,
          "release_year": 1945
         },
         {
          "country": "USA",
          "index": 21,
          "max": 8000000,
          "release_year": 1946
         },
         {
          "country": "USA",
          "index": 22,
          "max": 3209000,
          "release_year": 1947
         },
         {
          "country": "USA",
          "index": 23,
          "max": 3700000,
          "release_year": 1948
         },
         {
          "country": "USA",
          "index": 24,
          "max": 1600000,
          "release_year": 1949
         },
         {
          "country": "USA",
          "index": 25,
          "max": 3768785,
          "release_year": 1950
         },
         {
          "country": "USA",
          "index": 26,
          "max": 7623000,
          "release_year": 1951
         },
         {
          "country": "USA",
          "index": 27,
          "max": 4000000,
          "release_year": 1952
         },
         {
          "country": "USA",
          "index": 28,
          "max": 5000000,
          "release_year": 1953
         },
         {
          "country": "Japan",
          "index": 29,
          "max": 2000000,
          "release_year": 1954
         },
         {
          "country": "USA",
          "index": 30,
          "max": 5000000,
          "release_year": 1954
         },
         {
          "country": "Denmark",
          "index": 31,
          "max": null,
          "release_year": 1955
         },
         {
          "country": "USA",
          "index": 32,
          "max": 1200000,
          "release_year": 1955
         },
         {
          "country": "USA",
          "index": 33,
          "max": 4500000,
          "release_year": 1956
         },
         {
          "country": "UK",
          "index": 34,
          "max": 3000000,
          "release_year": 1957
         },
         {
          "country": "USA",
          "index": 35,
          "max": 350000,
          "release_year": 1957
         },
         {
          "country": "USA",
          "index": 36,
          "max": 3000000,
          "release_year": 1958
         },
         {
          "country": "USA",
          "index": 37,
          "max": 5000000,
          "release_year": 1959
         },
         {
          "country": "USA",
          "index": 38,
          "max": 3000000,
          "release_year": 1960
         },
         {
          "country": "USA",
          "index": 39,
          "max": 6000000,
          "release_year": 1961
         },
         {
          "country": "UK",
          "index": 40,
          "max": 15000000,
          "release_year": 1962
         },
         {
          "country": "USA",
          "index": 41,
          "max": 10000000,
          "release_year": 1962
         },
         {
          "country": "UK",
          "index": 42,
          "max": 31115000,
          "release_year": 1963
         },
         {
          "country": "USA",
          "index": 43,
          "max": 9400000,
          "release_year": 1963
         },
         {
          "country": "France",
          "index": 44,
          "max": 6700000,
          "release_year": 1964
         },
         {
          "country": "Italy",
          "index": 45,
          "max": 200000,
          "release_year": 1964
         },
         {
          "country": "UK",
          "index": 46,
          "max": 3000000,
          "release_year": 1964
         },
         {
          "country": "USA",
          "index": 47,
          "max": 19000000,
          "release_year": 1964
         },
         {
          "country": "France",
          "index": 48,
          "max": 300000,
          "release_year": 1965
         },
         {
          "country": "UK",
          "index": 49,
          "max": 9000000,
          "release_year": 1965
         },
         {
          "country": "USA",
          "index": 50,
          "max": 20000000,
          "release_year": 1965
         },
         {
          "country": "Italy",
          "index": 51,
          "max": 1200000,
          "release_year": 1966
         },
         {
          "country": "UK",
          "index": 52,
          "max": 2000000,
          "release_year": 1966
         },
         {
          "country": "USA",
          "index": 53,
          "max": 6000000,
          "release_year": 1966
         },
         {
          "country": "UK",
          "index": 54,
          "max": 9500000,
          "release_year": 1967
         },
         {
          "country": "USA",
          "index": 55,
          "max": 3500000,
          "release_year": 1967
         },
         {
          "country": "West Germany",
          "index": 56,
          "max": null,
          "release_year": 1967
         },
         {
          "country": "France",
          "index": 57,
          "max": 9000000,
          "release_year": 1968
         },
         {
          "country": "Italy",
          "index": 58,
          "max": 5000000,
          "release_year": 1968
         },
         {
          "country": "UK",
          "index": 59,
          "max": 12000000,
          "release_year": 1968
         },
         {
          "country": "USA",
          "index": 60,
          "max": 2500000,
          "release_year": 1968
         },
         {
          "country": "France",
          "index": 61,
          "max": 1600000,
          "release_year": 1969
         },
         {
          "country": "Italy",
          "index": 62,
          "max": null,
          "release_year": 1969
         },
         {
          "country": "UK",
          "index": 63,
          "max": 7000000,
          "release_year": 1969
         },
         {
          "country": "USA",
          "index": 64,
          "max": 20000000,
          "release_year": 1969
         },
         {
          "country": "Italy",
          "index": 65,
          "max": 25000000,
          "release_year": 1970
         },
         {
          "country": "Japan",
          "index": 66,
          "max": 25000000,
          "release_year": 1970
         },
         {
          "country": "USA",
          "index": 67,
          "max": 25000000,
          "release_year": 1970
         },
         {
          "country": "UK",
          "index": 68,
          "max": 7200000,
          "release_year": 1971
         },
         {
          "country": "USA",
          "index": 69,
          "max": 9000000,
          "release_year": 1971
         },
         {
          "country": "Soviet Union",
          "index": 70,
          "max": 1000000,
          "release_year": 1972
         },
         {
          "country": "Sweden",
          "index": 71,
          "max": 400000,
          "release_year": 1972
         },
         {
          "country": "UK",
          "index": 72,
          "max": 2000000,
          "release_year": 1972
         },
         {
          "country": "USA",
          "index": 73,
          "max": 6000000,
          "release_year": 1972
         },
         {
          "country": "UK",
          "index": 74,
          "max": 7000000,
          "release_year": 1973
         },
         {
          "country": "USA",
          "index": 75,
          "max": 8000000,
          "release_year": 1973
         },
         {
          "country": "UK",
          "index": 76,
          "max": 13000000,
          "release_year": 1974
         },
         {
          "country": "USA",
          "index": 77,
          "max": 13000000,
          "release_year": 1974
         },
         {
          "country": "UK",
          "index": 78,
          "max": 11000000,
          "release_year": 1975
         },
         {
          "country": "USA",
          "index": 79,
          "max": 8000000,
          "release_year": 1975
         },
         {
          "country": "UK",
          "index": 80,
          "max": 2800000,
          "release_year": 1976
         },
         {
          "country": "USA",
          "index": 81,
          "max": 9000000,
          "release_year": 1976
         },
         {
          "country": "UK",
          "index": 82,
          "max": 14000000,
          "release_year": 1977
         },
         {
          "country": "USA",
          "index": 83,
          "max": 26000000,
          "release_year": 1977
         },
         {
          "country": "Iran",
          "index": 84,
          "max": 14000000,
          "release_year": 1978
         },
         {
          "country": "UK",
          "index": 85,
          "max": 15000000,
          "release_year": 1978
         },
         {
          "country": "USA",
          "index": 86,
          "max": 55000000,
          "release_year": 1978
         },
         {
          "country": "Australia",
          "index": 87,
          "max": 200000,
          "release_year": 1979
         },
         {
          "country": "UK",
          "index": 88,
          "max": 34000000,
          "release_year": 1979
         },
         {
          "country": "USA",
          "index": 89,
          "max": 35000000,
          "release_year": 1979
         },
         {
          "country": "Canada",
          "index": 90,
          "max": 2200000,
          "release_year": 1980
         },
         {
          "country": "Libya",
          "index": 91,
          "max": 35000000,
          "release_year": 1980
         },
         {
          "country": "UK",
          "index": 92,
          "max": 36000000,
          "release_year": 1980
         },
         {
          "country": "USA",
          "index": 93,
          "max": 54000000,
          "release_year": 1980
         },
         {
          "country": "Australia",
          "index": 94,
          "max": 2000000,
          "release_year": 1981
         },
         {
          "country": "Canada",
          "index": 95,
          "max": 12500000,
          "release_year": 1981
         },
         {
          "country": "Italy",
          "index": 96,
          "max": 400000,
          "release_year": 1981
         },
         {
          "country": "South Korea",
          "index": 97,
          "max": 48000000,
          "release_year": 1981
         },
         {
          "country": "UK",
          "index": 98,
          "max": 28000000,
          "release_year": 1981
         },
         {
          "country": "USA",
          "index": 99,
          "max": 35000000,
          "release_year": 1981
         },
         {
          "country": "West Germany",
          "index": 100,
          "max": 14000000,
          "release_year": 1981
         },
         {
          "country": "Australia",
          "index": 101,
          "max": 3500000,
          "release_year": 1982
         },
         {
          "country": "Canada",
          "index": 102,
          "max": 4300000,
          "release_year": 1982
         },
         {
          "country": "UK",
          "index": 103,
          "max": 22000000,
          "release_year": 1982
         },
         {
          "country": "USA",
          "index": 104,
          "max": 35000000,
          "release_year": 1982
         },
         {
          "country": "Brazil",
          "index": 105,
          "max": null,
          "release_year": 1983
         },
         {
          "country": "Canada",
          "index": 106,
          "max": 7000000,
          "release_year": 1983
         },
         {
          "country": "UK",
          "index": 107,
          "max": 39000000,
          "release_year": 1983
         },
         {
          "country": "USA",
          "index": 108,
          "max": 32500000,
          "release_year": 1983
         },
         {
          "country": "Italy",
          "index": 109,
          "max": 30000000,
          "release_year": 1984
         },
         {
          "country": "UK",
          "index": 110,
          "max": 25000000,
          "release_year": 1984
         },
         {
          "country": "USA",
          "index": 111,
          "max": 58000000,
          "release_year": 1984
         },
         {
          "country": "West Germany",
          "index": 112,
          "max": 27000000,
          "release_year": 1984
         },
         {
          "country": "Australia",
          "index": 113,
          "max": 12305523,
          "release_year": 1985
         },
         {
          "country": "Canada",
          "index": 114,
          "max": 1750000,
          "release_year": 1985
         },
         {
          "country": "France",
          "index": 115,
          "max": 17000000,
          "release_year": 1985
         },
         {
          "country": "Netherlands",
          "index": 116,
          "max": 17900000,
          "release_year": 1985
         },
         {
          "country": "UK",
          "index": 117,
          "max": 30000000,
          "release_year": 1985
         },
         {
          "country": "USA",
          "index": 118,
          "max": 44000000,
          "release_year": 1985
         },
         {
          "country": "Australia",
          "index": 119,
          "max": 8800000,
          "release_year": 1986
         },
         {
          "country": "UK",
          "index": 120,
          "max": 17000000,
          "release_year": 1986
         },
         {
          "country": "USA",
          "index": 121,
          "max": 40000000,
          "release_year": 1986
         },
         {
          "country": "China",
          "index": 122,
          "max": 23000000,
          "release_year": 1987
         },
         {
          "country": "UK",
          "index": 123,
          "max": 30000000,
          "release_year": 1987
         },
         {
          "country": "USA",
          "index": 124,
          "max": 51000000,
          "release_year": 1987
         },
         {
          "country": "Australia",
          "index": 125,
          "max": 15800000,
          "release_year": 1988
         },
         {
          "country": "Italy",
          "index": 126,
          "max": 3000000,
          "release_year": 1988
         },
         {
          "country": "Japan",
          "index": 127,
          "max": 1100000000,
          "release_year": 1988
         },
         {
          "country": "USA",
          "index": 128,
          "max": 63000000,
          "release_year": 1988
         },
         {
          "country": "Australia",
          "index": 129,
          "max": 10000000,
          "release_year": 1989
         },
         {
          "country": "UK",
          "index": 130,
          "max": 32000000,
          "release_year": 1989
         },
         {
          "country": "USA",
          "index": 131,
          "max": 69500000,
          "release_year": 1989
         },
         {
          "country": "Australia",
          "index": 132,
          "max": 20000000,
          "release_year": 1990
         },
         {
          "country": "Italy",
          "index": 133,
          "max": 9000000,
          "release_year": 1990
         },
         {
          "country": "Norway",
          "index": 134,
          "max": 60000000,
          "release_year": 1990
         },
         {
          "country": "USA",
          "index": 135,
          "max": 100000000,
          "release_year": 1990
         },
         {
          "country": "France",
          "index": 136,
          "max": 40000000,
          "release_year": 1991
         },
         {
          "country": "Switzerland",
          "index": 137,
          "max": 500000,
          "release_year": 1991
         },
         {
          "country": "USA",
          "index": 138,
          "max": 102000000,
          "release_year": 1991
         },
         {
          "country": "Australia",
          "index": 139,
          "max": 8000000,
          "release_year": 1992
         },
         {
          "country": "UK",
          "index": 140,
          "max": 10000000,
          "release_year": 1992
         },
         {
          "country": "USA",
          "index": 141,
          "max": 80000000,
          "release_year": 1992
         },
         {
          "country": "France",
          "index": 142,
          "max": 50000000,
          "release_year": 1993
         },
         {
          "country": "Japan",
          "index": 143,
          "max": 11900000,
          "release_year": 1993
         },
         {
          "country": "New Zealand",
          "index": 144,
          "max": 7000000,
          "release_year": 1993
         },
         {
          "country": "UK",
          "index": 145,
          "max": 42000000,
          "release_year": 1993
         },
         {
          "country": "USA",
          "index": 146,
          "max": 70000000,
          "release_year": 1993
         },
         {
          "country": "Canada",
          "index": 147,
          "max": 27000000,
          "release_year": 1994
         },
         {
          "country": "Hong Kong",
          "index": 148,
          "max": 2000000,
          "release_year": 1994
         },
         {
          "country": "Japan",
          "index": 149,
          "max": 35000000,
          "release_year": 1994
         },
         {
          "country": "New Zealand",
          "index": 150,
          "max": 5000000,
          "release_year": 1994
         },
         {
          "country": "Peru",
          "index": 151,
          "max": 45000000,
          "release_year": 1994
         },
         {
          "country": "UK",
          "index": 152,
          "max": 30000000,
          "release_year": 1994
         },
         {
          "country": "USA",
          "index": 153,
          "max": 115000000,
          "release_year": 1994
         },
         {
          "country": "Australia",
          "index": 154,
          "max": 30000000,
          "release_year": 1995
         },
         {
          "country": "France",
          "index": 155,
          "max": 50000000,
          "release_year": 1995
         },
         {
          "country": "Hong Kong",
          "index": 156,
          "max": 7500000,
          "release_year": 1995
         },
         {
          "country": "Japan",
          "index": 157,
          "max": 32000000,
          "release_year": 1995
         },
         {
          "country": "UK",
          "index": 158,
          "max": 58000000,
          "release_year": 1995
         },
         {
          "country": "USA",
          "index": 159,
          "max": 175000000,
          "release_year": 1995
         },
         {
          "country": "Australia",
          "index": 160,
          "max": 45000000,
          "release_year": 1996
         },
         {
          "country": "Canada",
          "index": 161,
          "max": 9000000,
          "release_year": 1996
         },
         {
          "country": "France",
          "index": 162,
          "max": 19000000,
          "release_year": 1996
         },
         {
          "country": "Netherlands",
          "index": 163,
          "max": 2650000,
          "release_year": 1996
         },
         {
          "country": "UK",
          "index": 164,
          "max": 28000000,
          "release_year": 1996
         },
         {
          "country": "USA",
          "index": 165,
          "max": 100000000,
          "release_year": 1996
         },
         {
          "country": "Australia",
          "index": 166,
          "max": 12000000,
          "release_year": 1997
         },
         {
          "country": "Canada",
          "index": 167,
          "max": 5000000,
          "release_year": 1997
         },
         {
          "country": "Denmark",
          "index": 168,
          "max": 35000000,
          "release_year": 1997
         },
         {
          "country": "France",
          "index": 169,
          "max": 93000000,
          "release_year": 1997
         },
         {
          "country": "Hong Kong",
          "index": 170,
          "max": null,
          "release_year": 1997
         },
         {
          "country": "Iran",
          "index": 171,
          "max": 180000,
          "release_year": 1997
         },
         {
          "country": "Japan",
          "index": 172,
          "max": 2400000000,
          "release_year": 1997
         },
         {
          "country": "Netherlands",
          "index": 173,
          "max": 4500000,
          "release_year": 1997
         },
         {
          "country": "UK",
          "index": 174,
          "max": 110000000,
          "release_year": 1997
         },
         {
          "country": "USA",
          "index": 175,
          "max": 200000000,
          "release_year": 1997
         },
         {
          "country": "Aruba",
          "index": 176,
          "max": 35000000,
          "release_year": 1998
         },
         {
          "country": "Australia",
          "index": 177,
          "max": 80000000,
          "release_year": 1998
         },
         {
          "country": "Brazil",
          "index": 178,
          "max": 2900000,
          "release_year": 1998
         },
         {
          "country": "Canada",
          "index": 179,
          "max": 25000000,
          "release_year": 1998
         },
         {
          "country": "Denmark",
          "index": 180,
          "max": 1300000,
          "release_year": 1998
         },
         {
          "country": "France",
          "index": 181,
          "max": 140000000,
          "release_year": 1998
         },
         {
          "country": "Germany",
          "index": 182,
          "max": 55000000,
          "release_year": 1998
         },
         {
          "country": "India",
          "index": 183,
          "max": null,
          "release_year": 1998
         },
         {
          "country": "Mexico",
          "index": 184,
          "max": 3500000,
          "release_year": 1998
         },
         {
          "country": "Spain",
          "index": 185,
          "max": 700000000,
          "release_year": 1998
         },
         {
          "country": "UK",
          "index": 186,
          "max": 75000000,
          "release_year": 1998
         },
         {
          "country": "USA",
          "index": 187,
          "max": 140000000,
          "release_year": 1998
         },
         {
          "country": "Australia",
          "index": 188,
          "max": 20000000,
          "release_year": 1999
         },
         {
          "country": "Canada",
          "index": 189,
          "max": 31000000,
          "release_year": 1999
         },
         {
          "country": "Czech Republic",
          "index": 190,
          "max": 12000000,
          "release_year": 1999
         },
         {
          "country": "France",
          "index": 191,
          "max": 390000000,
          "release_year": 1999
         },
         {
          "country": "Germany",
          "index": 192,
          "max": 133000000,
          "release_year": 1999
         },
         {
          "country": "Italy",
          "index": 193,
          "max": 12000000,
          "release_year": 1999
         },
         {
          "country": "Japan",
          "index": 194,
          "max": 1000000000,
          "release_year": 1999
         },
         {
          "country": "Spain",
          "index": 195,
          "max": 38000000,
          "release_year": 1999
         },
         {
          "country": "UK",
          "index": 196,
          "max": 135000000,
          "release_year": 1999
         },
         {
          "country": "USA",
          "index": 197,
          "max": 170000000,
          "release_year": 1999
         },
         {
          "country": "Argentina",
          "index": 198,
          "max": 1500000,
          "release_year": 2000
         },
         {
          "country": "Australia",
          "index": 199,
          "max": 1500000,
          "release_year": 2000
         },
         {
          "country": "Denmark",
          "index": 200,
          "max": 12800000,
          "release_year": 2000
         },
         {
          "country": "France",
          "index": 201,
          "max": 100000000,
          "release_year": 2000
         },
         {
          "country": "Germany",
          "index": 202,
          "max": 60000000,
          "release_year": 2000
         },
         {
          "country": "India",
          "index": 203,
          "max": 1000000,
          "release_year": 2000
         },
         {
          "country": "Iran",
          "index": 204,
          "max": 10000,
          "release_year": 2000
         },
         {
          "country": "Japan",
          "index": 205,
          "max": 16000000,
          "release_year": 2000
         },
         {
          "country": "Mexico",
          "index": 206,
          "max": 2000000,
          "release_year": 2000
         },
         {
          "country": "Taiwan",
          "index": 207,
          "max": 15000000,
          "release_year": 2000
         },
         {
          "country": "UK",
          "index": 208,
          "max": 45000000,
          "release_year": 2000
         },
         {
          "country": "USA",
          "index": 209,
          "max": 140000000,
          "release_year": 2000
         },
         {
          "country": "Australia",
          "index": 210,
          "max": 21150000,
          "release_year": 2001
         },
         {
          "country": "Canada",
          "index": 211,
          "max": 48000000,
          "release_year": 2001
         },
         {
          "country": "France",
          "index": 212,
          "max": 160000000,
          "release_year": 2001
         },
         {
          "country": "Germany",
          "index": 213,
          "max": 92000000,
          "release_year": 2001
         },
         {
          "country": "Hong Kong",
          "index": 214,
          "max": 10000000,
          "release_year": 2001
         },
         {
          "country": "India",
          "index": 215,
          "max": 7000000,
          "release_year": 2001
         },
         {
          "country": "Japan",
          "index": 216,
          "max": 19000000,
          "release_year": 2001
         },
         {
          "country": "Mexico",
          "index": 217,
          "max": 2000000,
          "release_year": 2001
         },
         {
          "country": "New Line",
          "index": 218,
          "max": 90000000,
          "release_year": 2001
         },
         {
          "country": "New Zealand",
          "index": 219,
          "max": 93000000,
          "release_year": 2001
         },
         {
          "country": "Norway",
          "index": 220,
          "max": 15500000,
          "release_year": 2001
         },
         {
          "country": "Thailand",
          "index": 221,
          "max": 400000000,
          "release_year": 2001
         },
         {
          "country": "UK",
          "index": 222,
          "max": 125000000,
          "release_year": 2001
         },
         {
          "country": "USA",
          "index": 223,
          "max": 140000000,
          "release_year": 2001
         },
         {
          "country": "Australia",
          "index": 224,
          "max": 13000000,
          "release_year": 2002
         },
         {
          "country": "Brazil",
          "index": 225,
          "max": 3300000,
          "release_year": 2002
         },
         {
          "country": "Canada",
          "index": 226,
          "max": 35000000,
          "release_year": 2002
         },
         {
          "country": "China",
          "index": 227,
          "max": 31000000,
          "release_year": 2002
         },
         {
          "country": "France",
          "index": 228,
          "max": 103000000,
          "release_year": 2002
         },
         {
          "country": "Germany",
          "index": 229,
          "max": 78000000,
          "release_year": 2002
         },
         {
          "country": "Italy",
          "index": 230,
          "max": 30000000,
          "release_year": 2002
         },
         {
          "country": "Mexico",
          "index": 231,
          "max": 1800000,
          "release_year": 2002
         },
         {
          "country": "New Zealand",
          "index": 232,
          "max": 6000000,
          "release_year": 2002
         },
         {
          "country": "Spain",
          "index": 233,
          "max": 4000000,
          "release_year": 2002
         },
         {
          "country": "Sweden",
          "index": 234,
          "max": null,
          "release_year": 2002
         },
         {
          "country": "UK",
          "index": 235,
          "max": 142000000,
          "release_year": 2002
         },
         {
          "country": "USA",
          "index": 236,
          "max": 140000000,
          "release_year": 2002
         },
         {
          "country": "Afghanistan",
          "index": 237,
          "max": 46000,
          "release_year": 2003
         },
         {
          "country": "Australia",
          "index": 238,
          "max": 150000000,
          "release_year": 2003
         },
         {
          "country": "Canada",
          "index": 239,
          "max": 110000000,
          "release_year": 2003
         },
         {
          "country": "France",
          "index": 240,
          "max": 20000000,
          "release_year": 2003
         },
         {
          "country": "Germany",
          "index": 241,
          "max": 80000000,
          "release_year": 2003
         },
         {
          "country": "Hong Kong",
          "index": 242,
          "max": 41000000,
          "release_year": 2003
         },
         {
          "country": "Ireland",
          "index": 243,
          "max": 17000000,
          "release_year": 2003
         },
         {
          "country": "Italy",
          "index": 244,
          "max": 5000000,
          "release_year": 2003
         },
         {
          "country": "Russia",
          "index": 245,
          "max": null,
          "release_year": 2003
         },
         {
          "country": "South Korea",
          "index": 246,
          "max": 8000000,
          "release_year": 2003
         },
         {
          "country": "Spain",
          "index": 247,
          "max": 2000000,
          "release_year": 2003
         },
         {
          "country": "UK",
          "index": 248,
          "max": 45000000,
          "release_year": 2003
         },
         {
          "country": "USA",
          "index": 249,
          "max": 200000000,
          "release_year": 2003
         },
         {
          "country": "Argentina",
          "index": 250,
          "max": 1400000,
          "release_year": 2004
         },
         {
          "country": "Canada",
          "index": 251,
          "max": 18000000,
          "release_year": 2004
         },
         {
          "country": "China",
          "index": 252,
          "max": 100000000,
          "release_year": 2004
         },
         {
          "country": "Colombia",
          "index": 253,
          "max": 3000000,
          "release_year": 2004
         },
         {
          "country": "France",
          "index": 254,
          "max": 59660000,
          "release_year": 2004
         },
         {
          "country": "Germany",
          "index": 255,
          "max": 155000000,
          "release_year": 2004
         },
         {
          "country": "Hong Kong",
          "index": 256,
          "max": 20000000,
          "release_year": 2004
         },
         {
          "country": "India",
          "index": 257,
          "max": 7000000,
          "release_year": 2004
         },
         {
          "country": "Ireland",
          "index": 258,
          "max": 28000000,
          "release_year": 2004
         },
         {
          "country": "Italy",
          "index": 259,
          "max": 50000000,
          "release_year": 2004
         },
         {
          "country": "Japan",
          "index": 260,
          "max": 2127519898,
          "release_year": 2004
         },
         {
          "country": "Romania",
          "index": 261,
          "max": 12000000,
          "release_year": 2004
         },
         {
          "country": "Russia",
          "index": 262,
          "max": 4200000,
          "release_year": 2004
         },
         {
          "country": "South Korea",
          "index": 263,
          "max": 12800000,
          "release_year": 2004
         },
         {
          "country": "Spain",
          "index": 264,
          "max": 10000000,
          "release_year": 2004
         },
         {
          "country": "Sweden",
          "index": 265,
          "max": 25000000,
          "release_year": 2004
         },
         {
          "country": "UK",
          "index": 266,
          "max": 130000000,
          "release_year": 2004
         },
         {
          "country": "USA",
          "index": 267,
          "max": 200000000,
          "release_year": 2004
         },
         {
          "country": "Australia",
          "index": 268,
          "max": 30000000,
          "release_year": 2005
         },
         {
          "country": "Brazil",
          "index": 269,
          "max": 8000000,
          "release_year": 2005
         },
         {
          "country": "Cameroon",
          "index": 270,
          "max": null,
          "release_year": 2005
         },
         {
          "country": "Canada",
          "index": 271,
          "max": 56000000,
          "release_year": 2005
         },
         {
          "country": "China",
          "index": 272,
          "max": 60000000,
          "release_year": 2005
         },
         {
          "country": "Denmark",
          "index": 273,
          "max": 14200000,
          "release_year": 2005
         },
         {
          "country": "France",
          "index": 274,
          "max": 70000000,
          "release_year": 2005
         },
         {
          "country": "Germany",
          "index": 275,
          "max": 70000000,
          "release_year": 2005
         },
         {
          "country": "Hungary",
          "index": 276,
          "max": 2500000000,
          "release_year": 2005
         },
         {
          "country": "India",
          "index": 277,
          "max": 70000000,
          "release_year": 2005
         },
         {
          "country": "New Zealand",
          "index": 278,
          "max": 207000000,
          "release_year": 2005
         },
         {
          "country": "Philippines",
          "index": 279,
          "max": 7000,
          "release_year": 2005
         },
         {
          "country": "South Korea",
          "index": 280,
          "max": 4200000000,
          "release_year": 2005
         },
         {
          "country": "Thailand",
          "index": 281,
          "max": 200000000,
          "release_year": 2005
         },
         {
          "country": "UK",
          "index": 282,
          "max": 150000000,
          "release_year": 2005
         },
         {
          "country": "USA",
          "index": 283,
          "max": 180000000,
          "release_year": 2005
         },
         {
          "country": "Australia",
          "index": 284,
          "max": 15000000,
          "release_year": 2006
         },
         {
          "country": "Canada",
          "index": 285,
          "max": 210000000,
          "release_year": 2006
         },
         {
          "country": "China",
          "index": 286,
          "max": 45000000,
          "release_year": 2006
         },
         {
          "country": "Czech Republic",
          "index": 287,
          "max": 84450000,
          "release_year": 2006
         },
         {
          "country": "France",
          "index": 288,
          "max": 86000000,
          "release_year": 2006
         },
         {
          "country": "Germany",
          "index": 289,
          "max": 100000000,
          "release_year": 2006
         },
         {
          "country": "Hong Kong",
          "index": 290,
          "max": 35000000,
          "release_year": 2006
         },
         {
          "country": "India",
          "index": 291,
          "max": 700000000,
          "release_year": 2006
         },
         {
          "country": "Ireland",
          "index": 292,
          "max": null,
          "release_year": 2006
         },
         {
          "country": "Israel",
          "index": 293,
          "max": 1500000,
          "release_year": 2006
         },
         {
          "country": "Netherlands",
          "index": 294,
          "max": 21000000,
          "release_year": 2006
         },
         {
          "country": "New Zealand",
          "index": 295,
          "max": null,
          "release_year": 2006
         },
         {
          "country": "Poland",
          "index": 296,
          "max": 2400000,
          "release_year": 2006
         },
         {
          "country": "South Africa",
          "index": 297,
          "max": 10000000,
          "release_year": 2006
         },
         {
          "country": "South Korea",
          "index": 298,
          "max": 12215500000,
          "release_year": 2006
         },
         {
          "country": "Spain",
          "index": 299,
          "max": 24000000,
          "release_year": 2006
         },
         {
          "country": "Turkey",
          "index": 300,
          "max": 8300000,
          "release_year": 2006
         },
         {
          "country": "UK",
          "index": 301,
          "max": 150000000,
          "release_year": 2006
         },
         {
          "country": "USA",
          "index": 302,
          "max": 225000000,
          "release_year": 2006
         },
         {
          "country": "Brazil",
          "index": 303,
          "max": 4000000,
          "release_year": 2007
         },
         {
          "country": "Canada",
          "index": 304,
          "max": 10000000,
          "release_year": 2007
         },
         {
          "country": "France",
          "index": 305,
          "max": 45000000,
          "release_year": 2007
         },
         {
          "country": "Germany",
          "index": 306,
          "max": 60000000,
          "release_year": 2007
         },
         {
          "country": "Hong Kong",
          "index": 307,
          "max": 40000000,
          "release_year": 2007
         },
         {
          "country": "India",
          "index": 308,
          "max": null,
          "release_year": 2007
         },
         {
          "country": "Ireland",
          "index": 309,
          "max": 180000,
          "release_year": 2007
         },
         {
          "country": "Italy",
          "index": 310,
          "max": 38000000,
          "release_year": 2007
         },
         {
          "country": "Mexico",
          "index": 311,
          "max": null,
          "release_year": 2007
         },
         {
          "country": "Romania",
          "index": 312,
          "max": 590000,
          "release_year": 2007
         },
         {
          "country": "Russia",
          "index": 313,
          "max": 20000000,
          "release_year": 2007
         },
         {
          "country": "South Korea",
          "index": 314,
          "max": 35000000,
          "release_year": 2007
         },
         {
          "country": "Spain",
          "index": 315,
          "max": 4600000,
          "release_year": 2007
         },
         {
          "country": "Sweden",
          "index": 316,
          "max": 25000000,
          "release_year": 2007
         },
         {
          "country": "UK",
          "index": 317,
          "max": 150000000,
          "release_year": 2007
         },
         {
          "country": "USA",
          "index": 318,
          "max": 300000000,
          "release_year": 2007
         },
         {
          "country": "Australia",
          "index": 319,
          "max": 130000000,
          "release_year": 2008
         },
         {
          "country": "Canada",
          "index": 320,
          "max": 35000000,
          "release_year": 2008
         },
         {
          "country": "China",
          "index": 321,
          "max": 553632000,
          "release_year": 2008
         },
         {
          "country": "Denmark",
          "index": 322,
          "max": 45000000,
          "release_year": 2008
         },
         {
          "country": "France",
          "index": 323,
          "max": 78000000,
          "release_year": 2008
         },
         {
          "country": "Germany",
          "index": 324,
          "max": 80000000,
          "release_year": 2008
         },
         {
          "country": "Hong Kong",
          "index": 325,
          "max": null,
          "release_year": 2008
         },
         {
          "country": "India",
          "index": 326,
          "max": null,
          "release_year": 2008
         },
         {
          "country": "Israel",
          "index": 327,
          "max": 1500000,
          "release_year": 2008
         },
         {
          "country": "Japan",
          "index": 328,
          "max": 34000000,
          "release_year": 2008
         },
         {
          "country": "Netherlands",
          "index": 329,
          "max": 4000000,
          "release_year": 2008
         },
         {
          "country": "Slovakia",
          "index": 330,
          "max": null,
          "release_year": 2008
         },
         {
          "country": "South Africa",
          "index": 331,
          "max": 2000000,
          "release_year": 2008
         },
         {
          "country": "South Korea",
          "index": 332,
          "max": 10000000,
          "release_year": 2008
         },
         {
          "country": "Spain",
          "index": 333,
          "max": 15500000,
          "release_year": 2008
         },
         {
          "country": "Thailand",
          "index": 334,
          "max": 300000000,
          "release_year": 2008
         },
         {
          "country": "UK",
          "index": 335,
          "max": 200000000,
          "release_year": 2008
         },
         {
          "country": "USA",
          "index": 336,
          "max": 225000000,
          "release_year": 2008
         },
         {
          "country": "Argentina",
          "index": 337,
          "max": 2000000,
          "release_year": 2009
         },
         {
          "country": "Australia",
          "index": 338,
          "max": 20000000,
          "release_year": 2009
         },
         {
          "country": "Canada",
          "index": 339,
          "max": 26000000,
          "release_year": 2009
         },
         {
          "country": "China",
          "index": 340,
          "max": 23000000,
          "release_year": 2009
         },
         {
          "country": "France",
          "index": 341,
          "max": 40000000,
          "release_year": 2009
         },
         {
          "country": "Germany",
          "index": 342,
          "max": 100000000,
          "release_year": 2009
         },
         {
          "country": "Greece",
          "index": 343,
          "max": null,
          "release_year": 2009
         },
         {
          "country": "Hong Kong",
          "index": 344,
          "max": 65000000,
          "release_year": 2009
         },
         {
          "country": "Iceland",
          "index": 345,
          "max": 3800000,
          "release_year": 2009
         },
         {
          "country": "India",
          "index": 346,
          "max": 150000000,
          "release_year": 2009
         },
         {
          "country": "Ireland",
          "index": 347,
          "max": 12000000,
          "release_year": 2009
         },
         {
          "country": "Italy",
          "index": 348,
          "max": 10000000,
          "release_year": 2009
         },
         {
          "country": "Norway",
          "index": 349,
          "max": 800000,
          "release_year": 2009
         },
         {
          "country": "Russia",
          "index": 350,
          "max": 29500000,
          "release_year": 2009
         },
         {
          "country": "South Africa",
          "index": 351,
          "max": 30000000,
          "release_year": 2009
         },
         {
          "country": "South Korea",
          "index": 352,
          "max": null,
          "release_year": 2009
         },
         {
          "country": "Spain",
          "index": 353,
          "max": 70000000,
          "release_year": 2009
         },
         {
          "country": "Switzerland",
          "index": 354,
          "max": 4500000,
          "release_year": 2009
         },
         {
          "country": "UK",
          "index": 355,
          "max": 250000000,
          "release_year": 2009
         },
         {
          "country": "USA",
          "index": 356,
          "max": 237000000,
          "release_year": 2009
         },
         {
          "country": "Australia",
          "index": 357,
          "max": 9000000,
          "release_year": 2010
         },
         {
          "country": "Canada",
          "index": 358,
          "max": 20000000,
          "release_year": 2010
         },
         {
          "country": "China",
          "index": 359,
          "max": 12000000,
          "release_year": 2010
         },
         {
          "country": "France",
          "index": 360,
          "max": 100000000,
          "release_year": 2010
         },
         {
          "country": "Germany",
          "index": 361,
          "max": 60000000,
          "release_year": 2010
         },
         {
          "country": "India",
          "index": 362,
          "max": 600000000,
          "release_year": 2010
         },
         {
          "country": "Italy",
          "index": 363,
          "max": null,
          "release_year": 2010
         },
         {
          "country": "Mexico",
          "index": 364,
          "max": null,
          "release_year": 2010
         },
         {
          "country": "New Zealand",
          "index": 365,
          "max": 45000000,
          "release_year": 2010
         },
         {
          "country": "Norway",
          "index": 366,
          "max": 19900000,
          "release_year": 2010
         },
         {
          "country": "Russia",
          "index": 367,
          "max": 25000000,
          "release_year": 2010
         },
         {
          "country": "South Korea",
          "index": 368,
          "max": 13400000,
          "release_year": 2010
         },
         {
          "country": "Spain",
          "index": 369,
          "max": 3000000,
          "release_year": 2010
         },
         {
          "country": "Sweden",
          "index": 370,
          "max": null,
          "release_year": 2010
         },
         {
          "country": "UK",
          "index": 371,
          "max": 95000000,
          "release_year": 2010
         },
         {
          "country": "USA",
          "index": 372,
          "max": 260000000,
          "release_year": 2010
         },
         {
          "country": "Australia",
          "index": 373,
          "max": 135000000,
          "release_year": 2011
         },
         {
          "country": "Belgium",
          "index": 374,
          "max": 15000000,
          "release_year": 2011
         },
         {
          "country": "Canada",
          "index": 375,
          "max": 10000000,
          "release_year": 2011
         },
         {
          "country": "China",
          "index": 376,
          "max": 94000000,
          "release_year": 2011
         },
         {
          "country": "Denmark",
          "index": 377,
          "max": 7400000,
          "release_year": 2011
         },
         {
          "country": "Finland",
          "index": 378,
          "max": 3850000,
          "release_year": 2011
         },
         {
          "country": "France",
          "index": 379,
          "max": 40000000,
          "release_year": 2011
         },
         {
          "country": "Georgia",
          "index": 380,
          "max": 20000000,
          "release_year": 2011
         },
         {
          "country": "Germany",
          "index": 381,
          "max": 75000000,
          "release_year": 2011
         },
         {
          "country": "Hungary",
          "index": 382,
          "max": 20000000,
          "release_year": 2011
         },
         {
          "country": "India",
          "index": 383,
          "max": null,
          "release_year": 2011
         },
         {
          "country": "Indonesia",
          "index": 384,
          "max": 1100000,
          "release_year": 2011
         },
         {
          "country": "Iran",
          "index": 385,
          "max": 500000,
          "release_year": 2011
         },
         {
          "country": "Ireland",
          "index": 386,
          "max": 23000000,
          "release_year": 2011
         },
         {
          "country": "Mexico",
          "index": 387,
          "max": null,
          "release_year": 2011
         },
         {
          "country": "Norway",
          "index": 388,
          "max": 30300000,
          "release_year": 2011
         },
         {
          "country": "South Africa",
          "index": 389,
          "max": 15000000,
          "release_year": 2011
         },
         {
          "country": "Spain",
          "index": 390,
          "max": 36000000,
          "release_year": 2011
         },
         {
          "country": "UK",
          "index": 391,
          "max": 100000000,
          "release_year": 2011
         },
         {
          "country": "USA",
          "index": 392,
          "max": 250000000,
          "release_year": 2011
         },
         {
          "country": "Australia",
          "index": 393,
          "max": 30000000,
          "release_year": 2012
         },
         {
          "country": "Canada",
          "index": 394,
          "max": 6900000,
          "release_year": 2012
         },
         {
          "country": "Denmark",
          "index": 395,
          "max": 3800000,
          "release_year": 2012
         },
         {
          "country": "Dominican Republic",
          "index": 396,
          "max": 500000,
          "release_year": 2012
         },
         {
          "country": "France",
          "index": 397,
          "max": 45000000,
          "release_year": 2012
         },
         {
          "country": "Germany",
          "index": 398,
          "max": 102000000,
          "release_year": 2012
         },
         {
          "country": "India",
          "index": 399,
          "max": 7217600,
          "release_year": 2012
         },
         {
          "country": "Ireland",
          "index": 400,
          "max": null,
          "release_year": 2012
         },
         {
          "country": "Israel",
          "index": 401,
          "max": null,
          "release_year": 2012
         },
         {
          "country": "Mexico",
          "index": 402,
          "max": 10818775,
          "release_year": 2012
         },
         {
          "country": "Nigeria",
          "index": 403,
          "max": 7500000,
          "release_year": 2012
         },
         {
          "country": "Russia",
          "index": 404,
          "max": 7000000,
          "release_year": 2012
         },
         {
          "country": "South Africa",
          "index": 405,
          "max": 20000000,
          "release_year": 2012
         },
         {
          "country": "Spain",
          "index": 406,
          "max": 45000000,
          "release_year": 2012
         },
         {
          "country": "UK",
          "index": 407,
          "max": 200000000,
          "release_year": 2012
         },
         {
          "country": "USA",
          "index": 408,
          "max": 263700000,
          "release_year": 2012
         },
         {
          "country": "Australia",
          "index": 409,
          "max": 105000000,
          "release_year": 2013
         },
         {
          "country": "Belgium",
          "index": 410,
          "max": 34000000,
          "release_year": 2013
         },
         {
          "country": "Brazil",
          "index": 411,
          "max": 3000000,
          "release_year": 2013
         },
         {
          "country": "Canada",
          "index": 412,
          "max": 20000000,
          "release_year": 2013
         },
         {
          "country": "China",
          "index": 413,
          "max": null,
          "release_year": 2013
         },
         {
          "country": "Denmark",
          "index": 414,
          "max": 4800000,
          "release_year": 2013
         },
         {
          "country": "Egypt",
          "index": 415,
          "max": 1500000,
          "release_year": 2013
         },
         {
          "country": "France",
          "index": 416,
          "max": 33000000,
          "release_year": 2013
         },
         {
          "country": "Germany",
          "index": 417,
          "max": 50000000,
          "release_year": 2013
         },
         {
          "country": "Hong Kong",
          "index": 418,
          "max": 38600000,
          "release_year": 2013
         },
         {
          "country": "Iceland",
          "index": 419,
          "max": 10000000,
          "release_year": 2013
         },
         {
          "country": "India",
          "index": 420,
          "max": 1000000,
          "release_year": 2013
         },
         {
          "country": "Italy",
          "index": 421,
          "max": 13500000,
          "release_year": 2013
         },
         {
          "country": "Japan",
          "index": 422,
          "max": 30000000,
          "release_year": 2013
         },
         {
          "country": "Mexico",
          "index": 423,
          "max": 10000000,
          "release_year": 2013
         },
         {
          "country": "New Zealand",
          "index": 424,
          "max": 1000000,
          "release_year": 2013
         },
         {
          "country": "Poland",
          "index": 425,
          "max": null,
          "release_year": 2013
         },
         {
          "country": "Russia",
          "index": 426,
          "max": 20000000,
          "release_year": 2013
         },
         {
          "country": "South Africa",
          "index": 427,
          "max": 20000000,
          "release_year": 2013
         },
         {
          "country": "South Korea",
          "index": 428,
          "max": 39200000,
          "release_year": 2013
         },
         {
          "country": "Spain",
          "index": 429,
          "max": 22000000,
          "release_year": 2013
         },
         {
          "country": "Thailand",
          "index": 430,
          "max": null,
          "release_year": 2013
         },
         {
          "country": "UK",
          "index": 431,
          "max": 100000000,
          "release_year": 2013
         },
         {
          "country": "United Arab Emirates",
          "index": 432,
          "max": 125000,
          "release_year": 2013
         },
         {
          "country": "USA",
          "index": 433,
          "max": 225000000,
          "release_year": 2013
         },
         {
          "country": "",
          "index": 434,
          "max": 3500000,
          "release_year": 2014
         },
         {
          "country": "Australia",
          "index": 435,
          "max": 65000000,
          "release_year": 2014
         },
         {
          "country": "Bahamas",
          "index": 436,
          "max": 5000000,
          "release_year": 2014
         },
         {
          "country": "Brazil",
          "index": 437,
          "max": 4000000,
          "release_year": 2014
         },
         {
          "country": "Bulgaria",
          "index": 438,
          "max": 7000000,
          "release_year": 2014
         },
         {
          "country": "Cambodia",
          "index": 439,
          "max": null,
          "release_year": 2014
         },
         {
          "country": "Canada",
          "index": 440,
          "max": 80000000,
          "release_year": 2014
         },
         {
          "country": "China",
          "index": 441,
          "max": 40000000,
          "release_year": 2014
         },
         {
          "country": "Denmark",
          "index": 442,
          "max": 1000000,
          "release_year": 2014
         },
         {
          "country": "France",
          "index": 443,
          "max": 48000000,
          "release_year": 2014
         },
         {
          "country": "Hong Kong",
          "index": 444,
          "max": 7000000,
          "release_year": 2014
         },
         {
          "country": "India",
          "index": 445,
          "max": null,
          "release_year": 2014
         },
         {
          "country": "Kenya",
          "index": 446,
          "max": 15000,
          "release_year": 2014
         },
         {
          "country": "Kyrgyzstan",
          "index": 447,
          "max": 1400000,
          "release_year": 2014
         },
         {
          "country": "New Zealand",
          "index": 448,
          "max": 250000000,
          "release_year": 2014
         },
         {
          "country": "Norway",
          "index": 449,
          "max": 5500000,
          "release_year": 2014
         },
         {
          "country": "Romania",
          "index": 450,
          "max": 5000000,
          "release_year": 2014
         },
         {
          "country": "Russia",
          "index": 451,
          "max": 26000000,
          "release_year": 2014
         },
         {
          "country": "South Africa",
          "index": 452,
          "max": 25000000,
          "release_year": 2014
         },
         {
          "country": "South Korea",
          "index": 453,
          "max": 10000000,
          "release_year": 2014
         },
         {
          "country": "Spain",
          "index": 454,
          "max": 8000000,
          "release_year": 2014
         },
         {
          "country": "Switzerland",
          "index": 455,
          "max": 30000000,
          "release_year": 2014
         },
         {
          "country": "Thailand",
          "index": 456,
          "max": 9000000,
          "release_year": 2014
         },
         {
          "country": "UK",
          "index": 457,
          "max": 140000000,
          "release_year": 2014
         },
         {
          "country": "USA",
          "index": 458,
          "max": 210000000,
          "release_year": 2014
         },
         {
          "country": "Australia",
          "index": 459,
          "max": 150000000,
          "release_year": 2015
         },
         {
          "country": "Belgium",
          "index": 460,
          "max": null,
          "release_year": 2015
         },
         {
          "country": "Brazil",
          "index": 461,
          "max": 4000000,
          "release_year": 2015
         },
         {
          "country": "Canada",
          "index": 462,
          "max": 11000000,
          "release_year": 2015
         },
         {
          "country": "Chile",
          "index": 463,
          "max": 26000000,
          "release_year": 2015
         },
         {
          "country": "China",
          "index": 464,
          "max": 150000000,
          "release_year": 2015
         },
         {
          "country": "Czech Republic",
          "index": 465,
          "max": 50000000,
          "release_year": 2015
         },
         {
          "country": "France",
          "index": 466,
          "max": 81200000,
          "release_year": 2015
         },
         {
          "country": "Germany",
          "index": 467,
          "max": 2500000,
          "release_year": 2015
         },
         {
          "country": "Hong Kong",
          "index": 468,
          "max": 36000000,
          "release_year": 2015
         },
         {
          "country": "India",
          "index": 469,
          "max": 150000000,
          "release_year": 2015
         },
         {
          "country": "Ireland",
          "index": 470,
          "max": 13000000,
          "release_year": 2015
         },
         {
          "country": "Israel",
          "index": 471,
          "max": 450000,
          "release_year": 2015
         },
         {
          "country": "Italy",
          "index": 472,
          "max": 15000000,
          "release_year": 2015
         },
         {
          "country": "Japan",
          "index": 473,
          "max": 35000000,
          "release_year": 2015
         },
         {
          "country": "Mexico",
          "index": 474,
          "max": 20000000,
          "release_year": 2015
         },
         {
          "country": "New Zealand",
          "index": 475,
          "max": null,
          "release_year": 2015
         },
         {
          "country": "Pakistan",
          "index": 476,
          "max": 1000000,
          "release_year": 2015
         },
         {
          "country": "Romania",
          "index": 477,
          "max": 168000,
          "release_year": 2015
         },
         {
          "country": "Russia",
          "index": 478,
          "max": 30000000,
          "release_year": 2015
         },
         {
          "country": "Slovenia",
          "index": 479,
          "max": 500000,
          "release_year": 2015
         },
         {
          "country": "Spain",
          "index": 480,
          "max": null,
          "release_year": 2015
         },
         {
          "country": "Taiwan",
          "index": 481,
          "max": 15000000,
          "release_year": 2015
         },
         {
          "country": "UK",
          "index": 482,
          "max": 245000000,
          "release_year": 2015
         },
         {
          "country": "USA",
          "index": 483,
          "max": 250000000,
          "release_year": 2015
         },
         {
          "country": "Canada",
          "index": 484,
          "max": 8700000,
          "release_year": 2016
         },
         {
          "country": "China",
          "index": 485,
          "max": 68005000,
          "release_year": 2016
         },
         {
          "country": "France",
          "index": 486,
          "max": 10000000,
          "release_year": 2016
         },
         {
          "country": "Greece",
          "index": 487,
          "max": 18000000,
          "release_year": 2016
         },
         {
          "country": "India",
          "index": 488,
          "max": 4400000,
          "release_year": 2016
         },
         {
          "country": "Japan",
          "index": 489,
          "max": 75000000,
          "release_year": 2016
         },
         {
          "country": "Mexico",
          "index": 490,
          "max": 3000000,
          "release_year": 2016
         },
         {
          "country": "Panama",
          "index": 491,
          "max": 20000000,
          "release_year": 2016
         },
         {
          "country": "South Korea",
          "index": 492,
          "max": 12620000,
          "release_year": 2016
         },
         {
          "country": "UK",
          "index": 493,
          "max": 175000000,
          "release_year": 2016
         },
         {
          "country": "USA",
          "index": 494,
          "max": 250000000,
          "release_year": 2016
         },
         {
          "country": "",
          "index": 495,
          "max": null,
          "release_year": null
         },
         {
          "country": "Australia",
          "index": 496,
          "max": 15000000,
          "release_year": null
         },
         {
          "country": "Canada",
          "index": 497,
          "max": null,
          "release_year": null
         },
         {
          "country": "France",
          "index": 498,
          "max": null,
          "release_year": null
         },
         {
          "country": "Iceland",
          "index": 499,
          "max": null,
          "release_year": null
         },
         {
          "country": "Japan",
          "index": 500,
          "max": null,
          "release_year": null
         },
         {
          "country": "Poland",
          "index": 501,
          "max": null,
          "release_year": null
         },
         {
          "country": "Sweden",
          "index": 502,
          "max": null,
          "release_year": null
         },
         {
          "country": "UK",
          "index": 503,
          "max": null,
          "release_year": null
         },
         {
          "country": "USA",
          "index": 504,
          "max": 5000000,
          "release_year": null
         }
        ],
        "schema": {
         "fields": [
          {
           "name": "index",
           "type": "integer"
          },
          {
           "name": "release_year",
           "type": "number"
          },
          {
           "name": "country",
           "type": "string"
          },
          {
           "name": "max",
           "type": "number"
          }
         ],
         "pandas_version": "1.4.0",
         "primaryKey": [
          "index"
         ]
        }
       },
       "total_rows": 505,
       "truncation_type": null
      },
      "text/html": [
       "<div>\n",
       "<style scoped>\n",
       "    .dataframe tbody tr th:only-of-type {\n",
       "        vertical-align: middle;\n",
       "    }\n",
       "\n",
       "    .dataframe tbody tr th {\n",
       "        vertical-align: top;\n",
       "    }\n",
       "\n",
       "    .dataframe thead th {\n",
       "        text-align: right;\n",
       "    }\n",
       "</style>\n",
       "<table border=\"1\" class=\"dataframe\">\n",
       "  <thead>\n",
       "    <tr style=\"text-align: right;\">\n",
       "      <th></th>\n",
       "      <th>release_year</th>\n",
       "      <th>country</th>\n",
       "      <th>max</th>\n",
       "    </tr>\n",
       "  </thead>\n",
       "  <tbody>\n",
       "    <tr>\n",
       "      <th>0</th>\n",
       "      <td>1916.0</td>\n",
       "      <td>USA</td>\n",
       "      <td>385907.0</td>\n",
       "    </tr>\n",
       "    <tr>\n",
       "      <th>1</th>\n",
       "      <td>1920.0</td>\n",
       "      <td>USA</td>\n",
       "      <td>100000.0</td>\n",
       "    </tr>\n",
       "    <tr>\n",
       "      <th>2</th>\n",
       "      <td>1925.0</td>\n",
       "      <td>USA</td>\n",
       "      <td>245000.0</td>\n",
       "    </tr>\n",
       "    <tr>\n",
       "      <th>3</th>\n",
       "      <td>1927.0</td>\n",
       "      <td>Germany</td>\n",
       "      <td>6000000.0</td>\n",
       "    </tr>\n",
       "    <tr>\n",
       "      <th>4</th>\n",
       "      <td>1929.0</td>\n",
       "      <td>Germany</td>\n",
       "      <td>NaN</td>\n",
       "    </tr>\n",
       "    <tr>\n",
       "      <th>...</th>\n",
       "      <td>...</td>\n",
       "      <td>...</td>\n",
       "      <td>...</td>\n",
       "    </tr>\n",
       "    <tr>\n",
       "      <th>500</th>\n",
       "      <td>NaN</td>\n",
       "      <td>Japan</td>\n",
       "      <td>NaN</td>\n",
       "    </tr>\n",
       "    <tr>\n",
       "      <th>501</th>\n",
       "      <td>NaN</td>\n",
       "      <td>Poland</td>\n",
       "      <td>NaN</td>\n",
       "    </tr>\n",
       "    <tr>\n",
       "      <th>502</th>\n",
       "      <td>NaN</td>\n",
       "      <td>Sweden</td>\n",
       "      <td>NaN</td>\n",
       "    </tr>\n",
       "    <tr>\n",
       "      <th>503</th>\n",
       "      <td>NaN</td>\n",
       "      <td>UK</td>\n",
       "      <td>NaN</td>\n",
       "    </tr>\n",
       "    <tr>\n",
       "      <th>504</th>\n",
       "      <td>NaN</td>\n",
       "      <td>USA</td>\n",
       "      <td>5000000.0</td>\n",
       "    </tr>\n",
       "  </tbody>\n",
       "</table>\n",
       "<p>505 rows × 3 columns</p>\n",
       "</div>"
      ],
      "text/plain": [
       "     release_year  country        max\n",
       "0          1916.0      USA   385907.0\n",
       "1          1920.0      USA   100000.0\n",
       "2          1925.0      USA   245000.0\n",
       "3          1927.0  Germany  6000000.0\n",
       "4          1929.0  Germany        NaN\n",
       "..            ...      ...        ...\n",
       "500           NaN    Japan        NaN\n",
       "501           NaN   Poland        NaN\n",
       "502           NaN   Sweden        NaN\n",
       "503           NaN       UK        NaN\n",
       "504           NaN      USA  5000000.0\n",
       "\n",
       "[505 rows x 3 columns]"
      ]
     },
     "execution_count": 8,
     "metadata": {},
     "output_type": "execute_result"
    }
   ],
   "source": [
    "select release_year, country, max(budget) from cinema.films group by release_year, country order by release_year, country"
   ]
  },
  {
   "cell_type": "code",
   "execution_count": 9,
   "id": "d8845a43-0246-4463-b6e1-e0aff845f099",
   "metadata": {
    "customType": "sql",
    "dataFrameVariableName": "df",
    "executionTime": 1458,
    "initial": false,
    "integrationId": "c632441c-e1dc-4637-a56d-10b85efd89be",
    "lastSuccessfullyExecutedCode": "select release_year, country, min(gross) from cinema.films group by release_year, country order by country, release_year",
    "outputsMetadata": {
     "0": {
      "height": 311,
      "type": "dataFrame"
     }
    }
   },
   "outputs": [
    {
     "data": {
      "application/com.datacamp.data-table.v1+json": {
       "table": {
        "data": [
         {
          "country": "",
          "index": 0,
          "min": null,
          "release_year": 2014
         },
         {
          "country": "",
          "index": 1,
          "min": null,
          "release_year": null
         },
         {
          "country": "Afghanistan",
          "index": 2,
          "min": 1127331,
          "release_year": 2003
         },
         {
          "country": "Argentina",
          "index": 3,
          "min": 1221261,
          "release_year": 2000
         },
         {
          "country": "Argentina",
          "index": 4,
          "min": 304124,
          "release_year": 2004
         },
         {
          "country": "Argentina",
          "index": 5,
          "min": 20167424,
          "release_year": 2009
         },
         {
          "country": "Aruba",
          "index": 6,
          "min": 10076136,
          "release_year": 1998
         },
         {
          "country": "Australia",
          "index": 7,
          "min": null,
          "release_year": 1979
         },
         {
          "country": "Australia",
          "index": 8,
          "min": 9003011,
          "release_year": 1981
         },
         {
          "country": "Australia",
          "index": 9,
          "min": null,
          "release_year": 1982
         },
         {
          "country": "Australia",
          "index": 10,
          "min": 36200000,
          "release_year": 1985
         },
         {
          "country": "Australia",
          "index": 11,
          "min": 174635000,
          "release_year": 1986
         },
         {
          "country": "Australia",
          "index": 12,
          "min": 109306210,
          "release_year": 1988
         },
         {
          "country": "Australia",
          "index": 13,
          "min": 882290,
          "release_year": 1989
         },
         {
          "country": "Australia",
          "index": 14,
          "min": 21413105,
          "release_year": 1990
         },
         {
          "country": "Australia",
          "index": 15,
          "min": 6739141,
          "release_year": 1992
         },
         {
          "country": "Australia",
          "index": 16,
          "min": 66600000,
          "release_year": 1995
         },
         {
          "country": "Australia",
          "index": 17,
          "min": 212285,
          "release_year": 1996
         },
         {
          "country": "Australia",
          "index": 18,
          "min": 141853,
          "release_year": 1997
         },
         {
          "country": "Australia",
          "index": 19,
          "min": 14337579,
          "release_year": 1998
         },
         {
          "country": "Australia",
          "index": 20,
          "min": 10544143,
          "release_year": 1999
         },
         {
          "country": "Australia",
          "index": 21,
          "min": 265107,
          "release_year": 2000
         },
         {
          "country": "Australia",
          "index": 22,
          "min": 25590119,
          "release_year": 2001
         },
         {
          "country": "Australia",
          "index": 23,
          "min": 6165429,
          "release_year": 2002
         },
         {
          "country": "Australia",
          "index": 24,
          "min": 505295,
          "release_year": 2003
         },
         {
          "country": "Australia",
          "index": 25,
          "min": 1900725,
          "release_year": 2005
         },
         {
          "country": "Australia",
          "index": 26,
          "min": 13751,
          "release_year": 2006
         },
         {
          "country": "Australia",
          "index": 27,
          "min": 1027749,
          "release_year": 2008
         },
         {
          "country": "Australia",
          "index": 28,
          "min": 110029,
          "release_year": 2009
         },
         {
          "country": "Australia",
          "index": 29,
          "min": null,
          "release_year": 2010
         },
         {
          "country": "Australia",
          "index": 30,
          "min": 63992328,
          "release_year": 2011
         },
         {
          "country": "Australia",
          "index": 31,
          "min": null,
          "release_year": 2012
         },
         {
          "country": "Australia",
          "index": 32,
          "min": 317125,
          "release_year": 2013
         },
         {
          "country": "Australia",
          "index": 33,
          "min": 4190530,
          "release_year": 2014
         },
         {
          "country": "Australia",
          "index": 34,
          "min": 153629485,
          "release_year": 2015
         },
         {
          "country": "Australia",
          "index": 35,
          "min": null,
          "release_year": null
         },
         {
          "country": "Bahamas",
          "index": 36,
          "min": null,
          "release_year": 2014
         },
         {
          "country": "Belgium",
          "index": 37,
          "min": 1357042,
          "release_year": 2011
         },
         {
          "country": "Belgium",
          "index": 38,
          "min": 4091,
          "release_year": 2013
         },
         {
          "country": "Belgium",
          "index": 39,
          "min": null,
          "release_year": 2015
         },
         {
          "country": "Brazil",
          "index": 40,
          "min": null,
          "release_year": 1983
         },
         {
          "country": "Brazil",
          "index": 41,
          "min": 5595428,
          "release_year": 1998
         },
         {
          "country": "Brazil",
          "index": 42,
          "min": 7563397,
          "release_year": 2002
         },
         {
          "country": "Brazil",
          "index": 43,
          "min": null,
          "release_year": 2005
         },
         {
          "country": "Brazil",
          "index": 44,
          "min": 8060,
          "release_year": 2007
         },
         {
          "country": "Brazil",
          "index": 45,
          "min": null,
          "release_year": 2013
         },
         {
          "country": "Brazil",
          "index": 46,
          "min": 20262,
          "release_year": 2014
         },
         {
          "country": "Brazil",
          "index": 47,
          "min": 375723,
          "release_year": 2015
         },
         {
          "country": "Bulgaria",
          "index": 48,
          "min": null,
          "release_year": 2014
         },
         {
          "country": "Cambodia",
          "index": 49,
          "min": null,
          "release_year": 2014
         },
         {
          "country": "Cameroon",
          "index": 50,
          "min": 32631,
          "release_year": 2005
         },
         {
          "country": "Canada",
          "index": 51,
          "min": null,
          "release_year": 1980
         },
         {
          "country": "Canada",
          "index": 52,
          "min": 105500000,
          "release_year": 1981
         },
         {
          "country": "Canada",
          "index": 53,
          "min": null,
          "release_year": 1982
         },
         {
          "country": "Canada",
          "index": 54,
          "min": null,
          "release_year": 1983
         },
         {
          "country": "Canada",
          "index": 55,
          "min": null,
          "release_year": 1985
         },
         {
          "country": "Canada",
          "index": 56,
          "min": 5132222,
          "release_year": 1994
         },
         {
          "country": "Canada",
          "index": 57,
          "min": null,
          "release_year": 1996
         },
         {
          "country": "Canada",
          "index": 58,
          "min": 489220,
          "release_year": 1997
         },
         {
          "country": "Canada",
          "index": 59,
          "min": 6719300,
          "release_year": 1998
         },
         {
          "country": "Canada",
          "index": 60,
          "min": 819852,
          "release_year": 1999
         },
         {
          "country": "Canada",
          "index": 61,
          "min": 14252830,
          "release_year": 2001
         },
         {
          "country": "Canada",
          "index": 62,
          "min": 39659,
          "release_year": 2002
         },
         {
          "country": "Canada",
          "index": 63,
          "min": 763044,
          "release_year": 2003
         },
         {
          "country": "Canada",
          "index": 64,
          "min": 795126,
          "release_year": 2004
         },
         {
          "country": "Canada",
          "index": 65,
          "min": 871527,
          "release_year": 2005
         },
         {
          "country": "Canada",
          "index": 66,
          "min": 298110,
          "release_year": 2006
         },
         {
          "country": "Canada",
          "index": 67,
          "min": 7070459,
          "release_year": 2007
         },
         {
          "country": "Canada",
          "index": 68,
          "min": 3478,
          "release_year": 2008
         },
         {
          "country": "Canada",
          "index": 69,
          "min": 37606,
          "release_year": 2009
         },
         {
          "country": "Canada",
          "index": 70,
          "min": 56129,
          "release_year": 2010
         },
         {
          "country": "Canada",
          "index": 71,
          "min": 24784,
          "release_year": 2011
         },
         {
          "country": "Canada",
          "index": 72,
          "min": 1521,
          "release_year": 2012
         },
         {
          "country": "Canada",
          "index": 73,
          "min": 71588220,
          "release_year": 2013
         },
         {
          "country": "Canada",
          "index": 74,
          "min": 23219748,
          "release_year": 2014
         },
         {
          "country": "Canada",
          "index": 75,
          "min": 52200504,
          "release_year": 2015
         },
         {
          "country": "Canada",
          "index": 76,
          "min": 123777,
          "release_year": 2016
         },
         {
          "country": "Canada",
          "index": 77,
          "min": null,
          "release_year": null
         },
         {
          "country": "Chile",
          "index": 78,
          "min": 12188642,
          "release_year": 2015
         },
         {
          "country": "China",
          "index": 79,
          "min": 43984230,
          "release_year": 1987
         },
         {
          "country": "China",
          "index": 80,
          "min": 84961,
          "release_year": 2002
         },
         {
          "country": "China",
          "index": 81,
          "min": 11041228,
          "release_year": 2004
         },
         {
          "country": "China",
          "index": 82,
          "min": 668171,
          "release_year": 2005
         },
         {
          "country": "China",
          "index": 83,
          "min": 6565495,
          "release_year": 2006
         },
         {
          "country": "China",
          "index": 84,
          "min": 626809,
          "release_year": 2008
         },
         {
          "country": "China",
          "index": 85,
          "min": 119922,
          "release_year": 2009
         },
         {
          "country": "China",
          "index": 86,
          "min": null,
          "release_year": 2010
         },
         {
          "country": "China",
          "index": 87,
          "min": 9213,
          "release_year": 2011
         },
         {
          "country": "China",
          "index": 88,
          "min": 50000,
          "release_year": 2013
         },
         {
          "country": "China",
          "index": 89,
          "min": 129115,
          "release_year": 2014
         },
         {
          "country": "China",
          "index": 90,
          "min": 72413,
          "release_year": 2015
         },
         {
          "country": "China",
          "index": 91,
          "min": null,
          "release_year": 2016
         },
         {
          "country": "Colombia",
          "index": 92,
          "min": 6517198,
          "release_year": 2004
         },
         {
          "country": "Czech Republic",
          "index": 93,
          "min": 2060953,
          "release_year": 1999
         },
         {
          "country": "Czech Republic",
          "index": 94,
          "min": 617228,
          "release_year": 2006
         },
         {
          "country": "Czech Republic",
          "index": 95,
          "min": 1206135,
          "release_year": 2015
         },
         {
          "country": "Denmark",
          "index": 96,
          "min": null,
          "release_year": 1955
         },
         {
          "country": "Denmark",
          "index": 97,
          "min": 2221994,
          "release_year": 1997
         },
         {
          "country": "Denmark",
          "index": 98,
          "min": 1647780,
          "release_year": 1998
         },
         {
          "country": "Denmark",
          "index": 99,
          "min": 4157491,
          "release_year": 2000
         },
         {
          "country": "Denmark",
          "index": 100,
          "min": 74205,
          "release_year": 2005
         },
         {
          "country": "Denmark",
          "index": 101,
          "min": 145109,
          "release_year": 2008
         },
         {
          "country": "Denmark",
          "index": 102,
          "min": 3029870,
          "release_year": 2011
         },
         {
          "country": "Denmark",
          "index": 103,
          "min": 610968,
          "release_year": 2012
         },
         {
          "country": "Denmark",
          "index": 104,
          "min": 778565,
          "release_year": 2013
         },
         {
          "country": "Denmark",
          "index": 105,
          "min": 100240,
          "release_year": 2014
         },
         {
          "country": "Dominican Republic",
          "index": 106,
          "min": null,
          "release_year": 2012
         },
         {
          "country": "Egypt",
          "index": 107,
          "min": null,
          "release_year": 2013
         },
         {
          "country": "Finland",
          "index": 108,
          "min": 611709,
          "release_year": 2011
         },
         {
          "country": "France",
          "index": 109,
          "min": null,
          "release_year": 1964
         },
         {
          "country": "France",
          "index": 110,
          "min": null,
          "release_year": 1965
         },
         {
          "country": "France",
          "index": 111,
          "min": null,
          "release_year": 1968
         },
         {
          "country": "France",
          "index": 112,
          "min": 26893,
          "release_year": 1969
         },
         {
          "country": "France",
          "index": 113,
          "min": null,
          "release_year": 1985
         },
         {
          "country": "France",
          "index": 114,
          "min": 70405498,
          "release_year": 1991
         },
         {
          "country": "France",
          "index": 115,
          "min": 418953,
          "release_year": 1993
         },
         {
          "country": "France",
          "index": 116,
          "min": 1877179,
          "release_year": 1995
         },
         {
          "country": "France",
          "index": 117,
          "min": 1292527,
          "release_year": 1996
         },
         {
          "country": "France",
          "index": 118,
          "min": 231417,
          "release_year": 1997
         },
         {
          "country": "France",
          "index": 119,
          "min": 146072,
          "release_year": 1998
         },
         {
          "country": "France",
          "index": 120,
          "min": 144583,
          "release_year": 1999
         },
         {
          "country": "France",
          "index": 121,
          "min": 1276984,
          "release_year": 2000
         },
         {
          "country": "France",
          "index": 122,
          "min": 81525,
          "release_year": 2001
         },
         {
          "country": "France",
          "index": 123,
          "min": 274299,
          "release_year": 2002
         },
         {
          "country": "France",
          "index": 124,
          "min": 181798,
          "release_year": 2003
         },
         {
          "country": "France",
          "index": 125,
          "min": 136007,
          "release_year": 2004
         },
         {
          "country": "France",
          "index": 126,
          "min": 77231,
          "release_year": 2005
         },
         {
          "country": "France",
          "index": 127,
          "min": 18435,
          "release_year": 2006
         },
         {
          "country": "France",
          "index": 128,
          "min": 634277,
          "release_year": 2007
         },
         {
          "country": "France",
          "index": 129,
          "min": 3766595,
          "release_year": 2008
         },
         {
          "country": "France",
          "index": 130,
          "min": 2874,
          "release_year": 2009
         },
         {
          "country": "France",
          "index": 131,
          "min": 98017,
          "release_year": 2010
         },
         {
          "country": "France",
          "index": 132,
          "min": 171320,
          "release_year": 2011
         },
         {
          "country": "France",
          "index": 133,
          "min": 12843,
          "release_year": 2012
         },
         {
          "country": "France",
          "index": 134,
          "min": 41229,
          "release_year": 2013
         },
         {
          "country": "France",
          "index": 135,
          "min": 106869,
          "release_year": 2014
         },
         {
          "country": "France",
          "index": 136,
          "min": 1339152,
          "release_year": 2015
         },
         {
          "country": "France",
          "index": 137,
          "min": 1330827,
          "release_year": 2016
         },
         {
          "country": "France",
          "index": 138,
          "min": 145118,
          "release_year": null
         },
         {
          "country": "Georgia",
          "index": 139,
          "min": 17149,
          "release_year": 2011
         },
         {
          "country": "Germany",
          "index": 140,
          "min": 26435,
          "release_year": 1927
         },
         {
          "country": "Germany",
          "index": 141,
          "min": 9950,
          "release_year": 1929
         },
         {
          "country": "Germany",
          "index": 142,
          "min": 1789892,
          "release_year": 1998
         },
         {
          "country": "Germany",
          "index": 143,
          "min": 927107,
          "release_year": 1999
         },
         {
          "country": "Germany",
          "index": 144,
          "min": 5725,
          "release_year": 2000
         },
         {
          "country": "Germany",
          "index": 145,
          "min": 22723,
          "release_year": 2001
         },
         {
          "country": "Germany",
          "index": 146,
          "min": 15361537,
          "release_year": 2002
         },
         {
          "country": "Germany",
          "index": 147,
          "min": 4063859,
          "release_year": 2003
         },
         {
          "country": "Germany",
          "index": 148,
          "min": 16066,
          "release_year": 2004
         },
         {
          "country": "Germany",
          "index": 149,
          "min": 84689,
          "release_year": 2005
         },
         {
          "country": "Germany",
          "index": 150,
          "min": 721,
          "release_year": 2006
         },
         {
          "country": "Germany",
          "index": 151,
          "min": 214202,
          "release_year": 2007
         },
         {
          "country": "Germany",
          "index": 152,
          "min": 476270,
          "release_year": 2008
         },
         {
          "country": "Germany",
          "index": 153,
          "min": 274385,
          "release_year": 2009
         },
         {
          "country": "Germany",
          "index": 154,
          "min": 59774,
          "release_year": 2010
         },
         {
          "country": "Germany",
          "index": 155,
          "min": 22000,
          "release_year": 2011
         },
         {
          "country": "Germany",
          "index": 156,
          "min": 27098580,
          "release_year": 2012
         },
         {
          "country": "Germany",
          "index": 157,
          "min": 55682070,
          "release_year": 2013
         },
         {
          "country": "Germany",
          "index": 158,
          "min": null,
          "release_year": 2015
         },
         {
          "country": "Greece",
          "index": 159,
          "min": 110197,
          "release_year": 2009
         },
         {
          "country": "Greece",
          "index": 160,
          "min": 3707794,
          "release_year": 2016
         },
         {
          "country": "Hong Kong",
          "index": 161,
          "min": 11546543,
          "release_year": 1994
         },
         {
          "country": "Hong Kong",
          "index": 162,
          "min": 32333860,
          "release_year": 1995
         },
         {
          "country": "Hong Kong",
          "index": 163,
          "min": 12674183,
          "release_year": 1997
         },
         {
          "country": "Hong Kong",
          "index": 164,
          "min": 488872,
          "release_year": 2001
         },
         {
          "country": "Hong Kong",
          "index": 165,
          "min": 22108977,
          "release_year": 2003
         },
         {
          "country": "Hong Kong",
          "index": 166,
          "min": 261481,
          "release_year": 2004
         },
         {
          "country": "Hong Kong",
          "index": 167,
          "min": 49413,
          "release_year": 2006
         },
         {
          "country": "Hong Kong",
          "index": 168,
          "min": 128978,
          "release_year": 2007
         },
         {
          "country": "Hong Kong",
          "index": 169,
          "min": 206678,
          "release_year": 2008
         },
         {
          "country": "Hong Kong",
          "index": 170,
          "min": 19548064,
          "release_year": 2009
         },
         {
          "country": "Hong Kong",
          "index": 171,
          "min": 6594136,
          "release_year": 2013
         },
         {
          "country": "Hong Kong",
          "index": 172,
          "min": null,
          "release_year": 2014
         },
         {
          "country": "Hong Kong",
          "index": 173,
          "min": 2126511,
          "release_year": 2015
         },
         {
          "country": "Hungary",
          "index": 174,
          "min": 195888,
          "release_year": 2005
         },
         {
          "country": "Hungary",
          "index": 175,
          "min": 23179303,
          "release_year": 2011
         },
         {
          "country": "Iceland",
          "index": 176,
          "min": 19959,
          "release_year": 2009
         },
         {
          "country": "Iceland",
          "index": 177,
          "min": 11835,
          "release_year": 2013
         },
         {
          "country": "Iceland",
          "index": 178,
          "min": null,
          "release_year": null
         },
         {
          "country": "India",
          "index": 179,
          "min": 528972,
          "release_year": 1998
         },
         {
          "country": "India",
          "index": 180,
          "min": 610991,
          "release_year": 2000
         },
         {
          "country": "India",
          "index": 181,
          "min": 16892,
          "release_year": 2001
         },
         {
          "country": "India",
          "index": 182,
          "min": 2921738,
          "release_year": 2004
         },
         {
          "country": "India",
          "index": 183,
          "min": 49000,
          "release_year": 2005
         },
         {
          "country": "India",
          "index": 184,
          "min": 2197331,
          "release_year": 2006
         },
         {
          "country": "India",
          "index": 185,
          "min": 240425,
          "release_year": 2007
         },
         {
          "country": "India",
          "index": 186,
          "min": 55202,
          "release_year": 2008
         },
         {
          "country": "India",
          "index": 187,
          "min": 199228,
          "release_year": 2009
         },
         {
          "country": "India",
          "index": 188,
          "min": 1165104,
          "release_year": 2010
         },
         {
          "country": "India",
          "index": 189,
          "min": 563699,
          "release_year": 2011
         },
         {
          "country": "India",
          "index": 190,
          "min": 352684,
          "release_year": 2012
         },
         {
          "country": "India",
          "index": 191,
          "min": 95236,
          "release_year": 2013
         },
         {
          "country": "India",
          "index": 192,
          "min": null,
          "release_year": 2014
         },
         {
          "country": "India",
          "index": 193,
          "min": 6498000,
          "release_year": 2015
         },
         {
          "country": "India",
          "index": 194,
          "min": null,
          "release_year": 2016
         },
         {
          "country": "Indonesia",
          "index": 195,
          "min": 4105123,
          "release_year": 2011
         },
         {
          "country": "Iran",
          "index": 196,
          "min": 1000000,
          "release_year": 1978
         },
         {
          "country": "Iran",
          "index": 197,
          "min": 925402,
          "release_year": 1997
         },
         {
          "country": "Iran",
          "index": 198,
          "min": 673780,
          "release_year": 2000
         },
         {
          "country": "Iran",
          "index": 199,
          "min": 7098492,
          "release_year": 2011
         },
         {
          "country": "Ireland",
          "index": 200,
          "min": 1569918,
          "release_year": 2003
         },
         {
          "country": "Ireland",
          "index": 201,
          "min": 17848322,
          "release_year": 2004
         },
         {
          "country": "Ireland",
          "index": 202,
          "min": 1829142,
          "release_year": 2006
         },
         {
          "country": "Ireland",
          "index": 203,
          "min": 9437933,
          "release_year": 2007
         },
         {
          "country": "Ireland",
          "index": 204,
          "min": 828,
          "release_year": 2009
         },
         {
          "country": "Ireland",
          "index": 205,
          "min": 5359774,
          "release_year": 2011
         },
         {
          "country": "Ireland",
          "index": 206,
          "min": null,
          "release_year": 2012
         },
         {
          "country": "Ireland",
          "index": 207,
          "min": 14677654,
          "release_year": 2015
         },
         {
          "country": "Israel",
          "index": 208,
          "min": 155972,
          "release_year": 2006
         },
         {
          "country": "Israel",
          "index": 209,
          "min": 2283276,
          "release_year": 2008
         },
         {
          "country": "Israel",
          "index": 210,
          "min": 2408553,
          "release_year": 2012
         },
         {
          "country": "Israel",
          "index": 211,
          "min": 34151,
          "release_year": 2015
         },
         {
          "country": "Italy",
          "index": 212,
          "min": 3500000,
          "release_year": 1964
         },
         {
          "country": "Italy",
          "index": 213,
          "min": 6100000,
          "release_year": 1966
         },
         {
          "country": "Italy",
          "index": 214,
          "min": null,
          "release_year": 1968
         },
         {
          "country": "Italy",
          "index": 215,
          "min": null,
          "release_year": 1969
         },
         {
          "country": "Italy",
          "index": 216,
          "min": null,
          "release_year": 1970
         },
         {
          "country": "Italy",
          "index": 217,
          "min": 126387,
          "release_year": 1981
         },
         {
          "country": "Italy",
          "index": 218,
          "min": 5300000,
          "release_year": 1984
         },
         {
          "country": "Italy",
          "index": 219,
          "min": null,
          "release_year": 1988
         },
         {
          "country": "Italy",
          "index": 220,
          "min": 349618,
          "release_year": 1990
         },
         {
          "country": "Italy",
          "index": 221,
          "min": 14348123,
          "release_year": 1999
         },
         {
          "country": "Italy",
          "index": 222,
          "min": null,
          "release_year": 2002
         },
         {
          "country": "Italy",
          "index": 223,
          "min": 223878,
          "release_year": 2003
         },
         {
          "country": "Italy",
          "index": 224,
          "min": 23106,
          "release_year": 2004
         },
         {
          "country": "Italy",
          "index": 225,
          "min": null,
          "release_year": 2007
         },
         {
          "country": "Italy",
          "index": 226,
          "min": 5004648,
          "release_year": 2009
         },
         {
          "country": "Italy",
          "index": 227,
          "min": null,
          "release_year": 2010
         },
         {
          "country": "Italy",
          "index": 228,
          "min": 85433,
          "release_year": 2013
         },
         {
          "country": "Italy",
          "index": 229,
          "min": null,
          "release_year": 2015
         },
         {
          "country": "Japan",
          "index": 230,
          "min": 269061,
          "release_year": 1954
         },
         {
          "country": "Japan",
          "index": 231,
          "min": 14500000,
          "release_year": 1970
         },
         {
          "country": "Japan",
          "index": 232,
          "min": 439162,
          "release_year": 1988
         },
         {
          "country": "Japan",
          "index": 233,
          "min": 48856,
          "release_year": 1993
         },
         {
          "country": "Japan",
          "index": 234,
          "min": 33423521,
          "release_year": 1994
         },
         {
          "country": "Japan",
          "index": 235,
          "min": 18636537,
          "release_year": 1995
         },
         {
          "country": "Japan",
          "index": 236,
          "min": 94596,
          "release_year": 1997
         },
         {
          "country": "Japan",
          "index": 237,
          "min": 10037390,
          "release_year": 1999
         },
         {
          "country": "Japan",
          "index": 238,
          "min": null,
          "release_year": 2000
         },
         {
          "country": "Japan",
          "index": 239,
          "min": 10049886,
          "release_year": 2001
         },
         {
          "country": "Japan",
          "index": 240,
          "min": 410388,
          "release_year": 2004
         },
         {
          "country": "Japan",
          "index": 241,
          "min": 15081783,
          "release_year": 2008
         },
         {
          "country": "Japan",
          "index": 242,
          "min": 22770,
          "release_year": 2013
         },
         {
          "country": "Japan",
          "index": 243,
          "min": 110008260,
          "release_year": 2015
         },
         {
          "country": "Japan",
          "index": 244,
          "min": 323505540,
          "release_year": 2016
         },
         {
          "country": "Japan",
          "index": 245,
          "min": null,
          "release_year": null
         },
         {
          "country": "Kenya",
          "index": 246,
          "min": null,
          "release_year": 2014
         },
         {
          "country": "Kyrgyzstan",
          "index": 247,
          "min": null,
          "release_year": 2014
         },
         {
          "country": "Libya",
          "index": 248,
          "min": null,
          "release_year": 1980
         },
         {
          "country": "Mexico",
          "index": 249,
          "min": 886410,
          "release_year": 1998
         },
         {
          "country": "Mexico",
          "index": 250,
          "min": 5383834,
          "release_year": 2000
         },
         {
          "country": "Mexico",
          "index": 251,
          "min": 13622333,
          "release_year": 2001
         },
         {
          "country": "Mexico",
          "index": 252,
          "min": 5709616,
          "release_year": 2002
         },
         {
          "country": "Mexico",
          "index": 253,
          "min": 12589108,
          "release_year": 2007
         },
         {
          "country": "Mexico",
          "index": 254,
          "min": 5100937,
          "release_year": 2010
         },
         {
          "country": "Mexico",
          "index": 255,
          "min": 1391770,
          "release_year": 2011
         },
         {
          "country": "Mexico",
          "index": 256,
          "min": 5669081,
          "release_year": 2012
         },
         {
          "country": "Mexico",
          "index": 257,
          "min": 11278,
          "release_year": 2013
         },
         {
          "country": "Mexico",
          "index": 258,
          "min": 6420319,
          "release_year": 2015
         },
         {
          "country": "Mexico",
          "index": 259,
          "min": 3105269,
          "release_year": 2016
         },
         {
          "country": "Netherlands",
          "index": 260,
          "min": null,
          "release_year": 1985
         },
         {
          "country": "Netherlands",
          "index": 261,
          "min": null,
          "release_year": 1996
         },
         {
          "country": "Netherlands",
          "index": 262,
          "min": 713413,
          "release_year": 1997
         },
         {
          "country": "Netherlands",
          "index": 263,
          "min": 4398392,
          "release_year": 2006
         },
         {
          "country": "Netherlands",
          "index": 264,
          "min": 542860,
          "release_year": 2008
         },
         {
          "country": "New Line",
          "index": 265,
          "min": 6712451,
          "release_year": 2001
         },
         {
          "country": "New Zealand",
          "index": 266,
          "min": 40158000,
          "release_year": 1993
         },
         {
          "country": "New Zealand",
          "index": 267,
          "min": 3049135,
          "release_year": 1994
         },
         {
          "country": "New Zealand",
          "index": 268,
          "min": 313837577,
          "release_year": 2001
         },
         {
          "country": "New Zealand",
          "index": 269,
          "min": 20772796,
          "release_year": 2002
         },
         {
          "country": "New Zealand",
          "index": 270,
          "min": 5128124,
          "release_year": 2005
         },
         {
          "country": "New Zealand",
          "index": 271,
          "min": 728,
          "release_year": 2006
         },
         {
          "country": "New Zealand",
          "index": 272,
          "min": 5664251,
          "release_year": 2010
         },
         {
          "country": "New Zealand",
          "index": 273,
          "min": 287761,
          "release_year": 2013
         },
         {
          "country": "New Zealand",
          "index": 274,
          "min": 255108370,
          "release_year": 2014
         },
         {
          "country": "New Zealand",
          "index": 275,
          "min": null,
          "release_year": 2015
         },
         {
          "country": "Nigeria",
          "index": 276,
          "min": null,
          "release_year": 2012
         },
         {
          "country": "Norway",
          "index": 277,
          "min": null,
          "release_year": 1990
         },
         {
          "country": "Norway",
          "index": 278,
          "min": 313436,
          "release_year": 2001
         },
         {
          "country": "Norway",
          "index": 279,
          "min": 41709,
          "release_year": 2009
         },
         {
          "country": "Norway",
          "index": 280,
          "min": 252652,
          "release_year": 2010
         },
         {
          "country": "Norway",
          "index": 281,
          "min": 1196752,
          "release_year": 2011
         },
         {
          "country": "Norway",
          "index": 282,
          "min": null,
          "release_year": 2014
         },
         {
          "country": "Pakistan",
          "index": 283,
          "min": null,
          "release_year": 2015
         },
         {
          "country": "Panama",
          "index": 284,
          "min": null,
          "release_year": 2016
         },
         {
          "country": "Peru",
          "index": 285,
          "min": 57362581,
          "release_year": 1994
         },
         {
          "country": "Philippines",
          "index": 286,
          "min": 70071,
          "release_year": 2005
         },
         {
          "country": "Poland",
          "index": 287,
          "min": 978908,
          "release_year": 2006
         },
         {
          "country": "Poland",
          "index": 288,
          "min": 3826455,
          "release_year": 2013
         },
         {
          "country": "Poland",
          "index": 289,
          "min": null,
          "release_year": null
         },
         {
          "country": "Romania",
          "index": 290,
          "min": 17016190,
          "release_year": 2004
         },
         {
          "country": "Romania",
          "index": 291,
          "min": 1185783,
          "release_year": 2007
         },
         {
          "country": "Romania",
          "index": 292,
          "min": null,
          "release_year": 2014
         },
         {
          "country": "Romania",
          "index": 293,
          "min": null,
          "release_year": 2015
         },
         {
          "country": "Russia",
          "index": 294,
          "min": 502028,
          "release_year": 2003
         },
         {
          "country": "Russia",
          "index": 295,
          "min": 1487477,
          "release_year": 2004
         },
         {
          "country": "Russia",
          "index": 296,
          "min": 5701643,
          "release_year": 2007
         },
         {
          "country": "Russia",
          "index": 297,
          "min": null,
          "release_year": 2009
         },
         {
          "country": "Russia",
          "index": 298,
          "min": null,
          "release_year": 2010
         },
         {
          "country": "Russia",
          "index": 299,
          "min": null,
          "release_year": 2012
         },
         {
          "country": "Russia",
          "index": 300,
          "min": 7268659,
          "release_year": 2013
         },
         {
          "country": "Russia",
          "index": 301,
          "min": null,
          "release_year": 2014
         },
         {
          "country": "Russia",
          "index": 302,
          "min": null,
          "release_year": 2015
         },
         {
          "country": "Slovakia",
          "index": 303,
          "min": null,
          "release_year": 2008
         },
         {
          "country": "Slovenia",
          "index": 304,
          "min": null,
          "release_year": 2015
         },
         {
          "country": "South Africa",
          "index": 305,
          "min": null,
          "release_year": 2006
         },
         {
          "country": "South Africa",
          "index": 306,
          "min": 4958,
          "release_year": 2008
         },
         {
          "country": "South Africa",
          "index": 307,
          "min": 115646235,
          "release_year": 2009
         },
         {
          "country": "South Africa",
          "index": 308,
          "min": null,
          "release_year": 2011
         },
         {
          "country": "South Africa",
          "index": 309,
          "min": null,
          "release_year": 2012
         },
         {
          "country": "South Africa",
          "index": 310,
          "min": null,
          "release_year": 2013
         },
         {
          "country": "South Africa",
          "index": 311,
          "min": 45089048,
          "release_year": 2014
         },
         {
          "country": "South Korea",
          "index": 312,
          "min": null,
          "release_year": 1981
         },
         {
          "country": "South Korea",
          "index": 313,
          "min": 2181290,
          "release_year": 2003
         },
         {
          "country": "South Korea",
          "index": 314,
          "min": 1110186,
          "release_year": 2004
         },
         {
          "country": "South Korea",
          "index": 315,
          "min": 211667,
          "release_year": 2005
         },
         {
          "country": "South Korea",
          "index": 316,
          "min": 2201412,
          "release_year": 2006
         },
         {
          "country": "South Korea",
          "index": 317,
          "min": 10956379,
          "release_year": 2007
         },
         {
          "country": "South Korea",
          "index": 318,
          "min": 128486,
          "release_year": 2008
         },
         {
          "country": "South Korea",
          "index": 319,
          "min": null,
          "release_year": 2009
         },
         {
          "country": "South Korea",
          "index": 320,
          "min": 163591,
          "release_year": 2010
         },
         {
          "country": "South Korea",
          "index": 321,
          "min": 4563029,
          "release_year": 2013
         },
         {
          "country": "South Korea",
          "index": 322,
          "min": null,
          "release_year": 2014
         },
         {
          "country": "South Korea",
          "index": 323,
          "min": 31662,
          "release_year": 2016
         },
         {
          "country": "Soviet Union",
          "index": 324,
          "min": null,
          "release_year": 1972
         },
         {
          "country": "Spain",
          "index": 325,
          "min": 836641,
          "release_year": 1998
         },
         {
          "country": "Spain",
          "index": 326,
          "min": 229311,
          "release_year": 1999
         },
         {
          "country": "Spain",
          "index": 327,
          "min": 146402,
          "release_year": 2002
         },
         {
          "country": "Spain",
          "index": 328,
          "min": 395592,
          "release_year": 2003
         },
         {
          "country": "Spain",
          "index": 329,
          "min": 1082044,
          "release_year": 2004
         },
         {
          "country": "Spain",
          "index": 330,
          "min": 12899702,
          "release_year": 2006
         },
         {
          "country": "Spain",
          "index": 331,
          "min": 38108,
          "release_year": 2007
         },
         {
          "country": "Spain",
          "index": 332,
          "min": 3607,
          "release_year": 2008
         },
         {
          "country": "Spain",
          "index": 333,
          "min": 27024,
          "release_year": 2009
         },
         {
          "country": "Spain",
          "index": 334,
          "min": 1028658,
          "release_year": 2010
         },
         {
          "country": "Spain",
          "index": 335,
          "min": 199652,
          "release_year": 2011
         },
         {
          "country": "Spain",
          "index": 336,
          "min": 18996755,
          "release_year": 2012
         },
         {
          "country": "Spain",
          "index": 337,
          "min": null,
          "release_year": 2013
         },
         {
          "country": "Spain",
          "index": 338,
          "min": 52961,
          "release_year": 2014
         },
         {
          "country": "Spain",
          "index": 339,
          "min": 54734,
          "release_year": 2015
         },
         {
          "country": "Sweden",
          "index": 340,
          "min": null,
          "release_year": 1972
         },
         {
          "country": "Sweden",
          "index": 341,
          "min": 181655,
          "release_year": 2002
         },
         {
          "country": "Sweden",
          "index": 342,
          "min": 9910,
          "release_year": 2004
         },
         {
          "country": "Sweden",
          "index": 343,
          "min": null,
          "release_year": 2007
         },
         {
          "country": "Sweden",
          "index": 344,
          "min": 188870,
          "release_year": 2010
         },
         {
          "country": "Sweden",
          "index": 345,
          "min": null,
          "release_year": null
         },
         {
          "country": "Switzerland",
          "index": 346,
          "min": null,
          "release_year": 1991
         },
         {
          "country": "Switzerland",
          "index": 347,
          "min": null,
          "release_year": 2009
         },
         {
          "country": "Switzerland",
          "index": 348,
          "min": null,
          "release_year": 2014
         },
         {
          "country": "Taiwan",
          "index": 349,
          "min": 128067808,
          "release_year": 2000
         },
         {
          "country": "Taiwan",
          "index": 350,
          "min": 613556,
          "release_year": 2015
         },
         {
          "country": "Thailand",
          "index": 351,
          "min": 454255,
          "release_year": 2001
         },
         {
          "country": "Thailand",
          "index": 352,
          "min": 11905519,
          "release_year": 2005
         },
         {
          "country": "Thailand",
          "index": 353,
          "min": 102055,
          "release_year": 2008
         },
         {
          "country": "Thailand",
          "index": 354,
          "min": 549632,
          "release_year": 2013
         },
         {
          "country": "Thailand",
          "index": 355,
          "min": 162,
          "release_year": 2014
         },
         {
          "country": "Turkey",
          "index": 356,
          "min": null,
          "release_year": 2006
         },
         {
          "country": "UK",
          "index": 357,
          "min": 27200000,
          "release_year": 1957
         },
         {
          "country": "UK",
          "index": 358,
          "min": 6000000,
          "release_year": 1962
         },
         {
          "country": "UK",
          "index": 359,
          "min": 24800000,
          "release_year": 1963
         },
         {
          "country": "UK",
          "index": 360,
          "min": 515005,
          "release_year": 1964
         },
         {
          "country": "UK",
          "index": 361,
          "min": 63600000,
          "release_year": 1965
         },
         {
          "country": "UK",
          "index": 362,
          "min": null,
          "release_year": 1966
         },
         {
          "country": "UK",
          "index": 363,
          "min": 43100000,
          "release_year": 1967
         },
         {
          "country": "UK",
          "index": 364,
          "min": 16800000,
          "release_year": 1968
         },
         {
          "country": "UK",
          "index": 365,
          "min": 22800000,
          "release_year": 1969
         },
         {
          "country": "UK",
          "index": 366,
          "min": 43800000,
          "release_year": 1971
         },
         {
          "country": "UK",
          "index": 367,
          "min": null,
          "release_year": 1972
         },
         {
          "country": "UK",
          "index": 368,
          "min": 35400000,
          "release_year": 1973
         },
         {
          "country": "UK",
          "index": 369,
          "min": 21000000,
          "release_year": 1974
         },
         {
          "country": "UK",
          "index": 370,
          "min": 1229197,
          "release_year": 1975
         },
         {
          "country": "UK",
          "index": 371,
          "min": null,
          "release_year": 1976
         },
         {
          "country": "UK",
          "index": 372,
          "min": 1000000,
          "release_year": 1977
         },
         {
          "country": "UK",
          "index": 373,
          "min": null,
          "release_year": 1978
         },
         {
          "country": "UK",
          "index": 374,
          "min": 62700000,
          "release_year": 1979
         },
         {
          "country": "UK",
          "index": 375,
          "min": 7000000,
          "release_year": 1980
         },
         {
          "country": "UK",
          "index": 376,
          "min": 25244700,
          "release_year": 1981
         },
         {
          "country": "UK",
          "index": 377,
          "min": null,
          "release_year": 1982
         },
         {
          "country": "UK",
          "index": 378,
          "min": 30400000,
          "release_year": 1983
         },
         {
          "country": "UK",
          "index": 379,
          "min": 5100000,
          "release_year": 1984
         },
         {
          "country": "UK",
          "index": 380,
          "min": 9929000,
          "release_year": 1985
         },
         {
          "country": "UK",
          "index": 381,
          "min": 2315683,
          "release_year": 1986
         },
         {
          "country": "UK",
          "index": 382,
          "min": 3130592,
          "release_year": 1987
         },
         {
          "country": "UK",
          "index": 383,
          "min": 10161099,
          "release_year": 1989
         },
         {
          "country": "UK",
          "index": 384,
          "min": 5430822,
          "release_year": 1992
         },
         {
          "country": "UK",
          "index": 385,
          "min": 669276,
          "release_year": 1993
         },
         {
          "country": "UK",
          "index": 386,
          "min": 2869369,
          "release_year": 1994
         },
         {
          "country": "UK",
          "index": 387,
          "min": 2600000,
          "release_year": 1995
         },
         {
          "country": "UK",
          "index": 388,
          "min": 1277257,
          "release_year": 1996
         },
         {
          "country": "UK",
          "index": 389,
          "min": 302204,
          "release_year": 1997
         },
         {
          "country": "UK",
          "index": 390,
          "min": 64359,
          "release_year": 1998
         },
         {
          "country": "UK",
          "index": 391,
          "min": 18434,
          "release_year": 1999
         },
         {
          "country": "UK",
          "index": 392,
          "min": 64148,
          "release_year": 2000
         },
         {
          "country": "UK",
          "index": 393,
          "min": 54606,
          "release_year": 2001
         },
         {
          "country": "UK",
          "index": 394,
          "min": 112935,
          "release_year": 2002
         },
         {
          "country": "UK",
          "index": 395,
          "min": 197148,
          "release_year": 2003
         },
         {
          "country": "UK",
          "index": 396,
          "min": 6013,
          "release_year": 2004
         },
         {
          "country": "UK",
          "index": 397,
          "min": 12667,
          "release_year": 2005
         },
         {
          "country": "UK",
          "index": 398,
          "min": 136432,
          "release_year": 2006
         },
         {
          "country": "UK",
          "index": 399,
          "min": 871577,
          "release_year": 2007
         },
         {
          "country": "UK",
          "index": 400,
          "min": 5824,
          "release_year": 2008
         },
         {
          "country": "UK",
          "index": 401,
          "min": 9609,
          "release_year": 2009
         },
         {
          "country": "UK",
          "index": 402,
          "min": 117190,
          "release_year": 2010
         },
         {
          "country": "UK",
          "index": 403,
          "min": 26297,
          "release_year": 2011
         },
         {
          "country": "UK",
          "index": 404,
          "min": 26345,
          "release_year": 2012
         },
         {
          "country": "UK",
          "index": 405,
          "min": 4756,
          "release_year": 2013
         },
         {
          "country": "UK",
          "index": 406,
          "min": 10230,
          "release_year": 2014
         },
         {
          "country": "UK",
          "index": 407,
          "min": 229094,
          "release_year": 2015
         },
         {
          "country": "UK",
          "index": 408,
          "min": 3108216,
          "release_year": 2016
         },
         {
          "country": "UK",
          "index": 409,
          "min": null,
          "release_year": null
         },
         {
          "country": "United Arab Emirates",
          "index": 410,
          "min": null,
          "release_year": 2013
         },
         {
          "country": "USA",
          "index": 411,
          "min": null,
          "release_year": 1916
         },
         {
          "country": "USA",
          "index": 412,
          "min": 3000000,
          "release_year": 1920
         },
         {
          "country": "USA",
          "index": 413,
          "min": null,
          "release_year": 1925
         },
         {
          "country": "USA",
          "index": 414,
          "min": 2808000,
          "release_year": 1929
         },
         {
          "country": "USA",
          "index": 415,
          "min": null,
          "release_year": 1930
         },
         {
          "country": "USA",
          "index": 416,
          "min": null,
          "release_year": 1932
         },
         {
          "country": "USA",
          "index": 417,
          "min": 2300000,
          "release_year": 1933
         },
         {
          "country": "USA",
          "index": 418,
          "min": null,
          "release_year": 1934
         },
         {
          "country": "USA",
          "index": 419,
          "min": 3000000,
          "release_year": 1935
         },
         {
          "country": "USA",
          "index": 420,
          "min": 163245,
          "release_year": 1936
         },
         {
          "country": "USA",
          "index": 421,
          "min": 184925485,
          "release_year": 1937
         },
         {
          "country": "USA",
          "index": 422,
          "min": null,
          "release_year": 1938
         },
         {
          "country": "USA",
          "index": 423,
          "min": 22202612,
          "release_year": 1939
         },
         {
          "country": "USA",
          "index": 424,
          "min": 76400000,
          "release_year": 1940
         },
         {
          "country": "USA",
          "index": 425,
          "min": null,
          "release_year": 1941
         },
         {
          "country": "USA",
          "index": 426,
          "min": 102797150,
          "release_year": 1942
         },
         {
          "country": "USA",
          "index": 427,
          "min": null,
          "release_year": 1943
         },
         {
          "country": "USA",
          "index": 428,
          "min": null,
          "release_year": 1944
         },
         {
          "country": "USA",
          "index": 429,
          "min": null,
          "release_year": 1945
         },
         {
          "country": "USA",
          "index": 430,
          "min": 20400000,
          "release_year": 1946
         },
         {
          "country": "USA",
          "index": 431,
          "min": 7927,
          "release_year": 1947
         },
         {
          "country": "USA",
          "index": 432,
          "min": 2956000,
          "release_year": 1948
         },
         {
          "country": "USA",
          "index": 433,
          "min": null,
          "release_year": 1949
         },
         {
          "country": "USA",
          "index": 434,
          "min": 8000000,
          "release_year": 1950
         },
         {
          "country": "USA",
          "index": 435,
          "min": null,
          "release_year": 1951
         },
         {
          "country": "USA",
          "index": 436,
          "min": 36000000,
          "release_year": 1952
         },
         {
          "country": "USA",
          "index": 437,
          "min": 5000000,
          "release_year": 1953
         },
         {
          "country": "USA",
          "index": 438,
          "min": 9600000,
          "release_year": 1954
         },
         {
          "country": "USA",
          "index": 439,
          "min": null,
          "release_year": 1955
         },
         {
          "country": "USA",
          "index": 440,
          "min": null,
          "release_year": 1956
         },
         {
          "country": "USA",
          "index": 441,
          "min": null,
          "release_year": 1957
         },
         {
          "country": "USA",
          "index": 442,
          "min": null,
          "release_year": 1958
         },
         {
          "country": "USA",
          "index": 443,
          "min": 25000000,
          "release_year": 1959
         },
         {
          "country": "USA",
          "index": 444,
          "min": 32000000,
          "release_year": 1960
         },
         {
          "country": "USA",
          "index": 445,
          "min": 43650000,
          "release_year": 1961
         },
         {
          "country": "USA",
          "index": 446,
          "min": null,
          "release_year": 1962
         },
         {
          "country": "USA",
          "index": 447,
          "min": 46300000,
          "release_year": 1963
         },
         {
          "country": "USA",
          "index": 448,
          "min": 12438,
          "release_year": 1964
         },
         {
          "country": "USA",
          "index": 449,
          "min": 14873,
          "release_year": 1965
         },
         {
          "country": "USA",
          "index": 450,
          "min": null,
          "release_year": 1966
         },
         {
          "country": "USA",
          "index": 451,
          "min": null,
          "release_year": 1967
         },
         {
          "country": "USA",
          "index": 452,
          "min": null,
          "release_year": 1968
         },
         {
          "country": "USA",
          "index": 453,
          "min": 102308900,
          "release_year": 1969
         },
         {
          "country": "USA",
          "index": 454,
          "min": 5000000,
          "release_year": 1970
         },
         {
          "country": "USA",
          "index": 455,
          "min": 8231,
          "release_year": 1971
         },
         {
          "country": "USA",
          "index": 456,
          "min": 180483,
          "release_year": 1972
         },
         {
          "country": "USA",
          "index": 457,
          "min": 32645,
          "release_year": 1973
         },
         {
          "country": "USA",
          "index": 458,
          "min": 30859000,
          "release_year": 1974
         },
         {
          "country": "USA",
          "index": 459,
          "min": 112000000,
          "release_year": 1975
         },
         {
          "country": "USA",
          "index": 460,
          "min": 25000000,
          "release_year": 1976
         },
         {
          "country": "USA",
          "index": 461,
          "min": 17000000,
          "release_year": 1977
         },
         {
          "country": "USA",
          "index": 462,
          "min": 321952,
          "release_year": 1978
         },
         {
          "country": "USA",
          "index": 463,
          "min": 29200000,
          "release_year": 1979
         },
         {
          "country": "USA",
          "index": 464,
          "min": 45250,
          "release_year": 1980
         },
         {
          "country": "USA",
          "index": 465,
          "min": 800000,
          "release_year": 1981
         },
         {
          "country": "USA",
          "index": 466,
          "min": 5333658,
          "release_year": 1982
         },
         {
          "country": "USA",
          "index": 467,
          "min": 12200000,
          "release_year": 1983
         },
         {
          "country": "USA",
          "index": 468,
          "min": 15100000,
          "release_year": 1984
         },
         {
          "country": "USA",
          "index": 469,
          "min": 4250320,
          "release_year": 1985
         },
         {
          "country": "USA",
          "index": 470,
          "min": 1953732,
          "release_year": 1986
         },
         {
          "country": "USA",
          "index": 471,
          "min": 354704,
          "release_year": 1987
         },
         {
          "country": "USA",
          "index": 472,
          "min": 1705139,
          "release_year": 1988
         },
         {
          "country": "USA",
          "index": 473,
          "min": 792966,
          "release_year": 1989
         },
         {
          "country": "USA",
          "index": 474,
          "min": 333658,
          "release_year": 1990
         },
         {
          "country": "USA",
          "index": 475,
          "min": 869325,
          "release_year": 1991
         },
         {
          "country": "USA",
          "index": 476,
          "min": 1100000,
          "release_year": 1992
         },
         {
          "country": "USA",
          "index": 477,
          "min": 1001437,
          "release_year": 1993
         },
         {
          "country": "USA",
          "index": 478,
          "min": 125169,
          "release_year": 1994
         },
         {
          "country": "USA",
          "index": 479,
          "min": 529766,
          "release_year": 1995
         },
         {
          "country": "USA",
          "index": 480,
          "min": 22434,
          "release_year": 1996
         },
         {
          "country": "USA",
          "index": 481,
          "min": 5494,
          "release_year": 1997
         },
         {
          "country": "USA",
          "index": 482,
          "min": 10508,
          "release_year": 1998
         },
         {
          "country": "USA",
          "index": 483,
          "min": 7680,
          "release_year": 1999
         },
         {
          "country": "USA",
          "index": 484,
          "min": 12996,
          "release_year": 2000
         },
         {
          "country": "USA",
          "index": 485,
          "min": 703,
          "release_year": 2001
         },
         {
          "country": "USA",
          "index": 486,
          "min": 13134,
          "release_year": 2002
         },
         {
          "country": "USA",
          "index": 487,
          "min": 2580,
          "release_year": 2003
         },
         {
          "country": "USA",
          "index": 488,
          "min": 5199,
          "release_year": 2004
         },
         {
          "country": "USA",
          "index": 489,
          "min": 47111,
          "release_year": 2005
         },
         {
          "country": "USA",
          "index": 490,
          "min": 1111,
          "release_year": 2006
         },
         {
          "country": "USA",
          "index": 491,
          "min": 5561,
          "release_year": 2007
         },
         {
          "country": "USA",
          "index": 492,
          "min": 15542,
          "release_year": 2008
         },
         {
          "country": "USA",
          "index": 493,
          "min": 5005,
          "release_year": 2009
         },
         {
          "country": "USA",
          "index": 494,
          "min": 12561,
          "release_year": 2010
         },
         {
          "country": "USA",
          "index": 495,
          "min": 2245,
          "release_year": 2011
         },
         {
          "country": "USA",
          "index": 496,
          "min": 1332,
          "release_year": 2012
         },
         {
          "country": "USA",
          "index": 497,
          "min": 2843,
          "release_year": 2013
         },
         {
          "country": "USA",
          "index": 498,
          "min": 2468,
          "release_year": 2014
         },
         {
          "country": "USA",
          "index": 499,
          "min": 1711,
          "release_year": 2015
         },
         {
          "country": "USA",
          "index": 500,
          "min": 560512,
          "release_year": 2016
         },
         {
          "country": "USA",
          "index": 501,
          "min": null,
          "release_year": null
         },
         {
          "country": "West Germany",
          "index": 502,
          "min": null,
          "release_year": 1967
         },
         {
          "country": "West Germany",
          "index": 503,
          "min": 11433134,
          "release_year": 1981
         },
         {
          "country": "West Germany",
          "index": 504,
          "min": null,
          "release_year": 1984
         }
        ],
        "schema": {
         "fields": [
          {
           "name": "index",
           "type": "integer"
          },
          {
           "name": "release_year",
           "type": "number"
          },
          {
           "name": "country",
           "type": "string"
          },
          {
           "name": "min",
           "type": "number"
          }
         ],
         "pandas_version": "1.4.0",
         "primaryKey": [
          "index"
         ]
        }
       },
       "total_rows": 505,
       "truncation_type": null
      },
      "text/html": [
       "<div>\n",
       "<style scoped>\n",
       "    .dataframe tbody tr th:only-of-type {\n",
       "        vertical-align: middle;\n",
       "    }\n",
       "\n",
       "    .dataframe tbody tr th {\n",
       "        vertical-align: top;\n",
       "    }\n",
       "\n",
       "    .dataframe thead th {\n",
       "        text-align: right;\n",
       "    }\n",
       "</style>\n",
       "<table border=\"1\" class=\"dataframe\">\n",
       "  <thead>\n",
       "    <tr style=\"text-align: right;\">\n",
       "      <th></th>\n",
       "      <th>release_year</th>\n",
       "      <th>country</th>\n",
       "      <th>min</th>\n",
       "    </tr>\n",
       "  </thead>\n",
       "  <tbody>\n",
       "    <tr>\n",
       "      <th>0</th>\n",
       "      <td>2014.0</td>\n",
       "      <td></td>\n",
       "      <td>NaN</td>\n",
       "    </tr>\n",
       "    <tr>\n",
       "      <th>1</th>\n",
       "      <td>NaN</td>\n",
       "      <td></td>\n",
       "      <td>NaN</td>\n",
       "    </tr>\n",
       "    <tr>\n",
       "      <th>2</th>\n",
       "      <td>2003.0</td>\n",
       "      <td>Afghanistan</td>\n",
       "      <td>1127331.0</td>\n",
       "    </tr>\n",
       "    <tr>\n",
       "      <th>3</th>\n",
       "      <td>2000.0</td>\n",
       "      <td>Argentina</td>\n",
       "      <td>1221261.0</td>\n",
       "    </tr>\n",
       "    <tr>\n",
       "      <th>4</th>\n",
       "      <td>2004.0</td>\n",
       "      <td>Argentina</td>\n",
       "      <td>304124.0</td>\n",
       "    </tr>\n",
       "    <tr>\n",
       "      <th>...</th>\n",
       "      <td>...</td>\n",
       "      <td>...</td>\n",
       "      <td>...</td>\n",
       "    </tr>\n",
       "    <tr>\n",
       "      <th>500</th>\n",
       "      <td>2016.0</td>\n",
       "      <td>USA</td>\n",
       "      <td>560512.0</td>\n",
       "    </tr>\n",
       "    <tr>\n",
       "      <th>501</th>\n",
       "      <td>NaN</td>\n",
       "      <td>USA</td>\n",
       "      <td>NaN</td>\n",
       "    </tr>\n",
       "    <tr>\n",
       "      <th>502</th>\n",
       "      <td>1967.0</td>\n",
       "      <td>West Germany</td>\n",
       "      <td>NaN</td>\n",
       "    </tr>\n",
       "    <tr>\n",
       "      <th>503</th>\n",
       "      <td>1981.0</td>\n",
       "      <td>West Germany</td>\n",
       "      <td>11433134.0</td>\n",
       "    </tr>\n",
       "    <tr>\n",
       "      <th>504</th>\n",
       "      <td>1984.0</td>\n",
       "      <td>West Germany</td>\n",
       "      <td>NaN</td>\n",
       "    </tr>\n",
       "  </tbody>\n",
       "</table>\n",
       "<p>505 rows × 3 columns</p>\n",
       "</div>"
      ],
      "text/plain": [
       "     release_year       country         min\n",
       "0          2014.0                       NaN\n",
       "1             NaN                       NaN\n",
       "2          2003.0   Afghanistan   1127331.0\n",
       "3          2000.0     Argentina   1221261.0\n",
       "4          2004.0     Argentina    304124.0\n",
       "..            ...           ...         ...\n",
       "500        2016.0           USA    560512.0\n",
       "501           NaN           USA         NaN\n",
       "502        1967.0  West Germany         NaN\n",
       "503        1981.0  West Germany  11433134.0\n",
       "504        1984.0  West Germany         NaN\n",
       "\n",
       "[505 rows x 3 columns]"
      ]
     },
     "execution_count": 9,
     "metadata": {},
     "output_type": "execute_result"
    }
   ],
   "source": [
    "select release_year, country, min(gross) from cinema.films group by release_year, country order by country, release_year"
   ]
  },
  {
   "cell_type": "code",
   "execution_count": 11,
   "id": "a8d65d8a-0d51-4f9c-8579-6974b3e19b13",
   "metadata": {
    "customType": "sql",
    "dataFrameVariableName": "df",
    "executionTime": 1278,
    "initial": false,
    "integrationId": "c632441c-e1dc-4637-a56d-10b85efd89be",
    "lastSuccessfullyExecutedCode": "SELECT release_year,count(*) FROM cinema.films GROUP BY release_year HAVING COUNT(title) > 10;",
    "outputsMetadata": {
     "0": {
      "height": 311,
      "type": "dataFrame"
     }
    }
   },
   "outputs": [
    {
     "data": {
      "application/com.datacamp.data-table.v1+json": {
       "table": {
        "data": [
         {
          "count": 31,
          "index": 0,
          "release_year": 1988
         },
         {
          "count": 42,
          "index": 1,
          "release_year": null
         },
         {
          "count": 225,
          "index": 2,
          "release_year": 2008
         },
         {
          "count": 31,
          "index": 3,
          "release_year": 1991
         },
         {
          "count": 33,
          "index": 4,
          "release_year": 1989
         },
         {
          "count": 16,
          "index": 5,
          "release_year": 1977
         },
         {
          "count": 11,
          "index": 6,
          "release_year": 1971
         },
         {
          "count": 31,
          "index": 7,
          "release_year": 1984
         },
         {
          "count": 22,
          "index": 8,
          "release_year": 1983
         },
         {
          "count": 260,
          "index": 9,
          "release_year": 2009
         },
         {
          "count": 221,
          "index": 10,
          "release_year": 2005
         },
         {
          "count": 236,
          "index": 11,
          "release_year": 2013
         },
         {
          "count": 169,
          "index": 12,
          "release_year": 2003
         },
         {
          "count": 226,
          "index": 13,
          "release_year": 2015
         },
         {
          "count": 48,
          "index": 14,
          "release_year": 1993
         },
         {
          "count": 30,
          "index": 15,
          "release_year": 1990
         },
         {
          "count": 209,
          "index": 16,
          "release_year": 2002
         },
         {
          "count": 16,
          "index": 17,
          "release_year": 1979
         },
         {
          "count": 214,
          "index": 18,
          "release_year": 2004
         },
         {
          "count": 118,
          "index": 19,
          "release_year": 1997
         },
         {
          "count": 24,
          "index": 20,
          "release_year": 1980
         },
         {
          "count": 106,
          "index": 21,
          "release_year": 2016
         },
         {
          "count": 26,
          "index": 22,
          "release_year": 1986
         },
         {
          "count": 12,
          "index": 23,
          "release_year": 1970
         },
         {
          "count": 30,
          "index": 24,
          "release_year": 1982
         },
         {
          "count": 70,
          "index": 25,
          "release_year": 1995
         },
         {
          "count": 34,
          "index": 26,
          "release_year": 1992
         },
         {
          "count": 54,
          "index": 27,
          "release_year": 1994
         },
         {
          "count": 252,
          "index": 28,
          "release_year": 2014
         },
         {
          "count": 227,
          "index": 29,
          "release_year": 2010
         },
         {
          "count": 99,
          "index": 30,
          "release_year": 1996
         },
         {
          "count": 32,
          "index": 31,
          "release_year": 1987
         },
         {
          "count": 171,
          "index": 32,
          "release_year": 2000
         },
         {
          "count": 224,
          "index": 33,
          "release_year": 2011
         },
         {
          "count": 29,
          "index": 34,
          "release_year": 1985
         },
         {
          "count": 134,
          "index": 35,
          "release_year": 1998
         },
         {
          "count": 203,
          "index": 36,
          "release_year": 2007
         },
         {
          "count": 33,
          "index": 37,
          "release_year": 1981
         },
         {
          "count": 16,
          "index": 38,
          "release_year": 1978
         },
         {
          "count": 11,
          "index": 39,
          "release_year": 1968
         },
         {
          "count": 238,
          "index": 40,
          "release_year": 2006
         },
         {
          "count": 188,
          "index": 41,
          "release_year": 2001
         },
         {
          "count": 168,
          "index": 42,
          "release_year": 1999
         },
         {
          "count": 220,
          "index": 43,
          "release_year": 2012
         }
        ],
        "schema": {
         "fields": [
          {
           "name": "index",
           "type": "integer"
          },
          {
           "name": "release_year",
           "type": "number"
          },
          {
           "name": "count",
           "type": "integer"
          }
         ],
         "pandas_version": "1.4.0",
         "primaryKey": [
          "index"
         ]
        }
       },
       "total_rows": 44,
       "truncation_type": null
      },
      "text/html": [
       "<div>\n",
       "<style scoped>\n",
       "    .dataframe tbody tr th:only-of-type {\n",
       "        vertical-align: middle;\n",
       "    }\n",
       "\n",
       "    .dataframe tbody tr th {\n",
       "        vertical-align: top;\n",
       "    }\n",
       "\n",
       "    .dataframe thead th {\n",
       "        text-align: right;\n",
       "    }\n",
       "</style>\n",
       "<table border=\"1\" class=\"dataframe\">\n",
       "  <thead>\n",
       "    <tr style=\"text-align: right;\">\n",
       "      <th></th>\n",
       "      <th>release_year</th>\n",
       "      <th>count</th>\n",
       "    </tr>\n",
       "  </thead>\n",
       "  <tbody>\n",
       "    <tr>\n",
       "      <th>0</th>\n",
       "      <td>1988.0</td>\n",
       "      <td>31</td>\n",
       "    </tr>\n",
       "    <tr>\n",
       "      <th>1</th>\n",
       "      <td>NaN</td>\n",
       "      <td>42</td>\n",
       "    </tr>\n",
       "    <tr>\n",
       "      <th>2</th>\n",
       "      <td>2008.0</td>\n",
       "      <td>225</td>\n",
       "    </tr>\n",
       "    <tr>\n",
       "      <th>3</th>\n",
       "      <td>1991.0</td>\n",
       "      <td>31</td>\n",
       "    </tr>\n",
       "    <tr>\n",
       "      <th>4</th>\n",
       "      <td>1989.0</td>\n",
       "      <td>33</td>\n",
       "    </tr>\n",
       "    <tr>\n",
       "      <th>5</th>\n",
       "      <td>1977.0</td>\n",
       "      <td>16</td>\n",
       "    </tr>\n",
       "    <tr>\n",
       "      <th>6</th>\n",
       "      <td>1971.0</td>\n",
       "      <td>11</td>\n",
       "    </tr>\n",
       "    <tr>\n",
       "      <th>7</th>\n",
       "      <td>1984.0</td>\n",
       "      <td>31</td>\n",
       "    </tr>\n",
       "    <tr>\n",
       "      <th>8</th>\n",
       "      <td>1983.0</td>\n",
       "      <td>22</td>\n",
       "    </tr>\n",
       "    <tr>\n",
       "      <th>9</th>\n",
       "      <td>2009.0</td>\n",
       "      <td>260</td>\n",
       "    </tr>\n",
       "    <tr>\n",
       "      <th>10</th>\n",
       "      <td>2005.0</td>\n",
       "      <td>221</td>\n",
       "    </tr>\n",
       "    <tr>\n",
       "      <th>11</th>\n",
       "      <td>2013.0</td>\n",
       "      <td>236</td>\n",
       "    </tr>\n",
       "    <tr>\n",
       "      <th>12</th>\n",
       "      <td>2003.0</td>\n",
       "      <td>169</td>\n",
       "    </tr>\n",
       "    <tr>\n",
       "      <th>13</th>\n",
       "      <td>2015.0</td>\n",
       "      <td>226</td>\n",
       "    </tr>\n",
       "    <tr>\n",
       "      <th>14</th>\n",
       "      <td>1993.0</td>\n",
       "      <td>48</td>\n",
       "    </tr>\n",
       "    <tr>\n",
       "      <th>15</th>\n",
       "      <td>1990.0</td>\n",
       "      <td>30</td>\n",
       "    </tr>\n",
       "    <tr>\n",
       "      <th>16</th>\n",
       "      <td>2002.0</td>\n",
       "      <td>209</td>\n",
       "    </tr>\n",
       "    <tr>\n",
       "      <th>17</th>\n",
       "      <td>1979.0</td>\n",
       "      <td>16</td>\n",
       "    </tr>\n",
       "    <tr>\n",
       "      <th>18</th>\n",
       "      <td>2004.0</td>\n",
       "      <td>214</td>\n",
       "    </tr>\n",
       "    <tr>\n",
       "      <th>19</th>\n",
       "      <td>1997.0</td>\n",
       "      <td>118</td>\n",
       "    </tr>\n",
       "    <tr>\n",
       "      <th>20</th>\n",
       "      <td>1980.0</td>\n",
       "      <td>24</td>\n",
       "    </tr>\n",
       "    <tr>\n",
       "      <th>21</th>\n",
       "      <td>2016.0</td>\n",
       "      <td>106</td>\n",
       "    </tr>\n",
       "    <tr>\n",
       "      <th>22</th>\n",
       "      <td>1986.0</td>\n",
       "      <td>26</td>\n",
       "    </tr>\n",
       "    <tr>\n",
       "      <th>23</th>\n",
       "      <td>1970.0</td>\n",
       "      <td>12</td>\n",
       "    </tr>\n",
       "    <tr>\n",
       "      <th>24</th>\n",
       "      <td>1982.0</td>\n",
       "      <td>30</td>\n",
       "    </tr>\n",
       "    <tr>\n",
       "      <th>25</th>\n",
       "      <td>1995.0</td>\n",
       "      <td>70</td>\n",
       "    </tr>\n",
       "    <tr>\n",
       "      <th>26</th>\n",
       "      <td>1992.0</td>\n",
       "      <td>34</td>\n",
       "    </tr>\n",
       "    <tr>\n",
       "      <th>27</th>\n",
       "      <td>1994.0</td>\n",
       "      <td>54</td>\n",
       "    </tr>\n",
       "    <tr>\n",
       "      <th>28</th>\n",
       "      <td>2014.0</td>\n",
       "      <td>252</td>\n",
       "    </tr>\n",
       "    <tr>\n",
       "      <th>29</th>\n",
       "      <td>2010.0</td>\n",
       "      <td>227</td>\n",
       "    </tr>\n",
       "    <tr>\n",
       "      <th>30</th>\n",
       "      <td>1996.0</td>\n",
       "      <td>99</td>\n",
       "    </tr>\n",
       "    <tr>\n",
       "      <th>31</th>\n",
       "      <td>1987.0</td>\n",
       "      <td>32</td>\n",
       "    </tr>\n",
       "    <tr>\n",
       "      <th>32</th>\n",
       "      <td>2000.0</td>\n",
       "      <td>171</td>\n",
       "    </tr>\n",
       "    <tr>\n",
       "      <th>33</th>\n",
       "      <td>2011.0</td>\n",
       "      <td>224</td>\n",
       "    </tr>\n",
       "    <tr>\n",
       "      <th>34</th>\n",
       "      <td>1985.0</td>\n",
       "      <td>29</td>\n",
       "    </tr>\n",
       "    <tr>\n",
       "      <th>35</th>\n",
       "      <td>1998.0</td>\n",
       "      <td>134</td>\n",
       "    </tr>\n",
       "    <tr>\n",
       "      <th>36</th>\n",
       "      <td>2007.0</td>\n",
       "      <td>203</td>\n",
       "    </tr>\n",
       "    <tr>\n",
       "      <th>37</th>\n",
       "      <td>1981.0</td>\n",
       "      <td>33</td>\n",
       "    </tr>\n",
       "    <tr>\n",
       "      <th>38</th>\n",
       "      <td>1978.0</td>\n",
       "      <td>16</td>\n",
       "    </tr>\n",
       "    <tr>\n",
       "      <th>39</th>\n",
       "      <td>1968.0</td>\n",
       "      <td>11</td>\n",
       "    </tr>\n",
       "    <tr>\n",
       "      <th>40</th>\n",
       "      <td>2006.0</td>\n",
       "      <td>238</td>\n",
       "    </tr>\n",
       "    <tr>\n",
       "      <th>41</th>\n",
       "      <td>2001.0</td>\n",
       "      <td>188</td>\n",
       "    </tr>\n",
       "    <tr>\n",
       "      <th>42</th>\n",
       "      <td>1999.0</td>\n",
       "      <td>168</td>\n",
       "    </tr>\n",
       "    <tr>\n",
       "      <th>43</th>\n",
       "      <td>2012.0</td>\n",
       "      <td>220</td>\n",
       "    </tr>\n",
       "  </tbody>\n",
       "</table>\n",
       "</div>"
      ],
      "text/plain": [
       "    release_year  count\n",
       "0         1988.0     31\n",
       "1            NaN     42\n",
       "2         2008.0    225\n",
       "3         1991.0     31\n",
       "4         1989.0     33\n",
       "5         1977.0     16\n",
       "6         1971.0     11\n",
       "7         1984.0     31\n",
       "8         1983.0     22\n",
       "9         2009.0    260\n",
       "10        2005.0    221\n",
       "11        2013.0    236\n",
       "12        2003.0    169\n",
       "13        2015.0    226\n",
       "14        1993.0     48\n",
       "15        1990.0     30\n",
       "16        2002.0    209\n",
       "17        1979.0     16\n",
       "18        2004.0    214\n",
       "19        1997.0    118\n",
       "20        1980.0     24\n",
       "21        2016.0    106\n",
       "22        1986.0     26\n",
       "23        1970.0     12\n",
       "24        1982.0     30\n",
       "25        1995.0     70\n",
       "26        1992.0     34\n",
       "27        1994.0     54\n",
       "28        2014.0    252\n",
       "29        2010.0    227\n",
       "30        1996.0     99\n",
       "31        1987.0     32\n",
       "32        2000.0    171\n",
       "33        2011.0    224\n",
       "34        1985.0     29\n",
       "35        1998.0    134\n",
       "36        2007.0    203\n",
       "37        1981.0     33\n",
       "38        1978.0     16\n",
       "39        1968.0     11\n",
       "40        2006.0    238\n",
       "41        2001.0    188\n",
       "42        1999.0    168\n",
       "43        2012.0    220"
      ]
     },
     "execution_count": 11,
     "metadata": {},
     "output_type": "execute_result"
    }
   ],
   "source": [
    "SELECT release_year,count(*) FROM cinema.films GROUP BY release_year HAVING COUNT(title) > 10;"
   ]
  },
  {
   "cell_type": "code",
   "execution_count": 12,
   "id": "60dc05d4-7f26-4f2f-bb64-7a279a5d3333",
   "metadata": {
    "customType": "sql",
    "dataFrameVariableName": "df",
    "executionTime": 1178,
    "initial": false,
    "integrationId": "c632441c-e1dc-4637-a56d-10b85efd89be",
    "lastSuccessfullyExecutedCode": "SELECT release_year, COUNT(title) FROM cinema.films GROUP BY release_year HAVING COUNT(title) > 10;"
   },
   "outputs": [
    {
     "data": {
      "application/com.datacamp.data-table.v1+json": {
       "table": {
        "data": [
         {
          "count": 31,
          "index": 0,
          "release_year": 1988
         },
         {
          "count": 42,
          "index": 1,
          "release_year": null
         },
         {
          "count": 225,
          "index": 2,
          "release_year": 2008
         },
         {
          "count": 31,
          "index": 3,
          "release_year": 1991
         },
         {
          "count": 33,
          "index": 4,
          "release_year": 1989
         },
         {
          "count": 16,
          "index": 5,
          "release_year": 1977
         },
         {
          "count": 11,
          "index": 6,
          "release_year": 1971
         },
         {
          "count": 31,
          "index": 7,
          "release_year": 1984
         },
         {
          "count": 22,
          "index": 8,
          "release_year": 1983
         },
         {
          "count": 260,
          "index": 9,
          "release_year": 2009
         },
         {
          "count": 221,
          "index": 10,
          "release_year": 2005
         },
         {
          "count": 236,
          "index": 11,
          "release_year": 2013
         },
         {
          "count": 169,
          "index": 12,
          "release_year": 2003
         },
         {
          "count": 226,
          "index": 13,
          "release_year": 2015
         },
         {
          "count": 48,
          "index": 14,
          "release_year": 1993
         },
         {
          "count": 30,
          "index": 15,
          "release_year": 1990
         },
         {
          "count": 209,
          "index": 16,
          "release_year": 2002
         },
         {
          "count": 16,
          "index": 17,
          "release_year": 1979
         },
         {
          "count": 214,
          "index": 18,
          "release_year": 2004
         },
         {
          "count": 118,
          "index": 19,
          "release_year": 1997
         },
         {
          "count": 24,
          "index": 20,
          "release_year": 1980
         },
         {
          "count": 106,
          "index": 21,
          "release_year": 2016
         },
         {
          "count": 26,
          "index": 22,
          "release_year": 1986
         },
         {
          "count": 12,
          "index": 23,
          "release_year": 1970
         },
         {
          "count": 30,
          "index": 24,
          "release_year": 1982
         },
         {
          "count": 70,
          "index": 25,
          "release_year": 1995
         },
         {
          "count": 34,
          "index": 26,
          "release_year": 1992
         },
         {
          "count": 54,
          "index": 27,
          "release_year": 1994
         },
         {
          "count": 252,
          "index": 28,
          "release_year": 2014
         },
         {
          "count": 227,
          "index": 29,
          "release_year": 2010
         },
         {
          "count": 99,
          "index": 30,
          "release_year": 1996
         },
         {
          "count": 32,
          "index": 31,
          "release_year": 1987
         },
         {
          "count": 171,
          "index": 32,
          "release_year": 2000
         },
         {
          "count": 224,
          "index": 33,
          "release_year": 2011
         },
         {
          "count": 29,
          "index": 34,
          "release_year": 1985
         },
         {
          "count": 134,
          "index": 35,
          "release_year": 1998
         },
         {
          "count": 203,
          "index": 36,
          "release_year": 2007
         },
         {
          "count": 33,
          "index": 37,
          "release_year": 1981
         },
         {
          "count": 16,
          "index": 38,
          "release_year": 1978
         },
         {
          "count": 11,
          "index": 39,
          "release_year": 1968
         },
         {
          "count": 238,
          "index": 40,
          "release_year": 2006
         },
         {
          "count": 188,
          "index": 41,
          "release_year": 2001
         },
         {
          "count": 168,
          "index": 42,
          "release_year": 1999
         },
         {
          "count": 220,
          "index": 43,
          "release_year": 2012
         }
        ],
        "schema": {
         "fields": [
          {
           "name": "index",
           "type": "integer"
          },
          {
           "name": "release_year",
           "type": "number"
          },
          {
           "name": "count",
           "type": "integer"
          }
         ],
         "pandas_version": "1.4.0",
         "primaryKey": [
          "index"
         ]
        }
       },
       "total_rows": 44,
       "truncation_type": null
      },
      "text/html": [
       "<div>\n",
       "<style scoped>\n",
       "    .dataframe tbody tr th:only-of-type {\n",
       "        vertical-align: middle;\n",
       "    }\n",
       "\n",
       "    .dataframe tbody tr th {\n",
       "        vertical-align: top;\n",
       "    }\n",
       "\n",
       "    .dataframe thead th {\n",
       "        text-align: right;\n",
       "    }\n",
       "</style>\n",
       "<table border=\"1\" class=\"dataframe\">\n",
       "  <thead>\n",
       "    <tr style=\"text-align: right;\">\n",
       "      <th></th>\n",
       "      <th>release_year</th>\n",
       "      <th>count</th>\n",
       "    </tr>\n",
       "  </thead>\n",
       "  <tbody>\n",
       "    <tr>\n",
       "      <th>0</th>\n",
       "      <td>1988.0</td>\n",
       "      <td>31</td>\n",
       "    </tr>\n",
       "    <tr>\n",
       "      <th>1</th>\n",
       "      <td>NaN</td>\n",
       "      <td>42</td>\n",
       "    </tr>\n",
       "    <tr>\n",
       "      <th>2</th>\n",
       "      <td>2008.0</td>\n",
       "      <td>225</td>\n",
       "    </tr>\n",
       "    <tr>\n",
       "      <th>3</th>\n",
       "      <td>1991.0</td>\n",
       "      <td>31</td>\n",
       "    </tr>\n",
       "    <tr>\n",
       "      <th>4</th>\n",
       "      <td>1989.0</td>\n",
       "      <td>33</td>\n",
       "    </tr>\n",
       "    <tr>\n",
       "      <th>5</th>\n",
       "      <td>1977.0</td>\n",
       "      <td>16</td>\n",
       "    </tr>\n",
       "    <tr>\n",
       "      <th>6</th>\n",
       "      <td>1971.0</td>\n",
       "      <td>11</td>\n",
       "    </tr>\n",
       "    <tr>\n",
       "      <th>7</th>\n",
       "      <td>1984.0</td>\n",
       "      <td>31</td>\n",
       "    </tr>\n",
       "    <tr>\n",
       "      <th>8</th>\n",
       "      <td>1983.0</td>\n",
       "      <td>22</td>\n",
       "    </tr>\n",
       "    <tr>\n",
       "      <th>9</th>\n",
       "      <td>2009.0</td>\n",
       "      <td>260</td>\n",
       "    </tr>\n",
       "    <tr>\n",
       "      <th>10</th>\n",
       "      <td>2005.0</td>\n",
       "      <td>221</td>\n",
       "    </tr>\n",
       "    <tr>\n",
       "      <th>11</th>\n",
       "      <td>2013.0</td>\n",
       "      <td>236</td>\n",
       "    </tr>\n",
       "    <tr>\n",
       "      <th>12</th>\n",
       "      <td>2003.0</td>\n",
       "      <td>169</td>\n",
       "    </tr>\n",
       "    <tr>\n",
       "      <th>13</th>\n",
       "      <td>2015.0</td>\n",
       "      <td>226</td>\n",
       "    </tr>\n",
       "    <tr>\n",
       "      <th>14</th>\n",
       "      <td>1993.0</td>\n",
       "      <td>48</td>\n",
       "    </tr>\n",
       "    <tr>\n",
       "      <th>15</th>\n",
       "      <td>1990.0</td>\n",
       "      <td>30</td>\n",
       "    </tr>\n",
       "    <tr>\n",
       "      <th>16</th>\n",
       "      <td>2002.0</td>\n",
       "      <td>209</td>\n",
       "    </tr>\n",
       "    <tr>\n",
       "      <th>17</th>\n",
       "      <td>1979.0</td>\n",
       "      <td>16</td>\n",
       "    </tr>\n",
       "    <tr>\n",
       "      <th>18</th>\n",
       "      <td>2004.0</td>\n",
       "      <td>214</td>\n",
       "    </tr>\n",
       "    <tr>\n",
       "      <th>19</th>\n",
       "      <td>1997.0</td>\n",
       "      <td>118</td>\n",
       "    </tr>\n",
       "    <tr>\n",
       "      <th>20</th>\n",
       "      <td>1980.0</td>\n",
       "      <td>24</td>\n",
       "    </tr>\n",
       "    <tr>\n",
       "      <th>21</th>\n",
       "      <td>2016.0</td>\n",
       "      <td>106</td>\n",
       "    </tr>\n",
       "    <tr>\n",
       "      <th>22</th>\n",
       "      <td>1986.0</td>\n",
       "      <td>26</td>\n",
       "    </tr>\n",
       "    <tr>\n",
       "      <th>23</th>\n",
       "      <td>1970.0</td>\n",
       "      <td>12</td>\n",
       "    </tr>\n",
       "    <tr>\n",
       "      <th>24</th>\n",
       "      <td>1982.0</td>\n",
       "      <td>30</td>\n",
       "    </tr>\n",
       "    <tr>\n",
       "      <th>25</th>\n",
       "      <td>1995.0</td>\n",
       "      <td>70</td>\n",
       "    </tr>\n",
       "    <tr>\n",
       "      <th>26</th>\n",
       "      <td>1992.0</td>\n",
       "      <td>34</td>\n",
       "    </tr>\n",
       "    <tr>\n",
       "      <th>27</th>\n",
       "      <td>1994.0</td>\n",
       "      <td>54</td>\n",
       "    </tr>\n",
       "    <tr>\n",
       "      <th>28</th>\n",
       "      <td>2014.0</td>\n",
       "      <td>252</td>\n",
       "    </tr>\n",
       "    <tr>\n",
       "      <th>29</th>\n",
       "      <td>2010.0</td>\n",
       "      <td>227</td>\n",
       "    </tr>\n",
       "    <tr>\n",
       "      <th>30</th>\n",
       "      <td>1996.0</td>\n",
       "      <td>99</td>\n",
       "    </tr>\n",
       "    <tr>\n",
       "      <th>31</th>\n",
       "      <td>1987.0</td>\n",
       "      <td>32</td>\n",
       "    </tr>\n",
       "    <tr>\n",
       "      <th>32</th>\n",
       "      <td>2000.0</td>\n",
       "      <td>171</td>\n",
       "    </tr>\n",
       "    <tr>\n",
       "      <th>33</th>\n",
       "      <td>2011.0</td>\n",
       "      <td>224</td>\n",
       "    </tr>\n",
       "    <tr>\n",
       "      <th>34</th>\n",
       "      <td>1985.0</td>\n",
       "      <td>29</td>\n",
       "    </tr>\n",
       "    <tr>\n",
       "      <th>35</th>\n",
       "      <td>1998.0</td>\n",
       "      <td>134</td>\n",
       "    </tr>\n",
       "    <tr>\n",
       "      <th>36</th>\n",
       "      <td>2007.0</td>\n",
       "      <td>203</td>\n",
       "    </tr>\n",
       "    <tr>\n",
       "      <th>37</th>\n",
       "      <td>1981.0</td>\n",
       "      <td>33</td>\n",
       "    </tr>\n",
       "    <tr>\n",
       "      <th>38</th>\n",
       "      <td>1978.0</td>\n",
       "      <td>16</td>\n",
       "    </tr>\n",
       "    <tr>\n",
       "      <th>39</th>\n",
       "      <td>1968.0</td>\n",
       "      <td>11</td>\n",
       "    </tr>\n",
       "    <tr>\n",
       "      <th>40</th>\n",
       "      <td>2006.0</td>\n",
       "      <td>238</td>\n",
       "    </tr>\n",
       "    <tr>\n",
       "      <th>41</th>\n",
       "      <td>2001.0</td>\n",
       "      <td>188</td>\n",
       "    </tr>\n",
       "    <tr>\n",
       "      <th>42</th>\n",
       "      <td>1999.0</td>\n",
       "      <td>168</td>\n",
       "    </tr>\n",
       "    <tr>\n",
       "      <th>43</th>\n",
       "      <td>2012.0</td>\n",
       "      <td>220</td>\n",
       "    </tr>\n",
       "  </tbody>\n",
       "</table>\n",
       "</div>"
      ],
      "text/plain": [
       "    release_year  count\n",
       "0         1988.0     31\n",
       "1            NaN     42\n",
       "2         2008.0    225\n",
       "3         1991.0     31\n",
       "4         1989.0     33\n",
       "5         1977.0     16\n",
       "6         1971.0     11\n",
       "7         1984.0     31\n",
       "8         1983.0     22\n",
       "9         2009.0    260\n",
       "10        2005.0    221\n",
       "11        2013.0    236\n",
       "12        2003.0    169\n",
       "13        2015.0    226\n",
       "14        1993.0     48\n",
       "15        1990.0     30\n",
       "16        2002.0    209\n",
       "17        1979.0     16\n",
       "18        2004.0    214\n",
       "19        1997.0    118\n",
       "20        1980.0     24\n",
       "21        2016.0    106\n",
       "22        1986.0     26\n",
       "23        1970.0     12\n",
       "24        1982.0     30\n",
       "25        1995.0     70\n",
       "26        1992.0     34\n",
       "27        1994.0     54\n",
       "28        2014.0    252\n",
       "29        2010.0    227\n",
       "30        1996.0     99\n",
       "31        1987.0     32\n",
       "32        2000.0    171\n",
       "33        2011.0    224\n",
       "34        1985.0     29\n",
       "35        1998.0    134\n",
       "36        2007.0    203\n",
       "37        1981.0     33\n",
       "38        1978.0     16\n",
       "39        1968.0     11\n",
       "40        2006.0    238\n",
       "41        2001.0    188\n",
       "42        1999.0    168\n",
       "43        2012.0    220"
      ]
     },
     "execution_count": 12,
     "metadata": {},
     "output_type": "execute_result"
    }
   ],
   "source": [
    "SELECT release_year, COUNT(title) FROM cinema.films GROUP BY release_year HAVING COUNT(title) > 10;"
   ]
  },
  {
   "cell_type": "code",
   "execution_count": 13,
   "id": "68895a4c-79c4-47d0-b011-4b85c2d57e28",
   "metadata": {
    "customType": "sql",
    "dataFrameVariableName": "df",
    "executionTime": 1232,
    "initial": false,
    "integrationId": "c632441c-e1dc-4637-a56d-10b85efd89be",
    "lastSuccessfullyExecutedCode": "SELECT release_year,count(*) FROM cinema.films GROUP BY release_year HAVING COUNT(title) > 200;"
   },
   "outputs": [
    {
     "data": {
      "application/com.datacamp.data-table.v1+json": {
       "table": {
        "data": [
         {
          "count": 225,
          "index": 0,
          "release_year": 2008
         },
         {
          "count": 260,
          "index": 1,
          "release_year": 2009
         },
         {
          "count": 221,
          "index": 2,
          "release_year": 2005
         },
         {
          "count": 236,
          "index": 3,
          "release_year": 2013
         },
         {
          "count": 226,
          "index": 4,
          "release_year": 2015
         },
         {
          "count": 209,
          "index": 5,
          "release_year": 2002
         },
         {
          "count": 214,
          "index": 6,
          "release_year": 2004
         },
         {
          "count": 252,
          "index": 7,
          "release_year": 2014
         },
         {
          "count": 227,
          "index": 8,
          "release_year": 2010
         },
         {
          "count": 224,
          "index": 9,
          "release_year": 2011
         },
         {
          "count": 203,
          "index": 10,
          "release_year": 2007
         },
         {
          "count": 238,
          "index": 11,
          "release_year": 2006
         },
         {
          "count": 220,
          "index": 12,
          "release_year": 2012
         }
        ],
        "schema": {
         "fields": [
          {
           "name": "index",
           "type": "integer"
          },
          {
           "name": "release_year",
           "type": "integer"
          },
          {
           "name": "count",
           "type": "integer"
          }
         ],
         "pandas_version": "1.4.0",
         "primaryKey": [
          "index"
         ]
        }
       },
       "total_rows": 13,
       "truncation_type": null
      },
      "text/html": [
       "<div>\n",
       "<style scoped>\n",
       "    .dataframe tbody tr th:only-of-type {\n",
       "        vertical-align: middle;\n",
       "    }\n",
       "\n",
       "    .dataframe tbody tr th {\n",
       "        vertical-align: top;\n",
       "    }\n",
       "\n",
       "    .dataframe thead th {\n",
       "        text-align: right;\n",
       "    }\n",
       "</style>\n",
       "<table border=\"1\" class=\"dataframe\">\n",
       "  <thead>\n",
       "    <tr style=\"text-align: right;\">\n",
       "      <th></th>\n",
       "      <th>release_year</th>\n",
       "      <th>count</th>\n",
       "    </tr>\n",
       "  </thead>\n",
       "  <tbody>\n",
       "    <tr>\n",
       "      <th>0</th>\n",
       "      <td>2008</td>\n",
       "      <td>225</td>\n",
       "    </tr>\n",
       "    <tr>\n",
       "      <th>1</th>\n",
       "      <td>2009</td>\n",
       "      <td>260</td>\n",
       "    </tr>\n",
       "    <tr>\n",
       "      <th>2</th>\n",
       "      <td>2005</td>\n",
       "      <td>221</td>\n",
       "    </tr>\n",
       "    <tr>\n",
       "      <th>3</th>\n",
       "      <td>2013</td>\n",
       "      <td>236</td>\n",
       "    </tr>\n",
       "    <tr>\n",
       "      <th>4</th>\n",
       "      <td>2015</td>\n",
       "      <td>226</td>\n",
       "    </tr>\n",
       "    <tr>\n",
       "      <th>5</th>\n",
       "      <td>2002</td>\n",
       "      <td>209</td>\n",
       "    </tr>\n",
       "    <tr>\n",
       "      <th>6</th>\n",
       "      <td>2004</td>\n",
       "      <td>214</td>\n",
       "    </tr>\n",
       "    <tr>\n",
       "      <th>7</th>\n",
       "      <td>2014</td>\n",
       "      <td>252</td>\n",
       "    </tr>\n",
       "    <tr>\n",
       "      <th>8</th>\n",
       "      <td>2010</td>\n",
       "      <td>227</td>\n",
       "    </tr>\n",
       "    <tr>\n",
       "      <th>9</th>\n",
       "      <td>2011</td>\n",
       "      <td>224</td>\n",
       "    </tr>\n",
       "    <tr>\n",
       "      <th>10</th>\n",
       "      <td>2007</td>\n",
       "      <td>203</td>\n",
       "    </tr>\n",
       "    <tr>\n",
       "      <th>11</th>\n",
       "      <td>2006</td>\n",
       "      <td>238</td>\n",
       "    </tr>\n",
       "    <tr>\n",
       "      <th>12</th>\n",
       "      <td>2012</td>\n",
       "      <td>220</td>\n",
       "    </tr>\n",
       "  </tbody>\n",
       "</table>\n",
       "</div>"
      ],
      "text/plain": [
       "    release_year  count\n",
       "0           2008    225\n",
       "1           2009    260\n",
       "2           2005    221\n",
       "3           2013    236\n",
       "4           2015    226\n",
       "5           2002    209\n",
       "6           2004    214\n",
       "7           2014    252\n",
       "8           2010    227\n",
       "9           2011    224\n",
       "10          2007    203\n",
       "11          2006    238\n",
       "12          2012    220"
      ]
     },
     "execution_count": 13,
     "metadata": {},
     "output_type": "execute_result"
    }
   ],
   "source": [
    "SELECT release_year,count(*) FROM cinema.films GROUP BY release_year HAVING COUNT(title) > 200;"
   ]
  },
  {
   "cell_type": "code",
   "execution_count": 14,
   "id": "5ca8afd5-2313-4f11-ab6a-1571de7b3982",
   "metadata": {
    "customType": "sql",
    "dataFrameVariableName": "df",
    "executionTime": 1618,
    "initial": false,
    "integrationId": "c632441c-e1dc-4637-a56d-10b85efd89be",
    "lastSuccessfullyExecutedCode": "SELECT release_year, avg(budget) as avg_budget, avg(gross) as avg_gross FROM cinema.films WHERE release_year > 1990 GROUP BY release_year;"
   },
   "outputs": [
    {
     "data": {
      "application/com.datacamp.data-table.v1+json": {
       "table": {
        "data": [
         {
          "avg_budget": 41804885.57213929,
          "avg_gross": 44573509.37810945,
          "index": 0,
          "release_year": 2008
         },
         {
          "avg_budget": 25176548.387096774,
          "avg_gross": 53844501.666666664,
          "index": 1,
          "release_year": 1991
         },
         {
          "avg_budget": 37073287.03703704,
          "avg_gross": 46207440.2,
          "index": 2,
          "release_year": 2009
         },
         {
          "avg_budget": 70323938.23152709,
          "avg_gross": 41159143.2906404,
          "index": 3,
          "release_year": 2005
         },
         {
          "avg_budget": 40519044.91549296,
          "avg_gross": 56158357.77540106,
          "index": 4,
          "release_year": 2013
         },
         {
          "avg_budget": 37208648.83333333,
          "avg_gross": 48727746.72327044,
          "index": 5,
          "release_year": 2003
         },
         {
          "avg_budget": 39298329.2173913,
          "avg_gross": 72573302.93055555,
          "index": 6,
          "release_year": 2015
         },
         {
          "avg_budget": 20729787.234042555,
          "avg_gross": 45302091.41304348,
          "index": 7,
          "release_year": 1993
         },
         {
          "avg_budget": 32598510.688118808,
          "avg_gross": 43511151.485,
          "index": 8,
          "release_year": 2002
         },
         {
          "avg_budget": 46865344.62436548,
          "avg_gross": 40726529.11,
          "index": 9,
          "release_year": 2004
         },
         {
          "avg_budget": 59424490.74074074,
          "avg_gross": 44793772.43103448,
          "index": 10,
          "release_year": 1997
         },
         {
          "avg_budget": 56642741.93548387,
          "avg_gross": 76924035.89189188,
          "index": 11,
          "release_year": 2016
         },
         {
          "avg_budget": 32775000,
          "avg_gross": 44909519.98550725,
          "index": 12,
          "release_year": 1995
         },
         {
          "avg_budget": 25982030.303030305,
          "avg_gross": 63665195.147058815,
          "index": 13,
          "release_year": 1992
         },
         {
          "avg_budget": 29013773.58490566,
          "avg_gross": 59395666.16981132,
          "index": 14,
          "release_year": 1994
         },
         {
          "avg_budget": 35325799.126637556,
          "avg_gross": 62412136.946107775,
          "index": 15,
          "release_year": 2014
         },
         {
          "avg_budget": 46094664.948453605,
          "avg_gross": 49908326.010050245,
          "index": 16,
          "release_year": 2010
         },
         {
          "avg_budget": 31620612.24489796,
          "avg_gross": 42044174.252631575,
          "index": 17,
          "release_year": 1996
         },
         {
          "avg_budget": 34931375.75757576,
          "avg_gross": 42172627.58083832,
          "index": 18,
          "release_year": 2000
         },
         {
          "avg_budget": 37775251.71568627,
          "avg_gross": 45785836.64397906,
          "index": 19,
          "release_year": 2011
         },
         {
          "avg_budget": 40460000,
          "avg_gross": 38377007.961240314,
          "index": 20,
          "release_year": 1998
         },
         {
          "avg_budget": 35271131.14754099,
          "avg_gross": 46267501.02234637,
          "index": 21,
          "release_year": 2007
         },
         {
          "avg_budget": 93968929.5774648,
          "avg_gross": 39237855.953703694,
          "index": 22,
          "release_year": 2006
         },
         {
          "avg_budget": 37687307.69230769,
          "avg_gross": 43255716.92553192,
          "index": 23,
          "release_year": 2001
         },
         {
          "avg_budget": 38981780.48780488,
          "avg_gross": 38072176.27710843,
          "index": 24,
          "release_year": 1999
         },
         {
          "avg_budget": 41331819.16243655,
          "avg_gross": 62873527.67955801,
          "index": 25,
          "release_year": 2012
         }
        ],
        "schema": {
         "fields": [
          {
           "name": "index",
           "type": "integer"
          },
          {
           "name": "release_year",
           "type": "integer"
          },
          {
           "name": "avg_budget",
           "type": "number"
          },
          {
           "name": "avg_gross",
           "type": "number"
          }
         ],
         "pandas_version": "1.4.0",
         "primaryKey": [
          "index"
         ]
        }
       },
       "total_rows": 26,
       "truncation_type": null
      },
      "text/html": [
       "<div>\n",
       "<style scoped>\n",
       "    .dataframe tbody tr th:only-of-type {\n",
       "        vertical-align: middle;\n",
       "    }\n",
       "\n",
       "    .dataframe tbody tr th {\n",
       "        vertical-align: top;\n",
       "    }\n",
       "\n",
       "    .dataframe thead th {\n",
       "        text-align: right;\n",
       "    }\n",
       "</style>\n",
       "<table border=\"1\" class=\"dataframe\">\n",
       "  <thead>\n",
       "    <tr style=\"text-align: right;\">\n",
       "      <th></th>\n",
       "      <th>release_year</th>\n",
       "      <th>avg_budget</th>\n",
       "      <th>avg_gross</th>\n",
       "    </tr>\n",
       "  </thead>\n",
       "  <tbody>\n",
       "    <tr>\n",
       "      <th>0</th>\n",
       "      <td>2008</td>\n",
       "      <td>4.180489e+07</td>\n",
       "      <td>4.457351e+07</td>\n",
       "    </tr>\n",
       "    <tr>\n",
       "      <th>1</th>\n",
       "      <td>1991</td>\n",
       "      <td>2.517655e+07</td>\n",
       "      <td>5.384450e+07</td>\n",
       "    </tr>\n",
       "    <tr>\n",
       "      <th>2</th>\n",
       "      <td>2009</td>\n",
       "      <td>3.707329e+07</td>\n",
       "      <td>4.620744e+07</td>\n",
       "    </tr>\n",
       "    <tr>\n",
       "      <th>3</th>\n",
       "      <td>2005</td>\n",
       "      <td>7.032394e+07</td>\n",
       "      <td>4.115914e+07</td>\n",
       "    </tr>\n",
       "    <tr>\n",
       "      <th>4</th>\n",
       "      <td>2013</td>\n",
       "      <td>4.051904e+07</td>\n",
       "      <td>5.615836e+07</td>\n",
       "    </tr>\n",
       "    <tr>\n",
       "      <th>5</th>\n",
       "      <td>2003</td>\n",
       "      <td>3.720865e+07</td>\n",
       "      <td>4.872775e+07</td>\n",
       "    </tr>\n",
       "    <tr>\n",
       "      <th>6</th>\n",
       "      <td>2015</td>\n",
       "      <td>3.929833e+07</td>\n",
       "      <td>7.257330e+07</td>\n",
       "    </tr>\n",
       "    <tr>\n",
       "      <th>7</th>\n",
       "      <td>1993</td>\n",
       "      <td>2.072979e+07</td>\n",
       "      <td>4.530209e+07</td>\n",
       "    </tr>\n",
       "    <tr>\n",
       "      <th>8</th>\n",
       "      <td>2002</td>\n",
       "      <td>3.259851e+07</td>\n",
       "      <td>4.351115e+07</td>\n",
       "    </tr>\n",
       "    <tr>\n",
       "      <th>9</th>\n",
       "      <td>2004</td>\n",
       "      <td>4.686534e+07</td>\n",
       "      <td>4.072653e+07</td>\n",
       "    </tr>\n",
       "    <tr>\n",
       "      <th>10</th>\n",
       "      <td>1997</td>\n",
       "      <td>5.942449e+07</td>\n",
       "      <td>4.479377e+07</td>\n",
       "    </tr>\n",
       "    <tr>\n",
       "      <th>11</th>\n",
       "      <td>2016</td>\n",
       "      <td>5.664274e+07</td>\n",
       "      <td>7.692404e+07</td>\n",
       "    </tr>\n",
       "    <tr>\n",
       "      <th>12</th>\n",
       "      <td>1995</td>\n",
       "      <td>3.277500e+07</td>\n",
       "      <td>4.490952e+07</td>\n",
       "    </tr>\n",
       "    <tr>\n",
       "      <th>13</th>\n",
       "      <td>1992</td>\n",
       "      <td>2.598203e+07</td>\n",
       "      <td>6.366520e+07</td>\n",
       "    </tr>\n",
       "    <tr>\n",
       "      <th>14</th>\n",
       "      <td>1994</td>\n",
       "      <td>2.901377e+07</td>\n",
       "      <td>5.939567e+07</td>\n",
       "    </tr>\n",
       "    <tr>\n",
       "      <th>15</th>\n",
       "      <td>2014</td>\n",
       "      <td>3.532580e+07</td>\n",
       "      <td>6.241214e+07</td>\n",
       "    </tr>\n",
       "    <tr>\n",
       "      <th>16</th>\n",
       "      <td>2010</td>\n",
       "      <td>4.609466e+07</td>\n",
       "      <td>4.990833e+07</td>\n",
       "    </tr>\n",
       "    <tr>\n",
       "      <th>17</th>\n",
       "      <td>1996</td>\n",
       "      <td>3.162061e+07</td>\n",
       "      <td>4.204417e+07</td>\n",
       "    </tr>\n",
       "    <tr>\n",
       "      <th>18</th>\n",
       "      <td>2000</td>\n",
       "      <td>3.493138e+07</td>\n",
       "      <td>4.217263e+07</td>\n",
       "    </tr>\n",
       "    <tr>\n",
       "      <th>19</th>\n",
       "      <td>2011</td>\n",
       "      <td>3.777525e+07</td>\n",
       "      <td>4.578584e+07</td>\n",
       "    </tr>\n",
       "    <tr>\n",
       "      <th>20</th>\n",
       "      <td>1998</td>\n",
       "      <td>4.046000e+07</td>\n",
       "      <td>3.837701e+07</td>\n",
       "    </tr>\n",
       "    <tr>\n",
       "      <th>21</th>\n",
       "      <td>2007</td>\n",
       "      <td>3.527113e+07</td>\n",
       "      <td>4.626750e+07</td>\n",
       "    </tr>\n",
       "    <tr>\n",
       "      <th>22</th>\n",
       "      <td>2006</td>\n",
       "      <td>9.396893e+07</td>\n",
       "      <td>3.923786e+07</td>\n",
       "    </tr>\n",
       "    <tr>\n",
       "      <th>23</th>\n",
       "      <td>2001</td>\n",
       "      <td>3.768731e+07</td>\n",
       "      <td>4.325572e+07</td>\n",
       "    </tr>\n",
       "    <tr>\n",
       "      <th>24</th>\n",
       "      <td>1999</td>\n",
       "      <td>3.898178e+07</td>\n",
       "      <td>3.807218e+07</td>\n",
       "    </tr>\n",
       "    <tr>\n",
       "      <th>25</th>\n",
       "      <td>2012</td>\n",
       "      <td>4.133182e+07</td>\n",
       "      <td>6.287353e+07</td>\n",
       "    </tr>\n",
       "  </tbody>\n",
       "</table>\n",
       "</div>"
      ],
      "text/plain": [
       "    release_year    avg_budget     avg_gross\n",
       "0           2008  4.180489e+07  4.457351e+07\n",
       "1           1991  2.517655e+07  5.384450e+07\n",
       "2           2009  3.707329e+07  4.620744e+07\n",
       "3           2005  7.032394e+07  4.115914e+07\n",
       "4           2013  4.051904e+07  5.615836e+07\n",
       "5           2003  3.720865e+07  4.872775e+07\n",
       "6           2015  3.929833e+07  7.257330e+07\n",
       "7           1993  2.072979e+07  4.530209e+07\n",
       "8           2002  3.259851e+07  4.351115e+07\n",
       "9           2004  4.686534e+07  4.072653e+07\n",
       "10          1997  5.942449e+07  4.479377e+07\n",
       "11          2016  5.664274e+07  7.692404e+07\n",
       "12          1995  3.277500e+07  4.490952e+07\n",
       "13          1992  2.598203e+07  6.366520e+07\n",
       "14          1994  2.901377e+07  5.939567e+07\n",
       "15          2014  3.532580e+07  6.241214e+07\n",
       "16          2010  4.609466e+07  4.990833e+07\n",
       "17          1996  3.162061e+07  4.204417e+07\n",
       "18          2000  3.493138e+07  4.217263e+07\n",
       "19          2011  3.777525e+07  4.578584e+07\n",
       "20          1998  4.046000e+07  3.837701e+07\n",
       "21          2007  3.527113e+07  4.626750e+07\n",
       "22          2006  9.396893e+07  3.923786e+07\n",
       "23          2001  3.768731e+07  4.325572e+07\n",
       "24          1999  3.898178e+07  3.807218e+07\n",
       "25          2012  4.133182e+07  6.287353e+07"
      ]
     },
     "execution_count": 14,
     "metadata": {},
     "output_type": "execute_result"
    }
   ],
   "source": [
    "SELECT release_year, avg(budget) as avg_budget, avg(gross) as avg_gross FROM cinema.films WHERE release_year > 1990 GROUP BY release_year;"
   ]
  },
  {
   "cell_type": "code",
   "execution_count": 15,
   "id": "2a2ea82d-e64b-4f27-b6cb-3ee8cbe6fb63",
   "metadata": {
    "customType": "sql",
    "dataFrameVariableName": "df",
    "executionTime": 1484,
    "initial": false,
    "integrationId": "c632441c-e1dc-4637-a56d-10b85efd89be",
    "lastSuccessfullyExecutedCode": "SELECT release_year, AVG(budget) AS avg_budget, AVG(gross) AS avg_gross FROM cinema.films WHERE release_year > 1990 GROUP BY release_year HAVING AVG(budget) > 60000000 order BY avg_gross desc"
   },
   "outputs": [
    {
     "data": {
      "application/com.datacamp.data-table.v1+json": {
       "table": {
        "data": [
         {
          "avg_budget": 70323938.23152709,
          "avg_gross": 41159143.2906404,
          "index": 0,
          "release_year": 2005
         },
         {
          "avg_budget": 93968929.5774648,
          "avg_gross": 39237855.953703694,
          "index": 1,
          "release_year": 2006
         }
        ],
        "schema": {
         "fields": [
          {
           "name": "index",
           "type": "integer"
          },
          {
           "name": "release_year",
           "type": "integer"
          },
          {
           "name": "avg_budget",
           "type": "number"
          },
          {
           "name": "avg_gross",
           "type": "number"
          }
         ],
         "pandas_version": "1.4.0",
         "primaryKey": [
          "index"
         ]
        }
       },
       "total_rows": 2,
       "truncation_type": null
      },
      "text/html": [
       "<div>\n",
       "<style scoped>\n",
       "    .dataframe tbody tr th:only-of-type {\n",
       "        vertical-align: middle;\n",
       "    }\n",
       "\n",
       "    .dataframe tbody tr th {\n",
       "        vertical-align: top;\n",
       "    }\n",
       "\n",
       "    .dataframe thead th {\n",
       "        text-align: right;\n",
       "    }\n",
       "</style>\n",
       "<table border=\"1\" class=\"dataframe\">\n",
       "  <thead>\n",
       "    <tr style=\"text-align: right;\">\n",
       "      <th></th>\n",
       "      <th>release_year</th>\n",
       "      <th>avg_budget</th>\n",
       "      <th>avg_gross</th>\n",
       "    </tr>\n",
       "  </thead>\n",
       "  <tbody>\n",
       "    <tr>\n",
       "      <th>0</th>\n",
       "      <td>2005</td>\n",
       "      <td>7.032394e+07</td>\n",
       "      <td>4.115914e+07</td>\n",
       "    </tr>\n",
       "    <tr>\n",
       "      <th>1</th>\n",
       "      <td>2006</td>\n",
       "      <td>9.396893e+07</td>\n",
       "      <td>3.923786e+07</td>\n",
       "    </tr>\n",
       "  </tbody>\n",
       "</table>\n",
       "</div>"
      ],
      "text/plain": [
       "   release_year    avg_budget     avg_gross\n",
       "0          2005  7.032394e+07  4.115914e+07\n",
       "1          2006  9.396893e+07  3.923786e+07"
      ]
     },
     "execution_count": 15,
     "metadata": {},
     "output_type": "execute_result"
    }
   ],
   "source": [
    "SELECT release_year, AVG(budget) AS avg_budget, AVG(gross) AS avg_gross FROM cinema.films WHERE release_year > 1990 GROUP BY release_year HAVING AVG(budget) > 60000000 order BY avg_gross desc"
   ]
  },
  {
   "cell_type": "code",
   "execution_count": 16,
   "id": "49b2f2ce-0541-452e-8e68-3f5f7e0c1cac",
   "metadata": {
    "customType": "sql",
    "dataFrameVariableName": "df",
    "executionTime": 1260,
    "initial": false,
    "integrationId": "c632441c-e1dc-4637-a56d-10b85efd89be",
    "lastSuccessfullyExecutedCode": "select country, avg(budget) as avg_budget, avg(gross) as avg_groos from cinema.films group by country having count(*)>10 order by country limit 5"
   },
   "outputs": [
    {
     "data": {
      "application/com.datacamp.data-table.v1+json": {
       "table": {
        "data": [
         {
          "avg_budget": 31172110.46,
          "avg_groos": 40205909.57142857,
          "country": "Australia",
          "index": 0
         },
         {
          "avg_budget": 14798458.71559633,
          "avg_groos": 22432066.680555556,
          "country": "Canada",
          "index": 1
         },
         {
          "avg_budget": 62219000,
          "avg_groos": 14143040.736842103,
          "country": "China",
          "index": 2
         },
         {
          "avg_budget": 13922222.222222222,
          "avg_groos": 1418469.1111111112,
          "country": "Denmark",
          "index": 3
         },
         {
          "avg_budget": 30672034.615384612,
          "avg_groos": 16350593.578512397,
          "country": "France",
          "index": 4
         }
        ],
        "schema": {
         "fields": [
          {
           "name": "index",
           "type": "integer"
          },
          {
           "name": "country",
           "type": "string"
          },
          {
           "name": "avg_budget",
           "type": "number"
          },
          {
           "name": "avg_groos",
           "type": "number"
          }
         ],
         "pandas_version": "1.4.0",
         "primaryKey": [
          "index"
         ]
        }
       },
       "total_rows": 5,
       "truncation_type": null
      },
      "text/html": [
       "<div>\n",
       "<style scoped>\n",
       "    .dataframe tbody tr th:only-of-type {\n",
       "        vertical-align: middle;\n",
       "    }\n",
       "\n",
       "    .dataframe tbody tr th {\n",
       "        vertical-align: top;\n",
       "    }\n",
       "\n",
       "    .dataframe thead th {\n",
       "        text-align: right;\n",
       "    }\n",
       "</style>\n",
       "<table border=\"1\" class=\"dataframe\">\n",
       "  <thead>\n",
       "    <tr style=\"text-align: right;\">\n",
       "      <th></th>\n",
       "      <th>country</th>\n",
       "      <th>avg_budget</th>\n",
       "      <th>avg_groos</th>\n",
       "    </tr>\n",
       "  </thead>\n",
       "  <tbody>\n",
       "    <tr>\n",
       "      <th>0</th>\n",
       "      <td>Australia</td>\n",
       "      <td>3.117211e+07</td>\n",
       "      <td>4.020591e+07</td>\n",
       "    </tr>\n",
       "    <tr>\n",
       "      <th>1</th>\n",
       "      <td>Canada</td>\n",
       "      <td>1.479846e+07</td>\n",
       "      <td>2.243207e+07</td>\n",
       "    </tr>\n",
       "    <tr>\n",
       "      <th>2</th>\n",
       "      <td>China</td>\n",
       "      <td>6.221900e+07</td>\n",
       "      <td>1.414304e+07</td>\n",
       "    </tr>\n",
       "    <tr>\n",
       "      <th>3</th>\n",
       "      <td>Denmark</td>\n",
       "      <td>1.392222e+07</td>\n",
       "      <td>1.418469e+06</td>\n",
       "    </tr>\n",
       "    <tr>\n",
       "      <th>4</th>\n",
       "      <td>France</td>\n",
       "      <td>3.067203e+07</td>\n",
       "      <td>1.635059e+07</td>\n",
       "    </tr>\n",
       "  </tbody>\n",
       "</table>\n",
       "</div>"
      ],
      "text/plain": [
       "     country    avg_budget     avg_groos\n",
       "0  Australia  3.117211e+07  4.020591e+07\n",
       "1     Canada  1.479846e+07  2.243207e+07\n",
       "2      China  6.221900e+07  1.414304e+07\n",
       "3    Denmark  1.392222e+07  1.418469e+06\n",
       "4     France  3.067203e+07  1.635059e+07"
      ]
     },
     "execution_count": 16,
     "metadata": {},
     "output_type": "execute_result"
    }
   ],
   "source": [
    "select country, avg(budget) as avg_budget, avg(gross) as avg_groos from cinema.films group by country having count(*)>10 order by country limit 5"
   ]
  }
 ],
 "metadata": {
  "colab": {
   "name": "Welcome to DataCamp Workspaces.ipynb",
   "provenance": []
  },
  "kernelspec": {
   "display_name": "Python 3 (ipykernel)",
   "language": "python",
   "name": "python3"
  },
  "language_info": {
   "codemirror_mode": {
    "name": "ipython",
    "version": 3
   },
   "file_extension": ".py",
   "mimetype": "text/x-python",
   "name": "python",
   "nbconvert_exporter": "python",
   "pygments_lexer": "ipython3",
   "version": "3.11.6"
  }
 },
 "nbformat": 4,
 "nbformat_minor": 5
}
