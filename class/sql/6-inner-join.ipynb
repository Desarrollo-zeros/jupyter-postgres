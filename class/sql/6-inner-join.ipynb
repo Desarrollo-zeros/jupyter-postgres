{
 "cells": [
  {
   "cell_type": "markdown",
   "id": "cee4310a-2acb-47d9-9611-c0de641d9720",
   "metadata": {},
   "source": [
    "<h1>JOINS</h1>\n",
    "<img src=\"https://i.stack.imgur.com/VQ5XP.png\"/>"
   ]
  },
  {
   "cell_type": "markdown",
   "id": "c7ddb979-9e44-4f3d-9ade-fb6b50d50980",
   "metadata": {},
   "source": [
    "<h1>Inner Join</h1>\n",
    "\n",
    "- Tabla derecha y tabla izquierda\n",
    "- Correspondencia en la tabla derecha con todos los valores de los campos claves de la tabla izquierda\n",
    "- En inner join solo se incluyen registros en los que las claves estén en ambas tablas"
   ]
  },
  {
   "cell_type": "markdown",
   "id": "fd0823b0-16b9-4901-b19e-3914ffab6541",
   "metadata": {},
   "source": [
    "<img src=\"https://res.cloudinary.com/pym/image/upload/c_scale,f_auto,q_auto,w_258/articles/2019/sql/INNER_JOIN\"/>"
   ]
  },
  {
   "cell_type": "markdown",
   "id": "9e128e00-7da8-40b5-8c9a-3267bc8548dd",
   "metadata": {},
   "source": [
    "## Ejemplo"
   ]
  },
  {
   "cell_type": "code",
   "execution_count": 31,
   "id": "1facfb1a-85db-4330-a88f-1555fa441d31",
   "metadata": {
    "customType": "sql",
    "dataFrameVariableName": "df",
    "executionTime": 1330,
    "initial": false,
    "integrationId": "c632441c-e1dc-4637-a56d-10b85efd89be",
    "lastSuccessfullyExecutedCode": "select * from world.cities where country_code = 'COL'",
    "outputsMetadata": {
     "0": {
      "height": 166,
      "type": "dataFrame"
     }
    }
   },
   "outputs": [
    {
     "data": {
      "application/com.datacamp.data-table.v1+json": {
       "table": {
        "data": [
         {
          "city_proper_pop": 1386865,
          "country_code": "COL",
          "index": 0,
          "metroarea_pop": 2370753,
          "name": "Barranquilla",
          "urbanarea_pop": 1386865
         },
         {
          "city_proper_pop": 7878783,
          "country_code": "COL",
          "index": 1,
          "metroarea_pop": 9800000,
          "name": "Bogota",
          "urbanarea_pop": 7878783
         },
         {
          "city_proper_pop": 2400653,
          "country_code": "COL",
          "index": 2,
          "metroarea_pop": 3400000,
          "name": "Cali",
          "urbanarea_pop": 2400653
         },
         {
          "city_proper_pop": 2441123,
          "country_code": "COL",
          "index": 3,
          "metroarea_pop": 3731447,
          "name": "Medellin",
          "urbanarea_pop": 2441123
         }
        ],
        "schema": {
         "fields": [
          {
           "name": "index",
           "type": "integer"
          },
          {
           "name": "name",
           "type": "string"
          },
          {
           "name": "country_code",
           "type": "string"
          },
          {
           "name": "city_proper_pop",
           "type": "integer"
          },
          {
           "name": "metroarea_pop",
           "type": "integer"
          },
          {
           "name": "urbanarea_pop",
           "type": "integer"
          }
         ],
         "pandas_version": "1.4.0",
         "primaryKey": [
          "index"
         ]
        }
       },
       "total_rows": 4,
       "truncation_type": null
      },
      "text/html": [
       "<div>\n",
       "<style scoped>\n",
       "    .dataframe tbody tr th:only-of-type {\n",
       "        vertical-align: middle;\n",
       "    }\n",
       "\n",
       "    .dataframe tbody tr th {\n",
       "        vertical-align: top;\n",
       "    }\n",
       "\n",
       "    .dataframe thead th {\n",
       "        text-align: right;\n",
       "    }\n",
       "</style>\n",
       "<table border=\"1\" class=\"dataframe\">\n",
       "  <thead>\n",
       "    <tr style=\"text-align: right;\">\n",
       "      <th></th>\n",
       "      <th>name</th>\n",
       "      <th>country_code</th>\n",
       "      <th>city_proper_pop</th>\n",
       "      <th>metroarea_pop</th>\n",
       "      <th>urbanarea_pop</th>\n",
       "    </tr>\n",
       "  </thead>\n",
       "  <tbody>\n",
       "    <tr>\n",
       "      <th>0</th>\n",
       "      <td>Barranquilla</td>\n",
       "      <td>COL</td>\n",
       "      <td>1386865</td>\n",
       "      <td>2370753</td>\n",
       "      <td>1386865</td>\n",
       "    </tr>\n",
       "    <tr>\n",
       "      <th>1</th>\n",
       "      <td>Bogota</td>\n",
       "      <td>COL</td>\n",
       "      <td>7878783</td>\n",
       "      <td>9800000</td>\n",
       "      <td>7878783</td>\n",
       "    </tr>\n",
       "    <tr>\n",
       "      <th>2</th>\n",
       "      <td>Cali</td>\n",
       "      <td>COL</td>\n",
       "      <td>2400653</td>\n",
       "      <td>3400000</td>\n",
       "      <td>2400653</td>\n",
       "    </tr>\n",
       "    <tr>\n",
       "      <th>3</th>\n",
       "      <td>Medellin</td>\n",
       "      <td>COL</td>\n",
       "      <td>2441123</td>\n",
       "      <td>3731447</td>\n",
       "      <td>2441123</td>\n",
       "    </tr>\n",
       "  </tbody>\n",
       "</table>\n",
       "</div>"
      ],
      "text/plain": [
       "           name country_code  city_proper_pop  metroarea_pop  urbanarea_pop\n",
       "0  Barranquilla          COL          1386865        2370753        1386865\n",
       "1        Bogota          COL          7878783        9800000        7878783\n",
       "2          Cali          COL          2400653        3400000        2400653\n",
       "3      Medellin          COL          2441123        3731447        2441123"
      ]
     },
     "execution_count": 31,
     "metadata": {},
     "output_type": "execute_result"
    }
   ],
   "source": [
    "select * from world.cities where country_code = 'COL'"
   ]
  },
  {
   "cell_type": "code",
   "execution_count": 35,
   "id": "bad5f579-3666-4685-b86f-8b34700fa153",
   "metadata": {
    "customType": "sql",
    "dataFrameVariableName": "df",
    "executionTime": 1245,
    "initial": false,
    "integrationId": "c632441c-e1dc-4637-a56d-10b85efd89be",
    "lastSuccessfullyExecutedCode": "select * from world.countries where countries.code = 'COL'",
    "outputsMetadata": {
     "0": {
      "height": 110,
      "type": "dataFrame"
     }
    }
   },
   "outputs": [
    {
     "data": {
      "application/com.datacamp.data-table.v1+json": {
       "table": {
        "data": [
         {
          "cap_lat": 4.60987,
          "cap_long": -74.082,
          "capital": "Bogota",
          "code": "COL",
          "continent": "South America",
          "gov_form": "Republic",
          "indep_year": 1810,
          "index": 0,
          "local_name": "Colombia",
          "name": null,
          "region": "South America",
          "surface_area": 1138910
         }
        ],
        "schema": {
         "fields": [
          {
           "name": "index",
           "type": "integer"
          },
          {
           "name": "code",
           "type": "string"
          },
          {
           "name": "name",
           "type": "number"
          },
          {
           "name": "continent",
           "type": "string"
          },
          {
           "name": "region",
           "type": "string"
          },
          {
           "name": "surface_area",
           "type": "integer"
          },
          {
           "name": "indep_year",
           "type": "integer"
          },
          {
           "name": "local_name",
           "type": "string"
          },
          {
           "name": "gov_form",
           "type": "string"
          },
          {
           "name": "capital",
           "type": "string"
          },
          {
           "name": "cap_long",
           "type": "number"
          },
          {
           "name": "cap_lat",
           "type": "number"
          }
         ],
         "pandas_version": "1.4.0",
         "primaryKey": [
          "index"
         ]
        }
       },
       "total_rows": 1,
       "truncation_type": null
      },
      "text/html": [
       "<div>\n",
       "<style scoped>\n",
       "    .dataframe tbody tr th:only-of-type {\n",
       "        vertical-align: middle;\n",
       "    }\n",
       "\n",
       "    .dataframe tbody tr th {\n",
       "        vertical-align: top;\n",
       "    }\n",
       "\n",
       "    .dataframe thead th {\n",
       "        text-align: right;\n",
       "    }\n",
       "</style>\n",
       "<table border=\"1\" class=\"dataframe\">\n",
       "  <thead>\n",
       "    <tr style=\"text-align: right;\">\n",
       "      <th></th>\n",
       "      <th>code</th>\n",
       "      <th>name</th>\n",
       "      <th>continent</th>\n",
       "      <th>region</th>\n",
       "      <th>surface_area</th>\n",
       "      <th>indep_year</th>\n",
       "      <th>local_name</th>\n",
       "      <th>gov_form</th>\n",
       "      <th>capital</th>\n",
       "      <th>cap_long</th>\n",
       "      <th>cap_lat</th>\n",
       "    </tr>\n",
       "  </thead>\n",
       "  <tbody>\n",
       "    <tr>\n",
       "      <th>0</th>\n",
       "      <td>COL</td>\n",
       "      <td>NaN</td>\n",
       "      <td>South America</td>\n",
       "      <td>South America</td>\n",
       "      <td>1138910</td>\n",
       "      <td>1810</td>\n",
       "      <td>Colombia</td>\n",
       "      <td>Republic</td>\n",
       "      <td>Bogota</td>\n",
       "      <td>-74.082</td>\n",
       "      <td>4.60987</td>\n",
       "    </tr>\n",
       "  </tbody>\n",
       "</table>\n",
       "</div>"
      ],
      "text/plain": [
       "  code  name      continent         region  ...  gov_form  capital cap_long  cap_lat\n",
       "0  COL   NaN  South America  South America  ...  Republic   Bogota  -74.082  4.60987\n",
       "\n",
       "[1 rows x 11 columns]"
      ]
     },
     "execution_count": 35,
     "metadata": {},
     "output_type": "execute_result"
    }
   ],
   "source": [
    "select * from world.countries where countries.code = 'COL'"
   ]
  },
  {
   "cell_type": "code",
   "execution_count": 34,
   "id": "96d57b20-c5b2-4050-b3cb-0242a574b3ba",
   "metadata": {
    "chartConfig": {
     "bar": {
      "hasRoundedCorners": true,
      "stacked": false
     },
     "type": "bar",
     "version": "v1"
    },
    "customType": "sql",
    "dataFrameVariableName": "df",
    "executionTime": 1157,
    "initial": false,
    "integrationId": "c632441c-e1dc-4637-a56d-10b85efd89be",
    "lastSuccessfullyExecutedCode": "SELECT c.name, c.country_code, p.local_name\nFROM world.cities as c \nINNER JOIN world.countries as p\nON c.country_code = p.code\nand p.code = 'COL'",
    "outputsMetadata": {
     "0": {
      "height": 166,
      "type": "dataFrame"
     }
    },
    "visualizeDataframe": false
   },
   "outputs": [
    {
     "data": {
      "application/com.datacamp.data-table.v1+json": {
       "table": {
        "data": [
         {
          "country_code": "COL",
          "index": 0,
          "local_name": "Colombia",
          "name": "Barranquilla"
         },
         {
          "country_code": "COL",
          "index": 1,
          "local_name": "Colombia",
          "name": "Bogota"
         },
         {
          "country_code": "COL",
          "index": 2,
          "local_name": "Colombia",
          "name": "Cali"
         },
         {
          "country_code": "COL",
          "index": 3,
          "local_name": "Colombia",
          "name": "Medellin"
         }
        ],
        "schema": {
         "fields": [
          {
           "name": "index",
           "type": "integer"
          },
          {
           "name": "name",
           "type": "string"
          },
          {
           "name": "country_code",
           "type": "string"
          },
          {
           "name": "local_name",
           "type": "string"
          }
         ],
         "pandas_version": "1.4.0",
         "primaryKey": [
          "index"
         ]
        }
       },
       "total_rows": 4,
       "truncation_type": null
      },
      "text/html": [
       "<div>\n",
       "<style scoped>\n",
       "    .dataframe tbody tr th:only-of-type {\n",
       "        vertical-align: middle;\n",
       "    }\n",
       "\n",
       "    .dataframe tbody tr th {\n",
       "        vertical-align: top;\n",
       "    }\n",
       "\n",
       "    .dataframe thead th {\n",
       "        text-align: right;\n",
       "    }\n",
       "</style>\n",
       "<table border=\"1\" class=\"dataframe\">\n",
       "  <thead>\n",
       "    <tr style=\"text-align: right;\">\n",
       "      <th></th>\n",
       "      <th>name</th>\n",
       "      <th>country_code</th>\n",
       "      <th>local_name</th>\n",
       "    </tr>\n",
       "  </thead>\n",
       "  <tbody>\n",
       "    <tr>\n",
       "      <th>0</th>\n",
       "      <td>Barranquilla</td>\n",
       "      <td>COL</td>\n",
       "      <td>Colombia</td>\n",
       "    </tr>\n",
       "    <tr>\n",
       "      <th>1</th>\n",
       "      <td>Bogota</td>\n",
       "      <td>COL</td>\n",
       "      <td>Colombia</td>\n",
       "    </tr>\n",
       "    <tr>\n",
       "      <th>2</th>\n",
       "      <td>Cali</td>\n",
       "      <td>COL</td>\n",
       "      <td>Colombia</td>\n",
       "    </tr>\n",
       "    <tr>\n",
       "      <th>3</th>\n",
       "      <td>Medellin</td>\n",
       "      <td>COL</td>\n",
       "      <td>Colombia</td>\n",
       "    </tr>\n",
       "  </tbody>\n",
       "</table>\n",
       "</div>"
      ],
      "text/plain": [
       "           name country_code local_name\n",
       "0  Barranquilla          COL   Colombia\n",
       "1        Bogota          COL   Colombia\n",
       "2          Cali          COL   Colombia\n",
       "3      Medellin          COL   Colombia"
      ]
     },
     "execution_count": 34,
     "metadata": {},
     "output_type": "execute_result"
    }
   ],
   "source": [
    "SELECT c.name, c.country_code, p.local_name\n",
    "FROM world.cities as c \n",
    "INNER JOIN world.countries as p\n",
    "ON c.country_code = p.code\n",
    "and p.code = 'COL'"
   ]
  },
  {
   "cell_type": "code",
   "execution_count": 39,
   "id": "f8894675-1a95-4c57-8889-323a2b0257ce",
   "metadata": {
    "customType": "sql",
    "dataFrameVariableName": "df",
    "executionTime": 1925,
    "initial": false,
    "integrationId": "c632441c-e1dc-4637-a56d-10b85efd89be",
    "lastSuccessfullyExecutedCode": "SELECT cities.name as city, countries.local_name as country, countries.region \nFROM world.cities \nINNER JOIN world.countries \nON cities.country_code = countries.code;",
    "outputsMetadata": {
     "0": {
      "height": 310,
      "type": "dataFrame"
     }
    }
   },
   "outputs": [
    {
     "data": {
      "application/com.datacamp.data-table.v1+json": {
       "table": {
        "data": [
         {
          "city": "Abidjan",
          "country": "Cote dIvoire",
          "index": 0,
          "region": "Western Africa"
         },
         {
          "city": "Abu Dhabi",
          "country": "Al-Imarat al-´Arabiya al-Muttahida",
          "index": 1,
          "region": "Middle East"
         },
         {
          "city": "Abuja",
          "country": "Nigeria",
          "index": 2,
          "region": "Western Africa"
         },
         {
          "city": "Accra",
          "country": "Ghana",
          "index": 3,
          "region": "Western Africa"
         },
         {
          "city": "Addis Ababa",
          "country": "YeItyop´iya",
          "index": 4,
          "region": "Eastern Africa"
         },
         {
          "city": "Ahmedabad",
          "country": "Bharat/India",
          "index": 5,
          "region": "Southern and Central Asia"
         },
         {
          "city": "Alexandria",
          "country": "Misr",
          "index": 6,
          "region": "Northern Africa"
         },
         {
          "city": "Algiers",
          "country": "Al-Jazair/Algerie",
          "index": 7,
          "region": "Northern Africa"
         },
         {
          "city": "Almaty",
          "country": "Qazaqstan",
          "index": 8,
          "region": "Southern and Central Asia"
         },
         {
          "city": "Ankara",
          "country": "Turkiye",
          "index": 9,
          "region": "Middle East"
         },
         {
          "city": "Auckland",
          "country": "New Zealand/Aotearoa",
          "index": 10,
          "region": "Australia and New Zealand"
         },
         {
          "city": "Baghdad",
          "country": "Al-´Iraq",
          "index": 11,
          "region": "Middle East"
         },
         {
          "city": "Baku",
          "country": "Azarbaycan",
          "index": 12,
          "region": "Middle East"
         },
         {
          "city": "Bandung",
          "country": "Indonesia",
          "index": 13,
          "region": "Southeast Asia"
         },
         {
          "city": "Bangkok",
          "country": "Prathet Thai",
          "index": 14,
          "region": "Southeast Asia"
         },
         {
          "city": "Barcelona",
          "country": "Espana",
          "index": 15,
          "region": "Southern Europe"
         },
         {
          "city": "Barranquilla",
          "country": "Colombia",
          "index": 16,
          "region": "South America"
         },
         {
          "city": "Basra",
          "country": "Al-´Iraq",
          "index": 17,
          "region": "Middle East"
         },
         {
          "city": "Beijing",
          "country": "Zhongquo",
          "index": 18,
          "region": "Eastern Asia"
         },
         {
          "city": "Belo Horizonte",
          "country": "Brasil",
          "index": 19,
          "region": "South America"
         },
         {
          "city": "Bengaluru",
          "country": "Bharat/India",
          "index": 20,
          "region": "Southern and Central Asia"
         },
         {
          "city": "Berlin",
          "country": "Deutschland",
          "index": 21,
          "region": "Western Europe"
         },
         {
          "city": "Bhopal",
          "country": "Bharat/India",
          "index": 22,
          "region": "Southern and Central Asia"
         },
         {
          "city": "Birmingham",
          "country": "United Kingdom",
          "index": 23,
          "region": "British Islands"
         },
         {
          "city": "Bogota",
          "country": "Colombia",
          "index": 24,
          "region": "South America"
         },
         {
          "city": "Brasilia",
          "country": "Brasil",
          "index": 25,
          "region": "South America"
         },
         {
          "city": "Brazzaville",
          "country": "Congo",
          "index": 26,
          "region": "Central Africa"
         },
         {
          "city": "Brisbane",
          "country": "Australia",
          "index": 27,
          "region": "Australia and New Zealand"
         },
         {
          "city": "Budapest",
          "country": "Magyarorszag",
          "index": 28,
          "region": "Eastern Europe"
         },
         {
          "city": "Buenos Aires",
          "country": "Argentina",
          "index": 29,
          "region": "South America"
         },
         {
          "city": "Busan",
          "country": "Taehan Minguk (Namhan)",
          "index": 30,
          "region": "Eastern Asia"
         },
         {
          "city": "Cairo",
          "country": "Misr",
          "index": 31,
          "region": "Northern Africa"
         },
         {
          "city": "Calgary",
          "country": "Canada",
          "index": 32,
          "region": "North America"
         },
         {
          "city": "Cali",
          "country": "Colombia",
          "index": 33,
          "region": "South America"
         },
         {
          "city": "Caloocan",
          "country": "Pilipinas",
          "index": 34,
          "region": "Southeast Asia"
         },
         {
          "city": "Campinas",
          "country": "Brasil",
          "index": 35,
          "region": "South America"
         },
         {
          "city": "Cape Town",
          "country": "South Africa",
          "index": 36,
          "region": "Southern Africa"
         },
         {
          "city": "Caracas",
          "country": "Venezuela",
          "index": 37,
          "region": "South America"
         },
         {
          "city": "Casablanca",
          "country": "Al-Maghrib",
          "index": 38,
          "region": "Northern Africa"
         },
         {
          "city": "Changchun",
          "country": "Zhongquo",
          "index": 39,
          "region": "Eastern Asia"
         },
         {
          "city": "Changsha",
          "country": "Zhongquo",
          "index": 40,
          "region": "Eastern Asia"
         },
         {
          "city": "Chaozhou",
          "country": "Zhongquo",
          "index": 41,
          "region": "Eastern Asia"
         },
         {
          "city": "Chengdu",
          "country": "Zhongquo",
          "index": 42,
          "region": "Eastern Asia"
         },
         {
          "city": "Chennai",
          "country": "Bharat/India",
          "index": 43,
          "region": "Southern and Central Asia"
         },
         {
          "city": "Chicago",
          "country": "United States",
          "index": 44,
          "region": "North America"
         },
         {
          "city": "Chittagong",
          "country": "Bangladesh",
          "index": 45,
          "region": "Southern and Central Asia"
         },
         {
          "city": "Chongqing",
          "country": "Zhongquo",
          "index": 46,
          "region": "Eastern Asia"
         },
         {
          "city": "Cologne",
          "country": "Deutschland",
          "index": 47,
          "region": "Western Europe"
         },
         {
          "city": "Cordoba",
          "country": "Argentina",
          "index": 48,
          "region": "South America"
         },
         {
          "city": "Curitiba",
          "country": "Brasil",
          "index": 49,
          "region": "South America"
         },
         {
          "city": "Daegu",
          "country": "Taehan Minguk (Namhan)",
          "index": 50,
          "region": "Eastern Asia"
         },
         {
          "city": "Daejeon",
          "country": "Taehan Minguk (Namhan)",
          "index": 51,
          "region": "Eastern Asia"
         },
         {
          "city": "Dakar",
          "country": "Senegal/Sounougal",
          "index": 52,
          "region": "Western Africa"
         },
         {
          "city": "Dalian",
          "country": "Zhongquo",
          "index": 53,
          "region": "Eastern Asia"
         },
         {
          "city": "Dallas",
          "country": "United States",
          "index": 54,
          "region": "North America"
         },
         {
          "city": "Dar es Salaam",
          "country": "Tanzania",
          "index": 55,
          "region": "Eastern Africa"
         },
         {
          "city": "Davao City",
          "country": "Pilipinas",
          "index": 56,
          "region": "Southeast Asia"
         },
         {
          "city": "Delhi",
          "country": "Bharat/India",
          "index": 57,
          "region": "Southern and Central Asia"
         },
         {
          "city": "Dhaka",
          "country": "Bangladesh",
          "index": 58,
          "region": "Southern and Central Asia"
         },
         {
          "city": "Dongguan",
          "country": "Zhongquo",
          "index": 59,
          "region": "Eastern Asia"
         },
         {
          "city": "Douala",
          "country": "Cameroun/Cameroon",
          "index": 60,
          "region": "Central Africa"
         },
         {
          "city": "Dubai",
          "country": "Al-Imarat al-´Arabiya al-Muttahida",
          "index": 61,
          "region": "Middle East"
         },
         {
          "city": "Durban",
          "country": "South Africa",
          "index": 62,
          "region": "Southern Africa"
         },
         {
          "city": "Ekurhuleni",
          "country": "South Africa",
          "index": 63,
          "region": "Southern Africa"
         },
         {
          "city": "Faisalabad",
          "country": "Pakistan",
          "index": 64,
          "region": "Southern and Central Asia"
         },
         {
          "city": "Fez",
          "country": "Al-Maghrib",
          "index": 65,
          "region": "Northern Africa"
         },
         {
          "city": "Fortaleza",
          "country": "Brasil",
          "index": 66,
          "region": "South America"
         },
         {
          "city": "Foshan",
          "country": "Zhongquo",
          "index": 67,
          "region": "Eastern Asia"
         },
         {
          "city": "Fukuoka",
          "country": "Nihon/Nippon",
          "index": 68,
          "region": "Eastern Asia"
         },
         {
          "city": "Fuzhou",
          "country": "Zhongquo",
          "index": 69,
          "region": "Eastern Asia"
         },
         {
          "city": "Giza",
          "country": "Misr",
          "index": 70,
          "region": "Northern Africa"
         },
         {
          "city": "Guadalajara",
          "country": "Mexico",
          "index": 71,
          "region": "Central America"
         },
         {
          "city": "Guangzhou",
          "country": "Zhongquo",
          "index": 72,
          "region": "Eastern Asia"
         },
         {
          "city": "Guatemala City",
          "country": "Guatemala",
          "index": 73,
          "region": "Central America"
         },
         {
          "city": "Guayaquil",
          "country": "Ecuador",
          "index": 74,
          "region": "South America"
         },
         {
          "city": "Gujranwala",
          "country": "Pakistan",
          "index": 75,
          "region": "Southern and Central Asia"
         },
         {
          "city": "Hamburg",
          "country": "Deutschland",
          "index": 76,
          "region": "Western Europe"
         },
         {
          "city": "Hangzhou",
          "country": "Zhongquo",
          "index": 77,
          "region": "Eastern Asia"
         },
         {
          "city": "Hanoi",
          "country": "Viet Nam",
          "index": 78,
          "region": "Southeast Asia"
         },
         {
          "city": "Harare",
          "country": "Zimbabwe",
          "index": 79,
          "region": "Eastern Africa"
         },
         {
          "city": "Harbin",
          "country": "Zhongquo",
          "index": 80,
          "region": "Eastern Asia"
         },
         {
          "city": "Havana",
          "country": "Cuba",
          "index": 81,
          "region": "Caribbean"
         },
         {
          "city": "Hefei",
          "country": "Zhongquo",
          "index": 82,
          "region": "Eastern Asia"
         },
         {
          "city": "Hiroshima",
          "country": "Nihon/Nippon",
          "index": 83,
          "region": "Eastern Asia"
         },
         {
          "city": "Ho Chi Minh City",
          "country": "Viet Nam",
          "index": 84,
          "region": "Southeast Asia"
         },
         {
          "city": "Hong Kong",
          "country": "Zhongquo",
          "index": 85,
          "region": "Eastern Asia"
         },
         {
          "city": "Houston",
          "country": "United States",
          "index": 86,
          "region": "North America"
         },
         {
          "city": "Hyderabad (India)",
          "country": "Bharat/India",
          "index": 87,
          "region": "Southern and Central Asia"
         },
         {
          "city": "Hyderabad",
          "country": "Pakistan",
          "index": 88,
          "region": "Southern and Central Asia"
         },
         {
          "city": "Ibadan",
          "country": "Nigeria",
          "index": 89,
          "region": "Western Africa"
         },
         {
          "city": "Incheon",
          "country": "Taehan Minguk (Namhan)",
          "index": 90,
          "region": "Eastern Asia"
         },
         {
          "city": "Isfahan",
          "country": "Iran",
          "index": 91,
          "region": "Southern and Central Asia"
         },
         {
          "city": "Islamabad",
          "country": "Pakistan",
          "index": 92,
          "region": "Southern and Central Asia"
         },
         {
          "city": "Istanbul",
          "country": "Turkiye",
          "index": 93,
          "region": "Middle East"
         },
         {
          "city": "Izmir",
          "country": "Turkiye",
          "index": 94,
          "region": "Middle East"
         },
         {
          "city": "Jaipur",
          "country": "Bharat/India",
          "index": 95,
          "region": "Southern and Central Asia"
         },
         {
          "city": "Jakarta",
          "country": "Indonesia",
          "index": 96,
          "region": "Southeast Asia"
         },
         {
          "city": "Jeddah",
          "country": "Al-´Arabiya as-Sa´udiya",
          "index": 97,
          "region": "Middle East"
         },
         {
          "city": "Jinan",
          "country": "Zhongquo",
          "index": 98,
          "region": "Eastern Asia"
         },
         {
          "city": "Johannesburg",
          "country": "South Africa",
          "index": 99,
          "region": "Southern Africa"
         },
         {
          "city": "Kabul",
          "country": "Afganistan/Afqanestan",
          "index": 100,
          "region": "Southern and Central Asia"
         },
         {
          "city": "Kampala",
          "country": "Uganda",
          "index": 101,
          "region": "Eastern Africa"
         },
         {
          "city": "Kano",
          "country": "Nigeria",
          "index": 102,
          "region": "Western Africa"
         },
         {
          "city": "Kanpur",
          "country": "Bharat/India",
          "index": 103,
          "region": "Southern and Central Asia"
         },
         {
          "city": "Karachi",
          "country": "Pakistan",
          "index": 104,
          "region": "Southern and Central Asia"
         },
         {
          "city": "Karaj",
          "country": "Iran",
          "index": 105,
          "region": "Southern and Central Asia"
         },
         {
          "city": "Kawasaki",
          "country": "Nihon/Nippon",
          "index": 106,
          "region": "Eastern Asia"
         },
         {
          "city": "Kharkov",
          "country": "Ukrajina",
          "index": 107,
          "region": "Eastern Europe"
         },
         {
          "city": "Khartoum",
          "country": "As-Sudan",
          "index": 108,
          "region": "Northern Africa"
         },
         {
          "city": "Kiev",
          "country": "Ukrajina",
          "index": 109,
          "region": "Eastern Europe"
         },
         {
          "city": "Kinshasa",
          "country": "Republique Democratique du Congo",
          "index": 110,
          "region": "Central Africa"
         },
         {
          "city": "Kobe",
          "country": "Nihon/Nippon",
          "index": 111,
          "region": "Eastern Asia"
         },
         {
          "city": "Kochi",
          "country": "Bharat/India",
          "index": 112,
          "region": "Southern and Central Asia"
         },
         {
          "city": "Kolkata",
          "country": "Bharat/India",
          "index": 113,
          "region": "Southern and Central Asia"
         },
         {
          "city": "Kuala Lumpur",
          "country": "Malaysia",
          "index": 114,
          "region": "Southeast Asia"
         },
         {
          "city": "Kwangju",
          "country": "Taehan Minguk (Namhan)",
          "index": 115,
          "region": "Eastern Asia"
         },
         {
          "city": "Kyoto",
          "country": "Nihon/Nippon",
          "index": 116,
          "region": "Eastern Asia"
         },
         {
          "city": "Lagos",
          "country": "Nigeria",
          "index": 117,
          "region": "Western Africa"
         },
         {
          "city": "Lahore",
          "country": "Pakistan",
          "index": 118,
          "region": "Southern and Central Asia"
         },
         {
          "city": "Lanzhou",
          "country": "Zhongquo",
          "index": 119,
          "region": "Eastern Asia"
         },
         {
          "city": "Lima",
          "country": "Peru/Piruw",
          "index": 120,
          "region": "South America"
         },
         {
          "city": "London",
          "country": "United Kingdom",
          "index": 121,
          "region": "British Islands"
         },
         {
          "city": "Los Angeles",
          "country": "United States",
          "index": 122,
          "region": "North America"
         },
         {
          "city": "Luanda",
          "country": "Angola",
          "index": 123,
          "region": "Central Africa"
         },
         {
          "city": "Lucknow",
          "country": "Bharat/India",
          "index": 124,
          "region": "Southern and Central Asia"
         },
         {
          "city": "Lusaka",
          "country": "Zambia",
          "index": 125,
          "region": "Eastern Africa"
         },
         {
          "city": "Madrid",
          "country": "Espana",
          "index": 126,
          "region": "Southern Europe"
         },
         {
          "city": "Makassar",
          "country": "Indonesia",
          "index": 127,
          "region": "Southeast Asia"
         },
         {
          "city": "Managua",
          "country": "Nicaragua",
          "index": 128,
          "region": "Central America"
         },
         {
          "city": "Mandalay",
          "country": "Myanma Pye",
          "index": 129,
          "region": "Southeast Asia"
         },
         {
          "city": "Manila",
          "country": "Pilipinas",
          "index": 130,
          "region": "Southeast Asia"
         },
         {
          "city": "Maputo",
          "country": "Mocambique",
          "index": 131,
          "region": "Eastern Africa"
         },
         {
          "city": "Maracaibo",
          "country": "Venezuela",
          "index": 132,
          "region": "South America"
         },
         {
          "city": "Mashhad",
          "country": "Iran",
          "index": 133,
          "region": "Southern and Central Asia"
         },
         {
          "city": "Medan",
          "country": "Indonesia",
          "index": 134,
          "region": "Southeast Asia"
         },
         {
          "city": "Medellin",
          "country": "Colombia",
          "index": 135,
          "region": "South America"
         },
         {
          "city": "Mexico City",
          "country": "Mexico",
          "index": 136,
          "region": "Central America"
         },
         {
          "city": "Milan",
          "country": "Italia",
          "index": 137,
          "region": "Southern Europe"
         },
         {
          "city": "Minsk",
          "country": "Belarus",
          "index": 138,
          "region": "Eastern Europe"
         },
         {
          "city": "Monterrey",
          "country": "Mexico",
          "index": 139,
          "region": "Central America"
         },
         {
          "city": "Montevideo",
          "country": "Uruguay",
          "index": 140,
          "region": "South America"
         },
         {
          "city": "Montreal",
          "country": "Canada",
          "index": 141,
          "region": "North America"
         },
         {
          "city": "Moscow",
          "country": "Rossija",
          "index": 142,
          "region": "Eastern Europe"
         },
         {
          "city": "Multan",
          "country": "Pakistan",
          "index": 143,
          "region": "Southern and Central Asia"
         },
         {
          "city": "Mumbai",
          "country": "Bharat/India",
          "index": 144,
          "region": "Southern and Central Asia"
         },
         {
          "city": "Munich",
          "country": "Deutschland",
          "index": 145,
          "region": "Western Europe"
         },
         {
          "city": "Nagoya",
          "country": "Nihon/Nippon",
          "index": 146,
          "region": "Eastern Asia"
         },
         {
          "city": "Nagpur",
          "country": "Bharat/India",
          "index": 147,
          "region": "Southern and Central Asia"
         },
         {
          "city": "Nairobi",
          "country": "Kenya",
          "index": 148,
          "region": "Eastern Africa"
         },
         {
          "city": "Nanjing",
          "country": "Zhongquo",
          "index": 149,
          "region": "Eastern Asia"
         },
         {
          "city": "New York City",
          "country": "United States",
          "index": 150,
          "region": "North America"
         },
         {
          "city": "Ningbo",
          "country": "Zhongquo",
          "index": 151,
          "region": "Eastern Asia"
         },
         {
          "city": "Nizhny Novgorod",
          "country": "Rossija",
          "index": 152,
          "region": "Eastern Europe"
         },
         {
          "city": "Novosibirsk",
          "country": "Rossija",
          "index": 153,
          "region": "Eastern Europe"
         },
         {
          "city": "Omsk",
          "country": "Rossija",
          "index": 154,
          "region": "Eastern Europe"
         },
         {
          "city": "Oran",
          "country": "Al-Jazair/Algerie",
          "index": 155,
          "region": "Northern Africa"
         },
         {
          "city": "Osaka",
          "country": "Nihon/Nippon",
          "index": 156,
          "region": "Eastern Asia"
         },
         {
          "city": "Ouagadougou",
          "country": "Burkina Faso",
          "index": 157,
          "region": "Western Africa"
         },
         {
          "city": "Palembang",
          "country": "Indonesia",
          "index": 158,
          "region": "Southeast Asia"
         },
         {
          "city": "Paris",
          "country": "France",
          "index": 159,
          "region": "Western Europe"
         },
         {
          "city": "Patna",
          "country": "Bharat/India",
          "index": 160,
          "region": "Southern and Central Asia"
         },
         {
          "city": "Peshawar",
          "country": "Pakistan",
          "index": 161,
          "region": "Southern and Central Asia"
         },
         {
          "city": "Philadelphia",
          "country": "United States",
          "index": 162,
          "region": "North America"
         },
         {
          "city": "Phnom Penh",
          "country": "Kampuchea",
          "index": 163,
          "region": "Southeast Asia"
         },
         {
          "city": "Phoenix",
          "country": "United States",
          "index": 164,
          "region": "North America"
         },
         {
          "city": "Porto Alegre",
          "country": "Brasil",
          "index": 165,
          "region": "South America"
         },
         {
          "city": "Prague",
          "country": "¸esko",
          "index": 166,
          "region": "Eastern Europe"
         },
         {
          "city": "Pune",
          "country": "Bharat/India",
          "index": 167,
          "region": "Southern and Central Asia"
         },
         {
          "city": "Pyongyang",
          "country": "Choson Minjujuui In´min Konghwaguk (Bukhan)",
          "index": 168,
          "region": "Eastern Asia"
         },
         {
          "city": "Qingdao",
          "country": "Zhongquo",
          "index": 169,
          "region": "Eastern Asia"
         },
         {
          "city": "Quanzhou",
          "country": "Zhongquo",
          "index": 170,
          "region": "Eastern Asia"
         },
         {
          "city": "Quezon City",
          "country": "Pilipinas",
          "index": 171,
          "region": "Southeast Asia"
         },
         {
          "city": "Quito",
          "country": "Ecuador",
          "index": 172,
          "region": "South America"
         },
         {
          "city": "Rawalpindi",
          "country": "Pakistan",
          "index": 173,
          "region": "Southern and Central Asia"
         },
         {
          "city": "Recife",
          "country": "Brasil",
          "index": 174,
          "region": "South America"
         },
         {
          "city": "Rio de Janeiro",
          "country": "Brasil",
          "index": 175,
          "region": "South America"
         },
         {
          "city": "Riyadh",
          "country": "Al-´Arabiya as-Sa´udiya",
          "index": 176,
          "region": "Middle East"
         },
         {
          "city": "Rome",
          "country": "Italia",
          "index": 177,
          "region": "Southern Europe"
         },
         {
          "city": "Rosario",
          "country": "Argentina",
          "index": 178,
          "region": "South America"
         },
         {
          "city": "Rostov-on-Don",
          "country": "Rossija",
          "index": 179,
          "region": "Eastern Europe"
         },
         {
          "city": "Saint Petersburg",
          "country": "Rossija",
          "index": 180,
          "region": "Eastern Europe"
         },
         {
          "city": "Saitama",
          "country": "Nihon/Nippon",
          "index": 181,
          "region": "Eastern Asia"
         },
         {
          "city": "Salvador",
          "country": "Brasil",
          "index": 182,
          "region": "South America"
         },
         {
          "city": "San Antonio",
          "country": "United States",
          "index": 183,
          "region": "North America"
         },
         {
          "city": "San Diego",
          "country": "United States",
          "index": 184,
          "region": "North America"
         },
         {
          "city": "Sana'a",
          "country": "Al-Yaman",
          "index": 185,
          "region": "Middle East"
         },
         {
          "city": "Santa Cruz de la Sierra",
          "country": "Bolivia",
          "index": 186,
          "region": "South America"
         },
         {
          "city": "Santiago",
          "country": "Chile",
          "index": 187,
          "region": "South America"
         },
         {
          "city": "Sao Paulo",
          "country": "Brasil",
          "index": 188,
          "region": "South America"
         },
         {
          "city": "Sapporo",
          "country": "Nihon/Nippon",
          "index": 189,
          "region": "Eastern Asia"
         },
         {
          "city": "Semarang",
          "country": "Indonesia",
          "index": 190,
          "region": "Southeast Asia"
         },
         {
          "city": "Seoul",
          "country": "Taehan Minguk (Namhan)",
          "index": 191,
          "region": "Eastern Asia"
         },
         {
          "city": "Shanghai",
          "country": "Zhongquo",
          "index": 192,
          "region": "Eastern Asia"
         },
         {
          "city": "Shantou",
          "country": "Zhongquo",
          "index": 193,
          "region": "Eastern Asia"
         },
         {
          "city": "Shenyang",
          "country": "Zhongquo",
          "index": 194,
          "region": "Eastern Asia"
         },
         {
          "city": "Shenzhen",
          "country": "Zhongquo",
          "index": 195,
          "region": "Eastern Asia"
         },
         {
          "city": "Shijiazhuang",
          "country": "Zhongquo",
          "index": 196,
          "region": "Eastern Asia"
         },
         {
          "city": "Shiraz",
          "country": "Iran",
          "index": 197,
          "region": "Southern and Central Asia"
         },
         {
          "city": "Singapore",
          "country": "Singapore/Singapura/Xinjiapo/Singapur",
          "index": 198,
          "region": "Southeast Asia"
         },
         {
          "city": "Surabaya",
          "country": "Indonesia",
          "index": 199,
          "region": "Southeast Asia"
         },
         {
          "city": "Surat",
          "country": "Bharat/India",
          "index": 200,
          "region": "Southern and Central Asia"
         },
         {
          "city": "Suzhou",
          "country": "Zhongquo",
          "index": 201,
          "region": "Eastern Asia"
         },
         {
          "city": "T'bilisi",
          "country": "Sakartvelo",
          "index": 202,
          "region": "Middle East"
         },
         {
          "city": "Tabriz",
          "country": "Iran",
          "index": 203,
          "region": "Southern and Central Asia"
         },
         {
          "city": "Tangshan",
          "country": "Zhongquo",
          "index": 204,
          "region": "Eastern Asia"
         },
         {
          "city": "Tashkent",
          "country": "Uzbekiston",
          "index": 205,
          "region": "Southern and Central Asia"
         },
         {
          "city": "Tehran",
          "country": "Iran",
          "index": 206,
          "region": "Southern and Central Asia"
         },
         {
          "city": "Tianjin",
          "country": "Zhongquo",
          "index": 207,
          "region": "Eastern Asia"
         },
         {
          "city": "Tijuana",
          "country": "Mexico",
          "index": 208,
          "region": "Central America"
         },
         {
          "city": "Tokyo",
          "country": "Nihon/Nippon",
          "index": 209,
          "region": "Eastern Asia"
         },
         {
          "city": "Toronto",
          "country": "Canada",
          "index": 210,
          "region": "North America"
         },
         {
          "city": "Tripoli",
          "country": "Libiya",
          "index": 211,
          "region": "Northern Africa"
         },
         {
          "city": "Tunis",
          "country": "Tunis/Tunisie",
          "index": 212,
          "region": "Northern Africa"
         },
         {
          "city": "Ulsan",
          "country": "Taehan Minguk (Namhan)",
          "index": 213,
          "region": "Eastern Asia"
         },
         {
          "city": "Vienna",
          "country": "Osterreich",
          "index": 214,
          "region": "Western Europe"
         },
         {
          "city": "Vijayawada",
          "country": "Bharat/India",
          "index": 215,
          "region": "Southern and Central Asia"
         },
         {
          "city": "Visakhapatnam",
          "country": "Bharat/India",
          "index": 216,
          "region": "Southern and Central Asia"
         },
         {
          "city": "Warsaw",
          "country": "Polska",
          "index": 217,
          "region": "Eastern Europe"
         },
         {
          "city": "Wenzhou",
          "country": "Zhongquo",
          "index": 218,
          "region": "Eastern Asia"
         },
         {
          "city": "Wuhan",
          "country": "Zhongquo",
          "index": 219,
          "region": "Eastern Asia"
         },
         {
          "city": "Xi'an",
          "country": "Zhongquo",
          "index": 220,
          "region": "Eastern Asia"
         },
         {
          "city": "Xiamen",
          "country": "Zhongquo",
          "index": 221,
          "region": "Eastern Asia"
         },
         {
          "city": "Yangon",
          "country": "Myanma Pye",
          "index": 222,
          "region": "Southeast Asia"
         },
         {
          "city": "Yaounde",
          "country": "Cameroun/Cameroon",
          "index": 223,
          "region": "Central Africa"
         },
         {
          "city": "Yekaterinburg",
          "country": "Rossija",
          "index": 224,
          "region": "Eastern Europe"
         },
         {
          "city": "Yerevan",
          "country": "Hajastan",
          "index": 225,
          "region": "Middle East"
         },
         {
          "city": "Yokohama",
          "country": "Nihon/Nippon",
          "index": 226,
          "region": "Eastern Asia"
         },
         {
          "city": "Zhengzhou",
          "country": "Zhongquo",
          "index": 227,
          "region": "Eastern Asia"
         },
         {
          "city": "Zhongshan",
          "country": "Zhongquo",
          "index": 228,
          "region": "Eastern Asia"
         },
         {
          "city": "Zunyi",
          "country": "Zhongquo",
          "index": 229,
          "region": "Eastern Asia"
         }
        ],
        "schema": {
         "fields": [
          {
           "name": "index",
           "type": "integer"
          },
          {
           "name": "city",
           "type": "string"
          },
          {
           "name": "country",
           "type": "string"
          },
          {
           "name": "region",
           "type": "string"
          }
         ],
         "pandas_version": "1.4.0",
         "primaryKey": [
          "index"
         ]
        }
       },
       "total_rows": 230,
       "truncation_type": null
      },
      "text/html": [
       "<div>\n",
       "<style scoped>\n",
       "    .dataframe tbody tr th:only-of-type {\n",
       "        vertical-align: middle;\n",
       "    }\n",
       "\n",
       "    .dataframe tbody tr th {\n",
       "        vertical-align: top;\n",
       "    }\n",
       "\n",
       "    .dataframe thead th {\n",
       "        text-align: right;\n",
       "    }\n",
       "</style>\n",
       "<table border=\"1\" class=\"dataframe\">\n",
       "  <thead>\n",
       "    <tr style=\"text-align: right;\">\n",
       "      <th></th>\n",
       "      <th>city</th>\n",
       "      <th>country</th>\n",
       "      <th>region</th>\n",
       "    </tr>\n",
       "  </thead>\n",
       "  <tbody>\n",
       "    <tr>\n",
       "      <th>0</th>\n",
       "      <td>Abidjan</td>\n",
       "      <td>Cote dIvoire</td>\n",
       "      <td>Western Africa</td>\n",
       "    </tr>\n",
       "    <tr>\n",
       "      <th>1</th>\n",
       "      <td>Abu Dhabi</td>\n",
       "      <td>Al-Imarat al-´Arabiya al-Muttahida</td>\n",
       "      <td>Middle East</td>\n",
       "    </tr>\n",
       "    <tr>\n",
       "      <th>2</th>\n",
       "      <td>Abuja</td>\n",
       "      <td>Nigeria</td>\n",
       "      <td>Western Africa</td>\n",
       "    </tr>\n",
       "    <tr>\n",
       "      <th>3</th>\n",
       "      <td>Accra</td>\n",
       "      <td>Ghana</td>\n",
       "      <td>Western Africa</td>\n",
       "    </tr>\n",
       "    <tr>\n",
       "      <th>4</th>\n",
       "      <td>Addis Ababa</td>\n",
       "      <td>YeItyop´iya</td>\n",
       "      <td>Eastern Africa</td>\n",
       "    </tr>\n",
       "    <tr>\n",
       "      <th>...</th>\n",
       "      <td>...</td>\n",
       "      <td>...</td>\n",
       "      <td>...</td>\n",
       "    </tr>\n",
       "    <tr>\n",
       "      <th>225</th>\n",
       "      <td>Yerevan</td>\n",
       "      <td>Hajastan</td>\n",
       "      <td>Middle East</td>\n",
       "    </tr>\n",
       "    <tr>\n",
       "      <th>226</th>\n",
       "      <td>Yokohama</td>\n",
       "      <td>Nihon/Nippon</td>\n",
       "      <td>Eastern Asia</td>\n",
       "    </tr>\n",
       "    <tr>\n",
       "      <th>227</th>\n",
       "      <td>Zhengzhou</td>\n",
       "      <td>Zhongquo</td>\n",
       "      <td>Eastern Asia</td>\n",
       "    </tr>\n",
       "    <tr>\n",
       "      <th>228</th>\n",
       "      <td>Zhongshan</td>\n",
       "      <td>Zhongquo</td>\n",
       "      <td>Eastern Asia</td>\n",
       "    </tr>\n",
       "    <tr>\n",
       "      <th>229</th>\n",
       "      <td>Zunyi</td>\n",
       "      <td>Zhongquo</td>\n",
       "      <td>Eastern Asia</td>\n",
       "    </tr>\n",
       "  </tbody>\n",
       "</table>\n",
       "<p>230 rows × 3 columns</p>\n",
       "</div>"
      ],
      "text/plain": [
       "            city                             country          region\n",
       "0        Abidjan                       Cote dIvoire  Western Africa\n",
       "1      Abu Dhabi  Al-Imarat al-´Arabiya al-Muttahida     Middle East\n",
       "2          Abuja                             Nigeria  Western Africa\n",
       "3          Accra                               Ghana  Western Africa\n",
       "4    Addis Ababa                         YeItyop´iya  Eastern Africa\n",
       "..           ...                                 ...             ...\n",
       "225      Yerevan                            Hajastan     Middle East\n",
       "226     Yokohama                        Nihon/Nippon    Eastern Asia\n",
       "227    Zhengzhou                            Zhongquo    Eastern Asia\n",
       "228    Zhongshan                            Zhongquo    Eastern Asia\n",
       "229        Zunyi                            Zhongquo    Eastern Asia\n",
       "\n",
       "[230 rows x 3 columns]"
      ]
     },
     "execution_count": 39,
     "metadata": {},
     "output_type": "execute_result"
    }
   ],
   "source": [
    "SELECT cities.name as city, countries.local_name as country, countries.region \n",
    "FROM world.cities \n",
    "INNER JOIN world.countries \n",
    "ON cities.country_code = countries.code;"
   ]
  },
  {
   "cell_type": "markdown",
   "id": "01018648-d783-4cf8-9908-28d4249a3930",
   "metadata": {},
   "source": [
    "## Ejemplo"
   ]
  },
  {
   "cell_type": "code",
   "execution_count": 2,
   "id": "757913c0-4cee-4dad-a4fc-370325b53355",
   "metadata": {
    "customType": "sql",
    "dataFrameVariableName": "df1",
    "executionCancelledAt": null,
    "executionTime": 1965,
    "lastExecutedAt": 1688503248505,
    "lastScheduledRunId": null,
    "lastSuccessfullyExecutedCode": "select * from world.economies limit 5",
    "outputsMetadata": {
     "0": {
      "height": 206,
      "type": "dataFrame"
     }
    },
    "sqlCellMode": "dataFrame",
    "sqlSource": {
     "integrationId": "c632441c-e1dc-4637-a56d-10b85efd89be",
     "type": "integration"
    }
   },
   "outputs": [
    {
     "@datacamp/metadata": {
      "executedQuery": "select * from world.economies limit 5",
      "executedQueryParameters": []
     },
     "data": {
      "application/com.datacamp.data-table.v1+json": {
       "table": {
        "data": [
         {
          "code": "AFG",
          "econ_id": 1,
          "exports": 46.394,
          "gdp_percapita": 539.667,
          "gross_savings": 37.133,
          "imports": 24.381,
          "income_group": "Low income",
          "index": 0,
          "inflation_rate": 2.179,
          "total_investment": 30.402,
          "unemployment_rate": null,
          "year": 2010
         },
         {
          "code": "AFG",
          "econ_id": 2,
          "exports": -49.11,
          "gdp_percapita": 615.091,
          "gross_savings": 21.466,
          "imports": -7.294,
          "income_group": "Low income",
          "index": 1,
          "inflation_rate": -1.549,
          "total_investment": 18.602,
          "unemployment_rate": null,
          "year": 2015
         },
         {
          "code": "AGO",
          "econ_id": 3,
          "exports": -3.266,
          "gdp_percapita": 3599.27,
          "gross_savings": 23.534,
          "imports": -21.076,
          "income_group": "Upper middle income",
          "index": 2,
          "inflation_rate": 14.48,
          "total_investment": 14.433,
          "unemployment_rate": null,
          "year": 2010
         },
         {
          "code": "AGO",
          "econ_id": 4,
          "exports": 6.721,
          "gdp_percapita": 3876.2,
          "gross_savings": -0.425,
          "imports": -21.778,
          "income_group": "Upper middle income",
          "index": 3,
          "inflation_rate": 10.287,
          "total_investment": 9.552,
          "unemployment_rate": null,
          "year": 2015
         },
         {
          "code": "ALB",
          "econ_id": 5,
          "exports": 10.645,
          "gdp_percapita": 4098.13,
          "gross_savings": 20.011,
          "imports": -8.013,
          "income_group": "Upper middle income",
          "index": 4,
          "inflation_rate": 3.605,
          "total_investment": 31.305,
          "unemployment_rate": 14,
          "year": 2010
         }
        ],
        "schema": {
         "fields": [
          {
           "name": "index",
           "type": "integer"
          },
          {
           "name": "econ_id",
           "type": "integer"
          },
          {
           "name": "code",
           "type": "string"
          },
          {
           "name": "year",
           "type": "integer"
          },
          {
           "name": "income_group",
           "type": "string"
          },
          {
           "name": "gdp_percapita",
           "type": "number"
          },
          {
           "name": "gross_savings",
           "type": "number"
          },
          {
           "name": "inflation_rate",
           "type": "number"
          },
          {
           "name": "total_investment",
           "type": "number"
          },
          {
           "name": "unemployment_rate",
           "type": "number"
          },
          {
           "name": "exports",
           "type": "number"
          },
          {
           "name": "imports",
           "type": "number"
          }
         ],
         "pandas_version": "1.4.0",
         "primaryKey": [
          "index"
         ]
        }
       },
       "total_rows": 5,
       "truncation_type": null
      },
      "text/html": [
       "<div>\n",
       "<style scoped>\n",
       "    .dataframe tbody tr th:only-of-type {\n",
       "        vertical-align: middle;\n",
       "    }\n",
       "\n",
       "    .dataframe tbody tr th {\n",
       "        vertical-align: top;\n",
       "    }\n",
       "\n",
       "    .dataframe thead th {\n",
       "        text-align: right;\n",
       "    }\n",
       "</style>\n",
       "<table border=\"1\" class=\"dataframe\">\n",
       "  <thead>\n",
       "    <tr style=\"text-align: right;\">\n",
       "      <th></th>\n",
       "      <th>econ_id</th>\n",
       "      <th>code</th>\n",
       "      <th>year</th>\n",
       "      <th>income_group</th>\n",
       "      <th>gdp_percapita</th>\n",
       "      <th>gross_savings</th>\n",
       "      <th>inflation_rate</th>\n",
       "      <th>total_investment</th>\n",
       "      <th>unemployment_rate</th>\n",
       "      <th>exports</th>\n",
       "      <th>imports</th>\n",
       "    </tr>\n",
       "  </thead>\n",
       "  <tbody>\n",
       "    <tr>\n",
       "      <th>0</th>\n",
       "      <td>1</td>\n",
       "      <td>AFG</td>\n",
       "      <td>2010</td>\n",
       "      <td>Low income</td>\n",
       "      <td>539.667</td>\n",
       "      <td>37.133</td>\n",
       "      <td>2.179</td>\n",
       "      <td>30.402</td>\n",
       "      <td>NaN</td>\n",
       "      <td>46.394</td>\n",
       "      <td>24.381</td>\n",
       "    </tr>\n",
       "    <tr>\n",
       "      <th>1</th>\n",
       "      <td>2</td>\n",
       "      <td>AFG</td>\n",
       "      <td>2015</td>\n",
       "      <td>Low income</td>\n",
       "      <td>615.091</td>\n",
       "      <td>21.466</td>\n",
       "      <td>-1.549</td>\n",
       "      <td>18.602</td>\n",
       "      <td>NaN</td>\n",
       "      <td>-49.110</td>\n",
       "      <td>-7.294</td>\n",
       "    </tr>\n",
       "    <tr>\n",
       "      <th>2</th>\n",
       "      <td>3</td>\n",
       "      <td>AGO</td>\n",
       "      <td>2010</td>\n",
       "      <td>Upper middle income</td>\n",
       "      <td>3599.270</td>\n",
       "      <td>23.534</td>\n",
       "      <td>14.480</td>\n",
       "      <td>14.433</td>\n",
       "      <td>NaN</td>\n",
       "      <td>-3.266</td>\n",
       "      <td>-21.076</td>\n",
       "    </tr>\n",
       "    <tr>\n",
       "      <th>3</th>\n",
       "      <td>4</td>\n",
       "      <td>AGO</td>\n",
       "      <td>2015</td>\n",
       "      <td>Upper middle income</td>\n",
       "      <td>3876.200</td>\n",
       "      <td>-0.425</td>\n",
       "      <td>10.287</td>\n",
       "      <td>9.552</td>\n",
       "      <td>NaN</td>\n",
       "      <td>6.721</td>\n",
       "      <td>-21.778</td>\n",
       "    </tr>\n",
       "    <tr>\n",
       "      <th>4</th>\n",
       "      <td>5</td>\n",
       "      <td>ALB</td>\n",
       "      <td>2010</td>\n",
       "      <td>Upper middle income</td>\n",
       "      <td>4098.130</td>\n",
       "      <td>20.011</td>\n",
       "      <td>3.605</td>\n",
       "      <td>31.305</td>\n",
       "      <td>14.0</td>\n",
       "      <td>10.645</td>\n",
       "      <td>-8.013</td>\n",
       "    </tr>\n",
       "  </tbody>\n",
       "</table>\n",
       "</div>"
      ],
      "text/plain": [
       "   econ_id code  year  ... unemployment_rate  exports  imports\n",
       "0        1  AFG  2010  ...               NaN   46.394   24.381\n",
       "1        2  AFG  2015  ...               NaN  -49.110   -7.294\n",
       "2        3  AGO  2010  ...               NaN   -3.266  -21.076\n",
       "3        4  AGO  2015  ...               NaN    6.721  -21.778\n",
       "4        5  ALB  2010  ...              14.0   10.645   -8.013\n",
       "\n",
       "[5 rows x 11 columns]"
      ]
     },
     "execution_count": 2,
     "metadata": {},
     "output_type": "execute_result"
    }
   ],
   "source": [
    "select * from world.economies limit 5"
   ]
  },
  {
   "cell_type": "code",
   "execution_count": 3,
   "id": "4c18f326-193e-45e0-8663-2c57884e1f92",
   "metadata": {
    "customType": "sql",
    "dataFrameVariableName": "df2",
    "executionCancelledAt": null,
    "executionTime": 2146,
    "lastExecutedAt": 1688503271149,
    "lastScheduledRunId": null,
    "lastSuccessfullyExecutedCode": "select * from world.countries limit 5",
    "outputsMetadata": {
     "0": {
      "height": 206,
      "type": "dataFrame"
     }
    },
    "sqlCellMode": "dataFrame",
    "sqlSource": {
     "integrationId": "c632441c-e1dc-4637-a56d-10b85efd89be",
     "type": "integration"
    }
   },
   "outputs": [
    {
     "@datacamp/metadata": {
      "executedQuery": "select * from world.countries limit 5",
      "executedQueryParameters": []
     },
     "data": {
      "application/com.datacamp.data-table.v1+json": {
       "table": {
        "data": [
         {
          "cap_lat": 34.5228,
          "cap_long": 69.1761,
          "capital": "Kabul",
          "code": "AFG",
          "continent": "Asia",
          "gov_form": "Islamic Emirate",
          "indep_year": 1919,
          "index": 0,
          "local_name": "Afganistan/Afqanestan",
          "name": "Afghanistan",
          "region": "Southern and Central Asia",
          "surface_area": 652090
         },
         {
          "cap_lat": 52.3738,
          "cap_long": 4.89095,
          "capital": "Amsterdam",
          "code": "NLD",
          "continent": "Europe",
          "gov_form": "Constitutional Monarchy",
          "indep_year": 1581,
          "index": 1,
          "local_name": "Nederland",
          "name": "Netherlands",
          "region": "Western Europe",
          "surface_area": 41526
         },
         {
          "cap_lat": 41.3317,
          "cap_long": 19.8172,
          "capital": "Tirane",
          "code": "ALB",
          "continent": "Europe",
          "gov_form": "Republic",
          "indep_year": 1912,
          "index": 2,
          "local_name": "Shqiperia",
          "name": "Albania",
          "region": "Southern Europe",
          "surface_area": 28748
         },
         {
          "cap_lat": 36.7397,
          "cap_long": 3.05097,
          "capital": "Algiers",
          "code": "DZA",
          "continent": "Africa",
          "gov_form": "Republic",
          "indep_year": 1962,
          "index": 3,
          "local_name": "Al-Jazair/Algerie",
          "name": "Algeria",
          "region": "Northern Africa",
          "surface_area": 2381740
         },
         {
          "cap_lat": -14.2846,
          "cap_long": -170.691,
          "capital": "Pago Pago",
          "code": "ASM",
          "continent": "Oceania",
          "gov_form": "US Territory",
          "indep_year": null,
          "index": 4,
          "local_name": "Amerika Samoa",
          "name": "American Samoa",
          "region": "Polynesia",
          "surface_area": 199
         }
        ],
        "schema": {
         "fields": [
          {
           "name": "index",
           "type": "integer"
          },
          {
           "name": "code",
           "type": "string"
          },
          {
           "name": "name",
           "type": "string"
          },
          {
           "name": "continent",
           "type": "string"
          },
          {
           "name": "region",
           "type": "string"
          },
          {
           "name": "surface_area",
           "type": "integer"
          },
          {
           "name": "indep_year",
           "type": "number"
          },
          {
           "name": "local_name",
           "type": "string"
          },
          {
           "name": "gov_form",
           "type": "string"
          },
          {
           "name": "capital",
           "type": "string"
          },
          {
           "name": "cap_long",
           "type": "number"
          },
          {
           "name": "cap_lat",
           "type": "number"
          }
         ],
         "pandas_version": "1.4.0",
         "primaryKey": [
          "index"
         ]
        }
       },
       "total_rows": 5,
       "truncation_type": null
      },
      "text/html": [
       "<div>\n",
       "<style scoped>\n",
       "    .dataframe tbody tr th:only-of-type {\n",
       "        vertical-align: middle;\n",
       "    }\n",
       "\n",
       "    .dataframe tbody tr th {\n",
       "        vertical-align: top;\n",
       "    }\n",
       "\n",
       "    .dataframe thead th {\n",
       "        text-align: right;\n",
       "    }\n",
       "</style>\n",
       "<table border=\"1\" class=\"dataframe\">\n",
       "  <thead>\n",
       "    <tr style=\"text-align: right;\">\n",
       "      <th></th>\n",
       "      <th>code</th>\n",
       "      <th>name</th>\n",
       "      <th>continent</th>\n",
       "      <th>region</th>\n",
       "      <th>surface_area</th>\n",
       "      <th>indep_year</th>\n",
       "      <th>local_name</th>\n",
       "      <th>gov_form</th>\n",
       "      <th>capital</th>\n",
       "      <th>cap_long</th>\n",
       "      <th>cap_lat</th>\n",
       "    </tr>\n",
       "  </thead>\n",
       "  <tbody>\n",
       "    <tr>\n",
       "      <th>0</th>\n",
       "      <td>AFG</td>\n",
       "      <td>Afghanistan</td>\n",
       "      <td>Asia</td>\n",
       "      <td>Southern and Central Asia</td>\n",
       "      <td>652090</td>\n",
       "      <td>1919.0</td>\n",
       "      <td>Afganistan/Afqanestan</td>\n",
       "      <td>Islamic Emirate</td>\n",
       "      <td>Kabul</td>\n",
       "      <td>69.17610</td>\n",
       "      <td>34.5228</td>\n",
       "    </tr>\n",
       "    <tr>\n",
       "      <th>1</th>\n",
       "      <td>NLD</td>\n",
       "      <td>Netherlands</td>\n",
       "      <td>Europe</td>\n",
       "      <td>Western Europe</td>\n",
       "      <td>41526</td>\n",
       "      <td>1581.0</td>\n",
       "      <td>Nederland</td>\n",
       "      <td>Constitutional Monarchy</td>\n",
       "      <td>Amsterdam</td>\n",
       "      <td>4.89095</td>\n",
       "      <td>52.3738</td>\n",
       "    </tr>\n",
       "    <tr>\n",
       "      <th>2</th>\n",
       "      <td>ALB</td>\n",
       "      <td>Albania</td>\n",
       "      <td>Europe</td>\n",
       "      <td>Southern Europe</td>\n",
       "      <td>28748</td>\n",
       "      <td>1912.0</td>\n",
       "      <td>Shqiperia</td>\n",
       "      <td>Republic</td>\n",
       "      <td>Tirane</td>\n",
       "      <td>19.81720</td>\n",
       "      <td>41.3317</td>\n",
       "    </tr>\n",
       "    <tr>\n",
       "      <th>3</th>\n",
       "      <td>DZA</td>\n",
       "      <td>Algeria</td>\n",
       "      <td>Africa</td>\n",
       "      <td>Northern Africa</td>\n",
       "      <td>2381740</td>\n",
       "      <td>1962.0</td>\n",
       "      <td>Al-Jazair/Algerie</td>\n",
       "      <td>Republic</td>\n",
       "      <td>Algiers</td>\n",
       "      <td>3.05097</td>\n",
       "      <td>36.7397</td>\n",
       "    </tr>\n",
       "    <tr>\n",
       "      <th>4</th>\n",
       "      <td>ASM</td>\n",
       "      <td>American Samoa</td>\n",
       "      <td>Oceania</td>\n",
       "      <td>Polynesia</td>\n",
       "      <td>199</td>\n",
       "      <td>NaN</td>\n",
       "      <td>Amerika Samoa</td>\n",
       "      <td>US Territory</td>\n",
       "      <td>Pago Pago</td>\n",
       "      <td>-170.69100</td>\n",
       "      <td>-14.2846</td>\n",
       "    </tr>\n",
       "  </tbody>\n",
       "</table>\n",
       "</div>"
      ],
      "text/plain": [
       "  code            name continent  ...    capital   cap_long  cap_lat\n",
       "0  AFG     Afghanistan      Asia  ...      Kabul   69.17610  34.5228\n",
       "1  NLD     Netherlands    Europe  ...  Amsterdam    4.89095  52.3738\n",
       "2  ALB         Albania    Europe  ...     Tirane   19.81720  41.3317\n",
       "3  DZA         Algeria    Africa  ...    Algiers    3.05097  36.7397\n",
       "4  ASM  American Samoa   Oceania  ...  Pago Pago -170.69100 -14.2846\n",
       "\n",
       "[5 rows x 11 columns]"
      ]
     },
     "execution_count": 3,
     "metadata": {},
     "output_type": "execute_result"
    }
   ],
   "source": [
    "select * from world.countries limit 5"
   ]
  },
  {
   "cell_type": "code",
   "execution_count": 1,
   "id": "c95eecad-b899-40f5-b3f9-4d11cf0d2569",
   "metadata": {
    "customType": "sql",
    "dataFrameVariableName": "df",
    "executionCancelledAt": null,
    "executionTime": 3020,
    "initial": false,
    "integrationId": "c632441c-e1dc-4637-a56d-10b85efd89be",
    "lastExecutedAt": 1688517250106,
    "lastScheduledRunId": null,
    "lastSuccessfullyExecutedCode": "SELECT c.code AS country_code, local_name, year, inflation_rate \nFROM world.countries AS c \nINNER JOIN world.economies as e \nON c.code = e.code\nand c.code = 'COL'"
   },
   "outputs": [
    {
     "@datacamp/metadata": {
      "executedQuery": "SELECT c.code AS country_code, local_name, year, inflation_rate \nFROM world.countries AS c \nINNER JOIN world.economies as e \nON c.code = e.code\nand c.code = 'COL'",
      "executedQueryParameters": []
     },
     "data": {
      "application/com.datacamp.data-table.v1+json": {
       "table": {
        "data": [
         {
          "country_code": "COL",
          "index": 0,
          "inflation_rate": 2.272,
          "local_name": "Colombia",
          "year": 2010
         },
         {
          "country_code": "COL",
          "index": 1,
          "inflation_rate": 4.99,
          "local_name": "Colombia",
          "year": 2015
         }
        ],
        "schema": {
         "fields": [
          {
           "name": "index",
           "type": "integer"
          },
          {
           "name": "country_code",
           "type": "string"
          },
          {
           "name": "local_name",
           "type": "string"
          },
          {
           "name": "year",
           "type": "integer"
          },
          {
           "name": "inflation_rate",
           "type": "number"
          }
         ],
         "pandas_version": "1.4.0",
         "primaryKey": [
          "index"
         ]
        }
       },
       "total_rows": 2,
       "truncation_type": null
      },
      "text/html": [
       "<div>\n",
       "<style scoped>\n",
       "    .dataframe tbody tr th:only-of-type {\n",
       "        vertical-align: middle;\n",
       "    }\n",
       "\n",
       "    .dataframe tbody tr th {\n",
       "        vertical-align: top;\n",
       "    }\n",
       "\n",
       "    .dataframe thead th {\n",
       "        text-align: right;\n",
       "    }\n",
       "</style>\n",
       "<table border=\"1\" class=\"dataframe\">\n",
       "  <thead>\n",
       "    <tr style=\"text-align: right;\">\n",
       "      <th></th>\n",
       "      <th>country_code</th>\n",
       "      <th>local_name</th>\n",
       "      <th>year</th>\n",
       "      <th>inflation_rate</th>\n",
       "    </tr>\n",
       "  </thead>\n",
       "  <tbody>\n",
       "    <tr>\n",
       "      <th>0</th>\n",
       "      <td>COL</td>\n",
       "      <td>Colombia</td>\n",
       "      <td>2010</td>\n",
       "      <td>2.272</td>\n",
       "    </tr>\n",
       "    <tr>\n",
       "      <th>1</th>\n",
       "      <td>COL</td>\n",
       "      <td>Colombia</td>\n",
       "      <td>2015</td>\n",
       "      <td>4.990</td>\n",
       "    </tr>\n",
       "  </tbody>\n",
       "</table>\n",
       "</div>"
      ],
      "text/plain": [
       "  country_code local_name  year  inflation_rate\n",
       "0          COL   Colombia  2010           2.272\n",
       "1          COL   Colombia  2015           4.990"
      ]
     },
     "execution_count": 1,
     "metadata": {},
     "output_type": "execute_result"
    }
   ],
   "source": [
    "SELECT c.code AS country_code, local_name, year, inflation_rate \n",
    "FROM world.countries AS c \n",
    "INNER JOIN world.economies as e \n",
    "ON c.code = e.code\n",
    "and c.code = 'COL'"
   ]
  },
  {
   "cell_type": "markdown",
   "id": "e486aaee-4485-4eb4-b51d-4c372b610463",
   "metadata": {},
   "source": [
    "## Ejemplo"
   ]
  },
  {
   "cell_type": "code",
   "execution_count": 4,
   "id": "fff3010f-3c69-4b4e-bdf2-916d25844d9d",
   "metadata": {
    "customType": "sql",
    "dataFrameVariableName": "df3",
    "executionCancelledAt": null,
    "executionTime": 2008,
    "lastExecutedAt": 1688503420048,
    "lastScheduledRunId": null,
    "lastSuccessfullyExecutedCode": "select * from world.countries limit 5",
    "sqlCellMode": "dataFrame",
    "sqlSource": {
     "integrationId": "c632441c-e1dc-4637-a56d-10b85efd89be",
     "type": "integration"
    }
   },
   "outputs": [
    {
     "@datacamp/metadata": {
      "executedQuery": "select * from world.countries limit 5",
      "executedQueryParameters": []
     },
     "data": {
      "application/com.datacamp.data-table.v1+json": {
       "table": {
        "data": [
         {
          "cap_lat": 34.5228,
          "cap_long": 69.1761,
          "capital": "Kabul",
          "code": "AFG",
          "continent": "Asia",
          "gov_form": "Islamic Emirate",
          "indep_year": 1919,
          "index": 0,
          "local_name": "Afganistan/Afqanestan",
          "name": "Afghanistan",
          "region": "Southern and Central Asia",
          "surface_area": 652090
         },
         {
          "cap_lat": 52.3738,
          "cap_long": 4.89095,
          "capital": "Amsterdam",
          "code": "NLD",
          "continent": "Europe",
          "gov_form": "Constitutional Monarchy",
          "indep_year": 1581,
          "index": 1,
          "local_name": "Nederland",
          "name": "Netherlands",
          "region": "Western Europe",
          "surface_area": 41526
         },
         {
          "cap_lat": 41.3317,
          "cap_long": 19.8172,
          "capital": "Tirane",
          "code": "ALB",
          "continent": "Europe",
          "gov_form": "Republic",
          "indep_year": 1912,
          "index": 2,
          "local_name": "Shqiperia",
          "name": "Albania",
          "region": "Southern Europe",
          "surface_area": 28748
         },
         {
          "cap_lat": 36.7397,
          "cap_long": 3.05097,
          "capital": "Algiers",
          "code": "DZA",
          "continent": "Africa",
          "gov_form": "Republic",
          "indep_year": 1962,
          "index": 3,
          "local_name": "Al-Jazair/Algerie",
          "name": "Algeria",
          "region": "Northern Africa",
          "surface_area": 2381740
         },
         {
          "cap_lat": -14.2846,
          "cap_long": -170.691,
          "capital": "Pago Pago",
          "code": "ASM",
          "continent": "Oceania",
          "gov_form": "US Territory",
          "indep_year": null,
          "index": 4,
          "local_name": "Amerika Samoa",
          "name": "American Samoa",
          "region": "Polynesia",
          "surface_area": 199
         }
        ],
        "schema": {
         "fields": [
          {
           "name": "index",
           "type": "integer"
          },
          {
           "name": "code",
           "type": "string"
          },
          {
           "name": "name",
           "type": "string"
          },
          {
           "name": "continent",
           "type": "string"
          },
          {
           "name": "region",
           "type": "string"
          },
          {
           "name": "surface_area",
           "type": "integer"
          },
          {
           "name": "indep_year",
           "type": "number"
          },
          {
           "name": "local_name",
           "type": "string"
          },
          {
           "name": "gov_form",
           "type": "string"
          },
          {
           "name": "capital",
           "type": "string"
          },
          {
           "name": "cap_long",
           "type": "number"
          },
          {
           "name": "cap_lat",
           "type": "number"
          }
         ],
         "pandas_version": "1.4.0",
         "primaryKey": [
          "index"
         ]
        }
       },
       "total_rows": 5,
       "truncation_type": null
      },
      "text/html": [
       "<div>\n",
       "<style scoped>\n",
       "    .dataframe tbody tr th:only-of-type {\n",
       "        vertical-align: middle;\n",
       "    }\n",
       "\n",
       "    .dataframe tbody tr th {\n",
       "        vertical-align: top;\n",
       "    }\n",
       "\n",
       "    .dataframe thead th {\n",
       "        text-align: right;\n",
       "    }\n",
       "</style>\n",
       "<table border=\"1\" class=\"dataframe\">\n",
       "  <thead>\n",
       "    <tr style=\"text-align: right;\">\n",
       "      <th></th>\n",
       "      <th>code</th>\n",
       "      <th>name</th>\n",
       "      <th>continent</th>\n",
       "      <th>region</th>\n",
       "      <th>surface_area</th>\n",
       "      <th>indep_year</th>\n",
       "      <th>local_name</th>\n",
       "      <th>gov_form</th>\n",
       "      <th>capital</th>\n",
       "      <th>cap_long</th>\n",
       "      <th>cap_lat</th>\n",
       "    </tr>\n",
       "  </thead>\n",
       "  <tbody>\n",
       "    <tr>\n",
       "      <th>0</th>\n",
       "      <td>AFG</td>\n",
       "      <td>Afghanistan</td>\n",
       "      <td>Asia</td>\n",
       "      <td>Southern and Central Asia</td>\n",
       "      <td>652090</td>\n",
       "      <td>1919.0</td>\n",
       "      <td>Afganistan/Afqanestan</td>\n",
       "      <td>Islamic Emirate</td>\n",
       "      <td>Kabul</td>\n",
       "      <td>69.17610</td>\n",
       "      <td>34.5228</td>\n",
       "    </tr>\n",
       "    <tr>\n",
       "      <th>1</th>\n",
       "      <td>NLD</td>\n",
       "      <td>Netherlands</td>\n",
       "      <td>Europe</td>\n",
       "      <td>Western Europe</td>\n",
       "      <td>41526</td>\n",
       "      <td>1581.0</td>\n",
       "      <td>Nederland</td>\n",
       "      <td>Constitutional Monarchy</td>\n",
       "      <td>Amsterdam</td>\n",
       "      <td>4.89095</td>\n",
       "      <td>52.3738</td>\n",
       "    </tr>\n",
       "    <tr>\n",
       "      <th>2</th>\n",
       "      <td>ALB</td>\n",
       "      <td>Albania</td>\n",
       "      <td>Europe</td>\n",
       "      <td>Southern Europe</td>\n",
       "      <td>28748</td>\n",
       "      <td>1912.0</td>\n",
       "      <td>Shqiperia</td>\n",
       "      <td>Republic</td>\n",
       "      <td>Tirane</td>\n",
       "      <td>19.81720</td>\n",
       "      <td>41.3317</td>\n",
       "    </tr>\n",
       "    <tr>\n",
       "      <th>3</th>\n",
       "      <td>DZA</td>\n",
       "      <td>Algeria</td>\n",
       "      <td>Africa</td>\n",
       "      <td>Northern Africa</td>\n",
       "      <td>2381740</td>\n",
       "      <td>1962.0</td>\n",
       "      <td>Al-Jazair/Algerie</td>\n",
       "      <td>Republic</td>\n",
       "      <td>Algiers</td>\n",
       "      <td>3.05097</td>\n",
       "      <td>36.7397</td>\n",
       "    </tr>\n",
       "    <tr>\n",
       "      <th>4</th>\n",
       "      <td>ASM</td>\n",
       "      <td>American Samoa</td>\n",
       "      <td>Oceania</td>\n",
       "      <td>Polynesia</td>\n",
       "      <td>199</td>\n",
       "      <td>NaN</td>\n",
       "      <td>Amerika Samoa</td>\n",
       "      <td>US Territory</td>\n",
       "      <td>Pago Pago</td>\n",
       "      <td>-170.69100</td>\n",
       "      <td>-14.2846</td>\n",
       "    </tr>\n",
       "  </tbody>\n",
       "</table>\n",
       "</div>"
      ],
      "text/plain": [
       "  code            name continent  ...    capital   cap_long  cap_lat\n",
       "0  AFG     Afghanistan      Asia  ...      Kabul   69.17610  34.5228\n",
       "1  NLD     Netherlands    Europe  ...  Amsterdam    4.89095  52.3738\n",
       "2  ALB         Albania    Europe  ...     Tirane   19.81720  41.3317\n",
       "3  DZA         Algeria    Africa  ...    Algiers    3.05097  36.7397\n",
       "4  ASM  American Samoa   Oceania  ...  Pago Pago -170.69100 -14.2846\n",
       "\n",
       "[5 rows x 11 columns]"
      ]
     },
     "execution_count": 4,
     "metadata": {},
     "output_type": "execute_result"
    }
   ],
   "source": [
    "select * from world.countries limit 5"
   ]
  },
  {
   "cell_type": "code",
   "execution_count": 5,
   "id": "485d6a8c-de70-40c3-9289-e427f085d5b5",
   "metadata": {
    "customType": "sql",
    "dataFrameVariableName": "df4",
    "executionCancelledAt": null,
    "executionTime": 2669,
    "lastExecutedAt": 1688503451596,
    "lastScheduledRunId": null,
    "lastSuccessfullyExecutedCode": "select * from world.populations limit 5",
    "sqlCellMode": "dataFrame",
    "sqlSource": {
     "integrationId": "c632441c-e1dc-4637-a56d-10b85efd89be",
     "type": "integration"
    }
   },
   "outputs": [
    {
     "@datacamp/metadata": {
      "executedQuery": "select * from world.populations limit 5",
      "executedQueryParameters": []
     },
     "data": {
      "application/com.datacamp.data-table.v1+json": {
       "table": {
        "data": [
         {
          "country_code": "ABW",
          "fertility_rate": 1.704,
          "index": 0,
          "life_expectancy": 74.95354,
          "pop_id": 20,
          "size": 101597,
          "year": 2010
         },
         {
          "country_code": "ABW",
          "fertility_rate": 1.647,
          "index": 1,
          "life_expectancy": 75.573586,
          "pop_id": 19,
          "size": 103889,
          "year": 2015
         },
         {
          "country_code": "AFG",
          "fertility_rate": 5.746,
          "index": 2,
          "life_expectancy": 58.97083,
          "pop_id": 2,
          "size": 27962208,
          "year": 2010
         },
         {
          "country_code": "AFG",
          "fertility_rate": 4.653,
          "index": 3,
          "life_expectancy": 60.71717,
          "pop_id": 1,
          "size": 32526562,
          "year": 2015
         },
         {
          "country_code": "AGO",
          "fertility_rate": 6.416,
          "index": 4,
          "life_expectancy": 50.65417,
          "pop_id": 12,
          "size": 21219954,
          "year": 2010
         }
        ],
        "schema": {
         "fields": [
          {
           "name": "index",
           "type": "integer"
          },
          {
           "name": "pop_id",
           "type": "integer"
          },
          {
           "name": "country_code",
           "type": "string"
          },
          {
           "name": "year",
           "type": "integer"
          },
          {
           "name": "fertility_rate",
           "type": "number"
          },
          {
           "name": "life_expectancy",
           "type": "number"
          },
          {
           "name": "size",
           "type": "integer"
          }
         ],
         "pandas_version": "1.4.0",
         "primaryKey": [
          "index"
         ]
        }
       },
       "total_rows": 5,
       "truncation_type": null
      },
      "text/html": [
       "<div>\n",
       "<style scoped>\n",
       "    .dataframe tbody tr th:only-of-type {\n",
       "        vertical-align: middle;\n",
       "    }\n",
       "\n",
       "    .dataframe tbody tr th {\n",
       "        vertical-align: top;\n",
       "    }\n",
       "\n",
       "    .dataframe thead th {\n",
       "        text-align: right;\n",
       "    }\n",
       "</style>\n",
       "<table border=\"1\" class=\"dataframe\">\n",
       "  <thead>\n",
       "    <tr style=\"text-align: right;\">\n",
       "      <th></th>\n",
       "      <th>pop_id</th>\n",
       "      <th>country_code</th>\n",
       "      <th>year</th>\n",
       "      <th>fertility_rate</th>\n",
       "      <th>life_expectancy</th>\n",
       "      <th>size</th>\n",
       "    </tr>\n",
       "  </thead>\n",
       "  <tbody>\n",
       "    <tr>\n",
       "      <th>0</th>\n",
       "      <td>20</td>\n",
       "      <td>ABW</td>\n",
       "      <td>2010</td>\n",
       "      <td>1.704</td>\n",
       "      <td>74.953540</td>\n",
       "      <td>101597</td>\n",
       "    </tr>\n",
       "    <tr>\n",
       "      <th>1</th>\n",
       "      <td>19</td>\n",
       "      <td>ABW</td>\n",
       "      <td>2015</td>\n",
       "      <td>1.647</td>\n",
       "      <td>75.573586</td>\n",
       "      <td>103889</td>\n",
       "    </tr>\n",
       "    <tr>\n",
       "      <th>2</th>\n",
       "      <td>2</td>\n",
       "      <td>AFG</td>\n",
       "      <td>2010</td>\n",
       "      <td>5.746</td>\n",
       "      <td>58.970830</td>\n",
       "      <td>27962208</td>\n",
       "    </tr>\n",
       "    <tr>\n",
       "      <th>3</th>\n",
       "      <td>1</td>\n",
       "      <td>AFG</td>\n",
       "      <td>2015</td>\n",
       "      <td>4.653</td>\n",
       "      <td>60.717170</td>\n",
       "      <td>32526562</td>\n",
       "    </tr>\n",
       "    <tr>\n",
       "      <th>4</th>\n",
       "      <td>12</td>\n",
       "      <td>AGO</td>\n",
       "      <td>2010</td>\n",
       "      <td>6.416</td>\n",
       "      <td>50.654170</td>\n",
       "      <td>21219954</td>\n",
       "    </tr>\n",
       "  </tbody>\n",
       "</table>\n",
       "</div>"
      ],
      "text/plain": [
       "   pop_id country_code  year  fertility_rate  life_expectancy      size\n",
       "0      20          ABW  2010           1.704        74.953540    101597\n",
       "1      19          ABW  2015           1.647        75.573586    103889\n",
       "2       2          AFG  2010           5.746        58.970830  27962208\n",
       "3       1          AFG  2015           4.653        60.717170  32526562\n",
       "4      12          AGO  2010           6.416        50.654170  21219954"
      ]
     },
     "execution_count": 5,
     "metadata": {},
     "output_type": "execute_result"
    }
   ],
   "source": [
    "select * from world.populations limit 5"
   ]
  },
  {
   "cell_type": "code",
   "execution_count": 6,
   "id": "0de984a8-8b7e-4405-b477-1ab2b9be29fe",
   "metadata": {
    "customType": "sql",
    "dataFrameVariableName": "df5",
    "executionCancelledAt": null,
    "executionTime": 1919,
    "lastExecutedAt": 1688503529847,
    "lastScheduledRunId": null,
    "lastSuccessfullyExecutedCode": "select * from world.economies limit 5",
    "sqlCellMode": "dataFrame",
    "sqlSource": {
     "integrationId": "c632441c-e1dc-4637-a56d-10b85efd89be",
     "type": "integration"
    }
   },
   "outputs": [
    {
     "@datacamp/metadata": {
      "executedQuery": "select * from world.economies limit 5",
      "executedQueryParameters": []
     },
     "data": {
      "application/com.datacamp.data-table.v1+json": {
       "table": {
        "data": [
         {
          "code": "AFG",
          "econ_id": 1,
          "exports": 46.394,
          "gdp_percapita": 539.667,
          "gross_savings": 37.133,
          "imports": 24.381,
          "income_group": "Low income",
          "index": 0,
          "inflation_rate": 2.179,
          "total_investment": 30.402,
          "unemployment_rate": null,
          "year": 2010
         },
         {
          "code": "AFG",
          "econ_id": 2,
          "exports": -49.11,
          "gdp_percapita": 615.091,
          "gross_savings": 21.466,
          "imports": -7.294,
          "income_group": "Low income",
          "index": 1,
          "inflation_rate": -1.549,
          "total_investment": 18.602,
          "unemployment_rate": null,
          "year": 2015
         },
         {
          "code": "AGO",
          "econ_id": 3,
          "exports": -3.266,
          "gdp_percapita": 3599.27,
          "gross_savings": 23.534,
          "imports": -21.076,
          "income_group": "Upper middle income",
          "index": 2,
          "inflation_rate": 14.48,
          "total_investment": 14.433,
          "unemployment_rate": null,
          "year": 2010
         },
         {
          "code": "AGO",
          "econ_id": 4,
          "exports": 6.721,
          "gdp_percapita": 3876.2,
          "gross_savings": -0.425,
          "imports": -21.778,
          "income_group": "Upper middle income",
          "index": 3,
          "inflation_rate": 10.287,
          "total_investment": 9.552,
          "unemployment_rate": null,
          "year": 2015
         },
         {
          "code": "ALB",
          "econ_id": 5,
          "exports": 10.645,
          "gdp_percapita": 4098.13,
          "gross_savings": 20.011,
          "imports": -8.013,
          "income_group": "Upper middle income",
          "index": 4,
          "inflation_rate": 3.605,
          "total_investment": 31.305,
          "unemployment_rate": 14,
          "year": 2010
         }
        ],
        "schema": {
         "fields": [
          {
           "name": "index",
           "type": "integer"
          },
          {
           "name": "econ_id",
           "type": "integer"
          },
          {
           "name": "code",
           "type": "string"
          },
          {
           "name": "year",
           "type": "integer"
          },
          {
           "name": "income_group",
           "type": "string"
          },
          {
           "name": "gdp_percapita",
           "type": "number"
          },
          {
           "name": "gross_savings",
           "type": "number"
          },
          {
           "name": "inflation_rate",
           "type": "number"
          },
          {
           "name": "total_investment",
           "type": "number"
          },
          {
           "name": "unemployment_rate",
           "type": "number"
          },
          {
           "name": "exports",
           "type": "number"
          },
          {
           "name": "imports",
           "type": "number"
          }
         ],
         "pandas_version": "1.4.0",
         "primaryKey": [
          "index"
         ]
        }
       },
       "total_rows": 5,
       "truncation_type": null
      },
      "text/html": [
       "<div>\n",
       "<style scoped>\n",
       "    .dataframe tbody tr th:only-of-type {\n",
       "        vertical-align: middle;\n",
       "    }\n",
       "\n",
       "    .dataframe tbody tr th {\n",
       "        vertical-align: top;\n",
       "    }\n",
       "\n",
       "    .dataframe thead th {\n",
       "        text-align: right;\n",
       "    }\n",
       "</style>\n",
       "<table border=\"1\" class=\"dataframe\">\n",
       "  <thead>\n",
       "    <tr style=\"text-align: right;\">\n",
       "      <th></th>\n",
       "      <th>econ_id</th>\n",
       "      <th>code</th>\n",
       "      <th>year</th>\n",
       "      <th>income_group</th>\n",
       "      <th>gdp_percapita</th>\n",
       "      <th>gross_savings</th>\n",
       "      <th>inflation_rate</th>\n",
       "      <th>total_investment</th>\n",
       "      <th>unemployment_rate</th>\n",
       "      <th>exports</th>\n",
       "      <th>imports</th>\n",
       "    </tr>\n",
       "  </thead>\n",
       "  <tbody>\n",
       "    <tr>\n",
       "      <th>0</th>\n",
       "      <td>1</td>\n",
       "      <td>AFG</td>\n",
       "      <td>2010</td>\n",
       "      <td>Low income</td>\n",
       "      <td>539.667</td>\n",
       "      <td>37.133</td>\n",
       "      <td>2.179</td>\n",
       "      <td>30.402</td>\n",
       "      <td>NaN</td>\n",
       "      <td>46.394</td>\n",
       "      <td>24.381</td>\n",
       "    </tr>\n",
       "    <tr>\n",
       "      <th>1</th>\n",
       "      <td>2</td>\n",
       "      <td>AFG</td>\n",
       "      <td>2015</td>\n",
       "      <td>Low income</td>\n",
       "      <td>615.091</td>\n",
       "      <td>21.466</td>\n",
       "      <td>-1.549</td>\n",
       "      <td>18.602</td>\n",
       "      <td>NaN</td>\n",
       "      <td>-49.110</td>\n",
       "      <td>-7.294</td>\n",
       "    </tr>\n",
       "    <tr>\n",
       "      <th>2</th>\n",
       "      <td>3</td>\n",
       "      <td>AGO</td>\n",
       "      <td>2010</td>\n",
       "      <td>Upper middle income</td>\n",
       "      <td>3599.270</td>\n",
       "      <td>23.534</td>\n",
       "      <td>14.480</td>\n",
       "      <td>14.433</td>\n",
       "      <td>NaN</td>\n",
       "      <td>-3.266</td>\n",
       "      <td>-21.076</td>\n",
       "    </tr>\n",
       "    <tr>\n",
       "      <th>3</th>\n",
       "      <td>4</td>\n",
       "      <td>AGO</td>\n",
       "      <td>2015</td>\n",
       "      <td>Upper middle income</td>\n",
       "      <td>3876.200</td>\n",
       "      <td>-0.425</td>\n",
       "      <td>10.287</td>\n",
       "      <td>9.552</td>\n",
       "      <td>NaN</td>\n",
       "      <td>6.721</td>\n",
       "      <td>-21.778</td>\n",
       "    </tr>\n",
       "    <tr>\n",
       "      <th>4</th>\n",
       "      <td>5</td>\n",
       "      <td>ALB</td>\n",
       "      <td>2010</td>\n",
       "      <td>Upper middle income</td>\n",
       "      <td>4098.130</td>\n",
       "      <td>20.011</td>\n",
       "      <td>3.605</td>\n",
       "      <td>31.305</td>\n",
       "      <td>14.0</td>\n",
       "      <td>10.645</td>\n",
       "      <td>-8.013</td>\n",
       "    </tr>\n",
       "  </tbody>\n",
       "</table>\n",
       "</div>"
      ],
      "text/plain": [
       "   econ_id code  year  ... unemployment_rate  exports  imports\n",
       "0        1  AFG  2010  ...               NaN   46.394   24.381\n",
       "1        2  AFG  2015  ...               NaN  -49.110   -7.294\n",
       "2        3  AGO  2010  ...               NaN   -3.266  -21.076\n",
       "3        4  AGO  2015  ...               NaN    6.721  -21.778\n",
       "4        5  ALB  2010  ...              14.0   10.645   -8.013\n",
       "\n",
       "[5 rows x 11 columns]"
      ]
     },
     "execution_count": 6,
     "metadata": {},
     "output_type": "execute_result"
    }
   ],
   "source": [
    "select * from world.economies limit 5"
   ]
  },
  {
   "cell_type": "code",
   "execution_count": 44,
   "id": "dad9f8e9-80bf-4e49-8e86-e21261ff3ab7",
   "metadata": {
    "customType": "sql",
    "dataFrameVariableName": "df",
    "executionTime": 1700,
    "initial": false,
    "integrationId": "c632441c-e1dc-4637-a56d-10b85efd89be",
    "lastSuccessfullyExecutedCode": "Select c.code, c.local_name, c.region, e.year, p.fertility_rate, e.unemployment_rate \nfrom world.countries as c \ninner join world.populations as p on c.code = p.country_code \nINNER JOIN world.economies as e ON c.code = e.code;"
   },
   "outputs": [
    {
     "data": {
      "application/com.datacamp.data-table.v1+json": {
       "table": {
        "data": [
         {
          "code": "AFG",
          "fertility_rate": 5.746,
          "index": 0,
          "local_name": "Afganistan/Afqanestan",
          "region": "Southern and Central Asia",
          "unemployment_rate": null,
          "year": 2015
         },
         {
          "code": "AFG",
          "fertility_rate": 5.746,
          "index": 1,
          "local_name": "Afganistan/Afqanestan",
          "region": "Southern and Central Asia",
          "unemployment_rate": null,
          "year": 2010
         },
         {
          "code": "AFG",
          "fertility_rate": 4.653,
          "index": 2,
          "local_name": "Afganistan/Afqanestan",
          "region": "Southern and Central Asia",
          "unemployment_rate": null,
          "year": 2015
         },
         {
          "code": "AFG",
          "fertility_rate": 4.653,
          "index": 3,
          "local_name": "Afganistan/Afqanestan",
          "region": "Southern and Central Asia",
          "unemployment_rate": null,
          "year": 2010
         },
         {
          "code": "AGO",
          "fertility_rate": 6.416,
          "index": 4,
          "local_name": "Angola",
          "region": "Central Africa",
          "unemployment_rate": null,
          "year": 2015
         },
         {
          "code": "AGO",
          "fertility_rate": 6.416,
          "index": 5,
          "local_name": "Angola",
          "region": "Central Africa",
          "unemployment_rate": null,
          "year": 2010
         },
         {
          "code": "AGO",
          "fertility_rate": 5.996,
          "index": 6,
          "local_name": "Angola",
          "region": "Central Africa",
          "unemployment_rate": null,
          "year": 2015
         },
         {
          "code": "AGO",
          "fertility_rate": 5.996,
          "index": 7,
          "local_name": "Angola",
          "region": "Central Africa",
          "unemployment_rate": null,
          "year": 2010
         },
         {
          "code": "ALB",
          "fertility_rate": 1.663,
          "index": 8,
          "local_name": "Shqiperia",
          "region": "Southern Europe",
          "unemployment_rate": 17.1,
          "year": 2015
         },
         {
          "code": "ALB",
          "fertility_rate": 1.663,
          "index": 9,
          "local_name": "Shqiperia",
          "region": "Southern Europe",
          "unemployment_rate": 14,
          "year": 2010
         },
         {
          "code": "ALB",
          "fertility_rate": 1.793,
          "index": 10,
          "local_name": "Shqiperia",
          "region": "Southern Europe",
          "unemployment_rate": 17.1,
          "year": 2015
         },
         {
          "code": "ALB",
          "fertility_rate": 1.793,
          "index": 11,
          "local_name": "Shqiperia",
          "region": "Southern Europe",
          "unemployment_rate": 14,
          "year": 2010
         },
         {
          "code": "ARE",
          "fertility_rate": 1.868,
          "index": 12,
          "local_name": "Al-Imarat al-´Arabiya al-Muttahida",
          "region": "Middle East",
          "unemployment_rate": null,
          "year": 2015
         },
         {
          "code": "ARE",
          "fertility_rate": 1.868,
          "index": 13,
          "local_name": "Al-Imarat al-´Arabiya al-Muttahida",
          "region": "Middle East",
          "unemployment_rate": null,
          "year": 2010
         },
         {
          "code": "ARE",
          "fertility_rate": 1.767,
          "index": 14,
          "local_name": "Al-Imarat al-´Arabiya al-Muttahida",
          "region": "Middle East",
          "unemployment_rate": null,
          "year": 2015
         },
         {
          "code": "ARE",
          "fertility_rate": 1.767,
          "index": 15,
          "local_name": "Al-Imarat al-´Arabiya al-Muttahida",
          "region": "Middle East",
          "unemployment_rate": null,
          "year": 2010
         },
         {
          "code": "ARG",
          "fertility_rate": 2.37,
          "index": 16,
          "local_name": "Argentina",
          "region": "South America",
          "unemployment_rate": null,
          "year": 2015
         },
         {
          "code": "ARG",
          "fertility_rate": 2.37,
          "index": 17,
          "local_name": "Argentina",
          "region": "South America",
          "unemployment_rate": 7.75,
          "year": 2010
         },
         {
          "code": "ARG",
          "fertility_rate": 2.308,
          "index": 18,
          "local_name": "Argentina",
          "region": "South America",
          "unemployment_rate": null,
          "year": 2015
         },
         {
          "code": "ARG",
          "fertility_rate": 2.308,
          "index": 19,
          "local_name": "Argentina",
          "region": "South America",
          "unemployment_rate": 7.75,
          "year": 2010
         },
         {
          "code": "ARM",
          "fertility_rate": 1.648,
          "index": 20,
          "local_name": "Hajastan",
          "region": "Middle East",
          "unemployment_rate": 18.5,
          "year": 2015
         },
         {
          "code": "ARM",
          "fertility_rate": 1.648,
          "index": 21,
          "local_name": "Hajastan",
          "region": "Middle East",
          "unemployment_rate": 19,
          "year": 2010
         },
         {
          "code": "ARM",
          "fertility_rate": 1.517,
          "index": 22,
          "local_name": "Hajastan",
          "region": "Middle East",
          "unemployment_rate": 18.5,
          "year": 2015
         },
         {
          "code": "ARM",
          "fertility_rate": 1.517,
          "index": 23,
          "local_name": "Hajastan",
          "region": "Middle East",
          "unemployment_rate": 19,
          "year": 2010
         },
         {
          "code": "ATG",
          "fertility_rate": 2.13,
          "index": 24,
          "local_name": "Antigua and Barbuda",
          "region": "Caribbean",
          "unemployment_rate": null,
          "year": 2015
         },
         {
          "code": "ATG",
          "fertility_rate": 2.13,
          "index": 25,
          "local_name": "Antigua and Barbuda",
          "region": "Caribbean",
          "unemployment_rate": null,
          "year": 2010
         },
         {
          "code": "ATG",
          "fertility_rate": 2.063,
          "index": 26,
          "local_name": "Antigua and Barbuda",
          "region": "Caribbean",
          "unemployment_rate": null,
          "year": 2015
         },
         {
          "code": "ATG",
          "fertility_rate": 2.063,
          "index": 27,
          "local_name": "Antigua and Barbuda",
          "region": "Caribbean",
          "unemployment_rate": null,
          "year": 2010
         },
         {
          "code": "AUS",
          "fertility_rate": 1.928,
          "index": 28,
          "local_name": "Australia",
          "region": "Australia and New Zealand",
          "unemployment_rate": 6.058,
          "year": 2015
         },
         {
          "code": "AUS",
          "fertility_rate": 1.928,
          "index": 29,
          "local_name": "Australia",
          "region": "Australia and New Zealand",
          "unemployment_rate": 5.208,
          "year": 2010
         },
         {
          "code": "AUS",
          "fertility_rate": 1.833,
          "index": 30,
          "local_name": "Australia",
          "region": "Australia and New Zealand",
          "unemployment_rate": 6.058,
          "year": 2015
         },
         {
          "code": "AUS",
          "fertility_rate": 1.833,
          "index": 31,
          "local_name": "Australia",
          "region": "Australia and New Zealand",
          "unemployment_rate": 5.208,
          "year": 2010
         },
         {
          "code": "AUT",
          "fertility_rate": 1.44,
          "index": 32,
          "local_name": "Osterreich",
          "region": "Western Europe",
          "unemployment_rate": 5.75,
          "year": 2015
         },
         {
          "code": "AUT",
          "fertility_rate": 1.44,
          "index": 33,
          "local_name": "Osterreich",
          "region": "Western Europe",
          "unemployment_rate": 4.8,
          "year": 2010
         },
         {
          "code": "AUT",
          "fertility_rate": 1.47,
          "index": 34,
          "local_name": "Osterreich",
          "region": "Western Europe",
          "unemployment_rate": 5.75,
          "year": 2015
         },
         {
          "code": "AUT",
          "fertility_rate": 1.47,
          "index": 35,
          "local_name": "Osterreich",
          "region": "Western Europe",
          "unemployment_rate": 4.8,
          "year": 2010
         },
         {
          "code": "AZE",
          "fertility_rate": 1.92,
          "index": 36,
          "local_name": "Azarbaycan",
          "region": "Middle East",
          "unemployment_rate": 6.048,
          "year": 2015
         },
         {
          "code": "AZE",
          "fertility_rate": 1.92,
          "index": 37,
          "local_name": "Azarbaycan",
          "region": "Middle East",
          "unemployment_rate": 6.048,
          "year": 2010
         },
         {
          "code": "AZE",
          "fertility_rate": 1.97,
          "index": 38,
          "local_name": "Azarbaycan",
          "region": "Middle East",
          "unemployment_rate": 6.048,
          "year": 2015
         },
         {
          "code": "AZE",
          "fertility_rate": 1.97,
          "index": 39,
          "local_name": "Azarbaycan",
          "region": "Middle East",
          "unemployment_rate": 6.048,
          "year": 2010
         },
         {
          "code": "BDI",
          "fertility_rate": 6.302,
          "index": 40,
          "local_name": "Burundi/Uburundi",
          "region": "Eastern Africa",
          "unemployment_rate": null,
          "year": 2015
         },
         {
          "code": "BDI",
          "fertility_rate": 6.302,
          "index": 41,
          "local_name": "Burundi/Uburundi",
          "region": "Eastern Africa",
          "unemployment_rate": null,
          "year": 2010
         },
         {
          "code": "BDI",
          "fertility_rate": 5.863,
          "index": 42,
          "local_name": "Burundi/Uburundi",
          "region": "Eastern Africa",
          "unemployment_rate": null,
          "year": 2015
         },
         {
          "code": "BDI",
          "fertility_rate": 5.863,
          "index": 43,
          "local_name": "Burundi/Uburundi",
          "region": "Eastern Africa",
          "unemployment_rate": null,
          "year": 2010
         },
         {
          "code": "BEL",
          "fertility_rate": 1.86,
          "index": 44,
          "local_name": "Belgie/Belgique",
          "region": "Western Europe",
          "unemployment_rate": 8.492,
          "year": 2015
         },
         {
          "code": "BEL",
          "fertility_rate": 1.86,
          "index": 45,
          "local_name": "Belgie/Belgique",
          "region": "Western Europe",
          "unemployment_rate": 8.317,
          "year": 2010
         },
         {
          "code": "BEL",
          "fertility_rate": 1.74,
          "index": 46,
          "local_name": "Belgie/Belgique",
          "region": "Western Europe",
          "unemployment_rate": 8.492,
          "year": 2015
         },
         {
          "code": "BEL",
          "fertility_rate": 1.74,
          "index": 47,
          "local_name": "Belgie/Belgique",
          "region": "Western Europe",
          "unemployment_rate": 8.317,
          "year": 2010
         },
         {
          "code": "BEN",
          "fertility_rate": 5.094,
          "index": 48,
          "local_name": "Benin",
          "region": "Western Africa",
          "unemployment_rate": null,
          "year": 2015
         },
         {
          "code": "BEN",
          "fertility_rate": 5.094,
          "index": 49,
          "local_name": "Benin",
          "region": "Western Africa",
          "unemployment_rate": null,
          "year": 2010
         },
         {
          "code": "BEN",
          "fertility_rate": 4.688,
          "index": 50,
          "local_name": "Benin",
          "region": "Western Africa",
          "unemployment_rate": null,
          "year": 2015
         },
         {
          "code": "BEN",
          "fertility_rate": 4.688,
          "index": 51,
          "local_name": "Benin",
          "region": "Western Africa",
          "unemployment_rate": null,
          "year": 2010
         },
         {
          "code": "BFA",
          "fertility_rate": 5.867,
          "index": 52,
          "local_name": "Burkina Faso",
          "region": "Western Africa",
          "unemployment_rate": null,
          "year": 2015
         },
         {
          "code": "BFA",
          "fertility_rate": 5.867,
          "index": 53,
          "local_name": "Burkina Faso",
          "region": "Western Africa",
          "unemployment_rate": null,
          "year": 2010
         },
         {
          "code": "BFA",
          "fertility_rate": 5.437,
          "index": 54,
          "local_name": "Burkina Faso",
          "region": "Western Africa",
          "unemployment_rate": null,
          "year": 2015
         },
         {
          "code": "BFA",
          "fertility_rate": 5.437,
          "index": 55,
          "local_name": "Burkina Faso",
          "region": "Western Africa",
          "unemployment_rate": null,
          "year": 2010
         },
         {
          "code": "BGD",
          "fertility_rate": 2.332,
          "index": 56,
          "local_name": "Bangladesh",
          "region": "Southern and Central Asia",
          "unemployment_rate": null,
          "year": 2015
         },
         {
          "code": "BGD",
          "fertility_rate": 2.332,
          "index": 57,
          "local_name": "Bangladesh",
          "region": "Southern and Central Asia",
          "unemployment_rate": null,
          "year": 2010
         },
         {
          "code": "BGD",
          "fertility_rate": 2.144,
          "index": 58,
          "local_name": "Bangladesh",
          "region": "Southern and Central Asia",
          "unemployment_rate": null,
          "year": 2015
         },
         {
          "code": "BGD",
          "fertility_rate": 2.144,
          "index": 59,
          "local_name": "Bangladesh",
          "region": "Southern and Central Asia",
          "unemployment_rate": null,
          "year": 2010
         },
         {
          "code": "BGR",
          "fertility_rate": 1.57,
          "index": 60,
          "local_name": "Balgarija",
          "region": "Eastern Europe",
          "unemployment_rate": 9.235,
          "year": 2015
         },
         {
          "code": "BGR",
          "fertility_rate": 1.57,
          "index": 61,
          "local_name": "Balgarija",
          "region": "Eastern Europe",
          "unemployment_rate": 10.306,
          "year": 2010
         },
         {
          "code": "BGR",
          "fertility_rate": 1.53,
          "index": 62,
          "local_name": "Balgarija",
          "region": "Eastern Europe",
          "unemployment_rate": 9.235,
          "year": 2015
         },
         {
          "code": "BGR",
          "fertility_rate": 1.53,
          "index": 63,
          "local_name": "Balgarija",
          "region": "Eastern Europe",
          "unemployment_rate": 10.306,
          "year": 2010
         },
         {
          "code": "BHR",
          "fertility_rate": 2.142,
          "index": 64,
          "local_name": "Al-Bahrayn",
          "region": "Middle East",
          "unemployment_rate": null,
          "year": 2015
         },
         {
          "code": "BHR",
          "fertility_rate": 2.142,
          "index": 65,
          "local_name": "Al-Bahrayn",
          "region": "Middle East",
          "unemployment_rate": 3.6,
          "year": 2010
         },
         {
          "code": "BHR",
          "fertility_rate": 2.035,
          "index": 66,
          "local_name": "Al-Bahrayn",
          "region": "Middle East",
          "unemployment_rate": null,
          "year": 2015
         },
         {
          "code": "BHR",
          "fertility_rate": 2.035,
          "index": 67,
          "local_name": "Al-Bahrayn",
          "region": "Middle East",
          "unemployment_rate": 3.6,
          "year": 2010
         },
         {
          "code": "BHS",
          "fertility_rate": 1.904,
          "index": 68,
          "local_name": "The Bahamas",
          "region": "Caribbean",
          "unemployment_rate": 13.379,
          "year": 2015
         },
         {
          "code": "BHS",
          "fertility_rate": 1.904,
          "index": 69,
          "local_name": "The Bahamas",
          "region": "Caribbean",
          "unemployment_rate": 15.082,
          "year": 2010
         },
         {
          "code": "BHS",
          "fertility_rate": 1.861,
          "index": 70,
          "local_name": "The Bahamas",
          "region": "Caribbean",
          "unemployment_rate": 13.379,
          "year": 2015
         },
         {
          "code": "BHS",
          "fertility_rate": 1.861,
          "index": 71,
          "local_name": "The Bahamas",
          "region": "Caribbean",
          "unemployment_rate": 15.082,
          "year": 2010
         },
         {
          "code": "BIH",
          "fertility_rate": 1.288,
          "index": 72,
          "local_name": "Bosna i Hercegovina",
          "region": "Southern Europe",
          "unemployment_rate": 27.7,
          "year": 2015
         },
         {
          "code": "BIH",
          "fertility_rate": 1.288,
          "index": 73,
          "local_name": "Bosna i Hercegovina",
          "region": "Southern Europe",
          "unemployment_rate": 27.202,
          "year": 2010
         },
         {
          "code": "BIH",
          "fertility_rate": 1.253,
          "index": 74,
          "local_name": "Bosna i Hercegovina",
          "region": "Southern Europe",
          "unemployment_rate": 27.7,
          "year": 2015
         },
         {
          "code": "BIH",
          "fertility_rate": 1.253,
          "index": 75,
          "local_name": "Bosna i Hercegovina",
          "region": "Southern Europe",
          "unemployment_rate": 27.202,
          "year": 2010
         },
         {
          "code": "BLR",
          "fertility_rate": 1.494,
          "index": 76,
          "local_name": "Belarus",
          "region": "Eastern Europe",
          "unemployment_rate": 0.912,
          "year": 2015
         },
         {
          "code": "BLR",
          "fertility_rate": 1.494,
          "index": 77,
          "local_name": "Belarus",
          "region": "Eastern Europe",
          "unemployment_rate": 0.827,
          "year": 2010
         },
         {
          "code": "BLR",
          "fertility_rate": 1.724,
          "index": 78,
          "local_name": "Belarus",
          "region": "Eastern Europe",
          "unemployment_rate": 0.912,
          "year": 2015
         },
         {
          "code": "BLR",
          "fertility_rate": 1.724,
          "index": 79,
          "local_name": "Belarus",
          "region": "Eastern Europe",
          "unemployment_rate": 0.827,
          "year": 2010
         },
         {
          "code": "BLZ",
          "fertility_rate": 2.714,
          "index": 80,
          "local_name": "Belize",
          "region": "Central America",
          "unemployment_rate": 10.114,
          "year": 2015
         },
         {
          "code": "BLZ",
          "fertility_rate": 2.714,
          "index": 81,
          "local_name": "Belize",
          "region": "Central America",
          "unemployment_rate": 13.502,
          "year": 2010
         },
         {
          "code": "BLZ",
          "fertility_rate": 2.546,
          "index": 82,
          "local_name": "Belize",
          "region": "Central America",
          "unemployment_rate": 10.114,
          "year": 2015
         },
         {
          "code": "BLZ",
          "fertility_rate": 2.546,
          "index": 83,
          "local_name": "Belize",
          "region": "Central America",
          "unemployment_rate": 13.502,
          "year": 2010
         },
         {
          "code": "BOL",
          "fertility_rate": 3.2,
          "index": 84,
          "local_name": "Bolivia",
          "region": "South America",
          "unemployment_rate": 4,
          "year": 2015
         },
         {
          "code": "BOL",
          "fertility_rate": 3.2,
          "index": 85,
          "local_name": "Bolivia",
          "region": "South America",
          "unemployment_rate": 4.375,
          "year": 2010
         },
         {
          "code": "BOL",
          "fertility_rate": 2.923,
          "index": 86,
          "local_name": "Bolivia",
          "region": "South America",
          "unemployment_rate": 4,
          "year": 2015
         },
         {
          "code": "BOL",
          "fertility_rate": 2.923,
          "index": 87,
          "local_name": "Bolivia",
          "region": "South America",
          "unemployment_rate": 4.375,
          "year": 2010
         },
         {
          "code": "BRA",
          "fertility_rate": 1.838,
          "index": 88,
          "local_name": "Brasil",
          "region": "South America",
          "unemployment_rate": 8.3,
          "year": 2015
         },
         {
          "code": "BRA",
          "fertility_rate": 1.838,
          "index": 89,
          "local_name": "Brasil",
          "region": "South America",
          "unemployment_rate": 8.556,
          "year": 2010
         },
         {
          "code": "BRA",
          "fertility_rate": 1.778,
          "index": 90,
          "local_name": "Brasil",
          "region": "South America",
          "unemployment_rate": 8.3,
          "year": 2015
         },
         {
          "code": "BRA",
          "fertility_rate": 1.778,
          "index": 91,
          "local_name": "Brasil",
          "region": "South America",
          "unemployment_rate": 8.556,
          "year": 2010
         },
         {
          "code": "BRB",
          "fertility_rate": 1.781,
          "index": 92,
          "local_name": "Barbados",
          "region": "Caribbean",
          "unemployment_rate": 11.3,
          "year": 2015
         },
         {
          "code": "BRB",
          "fertility_rate": 1.781,
          "index": 93,
          "local_name": "Barbados",
          "region": "Caribbean",
          "unemployment_rate": 10.25,
          "year": 2010
         },
         {
          "code": "BRB",
          "fertility_rate": 1.796,
          "index": 94,
          "local_name": "Barbados",
          "region": "Caribbean",
          "unemployment_rate": 11.3,
          "year": 2015
         },
         {
          "code": "BRB",
          "fertility_rate": 1.796,
          "index": 95,
          "local_name": "Barbados",
          "region": "Caribbean",
          "unemployment_rate": 10.25,
          "year": 2010
         },
         {
          "code": "BRN",
          "fertility_rate": 1.953,
          "index": 96,
          "local_name": "Brunei Darussalam",
          "region": "Southeast Asia",
          "unemployment_rate": 6.9,
          "year": 2015
         },
         {
          "code": "BRN",
          "fertility_rate": 1.953,
          "index": 97,
          "local_name": "Brunei Darussalam",
          "region": "Southeast Asia",
          "unemployment_rate": null,
          "year": 2010
         },
         {
          "code": "BRN",
          "fertility_rate": 1.856,
          "index": 98,
          "local_name": "Brunei Darussalam",
          "region": "Southeast Asia",
          "unemployment_rate": 6.9,
          "year": 2015
         },
         {
          "code": "BRN",
          "fertility_rate": 1.856,
          "index": 99,
          "local_name": "Brunei Darussalam",
          "region": "Southeast Asia",
          "unemployment_rate": null,
          "year": 2010
         },
         {
          "code": "BTN",
          "fertility_rate": 2.331,
          "index": 100,
          "local_name": "Druk-Yul",
          "region": "Southern and Central Asia",
          "unemployment_rate": 3.2,
          "year": 2015
         },
         {
          "code": "BTN",
          "fertility_rate": 2.331,
          "index": 101,
          "local_name": "Druk-Yul",
          "region": "Southern and Central Asia",
          "unemployment_rate": 3.3,
          "year": 2010
         },
         {
          "code": "BTN",
          "fertility_rate": 1.984,
          "index": 102,
          "local_name": "Druk-Yul",
          "region": "Southern and Central Asia",
          "unemployment_rate": 3.2,
          "year": 2015
         },
         {
          "code": "BTN",
          "fertility_rate": 1.984,
          "index": 103,
          "local_name": "Druk-Yul",
          "region": "Southern and Central Asia",
          "unemployment_rate": 3.3,
          "year": 2010
         },
         {
          "code": "BWA",
          "fertility_rate": 2.893,
          "index": 104,
          "local_name": "Botswana",
          "region": "Southern Africa",
          "unemployment_rate": null,
          "year": 2015
         },
         {
          "code": "BWA",
          "fertility_rate": 2.893,
          "index": 105,
          "local_name": "Botswana",
          "region": "Southern Africa",
          "unemployment_rate": null,
          "year": 2010
         },
         {
          "code": "BWA",
          "fertility_rate": 2.799,
          "index": 106,
          "local_name": "Botswana",
          "region": "Southern Africa",
          "unemployment_rate": null,
          "year": 2015
         },
         {
          "code": "BWA",
          "fertility_rate": 2.799,
          "index": 107,
          "local_name": "Botswana",
          "region": "Southern Africa",
          "unemployment_rate": null,
          "year": 2010
         },
         {
          "code": "CAF",
          "fertility_rate": 4.624,
          "index": 108,
          "local_name": "Centrafrique/Be-Afrika",
          "region": "Central Africa",
          "unemployment_rate": null,
          "year": 2015
         },
         {
          "code": "CAF",
          "fertility_rate": 4.624,
          "index": 109,
          "local_name": "Centrafrique/Be-Afrika",
          "region": "Central Africa",
          "unemployment_rate": null,
          "year": 2010
         },
         {
          "code": "CAF",
          "fertility_rate": 4.206,
          "index": 110,
          "local_name": "Centrafrique/Be-Afrika",
          "region": "Central Africa",
          "unemployment_rate": null,
          "year": 2015
         },
         {
          "code": "CAF",
          "fertility_rate": 4.206,
          "index": 111,
          "local_name": "Centrafrique/Be-Afrika",
          "region": "Central Africa",
          "unemployment_rate": null,
          "year": 2010
         },
         {
          "code": "CAN",
          "fertility_rate": 1.6269,
          "index": 112,
          "local_name": "Canada",
          "region": "North America",
          "unemployment_rate": 6.9,
          "year": 2015
         },
         {
          "code": "CAN",
          "fertility_rate": 1.6269,
          "index": 113,
          "local_name": "Canada",
          "region": "North America",
          "unemployment_rate": 8,
          "year": 2010
         },
         {
          "code": "CAN",
          "fertility_rate": 1.6,
          "index": 114,
          "local_name": "Canada",
          "region": "North America",
          "unemployment_rate": 6.9,
          "year": 2015
         },
         {
          "code": "CAN",
          "fertility_rate": 1.6,
          "index": 115,
          "local_name": "Canada",
          "region": "North America",
          "unemployment_rate": 8,
          "year": 2010
         },
         {
          "code": "CHE",
          "fertility_rate": 1.52,
          "index": 116,
          "local_name": "Schweiz/Suisse/Svizzera/Svizra",
          "region": "Western Europe",
          "unemployment_rate": 3.178,
          "year": 2015
         },
         {
          "code": "CHE",
          "fertility_rate": 1.52,
          "index": 117,
          "local_name": "Schweiz/Suisse/Svizzera/Svizra",
          "region": "Western Europe",
          "unemployment_rate": 3.516,
          "year": 2010
         },
         {
          "code": "CHE",
          "fertility_rate": 1.54,
          "index": 118,
          "local_name": "Schweiz/Suisse/Svizzera/Svizra",
          "region": "Western Europe",
          "unemployment_rate": 3.178,
          "year": 2015
         },
         {
          "code": "CHE",
          "fertility_rate": 1.54,
          "index": 119,
          "local_name": "Schweiz/Suisse/Svizzera/Svizra",
          "region": "Western Europe",
          "unemployment_rate": 3.516,
          "year": 2010
         },
         {
          "code": "CHL",
          "fertility_rate": 1.824,
          "index": 120,
          "local_name": "Chile",
          "region": "South America",
          "unemployment_rate": 6.214,
          "year": 2015
         },
         {
          "code": "CHL",
          "fertility_rate": 1.824,
          "index": 121,
          "local_name": "Chile",
          "region": "South America",
          "unemployment_rate": 8.153,
          "year": 2010
         },
         {
          "code": "CHL",
          "fertility_rate": 1.749,
          "index": 122,
          "local_name": "Chile",
          "region": "South America",
          "unemployment_rate": 6.214,
          "year": 2015
         },
         {
          "code": "CHL",
          "fertility_rate": 1.749,
          "index": 123,
          "local_name": "Chile",
          "region": "South America",
          "unemployment_rate": 8.153,
          "year": 2010
         },
         {
          "code": "CHN",
          "fertility_rate": 1.539,
          "index": 124,
          "local_name": "Zhongquo",
          "region": "Eastern Asia",
          "unemployment_rate": 4.05,
          "year": 2015
         },
         {
          "code": "CHN",
          "fertility_rate": 1.539,
          "index": 125,
          "local_name": "Zhongquo",
          "region": "Eastern Asia",
          "unemployment_rate": 4.14,
          "year": 2010
         },
         {
          "code": "CHN",
          "fertility_rate": 1.569,
          "index": 126,
          "local_name": "Zhongquo",
          "region": "Eastern Asia",
          "unemployment_rate": 4.05,
          "year": 2015
         },
         {
          "code": "CHN",
          "fertility_rate": 1.569,
          "index": 127,
          "local_name": "Zhongquo",
          "region": "Eastern Asia",
          "unemployment_rate": 4.14,
          "year": 2010
         },
         {
          "code": "CIV",
          "fertility_rate": 5.231,
          "index": 128,
          "local_name": "Cote dIvoire",
          "region": "Western Africa",
          "unemployment_rate": null,
          "year": 2015
         },
         {
          "code": "CIV",
          "fertility_rate": 5.231,
          "index": 129,
          "local_name": "Cote dIvoire",
          "region": "Western Africa",
          "unemployment_rate": null,
          "year": 2010
         },
         {
          "code": "CIV",
          "fertility_rate": 4.937,
          "index": 130,
          "local_name": "Cote dIvoire",
          "region": "Western Africa",
          "unemployment_rate": null,
          "year": 2015
         },
         {
          "code": "CIV",
          "fertility_rate": 4.937,
          "index": 131,
          "local_name": "Cote dIvoire",
          "region": "Western Africa",
          "unemployment_rate": null,
          "year": 2010
         },
         {
          "code": "CMR",
          "fertility_rate": 5.017,
          "index": 132,
          "local_name": "Cameroun/Cameroon",
          "region": "Central Africa",
          "unemployment_rate": null,
          "year": 2015
         },
         {
          "code": "CMR",
          "fertility_rate": 5.017,
          "index": 133,
          "local_name": "Cameroun/Cameroon",
          "region": "Central Africa",
          "unemployment_rate": null,
          "year": 2010
         },
         {
          "code": "CMR",
          "fertility_rate": 4.63,
          "index": 134,
          "local_name": "Cameroun/Cameroon",
          "region": "Central Africa",
          "unemployment_rate": null,
          "year": 2015
         },
         {
          "code": "CMR",
          "fertility_rate": 4.63,
          "index": 135,
          "local_name": "Cameroun/Cameroon",
          "region": "Central Africa",
          "unemployment_rate": null,
          "year": 2010
         },
         {
          "code": "COD",
          "fertility_rate": 6.386,
          "index": 136,
          "local_name": "Republique Democratique du Congo",
          "region": "Central Africa",
          "unemployment_rate": null,
          "year": 2015
         },
         {
          "code": "COD",
          "fertility_rate": 6.386,
          "index": 137,
          "local_name": "Republique Democratique du Congo",
          "region": "Central Africa",
          "unemployment_rate": null,
          "year": 2010
         },
         {
          "code": "COD",
          "fertility_rate": 5.908,
          "index": 138,
          "local_name": "Republique Democratique du Congo",
          "region": "Central Africa",
          "unemployment_rate": null,
          "year": 2015
         },
         {
          "code": "COD",
          "fertility_rate": 5.908,
          "index": 139,
          "local_name": "Republique Democratique du Congo",
          "region": "Central Africa",
          "unemployment_rate": null,
          "year": 2010
         },
         {
          "code": "COG",
          "fertility_rate": 5.02,
          "index": 140,
          "local_name": "Congo",
          "region": "Central Africa",
          "unemployment_rate": null,
          "year": 2015
         },
         {
          "code": "COG",
          "fertility_rate": 5.02,
          "index": 141,
          "local_name": "Congo",
          "region": "Central Africa",
          "unemployment_rate": null,
          "year": 2010
         },
         {
          "code": "COG",
          "fertility_rate": 4.811,
          "index": 142,
          "local_name": "Congo",
          "region": "Central Africa",
          "unemployment_rate": null,
          "year": 2015
         },
         {
          "code": "COG",
          "fertility_rate": 4.811,
          "index": 143,
          "local_name": "Congo",
          "region": "Central Africa",
          "unemployment_rate": null,
          "year": 2010
         },
         {
          "code": "COL",
          "fertility_rate": 2.01,
          "index": 144,
          "local_name": "Colombia",
          "region": "South America",
          "unemployment_rate": 8.925,
          "year": 2015
         },
         {
          "code": "COL",
          "fertility_rate": 2.01,
          "index": 145,
          "local_name": "Colombia",
          "region": "South America",
          "unemployment_rate": 11.792,
          "year": 2010
         },
         {
          "code": "COL",
          "fertility_rate": 1.875,
          "index": 146,
          "local_name": "Colombia",
          "region": "South America",
          "unemployment_rate": 8.925,
          "year": 2015
         },
         {
          "code": "COL",
          "fertility_rate": 1.875,
          "index": 147,
          "local_name": "Colombia",
          "region": "South America",
          "unemployment_rate": 11.792,
          "year": 2010
         },
         {
          "code": "COM",
          "fertility_rate": 4.755,
          "index": 148,
          "local_name": "Komori/Comores",
          "region": "Eastern Africa",
          "unemployment_rate": null,
          "year": 2015
         },
         {
          "code": "COM",
          "fertility_rate": 4.755,
          "index": 149,
          "local_name": "Komori/Comores",
          "region": "Eastern Africa",
          "unemployment_rate": null,
          "year": 2010
         },
         {
          "code": "COM",
          "fertility_rate": 4.418,
          "index": 150,
          "local_name": "Komori/Comores",
          "region": "Eastern Africa",
          "unemployment_rate": null,
          "year": 2015
         },
         {
          "code": "COM",
          "fertility_rate": 4.418,
          "index": 151,
          "local_name": "Komori/Comores",
          "region": "Eastern Africa",
          "unemployment_rate": null,
          "year": 2010
         },
         {
          "code": "CPV",
          "fertility_rate": 2.464,
          "index": 152,
          "local_name": "Cabo Verde",
          "region": "Western Africa",
          "unemployment_rate": 10,
          "year": 2015
         },
         {
          "code": "CPV",
          "fertility_rate": 2.464,
          "index": 153,
          "local_name": "Cabo Verde",
          "region": "Western Africa",
          "unemployment_rate": 10.7,
          "year": 2010
         },
         {
          "code": "CPV",
          "fertility_rate": 2.268,
          "index": 154,
          "local_name": "Cabo Verde",
          "region": "Western Africa",
          "unemployment_rate": 10,
          "year": 2015
         },
         {
          "code": "CPV",
          "fertility_rate": 2.268,
          "index": 155,
          "local_name": "Cabo Verde",
          "region": "Western Africa",
          "unemployment_rate": 10.7,
          "year": 2010
         },
         {
          "code": "CRI",
          "fertility_rate": 1.922,
          "index": 156,
          "local_name": "Costa Rica",
          "region": "Central America",
          "unemployment_rate": 9.249,
          "year": 2015
         },
         {
          "code": "CRI",
          "fertility_rate": 1.922,
          "index": 157,
          "local_name": "Costa Rica",
          "region": "Central America",
          "unemployment_rate": 7.345,
          "year": 2010
         },
         {
          "code": "CRI",
          "fertility_rate": 1.8,
          "index": 158,
          "local_name": "Costa Rica",
          "region": "Central America",
          "unemployment_rate": 9.249,
          "year": 2015
         },
         {
          "code": "CRI",
          "fertility_rate": 1.8,
          "index": 159,
          "local_name": "Costa Rica",
          "region": "Central America",
          "unemployment_rate": 7.345,
          "year": 2010
         },
         {
          "code": "CYP",
          "fertility_rate": 1.481,
          "index": 160,
          "local_name": "Kypros/Kibris",
          "region": "Middle East",
          "unemployment_rate": 14.892,
          "year": 2015
         },
         {
          "code": "CYP",
          "fertility_rate": 1.481,
          "index": 161,
          "local_name": "Kypros/Kibris",
          "region": "Middle East",
          "unemployment_rate": 6.283,
          "year": 2010
         },
         {
          "code": "CYP",
          "fertility_rate": 1.438,
          "index": 162,
          "local_name": "Kypros/Kibris",
          "region": "Middle East",
          "unemployment_rate": 14.892,
          "year": 2015
         },
         {
          "code": "CYP",
          "fertility_rate": 1.438,
          "index": 163,
          "local_name": "Kypros/Kibris",
          "region": "Middle East",
          "unemployment_rate": 6.283,
          "year": 2010
         },
         {
          "code": "CZE",
          "fertility_rate": 1.51,
          "index": 164,
          "local_name": "¸esko",
          "region": "Eastern Europe",
          "unemployment_rate": 5.046,
          "year": 2015
         },
         {
          "code": "CZE",
          "fertility_rate": 1.51,
          "index": 165,
          "local_name": "¸esko",
          "region": "Eastern Europe",
          "unemployment_rate": 7.279,
          "year": 2010
         },
         {
          "code": "CZE",
          "fertility_rate": 1.53,
          "index": 166,
          "local_name": "¸esko",
          "region": "Eastern Europe",
          "unemployment_rate": 5.046,
          "year": 2015
         },
         {
          "code": "CZE",
          "fertility_rate": 1.53,
          "index": 167,
          "local_name": "¸esko",
          "region": "Eastern Europe",
          "unemployment_rate": 7.279,
          "year": 2010
         },
         {
          "code": "DEU",
          "fertility_rate": 1.39,
          "index": 168,
          "local_name": "Deutschland",
          "region": "Western Europe",
          "unemployment_rate": 4.608,
          "year": 2015
         },
         {
          "code": "DEU",
          "fertility_rate": 1.39,
          "index": 169,
          "local_name": "Deutschland",
          "region": "Western Europe",
          "unemployment_rate": 6.942,
          "year": 2010
         },
         {
          "code": "DEU",
          "fertility_rate": 1.5,
          "index": 170,
          "local_name": "Deutschland",
          "region": "Western Europe",
          "unemployment_rate": 4.608,
          "year": 2015
         },
         {
          "code": "DEU",
          "fertility_rate": 1.5,
          "index": 171,
          "local_name": "Deutschland",
          "region": "Western Europe",
          "unemployment_rate": 6.942,
          "year": 2010
         },
         {
          "code": "DJI",
          "fertility_rate": 3.484,
          "index": 172,
          "local_name": "Djibouti/Jibuti",
          "region": "Eastern Africa",
          "unemployment_rate": null,
          "year": 2015
         },
         {
          "code": "DJI",
          "fertility_rate": 3.484,
          "index": 173,
          "local_name": "Djibouti/Jibuti",
          "region": "Eastern Africa",
          "unemployment_rate": null,
          "year": 2010
         },
         {
          "code": "DJI",
          "fertility_rate": 3.131,
          "index": 174,
          "local_name": "Djibouti/Jibuti",
          "region": "Eastern Africa",
          "unemployment_rate": null,
          "year": 2015
         },
         {
          "code": "DJI",
          "fertility_rate": 3.131,
          "index": 175,
          "local_name": "Djibouti/Jibuti",
          "region": "Eastern Africa",
          "unemployment_rate": null,
          "year": 2010
         },
         {
          "code": "DMA",
          "fertility_rate": null,
          "index": 176,
          "local_name": "Dominica",
          "region": "Caribbean",
          "unemployment_rate": null,
          "year": 2015
         },
         {
          "code": "DMA",
          "fertility_rate": null,
          "index": 177,
          "local_name": "Dominica",
          "region": "Caribbean",
          "unemployment_rate": null,
          "year": 2010
         },
         {
          "code": "DMA",
          "fertility_rate": null,
          "index": 178,
          "local_name": "Dominica",
          "region": "Caribbean",
          "unemployment_rate": null,
          "year": 2015
         },
         {
          "code": "DMA",
          "fertility_rate": null,
          "index": 179,
          "local_name": "Dominica",
          "region": "Caribbean",
          "unemployment_rate": null,
          "year": 2010
         },
         {
          "code": "DNK",
          "fertility_rate": 1.87,
          "index": 180,
          "local_name": "Danmark",
          "region": "Nordic Countries",
          "unemployment_rate": 6.192,
          "year": 2015
         },
         {
          "code": "DNK",
          "fertility_rate": 1.87,
          "index": 181,
          "local_name": "Danmark",
          "region": "Nordic Countries",
          "unemployment_rate": 7.483,
          "year": 2010
         },
         {
          "code": "DNK",
          "fertility_rate": 1.69,
          "index": 182,
          "local_name": "Danmark",
          "region": "Nordic Countries",
          "unemployment_rate": 6.192,
          "year": 2015
         },
         {
          "code": "DNK",
          "fertility_rate": 1.69,
          "index": 183,
          "local_name": "Danmark",
          "region": "Nordic Countries",
          "unemployment_rate": 7.483,
          "year": 2010
         },
         {
          "code": "DOM",
          "fertility_rate": 2.597,
          "index": 184,
          "local_name": "Republica Dominicana",
          "region": "Caribbean",
          "unemployment_rate": 5.94,
          "year": 2015
         },
         {
          "code": "DOM",
          "fertility_rate": 2.597,
          "index": 185,
          "local_name": "Republica Dominicana",
          "region": "Caribbean",
          "unemployment_rate": 5.001,
          "year": 2010
         },
         {
          "code": "DOM",
          "fertility_rate": 2.451,
          "index": 186,
          "local_name": "Republica Dominicana",
          "region": "Caribbean",
          "unemployment_rate": 5.94,
          "year": 2015
         },
         {
          "code": "DOM",
          "fertility_rate": 2.451,
          "index": 187,
          "local_name": "Republica Dominicana",
          "region": "Caribbean",
          "unemployment_rate": 5.001,
          "year": 2010
         },
         {
          "code": "DZA",
          "fertility_rate": 2.873,
          "index": 188,
          "local_name": "Al-Jazair/Algerie",
          "region": "Northern Africa",
          "unemployment_rate": 11.214,
          "year": 2015
         },
         {
          "code": "DZA",
          "fertility_rate": 2.873,
          "index": 189,
          "local_name": "Al-Jazair/Algerie",
          "region": "Northern Africa",
          "unemployment_rate": 9.961,
          "year": 2010
         },
         {
          "code": "DZA",
          "fertility_rate": 2.805,
          "index": 190,
          "local_name": "Al-Jazair/Algerie",
          "region": "Northern Africa",
          "unemployment_rate": 11.214,
          "year": 2015
         },
         {
          "code": "DZA",
          "fertility_rate": 2.805,
          "index": 191,
          "local_name": "Al-Jazair/Algerie",
          "region": "Northern Africa",
          "unemployment_rate": 9.961,
          "year": 2010
         },
         {
          "code": "ECU",
          "fertility_rate": 2.656,
          "index": 192,
          "local_name": "Ecuador",
          "region": "South America",
          "unemployment_rate": 4.77,
          "year": 2015
         },
         {
          "code": "ECU",
          "fertility_rate": 2.656,
          "index": 193,
          "local_name": "Ecuador",
          "region": "South America",
          "unemployment_rate": 5.019,
          "year": 2010
         },
         {
          "code": "ECU",
          "fertility_rate": 2.513,
          "index": 194,
          "local_name": "Ecuador",
          "region": "South America",
          "unemployment_rate": 4.77,
          "year": 2015
         },
         {
          "code": "ECU",
          "fertility_rate": 2.513,
          "index": 195,
          "local_name": "Ecuador",
          "region": "South America",
          "unemployment_rate": 5.019,
          "year": 2010
         },
         {
          "code": "EGY",
          "fertility_rate": 3.184,
          "index": 196,
          "local_name": "Misr",
          "region": "Northern Africa",
          "unemployment_rate": 12.859,
          "year": 2015
         },
         {
          "code": "EGY",
          "fertility_rate": 3.184,
          "index": 197,
          "local_name": "Misr",
          "region": "Northern Africa",
          "unemployment_rate": 9.21,
          "year": 2010
         },
         {
          "code": "EGY",
          "fertility_rate": 3.314,
          "index": 198,
          "local_name": "Misr",
          "region": "Northern Africa",
          "unemployment_rate": 12.859,
          "year": 2015
         },
         {
          "code": "EGY",
          "fertility_rate": 3.314,
          "index": 199,
          "local_name": "Misr",
          "region": "Northern Africa",
          "unemployment_rate": 9.21,
          "year": 2010
         },
         {
          "code": "ERI",
          "fertility_rate": 4.605,
          "index": 200,
          "local_name": "Ertra",
          "region": "Eastern Africa",
          "unemployment_rate": null,
          "year": 2015
         },
         {
          "code": "ERI",
          "fertility_rate": 4.605,
          "index": 201,
          "local_name": "Ertra",
          "region": "Eastern Africa",
          "unemployment_rate": null,
          "year": 2010
         },
         {
          "code": "ERI",
          "fertility_rate": 4.207,
          "index": 202,
          "local_name": "Ertra",
          "region": "Eastern Africa",
          "unemployment_rate": null,
          "year": 2015
         },
         {
          "code": "ERI",
          "fertility_rate": 4.207,
          "index": 203,
          "local_name": "Ertra",
          "region": "Eastern Africa",
          "unemployment_rate": null,
          "year": 2010
         },
         {
          "code": "ESP",
          "fertility_rate": 1.37,
          "index": 204,
          "local_name": "Espana",
          "region": "Southern Europe",
          "unemployment_rate": 22.058,
          "year": 2015
         },
         {
          "code": "ESP",
          "fertility_rate": 1.37,
          "index": 205,
          "local_name": "Espana",
          "region": "Southern Europe",
          "unemployment_rate": 19.858,
          "year": 2010
         },
         {
          "code": "ESP",
          "fertility_rate": 1.32,
          "index": 206,
          "local_name": "Espana",
          "region": "Southern Europe",
          "unemployment_rate": 22.058,
          "year": 2015
         },
         {
          "code": "ESP",
          "fertility_rate": 1.32,
          "index": 207,
          "local_name": "Espana",
          "region": "Southern Europe",
          "unemployment_rate": 19.858,
          "year": 2010
         },
         {
          "code": "EST",
          "fertility_rate": 1.72,
          "index": 208,
          "local_name": "Eesti",
          "region": "Baltic Countries",
          "unemployment_rate": 6.104,
          "year": 2015
         },
         {
          "code": "EST",
          "fertility_rate": 1.72,
          "index": 209,
          "local_name": "Eesti",
          "region": "Baltic Countries",
          "unemployment_rate": 16.707,
          "year": 2010
         },
         {
          "code": "EST",
          "fertility_rate": 1.54,
          "index": 210,
          "local_name": "Eesti",
          "region": "Baltic Countries",
          "unemployment_rate": 6.104,
          "year": 2015
         },
         {
          "code": "EST",
          "fertility_rate": 1.54,
          "index": 211,
          "local_name": "Eesti",
          "region": "Baltic Countries",
          "unemployment_rate": 16.707,
          "year": 2010
         },
         {
          "code": "ETH",
          "fertility_rate": 4.903,
          "index": 212,
          "local_name": "YeItyop´iya",
          "region": "Eastern Africa",
          "unemployment_rate": null,
          "year": 2015
         },
         {
          "code": "ETH",
          "fertility_rate": 4.903,
          "index": 213,
          "local_name": "YeItyop´iya",
          "region": "Eastern Africa",
          "unemployment_rate": null,
          "year": 2010
         },
         {
          "code": "ETH",
          "fertility_rate": 4.275,
          "index": 214,
          "local_name": "YeItyop´iya",
          "region": "Eastern Africa",
          "unemployment_rate": null,
          "year": 2015
         },
         {
          "code": "ETH",
          "fertility_rate": 4.275,
          "index": 215,
          "local_name": "YeItyop´iya",
          "region": "Eastern Africa",
          "unemployment_rate": null,
          "year": 2010
         },
         {
          "code": "FIN",
          "fertility_rate": 1.87,
          "index": 216,
          "local_name": "Suomi",
          "region": "Nordic Countries",
          "unemployment_rate": 9.375,
          "year": 2015
         },
         {
          "code": "FIN",
          "fertility_rate": 1.87,
          "index": 217,
          "local_name": "Suomi",
          "region": "Nordic Countries",
          "unemployment_rate": 8.5,
          "year": 2010
         },
         {
          "code": "FIN",
          "fertility_rate": 1.71,
          "index": 218,
          "local_name": "Suomi",
          "region": "Nordic Countries",
          "unemployment_rate": 9.375,
          "year": 2015
         },
         {
          "code": "FIN",
          "fertility_rate": 1.71,
          "index": 219,
          "local_name": "Suomi",
          "region": "Nordic Countries",
          "unemployment_rate": 8.5,
          "year": 2010
         },
         {
          "code": "FJI",
          "fertility_rate": 2.669,
          "index": 220,
          "local_name": "Fiji Islands",
          "region": "Melanesia",
          "unemployment_rate": 8.75,
          "year": 2015
         },
         {
          "code": "FJI",
          "fertility_rate": 2.669,
          "index": 221,
          "local_name": "Fiji Islands",
          "region": "Melanesia",
          "unemployment_rate": 8.9,
          "year": 2010
         },
         {
          "code": "FJI",
          "fertility_rate": 2.54,
          "index": 222,
          "local_name": "Fiji Islands",
          "region": "Melanesia",
          "unemployment_rate": 8.75,
          "year": 2015
         },
         {
          "code": "FJI",
          "fertility_rate": 2.54,
          "index": 223,
          "local_name": "Fiji Islands",
          "region": "Melanesia",
          "unemployment_rate": 8.9,
          "year": 2010
         },
         {
          "code": "FRA",
          "fertility_rate": 2.03,
          "index": 224,
          "local_name": "France",
          "region": "Western Europe",
          "unemployment_rate": 10.367,
          "year": 2015
         },
         {
          "code": "FRA",
          "fertility_rate": 2.03,
          "index": 225,
          "local_name": "France",
          "region": "Western Europe",
          "unemployment_rate": 9.258,
          "year": 2010
         },
         {
          "code": "FRA",
          "fertility_rate": 2.01,
          "index": 226,
          "local_name": "France",
          "region": "Western Europe",
          "unemployment_rate": 10.367,
          "year": 2015
         },
         {
          "code": "FRA",
          "fertility_rate": 2.01,
          "index": 227,
          "local_name": "France",
          "region": "Western Europe",
          "unemployment_rate": 9.258,
          "year": 2010
         },
         {
          "code": "FSM",
          "fertility_rate": 3.46,
          "index": 228,
          "local_name": "Micronesia",
          "region": "Micronesia",
          "unemployment_rate": null,
          "year": 2015
         },
         {
          "code": "FSM",
          "fertility_rate": 3.46,
          "index": 229,
          "local_name": "Micronesia",
          "region": "Micronesia",
          "unemployment_rate": null,
          "year": 2010
         },
         {
          "code": "FSM",
          "fertility_rate": 3.193,
          "index": 230,
          "local_name": "Micronesia",
          "region": "Micronesia",
          "unemployment_rate": null,
          "year": 2015
         },
         {
          "code": "FSM",
          "fertility_rate": 3.193,
          "index": 231,
          "local_name": "Micronesia",
          "region": "Micronesia",
          "unemployment_rate": null,
          "year": 2010
         },
         {
          "code": "GAB",
          "fertility_rate": 4.083,
          "index": 232,
          "local_name": "Le Gabon",
          "region": "Central Africa",
          "unemployment_rate": null,
          "year": 2015
         },
         {
          "code": "GAB",
          "fertility_rate": 4.083,
          "index": 233,
          "local_name": "Le Gabon",
          "region": "Central Africa",
          "unemployment_rate": null,
          "year": 2010
         },
         {
          "code": "GAB",
          "fertility_rate": 3.849,
          "index": 234,
          "local_name": "Le Gabon",
          "region": "Central Africa",
          "unemployment_rate": null,
          "year": 2015
         },
         {
          "code": "GAB",
          "fertility_rate": 3.849,
          "index": 235,
          "local_name": "Le Gabon",
          "region": "Central Africa",
          "unemployment_rate": null,
          "year": 2010
         },
         {
          "code": "GBR",
          "fertility_rate": 1.92,
          "index": 236,
          "local_name": "United Kingdom",
          "region": "British Islands",
          "unemployment_rate": 5.4,
          "year": 2015
         },
         {
          "code": "GBR",
          "fertility_rate": 1.92,
          "index": 237,
          "local_name": "United Kingdom",
          "region": "British Islands",
          "unemployment_rate": 7.9,
          "year": 2010
         },
         {
          "code": "GBR",
          "fertility_rate": 1.81,
          "index": 238,
          "local_name": "United Kingdom",
          "region": "British Islands",
          "unemployment_rate": 5.4,
          "year": 2015
         },
         {
          "code": "GBR",
          "fertility_rate": 1.81,
          "index": 239,
          "local_name": "United Kingdom",
          "region": "British Islands",
          "unemployment_rate": 7.9,
          "year": 2010
         },
         {
          "code": "GEO",
          "fertility_rate": 1.82,
          "index": 240,
          "local_name": "Sakartvelo",
          "region": "Middle East",
          "unemployment_rate": 11.95,
          "year": 2015
         },
         {
          "code": "GEO",
          "fertility_rate": 1.82,
          "index": 241,
          "local_name": "Sakartvelo",
          "region": "Middle East",
          "unemployment_rate": 16.291,
          "year": 2010
         },
         {
          "code": "GEO",
          "fertility_rate": 1.815,
          "index": 242,
          "local_name": "Sakartvelo",
          "region": "Middle East",
          "unemployment_rate": 11.95,
          "year": 2015
         },
         {
          "code": "GEO",
          "fertility_rate": 1.815,
          "index": 243,
          "local_name": "Sakartvelo",
          "region": "Middle East",
          "unemployment_rate": 16.291,
          "year": 2010
         },
         {
          "code": "GHA",
          "fertility_rate": 4.272,
          "index": 244,
          "local_name": "Ghana",
          "region": "Western Africa",
          "unemployment_rate": null,
          "year": 2015
         },
         {
          "code": "GHA",
          "fertility_rate": 4.272,
          "index": 245,
          "local_name": "Ghana",
          "region": "Western Africa",
          "unemployment_rate": null,
          "year": 2010
         },
         {
          "code": "GHA",
          "fertility_rate": 4.117,
          "index": 246,
          "local_name": "Ghana",
          "region": "Western Africa",
          "unemployment_rate": null,
          "year": 2015
         },
         {
          "code": "GHA",
          "fertility_rate": 4.117,
          "index": 247,
          "local_name": "Ghana",
          "region": "Western Africa",
          "unemployment_rate": null,
          "year": 2010
         },
         {
          "code": "GIN",
          "fertility_rate": 5.337,
          "index": 248,
          "local_name": "Guinee",
          "region": "Western Africa",
          "unemployment_rate": null,
          "year": 2015
         },
         {
          "code": "GIN",
          "fertility_rate": 5.337,
          "index": 249,
          "local_name": "Guinee",
          "region": "Western Africa",
          "unemployment_rate": null,
          "year": 2010
         },
         {
          "code": "GIN",
          "fertility_rate": 4.932,
          "index": 250,
          "local_name": "Guinee",
          "region": "Western Africa",
          "unemployment_rate": null,
          "year": 2015
         },
         {
          "code": "GIN",
          "fertility_rate": 4.932,
          "index": 251,
          "local_name": "Guinee",
          "region": "Western Africa",
          "unemployment_rate": null,
          "year": 2010
         },
         {
          "code": "GMB",
          "fertility_rate": 5.796,
          "index": 252,
          "local_name": "The Gambia",
          "region": "Western Africa",
          "unemployment_rate": null,
          "year": 2015
         },
         {
          "code": "GMB",
          "fertility_rate": 5.796,
          "index": 253,
          "local_name": "The Gambia",
          "region": "Western Africa",
          "unemployment_rate": null,
          "year": 2010
         },
         {
          "code": "GMB",
          "fertility_rate": 5.674,
          "index": 254,
          "local_name": "The Gambia",
          "region": "Western Africa",
          "unemployment_rate": null,
          "year": 2015
         },
         {
          "code": "GMB",
          "fertility_rate": 5.674,
          "index": 255,
          "local_name": "The Gambia",
          "region": "Western Africa",
          "unemployment_rate": null,
          "year": 2010
         },
         {
          "code": "GNB",
          "fertility_rate": 5.091,
          "index": 256,
          "local_name": "Guine-Bissau",
          "region": "Western Africa",
          "unemployment_rate": null,
          "year": 2015
         },
         {
          "code": "GNB",
          "fertility_rate": 5.091,
          "index": 257,
          "local_name": "Guine-Bissau",
          "region": "Western Africa",
          "unemployment_rate": null,
          "year": 2010
         },
         {
          "code": "GNB",
          "fertility_rate": 4.761,
          "index": 258,
          "local_name": "Guine-Bissau",
          "region": "Western Africa",
          "unemployment_rate": null,
          "year": 2015
         },
         {
          "code": "GNB",
          "fertility_rate": 4.761,
          "index": 259,
          "local_name": "Guine-Bissau",
          "region": "Western Africa",
          "unemployment_rate": null,
          "year": 2010
         },
         {
          "code": "GNQ",
          "fertility_rate": 5.176,
          "index": 260,
          "local_name": "Guinea Ecuatorial",
          "region": "Central Africa",
          "unemployment_rate": null,
          "year": 2015
         },
         {
          "code": "GNQ",
          "fertility_rate": 5.176,
          "index": 261,
          "local_name": "Guinea Ecuatorial",
          "region": "Central Africa",
          "unemployment_rate": null,
          "year": 2010
         },
         {
          "code": "GNQ",
          "fertility_rate": 4.745,
          "index": 262,
          "local_name": "Guinea Ecuatorial",
          "region": "Central Africa",
          "unemployment_rate": null,
          "year": 2015
         },
         {
          "code": "GNQ",
          "fertility_rate": 4.745,
          "index": 263,
          "local_name": "Guinea Ecuatorial",
          "region": "Central Africa",
          "unemployment_rate": null,
          "year": 2010
         },
         {
          "code": "GRC",
          "fertility_rate": 1.48,
          "index": 264,
          "local_name": "Ellada",
          "region": "Southern Europe",
          "unemployment_rate": 24.9,
          "year": 2015
         },
         {
          "code": "GRC",
          "fertility_rate": 1.48,
          "index": 265,
          "local_name": "Ellada",
          "region": "Southern Europe",
          "unemployment_rate": 12.725,
          "year": 2010
         },
         {
          "code": "GRC",
          "fertility_rate": 1.3,
          "index": 266,
          "local_name": "Ellada",
          "region": "Southern Europe",
          "unemployment_rate": 24.9,
          "year": 2015
         },
         {
          "code": "GRC",
          "fertility_rate": 1.3,
          "index": 267,
          "local_name": "Ellada",
          "region": "Southern Europe",
          "unemployment_rate": 12.725,
          "year": 2010
         },
         {
          "code": "GRD",
          "fertility_rate": 2.24,
          "index": 268,
          "local_name": "Grenada",
          "region": "Caribbean",
          "unemployment_rate": null,
          "year": 2015
         },
         {
          "code": "GRD",
          "fertility_rate": 2.24,
          "index": 269,
          "local_name": "Grenada",
          "region": "Caribbean",
          "unemployment_rate": null,
          "year": 2010
         },
         {
          "code": "GRD",
          "fertility_rate": 2.127,
          "index": 270,
          "local_name": "Grenada",
          "region": "Caribbean",
          "unemployment_rate": null,
          "year": 2015
         },
         {
          "code": "GRD",
          "fertility_rate": 2.127,
          "index": 271,
          "local_name": "Grenada",
          "region": "Caribbean",
          "unemployment_rate": null,
          "year": 2010
         },
         {
          "code": "GTM",
          "fertility_rate": 3.434,
          "index": 272,
          "local_name": "Guatemala",
          "region": "Central America",
          "unemployment_rate": null,
          "year": 2015
         },
         {
          "code": "GTM",
          "fertility_rate": 3.434,
          "index": 273,
          "local_name": "Guatemala",
          "region": "Central America",
          "unemployment_rate": null,
          "year": 2010
         },
         {
          "code": "GTM",
          "fertility_rate": 3.159,
          "index": 274,
          "local_name": "Guatemala",
          "region": "Central America",
          "unemployment_rate": null,
          "year": 2015
         },
         {
          "code": "GTM",
          "fertility_rate": 3.159,
          "index": 275,
          "local_name": "Guatemala",
          "region": "Central America",
          "unemployment_rate": null,
          "year": 2010
         },
         {
          "code": "GUY",
          "fertility_rate": 2.68,
          "index": 276,
          "local_name": "Guyana",
          "region": "South America",
          "unemployment_rate": null,
          "year": 2015
         },
         {
          "code": "GUY",
          "fertility_rate": 2.68,
          "index": 277,
          "local_name": "Guyana",
          "region": "South America",
          "unemployment_rate": null,
          "year": 2010
         },
         {
          "code": "GUY",
          "fertility_rate": 2.532,
          "index": 278,
          "local_name": "Guyana",
          "region": "South America",
          "unemployment_rate": null,
          "year": 2015
         },
         {
          "code": "GUY",
          "fertility_rate": 2.532,
          "index": 279,
          "local_name": "Guyana",
          "region": "South America",
          "unemployment_rate": null,
          "year": 2010
         },
         {
          "code": "HKG",
          "fertility_rate": 1.127,
          "index": 280,
          "local_name": "Xianggang/Hong Kong",
          "region": "Eastern Asia",
          "unemployment_rate": 3.296,
          "year": 2015
         },
         {
          "code": "HKG",
          "fertility_rate": 1.127,
          "index": 281,
          "local_name": "Xianggang/Hong Kong",
          "region": "Eastern Asia",
          "unemployment_rate": 4.322,
          "year": 2010
         },
         {
          "code": "HKG",
          "fertility_rate": 1.195,
          "index": 282,
          "local_name": "Xianggang/Hong Kong",
          "region": "Eastern Asia",
          "unemployment_rate": 3.296,
          "year": 2015
         },
         {
          "code": "HKG",
          "fertility_rate": 1.195,
          "index": 283,
          "local_name": "Xianggang/Hong Kong",
          "region": "Eastern Asia",
          "unemployment_rate": 4.322,
          "year": 2010
         },
         {
          "code": "HND",
          "fertility_rate": 2.695,
          "index": 284,
          "local_name": "Honduras",
          "region": "Central America",
          "unemployment_rate": 4,
          "year": 2015
         },
         {
          "code": "HND",
          "fertility_rate": 2.695,
          "index": 285,
          "local_name": "Honduras",
          "region": "Central America",
          "unemployment_rate": 4.8,
          "year": 2010
         },
         {
          "code": "HND",
          "fertility_rate": 2.332,
          "index": 286,
          "local_name": "Honduras",
          "region": "Central America",
          "unemployment_rate": 4,
          "year": 2015
         },
         {
          "code": "HND",
          "fertility_rate": 2.332,
          "index": 287,
          "local_name": "Honduras",
          "region": "Central America",
          "unemployment_rate": 4.8,
          "year": 2010
         },
         {
          "code": "HRV",
          "fertility_rate": 1.55,
          "index": 288,
          "local_name": "Hrvatska",
          "region": "Southern Europe",
          "unemployment_rate": 17.067,
          "year": 2015
         },
         {
          "code": "HRV",
          "fertility_rate": 1.55,
          "index": 289,
          "local_name": "Hrvatska",
          "region": "Southern Europe",
          "unemployment_rate": 17.167,
          "year": 2010
         },
         {
          "code": "HRV",
          "fertility_rate": 1.46,
          "index": 290,
          "local_name": "Hrvatska",
          "region": "Southern Europe",
          "unemployment_rate": 17.067,
          "year": 2015
         },
         {
          "code": "HRV",
          "fertility_rate": 1.46,
          "index": 291,
          "local_name": "Hrvatska",
          "region": "Southern Europe",
          "unemployment_rate": 17.167,
          "year": 2010
         },
         {
          "code": "HTI",
          "fertility_rate": 3.325,
          "index": 292,
          "local_name": "Haiti/Dayti",
          "region": "Caribbean",
          "unemployment_rate": null,
          "year": 2015
         },
         {
          "code": "HTI",
          "fertility_rate": 3.325,
          "index": 293,
          "local_name": "Haiti/Dayti",
          "region": "Caribbean",
          "unemployment_rate": null,
          "year": 2010
         },
         {
          "code": "HTI",
          "fertility_rate": 2.973,
          "index": 294,
          "local_name": "Haiti/Dayti",
          "region": "Caribbean",
          "unemployment_rate": null,
          "year": 2015
         },
         {
          "code": "HTI",
          "fertility_rate": 2.973,
          "index": 295,
          "local_name": "Haiti/Dayti",
          "region": "Caribbean",
          "unemployment_rate": null,
          "year": 2010
         },
         {
          "code": "HUN",
          "fertility_rate": 1.25,
          "index": 296,
          "local_name": "Magyarorszag",
          "region": "Eastern Europe",
          "unemployment_rate": 6.848,
          "year": 2015
         },
         {
          "code": "HUN",
          "fertility_rate": 1.25,
          "index": 297,
          "local_name": "Magyarorszag",
          "region": "Eastern Europe",
          "unemployment_rate": 11.251,
          "year": 2010
         },
         {
          "code": "HUN",
          "fertility_rate": 1.44,
          "index": 298,
          "local_name": "Magyarorszag",
          "region": "Eastern Europe",
          "unemployment_rate": 6.848,
          "year": 2015
         },
         {
          "code": "HUN",
          "fertility_rate": 1.44,
          "index": 299,
          "local_name": "Magyarorszag",
          "region": "Eastern Europe",
          "unemployment_rate": 11.251,
          "year": 2010
         },
         {
          "code": "IDN",
          "fertility_rate": 2.513,
          "index": 300,
          "local_name": "Indonesia",
          "region": "Southeast Asia",
          "unemployment_rate": 6.18,
          "year": 2015
         },
         {
          "code": "IDN",
          "fertility_rate": 2.513,
          "index": 301,
          "local_name": "Indonesia",
          "region": "Southeast Asia",
          "unemployment_rate": 7.14,
          "year": 2010
         },
         {
          "code": "IDN",
          "fertility_rate": 2.437,
          "index": 302,
          "local_name": "Indonesia",
          "region": "Southeast Asia",
          "unemployment_rate": 6.18,
          "year": 2015
         },
         {
          "code": "IDN",
          "fertility_rate": 2.437,
          "index": 303,
          "local_name": "Indonesia",
          "region": "Southeast Asia",
          "unemployment_rate": 7.14,
          "year": 2010
         },
         {
          "code": "IND",
          "fertility_rate": 2.622,
          "index": 304,
          "local_name": "Bharat/India",
          "region": "Southern and Central Asia",
          "unemployment_rate": null,
          "year": 2015
         },
         {
          "code": "IND",
          "fertility_rate": 2.622,
          "index": 305,
          "local_name": "Bharat/India",
          "region": "Southern and Central Asia",
          "unemployment_rate": null,
          "year": 2010
         },
         {
          "code": "IND",
          "fertility_rate": 2.395,
          "index": 306,
          "local_name": "Bharat/India",
          "region": "Southern and Central Asia",
          "unemployment_rate": null,
          "year": 2015
         },
         {
          "code": "IND",
          "fertility_rate": 2.395,
          "index": 307,
          "local_name": "Bharat/India",
          "region": "Southern and Central Asia",
          "unemployment_rate": null,
          "year": 2010
         },
         {
          "code": "IRL",
          "fertility_rate": 2.05,
          "index": 308,
          "local_name": "Ireland/Eire",
          "region": "British Islands",
          "unemployment_rate": 9.442,
          "year": 2015
         },
         {
          "code": "IRL",
          "fertility_rate": 2.05,
          "index": 309,
          "local_name": "Ireland/Eire",
          "region": "British Islands",
          "unemployment_rate": 13.917,
          "year": 2010
         },
         {
          "code": "IRL",
          "fertility_rate": 1.94,
          "index": 310,
          "local_name": "Ireland/Eire",
          "region": "British Islands",
          "unemployment_rate": 9.442,
          "year": 2015
         },
         {
          "code": "IRL",
          "fertility_rate": 1.94,
          "index": 311,
          "local_name": "Ireland/Eire",
          "region": "British Islands",
          "unemployment_rate": 13.917,
          "year": 2010
         },
         {
          "code": "IRN",
          "fertility_rate": 1.765,
          "index": 312,
          "local_name": "Iran",
          "region": "Southern and Central Asia",
          "unemployment_rate": 11,
          "year": 2015
         },
         {
          "code": "IRN",
          "fertility_rate": 1.765,
          "index": 313,
          "local_name": "Iran",
          "region": "Southern and Central Asia",
          "unemployment_rate": 13.5,
          "year": 2010
         },
         {
          "code": "IRN",
          "fertility_rate": 1.685,
          "index": 314,
          "local_name": "Iran",
          "region": "Southern and Central Asia",
          "unemployment_rate": 11,
          "year": 2015
         },
         {
          "code": "IRN",
          "fertility_rate": 1.685,
          "index": 315,
          "local_name": "Iran",
          "region": "Southern and Central Asia",
          "unemployment_rate": 13.5,
          "year": 2010
         },
         {
          "code": "IRQ",
          "fertility_rate": 4.659,
          "index": 316,
          "local_name": "Al-´Iraq",
          "region": "Middle East",
          "unemployment_rate": null,
          "year": 2015
         },
         {
          "code": "IRQ",
          "fertility_rate": 4.659,
          "index": 317,
          "local_name": "Al-´Iraq",
          "region": "Middle East",
          "unemployment_rate": null,
          "year": 2010
         },
         {
          "code": "IRQ",
          "fertility_rate": 4.515,
          "index": 318,
          "local_name": "Al-´Iraq",
          "region": "Middle East",
          "unemployment_rate": null,
          "year": 2015
         },
         {
          "code": "IRQ",
          "fertility_rate": 4.515,
          "index": 319,
          "local_name": "Al-´Iraq",
          "region": "Middle East",
          "unemployment_rate": null,
          "year": 2010
         },
         {
          "code": "ISL",
          "fertility_rate": 2.2,
          "index": 320,
          "local_name": "Island",
          "region": "Nordic Countries",
          "unemployment_rate": 3.992,
          "year": 2015
         },
         {
          "code": "ISL",
          "fertility_rate": 2.2,
          "index": 321,
          "local_name": "Island",
          "region": "Nordic Countries",
          "unemployment_rate": 7.558,
          "year": 2010
         },
         {
          "code": "ISL",
          "fertility_rate": 1.93,
          "index": 322,
          "local_name": "Island",
          "region": "Nordic Countries",
          "unemployment_rate": 3.992,
          "year": 2015
         },
         {
          "code": "ISL",
          "fertility_rate": 1.93,
          "index": 323,
          "local_name": "Island",
          "region": "Nordic Countries",
          "unemployment_rate": 7.558,
          "year": 2010
         },
         {
          "code": "ISR",
          "fertility_rate": 3.03,
          "index": 324,
          "local_name": "Yisrael/Israil",
          "region": "Middle East",
          "unemployment_rate": 5.275,
          "year": 2015
         },
         {
          "code": "ISR",
          "fertility_rate": 3.03,
          "index": 325,
          "local_name": "Yisrael/Israil",
          "region": "Middle East",
          "unemployment_rate": 8.25,
          "year": 2010
         },
         {
          "code": "ISR",
          "fertility_rate": 3.09,
          "index": 326,
          "local_name": "Yisrael/Israil",
          "region": "Middle East",
          "unemployment_rate": 5.275,
          "year": 2015
         },
         {
          "code": "ISR",
          "fertility_rate": 3.09,
          "index": 327,
          "local_name": "Yisrael/Israil",
          "region": "Middle East",
          "unemployment_rate": 8.25,
          "year": 2010
         },
         {
          "code": "ITA",
          "fertility_rate": 1.46,
          "index": 328,
          "local_name": "Italia",
          "region": "Southern Europe",
          "unemployment_rate": 11.908,
          "year": 2015
         },
         {
          "code": "ITA",
          "fertility_rate": 1.46,
          "index": 329,
          "local_name": "Italia",
          "region": "Southern Europe",
          "unemployment_rate": 8.35,
          "year": 2010
         },
         {
          "code": "ITA",
          "fertility_rate": 1.37,
          "index": 330,
          "local_name": "Italia",
          "region": "Southern Europe",
          "unemployment_rate": 11.908,
          "year": 2015
         },
         {
          "code": "ITA",
          "fertility_rate": 1.37,
          "index": 331,
          "local_name": "Italia",
          "region": "Southern Europe",
          "unemployment_rate": 8.35,
          "year": 2010
         },
         {
          "code": "JAM",
          "fertility_rate": 2.174,
          "index": 332,
          "local_name": "Jamaica",
          "region": "Caribbean",
          "unemployment_rate": 13.5,
          "year": 2015
         },
         {
          "code": "JAM",
          "fertility_rate": 2.174,
          "index": 333,
          "local_name": "Jamaica",
          "region": "Caribbean",
          "unemployment_rate": 12.375,
          "year": 2010
         },
         {
          "code": "JAM",
          "fertility_rate": 2.025,
          "index": 334,
          "local_name": "Jamaica",
          "region": "Caribbean",
          "unemployment_rate": 13.5,
          "year": 2015
         },
         {
          "code": "JAM",
          "fertility_rate": 2.025,
          "index": 335,
          "local_name": "Jamaica",
          "region": "Caribbean",
          "unemployment_rate": 12.375,
          "year": 2010
         },
         {
          "code": "JOR",
          "fertility_rate": 3.553,
          "index": 336,
          "local_name": "Al-Urdunn",
          "region": "Middle East",
          "unemployment_rate": 13.075,
          "year": 2015
         },
         {
          "code": "JOR",
          "fertility_rate": 3.553,
          "index": 337,
          "local_name": "Al-Urdunn",
          "region": "Middle East",
          "unemployment_rate": 12.5,
          "year": 2010
         },
         {
          "code": "JOR",
          "fertility_rate": 3.366,
          "index": 338,
          "local_name": "Al-Urdunn",
          "region": "Middle East",
          "unemployment_rate": 13.075,
          "year": 2015
         },
         {
          "code": "JOR",
          "fertility_rate": 3.366,
          "index": 339,
          "local_name": "Al-Urdunn",
          "region": "Middle East",
          "unemployment_rate": 12.5,
          "year": 2010
         },
         {
          "code": "JPN",
          "fertility_rate": 1.39,
          "index": 340,
          "local_name": "Nihon/Nippon",
          "region": "Eastern Asia",
          "unemployment_rate": 3.375,
          "year": 2015
         },
         {
          "code": "JPN",
          "fertility_rate": 1.39,
          "index": 341,
          "local_name": "Nihon/Nippon",
          "region": "Eastern Asia",
          "unemployment_rate": 5.058,
          "year": 2010
         },
         {
          "code": "JPN",
          "fertility_rate": 1.46,
          "index": 342,
          "local_name": "Nihon/Nippon",
          "region": "Eastern Asia",
          "unemployment_rate": 3.375,
          "year": 2015
         },
         {
          "code": "JPN",
          "fertility_rate": 1.46,
          "index": 343,
          "local_name": "Nihon/Nippon",
          "region": "Eastern Asia",
          "unemployment_rate": 5.058,
          "year": 2010
         },
         {
          "code": "KAZ",
          "fertility_rate": 2.6,
          "index": 344,
          "local_name": "Qazaqstan",
          "region": "Southern and Central Asia",
          "unemployment_rate": 5.042,
          "year": 2015
         },
         {
          "code": "KAZ",
          "fertility_rate": 2.6,
          "index": 345,
          "local_name": "Qazaqstan",
          "region": "Southern and Central Asia",
          "unemployment_rate": 5.783,
          "year": 2010
         },
         {
          "code": "KAZ",
          "fertility_rate": 2.73,
          "index": 346,
          "local_name": "Qazaqstan",
          "region": "Southern and Central Asia",
          "unemployment_rate": 5.042,
          "year": 2015
         },
         {
          "code": "KAZ",
          "fertility_rate": 2.73,
          "index": 347,
          "local_name": "Qazaqstan",
          "region": "Southern and Central Asia",
          "unemployment_rate": 5.783,
          "year": 2010
         },
         {
          "code": "KEN",
          "fertility_rate": 4.629,
          "index": 348,
          "local_name": "Kenya",
          "region": "Eastern Africa",
          "unemployment_rate": null,
          "year": 2015
         },
         {
          "code": "KEN",
          "fertility_rate": 4.629,
          "index": 349,
          "local_name": "Kenya",
          "region": "Eastern Africa",
          "unemployment_rate": null,
          "year": 2010
         },
         {
          "code": "KEN",
          "fertility_rate": 4.263,
          "index": 350,
          "local_name": "Kenya",
          "region": "Eastern Africa",
          "unemployment_rate": null,
          "year": 2015
         },
         {
          "code": "KEN",
          "fertility_rate": 4.263,
          "index": 351,
          "local_name": "Kenya",
          "region": "Eastern Africa",
          "unemployment_rate": null,
          "year": 2010
         },
         {
          "code": "KGZ",
          "fertility_rate": 3.1,
          "index": 352,
          "local_name": "Kyrgyzstan",
          "region": "Southern and Central Asia",
          "unemployment_rate": 7.554,
          "year": 2015
         },
         {
          "code": "KGZ",
          "fertility_rate": 3.1,
          "index": 353,
          "local_name": "Kyrgyzstan",
          "region": "Southern and Central Asia",
          "unemployment_rate": 8.644,
          "year": 2010
         },
         {
          "code": "KGZ",
          "fertility_rate": 3.2,
          "index": 354,
          "local_name": "Kyrgyzstan",
          "region": "Southern and Central Asia",
          "unemployment_rate": 7.554,
          "year": 2015
         },
         {
          "code": "KGZ",
          "fertility_rate": 3.2,
          "index": 355,
          "local_name": "Kyrgyzstan",
          "region": "Southern and Central Asia",
          "unemployment_rate": 8.644,
          "year": 2010
         },
         {
          "code": "KHM",
          "fertility_rate": 2.875,
          "index": 356,
          "local_name": "Kampuchea",
          "region": "Southeast Asia",
          "unemployment_rate": null,
          "year": 2015
         },
         {
          "code": "KHM",
          "fertility_rate": 2.875,
          "index": 357,
          "local_name": "Kampuchea",
          "region": "Southeast Asia",
          "unemployment_rate": null,
          "year": 2010
         },
         {
          "code": "KHM",
          "fertility_rate": 2.595,
          "index": 358,
          "local_name": "Kampuchea",
          "region": "Southeast Asia",
          "unemployment_rate": null,
          "year": 2015
         },
         {
          "code": "KHM",
          "fertility_rate": 2.595,
          "index": 359,
          "local_name": "Kampuchea",
          "region": "Southeast Asia",
          "unemployment_rate": null,
          "year": 2010
         },
         {
          "code": "KIR",
          "fertility_rate": 3.843,
          "index": 360,
          "local_name": "Kiribati",
          "region": "Micronesia",
          "unemployment_rate": null,
          "year": 2015
         },
         {
          "code": "KIR",
          "fertility_rate": 3.843,
          "index": 361,
          "local_name": "Kiribati",
          "region": "Micronesia",
          "unemployment_rate": null,
          "year": 2010
         },
         {
          "code": "KIR",
          "fertility_rate": 3.69,
          "index": 362,
          "local_name": "Kiribati",
          "region": "Micronesia",
          "unemployment_rate": null,
          "year": 2015
         },
         {
          "code": "KIR",
          "fertility_rate": 3.69,
          "index": 363,
          "local_name": "Kiribati",
          "region": "Micronesia",
          "unemployment_rate": null,
          "year": 2010
         },
         {
          "code": "KNA",
          "fertility_rate": null,
          "index": 364,
          "local_name": "Saint Kitts and Nevis",
          "region": "Caribbean",
          "unemployment_rate": null,
          "year": 2015
         },
         {
          "code": "KNA",
          "fertility_rate": null,
          "index": 365,
          "local_name": "Saint Kitts and Nevis",
          "region": "Caribbean",
          "unemployment_rate": null,
          "year": 2010
         },
         {
          "code": "KNA",
          "fertility_rate": null,
          "index": 366,
          "local_name": "Saint Kitts and Nevis",
          "region": "Caribbean",
          "unemployment_rate": null,
          "year": 2015
         },
         {
          "code": "KNA",
          "fertility_rate": null,
          "index": 367,
          "local_name": "Saint Kitts and Nevis",
          "region": "Caribbean",
          "unemployment_rate": null,
          "year": 2010
         },
         {
          "code": "KOR",
          "fertility_rate": 1.226,
          "index": 368,
          "local_name": "Taehan Minguk (Namhan)",
          "region": "Eastern Asia",
          "unemployment_rate": 3.642,
          "year": 2015
         },
         {
          "code": "KOR",
          "fertility_rate": 1.226,
          "index": 369,
          "local_name": "Taehan Minguk (Namhan)",
          "region": "Eastern Asia",
          "unemployment_rate": 3.725,
          "year": 2010
         },
         {
          "code": "KOR",
          "fertility_rate": 1.239,
          "index": 370,
          "local_name": "Taehan Minguk (Namhan)",
          "region": "Eastern Asia",
          "unemployment_rate": 3.642,
          "year": 2015
         },
         {
          "code": "KOR",
          "fertility_rate": 1.239,
          "index": 371,
          "local_name": "Taehan Minguk (Namhan)",
          "region": "Eastern Asia",
          "unemployment_rate": 3.725,
          "year": 2010
         },
         {
          "code": "KWT",
          "fertility_rate": 2.353,
          "index": 372,
          "local_name": "Al-Kuwayt",
          "region": "Middle East",
          "unemployment_rate": 2.072,
          "year": 2015
         },
         {
          "code": "KWT",
          "fertility_rate": 2.353,
          "index": 373,
          "local_name": "Al-Kuwayt",
          "region": "Middle East",
          "unemployment_rate": 2.072,
          "year": 2010
         },
         {
          "code": "KWT",
          "fertility_rate": 2.072,
          "index": 374,
          "local_name": "Al-Kuwayt",
          "region": "Middle East",
          "unemployment_rate": 2.072,
          "year": 2015
         },
         {
          "code": "KWT",
          "fertility_rate": 2.072,
          "index": 375,
          "local_name": "Al-Kuwayt",
          "region": "Middle East",
          "unemployment_rate": 2.072,
          "year": 2010
         },
         {
          "code": "LAO",
          "fertility_rate": 3.293,
          "index": 376,
          "local_name": "Lao",
          "region": "Southeast Asia",
          "unemployment_rate": null,
          "year": 2015
         },
         {
          "code": "LAO",
          "fertility_rate": 3.293,
          "index": 377,
          "local_name": "Lao",
          "region": "Southeast Asia",
          "unemployment_rate": null,
          "year": 2010
         },
         {
          "code": "LAO",
          "fertility_rate": 2.923,
          "index": 378,
          "local_name": "Lao",
          "region": "Southeast Asia",
          "unemployment_rate": null,
          "year": 2015
         },
         {
          "code": "LAO",
          "fertility_rate": 2.923,
          "index": 379,
          "local_name": "Lao",
          "region": "Southeast Asia",
          "unemployment_rate": null,
          "year": 2010
         },
         {
          "code": "LBN",
          "fertility_rate": 1.613,
          "index": 380,
          "local_name": "Lubnan",
          "region": "Middle East",
          "unemployment_rate": null,
          "year": 2015
         },
         {
          "code": "LBN",
          "fertility_rate": 1.613,
          "index": 381,
          "local_name": "Lubnan",
          "region": "Middle East",
          "unemployment_rate": null,
          "year": 2010
         },
         {
          "code": "LBN",
          "fertility_rate": 1.722,
          "index": 382,
          "local_name": "Lubnan",
          "region": "Middle East",
          "unemployment_rate": null,
          "year": 2015
         },
         {
          "code": "LBN",
          "fertility_rate": 1.722,
          "index": 383,
          "local_name": "Lubnan",
          "region": "Middle East",
          "unemployment_rate": null,
          "year": 2010
         },
         {
          "code": "LBR",
          "fertility_rate": 5.024,
          "index": 384,
          "local_name": "Liberia",
          "region": "Western Africa",
          "unemployment_rate": null,
          "year": 2015
         },
         {
          "code": "LBR",
          "fertility_rate": 5.024,
          "index": 385,
          "local_name": "Liberia",
          "region": "Western Africa",
          "unemployment_rate": null,
          "year": 2010
         },
         {
          "code": "LBR",
          "fertility_rate": 4.647,
          "index": 386,
          "local_name": "Liberia",
          "region": "Western Africa",
          "unemployment_rate": null,
          "year": 2015
         },
         {
          "code": "LBR",
          "fertility_rate": 4.647,
          "index": 387,
          "local_name": "Liberia",
          "region": "Western Africa",
          "unemployment_rate": null,
          "year": 2010
         },
         {
          "code": "LBY",
          "fertility_rate": 2.603,
          "index": 388,
          "local_name": "Libiya",
          "region": "Northern Africa",
          "unemployment_rate": null,
          "year": 2015
         },
         {
          "code": "LBY",
          "fertility_rate": 2.603,
          "index": 389,
          "local_name": "Libiya",
          "region": "Northern Africa",
          "unemployment_rate": null,
          "year": 2010
         },
         {
          "code": "LBY",
          "fertility_rate": 2.426,
          "index": 390,
          "local_name": "Libiya",
          "region": "Northern Africa",
          "unemployment_rate": null,
          "year": 2015
         },
         {
          "code": "LBY",
          "fertility_rate": 2.426,
          "index": 391,
          "local_name": "Libiya",
          "region": "Northern Africa",
          "unemployment_rate": null,
          "year": 2010
         },
         {
          "code": "LCA",
          "fertility_rate": 1.982,
          "index": 392,
          "local_name": "Saint Lucia",
          "region": "Caribbean",
          "unemployment_rate": null,
          "year": 2015
         },
         {
          "code": "LCA",
          "fertility_rate": 1.982,
          "index": 393,
          "local_name": "Saint Lucia",
          "region": "Caribbean",
          "unemployment_rate": null,
          "year": 2010
         },
         {
          "code": "LCA",
          "fertility_rate": 1.869,
          "index": 394,
          "local_name": "Saint Lucia",
          "region": "Caribbean",
          "unemployment_rate": null,
          "year": 2015
         },
         {
          "code": "LCA",
          "fertility_rate": 1.869,
          "index": 395,
          "local_name": "Saint Lucia",
          "region": "Caribbean",
          "unemployment_rate": null,
          "year": 2010
         },
         {
          "code": "LKA",
          "fertility_rate": 2.203,
          "index": 396,
          "local_name": "Sri Lanka/Ilankai",
          "region": "Southern and Central Asia",
          "unemployment_rate": 4,
          "year": 2015
         },
         {
          "code": "LKA",
          "fertility_rate": 2.203,
          "index": 397,
          "local_name": "Sri Lanka/Ilankai",
          "region": "Southern and Central Asia",
          "unemployment_rate": 5,
          "year": 2010
         },
         {
          "code": "LKA",
          "fertility_rate": 2.062,
          "index": 398,
          "local_name": "Sri Lanka/Ilankai",
          "region": "Southern and Central Asia",
          "unemployment_rate": 4,
          "year": 2015
         },
         {
          "code": "LKA",
          "fertility_rate": 2.062,
          "index": 399,
          "local_name": "Sri Lanka/Ilankai",
          "region": "Southern and Central Asia",
          "unemployment_rate": 5,
          "year": 2010
         },
         {
          "code": "LSO",
          "fertility_rate": 3.303,
          "index": 400,
          "local_name": "Lesotho",
          "region": "Southern Africa",
          "unemployment_rate": null,
          "year": 2015
         },
         {
          "code": "LSO",
          "fertility_rate": 3.303,
          "index": 401,
          "local_name": "Lesotho",
          "region": "Southern Africa",
          "unemployment_rate": null,
          "year": 2010
         },
         {
          "code": "LSO",
          "fertility_rate": 3.142,
          "index": 402,
          "local_name": "Lesotho",
          "region": "Southern Africa",
          "unemployment_rate": null,
          "year": 2015
         },
         {
          "code": "LSO",
          "fertility_rate": 3.142,
          "index": 403,
          "local_name": "Lesotho",
          "region": "Southern Africa",
          "unemployment_rate": null,
          "year": 2010
         },
         {
          "code": "LTU",
          "fertility_rate": 1.5,
          "index": 404,
          "local_name": "Lietuva",
          "region": "Baltic Countries",
          "unemployment_rate": 9.119,
          "year": 2015
         },
         {
          "code": "LTU",
          "fertility_rate": 1.5,
          "index": 405,
          "local_name": "Lietuva",
          "region": "Baltic Countries",
          "unemployment_rate": 17.814,
          "year": 2010
         },
         {
          "code": "LTU",
          "fertility_rate": 1.63,
          "index": 406,
          "local_name": "Lietuva",
          "region": "Baltic Countries",
          "unemployment_rate": 9.119,
          "year": 2015
         },
         {
          "code": "LTU",
          "fertility_rate": 1.63,
          "index": 407,
          "local_name": "Lietuva",
          "region": "Baltic Countries",
          "unemployment_rate": 17.814,
          "year": 2010
         },
         {
          "code": "LUX",
          "fertility_rate": 1.63,
          "index": 408,
          "local_name": "Luxembourg/Letzebuerg",
          "region": "Western Europe",
          "unemployment_rate": 6.804,
          "year": 2015
         },
         {
          "code": "LUX",
          "fertility_rate": 1.63,
          "index": 409,
          "local_name": "Luxembourg/Letzebuerg",
          "region": "Western Europe",
          "unemployment_rate": 5.867,
          "year": 2010
         },
         {
          "code": "LUX",
          "fertility_rate": 1.5,
          "index": 410,
          "local_name": "Luxembourg/Letzebuerg",
          "region": "Western Europe",
          "unemployment_rate": 6.804,
          "year": 2015
         },
         {
          "code": "LUX",
          "fertility_rate": 1.5,
          "index": 411,
          "local_name": "Luxembourg/Letzebuerg",
          "region": "Western Europe",
          "unemployment_rate": 5.867,
          "year": 2010
         },
         {
          "code": "LVA",
          "fertility_rate": 1.36,
          "index": 412,
          "local_name": "Latvija",
          "region": "Baltic Countries",
          "unemployment_rate": 9.877,
          "year": 2015
         },
         {
          "code": "LVA",
          "fertility_rate": 1.36,
          "index": 413,
          "local_name": "Latvija",
          "region": "Baltic Countries",
          "unemployment_rate": 19.467,
          "year": 2010
         },
         {
          "code": "LVA",
          "fertility_rate": 1.64,
          "index": 414,
          "local_name": "Latvija",
          "region": "Baltic Countries",
          "unemployment_rate": 9.877,
          "year": 2015
         },
         {
          "code": "LVA",
          "fertility_rate": 1.64,
          "index": 415,
          "local_name": "Latvija",
          "region": "Baltic Countries",
          "unemployment_rate": 19.467,
          "year": 2010
         },
         {
          "code": "MAC",
          "fertility_rate": 1.061,
          "index": 416,
          "local_name": "Macau/Aomen",
          "region": "Eastern Asia",
          "unemployment_rate": 1.825,
          "year": 2015
         },
         {
          "code": "MAC",
          "fertility_rate": 1.061,
          "index": 417,
          "local_name": "Macau/Aomen",
          "region": "Eastern Asia",
          "unemployment_rate": 2.825,
          "year": 2010
         },
         {
          "code": "MAC",
          "fertility_rate": 1.276,
          "index": 418,
          "local_name": "Macau/Aomen",
          "region": "Eastern Asia",
          "unemployment_rate": 1.825,
          "year": 2015
         },
         {
          "code": "MAC",
          "fertility_rate": 1.276,
          "index": 419,
          "local_name": "Macau/Aomen",
          "region": "Eastern Asia",
          "unemployment_rate": 2.825,
          "year": 2010
         },
         {
          "code": "MAR",
          "fertility_rate": 2.535,
          "index": 420,
          "local_name": "Al-Maghrib",
          "region": "Northern Africa",
          "unemployment_rate": 9.707,
          "year": 2015
         },
         {
          "code": "MAR",
          "fertility_rate": 2.535,
          "index": 421,
          "local_name": "Al-Maghrib",
          "region": "Northern Africa",
          "unemployment_rate": 9.063,
          "year": 2010
         },
         {
          "code": "MAR",
          "fertility_rate": 2.486,
          "index": 422,
          "local_name": "Al-Maghrib",
          "region": "Northern Africa",
          "unemployment_rate": 9.707,
          "year": 2015
         },
         {
          "code": "MAR",
          "fertility_rate": 2.486,
          "index": 423,
          "local_name": "Al-Maghrib",
          "region": "Northern Africa",
          "unemployment_rate": 9.063,
          "year": 2010
         },
         {
          "code": "MDA",
          "fertility_rate": 1.274,
          "index": 424,
          "local_name": "Moldova",
          "region": "Eastern Europe",
          "unemployment_rate": 4.9,
          "year": 2015
         },
         {
          "code": "MDA",
          "fertility_rate": 1.274,
          "index": 425,
          "local_name": "Moldova",
          "region": "Eastern Europe",
          "unemployment_rate": 7.4,
          "year": 2010
         },
         {
          "code": "MDA",
          "fertility_rate": 1.248,
          "index": 426,
          "local_name": "Moldova",
          "region": "Eastern Europe",
          "unemployment_rate": 4.9,
          "year": 2015
         },
         {
          "code": "MDA",
          "fertility_rate": 1.248,
          "index": 427,
          "local_name": "Moldova",
          "region": "Eastern Europe",
          "unemployment_rate": 7.4,
          "year": 2010
         },
         {
          "code": "MDG",
          "fertility_rate": 4.654,
          "index": 428,
          "local_name": "Madagasikara/Madagascar",
          "region": "Eastern Africa",
          "unemployment_rate": null,
          "year": 2015
         },
         {
          "code": "MDG",
          "fertility_rate": 4.654,
          "index": 429,
          "local_name": "Madagasikara/Madagascar",
          "region": "Eastern Africa",
          "unemployment_rate": null,
          "year": 2010
         },
         {
          "code": "MDG",
          "fertility_rate": 4.35,
          "index": 430,
          "local_name": "Madagasikara/Madagascar",
          "region": "Eastern Africa",
          "unemployment_rate": null,
          "year": 2015
         },
         {
          "code": "MDG",
          "fertility_rate": 4.35,
          "index": 431,
          "local_name": "Madagasikara/Madagascar",
          "region": "Eastern Africa",
          "unemployment_rate": null,
          "year": 2010
         },
         {
          "code": "MDV",
          "fertility_rate": 2.209,
          "index": 432,
          "local_name": "Dhivehi Raajje/Maldives",
          "region": "Southern and Central Asia",
          "unemployment_rate": null,
          "year": 2015
         },
         {
          "code": "MDV",
          "fertility_rate": 2.209,
          "index": 433,
          "local_name": "Dhivehi Raajje/Maldives",
          "region": "Southern and Central Asia",
          "unemployment_rate": null,
          "year": 2010
         },
         {
          "code": "MDV",
          "fertility_rate": 2.088,
          "index": 434,
          "local_name": "Dhivehi Raajje/Maldives",
          "region": "Southern and Central Asia",
          "unemployment_rate": null,
          "year": 2015
         },
         {
          "code": "MDV",
          "fertility_rate": 2.088,
          "index": 435,
          "local_name": "Dhivehi Raajje/Maldives",
          "region": "Southern and Central Asia",
          "unemployment_rate": null,
          "year": 2010
         },
         {
          "code": "MEX",
          "fertility_rate": 2.356,
          "index": 436,
          "local_name": "Mexico",
          "region": "Central America",
          "unemployment_rate": 4.35,
          "year": 2015
         },
         {
          "code": "MEX",
          "fertility_rate": 2.356,
          "index": 437,
          "local_name": "Mexico",
          "region": "Central America",
          "unemployment_rate": 5.273,
          "year": 2010
         },
         {
          "code": "MEX",
          "fertility_rate": 2.213,
          "index": 438,
          "local_name": "Mexico",
          "region": "Central America",
          "unemployment_rate": 4.35,
          "year": 2015
         },
         {
          "code": "MEX",
          "fertility_rate": 2.213,
          "index": 439,
          "local_name": "Mexico",
          "region": "Central America",
          "unemployment_rate": 5.273,
          "year": 2010
         },
         {
          "code": "MHL",
          "fertility_rate": null,
          "index": 440,
          "local_name": "Marshall Islands/Majol",
          "region": "Micronesia",
          "unemployment_rate": null,
          "year": 2015
         },
         {
          "code": "MHL",
          "fertility_rate": null,
          "index": 441,
          "local_name": "Marshall Islands/Majol",
          "region": "Micronesia",
          "unemployment_rate": null,
          "year": 2010
         },
         {
          "code": "MHL",
          "fertility_rate": null,
          "index": 442,
          "local_name": "Marshall Islands/Majol",
          "region": "Micronesia",
          "unemployment_rate": null,
          "year": 2015
         },
         {
          "code": "MHL",
          "fertility_rate": null,
          "index": 443,
          "local_name": "Marshall Islands/Majol",
          "region": "Micronesia",
          "unemployment_rate": null,
          "year": 2010
         },
         {
          "code": "MKD",
          "fertility_rate": 1.471,
          "index": 444,
          "local_name": "Makedonija",
          "region": "Southern Europe",
          "unemployment_rate": 26.05,
          "year": 2015
         },
         {
          "code": "MKD",
          "fertility_rate": 1.471,
          "index": 445,
          "local_name": "Makedonija",
          "region": "Southern Europe",
          "unemployment_rate": 32.05,
          "year": 2010
         },
         {
          "code": "MKD",
          "fertility_rate": 1.535,
          "index": 446,
          "local_name": "Makedonija",
          "region": "Southern Europe",
          "unemployment_rate": 26.05,
          "year": 2015
         },
         {
          "code": "MKD",
          "fertility_rate": 1.535,
          "index": 447,
          "local_name": "Makedonija",
          "region": "Southern Europe",
          "unemployment_rate": 32.05,
          "year": 2010
         },
         {
          "code": "MLI",
          "fertility_rate": 6.547,
          "index": 448,
          "local_name": "Mali",
          "region": "Western Africa",
          "unemployment_rate": null,
          "year": 2015
         },
         {
          "code": "MLI",
          "fertility_rate": 6.547,
          "index": 449,
          "local_name": "Mali",
          "region": "Western Africa",
          "unemployment_rate": null,
          "year": 2010
         },
         {
          "code": "MLI",
          "fertility_rate": 6.143,
          "index": 450,
          "local_name": "Mali",
          "region": "Western Africa",
          "unemployment_rate": null,
          "year": 2015
         },
         {
          "code": "MLI",
          "fertility_rate": 6.143,
          "index": 451,
          "local_name": "Mali",
          "region": "Western Africa",
          "unemployment_rate": null,
          "year": 2010
         },
         {
          "code": "MLT",
          "fertility_rate": 1.36,
          "index": 452,
          "local_name": "Malta",
          "region": "Southern Europe",
          "unemployment_rate": 5.408,
          "year": 2015
         },
         {
          "code": "MLT",
          "fertility_rate": 1.36,
          "index": 453,
          "local_name": "Malta",
          "region": "Southern Europe",
          "unemployment_rate": 6.867,
          "year": 2010
         },
         {
          "code": "MLT",
          "fertility_rate": 1.42,
          "index": 454,
          "local_name": "Malta",
          "region": "Southern Europe",
          "unemployment_rate": 5.408,
          "year": 2015
         },
         {
          "code": "MLT",
          "fertility_rate": 1.42,
          "index": 455,
          "local_name": "Malta",
          "region": "Southern Europe",
          "unemployment_rate": 6.867,
          "year": 2010
         },
         {
          "code": "MMR",
          "fertility_rate": 2.386,
          "index": 456,
          "local_name": "Myanma Pye",
          "region": "Southeast Asia",
          "unemployment_rate": 4,
          "year": 2015
         },
         {
          "code": "MMR",
          "fertility_rate": 2.386,
          "index": 457,
          "local_name": "Myanma Pye",
          "region": "Southeast Asia",
          "unemployment_rate": 4,
          "year": 2010
         },
         {
          "code": "MMR",
          "fertility_rate": 2.177,
          "index": 458,
          "local_name": "Myanma Pye",
          "region": "Southeast Asia",
          "unemployment_rate": 4,
          "year": 2015
         },
         {
          "code": "MMR",
          "fertility_rate": 2.177,
          "index": 459,
          "local_name": "Myanma Pye",
          "region": "Southeast Asia",
          "unemployment_rate": 4,
          "year": 2010
         },
         {
          "code": "MNG",
          "fertility_rate": 2.555,
          "index": 460,
          "local_name": "Mongol Uls",
          "region": "Eastern Asia",
          "unemployment_rate": 8.011,
          "year": 2015
         },
         {
          "code": "MNG",
          "fertility_rate": 2.555,
          "index": 461,
          "local_name": "Mongol Uls",
          "region": "Eastern Asia",
          "unemployment_rate": 9.9,
          "year": 2010
         },
         {
          "code": "MNG",
          "fertility_rate": 2.638,
          "index": 462,
          "local_name": "Mongol Uls",
          "region": "Eastern Asia",
          "unemployment_rate": 8.011,
          "year": 2015
         },
         {
          "code": "MNG",
          "fertility_rate": 2.638,
          "index": 463,
          "local_name": "Mongol Uls",
          "region": "Eastern Asia",
          "unemployment_rate": 9.9,
          "year": 2010
         },
         {
          "code": "MOZ",
          "fertility_rate": 5.564,
          "index": 464,
          "local_name": "Mocambique",
          "region": "Eastern Africa",
          "unemployment_rate": null,
          "year": 2015
         },
         {
          "code": "MOZ",
          "fertility_rate": 5.564,
          "index": 465,
          "local_name": "Mocambique",
          "region": "Eastern Africa",
          "unemployment_rate": null,
          "year": 2010
         },
         {
          "code": "MOZ",
          "fertility_rate": 5.295,
          "index": 466,
          "local_name": "Mocambique",
          "region": "Eastern Africa",
          "unemployment_rate": null,
          "year": 2015
         },
         {
          "code": "MOZ",
          "fertility_rate": 5.295,
          "index": 467,
          "local_name": "Mocambique",
          "region": "Eastern Africa",
          "unemployment_rate": null,
          "year": 2010
         },
         {
          "code": "MRT",
          "fertility_rate": 4.835,
          "index": 468,
          "local_name": "Muritaniya/Mauritanie",
          "region": "Western Africa",
          "unemployment_rate": null,
          "year": 2015
         },
         {
          "code": "MRT",
          "fertility_rate": 4.835,
          "index": 469,
          "local_name": "Muritaniya/Mauritanie",
          "region": "Western Africa",
          "unemployment_rate": null,
          "year": 2010
         },
         {
          "code": "MRT",
          "fertility_rate": 4.543,
          "index": 470,
          "local_name": "Muritaniya/Mauritanie",
          "region": "Western Africa",
          "unemployment_rate": null,
          "year": 2015
         },
         {
          "code": "MRT",
          "fertility_rate": 4.543,
          "index": 471,
          "local_name": "Muritaniya/Mauritanie",
          "region": "Western Africa",
          "unemployment_rate": null,
          "year": 2010
         },
         {
          "code": "MUS",
          "fertility_rate": 1.57,
          "index": 472,
          "local_name": "Mauritius",
          "region": "Eastern Africa",
          "unemployment_rate": 7.9,
          "year": 2015
         },
         {
          "code": "MUS",
          "fertility_rate": 1.57,
          "index": 473,
          "local_name": "Mauritius",
          "region": "Eastern Africa",
          "unemployment_rate": 7.8,
          "year": 2010
         },
         {
          "code": "MUS",
          "fertility_rate": 1.36,
          "index": 474,
          "local_name": "Mauritius",
          "region": "Eastern Africa",
          "unemployment_rate": 7.9,
          "year": 2015
         },
         {
          "code": "MUS",
          "fertility_rate": 1.36,
          "index": 475,
          "local_name": "Mauritius",
          "region": "Eastern Africa",
          "unemployment_rate": 7.8,
          "year": 2010
         },
         {
          "code": "MWI",
          "fertility_rate": 5.531,
          "index": 476,
          "local_name": "Malawi",
          "region": "Eastern Africa",
          "unemployment_rate": null,
          "year": 2015
         },
         {
          "code": "MWI",
          "fertility_rate": 5.531,
          "index": 477,
          "local_name": "Malawi",
          "region": "Eastern Africa",
          "unemployment_rate": null,
          "year": 2010
         },
         {
          "code": "MWI",
          "fertility_rate": 5.048,
          "index": 478,
          "local_name": "Malawi",
          "region": "Eastern Africa",
          "unemployment_rate": null,
          "year": 2015
         },
         {
          "code": "MWI",
          "fertility_rate": 5.048,
          "index": 479,
          "local_name": "Malawi",
          "region": "Eastern Africa",
          "unemployment_rate": null,
          "year": 2010
         },
         {
          "code": "MYS",
          "fertility_rate": 1.998,
          "index": 480,
          "local_name": "Malaysia",
          "region": "Southeast Asia",
          "unemployment_rate": 3.1,
          "year": 2015
         },
         {
          "code": "MYS",
          "fertility_rate": 1.998,
          "index": 481,
          "local_name": "Malaysia",
          "region": "Southeast Asia",
          "unemployment_rate": 3.3,
          "year": 2010
         },
         {
          "code": "MYS",
          "fertility_rate": 1.931,
          "index": 482,
          "local_name": "Malaysia",
          "region": "Southeast Asia",
          "unemployment_rate": 3.1,
          "year": 2015
         },
         {
          "code": "MYS",
          "fertility_rate": 1.931,
          "index": 483,
          "local_name": "Malaysia",
          "region": "Southeast Asia",
          "unemployment_rate": 3.3,
          "year": 2010
         },
         {
          "code": "NAM",
          "fertility_rate": 3.605,
          "index": 484,
          "local_name": "Namibia",
          "region": "Southern Africa",
          "unemployment_rate": null,
          "year": 2015
         },
         {
          "code": "NAM",
          "fertility_rate": 3.605,
          "index": 485,
          "local_name": "Namibia",
          "region": "Southern Africa",
          "unemployment_rate": null,
          "year": 2010
         },
         {
          "code": "NAM",
          "fertility_rate": 3.473,
          "index": 486,
          "local_name": "Namibia",
          "region": "Southern Africa",
          "unemployment_rate": null,
          "year": 2015
         },
         {
          "code": "NAM",
          "fertility_rate": 3.473,
          "index": 487,
          "local_name": "Namibia",
          "region": "Southern Africa",
          "unemployment_rate": null,
          "year": 2010
         },
         {
          "code": "NER",
          "fertility_rate": 7.667,
          "index": 488,
          "local_name": "Niger",
          "region": "Western Africa",
          "unemployment_rate": null,
          "year": 2015
         },
         {
          "code": "NER",
          "fertility_rate": 7.667,
          "index": 489,
          "local_name": "Niger",
          "region": "Western Africa",
          "unemployment_rate": null,
          "year": 2010
         },
         {
          "code": "NER",
          "fertility_rate": 7.567,
          "index": 490,
          "local_name": "Niger",
          "region": "Western Africa",
          "unemployment_rate": null,
          "year": 2015
         },
         {
          "code": "NER",
          "fertility_rate": 7.567,
          "index": 491,
          "local_name": "Niger",
          "region": "Western Africa",
          "unemployment_rate": null,
          "year": 2010
         },
         {
          "code": "NGA",
          "fertility_rate": 5.84,
          "index": 492,
          "local_name": "Nigeria",
          "region": "Western Africa",
          "unemployment_rate": 9,
          "year": 2015
         },
         {
          "code": "NGA",
          "fertility_rate": 5.84,
          "index": 493,
          "local_name": "Nigeria",
          "region": "Western Africa",
          "unemployment_rate": 5.092,
          "year": 2010
         },
         {
          "code": "NGA",
          "fertility_rate": 5.587,
          "index": 494,
          "local_name": "Nigeria",
          "region": "Western Africa",
          "unemployment_rate": 9,
          "year": 2015
         },
         {
          "code": "NGA",
          "fertility_rate": 5.587,
          "index": 495,
          "local_name": "Nigeria",
          "region": "Western Africa",
          "unemployment_rate": 5.092,
          "year": 2010
         },
         {
          "code": "NIC",
          "fertility_rate": 2.428,
          "index": 496,
          "local_name": "Nicaragua",
          "region": "Central America",
          "unemployment_rate": 5.957,
          "year": 2015
         },
         {
          "code": "NIC",
          "fertility_rate": 2.428,
          "index": 497,
          "local_name": "Nicaragua",
          "region": "Central America",
          "unemployment_rate": 8,
          "year": 2010
         },
         {
          "code": "NIC",
          "fertility_rate": 2.231,
          "index": 498,
          "local_name": "Nicaragua",
          "region": "Central America",
          "unemployment_rate": 5.957,
          "year": 2015
         },
         {
          "code": "NIC",
          "fertility_rate": 2.231,
          "index": 499,
          "local_name": "Nicaragua",
          "region": "Central America",
          "unemployment_rate": 8,
          "year": 2010
         },
         {
          "code": "NLD",
          "fertility_rate": 1.79,
          "index": 500,
          "local_name": "Nederland",
          "region": "Western Europe",
          "unemployment_rate": 6.891,
          "year": 2015
         },
         {
          "code": "NLD",
          "fertility_rate": 1.79,
          "index": 501,
          "local_name": "Nederland",
          "region": "Western Europe",
          "unemployment_rate": 4.995,
          "year": 2010
         },
         {
          "code": "NLD",
          "fertility_rate": 1.71,
          "index": 502,
          "local_name": "Nederland",
          "region": "Western Europe",
          "unemployment_rate": 6.891,
          "year": 2015
         },
         {
          "code": "NLD",
          "fertility_rate": 1.71,
          "index": 503,
          "local_name": "Nederland",
          "region": "Western Europe",
          "unemployment_rate": 4.995,
          "year": 2010
         },
         {
          "code": "NOR",
          "fertility_rate": 1.95,
          "index": 504,
          "local_name": "Norge",
          "region": "Nordic Countries",
          "unemployment_rate": 4.374,
          "year": 2015
         },
         {
          "code": "NOR",
          "fertility_rate": 1.95,
          "index": 505,
          "local_name": "Norge",
          "region": "Nordic Countries",
          "unemployment_rate": 3.584,
          "year": 2010
         },
         {
          "code": "NOR",
          "fertility_rate": 1.75,
          "index": 506,
          "local_name": "Norge",
          "region": "Nordic Countries",
          "unemployment_rate": 4.374,
          "year": 2015
         },
         {
          "code": "NOR",
          "fertility_rate": 1.75,
          "index": 507,
          "local_name": "Norge",
          "region": "Nordic Countries",
          "unemployment_rate": 3.584,
          "year": 2010
         },
         {
          "code": "NPL",
          "fertility_rate": 2.606,
          "index": 508,
          "local_name": "Nepal",
          "region": "Southern and Central Asia",
          "unemployment_rate": null,
          "year": 2015
         },
         {
          "code": "NPL",
          "fertility_rate": 2.606,
          "index": 509,
          "local_name": "Nepal",
          "region": "Southern and Central Asia",
          "unemployment_rate": null,
          "year": 2010
         },
         {
          "code": "NPL",
          "fertility_rate": 2.167,
          "index": 510,
          "local_name": "Nepal",
          "region": "Southern and Central Asia",
          "unemployment_rate": null,
          "year": 2015
         },
         {
          "code": "NPL",
          "fertility_rate": 2.167,
          "index": 511,
          "local_name": "Nepal",
          "region": "Southern and Central Asia",
          "unemployment_rate": null,
          "year": 2010
         },
         {
          "code": "NRU",
          "fertility_rate": null,
          "index": 512,
          "local_name": "Naoero/Nauru",
          "region": "Micronesia",
          "unemployment_rate": null,
          "year": 2015
         },
         {
          "code": "NRU",
          "fertility_rate": null,
          "index": 513,
          "local_name": "Naoero/Nauru",
          "region": "Micronesia",
          "unemployment_rate": null,
          "year": 2010
         },
         {
          "code": "NRU",
          "fertility_rate": null,
          "index": 514,
          "local_name": "Naoero/Nauru",
          "region": "Micronesia",
          "unemployment_rate": null,
          "year": 2015
         },
         {
          "code": "NRU",
          "fertility_rate": null,
          "index": 515,
          "local_name": "Naoero/Nauru",
          "region": "Micronesia",
          "unemployment_rate": null,
          "year": 2010
         },
         {
          "code": "NZL",
          "fertility_rate": 2.17,
          "index": 516,
          "local_name": "New Zealand/Aotearoa",
          "region": "Australia and New Zealand",
          "unemployment_rate": 5.35,
          "year": 2015
         },
         {
          "code": "NZL",
          "fertility_rate": 2.17,
          "index": 517,
          "local_name": "New Zealand/Aotearoa",
          "region": "Australia and New Zealand",
          "unemployment_rate": 6.15,
          "year": 2010
         },
         {
          "code": "NZL",
          "fertility_rate": 1.99,
          "index": 518,
          "local_name": "New Zealand/Aotearoa",
          "region": "Australia and New Zealand",
          "unemployment_rate": 5.35,
          "year": 2015
         },
         {
          "code": "NZL",
          "fertility_rate": 1.99,
          "index": 519,
          "local_name": "New Zealand/Aotearoa",
          "region": "Australia and New Zealand",
          "unemployment_rate": 6.15,
          "year": 2010
         },
         {
          "code": "OMN",
          "fertility_rate": 2.888,
          "index": 520,
          "local_name": "´Uman",
          "region": "Middle East",
          "unemployment_rate": null,
          "year": 2015
         },
         {
          "code": "OMN",
          "fertility_rate": 2.888,
          "index": 521,
          "local_name": "´Uman",
          "region": "Middle East",
          "unemployment_rate": null,
          "year": 2010
         },
         {
          "code": "OMN",
          "fertility_rate": 2.712,
          "index": 522,
          "local_name": "´Uman",
          "region": "Middle East",
          "unemployment_rate": null,
          "year": 2015
         },
         {
          "code": "OMN",
          "fertility_rate": 2.712,
          "index": 523,
          "local_name": "´Uman",
          "region": "Middle East",
          "unemployment_rate": null,
          "year": 2010
         },
         {
          "code": "PAK",
          "fertility_rate": 3.855,
          "index": 524,
          "local_name": "Pakistan",
          "region": "Southern and Central Asia",
          "unemployment_rate": 5.9,
          "year": 2015
         },
         {
          "code": "PAK",
          "fertility_rate": 3.855,
          "index": 525,
          "local_name": "Pakistan",
          "region": "Southern and Central Asia",
          "unemployment_rate": 5.55,
          "year": 2010
         },
         {
          "code": "PAK",
          "fertility_rate": 3.55,
          "index": 526,
          "local_name": "Pakistan",
          "region": "Southern and Central Asia",
          "unemployment_rate": 5.9,
          "year": 2015
         },
         {
          "code": "PAK",
          "fertility_rate": 3.55,
          "index": 527,
          "local_name": "Pakistan",
          "region": "Southern and Central Asia",
          "unemployment_rate": 5.55,
          "year": 2010
         },
         {
          "code": "PAN",
          "fertility_rate": 2.513,
          "index": 528,
          "local_name": "Panama",
          "region": "Central America",
          "unemployment_rate": 5.052,
          "year": 2015
         },
         {
          "code": "PAN",
          "fertility_rate": 2.513,
          "index": 529,
          "local_name": "Panama",
          "region": "Central America",
          "unemployment_rate": 6.516,
          "year": 2010
         },
         {
          "code": "PAN",
          "fertility_rate": 2.421,
          "index": 530,
          "local_name": "Panama",
          "region": "Central America",
          "unemployment_rate": 5.052,
          "year": 2015
         },
         {
          "code": "PAN",
          "fertility_rate": 2.421,
          "index": 531,
          "local_name": "Panama",
          "region": "Central America",
          "unemployment_rate": 6.516,
          "year": 2010
         },
         {
          "code": "PER",
          "fertility_rate": 2.545,
          "index": 532,
          "local_name": "Peru/Piruw",
          "region": "South America",
          "unemployment_rate": 6.44,
          "year": 2015
         },
         {
          "code": "PER",
          "fertility_rate": 2.545,
          "index": 533,
          "local_name": "Peru/Piruw",
          "region": "South America",
          "unemployment_rate": 7.88,
          "year": 2010
         },
         {
          "code": "PER",
          "fertility_rate": 2.427,
          "index": 534,
          "local_name": "Peru/Piruw",
          "region": "South America",
          "unemployment_rate": 6.44,
          "year": 2015
         },
         {
          "code": "PER",
          "fertility_rate": 2.427,
          "index": 535,
          "local_name": "Peru/Piruw",
          "region": "South America",
          "unemployment_rate": 7.88,
          "year": 2010
         },
         {
          "code": "PHL",
          "fertility_rate": 3.133,
          "index": 536,
          "local_name": "Pilipinas",
          "region": "Southeast Asia",
          "unemployment_rate": 6.275,
          "year": 2015
         },
         {
          "code": "PHL",
          "fertility_rate": 3.133,
          "index": 537,
          "local_name": "Pilipinas",
          "region": "Southeast Asia",
          "unemployment_rate": 7.325,
          "year": 2010
         },
         {
          "code": "PHL",
          "fertility_rate": 2.944,
          "index": 538,
          "local_name": "Pilipinas",
          "region": "Southeast Asia",
          "unemployment_rate": 6.275,
          "year": 2015
         },
         {
          "code": "PHL",
          "fertility_rate": 2.944,
          "index": 539,
          "local_name": "Pilipinas",
          "region": "Southeast Asia",
          "unemployment_rate": 7.325,
          "year": 2010
         },
         {
          "code": "PLW",
          "fertility_rate": null,
          "index": 540,
          "local_name": "Belau/Palau",
          "region": "Micronesia",
          "unemployment_rate": null,
          "year": 2015
         },
         {
          "code": "PLW",
          "fertility_rate": null,
          "index": 541,
          "local_name": "Belau/Palau",
          "region": "Micronesia",
          "unemployment_rate": null,
          "year": 2010
         },
         {
          "code": "PLW",
          "fertility_rate": 2.21,
          "index": 542,
          "local_name": "Belau/Palau",
          "region": "Micronesia",
          "unemployment_rate": null,
          "year": 2015
         },
         {
          "code": "PLW",
          "fertility_rate": 2.21,
          "index": 543,
          "local_name": "Belau/Palau",
          "region": "Micronesia",
          "unemployment_rate": null,
          "year": 2010
         },
         {
          "code": "PNG",
          "fertility_rate": 3.985,
          "index": 544,
          "local_name": "Papua New Guinea/Papua Niugini",
          "region": "Melanesia",
          "unemployment_rate": null,
          "year": 2015
         },
         {
          "code": "PNG",
          "fertility_rate": 3.985,
          "index": 545,
          "local_name": "Papua New Guinea/Papua Niugini",
          "region": "Melanesia",
          "unemployment_rate": null,
          "year": 2010
         },
         {
          "code": "PNG",
          "fertility_rate": 3.705,
          "index": 546,
          "local_name": "Papua New Guinea/Papua Niugini",
          "region": "Melanesia",
          "unemployment_rate": null,
          "year": 2015
         },
         {
          "code": "PNG",
          "fertility_rate": 3.705,
          "index": 547,
          "local_name": "Papua New Guinea/Papua Niugini",
          "region": "Melanesia",
          "unemployment_rate": null,
          "year": 2010
         },
         {
          "code": "POL",
          "fertility_rate": 1.41,
          "index": 548,
          "local_name": "Polska",
          "region": "Eastern Europe",
          "unemployment_rate": 7.499,
          "year": 2015
         },
         {
          "code": "POL",
          "fertility_rate": 1.41,
          "index": 549,
          "local_name": "Polska",
          "region": "Eastern Europe",
          "unemployment_rate": 9.635,
          "year": 2010
         },
         {
          "code": "POL",
          "fertility_rate": 1.32,
          "index": 550,
          "local_name": "Polska",
          "region": "Eastern Europe",
          "unemployment_rate": 7.499,
          "year": 2015
         },
         {
          "code": "POL",
          "fertility_rate": 1.32,
          "index": 551,
          "local_name": "Polska",
          "region": "Eastern Europe",
          "unemployment_rate": 9.635,
          "year": 2010
         },
         {
          "code": "PRI",
          "fertility_rate": 1.6235,
          "index": 552,
          "local_name": "Puerto Rico",
          "region": "Caribbean",
          "unemployment_rate": 12,
          "year": 2015
         },
         {
          "code": "PRI",
          "fertility_rate": 1.6235,
          "index": 553,
          "local_name": "Puerto Rico",
          "region": "Caribbean",
          "unemployment_rate": 16.4,
          "year": 2010
         },
         {
          "code": "PRI",
          "fertility_rate": 1.432,
          "index": 554,
          "local_name": "Puerto Rico",
          "region": "Caribbean",
          "unemployment_rate": 12,
          "year": 2015
         },
         {
          "code": "PRI",
          "fertility_rate": 1.432,
          "index": 555,
          "local_name": "Puerto Rico",
          "region": "Caribbean",
          "unemployment_rate": 16.4,
          "year": 2010
         },
         {
          "code": "PRT",
          "fertility_rate": 1.39,
          "index": 556,
          "local_name": "Portugal",
          "region": "Southern Europe",
          "unemployment_rate": 12.444,
          "year": 2015
         },
         {
          "code": "PRT",
          "fertility_rate": 1.39,
          "index": 557,
          "local_name": "Portugal",
          "region": "Southern Europe",
          "unemployment_rate": 10.77,
          "year": 2010
         },
         {
          "code": "PRT",
          "fertility_rate": 1.23,
          "index": 558,
          "local_name": "Portugal",
          "region": "Southern Europe",
          "unemployment_rate": 12.444,
          "year": 2015
         },
         {
          "code": "PRT",
          "fertility_rate": 1.23,
          "index": 559,
          "local_name": "Portugal",
          "region": "Southern Europe",
          "unemployment_rate": 10.77,
          "year": 2010
         },
         {
          "code": "PRY",
          "fertility_rate": 2.73,
          "index": 560,
          "local_name": "Paraguay",
          "region": "South America",
          "unemployment_rate": 5.337,
          "year": 2015
         },
         {
          "code": "PRY",
          "fertility_rate": 2.73,
          "index": 561,
          "local_name": "Paraguay",
          "region": "South America",
          "unemployment_rate": 5.674,
          "year": 2010
         },
         {
          "code": "PRY",
          "fertility_rate": 2.509,
          "index": 562,
          "local_name": "Paraguay",
          "region": "South America",
          "unemployment_rate": 5.337,
          "year": 2015
         },
         {
          "code": "PRY",
          "fertility_rate": 2.509,
          "index": 563,
          "local_name": "Paraguay",
          "region": "South America",
          "unemployment_rate": 5.674,
          "year": 2010
         },
         {
          "code": "QAT",
          "fertility_rate": 2.104,
          "index": 564,
          "local_name": "Qatar",
          "region": "Middle East",
          "unemployment_rate": null,
          "year": 2015
         },
         {
          "code": "QAT",
          "fertility_rate": 2.104,
          "index": 565,
          "local_name": "Qatar",
          "region": "Middle East",
          "unemployment_rate": null,
          "year": 2010
         },
         {
          "code": "QAT",
          "fertility_rate": 2.007,
          "index": 566,
          "local_name": "Qatar",
          "region": "Middle East",
          "unemployment_rate": null,
          "year": 2015
         },
         {
          "code": "QAT",
          "fertility_rate": 2.007,
          "index": 567,
          "local_name": "Qatar",
          "region": "Middle East",
          "unemployment_rate": null,
          "year": 2010
         },
         {
          "code": "RUS",
          "fertility_rate": 1.567,
          "index": 568,
          "local_name": "Rossija",
          "region": "Eastern Europe",
          "unemployment_rate": 5.575,
          "year": 2015
         },
         {
          "code": "RUS",
          "fertility_rate": 1.567,
          "index": 569,
          "local_name": "Rossija",
          "region": "Eastern Europe",
          "unemployment_rate": 7.3,
          "year": 2010
         },
         {
          "code": "RUS",
          "fertility_rate": 1.75,
          "index": 570,
          "local_name": "Rossija",
          "region": "Eastern Europe",
          "unemployment_rate": 5.575,
          "year": 2015
         },
         {
          "code": "RUS",
          "fertility_rate": 1.75,
          "index": 571,
          "local_name": "Rossija",
          "region": "Eastern Europe",
          "unemployment_rate": 7.3,
          "year": 2010
         },
         {
          "code": "RWA",
          "fertility_rate": 4.441,
          "index": 572,
          "local_name": "Rwanda/Urwanda",
          "region": "Eastern Africa",
          "unemployment_rate": null,
          "year": 2015
         },
         {
          "code": "RWA",
          "fertility_rate": 4.441,
          "index": 573,
          "local_name": "Rwanda/Urwanda",
          "region": "Eastern Africa",
          "unemployment_rate": null,
          "year": 2010
         },
         {
          "code": "RWA",
          "fertility_rate": 3.8,
          "index": 574,
          "local_name": "Rwanda/Urwanda",
          "region": "Eastern Africa",
          "unemployment_rate": null,
          "year": 2015
         },
         {
          "code": "RWA",
          "fertility_rate": 3.8,
          "index": 575,
          "local_name": "Rwanda/Urwanda",
          "region": "Eastern Africa",
          "unemployment_rate": null,
          "year": 2010
         },
         {
          "code": "SAU",
          "fertility_rate": 2.987,
          "index": 576,
          "local_name": "Al-´Arabiya as-Sa´udiya",
          "region": "Middle East",
          "unemployment_rate": 5.591,
          "year": 2015
         },
         {
          "code": "SAU",
          "fertility_rate": 2.987,
          "index": 577,
          "local_name": "Al-´Arabiya as-Sa´udiya",
          "region": "Middle East",
          "unemployment_rate": 5.548,
          "year": 2010
         },
         {
          "code": "SAU",
          "fertility_rate": 2.713,
          "index": 578,
          "local_name": "Al-´Arabiya as-Sa´udiya",
          "region": "Middle East",
          "unemployment_rate": 5.591,
          "year": 2015
         },
         {
          "code": "SAU",
          "fertility_rate": 2.713,
          "index": 579,
          "local_name": "Al-´Arabiya as-Sa´udiya",
          "region": "Middle East",
          "unemployment_rate": 5.548,
          "year": 2010
         },
         {
          "code": "SDN",
          "fertility_rate": 4.636,
          "index": 580,
          "local_name": "As-Sudan",
          "region": "Northern Africa",
          "unemployment_rate": 21.6,
          "year": 2015
         },
         {
          "code": "SDN",
          "fertility_rate": 4.636,
          "index": 581,
          "local_name": "As-Sudan",
          "region": "Northern Africa",
          "unemployment_rate": 13.733,
          "year": 2010
         },
         {
          "code": "SDN",
          "fertility_rate": 4.286,
          "index": 582,
          "local_name": "As-Sudan",
          "region": "Northern Africa",
          "unemployment_rate": 21.6,
          "year": 2015
         },
         {
          "code": "SDN",
          "fertility_rate": 4.286,
          "index": 583,
          "local_name": "As-Sudan",
          "region": "Northern Africa",
          "unemployment_rate": 13.733,
          "year": 2010
         },
         {
          "code": "SEN",
          "fertility_rate": 5.174,
          "index": 584,
          "local_name": "Senegal/Sounougal",
          "region": "Western Africa",
          "unemployment_rate": null,
          "year": 2015
         },
         {
          "code": "SEN",
          "fertility_rate": 5.174,
          "index": 585,
          "local_name": "Senegal/Sounougal",
          "region": "Western Africa",
          "unemployment_rate": null,
          "year": 2010
         },
         {
          "code": "SEN",
          "fertility_rate": 5.031,
          "index": 586,
          "local_name": "Senegal/Sounougal",
          "region": "Western Africa",
          "unemployment_rate": null,
          "year": 2015
         },
         {
          "code": "SEN",
          "fertility_rate": 5.031,
          "index": 587,
          "local_name": "Senegal/Sounougal",
          "region": "Western Africa",
          "unemployment_rate": null,
          "year": 2010
         },
         {
          "code": "SGP",
          "fertility_rate": 1.15,
          "index": 588,
          "local_name": "Singapore/Singapura/Xinjiapo/Singapur",
          "region": "Southeast Asia",
          "unemployment_rate": 1.9,
          "year": 2015
         },
         {
          "code": "SGP",
          "fertility_rate": 1.15,
          "index": 589,
          "local_name": "Singapore/Singapura/Xinjiapo/Singapur",
          "region": "Southeast Asia",
          "unemployment_rate": 2.175,
          "year": 2010
         },
         {
          "code": "SGP",
          "fertility_rate": 1.24,
          "index": 590,
          "local_name": "Singapore/Singapura/Xinjiapo/Singapur",
          "region": "Southeast Asia",
          "unemployment_rate": 1.9,
          "year": 2015
         },
         {
          "code": "SGP",
          "fertility_rate": 1.24,
          "index": 591,
          "local_name": "Singapore/Singapura/Xinjiapo/Singapur",
          "region": "Southeast Asia",
          "unemployment_rate": 2.175,
          "year": 2010
         },
         {
          "code": "SLB",
          "fertility_rate": 4.236,
          "index": 592,
          "local_name": "Solomon Islands",
          "region": "Melanesia",
          "unemployment_rate": null,
          "year": 2015
         },
         {
          "code": "SLB",
          "fertility_rate": 4.236,
          "index": 593,
          "local_name": "Solomon Islands",
          "region": "Melanesia",
          "unemployment_rate": null,
          "year": 2010
         },
         {
          "code": "SLB",
          "fertility_rate": 3.904,
          "index": 594,
          "local_name": "Solomon Islands",
          "region": "Melanesia",
          "unemployment_rate": null,
          "year": 2015
         },
         {
          "code": "SLB",
          "fertility_rate": 3.904,
          "index": 595,
          "local_name": "Solomon Islands",
          "region": "Melanesia",
          "unemployment_rate": null,
          "year": 2010
         },
         {
          "code": "SLE",
          "fertility_rate": 5.151,
          "index": 596,
          "local_name": "Sierra Leone",
          "region": "Western Africa",
          "unemployment_rate": null,
          "year": 2015
         },
         {
          "code": "SLE",
          "fertility_rate": 5.151,
          "index": 597,
          "local_name": "Sierra Leone",
          "region": "Western Africa",
          "unemployment_rate": null,
          "year": 2010
         },
         {
          "code": "SLE",
          "fertility_rate": 4.516,
          "index": 598,
          "local_name": "Sierra Leone",
          "region": "Western Africa",
          "unemployment_rate": null,
          "year": 2015
         },
         {
          "code": "SLE",
          "fertility_rate": 4.516,
          "index": 599,
          "local_name": "Sierra Leone",
          "region": "Western Africa",
          "unemployment_rate": null,
          "year": 2010
         },
         {
          "code": "SLV",
          "fertility_rate": 2.078,
          "index": 600,
          "local_name": "El Salvador",
          "region": "Central America",
          "unemployment_rate": 7,
          "year": 2015
         },
         {
          "code": "SLV",
          "fertility_rate": 2.078,
          "index": 601,
          "local_name": "El Salvador",
          "region": "Central America",
          "unemployment_rate": 7.05,
          "year": 2010
         },
         {
          "code": "SLV",
          "fertility_rate": 1.909,
          "index": 602,
          "local_name": "El Salvador",
          "region": "Central America",
          "unemployment_rate": 7,
          "year": 2015
         },
         {
          "code": "SLV",
          "fertility_rate": 1.909,
          "index": 603,
          "local_name": "El Salvador",
          "region": "Central America",
          "unemployment_rate": 7.05,
          "year": 2010
         },
         {
          "code": "SMR",
          "fertility_rate": null,
          "index": 604,
          "local_name": "San Marino",
          "region": "Southern Europe",
          "unemployment_rate": 9.18,
          "year": 2015
         },
         {
          "code": "SMR",
          "fertility_rate": null,
          "index": 605,
          "local_name": "San Marino",
          "region": "Southern Europe",
          "unemployment_rate": 4.945,
          "year": 2010
         },
         {
          "code": "SMR",
          "fertility_rate": null,
          "index": 606,
          "local_name": "San Marino",
          "region": "Southern Europe",
          "unemployment_rate": 9.18,
          "year": 2015
         },
         {
          "code": "SMR",
          "fertility_rate": null,
          "index": 607,
          "local_name": "San Marino",
          "region": "Southern Europe",
          "unemployment_rate": 4.945,
          "year": 2010
         },
         {
          "code": "STP",
          "fertility_rate": 4.789,
          "index": 608,
          "local_name": "Sao Tome e Principe",
          "region": "Central Africa",
          "unemployment_rate": 13.033,
          "year": 2015
         },
         {
          "code": "STP",
          "fertility_rate": 4.789,
          "index": 609,
          "local_name": "Sao Tome e Principe",
          "region": "Central Africa",
          "unemployment_rate": 13.711,
          "year": 2010
         },
         {
          "code": "STP",
          "fertility_rate": 4.516,
          "index": 610,
          "local_name": "Sao Tome e Principe",
          "region": "Central Africa",
          "unemployment_rate": 13.033,
          "year": 2015
         },
         {
          "code": "STP",
          "fertility_rate": 4.516,
          "index": 611,
          "local_name": "Sao Tome e Principe",
          "region": "Central Africa",
          "unemployment_rate": 13.711,
          "year": 2010
         },
         {
          "code": "SUR",
          "fertility_rate": 2.465,
          "index": 612,
          "local_name": "Suriname",
          "region": "South America",
          "unemployment_rate": 8.333,
          "year": 2015
         },
         {
          "code": "SUR",
          "fertility_rate": 2.465,
          "index": 613,
          "local_name": "Suriname",
          "region": "South America",
          "unemployment_rate": 7.565,
          "year": 2010
         },
         {
          "code": "SUR",
          "fertility_rate": 2.336,
          "index": 614,
          "local_name": "Suriname",
          "region": "South America",
          "unemployment_rate": 8.333,
          "year": 2015
         },
         {
          "code": "SUR",
          "fertility_rate": 2.336,
          "index": 615,
          "local_name": "Suriname",
          "region": "South America",
          "unemployment_rate": 7.565,
          "year": 2010
         },
         {
          "code": "SVK",
          "fertility_rate": 1.43,
          "index": 616,
          "local_name": "Slovensko",
          "region": "Eastern Europe",
          "unemployment_rate": 11.492,
          "year": 2015
         },
         {
          "code": "SVK",
          "fertility_rate": 1.43,
          "index": 617,
          "local_name": "Slovensko",
          "region": "Eastern Europe",
          "unemployment_rate": 14.475,
          "year": 2010
         },
         {
          "code": "SVK",
          "fertility_rate": 1.37,
          "index": 618,
          "local_name": "Slovensko",
          "region": "Eastern Europe",
          "unemployment_rate": 11.492,
          "year": 2015
         },
         {
          "code": "SVK",
          "fertility_rate": 1.37,
          "index": 619,
          "local_name": "Slovensko",
          "region": "Eastern Europe",
          "unemployment_rate": 14.475,
          "year": 2010
         },
         {
          "code": "SVN",
          "fertility_rate": 1.57,
          "index": 620,
          "local_name": "Slovenija",
          "region": "Southern Europe",
          "unemployment_rate": 9,
          "year": 2015
         },
         {
          "code": "SVN",
          "fertility_rate": 1.57,
          "index": 621,
          "local_name": "Slovenija",
          "region": "Southern Europe",
          "unemployment_rate": 7.267,
          "year": 2010
         },
         {
          "code": "SVN",
          "fertility_rate": 1.58,
          "index": 622,
          "local_name": "Slovenija",
          "region": "Southern Europe",
          "unemployment_rate": 9,
          "year": 2015
         },
         {
          "code": "SVN",
          "fertility_rate": 1.58,
          "index": 623,
          "local_name": "Slovenija",
          "region": "Southern Europe",
          "unemployment_rate": 7.267,
          "year": 2010
         },
         {
          "code": "SWE",
          "fertility_rate": 1.98,
          "index": 624,
          "local_name": "Sverige",
          "region": "Nordic Countries",
          "unemployment_rate": 7.4,
          "year": 2015
         },
         {
          "code": "SWE",
          "fertility_rate": 1.98,
          "index": 625,
          "local_name": "Sverige",
          "region": "Nordic Countries",
          "unemployment_rate": 8.575,
          "year": 2010
         },
         {
          "code": "SWE",
          "fertility_rate": 1.88,
          "index": 626,
          "local_name": "Sverige",
          "region": "Nordic Countries",
          "unemployment_rate": 7.4,
          "year": 2015
         },
         {
          "code": "SWE",
          "fertility_rate": 1.88,
          "index": 627,
          "local_name": "Sverige",
          "region": "Nordic Countries",
          "unemployment_rate": 8.575,
          "year": 2010
         },
         {
          "code": "SWZ",
          "fertility_rate": 3.559,
          "index": 628,
          "local_name": "kaNgwane",
          "region": "Southern Africa",
          "unemployment_rate": null,
          "year": 2015
         },
         {
          "code": "SWZ",
          "fertility_rate": 3.559,
          "index": 629,
          "local_name": "kaNgwane",
          "region": "Southern Africa",
          "unemployment_rate": null,
          "year": 2010
         },
         {
          "code": "SWZ",
          "fertility_rate": 3.201,
          "index": 630,
          "local_name": "kaNgwane",
          "region": "Southern Africa",
          "unemployment_rate": null,
          "year": 2015
         },
         {
          "code": "SWZ",
          "fertility_rate": 3.201,
          "index": 631,
          "local_name": "kaNgwane",
          "region": "Southern Africa",
          "unemployment_rate": null,
          "year": 2010
         },
         {
          "code": "SYC",
          "fertility_rate": 2.1,
          "index": 632,
          "local_name": "Sesel/Seychelles",
          "region": "Eastern Africa",
          "unemployment_rate": 2.684,
          "year": 2015
         },
         {
          "code": "SYC",
          "fertility_rate": 2.1,
          "index": 633,
          "local_name": "Sesel/Seychelles",
          "region": "Eastern Africa",
          "unemployment_rate": 4.605,
          "year": 2010
         },
         {
          "code": "SYC",
          "fertility_rate": 2.3,
          "index": 634,
          "local_name": "Sesel/Seychelles",
          "region": "Eastern Africa",
          "unemployment_rate": 2.684,
          "year": 2015
         },
         {
          "code": "SYC",
          "fertility_rate": 2.3,
          "index": 635,
          "local_name": "Sesel/Seychelles",
          "region": "Eastern Africa",
          "unemployment_rate": 4.605,
          "year": 2010
         },
         {
          "code": "SYR",
          "fertility_rate": 3.093,
          "index": 636,
          "local_name": "Suriya",
          "region": "Middle East",
          "unemployment_rate": null,
          "year": 2015
         },
         {
          "code": "SYR",
          "fertility_rate": 3.093,
          "index": 637,
          "local_name": "Suriya",
          "region": "Middle East",
          "unemployment_rate": 8.613,
          "year": 2010
         },
         {
          "code": "SYR",
          "fertility_rate": 2.903,
          "index": 638,
          "local_name": "Suriya",
          "region": "Middle East",
          "unemployment_rate": null,
          "year": 2015
         },
         {
          "code": "SYR",
          "fertility_rate": 2.903,
          "index": 639,
          "local_name": "Suriya",
          "region": "Middle East",
          "unemployment_rate": 8.613,
          "year": 2010
         },
         {
          "code": "TCD",
          "fertility_rate": 6.594,
          "index": 640,
          "local_name": "Tchad/Tshad",
          "region": "Central Africa",
          "unemployment_rate": null,
          "year": 2015
         },
         {
          "code": "TCD",
          "fertility_rate": 6.594,
          "index": 641,
          "local_name": "Tchad/Tshad",
          "region": "Central Africa",
          "unemployment_rate": null,
          "year": 2010
         },
         {
          "code": "TCD",
          "fertility_rate": 6.05,
          "index": 642,
          "local_name": "Tchad/Tshad",
          "region": "Central Africa",
          "unemployment_rate": null,
          "year": 2015
         },
         {
          "code": "TCD",
          "fertility_rate": 6.05,
          "index": 643,
          "local_name": "Tchad/Tshad",
          "region": "Central Africa",
          "unemployment_rate": null,
          "year": 2010
         },
         {
          "code": "TGO",
          "fertility_rate": 4.868,
          "index": 644,
          "local_name": "Togo",
          "region": "Western Africa",
          "unemployment_rate": null,
          "year": 2015
         },
         {
          "code": "TGO",
          "fertility_rate": 4.868,
          "index": 645,
          "local_name": "Togo",
          "region": "Western Africa",
          "unemployment_rate": null,
          "year": 2010
         },
         {
          "code": "TGO",
          "fertility_rate": 4.514,
          "index": 646,
          "local_name": "Togo",
          "region": "Western Africa",
          "unemployment_rate": null,
          "year": 2015
         },
         {
          "code": "TGO",
          "fertility_rate": 4.514,
          "index": 647,
          "local_name": "Togo",
          "region": "Western Africa",
          "unemployment_rate": null,
          "year": 2010
         },
         {
          "code": "THA",
          "fertility_rate": 1.547,
          "index": 648,
          "local_name": "Prathet Thai",
          "region": "Southeast Asia",
          "unemployment_rate": 0.889,
          "year": 2015
         },
         {
          "code": "THA",
          "fertility_rate": 1.547,
          "index": 649,
          "local_name": "Prathet Thai",
          "region": "Southeast Asia",
          "unemployment_rate": 1.05,
          "year": 2010
         },
         {
          "code": "THA",
          "fertility_rate": 1.497,
          "index": 650,
          "local_name": "Prathet Thai",
          "region": "Southeast Asia",
          "unemployment_rate": 0.889,
          "year": 2015
         },
         {
          "code": "THA",
          "fertility_rate": 1.497,
          "index": 651,
          "local_name": "Prathet Thai",
          "region": "Southeast Asia",
          "unemployment_rate": 1.05,
          "year": 2010
         },
         {
          "code": "TJK",
          "fertility_rate": 3.514,
          "index": 652,
          "local_name": "Tocikiston",
          "region": "Southern and Central Asia",
          "unemployment_rate": null,
          "year": 2015
         },
         {
          "code": "TJK",
          "fertility_rate": 3.514,
          "index": 653,
          "local_name": "Tocikiston",
          "region": "Southern and Central Asia",
          "unemployment_rate": 2.2,
          "year": 2010
         },
         {
          "code": "TJK",
          "fertility_rate": 3.454,
          "index": 654,
          "local_name": "Tocikiston",
          "region": "Southern and Central Asia",
          "unemployment_rate": null,
          "year": 2015
         },
         {
          "code": "TJK",
          "fertility_rate": 3.454,
          "index": 655,
          "local_name": "Tocikiston",
          "region": "Southern and Central Asia",
          "unemployment_rate": 2.2,
          "year": 2010
         },
         {
          "code": "TKM",
          "fertility_rate": 2.411,
          "index": 656,
          "local_name": "Turkmenostan",
          "region": "Southern and Central Asia",
          "unemployment_rate": null,
          "year": 2015
         },
         {
          "code": "TKM",
          "fertility_rate": 2.411,
          "index": 657,
          "local_name": "Turkmenostan",
          "region": "Southern and Central Asia",
          "unemployment_rate": null,
          "year": 2010
         },
         {
          "code": "TKM",
          "fertility_rate": 2.275,
          "index": 658,
          "local_name": "Turkmenostan",
          "region": "Southern and Central Asia",
          "unemployment_rate": null,
          "year": 2015
         },
         {
          "code": "TKM",
          "fertility_rate": 2.275,
          "index": 659,
          "local_name": "Turkmenostan",
          "region": "Southern and Central Asia",
          "unemployment_rate": null,
          "year": 2010
         },
         {
          "code": "TON",
          "fertility_rate": 3.913,
          "index": 660,
          "local_name": "Tonga",
          "region": "Polynesia",
          "unemployment_rate": null,
          "year": 2015
         },
         {
          "code": "TON",
          "fertility_rate": 3.913,
          "index": 661,
          "local_name": "Tonga",
          "region": "Polynesia",
          "unemployment_rate": null,
          "year": 2010
         },
         {
          "code": "TON",
          "fertility_rate": 3.678,
          "index": 662,
          "local_name": "Tonga",
          "region": "Polynesia",
          "unemployment_rate": null,
          "year": 2015
         },
         {
          "code": "TON",
          "fertility_rate": 3.678,
          "index": 663,
          "local_name": "Tonga",
          "region": "Polynesia",
          "unemployment_rate": null,
          "year": 2010
         },
         {
          "code": "TTO",
          "fertility_rate": 1.806,
          "index": 664,
          "local_name": "Trinidad and Tobago",
          "region": "Caribbean",
          "unemployment_rate": 3.425,
          "year": 2015
         },
         {
          "code": "TTO",
          "fertility_rate": 1.806,
          "index": 665,
          "local_name": "Trinidad and Tobago",
          "region": "Caribbean",
          "unemployment_rate": 5.925,
          "year": 2010
         },
         {
          "code": "TTO",
          "fertility_rate": 1.766,
          "index": 666,
          "local_name": "Trinidad and Tobago",
          "region": "Caribbean",
          "unemployment_rate": 3.425,
          "year": 2015
         },
         {
          "code": "TTO",
          "fertility_rate": 1.766,
          "index": 667,
          "local_name": "Trinidad and Tobago",
          "region": "Caribbean",
          "unemployment_rate": 5.925,
          "year": 2010
         },
         {
          "code": "TUN",
          "fertility_rate": 2.098,
          "index": 668,
          "local_name": "Tunis/Tunisie",
          "region": "Northern Africa",
          "unemployment_rate": 15,
          "year": 2015
         },
         {
          "code": "TUN",
          "fertility_rate": 2.098,
          "index": 669,
          "local_name": "Tunis/Tunisie",
          "region": "Northern Africa",
          "unemployment_rate": 13.048,
          "year": 2010
         },
         {
          "code": "TUN",
          "fertility_rate": 2.132,
          "index": 670,
          "local_name": "Tunis/Tunisie",
          "region": "Northern Africa",
          "unemployment_rate": 15,
          "year": 2015
         },
         {
          "code": "TUN",
          "fertility_rate": 2.132,
          "index": 671,
          "local_name": "Tunis/Tunisie",
          "region": "Northern Africa",
          "unemployment_rate": 13.048,
          "year": 2010
         },
         {
          "code": "TUR",
          "fertility_rate": 2.134,
          "index": 672,
          "local_name": "Turkiye",
          "region": "Middle East",
          "unemployment_rate": 10.279,
          "year": 2015
         },
         {
          "code": "TUR",
          "fertility_rate": 2.134,
          "index": 673,
          "local_name": "Turkiye",
          "region": "Middle East",
          "unemployment_rate": 11.127,
          "year": 2010
         },
         {
          "code": "TUR",
          "fertility_rate": 2.052,
          "index": 674,
          "local_name": "Turkiye",
          "region": "Middle East",
          "unemployment_rate": 10.279,
          "year": 2015
         },
         {
          "code": "TUR",
          "fertility_rate": 2.052,
          "index": 675,
          "local_name": "Turkiye",
          "region": "Middle East",
          "unemployment_rate": 11.127,
          "year": 2010
         },
         {
          "code": "TUV",
          "fertility_rate": null,
          "index": 676,
          "local_name": "Tuvalu",
          "region": "Polynesia",
          "unemployment_rate": null,
          "year": 2015
         },
         {
          "code": "TUV",
          "fertility_rate": null,
          "index": 677,
          "local_name": "Tuvalu",
          "region": "Polynesia",
          "unemployment_rate": null,
          "year": 2010
         },
         {
          "code": "TUV",
          "fertility_rate": null,
          "index": 678,
          "local_name": "Tuvalu",
          "region": "Polynesia",
          "unemployment_rate": null,
          "year": 2015
         },
         {
          "code": "TUV",
          "fertility_rate": null,
          "index": 679,
          "local_name": "Tuvalu",
          "region": "Polynesia",
          "unemployment_rate": null,
          "year": 2010
         },
         {
          "code": "TZA",
          "fertility_rate": 5.427,
          "index": 680,
          "local_name": "Tanzania",
          "region": "Eastern Africa",
          "unemployment_rate": null,
          "year": 2015
         },
         {
          "code": "TZA",
          "fertility_rate": 5.427,
          "index": 681,
          "local_name": "Tanzania",
          "region": "Eastern Africa",
          "unemployment_rate": null,
          "year": 2010
         },
         {
          "code": "TZA",
          "fertility_rate": 5.078,
          "index": 682,
          "local_name": "Tanzania",
          "region": "Eastern Africa",
          "unemployment_rate": null,
          "year": 2015
         },
         {
          "code": "TZA",
          "fertility_rate": 5.078,
          "index": 683,
          "local_name": "Tanzania",
          "region": "Eastern Africa",
          "unemployment_rate": null,
          "year": 2010
         },
         {
          "code": "UGA",
          "fertility_rate": 6.154,
          "index": 684,
          "local_name": "Uganda",
          "region": "Eastern Africa",
          "unemployment_rate": null,
          "year": 2015
         },
         {
          "code": "UGA",
          "fertility_rate": 6.154,
          "index": 685,
          "local_name": "Uganda",
          "region": "Eastern Africa",
          "unemployment_rate": null,
          "year": 2010
         },
         {
          "code": "UGA",
          "fertility_rate": 5.682,
          "index": 686,
          "local_name": "Uganda",
          "region": "Eastern Africa",
          "unemployment_rate": null,
          "year": 2015
         },
         {
          "code": "UGA",
          "fertility_rate": 5.682,
          "index": 687,
          "local_name": "Uganda",
          "region": "Eastern Africa",
          "unemployment_rate": null,
          "year": 2010
         },
         {
          "code": "UKR",
          "fertility_rate": 1.443,
          "index": 688,
          "local_name": "Ukrajina",
          "region": "Eastern Europe",
          "unemployment_rate": 9.143,
          "year": 2015
         },
         {
          "code": "UKR",
          "fertility_rate": 1.443,
          "index": 689,
          "local_name": "Ukrajina",
          "region": "Eastern Europe",
          "unemployment_rate": 8.097,
          "year": 2010
         },
         {
          "code": "UKR",
          "fertility_rate": 1.506,
          "index": 690,
          "local_name": "Ukrajina",
          "region": "Eastern Europe",
          "unemployment_rate": 9.143,
          "year": 2015
         },
         {
          "code": "UKR",
          "fertility_rate": 1.506,
          "index": 691,
          "local_name": "Ukrajina",
          "region": "Eastern Europe",
          "unemployment_rate": 8.097,
          "year": 2010
         },
         {
          "code": "URY",
          "fertility_rate": 2.078,
          "index": 692,
          "local_name": "Uruguay",
          "region": "South America",
          "unemployment_rate": 7.508,
          "year": 2015
         },
         {
          "code": "URY",
          "fertility_rate": 2.078,
          "index": 693,
          "local_name": "Uruguay",
          "region": "South America",
          "unemployment_rate": 7.033,
          "year": 2010
         },
         {
          "code": "URY",
          "fertility_rate": 2.007,
          "index": 694,
          "local_name": "Uruguay",
          "region": "South America",
          "unemployment_rate": 7.508,
          "year": 2015
         },
         {
          "code": "URY",
          "fertility_rate": 2.007,
          "index": 695,
          "local_name": "Uruguay",
          "region": "South America",
          "unemployment_rate": 7.033,
          "year": 2010
         },
         {
          "code": "USA",
          "fertility_rate": 1.931,
          "index": 696,
          "local_name": "United States",
          "region": "North America",
          "unemployment_rate": 5.258,
          "year": 2015
         },
         {
          "code": "USA",
          "fertility_rate": 1.931,
          "index": 697,
          "local_name": "United States",
          "region": "North America",
          "unemployment_rate": 9.608,
          "year": 2010
         },
         {
          "code": "USA",
          "fertility_rate": 1.843,
          "index": 698,
          "local_name": "United States",
          "region": "North America",
          "unemployment_rate": 5.258,
          "year": 2015
         },
         {
          "code": "USA",
          "fertility_rate": 1.843,
          "index": 699,
          "local_name": "United States",
          "region": "North America",
          "unemployment_rate": 9.608,
          "year": 2010
         },
         {
          "code": "UZB",
          "fertility_rate": 2.342,
          "index": 700,
          "local_name": "Uzbekiston",
          "region": "Southern and Central Asia",
          "unemployment_rate": null,
          "year": 2015
         },
         {
          "code": "UZB",
          "fertility_rate": 2.342,
          "index": 701,
          "local_name": "Uzbekiston",
          "region": "Southern and Central Asia",
          "unemployment_rate": null,
          "year": 2010
         },
         {
          "code": "UZB",
          "fertility_rate": 2.491,
          "index": 702,
          "local_name": "Uzbekiston",
          "region": "Southern and Central Asia",
          "unemployment_rate": null,
          "year": 2015
         },
         {
          "code": "UZB",
          "fertility_rate": 2.491,
          "index": 703,
          "local_name": "Uzbekiston",
          "region": "Southern and Central Asia",
          "unemployment_rate": null,
          "year": 2010
         },
         {
          "code": "VCT",
          "fertility_rate": 2.07,
          "index": 704,
          "local_name": "Saint Vincent and the Grenadines",
          "region": "Caribbean",
          "unemployment_rate": null,
          "year": 2015
         },
         {
          "code": "VCT",
          "fertility_rate": 2.07,
          "index": 705,
          "local_name": "Saint Vincent and the Grenadines",
          "region": "Caribbean",
          "unemployment_rate": null,
          "year": 2010
         },
         {
          "code": "VCT",
          "fertility_rate": 1.952,
          "index": 706,
          "local_name": "Saint Vincent and the Grenadines",
          "region": "Caribbean",
          "unemployment_rate": null,
          "year": 2015
         },
         {
          "code": "VCT",
          "fertility_rate": 1.952,
          "index": 707,
          "local_name": "Saint Vincent and the Grenadines",
          "region": "Caribbean",
          "unemployment_rate": null,
          "year": 2010
         },
         {
          "code": "VEN",
          "fertility_rate": 2.472,
          "index": 708,
          "local_name": "Venezuela",
          "region": "South America",
          "unemployment_rate": 7.4,
          "year": 2015
         },
         {
          "code": "VEN",
          "fertility_rate": 2.472,
          "index": 709,
          "local_name": "Venezuela",
          "region": "South America",
          "unemployment_rate": 8.508,
          "year": 2010
         },
         {
          "code": "VEN",
          "fertility_rate": 2.34,
          "index": 710,
          "local_name": "Venezuela",
          "region": "South America",
          "unemployment_rate": 7.4,
          "year": 2015
         },
         {
          "code": "VEN",
          "fertility_rate": 2.34,
          "index": 711,
          "local_name": "Venezuela",
          "region": "South America",
          "unemployment_rate": 8.508,
          "year": 2010
         },
         {
          "code": "VNM",
          "fertility_rate": 1.946,
          "index": 712,
          "local_name": "Viet Nam",
          "region": "Southeast Asia",
          "unemployment_rate": 2.4,
          "year": 2015
         },
         {
          "code": "VNM",
          "fertility_rate": 1.946,
          "index": 713,
          "local_name": "Viet Nam",
          "region": "Southeast Asia",
          "unemployment_rate": 4.29,
          "year": 2010
         },
         {
          "code": "VNM",
          "fertility_rate": 1.96,
          "index": 714,
          "local_name": "Viet Nam",
          "region": "Southeast Asia",
          "unemployment_rate": 2.4,
          "year": 2015
         },
         {
          "code": "VNM",
          "fertility_rate": 1.96,
          "index": 715,
          "local_name": "Viet Nam",
          "region": "Southeast Asia",
          "unemployment_rate": 4.29,
          "year": 2010
         },
         {
          "code": "VUT",
          "fertility_rate": 3.499,
          "index": 716,
          "local_name": "Vanuatu",
          "region": "Melanesia",
          "unemployment_rate": null,
          "year": 2015
         },
         {
          "code": "VUT",
          "fertility_rate": 3.499,
          "index": 717,
          "local_name": "Vanuatu",
          "region": "Melanesia",
          "unemployment_rate": null,
          "year": 2010
         },
         {
          "code": "VUT",
          "fertility_rate": 3.31,
          "index": 718,
          "local_name": "Vanuatu",
          "region": "Melanesia",
          "unemployment_rate": null,
          "year": 2015
         },
         {
          "code": "VUT",
          "fertility_rate": 3.31,
          "index": 719,
          "local_name": "Vanuatu",
          "region": "Melanesia",
          "unemployment_rate": null,
          "year": 2010
         },
         {
          "code": "WSM",
          "fertility_rate": 4.338,
          "index": 720,
          "local_name": "Samoa",
          "region": "Polynesia",
          "unemployment_rate": null,
          "year": 2015
         },
         {
          "code": "WSM",
          "fertility_rate": 4.338,
          "index": 721,
          "local_name": "Samoa",
          "region": "Polynesia",
          "unemployment_rate": null,
          "year": 2010
         },
         {
          "code": "WSM",
          "fertility_rate": 4.028,
          "index": 722,
          "local_name": "Samoa",
          "region": "Polynesia",
          "unemployment_rate": null,
          "year": 2015
         },
         {
          "code": "WSM",
          "fertility_rate": 4.028,
          "index": 723,
          "local_name": "Samoa",
          "region": "Polynesia",
          "unemployment_rate": null,
          "year": 2010
         },
         {
          "code": "YEM",
          "fertility_rate": 4.703,
          "index": 724,
          "local_name": "Al-Yaman",
          "region": "Middle East",
          "unemployment_rate": null,
          "year": 2015
         },
         {
          "code": "YEM",
          "fertility_rate": 4.703,
          "index": 725,
          "local_name": "Al-Yaman",
          "region": "Middle East",
          "unemployment_rate": null,
          "year": 2010
         },
         {
          "code": "YEM",
          "fertility_rate": 4.043,
          "index": 726,
          "local_name": "Al-Yaman",
          "region": "Middle East",
          "unemployment_rate": null,
          "year": 2015
         },
         {
          "code": "YEM",
          "fertility_rate": 4.043,
          "index": 727,
          "local_name": "Al-Yaman",
          "region": "Middle East",
          "unemployment_rate": null,
          "year": 2010
         },
         {
          "code": "ZAF",
          "fertility_rate": 2.467,
          "index": 728,
          "local_name": "South Africa",
          "region": "Southern Africa",
          "unemployment_rate": 25.35,
          "year": 2015
         },
         {
          "code": "ZAF",
          "fertility_rate": 2.467,
          "index": 729,
          "local_name": "South Africa",
          "region": "Southern Africa",
          "unemployment_rate": 24.875,
          "year": 2010
         },
         {
          "code": "ZAF",
          "fertility_rate": 2.339,
          "index": 730,
          "local_name": "South Africa",
          "region": "Southern Africa",
          "unemployment_rate": 25.35,
          "year": 2015
         },
         {
          "code": "ZAF",
          "fertility_rate": 2.339,
          "index": 731,
          "local_name": "South Africa",
          "region": "Southern Africa",
          "unemployment_rate": 24.875,
          "year": 2010
         },
         {
          "code": "ZMB",
          "fertility_rate": 5.687,
          "index": 732,
          "local_name": "Zambia",
          "region": "Eastern Africa",
          "unemployment_rate": null,
          "year": 2015
         },
         {
          "code": "ZMB",
          "fertility_rate": 5.687,
          "index": 733,
          "local_name": "Zambia",
          "region": "Eastern Africa",
          "unemployment_rate": null,
          "year": 2010
         },
         {
          "code": "ZMB",
          "fertility_rate": 5.284,
          "index": 734,
          "local_name": "Zambia",
          "region": "Eastern Africa",
          "unemployment_rate": null,
          "year": 2015
         },
         {
          "code": "ZMB",
          "fertility_rate": 5.284,
          "index": 735,
          "local_name": "Zambia",
          "region": "Eastern Africa",
          "unemployment_rate": null,
          "year": 2010
         },
         {
          "code": "ZWE",
          "fertility_rate": 4.048,
          "index": 736,
          "local_name": "Zimbabwe",
          "region": "Eastern Africa",
          "unemployment_rate": null,
          "year": 2015
         },
         {
          "code": "ZWE",
          "fertility_rate": 4.048,
          "index": 737,
          "local_name": "Zimbabwe",
          "region": "Eastern Africa",
          "unemployment_rate": null,
          "year": 2010
         },
         {
          "code": "ZWE",
          "fertility_rate": 3.856,
          "index": 738,
          "local_name": "Zimbabwe",
          "region": "Eastern Africa",
          "unemployment_rate": null,
          "year": 2015
         },
         {
          "code": "ZWE",
          "fertility_rate": 3.856,
          "index": 739,
          "local_name": "Zimbabwe",
          "region": "Eastern Africa",
          "unemployment_rate": null,
          "year": 2010
         }
        ],
        "schema": {
         "fields": [
          {
           "name": "index",
           "type": "integer"
          },
          {
           "name": "code",
           "type": "string"
          },
          {
           "name": "local_name",
           "type": "string"
          },
          {
           "name": "region",
           "type": "string"
          },
          {
           "name": "year",
           "type": "integer"
          },
          {
           "name": "fertility_rate",
           "type": "number"
          },
          {
           "name": "unemployment_rate",
           "type": "number"
          }
         ],
         "pandas_version": "1.4.0",
         "primaryKey": [
          "index"
         ]
        }
       },
       "total_rows": 740,
       "truncation_type": null
      },
      "text/html": [
       "<div>\n",
       "<style scoped>\n",
       "    .dataframe tbody tr th:only-of-type {\n",
       "        vertical-align: middle;\n",
       "    }\n",
       "\n",
       "    .dataframe tbody tr th {\n",
       "        vertical-align: top;\n",
       "    }\n",
       "\n",
       "    .dataframe thead th {\n",
       "        text-align: right;\n",
       "    }\n",
       "</style>\n",
       "<table border=\"1\" class=\"dataframe\">\n",
       "  <thead>\n",
       "    <tr style=\"text-align: right;\">\n",
       "      <th></th>\n",
       "      <th>code</th>\n",
       "      <th>local_name</th>\n",
       "      <th>region</th>\n",
       "      <th>year</th>\n",
       "      <th>fertility_rate</th>\n",
       "      <th>unemployment_rate</th>\n",
       "    </tr>\n",
       "  </thead>\n",
       "  <tbody>\n",
       "    <tr>\n",
       "      <th>0</th>\n",
       "      <td>AFG</td>\n",
       "      <td>Afganistan/Afqanestan</td>\n",
       "      <td>Southern and Central Asia</td>\n",
       "      <td>2015</td>\n",
       "      <td>5.746</td>\n",
       "      <td>NaN</td>\n",
       "    </tr>\n",
       "    <tr>\n",
       "      <th>1</th>\n",
       "      <td>AFG</td>\n",
       "      <td>Afganistan/Afqanestan</td>\n",
       "      <td>Southern and Central Asia</td>\n",
       "      <td>2010</td>\n",
       "      <td>5.746</td>\n",
       "      <td>NaN</td>\n",
       "    </tr>\n",
       "    <tr>\n",
       "      <th>2</th>\n",
       "      <td>AFG</td>\n",
       "      <td>Afganistan/Afqanestan</td>\n",
       "      <td>Southern and Central Asia</td>\n",
       "      <td>2015</td>\n",
       "      <td>4.653</td>\n",
       "      <td>NaN</td>\n",
       "    </tr>\n",
       "    <tr>\n",
       "      <th>3</th>\n",
       "      <td>AFG</td>\n",
       "      <td>Afganistan/Afqanestan</td>\n",
       "      <td>Southern and Central Asia</td>\n",
       "      <td>2010</td>\n",
       "      <td>4.653</td>\n",
       "      <td>NaN</td>\n",
       "    </tr>\n",
       "    <tr>\n",
       "      <th>4</th>\n",
       "      <td>AGO</td>\n",
       "      <td>Angola</td>\n",
       "      <td>Central Africa</td>\n",
       "      <td>2015</td>\n",
       "      <td>6.416</td>\n",
       "      <td>NaN</td>\n",
       "    </tr>\n",
       "    <tr>\n",
       "      <th>...</th>\n",
       "      <td>...</td>\n",
       "      <td>...</td>\n",
       "      <td>...</td>\n",
       "      <td>...</td>\n",
       "      <td>...</td>\n",
       "      <td>...</td>\n",
       "    </tr>\n",
       "    <tr>\n",
       "      <th>735</th>\n",
       "      <td>ZMB</td>\n",
       "      <td>Zambia</td>\n",
       "      <td>Eastern Africa</td>\n",
       "      <td>2010</td>\n",
       "      <td>5.284</td>\n",
       "      <td>NaN</td>\n",
       "    </tr>\n",
       "    <tr>\n",
       "      <th>736</th>\n",
       "      <td>ZWE</td>\n",
       "      <td>Zimbabwe</td>\n",
       "      <td>Eastern Africa</td>\n",
       "      <td>2015</td>\n",
       "      <td>4.048</td>\n",
       "      <td>NaN</td>\n",
       "    </tr>\n",
       "    <tr>\n",
       "      <th>737</th>\n",
       "      <td>ZWE</td>\n",
       "      <td>Zimbabwe</td>\n",
       "      <td>Eastern Africa</td>\n",
       "      <td>2010</td>\n",
       "      <td>4.048</td>\n",
       "      <td>NaN</td>\n",
       "    </tr>\n",
       "    <tr>\n",
       "      <th>738</th>\n",
       "      <td>ZWE</td>\n",
       "      <td>Zimbabwe</td>\n",
       "      <td>Eastern Africa</td>\n",
       "      <td>2015</td>\n",
       "      <td>3.856</td>\n",
       "      <td>NaN</td>\n",
       "    </tr>\n",
       "    <tr>\n",
       "      <th>739</th>\n",
       "      <td>ZWE</td>\n",
       "      <td>Zimbabwe</td>\n",
       "      <td>Eastern Africa</td>\n",
       "      <td>2010</td>\n",
       "      <td>3.856</td>\n",
       "      <td>NaN</td>\n",
       "    </tr>\n",
       "  </tbody>\n",
       "</table>\n",
       "<p>740 rows × 6 columns</p>\n",
       "</div>"
      ],
      "text/plain": [
       "    code             local_name  ... fertility_rate  unemployment_rate\n",
       "0    AFG  Afganistan/Afqanestan  ...          5.746                NaN\n",
       "1    AFG  Afganistan/Afqanestan  ...          5.746                NaN\n",
       "2    AFG  Afganistan/Afqanestan  ...          4.653                NaN\n",
       "3    AFG  Afganistan/Afqanestan  ...          4.653                NaN\n",
       "4    AGO                 Angola  ...          6.416                NaN\n",
       "..   ...                    ...  ...            ...                ...\n",
       "735  ZMB                 Zambia  ...          5.284                NaN\n",
       "736  ZWE               Zimbabwe  ...          4.048                NaN\n",
       "737  ZWE               Zimbabwe  ...          4.048                NaN\n",
       "738  ZWE               Zimbabwe  ...          3.856                NaN\n",
       "739  ZWE               Zimbabwe  ...          3.856                NaN\n",
       "\n",
       "[740 rows x 6 columns]"
      ]
     },
     "execution_count": 44,
     "metadata": {},
     "output_type": "execute_result"
    }
   ],
   "source": [
    "Select c.code, c.local_name, c.region, e.year, p.fertility_rate, e.unemployment_rate \n",
    "from world.countries as c \n",
    "inner join world.populations as p on c.code = p.country_code \n",
    "INNER JOIN world.economies as e ON c.code = e.code;"
   ]
  }
 ],
 "metadata": {
  "editor": "DataCamp Workspace",
  "kernelspec": {
   "display_name": "Python 3 (ipykernel)",
   "language": "python",
   "name": "python3"
  },
  "language_info": {
   "codemirror_mode": {
    "name": "ipython",
    "version": 3
   },
   "file_extension": ".py",
   "mimetype": "text/x-python",
   "name": "python",
   "nbconvert_exporter": "python",
   "pygments_lexer": "ipython3",
   "version": "3.11.6"
  }
 },
 "nbformat": 4,
 "nbformat_minor": 5
}
