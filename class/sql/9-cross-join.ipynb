{
 "cells": [
  {
   "cell_type": "markdown",
   "id": "23dea9c9-866f-4a0c-b701-af8bd9c8b2b5",
   "metadata": {},
   "source": [
    "<h1>CROSS JOIN</h1>\n",
    "\n",
    "- Una consulta cross join es un relacionamiento de todos contra todos.  Ejemplo, este codigo pone de ejemplo que en cualquier ciudad que empiece con las letras 'Hyder' hablan cualquier idioma; un cruze entre ciudades y lenguajes:"
   ]
  },
  {
   "cell_type": "markdown",
   "id": "7965ee0c-277f-418e-86cd-f45b780098f2",
   "metadata": {},
   "source": [
    "<img src=\"https://www.w3resource.com/w3r_images/cross-join-round.png\"/>"
   ]
  },
  {
   "cell_type": "code",
   "execution_count": 1,
   "id": "12a020f9-b6a2-486d-b1de-d4f03e2091d8",
   "metadata": {
    "customType": "sql",
    "dataFrameVariableName": "df1",
    "executionCancelledAt": null,
    "executionTime": 1915,
    "lastExecutedAt": 1688504865355,
    "lastScheduledRunId": null,
    "lastSuccessfullyExecutedCode": "select * from world.cities limit 5",
    "sqlCellMode": "dataFrame",
    "sqlSource": {
     "integrationId": "c632441c-e1dc-4637-a56d-10b85efd89be",
     "type": "integration"
    }
   },
   "outputs": [
    {
     "@datacamp/metadata": {
      "executedQuery": "select * from world.cities limit 5",
      "executedQueryParameters": []
     },
     "data": {
      "application/com.datacamp.data-table.v1+json": {
       "table": {
        "data": [
         {
          "city_proper_pop": 4765000,
          "country_code": "CIV",
          "index": 0,
          "metroarea_pop": null,
          "name": "Abidjan",
          "urbanarea_pop": 4765000
         },
         {
          "city_proper_pop": 1145000,
          "country_code": "ARE",
          "index": 1,
          "metroarea_pop": null,
          "name": "Abu Dhabi",
          "urbanarea_pop": 1145000
         },
         {
          "city_proper_pop": 1235880,
          "country_code": "NGA",
          "index": 2,
          "metroarea_pop": 6000000,
          "name": "Abuja",
          "urbanarea_pop": 1235880
         },
         {
          "city_proper_pop": 2070463,
          "country_code": "GHA",
          "index": 3,
          "metroarea_pop": 4010054,
          "name": "Accra",
          "urbanarea_pop": 2070463
         },
         {
          "city_proper_pop": 3103673,
          "country_code": "ETH",
          "index": 4,
          "metroarea_pop": 4567857,
          "name": "Addis Ababa",
          "urbanarea_pop": 3103673
         }
        ],
        "schema": {
         "fields": [
          {
           "name": "index",
           "type": "integer"
          },
          {
           "name": "name",
           "type": "string"
          },
          {
           "name": "country_code",
           "type": "string"
          },
          {
           "name": "city_proper_pop",
           "type": "integer"
          },
          {
           "name": "metroarea_pop",
           "type": "number"
          },
          {
           "name": "urbanarea_pop",
           "type": "integer"
          }
         ],
         "pandas_version": "1.4.0",
         "primaryKey": [
          "index"
         ]
        }
       },
       "total_rows": 5,
       "truncation_type": null
      },
      "text/html": [
       "<div>\n",
       "<style scoped>\n",
       "    .dataframe tbody tr th:only-of-type {\n",
       "        vertical-align: middle;\n",
       "    }\n",
       "\n",
       "    .dataframe tbody tr th {\n",
       "        vertical-align: top;\n",
       "    }\n",
       "\n",
       "    .dataframe thead th {\n",
       "        text-align: right;\n",
       "    }\n",
       "</style>\n",
       "<table border=\"1\" class=\"dataframe\">\n",
       "  <thead>\n",
       "    <tr style=\"text-align: right;\">\n",
       "      <th></th>\n",
       "      <th>name</th>\n",
       "      <th>country_code</th>\n",
       "      <th>city_proper_pop</th>\n",
       "      <th>metroarea_pop</th>\n",
       "      <th>urbanarea_pop</th>\n",
       "    </tr>\n",
       "  </thead>\n",
       "  <tbody>\n",
       "    <tr>\n",
       "      <th>0</th>\n",
       "      <td>Abidjan</td>\n",
       "      <td>CIV</td>\n",
       "      <td>4765000</td>\n",
       "      <td>NaN</td>\n",
       "      <td>4765000</td>\n",
       "    </tr>\n",
       "    <tr>\n",
       "      <th>1</th>\n",
       "      <td>Abu Dhabi</td>\n",
       "      <td>ARE</td>\n",
       "      <td>1145000</td>\n",
       "      <td>NaN</td>\n",
       "      <td>1145000</td>\n",
       "    </tr>\n",
       "    <tr>\n",
       "      <th>2</th>\n",
       "      <td>Abuja</td>\n",
       "      <td>NGA</td>\n",
       "      <td>1235880</td>\n",
       "      <td>6000000.0</td>\n",
       "      <td>1235880</td>\n",
       "    </tr>\n",
       "    <tr>\n",
       "      <th>3</th>\n",
       "      <td>Accra</td>\n",
       "      <td>GHA</td>\n",
       "      <td>2070463</td>\n",
       "      <td>4010054.0</td>\n",
       "      <td>2070463</td>\n",
       "    </tr>\n",
       "    <tr>\n",
       "      <th>4</th>\n",
       "      <td>Addis Ababa</td>\n",
       "      <td>ETH</td>\n",
       "      <td>3103673</td>\n",
       "      <td>4567857.0</td>\n",
       "      <td>3103673</td>\n",
       "    </tr>\n",
       "  </tbody>\n",
       "</table>\n",
       "</div>"
      ],
      "text/plain": [
       "          name country_code  city_proper_pop  metroarea_pop  urbanarea_pop\n",
       "0      Abidjan          CIV          4765000            NaN        4765000\n",
       "1    Abu Dhabi          ARE          1145000            NaN        1145000\n",
       "2        Abuja          NGA          1235880      6000000.0        1235880\n",
       "3        Accra          GHA          2070463      4010054.0        2070463\n",
       "4  Addis Ababa          ETH          3103673      4567857.0        3103673"
      ]
     },
     "execution_count": 1,
     "metadata": {},
     "output_type": "execute_result"
    }
   ],
   "source": [
    "select * from world.cities limit 5"
   ]
  },
  {
   "cell_type": "code",
   "execution_count": 2,
   "id": "d105cc1f-a0b1-4e32-a7e8-df5b4ba3814f",
   "metadata": {
    "customType": "sql",
    "dataFrameVariableName": "df2",
    "executionCancelledAt": null,
    "executionTime": 1946,
    "lastExecutedAt": 1688504891053,
    "lastScheduledRunId": null,
    "lastSuccessfullyExecutedCode": "select * from world.languages limit 5",
    "sqlCellMode": "dataFrame",
    "sqlSource": {
     "integrationId": "c632441c-e1dc-4637-a56d-10b85efd89be",
     "type": "integration"
    }
   },
   "outputs": [
    {
     "@datacamp/metadata": {
      "executedQuery": "select * from world.languages limit 5",
      "executedQueryParameters": []
     },
     "data": {
      "application/com.datacamp.data-table.v1+json": {
       "table": {
        "data": [
         {
          "code": "AFG",
          "index": 0,
          "lang_id": 1,
          "name": "Dari",
          "official": true,
          "percent": 50
         },
         {
          "code": "AFG",
          "index": 1,
          "lang_id": 2,
          "name": "Pashto",
          "official": true,
          "percent": 35
         },
         {
          "code": "AFG",
          "index": 2,
          "lang_id": 3,
          "name": "Turkic",
          "official": false,
          "percent": 11
         },
         {
          "code": "AFG",
          "index": 3,
          "lang_id": 4,
          "name": "Other",
          "official": false,
          "percent": 4
         },
         {
          "code": "ALB",
          "index": 4,
          "lang_id": 5,
          "name": "Albanian",
          "official": true,
          "percent": 98.8
         }
        ],
        "schema": {
         "fields": [
          {
           "name": "index",
           "type": "integer"
          },
          {
           "name": "lang_id",
           "type": "integer"
          },
          {
           "name": "code",
           "type": "string"
          },
          {
           "name": "name",
           "type": "string"
          },
          {
           "name": "percent",
           "type": "number"
          },
          {
           "name": "official",
           "type": "boolean"
          }
         ],
         "pandas_version": "1.4.0",
         "primaryKey": [
          "index"
         ]
        }
       },
       "total_rows": 5,
       "truncation_type": null
      },
      "text/html": [
       "<div>\n",
       "<style scoped>\n",
       "    .dataframe tbody tr th:only-of-type {\n",
       "        vertical-align: middle;\n",
       "    }\n",
       "\n",
       "    .dataframe tbody tr th {\n",
       "        vertical-align: top;\n",
       "    }\n",
       "\n",
       "    .dataframe thead th {\n",
       "        text-align: right;\n",
       "    }\n",
       "</style>\n",
       "<table border=\"1\" class=\"dataframe\">\n",
       "  <thead>\n",
       "    <tr style=\"text-align: right;\">\n",
       "      <th></th>\n",
       "      <th>lang_id</th>\n",
       "      <th>code</th>\n",
       "      <th>name</th>\n",
       "      <th>percent</th>\n",
       "      <th>official</th>\n",
       "    </tr>\n",
       "  </thead>\n",
       "  <tbody>\n",
       "    <tr>\n",
       "      <th>0</th>\n",
       "      <td>1</td>\n",
       "      <td>AFG</td>\n",
       "      <td>Dari</td>\n",
       "      <td>50.0</td>\n",
       "      <td>True</td>\n",
       "    </tr>\n",
       "    <tr>\n",
       "      <th>1</th>\n",
       "      <td>2</td>\n",
       "      <td>AFG</td>\n",
       "      <td>Pashto</td>\n",
       "      <td>35.0</td>\n",
       "      <td>True</td>\n",
       "    </tr>\n",
       "    <tr>\n",
       "      <th>2</th>\n",
       "      <td>3</td>\n",
       "      <td>AFG</td>\n",
       "      <td>Turkic</td>\n",
       "      <td>11.0</td>\n",
       "      <td>False</td>\n",
       "    </tr>\n",
       "    <tr>\n",
       "      <th>3</th>\n",
       "      <td>4</td>\n",
       "      <td>AFG</td>\n",
       "      <td>Other</td>\n",
       "      <td>4.0</td>\n",
       "      <td>False</td>\n",
       "    </tr>\n",
       "    <tr>\n",
       "      <th>4</th>\n",
       "      <td>5</td>\n",
       "      <td>ALB</td>\n",
       "      <td>Albanian</td>\n",
       "      <td>98.8</td>\n",
       "      <td>True</td>\n",
       "    </tr>\n",
       "  </tbody>\n",
       "</table>\n",
       "</div>"
      ],
      "text/plain": [
       "   lang_id code      name  percent  official\n",
       "0        1  AFG      Dari     50.0      True\n",
       "1        2  AFG    Pashto     35.0      True\n",
       "2        3  AFG    Turkic     11.0     False\n",
       "3        4  AFG     Other      4.0     False\n",
       "4        5  ALB  Albanian     98.8      True"
      ]
     },
     "execution_count": 2,
     "metadata": {},
     "output_type": "execute_result"
    }
   ],
   "source": [
    "select * from world.languages limit 5"
   ]
  },
  {
   "cell_type": "code",
   "execution_count": 2,
   "id": "66dcbc8e-76e5-46bc-a0fb-e8c7ae92a83e",
   "metadata": {
    "customType": "sql",
    "dataFrameVariableName": "df",
    "executionCancelledAt": null,
    "executionTime": 2569,
    "initial": false,
    "integrationId": "c632441c-e1dc-4637-a56d-10b85efd89be",
    "lastExecutedAt": 1688520054369,
    "lastScheduledRunId": null,
    "lastSuccessfullyExecutedCode": "SELECT c.name AS city, l.name AS language\nFROM world.cities AS c        \nCROSS JOIN world.languages AS l\nWHERE c.name LIKE 'Bog%';"
   },
   "outputs": [
    {
     "@datacamp/metadata": {
      "executedQuery": "SELECT c.name AS city, l.name AS language\nFROM world.cities AS c        \nCROSS JOIN world.languages AS l\nWHERE c.name LIKE 'Bog%';",
      "executedQueryParameters": []
     },
     "data": {
      "application/com.datacamp.data-table.v1+json": {
       "table": {
        "data": [
         {
          "city": "Bogota",
          "index": 0,
          "language": "Dari"
         },
         {
          "city": "Bogota",
          "index": 1,
          "language": "Pashto"
         },
         {
          "city": "Bogota",
          "index": 2,
          "language": "Turkic"
         },
         {
          "city": "Bogota",
          "index": 3,
          "language": "Other"
         },
         {
          "city": "Bogota",
          "index": 4,
          "language": "Albanian"
         },
         {
          "city": "Bogota",
          "index": 5,
          "language": "Greek"
         },
         {
          "city": "Bogota",
          "index": 6,
          "language": "Other"
         },
         {
          "city": "Bogota",
          "index": 7,
          "language": "unspecified"
         },
         {
          "city": "Bogota",
          "index": 8,
          "language": "Arabic"
         },
         {
          "city": "Bogota",
          "index": 9,
          "language": "French"
         },
         {
          "city": "Bogota",
          "index": 10,
          "language": "Berber or Tamazight"
         },
         {
          "city": "Bogota",
          "index": 11,
          "language": "Shawiya"
         },
         {
          "city": "Bogota",
          "index": 12,
          "language": "Mzab"
         },
         {
          "city": "Bogota",
          "index": 13,
          "language": "Tuareg"
         },
         {
          "city": "Bogota",
          "index": 14,
          "language": "Samoan"
         },
         {
          "city": "Bogota",
          "index": 15,
          "language": "English"
         },
         {
          "city": "Bogota",
          "index": 16,
          "language": "Tongan"
         },
         {
          "city": "Bogota",
          "index": 17,
          "language": "Other"
         },
         {
          "city": "Bogota",
          "index": 18,
          "language": "Other"
         },
         {
          "city": "Bogota",
          "index": 19,
          "language": "Catalan"
         },
         {
          "city": "Bogota",
          "index": 20,
          "language": "French"
         },
         {
          "city": "Bogota",
          "index": 21,
          "language": "Castilian"
         },
         {
          "city": "Bogota",
          "index": 22,
          "language": "Portuguese"
         },
         {
          "city": "Bogota",
          "index": 23,
          "language": "Portuguese"
         },
         {
          "city": "Bogota",
          "index": 24,
          "language": "Umbundu"
         },
         {
          "city": "Bogota",
          "index": 25,
          "language": "Kikongo"
         },
         {
          "city": "Bogota",
          "index": 26,
          "language": "Kimbundu"
         },
         {
          "city": "Bogota",
          "index": 27,
          "language": "Chokwe"
         },
         {
          "city": "Bogota",
          "index": 28,
          "language": "Nhaneca"
         },
         {
          "city": "Bogota",
          "index": 29,
          "language": "Nganguela"
         },
         {
          "city": "Bogota",
          "index": 30,
          "language": "Fiote"
         },
         {
          "city": "Bogota",
          "index": 31,
          "language": "Kwanhama"
         },
         {
          "city": "Bogota",
          "index": 32,
          "language": "Muhumbi"
         },
         {
          "city": "Bogota",
          "index": 33,
          "language": "Luvale"
         },
         {
          "city": "Bogota",
          "index": 34,
          "language": "Other"
         },
         {
          "city": "Bogota",
          "index": 35,
          "language": "English"
         },
         {
          "city": "Bogota",
          "index": 36,
          "language": "English"
         },
         {
          "city": "Bogota",
          "index": 37,
          "language": "Antiguan creole"
         },
         {
          "city": "Bogota",
          "index": 38,
          "language": "Spanish"
         },
         {
          "city": "Bogota",
          "index": 39,
          "language": "Italian"
         },
         {
          "city": "Bogota",
          "index": 40,
          "language": "English"
         },
         {
          "city": "Bogota",
          "index": 41,
          "language": "German"
         },
         {
          "city": "Bogota",
          "index": 42,
          "language": "French"
         },
         {
          "city": "Bogota",
          "index": 43,
          "language": "indigenous"
         },
         {
          "city": "Bogota",
          "index": 44,
          "language": "Armenian"
         },
         {
          "city": "Bogota",
          "index": 45,
          "language": "Kurdish"
         },
         {
          "city": "Bogota",
          "index": 46,
          "language": "Other"
         },
         {
          "city": "Bogota",
          "index": 47,
          "language": "Papiamento"
         },
         {
          "city": "Bogota",
          "index": 48,
          "language": "Spanish"
         },
         {
          "city": "Bogota",
          "index": 49,
          "language": "English"
         },
         {
          "city": "Bogota",
          "index": 50,
          "language": "Dutch"
         },
         {
          "city": "Bogota",
          "index": 51,
          "language": "Chinese"
         },
         {
          "city": "Bogota",
          "index": 52,
          "language": "Other"
         },
         {
          "city": "Bogota",
          "index": 53,
          "language": "unspecified"
         },
         {
          "city": "Bogota",
          "index": 54,
          "language": "English"
         },
         {
          "city": "Bogota",
          "index": 55,
          "language": "Mandarin"
         },
         {
          "city": "Bogota",
          "index": 56,
          "language": "Italian"
         },
         {
          "city": "Bogota",
          "index": 57,
          "language": "Arabic"
         },
         {
          "city": "Bogota",
          "index": 58,
          "language": "Greek"
         },
         {
          "city": "Bogota",
          "index": 59,
          "language": "Cantonese"
         },
         {
          "city": "Bogota",
          "index": 60,
          "language": "Vietnamese"
         },
         {
          "city": "Bogota",
          "index": 61,
          "language": "Other"
         },
         {
          "city": "Bogota",
          "index": 62,
          "language": "unspecified"
         },
         {
          "city": "Bogota",
          "index": 63,
          "language": "German"
         },
         {
          "city": "Bogota",
          "index": 64,
          "language": "Turkish"
         },
         {
          "city": "Bogota",
          "index": 65,
          "language": "Serbian"
         },
         {
          "city": "Bogota",
          "index": 66,
          "language": "Croatian"
         },
         {
          "city": "Bogota",
          "index": 67,
          "language": "Other"
         },
         {
          "city": "Bogota",
          "index": 68,
          "language": "Azerbaijani"
         },
         {
          "city": "Bogota",
          "index": 69,
          "language": "Russian"
         },
         {
          "city": "Bogota",
          "index": 70,
          "language": "Armenian"
         },
         {
          "city": "Bogota",
          "index": 71,
          "language": "Other"
         },
         {
          "city": "Bogota",
          "index": 72,
          "language": "English"
         },
         {
          "city": "Bogota",
          "index": 73,
          "language": "Creole"
         },
         {
          "city": "Bogota",
          "index": 74,
          "language": "Arabic"
         },
         {
          "city": "Bogota",
          "index": 75,
          "language": "English"
         },
         {
          "city": "Bogota",
          "index": 76,
          "language": "Farsi"
         },
         {
          "city": "Bogota",
          "index": 77,
          "language": "Urdu"
         },
         {
          "city": "Bogota",
          "index": 78,
          "language": "Bangla"
         },
         {
          "city": "Bogota",
          "index": 79,
          "language": "Other"
         },
         {
          "city": "Bogota",
          "index": 80,
          "language": "English"
         },
         {
          "city": "Bogota",
          "index": 81,
          "language": "Bajan"
         },
         {
          "city": "Bogota",
          "index": 82,
          "language": "Russian"
         },
         {
          "city": "Bogota",
          "index": 83,
          "language": "Belarusian"
         },
         {
          "city": "Bogota",
          "index": 84,
          "language": "Other"
         },
         {
          "city": "Bogota",
          "index": 85,
          "language": "unspecified"
         },
         {
          "city": "Bogota",
          "index": 86,
          "language": "Dutch"
         },
         {
          "city": "Bogota",
          "index": 87,
          "language": "French"
         },
         {
          "city": "Bogota",
          "index": 88,
          "language": "German"
         },
         {
          "city": "Bogota",
          "index": 89,
          "language": "English"
         },
         {
          "city": "Bogota",
          "index": 90,
          "language": "Spanish"
         },
         {
          "city": "Bogota",
          "index": 91,
          "language": "Creole"
         },
         {
          "city": "Bogota",
          "index": 92,
          "language": "Maya"
         },
         {
          "city": "Bogota",
          "index": 93,
          "language": "German"
         },
         {
          "city": "Bogota",
          "index": 94,
          "language": "Garifuna"
         },
         {
          "city": "Bogota",
          "index": 95,
          "language": "Other"
         },
         {
          "city": "Bogota",
          "index": 96,
          "language": "unknown"
         },
         {
          "city": "Bogota",
          "index": 97,
          "language": "none"
         },
         {
          "city": "Bogota",
          "index": 98,
          "language": "French"
         },
         {
          "city": "Bogota",
          "index": 99,
          "language": "Fon and Yoruba"
         },
         {
          "city": "Bogota",
          "index": 100,
          "language": "Tribal Languages"
         },
         {
          "city": "Bogota",
          "index": 101,
          "language": "English"
         },
         {
          "city": "Bogota",
          "index": 102,
          "language": "Portuguese"
         },
         {
          "city": "Bogota",
          "index": 103,
          "language": "Sharchhopka"
         },
         {
          "city": "Bogota",
          "index": 104,
          "language": "Dzongkha"
         },
         {
          "city": "Bogota",
          "index": 105,
          "language": "Lhotshamkha"
         },
         {
          "city": "Bogota",
          "index": 106,
          "language": "Other"
         },
         {
          "city": "Bogota",
          "index": 107,
          "language": "Spanish"
         },
         {
          "city": "Bogota",
          "index": 108,
          "language": "Quechua"
         },
         {
          "city": "Bogota",
          "index": 109,
          "language": "Aymara"
         },
         {
          "city": "Bogota",
          "index": 110,
          "language": "Foreign Languages"
         },
         {
          "city": "Bogota",
          "index": 111,
          "language": "Guarani"
         },
         {
          "city": "Bogota",
          "index": 112,
          "language": "Other"
         },
         {
          "city": "Bogota",
          "index": 113,
          "language": "none"
         },
         {
          "city": "Bogota",
          "index": 114,
          "language": "Bosnian"
         },
         {
          "city": "Bogota",
          "index": 115,
          "language": "Serbian"
         },
         {
          "city": "Bogota",
          "index": 116,
          "language": "Croatian"
         },
         {
          "city": "Bogota",
          "index": 117,
          "language": "Other"
         },
         {
          "city": "Bogota",
          "index": 118,
          "language": "No Answer"
         },
         {
          "city": "Bogota",
          "index": 119,
          "language": "Setswana"
         },
         {
          "city": "Bogota",
          "index": 120,
          "language": "Sekalanga"
         },
         {
          "city": "Bogota",
          "index": 121,
          "language": "Shekgalagadi"
         },
         {
          "city": "Bogota",
          "index": 122,
          "language": "English"
         },
         {
          "city": "Bogota",
          "index": 123,
          "language": "Zezuru"
         },
         {
          "city": "Bogota",
          "index": 124,
          "language": "Sesarwa"
         },
         {
          "city": "Bogota",
          "index": 125,
          "language": "Sembukushu"
         },
         {
          "city": "Bogota",
          "index": 126,
          "language": "Ndebele"
         },
         {
          "city": "Bogota",
          "index": 127,
          "language": "Other"
         },
         {
          "city": "Bogota",
          "index": 128,
          "language": "Portuguese"
         },
         {
          "city": "Bogota",
          "index": 129,
          "language": "Malay"
         },
         {
          "city": "Bogota",
          "index": 130,
          "language": "English"
         },
         {
          "city": "Bogota",
          "index": 131,
          "language": "Chinese"
         },
         {
          "city": "Bogota",
          "index": 132,
          "language": "Bulgarian"
         },
         {
          "city": "Bogota",
          "index": 133,
          "language": "Turkish"
         },
         {
          "city": "Bogota",
          "index": 134,
          "language": "Romani"
         },
         {
          "city": "Bogota",
          "index": 135,
          "language": "Other"
         },
         {
          "city": "Bogota",
          "index": 136,
          "language": "unspecified"
         },
         {
          "city": "Bogota",
          "index": 137,
          "language": "French"
         },
         {
          "city": "Bogota",
          "index": 138,
          "language": "Sudanic family"
         },
         {
          "city": "Bogota",
          "index": 139,
          "language": "Burmese"
         },
         {
          "city": "Bogota",
          "index": 140,
          "language": "Kirundi"
         },
         {
          "city": "Bogota",
          "index": 141,
          "language": "French"
         },
         {
          "city": "Bogota",
          "index": 142,
          "language": "Swahili"
         },
         {
          "city": "Bogota",
          "index": 143,
          "language": "English"
         },
         {
          "city": "Bogota",
          "index": 144,
          "language": "Other"
         },
         {
          "city": "Bogota",
          "index": 145,
          "language": "unspecified"
         },
         {
          "city": "Bogota",
          "index": 146,
          "language": "Khmer"
         },
         {
          "city": "Bogota",
          "index": 147,
          "language": "Other"
         },
         {
          "city": "Bogota",
          "index": 148,
          "language": "Other"
         },
         {
          "city": "Bogota",
          "index": 149,
          "language": "English"
         },
         {
          "city": "Bogota",
          "index": 150,
          "language": "French"
         },
         {
          "city": "Bogota",
          "index": 151,
          "language": "English"
         },
         {
          "city": "Bogota",
          "index": 152,
          "language": "French"
         },
         {
          "city": "Bogota",
          "index": 153,
          "language": "Punjabi"
         },
         {
          "city": "Bogota",
          "index": 154,
          "language": "Italian"
         },
         {
          "city": "Bogota",
          "index": 155,
          "language": "Spanish"
         },
         {
          "city": "Bogota",
          "index": 156,
          "language": "German"
         },
         {
          "city": "Bogota",
          "index": 157,
          "language": "Cantonese"
         },
         {
          "city": "Bogota",
          "index": 158,
          "language": "Tagalog"
         },
         {
          "city": "Bogota",
          "index": 159,
          "language": "Arabic"
         },
         {
          "city": "Bogota",
          "index": 160,
          "language": "Other"
         },
         {
          "city": "Bogota",
          "index": 161,
          "language": "English"
         },
         {
          "city": "Bogota",
          "index": 162,
          "language": "Spanish"
         },
         {
          "city": "Bogota",
          "index": 163,
          "language": "Filipino"
         },
         {
          "city": "Bogota",
          "index": 164,
          "language": "Other"
         },
         {
          "city": "Bogota",
          "index": 165,
          "language": "unspecified"
         },
         {
          "city": "Bogota",
          "index": 166,
          "language": "French"
         },
         {
          "city": "Bogota",
          "index": 167,
          "language": "Sangho"
         },
         {
          "city": "Bogota",
          "index": 168,
          "language": "tribal"
         },
         {
          "city": "Bogota",
          "index": 169,
          "language": "French"
         },
         {
          "city": "Bogota",
          "index": 170,
          "language": "Arabic"
         },
         {
          "city": "Bogota",
          "index": 171,
          "language": "Sara"
         },
         {
          "city": "Bogota",
          "index": 172,
          "language": "Other"
         },
         {
          "city": "Bogota",
          "index": 173,
          "language": "Spanish"
         },
         {
          "city": "Bogota",
          "index": 174,
          "language": "English"
         },
         {
          "city": "Bogota",
          "index": 175,
          "language": "indigenous"
         },
         {
          "city": "Bogota",
          "index": 176,
          "language": "Other"
         },
         {
          "city": "Bogota",
          "index": 177,
          "language": "unspecified"
         },
         {
          "city": "Bogota",
          "index": 178,
          "language": "Mandarin"
         },
         {
          "city": "Bogota",
          "index": 179,
          "language": "Yue"
         },
         {
          "city": "Bogota",
          "index": 180,
          "language": "Wu"
         },
         {
          "city": "Bogota",
          "index": 181,
          "language": "Minbei"
         },
         {
          "city": "Bogota",
          "index": 182,
          "language": "Minnan"
         },
         {
          "city": "Bogota",
          "index": 183,
          "language": "Xiang"
         },
         {
          "city": "Bogota",
          "index": 184,
          "language": "Gan"
         },
         {
          "city": "Bogota",
          "index": 185,
          "language": "Hakka"
         },
         {
          "city": "Bogota",
          "index": 186,
          "language": "Other"
         },
         {
          "city": "Bogota",
          "index": 187,
          "language": "English"
         },
         {
          "city": "Bogota",
          "index": 188,
          "language": "Chinese"
         },
         {
          "city": "Bogota",
          "index": 189,
          "language": "Malay"
         },
         {
          "city": "Bogota",
          "index": 190,
          "language": "Malay"
         },
         {
          "city": "Bogota",
          "index": 191,
          "language": "English"
         },
         {
          "city": "Bogota",
          "index": 192,
          "language": "Spanish"
         },
         {
          "city": "Bogota",
          "index": 193,
          "language": "Arabic"
         },
         {
          "city": "Bogota",
          "index": 194,
          "language": "French"
         },
         {
          "city": "Bogota",
          "index": 195,
          "language": "Shikomoro"
         },
         {
          "city": "Bogota",
          "index": 196,
          "language": "French"
         },
         {
          "city": "Bogota",
          "index": 197,
          "language": "Lingala"
         },
         {
          "city": "Bogota",
          "index": 198,
          "language": "Kingwana"
         },
         {
          "city": "Bogota",
          "index": 199,
          "language": "Kikongo"
         },
         {
          "city": "Bogota",
          "index": 200,
          "language": "Tshiluba"
         },
         {
          "city": "Bogota",
          "index": 201,
          "language": "French"
         },
         {
          "city": "Bogota",
          "index": 202,
          "language": "Lingala"
         },
         {
          "city": "Bogota",
          "index": 203,
          "language": "Other"
         },
         {
          "city": "Bogota",
          "index": 204,
          "language": "English"
         },
         {
          "city": "Bogota",
          "index": 205,
          "language": "Rarotongan"
         },
         {
          "city": "Bogota",
          "index": 206,
          "language": "Other"
         },
         {
          "city": "Bogota",
          "index": 207,
          "language": "Spanish"
         },
         {
          "city": "Bogota",
          "index": 208,
          "language": "English"
         },
         {
          "city": "Bogota",
          "index": 209,
          "language": "French"
         },
         {
          "city": "Bogota",
          "index": 210,
          "language": "Other"
         },
         {
          "city": "Bogota",
          "index": 211,
          "language": "Croatian"
         },
         {
          "city": "Bogota",
          "index": 212,
          "language": "Serbian"
         },
         {
          "city": "Bogota",
          "index": 213,
          "language": "Other"
         },
         {
          "city": "Bogota",
          "index": 214,
          "language": "unspecified"
         },
         {
          "city": "Bogota",
          "index": 215,
          "language": "Spanish"
         },
         {
          "city": "Bogota",
          "index": 216,
          "language": "Greek"
         },
         {
          "city": "Bogota",
          "index": 217,
          "language": "Turkish"
         },
         {
          "city": "Bogota",
          "index": 218,
          "language": "English"
         },
         {
          "city": "Bogota",
          "index": 219,
          "language": "Romanian"
         },
         {
          "city": "Bogota",
          "index": 220,
          "language": "Russian"
         },
         {
          "city": "Bogota",
          "index": 221,
          "language": "Bulgarian"
         },
         {
          "city": "Bogota",
          "index": 222,
          "language": "Arabic"
         },
         {
          "city": "Bogota",
          "index": 223,
          "language": "Filipino"
         },
         {
          "city": "Bogota",
          "index": 224,
          "language": "Other"
         },
         {
          "city": "Bogota",
          "index": 225,
          "language": "unspecified"
         },
         {
          "city": "Bogota",
          "index": 226,
          "language": "Danish"
         },
         {
          "city": "Bogota",
          "index": 227,
          "language": "Faroese"
         },
         {
          "city": "Bogota",
          "index": 228,
          "language": "Greenlandic"
         },
         {
          "city": "Bogota",
          "index": 229,
          "language": "German"
         },
         {
          "city": "Bogota",
          "index": 230,
          "language": "French"
         },
         {
          "city": "Bogota",
          "index": 231,
          "language": "Arabic"
         },
         {
          "city": "Bogota",
          "index": 232,
          "language": "Somali"
         },
         {
          "city": "Bogota",
          "index": 233,
          "language": "Afar"
         },
         {
          "city": "Bogota",
          "index": 234,
          "language": "English"
         },
         {
          "city": "Bogota",
          "index": 235,
          "language": "French patois"
         },
         {
          "city": "Bogota",
          "index": 236,
          "language": "Spanish"
         },
         {
          "city": "Bogota",
          "index": 237,
          "language": "Spanish"
         },
         {
          "city": "Bogota",
          "index": 238,
          "language": "Quechua"
         },
         {
          "city": "Bogota",
          "index": 239,
          "language": "Other"
         },
         {
          "city": "Bogota",
          "index": 240,
          "language": "foreign"
         },
         {
          "city": "Bogota",
          "index": 241,
          "language": "Arabic"
         },
         {
          "city": "Bogota",
          "index": 242,
          "language": "English"
         },
         {
          "city": "Bogota",
          "index": 243,
          "language": "Spanish"
         },
         {
          "city": "Bogota",
          "index": 244,
          "language": "Nawat"
         },
         {
          "city": "Bogota",
          "index": 245,
          "language": "Spanish"
         },
         {
          "city": "Bogota",
          "index": 246,
          "language": "Other"
         },
         {
          "city": "Bogota",
          "index": 247,
          "language": "Fang"
         },
         {
          "city": "Bogota",
          "index": 248,
          "language": "Bubi"
         },
         {
          "city": "Bogota",
          "index": 249,
          "language": "Tigrinya"
         },
         {
          "city": "Bogota",
          "index": 250,
          "language": "Arabic"
         },
         {
          "city": "Bogota",
          "index": 251,
          "language": "English"
         },
         {
          "city": "Bogota",
          "index": 252,
          "language": "Tigre"
         },
         {
          "city": "Bogota",
          "index": 253,
          "language": "Kunama"
         },
         {
          "city": "Bogota",
          "index": 254,
          "language": "Afar"
         },
         {
          "city": "Bogota",
          "index": 255,
          "language": "Other"
         },
         {
          "city": "Bogota",
          "index": 256,
          "language": "Estonian"
         },
         {
          "city": "Bogota",
          "index": 257,
          "language": "Russian"
         },
         {
          "city": "Bogota",
          "index": 258,
          "language": "Ukrainian"
         },
         {
          "city": "Bogota",
          "index": 259,
          "language": "Other"
         },
         {
          "city": "Bogota",
          "index": 260,
          "language": "unspecified"
         },
         {
          "city": "Bogota",
          "index": 261,
          "language": "Oromo"
         },
         {
          "city": "Bogota",
          "index": 262,
          "language": "Amharic"
         },
         {
          "city": "Bogota",
          "index": 263,
          "language": "Somali"
         },
         {
          "city": "Bogota",
          "index": 264,
          "language": "Tigrigna"
         },
         {
          "city": "Bogota",
          "index": 265,
          "language": "Sidamo"
         },
         {
          "city": "Bogota",
          "index": 266,
          "language": "Wolaytta"
         },
         {
          "city": "Bogota",
          "index": 267,
          "language": "Gurage"
         },
         {
          "city": "Bogota",
          "index": 268,
          "language": "Afar"
         },
         {
          "city": "Bogota",
          "index": 269,
          "language": "Hadiyya"
         },
         {
          "city": "Bogota",
          "index": 270,
          "language": "Gamo"
         },
         {
          "city": "Bogota",
          "index": 271,
          "language": "Gedeo"
         },
         {
          "city": "Bogota",
          "index": 272,
          "language": "Opuuo"
         },
         {
          "city": "Bogota",
          "index": 273,
          "language": "Kafa"
         },
         {
          "city": "Bogota",
          "index": 274,
          "language": "Other"
         },
         {
          "city": "Bogota",
          "index": 275,
          "language": "English"
         },
         {
          "city": "Bogota",
          "index": 276,
          "language": "Arabic"
         },
         {
          "city": "Bogota",
          "index": 277,
          "language": "Faroese"
         },
         {
          "city": "Bogota",
          "index": 278,
          "language": "Danish"
         },
         {
          "city": "Bogota",
          "index": 279,
          "language": "Other"
         },
         {
          "city": "Bogota",
          "index": 280,
          "language": "Finnish"
         },
         {
          "city": "Bogota",
          "index": 281,
          "language": "Swedish"
         },
         {
          "city": "Bogota",
          "index": 282,
          "language": "Russian"
         },
         {
          "city": "Bogota",
          "index": 283,
          "language": "Other"
         },
         {
          "city": "Bogota",
          "index": 284,
          "language": "French"
         },
         {
          "city": "Bogota",
          "index": 285,
          "language": "Provencal"
         },
         {
          "city": "Bogota",
          "index": 286,
          "language": "Breton"
         },
         {
          "city": "Bogota",
          "index": 287,
          "language": "Alsatian"
         },
         {
          "city": "Bogota",
          "index": 288,
          "language": "Corsican"
         },
         {
          "city": "Bogota",
          "index": 289,
          "language": "Catalan"
         },
         {
          "city": "Bogota",
          "index": 290,
          "language": "Basque"
         },
         {
          "city": "Bogota",
          "index": 291,
          "language": "Flemish"
         },
         {
          "city": "Bogota",
          "index": 292,
          "language": "Occitan"
         },
         {
          "city": "Bogota",
          "index": 293,
          "language": "Picard"
         },
         {
          "city": "Bogota",
          "index": 294,
          "language": "French"
         },
         {
          "city": "Bogota",
          "index": 295,
          "language": "Creole patois"
         },
         {
          "city": "Bogota",
          "index": 296,
          "language": "Mahorian"
         },
         {
          "city": "Bogota",
          "index": 297,
          "language": "French"
         },
         {
          "city": "Bogota",
          "index": 298,
          "language": "Polynesian"
         },
         {
          "city": "Bogota",
          "index": 299,
          "language": "Other"
         },
         {
          "city": "Bogota",
          "index": 300,
          "language": "French"
         },
         {
          "city": "Bogota",
          "index": 301,
          "language": "Fang"
         },
         {
          "city": "Bogota",
          "index": 302,
          "language": "Myene"
         },
         {
          "city": "Bogota",
          "index": 303,
          "language": "Nzebi"
         },
         {
          "city": "Bogota",
          "index": 304,
          "language": "Bapounou/Eschira"
         },
         {
          "city": "Bogota",
          "index": 305,
          "language": "Bandjabi"
         },
         {
          "city": "Bogota",
          "index": 306,
          "language": "English"
         },
         {
          "city": "Bogota",
          "index": 307,
          "language": "Mandinka"
         },
         {
          "city": "Bogota",
          "index": 308,
          "language": "Wolof"
         },
         {
          "city": "Bogota",
          "index": 309,
          "language": "Fula"
         },
         {
          "city": "Bogota",
          "index": 310,
          "language": "Other"
         },
         {
          "city": "Bogota",
          "index": 311,
          "language": "Georgian"
         },
         {
          "city": "Bogota",
          "index": 312,
          "language": "Azeri"
         },
         {
          "city": "Bogota",
          "index": 313,
          "language": "Armenian"
         },
         {
          "city": "Bogota",
          "index": 314,
          "language": "Russian"
         },
         {
          "city": "Bogota",
          "index": 315,
          "language": "Other"
         },
         {
          "city": "Bogota",
          "index": 316,
          "language": "German"
         },
         {
          "city": "Bogota",
          "index": 317,
          "language": "Asante"
         },
         {
          "city": "Bogota",
          "index": 318,
          "language": "Ewe"
         },
         {
          "city": "Bogota",
          "index": 319,
          "language": "Fante"
         },
         {
          "city": "Bogota",
          "index": 320,
          "language": "Boron"
         },
         {
          "city": "Bogota",
          "index": 321,
          "language": "Dagomba"
         },
         {
          "city": "Bogota",
          "index": 322,
          "language": "Dangme"
         },
         {
          "city": "Bogota",
          "index": 323,
          "language": "Dagarte"
         },
         {
          "city": "Bogota",
          "index": 324,
          "language": "Kokomba"
         },
         {
          "city": "Bogota",
          "index": 325,
          "language": "Akyem"
         },
         {
          "city": "Bogota",
          "index": 326,
          "language": "Ga"
         },
         {
          "city": "Bogota",
          "index": 327,
          "language": "Other"
         },
         {
          "city": "Bogota",
          "index": 328,
          "language": "English"
         },
         {
          "city": "Bogota",
          "index": 329,
          "language": "Spanish"
         },
         {
          "city": "Bogota",
          "index": 330,
          "language": "Italian"
         },
         {
          "city": "Bogota",
          "index": 331,
          "language": "Portuguese"
         },
         {
          "city": "Bogota",
          "index": 332,
          "language": "Greek"
         },
         {
          "city": "Bogota",
          "index": 333,
          "language": "Other"
         },
         {
          "city": "Bogota",
          "index": 334,
          "language": "Greenlandic"
         },
         {
          "city": "Bogota",
          "index": 335,
          "language": "Danish"
         },
         {
          "city": "Bogota",
          "index": 336,
          "language": "English"
         },
         {
          "city": "Bogota",
          "index": 337,
          "language": "English"
         },
         {
          "city": "Bogota",
          "index": 338,
          "language": "French patois"
         },
         {
          "city": "Bogota",
          "index": 339,
          "language": "English"
         },
         {
          "city": "Bogota",
          "index": 340,
          "language": "Filipino"
         },
         {
          "city": "Bogota",
          "index": 341,
          "language": "Chamorro"
         },
         {
          "city": "Bogota",
          "index": 342,
          "language": "Other Pacific Islander"
         },
         {
          "city": "Bogota",
          "index": 343,
          "language": "Asian"
         },
         {
          "city": "Bogota",
          "index": 344,
          "language": "Other"
         },
         {
          "city": "Bogota",
          "index": 345,
          "language": "Spanish"
         },
         {
          "city": "Bogota",
          "index": 346,
          "language": "Amerindian"
         },
         {
          "city": "Bogota",
          "index": 347,
          "language": "French"
         },
         {
          "city": "Bogota",
          "index": 348,
          "language": "Crioulo"
         },
         {
          "city": "Bogota",
          "index": 349,
          "language": "Portuguese"
         },
         {
          "city": "Bogota",
          "index": 350,
          "language": "Pular"
         },
         {
          "city": "Bogota",
          "index": 351,
          "language": "Mandingo"
         },
         {
          "city": "Bogota",
          "index": 352,
          "language": "English"
         },
         {
          "city": "Bogota",
          "index": 353,
          "language": "Guyanese Creole"
         },
         {
          "city": "Bogota",
          "index": 354,
          "language": "Amerindian"
         },
         {
          "city": "Bogota",
          "index": 355,
          "language": "Indian"
         },
         {
          "city": "Bogota",
          "index": 356,
          "language": "Chinese"
         },
         {
          "city": "Bogota",
          "index": 357,
          "language": "French"
         },
         {
          "city": "Bogota",
          "index": 358,
          "language": "Creole"
         },
         {
          "city": "Bogota",
          "index": 359,
          "language": "Spanish"
         },
         {
          "city": "Bogota",
          "index": 360,
          "language": "Amerindian"
         },
         {
          "city": "Bogota",
          "index": 361,
          "language": "Cantonese"
         },
         {
          "city": "Bogota",
          "index": 362,
          "language": "English"
         },
         {
          "city": "Bogota",
          "index": 363,
          "language": "Mandarin"
         },
         {
          "city": "Bogota",
          "index": 364,
          "language": "Other Chinese"
         },
         {
          "city": "Bogota",
          "index": 365,
          "language": "Other"
         },
         {
          "city": "Bogota",
          "index": 366,
          "language": "Hungarian"
         },
         {
          "city": "Bogota",
          "index": 367,
          "language": "English"
         },
         {
          "city": "Bogota",
          "index": 368,
          "language": "German"
         },
         {
          "city": "Bogota",
          "index": 369,
          "language": "Russian"
         },
         {
          "city": "Bogota",
          "index": 370,
          "language": "Romanian"
         },
         {
          "city": "Bogota",
          "index": 371,
          "language": "French"
         },
         {
          "city": "Bogota",
          "index": 372,
          "language": "Other"
         },
         {
          "city": "Bogota",
          "index": 373,
          "language": "Icelandic"
         },
         {
          "city": "Bogota",
          "index": 374,
          "language": "English"
         },
         {
          "city": "Bogota",
          "index": 375,
          "language": "Nordic"
         },
         {
          "city": "Bogota",
          "index": 376,
          "language": "German"
         },
         {
          "city": "Bogota",
          "index": 377,
          "language": "Hindi"
         },
         {
          "city": "Bogota",
          "index": 378,
          "language": "Bengali"
         },
         {
          "city": "Bogota",
          "index": 379,
          "language": "Telugu"
         },
         {
          "city": "Bogota",
          "index": 380,
          "language": "Marathi"
         },
         {
          "city": "Bogota",
          "index": 381,
          "language": "Tamil"
         },
         {
          "city": "Bogota",
          "index": 382,
          "language": "Urdu"
         },
         {
          "city": "Bogota",
          "index": 383,
          "language": "Gujarati"
         },
         {
          "city": "Bogota",
          "index": 384,
          "language": "Kannada"
         },
         {
          "city": "Bogota",
          "index": 385,
          "language": "Malayalam"
         },
         {
          "city": "Bogota",
          "index": 386,
          "language": "Oriya"
         },
         {
          "city": "Bogota",
          "index": 387,
          "language": "Punjabi"
         },
         {
          "city": "Bogota",
          "index": 388,
          "language": "Assamese"
         },
         {
          "city": "Bogota",
          "index": 389,
          "language": "Maithili"
         },
         {
          "city": "Bogota",
          "index": 390,
          "language": "Other"
         },
         {
          "city": "Bogota",
          "index": 391,
          "language": "Bahasa"
         },
         {
          "city": "Bogota",
          "index": 392,
          "language": "English"
         },
         {
          "city": "Bogota",
          "index": 393,
          "language": "Dutch"
         },
         {
          "city": "Bogota",
          "index": 394,
          "language": "Other"
         },
         {
          "city": "Bogota",
          "index": 395,
          "language": "Persian"
         },
         {
          "city": "Bogota",
          "index": 396,
          "language": "Turkic"
         },
         {
          "city": "Bogota",
          "index": 397,
          "language": "Kurdish"
         },
         {
          "city": "Bogota",
          "index": 398,
          "language": "Gilaki and Mazandarani"
         },
         {
          "city": "Bogota",
          "index": 399,
          "language": "Luri"
         },
         {
          "city": "Bogota",
          "index": 400,
          "language": "Balochi"
         },
         {
          "city": "Bogota",
          "index": 401,
          "language": "Arabic"
         },
         {
          "city": "Bogota",
          "index": 402,
          "language": "Other"
         },
         {
          "city": "Bogota",
          "index": 403,
          "language": "Arabic"
         },
         {
          "city": "Bogota",
          "index": 404,
          "language": "Kurdish"
         },
         {
          "city": "Bogota",
          "index": 405,
          "language": "Turkmen"
         },
         {
          "city": "Bogota",
          "index": 406,
          "language": "Syriac"
         },
         {
          "city": "Bogota",
          "index": 407,
          "language": "Armenian"
         },
         {
          "city": "Bogota",
          "index": 408,
          "language": "English"
         },
         {
          "city": "Bogota",
          "index": 409,
          "language": "Irish"
         },
         {
          "city": "Bogota",
          "index": 410,
          "language": "Hebrew"
         },
         {
          "city": "Bogota",
          "index": 411,
          "language": "Arabic"
         },
         {
          "city": "Bogota",
          "index": 412,
          "language": "English"
         },
         {
          "city": "Bogota",
          "index": 413,
          "language": "Italian"
         },
         {
          "city": "Bogota",
          "index": 414,
          "language": "German"
         },
         {
          "city": "Bogota",
          "index": 415,
          "language": "French"
         },
         {
          "city": "Bogota",
          "index": 416,
          "language": "Slovene"
         },
         {
          "city": "Bogota",
          "index": 417,
          "language": "English"
         },
         {
          "city": "Bogota",
          "index": 418,
          "language": "English patois"
         },
         {
          "city": "Bogota",
          "index": 419,
          "language": "Japanese"
         },
         {
          "city": "Bogota",
          "index": 420,
          "language": "Arabic"
         },
         {
          "city": "Bogota",
          "index": 421,
          "language": "English"
         },
         {
          "city": "Bogota",
          "index": 422,
          "language": "Kazakh"
         },
         {
          "city": "Bogota",
          "index": 423,
          "language": "Russian"
         },
         {
          "city": "Bogota",
          "index": 424,
          "language": "English"
         },
         {
          "city": "Bogota",
          "index": 425,
          "language": "Kiswahili"
         },
         {
          "city": "Bogota",
          "index": 426,
          "language": "Other"
         },
         {
          "city": "Bogota",
          "index": 427,
          "language": "Kiribati"
         },
         {
          "city": "Bogota",
          "index": 428,
          "language": "English"
         },
         {
          "city": "Bogota",
          "index": 429,
          "language": "Korean"
         },
         {
          "city": "Bogota",
          "index": 430,
          "language": "Korean"
         },
         {
          "city": "Bogota",
          "index": 431,
          "language": "English"
         },
         {
          "city": "Bogota",
          "index": 432,
          "language": "Arabic"
         },
         {
          "city": "Bogota",
          "index": 433,
          "language": "English"
         },
         {
          "city": "Bogota",
          "index": 434,
          "language": "Kyrgyz"
         },
         {
          "city": "Bogota",
          "index": 435,
          "language": "Uzbek"
         },
         {
          "city": "Bogota",
          "index": 436,
          "language": "Russian"
         },
         {
          "city": "Bogota",
          "index": 437,
          "language": "Other"
         },
         {
          "city": "Bogota",
          "index": 438,
          "language": "Lao"
         },
         {
          "city": "Bogota",
          "index": 439,
          "language": "French"
         },
         {
          "city": "Bogota",
          "index": 440,
          "language": "English"
         },
         {
          "city": "Bogota",
          "index": 441,
          "language": "Other"
         },
         {
          "city": "Bogota",
          "index": 442,
          "language": "Latvian"
         },
         {
          "city": "Bogota",
          "index": 443,
          "language": "Russian"
         },
         {
          "city": "Bogota",
          "index": 444,
          "language": "Other"
         },
         {
          "city": "Bogota",
          "index": 445,
          "language": "unspecified"
         },
         {
          "city": "Bogota",
          "index": 446,
          "language": "Arabic"
         },
         {
          "city": "Bogota",
          "index": 447,
          "language": "French"
         },
         {
          "city": "Bogota",
          "index": 448,
          "language": "English"
         },
         {
          "city": "Bogota",
          "index": 449,
          "language": "Armenian"
         },
         {
          "city": "Bogota",
          "index": 450,
          "language": "Sesotho"
         },
         {
          "city": "Bogota",
          "index": 451,
          "language": "English"
         },
         {
          "city": "Bogota",
          "index": 452,
          "language": "Zulu"
         },
         {
          "city": "Bogota",
          "index": 453,
          "language": "Xhosa"
         },
         {
          "city": "Bogota",
          "index": 454,
          "language": "English"
         },
         {
          "city": "Bogota",
          "index": 455,
          "language": "Other"
         },
         {
          "city": "Bogota",
          "index": 456,
          "language": "Arabic"
         },
         {
          "city": "Bogota",
          "index": 457,
          "language": "Italian"
         },
         {
          "city": "Bogota",
          "index": 458,
          "language": "English"
         },
         {
          "city": "Bogota",
          "index": 459,
          "language": "Berber"
         },
         {
          "city": "Bogota",
          "index": 460,
          "language": "German"
         },
         {
          "city": "Bogota",
          "index": 461,
          "language": "Italian"
         },
         {
          "city": "Bogota",
          "index": 462,
          "language": "Other"
         },
         {
          "city": "Bogota",
          "index": 463,
          "language": "Lithuanian"
         },
         {
          "city": "Bogota",
          "index": 464,
          "language": "Russian"
         },
         {
          "city": "Bogota",
          "index": 465,
          "language": "Polish"
         },
         {
          "city": "Bogota",
          "index": 466,
          "language": "Other"
         },
         {
          "city": "Bogota",
          "index": 467,
          "language": "unspecified"
         },
         {
          "city": "Bogota",
          "index": 468,
          "language": "Luxembourgish"
         },
         {
          "city": "Bogota",
          "index": 469,
          "language": "French"
         },
         {
          "city": "Bogota",
          "index": 470,
          "language": "Portuguese"
         },
         {
          "city": "Bogota",
          "index": 471,
          "language": "German"
         },
         {
          "city": "Bogota",
          "index": 472,
          "language": "Other"
         },
         {
          "city": "Bogota",
          "index": 473,
          "language": "Macedonian"
         },
         {
          "city": "Bogota",
          "index": 474,
          "language": "Albanian"
         },
         {
          "city": "Bogota",
          "index": 475,
          "language": "Turkish"
         },
         {
          "city": "Bogota",
          "index": 476,
          "language": "Romani"
         },
         {
          "city": "Bogota",
          "index": 477,
          "language": "Serbian"
         },
         {
          "city": "Bogota",
          "index": 478,
          "language": "Other"
         },
         {
          "city": "Bogota",
          "index": 479,
          "language": "French"
         },
         {
          "city": "Bogota",
          "index": 480,
          "language": "Malagasy"
         },
         {
          "city": "Bogota",
          "index": 481,
          "language": "English"
         },
         {
          "city": "Bogota",
          "index": 482,
          "language": "English"
         },
         {
          "city": "Bogota",
          "index": 483,
          "language": "Chichewa"
         },
         {
          "city": "Bogota",
          "index": 484,
          "language": "Chinyanja"
         },
         {
          "city": "Bogota",
          "index": 485,
          "language": "Chiyao"
         },
         {
          "city": "Bogota",
          "index": 486,
          "language": "Chitumbuka"
         },
         {
          "city": "Bogota",
          "index": 487,
          "language": "Chilomwe"
         },
         {
          "city": "Bogota",
          "index": 488,
          "language": "Chinkhonde"
         },
         {
          "city": "Bogota",
          "index": 489,
          "language": "Chingoni"
         },
         {
          "city": "Bogota",
          "index": 490,
          "language": "Chisena"
         },
         {
          "city": "Bogota",
          "index": 491,
          "language": "Chitonga"
         },
         {
          "city": "Bogota",
          "index": 492,
          "language": "Chinyakyusa"
         },
         {
          "city": "Bogota",
          "index": 493,
          "language": "Chilambya"
         },
         {
          "city": "Bogota",
          "index": 494,
          "language": "Bahasa Malaysia"
         },
         {
          "city": "Bogota",
          "index": 495,
          "language": "English"
         },
         {
          "city": "Bogota",
          "index": 496,
          "language": "Chinese"
         },
         {
          "city": "Bogota",
          "index": 497,
          "language": "Tamil"
         },
         {
          "city": "Bogota",
          "index": 498,
          "language": "Telugu"
         },
         {
          "city": "Bogota",
          "index": 499,
          "language": "Malayalam"
         },
         {
          "city": "Bogota",
          "index": 500,
          "language": "Panjabi"
         },
         {
          "city": "Bogota",
          "index": 501,
          "language": "Thai"
         },
         {
          "city": "Bogota",
          "index": 502,
          "language": "Dhivehi"
         },
         {
          "city": "Bogota",
          "index": 503,
          "language": "English"
         },
         {
          "city": "Bogota",
          "index": 504,
          "language": "French"
         },
         {
          "city": "Bogota",
          "index": 505,
          "language": "Bambara"
         },
         {
          "city": "Bogota",
          "index": 506,
          "language": "Peul/Foulfoulbe"
         },
         {
          "city": "Bogota",
          "index": 507,
          "language": "Dogon"
         },
         {
          "city": "Bogota",
          "index": 508,
          "language": "Maraka/Soninke"
         },
         {
          "city": "Bogota",
          "index": 509,
          "language": "Malinke"
         },
         {
          "city": "Bogota",
          "index": 510,
          "language": "Sonrhai/Djerma"
         },
         {
          "city": "Bogota",
          "index": 511,
          "language": "Minianka"
         },
         {
          "city": "Bogota",
          "index": 512,
          "language": "Tamacheq"
         },
         {
          "city": "Bogota",
          "index": 513,
          "language": "Senoufo"
         },
         {
          "city": "Bogota",
          "index": 514,
          "language": "Bobo"
         },
         {
          "city": "Bogota",
          "index": 515,
          "language": "unspecified"
         },
         {
          "city": "Bogota",
          "index": 516,
          "language": "Other"
         },
         {
          "city": "Bogota",
          "index": 517,
          "language": "Maltese"
         },
         {
          "city": "Bogota",
          "index": 518,
          "language": "English"
         },
         {
          "city": "Bogota",
          "index": 519,
          "language": "multilingual"
         },
         {
          "city": "Bogota",
          "index": 520,
          "language": "Other"
         },
         {
          "city": "Bogota",
          "index": 521,
          "language": "Marshallese"
         },
         {
          "city": "Bogota",
          "index": 522,
          "language": "Other"
         },
         {
          "city": "Bogota",
          "index": 523,
          "language": "Arabic"
         },
         {
          "city": "Bogota",
          "index": 524,
          "language": "Pular"
         },
         {
          "city": "Bogota",
          "index": 525,
          "language": "Soninke"
         },
         {
          "city": "Bogota",
          "index": 526,
          "language": "Wolof"
         },
         {
          "city": "Bogota",
          "index": 527,
          "language": "French"
         },
         {
          "city": "Bogota",
          "index": 528,
          "language": "Creole"
         },
         {
          "city": "Bogota",
          "index": 529,
          "language": "Bhojpuri"
         },
         {
          "city": "Bogota",
          "index": 530,
          "language": "French"
         },
         {
          "city": "Bogota",
          "index": 531,
          "language": "Other"
         },
         {
          "city": "Bogota",
          "index": 532,
          "language": "unspecified"
         },
         {
          "city": "Bogota",
          "index": 533,
          "language": "Spanish"
         },
         {
          "city": "Bogota",
          "index": 534,
          "language": "indigenous"
         },
         {
          "city": "Bogota",
          "index": 535,
          "language": "unspecified"
         },
         {
          "city": "Bogota",
          "index": 536,
          "language": "English"
         },
         {
          "city": "Bogota",
          "index": 537,
          "language": "Chuukese"
         },
         {
          "city": "Bogota",
          "index": 538,
          "language": "Kosrean"
         },
         {
          "city": "Bogota",
          "index": 539,
          "language": "Pohnpeian"
         },
         {
          "city": "Bogota",
          "index": 540,
          "language": "Yapese"
         },
         {
          "city": "Bogota",
          "index": 541,
          "language": "Ulithian"
         },
         {
          "city": "Bogota",
          "index": 542,
          "language": "Woleaian"
         },
         {
          "city": "Bogota",
          "index": 543,
          "language": "Nukuoro"
         },
         {
          "city": "Bogota",
          "index": 544,
          "language": "Kapingamarangi"
         },
         {
          "city": "Bogota",
          "index": 545,
          "language": "Romanian"
         },
         {
          "city": "Bogota",
          "index": 546,
          "language": "Russian"
         },
         {
          "city": "Bogota",
          "index": 547,
          "language": "Gagauz"
         },
         {
          "city": "Bogota",
          "index": 548,
          "language": "Ukrainian"
         },
         {
          "city": "Bogota",
          "index": 549,
          "language": "Bulgarian"
         },
         {
          "city": "Bogota",
          "index": 550,
          "language": "Romani"
         },
         {
          "city": "Bogota",
          "index": 551,
          "language": "Other"
         },
         {
          "city": "Bogota",
          "index": 552,
          "language": "French"
         },
         {
          "city": "Bogota",
          "index": 553,
          "language": "English"
         },
         {
          "city": "Bogota",
          "index": 554,
          "language": "Italian"
         },
         {
          "city": "Bogota",
          "index": 555,
          "language": "Monegasque"
         },
         {
          "city": "Bogota",
          "index": 556,
          "language": "Mongolian"
         },
         {
          "city": "Bogota",
          "index": 557,
          "language": "Turkic"
         },
         {
          "city": "Bogota",
          "index": 558,
          "language": "Russian"
         },
         {
          "city": "Bogota",
          "index": 559,
          "language": "English"
         },
         {
          "city": "Bogota",
          "index": 560,
          "language": "Arabic"
         },
         {
          "city": "Bogota",
          "index": 561,
          "language": "Berber"
         },
         {
          "city": "Bogota",
          "index": 562,
          "language": "Tachelhit"
         },
         {
          "city": "Bogota",
          "index": 563,
          "language": "Tarifit"
         },
         {
          "city": "Bogota",
          "index": 564,
          "language": "French"
         },
         {
          "city": "Bogota",
          "index": 565,
          "language": "government"
         },
         {
          "city": "Bogota",
          "index": 566,
          "language": "and"
         },
         {
          "city": "Bogota",
          "index": 567,
          "language": "Emakhuwa"
         },
         {
          "city": "Bogota",
          "index": 568,
          "language": "Portuguese"
         },
         {
          "city": "Bogota",
          "index": 569,
          "language": "Xichangana"
         },
         {
          "city": "Bogota",
          "index": 570,
          "language": "Cisena"
         },
         {
          "city": "Bogota",
          "index": 571,
          "language": "Elomwe"
         },
         {
          "city": "Bogota",
          "index": 572,
          "language": "Echuwabo"
         },
         {
          "city": "Bogota",
          "index": 573,
          "language": "Other"
         },
         {
          "city": "Bogota",
          "index": 574,
          "language": "unspecified"
         },
         {
          "city": "Bogota",
          "index": 575,
          "language": "Oshivambo"
         },
         {
          "city": "Bogota",
          "index": 576,
          "language": "Nama"
         },
         {
          "city": "Bogota",
          "index": 577,
          "language": "Afrikaans"
         },
         {
          "city": "Bogota",
          "index": 578,
          "language": "Otjiherero"
         },
         {
          "city": "Bogota",
          "index": 579,
          "language": "Kavango"
         },
         {
          "city": "Bogota",
          "index": 580,
          "language": "Caprivi"
         },
         {
          "city": "Bogota",
          "index": 581,
          "language": "English"
         },
         {
          "city": "Bogota",
          "index": 582,
          "language": "Other"
         },
         {
          "city": "Bogota",
          "index": 583,
          "language": "Other"
         },
         {
          "city": "Bogota",
          "index": 584,
          "language": "Nauruan"
         },
         {
          "city": "Bogota",
          "index": 585,
          "language": "English"
         },
         {
          "city": "Bogota",
          "index": 586,
          "language": "Other"
         },
         {
          "city": "Bogota",
          "index": 587,
          "language": "Nepali"
         },
         {
          "city": "Bogota",
          "index": 588,
          "language": "Maithali"
         },
         {
          "city": "Bogota",
          "index": 589,
          "language": "Bhojpuri"
         },
         {
          "city": "Bogota",
          "index": 590,
          "language": "Tharu"
         },
         {
          "city": "Bogota",
          "index": 591,
          "language": "Tamang"
         },
         {
          "city": "Bogota",
          "index": 592,
          "language": "Newar"
         },
         {
          "city": "Bogota",
          "index": 593,
          "language": "Magar"
         },
         {
          "city": "Bogota",
          "index": 594,
          "language": "Bajjika"
         },
         {
          "city": "Bogota",
          "index": 595,
          "language": "Urdu"
         },
         {
          "city": "Bogota",
          "index": 596,
          "language": "Avadhi"
         },
         {
          "city": "Bogota",
          "index": 597,
          "language": "Limbu"
         },
         {
          "city": "Bogota",
          "index": 598,
          "language": "Gurung"
         },
         {
          "city": "Bogota",
          "index": 599,
          "language": "Other"
         },
         {
          "city": "Bogota",
          "index": 600,
          "language": "unspecified"
         },
         {
          "city": "Bogota",
          "index": 601,
          "language": "Dutch"
         },
         {
          "city": "Bogota",
          "index": 602,
          "language": "French"
         },
         {
          "city": "Bogota",
          "index": 603,
          "language": "Other"
         },
         {
          "city": "Bogota",
          "index": 604,
          "language": "English"
         },
         {
          "city": "Bogota",
          "index": 605,
          "language": "Maori"
         },
         {
          "city": "Bogota",
          "index": 606,
          "language": "Samoan"
         },
         {
          "city": "Bogota",
          "index": 607,
          "language": "Hindi"
         },
         {
          "city": "Bogota",
          "index": 608,
          "language": "French"
         },
         {
          "city": "Bogota",
          "index": 609,
          "language": "Northern Chinese"
         },
         {
          "city": "Bogota",
          "index": 610,
          "language": "Yue"
         },
         {
          "city": "Bogota",
          "index": 611,
          "language": "Other"
         },
         {
          "city": "Bogota",
          "index": 612,
          "language": "New Zealand Sign"
         },
         {
          "city": "Bogota",
          "index": 613,
          "language": "Spanish"
         },
         {
          "city": "Bogota",
          "index": 614,
          "language": "Miskito"
         },
         {
          "city": "Bogota",
          "index": 615,
          "language": "Mestizo"
         },
         {
          "city": "Bogota",
          "index": 616,
          "language": "Other"
         },
         {
          "city": "Bogota",
          "index": 617,
          "language": "French"
         },
         {
          "city": "Bogota",
          "index": 618,
          "language": "Hausa"
         },
         {
          "city": "Bogota",
          "index": 619,
          "language": "Djerma"
         },
         {
          "city": "Bogota",
          "index": 620,
          "language": "English"
         },
         {
          "city": "Bogota",
          "index": 621,
          "language": "Hausa"
         },
         {
          "city": "Bogota",
          "index": 622,
          "language": "Yoruba"
         },
         {
          "city": "Bogota",
          "index": 623,
          "language": "Igbo"
         },
         {
          "city": "Bogota",
          "index": 624,
          "language": "Fulani"
         },
         {
          "city": "Bogota",
          "index": 625,
          "language": "Other"
         },
         {
          "city": "Bogota",
          "index": 626,
          "language": "Niuean"
         },
         {
          "city": "Bogota",
          "index": 627,
          "language": "Niuean"
         },
         {
          "city": "Bogota",
          "index": 628,
          "language": "English"
         },
         {
          "city": "Bogota",
          "index": 629,
          "language": "Niuean"
         },
         {
          "city": "Bogota",
          "index": 630,
          "language": "Other"
         },
         {
          "city": "Bogota",
          "index": 631,
          "language": "English"
         },
         {
          "city": "Bogota",
          "index": 632,
          "language": "Other"
         },
         {
          "city": "Bogota",
          "index": 633,
          "language": "Philippine"
         },
         {
          "city": "Bogota",
          "index": 634,
          "language": "Chamorro"
         },
         {
          "city": "Bogota",
          "index": 635,
          "language": "English"
         },
         {
          "city": "Bogota",
          "index": 636,
          "language": "Other Pacific Island"
         },
         {
          "city": "Bogota",
          "index": 637,
          "language": "Chinese"
         },
         {
          "city": "Bogota",
          "index": 638,
          "language": "Other Asian"
         },
         {
          "city": "Bogota",
          "index": 639,
          "language": "Other"
         },
         {
          "city": "Bogota",
          "index": 640,
          "language": "Bokmal"
         },
         {
          "city": "Bogota",
          "index": 641,
          "language": "Nynorsk"
         },
         {
          "city": "Bogota",
          "index": 642,
          "language": "Other"
         },
         {
          "city": "Bogota",
          "index": 643,
          "language": "Arabic"
         },
         {
          "city": "Bogota",
          "index": 644,
          "language": "English"
         },
         {
          "city": "Bogota",
          "index": 645,
          "language": "Baluchi"
         },
         {
          "city": "Bogota",
          "index": 646,
          "language": "Urdu"
         },
         {
          "city": "Bogota",
          "index": 647,
          "language": "Indian"
         },
         {
          "city": "Bogota",
          "index": 648,
          "language": "Punjabi"
         },
         {
          "city": "Bogota",
          "index": 649,
          "language": "Sindhi"
         },
         {
          "city": "Bogota",
          "index": 650,
          "language": "Saraiki"
         },
         {
          "city": "Bogota",
          "index": 651,
          "language": "Pashto"
         },
         {
          "city": "Bogota",
          "index": 652,
          "language": "Urdu"
         },
         {
          "city": "Bogota",
          "index": 653,
          "language": "Balochi"
         },
         {
          "city": "Bogota",
          "index": 654,
          "language": "Hindko"
         },
         {
          "city": "Bogota",
          "index": 655,
          "language": "Brahui"
         },
         {
          "city": "Bogota",
          "index": 656,
          "language": "English"
         },
         {
          "city": "Bogota",
          "index": 657,
          "language": "Burushaski"
         },
         {
          "city": "Bogota",
          "index": 658,
          "language": "Other"
         },
         {
          "city": "Bogota",
          "index": 659,
          "language": "Palauan"
         },
         {
          "city": "Bogota",
          "index": 660,
          "language": "Other"
         },
         {
          "city": "Bogota",
          "index": 661,
          "language": "English"
         },
         {
          "city": "Bogota",
          "index": 662,
          "language": "Filipino"
         },
         {
          "city": "Bogota",
          "index": 663,
          "language": "Chinese"
         },
         {
          "city": "Bogota",
          "index": 664,
          "language": "Other"
         },
         {
          "city": "Bogota",
          "index": 665,
          "language": "Spanish"
         },
         {
          "city": "Bogota",
          "index": 666,
          "language": "indigenous"
         },
         {
          "city": "Bogota",
          "index": 667,
          "language": "Panamanian English Creole"
         },
         {
          "city": "Bogota",
          "index": 668,
          "language": "English"
         },
         {
          "city": "Bogota",
          "index": 669,
          "language": "Chinese"
         },
         {
          "city": "Bogota",
          "index": 670,
          "language": "Arabic"
         },
         {
          "city": "Bogota",
          "index": 671,
          "language": "French"
         },
         {
          "city": "Bogota",
          "index": 672,
          "language": "Other"
         },
         {
          "city": "Bogota",
          "index": 673,
          "language": "Hebrew"
         },
         {
          "city": "Bogota",
          "index": 674,
          "language": "Korean"
         },
         {
          "city": "Bogota",
          "index": 675,
          "language": "Japanese"
         },
         {
          "city": "Bogota",
          "index": 676,
          "language": "Tok Pisin"
         },
         {
          "city": "Bogota",
          "index": 677,
          "language": "English"
         },
         {
          "city": "Bogota",
          "index": 678,
          "language": "Hiri"
         },
         {
          "city": "Bogota",
          "index": 679,
          "language": "Other"
         },
         {
          "city": "Bogota",
          "index": 680,
          "language": "Spanish"
         },
         {
          "city": "Bogota",
          "index": 681,
          "language": "Guarani"
         },
         {
          "city": "Bogota",
          "index": 682,
          "language": "Spanish"
         },
         {
          "city": "Bogota",
          "index": 683,
          "language": "Quechua"
         },
         {
          "city": "Bogota",
          "index": 684,
          "language": "Aymara"
         },
         {
          "city": "Bogota",
          "index": 685,
          "language": "Ashaninka"
         },
         {
          "city": "Bogota",
          "index": 686,
          "language": "Other Native"
         },
         {
          "city": "Bogota",
          "index": 687,
          "language": "Other"
         },
         {
          "city": "Bogota",
          "index": 688,
          "language": "Filipino"
         },
         {
          "city": "Bogota",
          "index": 689,
          "language": "English"
         },
         {
          "city": "Bogota",
          "index": 690,
          "language": "Other"
         },
         {
          "city": "Bogota",
          "index": 691,
          "language": "Polish"
         },
         {
          "city": "Bogota",
          "index": 692,
          "language": "Silesian"
         },
         {
          "city": "Bogota",
          "index": 693,
          "language": "Other"
         },
         {
          "city": "Bogota",
          "index": 694,
          "language": "unspecified"
         },
         {
          "city": "Bogota",
          "index": 695,
          "language": "Portuguese"
         },
         {
          "city": "Bogota",
          "index": 696,
          "language": "Mirandese"
         },
         {
          "city": "Bogota",
          "index": 697,
          "language": "Spanish"
         },
         {
          "city": "Bogota",
          "index": 698,
          "language": "English"
         },
         {
          "city": "Bogota",
          "index": 699,
          "language": "Arabic"
         },
         {
          "city": "Bogota",
          "index": 700,
          "language": "English"
         },
         {
          "city": "Bogota",
          "index": 701,
          "language": "Romanian"
         },
         {
          "city": "Bogota",
          "index": 702,
          "language": "Hungarian"
         },
         {
          "city": "Bogota",
          "index": 703,
          "language": "Romani"
         },
         {
          "city": "Bogota",
          "index": 704,
          "language": "Other"
         },
         {
          "city": "Bogota",
          "index": 705,
          "language": "unspecified"
         },
         {
          "city": "Bogota",
          "index": 706,
          "language": "Russian"
         },
         {
          "city": "Bogota",
          "index": 707,
          "language": "Tatar"
         },
         {
          "city": "Bogota",
          "index": 708,
          "language": "Chechen"
         },
         {
          "city": "Bogota",
          "index": 709,
          "language": "Other"
         },
         {
          "city": "Bogota",
          "index": 710,
          "language": "Kinyarwanda"
         },
         {
          "city": "Bogota",
          "index": 711,
          "language": "French"
         },
         {
          "city": "Bogota",
          "index": 712,
          "language": "English"
         },
         {
          "city": "Bogota",
          "index": 713,
          "language": "Swahili"
         },
         {
          "city": "Bogota",
          "index": 714,
          "language": "Other"
         },
         {
          "city": "Bogota",
          "index": 715,
          "language": "unspecified"
         },
         {
          "city": "Bogota",
          "index": 716,
          "language": "English"
         },
         {
          "city": "Bogota",
          "index": 717,
          "language": "English"
         },
         {
          "city": "Bogota",
          "index": 718,
          "language": "French patois"
         },
         {
          "city": "Bogota",
          "index": 719,
          "language": "French"
         },
         {
          "city": "Bogota",
          "index": 720,
          "language": "English"
         },
         {
          "city": "Bogota",
          "index": 721,
          "language": "French patois"
         },
         {
          "city": "Bogota",
          "index": 722,
          "language": "Samoan"
         },
         {
          "city": "Bogota",
          "index": 723,
          "language": "English"
         },
         {
          "city": "Bogota",
          "index": 724,
          "language": "Italian"
         },
         {
          "city": "Bogota",
          "index": 725,
          "language": "Portuguese"
         },
         {
          "city": "Bogota",
          "index": 726,
          "language": "Forro"
         },
         {
          "city": "Bogota",
          "index": 727,
          "language": "Cabo"
         },
         {
          "city": "Bogota",
          "index": 728,
          "language": "French"
         },
         {
          "city": "Bogota",
          "index": 729,
          "language": "Angolar"
         },
         {
          "city": "Bogota",
          "index": 730,
          "language": "English"
         },
         {
          "city": "Bogota",
          "index": 731,
          "language": "Lunguie"
         },
         {
          "city": "Bogota",
          "index": 732,
          "language": "Other"
         },
         {
          "city": "Bogota",
          "index": 733,
          "language": "Arabic"
         },
         {
          "city": "Bogota",
          "index": 734,
          "language": "French"
         },
         {
          "city": "Bogota",
          "index": 735,
          "language": "Wolof"
         },
         {
          "city": "Bogota",
          "index": 736,
          "language": "Pular"
         },
         {
          "city": "Bogota",
          "index": 737,
          "language": "Jola"
         },
         {
          "city": "Bogota",
          "index": 738,
          "language": "Mandinka"
         },
         {
          "city": "Bogota",
          "index": 739,
          "language": "Serer"
         },
         {
          "city": "Bogota",
          "index": 740,
          "language": "Soninke"
         },
         {
          "city": "Bogota",
          "index": 741,
          "language": "Seychellois"
         },
         {
          "city": "Bogota",
          "index": 742,
          "language": "English"
         },
         {
          "city": "Bogota",
          "index": 743,
          "language": "French"
         },
         {
          "city": "Bogota",
          "index": 744,
          "language": "Other"
         },
         {
          "city": "Bogota",
          "index": 745,
          "language": "unspecified"
         },
         {
          "city": "Bogota",
          "index": 746,
          "language": "English"
         },
         {
          "city": "Bogota",
          "index": 747,
          "language": "Mende"
         },
         {
          "city": "Bogota",
          "index": 748,
          "language": "Temne"
         },
         {
          "city": "Bogota",
          "index": 749,
          "language": "Krio"
         },
         {
          "city": "Bogota",
          "index": 750,
          "language": "Mandarin"
         },
         {
          "city": "Bogota",
          "index": 751,
          "language": "English"
         },
         {
          "city": "Bogota",
          "index": 752,
          "language": "Malay"
         },
         {
          "city": "Bogota",
          "index": 753,
          "language": "Hokkien"
         },
         {
          "city": "Bogota",
          "index": 754,
          "language": "Cantonese"
         },
         {
          "city": "Bogota",
          "index": 755,
          "language": "Tamil"
         },
         {
          "city": "Bogota",
          "index": 756,
          "language": "Teochew"
         },
         {
          "city": "Bogota",
          "index": 757,
          "language": "Other Indian"
         },
         {
          "city": "Bogota",
          "index": 758,
          "language": "Other Chinese"
         },
         {
          "city": "Bogota",
          "index": 759,
          "language": "Other"
         },
         {
          "city": "Bogota",
          "index": 760,
          "language": "Slovak"
         },
         {
          "city": "Bogota",
          "index": 761,
          "language": "Hungarian"
         },
         {
          "city": "Bogota",
          "index": 762,
          "language": "Roma"
         },
         {
          "city": "Bogota",
          "index": 763,
          "language": "Ruthenian"
         },
         {
          "city": "Bogota",
          "index": 764,
          "language": "Other"
         },
         {
          "city": "Bogota",
          "index": 765,
          "language": "Slovenian"
         },
         {
          "city": "Bogota",
          "index": 766,
          "language": "Serbo"
         },
         {
          "city": "Bogota",
          "index": 767,
          "language": "Other"
         },
         {
          "city": "Bogota",
          "index": 768,
          "language": "Italian"
         },
         {
          "city": "Bogota",
          "index": 769,
          "language": "Hungarian"
         },
         {
          "city": "Bogota",
          "index": 770,
          "language": "Melanesian pidgin"
         },
         {
          "city": "Bogota",
          "index": 771,
          "language": "English"
         },
         {
          "city": "Bogota",
          "index": 772,
          "language": "indigenous"
         },
         {
          "city": "Bogota",
          "index": 773,
          "language": "Somali"
         },
         {
          "city": "Bogota",
          "index": 774,
          "language": "Arabic"
         },
         {
          "city": "Bogota",
          "index": 775,
          "language": "Italian"
         },
         {
          "city": "Bogota",
          "index": 776,
          "language": "English"
         },
         {
          "city": "Bogota",
          "index": 777,
          "language": "IsiZulu"
         },
         {
          "city": "Bogota",
          "index": 778,
          "language": "IsiXhosa"
         },
         {
          "city": "Bogota",
          "index": 779,
          "language": "Afrikaans"
         },
         {
          "city": "Bogota",
          "index": 780,
          "language": "English"
         },
         {
          "city": "Bogota",
          "index": 781,
          "language": "Sepedi"
         },
         {
          "city": "Bogota",
          "index": 782,
          "language": "Setswana"
         },
         {
          "city": "Bogota",
          "index": 783,
          "language": "Sesotho"
         },
         {
          "city": "Bogota",
          "index": 784,
          "language": "Xitsonga"
         },
         {
          "city": "Bogota",
          "index": 785,
          "language": "siSwati"
         },
         {
          "city": "Bogota",
          "index": 786,
          "language": "Tshivenda"
         },
         {
          "city": "Bogota",
          "index": 787,
          "language": "isiNdebele"
         },
         {
          "city": "Bogota",
          "index": 788,
          "language": "sign"
         },
         {
          "city": "Bogota",
          "index": 789,
          "language": "Other"
         },
         {
          "city": "Bogota",
          "index": 790,
          "language": "Castilian Spanish"
         },
         {
          "city": "Bogota",
          "index": 791,
          "language": "Catalan"
         },
         {
          "city": "Bogota",
          "index": 792,
          "language": "Galician"
         },
         {
          "city": "Bogota",
          "index": 793,
          "language": "Basque"
         },
         {
          "city": "Bogota",
          "index": 794,
          "language": "Aranese"
         },
         {
          "city": "Bogota",
          "index": 795,
          "language": "Sinhala"
         },
         {
          "city": "Bogota",
          "index": 796,
          "language": "Tamil"
         },
         {
          "city": "Bogota",
          "index": 797,
          "language": "Other"
         },
         {
          "city": "Bogota",
          "index": 798,
          "language": "Arabic"
         },
         {
          "city": "Bogota",
          "index": 799,
          "language": "English"
         },
         {
          "city": "Bogota",
          "index": 800,
          "language": "Nubian"
         },
         {
          "city": "Bogota",
          "index": 801,
          "language": "Ta Bedawie"
         },
         {
          "city": "Bogota",
          "index": 802,
          "language": "Fur"
         },
         {
          "city": "Bogota",
          "index": 803,
          "language": "Dutch"
         },
         {
          "city": "Bogota",
          "index": 804,
          "language": "English"
         },
         {
          "city": "Bogota",
          "index": 805,
          "language": "Sranang Tongo"
         },
         {
          "city": "Bogota",
          "index": 806,
          "language": "Caribbean Hindustani"
         },
         {
          "city": "Bogota",
          "index": 807,
          "language": "Javanese"
         },
         {
          "city": "Bogota",
          "index": 808,
          "language": "English"
         },
         {
          "city": "Bogota",
          "index": 809,
          "language": "siSwati"
         },
         {
          "city": "Bogota",
          "index": 810,
          "language": "Swedish"
         },
         {
          "city": "Bogota",
          "index": 811,
          "language": "German"
         },
         {
          "city": "Bogota",
          "index": 812,
          "language": "French"
         },
         {
          "city": "Bogota",
          "index": 813,
          "language": "Italian"
         },
         {
          "city": "Bogota",
          "index": 814,
          "language": "English"
         },
         {
          "city": "Bogota",
          "index": 815,
          "language": "Portuguese"
         },
         {
          "city": "Bogota",
          "index": 816,
          "language": "Albanian"
         },
         {
          "city": "Bogota",
          "index": 817,
          "language": "Serbo-Croatian"
         },
         {
          "city": "Bogota",
          "index": 818,
          "language": "Spanish"
         },
         {
          "city": "Bogota",
          "index": 819,
          "language": "Romansch"
         },
         {
          "city": "Bogota",
          "index": 820,
          "language": "Other"
         },
         {
          "city": "Bogota",
          "index": 821,
          "language": "Arabic"
         },
         {
          "city": "Bogota",
          "index": 822,
          "language": "Kurdish"
         },
         {
          "city": "Bogota",
          "index": 823,
          "language": "Armenian"
         },
         {
          "city": "Bogota",
          "index": 824,
          "language": "Aramaic"
         },
         {
          "city": "Bogota",
          "index": 825,
          "language": "Circassian"
         },
         {
          "city": "Bogota",
          "index": 826,
          "language": "French"
         },
         {
          "city": "Bogota",
          "index": 827,
          "language": "English"
         },
         {
          "city": "Bogota",
          "index": 828,
          "language": "Mandarin"
         },
         {
          "city": "Bogota",
          "index": 829,
          "language": "Taiwanese"
         },
         {
          "city": "Bogota",
          "index": 830,
          "language": "Hakka"
         },
         {
          "city": "Bogota",
          "index": 831,
          "language": "Tajik"
         },
         {
          "city": "Bogota",
          "index": 832,
          "language": "Russian"
         },
         {
          "city": "Bogota",
          "index": 833,
          "language": "Kiswahili"
         },
         {
          "city": "Bogota",
          "index": 834,
          "language": "English"
         },
         {
          "city": "Bogota",
          "index": 835,
          "language": "Arabic"
         },
         {
          "city": "Bogota",
          "index": 836,
          "language": "many"
         },
         {
          "city": "Bogota",
          "index": 837,
          "language": "Thai"
         },
         {
          "city": "Bogota",
          "index": 838,
          "language": "Burmese"
         },
         {
          "city": "Bogota",
          "index": 839,
          "language": "Other"
         },
         {
          "city": "Bogota",
          "index": 840,
          "language": "French"
         },
         {
          "city": "Bogota",
          "index": 841,
          "language": "Ewe"
         },
         {
          "city": "Bogota",
          "index": 842,
          "language": "Kabye"
         },
         {
          "city": "Bogota",
          "index": 843,
          "language": "Mina"
         },
         {
          "city": "Bogota",
          "index": 844,
          "language": "Dagomba"
         },
         {
          "city": "Bogota",
          "index": 845,
          "language": "Tokelauan"
         },
         {
          "city": "Bogota",
          "index": 846,
          "language": "English"
         },
         {
          "city": "Bogota",
          "index": 847,
          "language": "Samoan"
         },
         {
          "city": "Bogota",
          "index": 848,
          "language": "Tuvaluan"
         },
         {
          "city": "Bogota",
          "index": 849,
          "language": "Kiribati"
         },
         {
          "city": "Bogota",
          "index": 850,
          "language": "Other"
         },
         {
          "city": "Bogota",
          "index": 851,
          "language": "none"
         },
         {
          "city": "Bogota",
          "index": 852,
          "language": "unspecified"
         },
         {
          "city": "Bogota",
          "index": 853,
          "language": "Tongan"
         },
         {
          "city": "Bogota",
          "index": 854,
          "language": "English"
         },
         {
          "city": "Bogota",
          "index": 855,
          "language": "Other"
         },
         {
          "city": "Bogota",
          "index": 856,
          "language": "unspecified"
         },
         {
          "city": "Bogota",
          "index": 857,
          "language": "English"
         },
         {
          "city": "Bogota",
          "index": 858,
          "language": "Caribbean Hindustani"
         },
         {
          "city": "Bogota",
          "index": 859,
          "language": "French"
         },
         {
          "city": "Bogota",
          "index": 860,
          "language": "Spanish"
         },
         {
          "city": "Bogota",
          "index": 861,
          "language": "Chinese"
         },
         {
          "city": "Bogota",
          "index": 862,
          "language": "Arabic"
         },
         {
          "city": "Bogota",
          "index": 863,
          "language": "French"
         },
         {
          "city": "Bogota",
          "index": 864,
          "language": "Berber"
         },
         {
          "city": "Bogota",
          "index": 865,
          "language": "Turkish"
         },
         {
          "city": "Bogota",
          "index": 866,
          "language": "Kurdish"
         },
         {
          "city": "Bogota",
          "index": 867,
          "language": "Other"
         },
         {
          "city": "Bogota",
          "index": 868,
          "language": "Turkmen"
         },
         {
          "city": "Bogota",
          "index": 869,
          "language": "Russian"
         },
         {
          "city": "Bogota",
          "index": 870,
          "language": "Uzbek"
         },
         {
          "city": "Bogota",
          "index": 871,
          "language": "Other"
         },
         {
          "city": "Bogota",
          "index": 872,
          "language": "English"
         },
         {
          "city": "Bogota",
          "index": 873,
          "language": "Tuvaluan"
         },
         {
          "city": "Bogota",
          "index": 874,
          "language": "English"
         },
         {
          "city": "Bogota",
          "index": 875,
          "language": "Samoan"
         },
         {
          "city": "Bogota",
          "index": 876,
          "language": "Kiribati"
         },
         {
          "city": "Bogota",
          "index": 877,
          "language": "English"
         },
         {
          "city": "Bogota",
          "index": 878,
          "language": "Ganda"
         },
         {
          "city": "Bogota",
          "index": 879,
          "language": "Other"
         },
         {
          "city": "Bogota",
          "index": 880,
          "language": "Nilo"
         },
         {
          "city": "Bogota",
          "index": 881,
          "language": "Swahili"
         },
         {
          "city": "Bogota",
          "index": 882,
          "language": "Arabic"
         },
         {
          "city": "Bogota",
          "index": 883,
          "language": "Ukrainian"
         },
         {
          "city": "Bogota",
          "index": 884,
          "language": "Russian"
         },
         {
          "city": "Bogota",
          "index": 885,
          "language": "Other"
         },
         {
          "city": "Bogota",
          "index": 886,
          "language": "Arabic"
         },
         {
          "city": "Bogota",
          "index": 887,
          "language": "Persian"
         },
         {
          "city": "Bogota",
          "index": 888,
          "language": "English"
         },
         {
          "city": "Bogota",
          "index": 889,
          "language": "Hindi"
         },
         {
          "city": "Bogota",
          "index": 890,
          "language": "Urdu"
         },
         {
          "city": "Bogota",
          "index": 891,
          "language": "English"
         },
         {
          "city": "Bogota",
          "index": 892,
          "language": "English"
         },
         {
          "city": "Bogota",
          "index": 893,
          "language": "Spanish"
         },
         {
          "city": "Bogota",
          "index": 894,
          "language": "Other"
         },
         {
          "city": "Bogota",
          "index": 895,
          "language": "Spanish"
         },
         {
          "city": "Bogota",
          "index": 896,
          "language": "Portunol"
         },
         {
          "city": "Bogota",
          "index": 897,
          "language": "Brazilero"
         },
         {
          "city": "Bogota",
          "index": 898,
          "language": "Uzbek"
         },
         {
          "city": "Bogota",
          "index": 899,
          "language": "Russian"
         },
         {
          "city": "Bogota",
          "index": 900,
          "language": "Tajik"
         },
         {
          "city": "Bogota",
          "index": 901,
          "language": "Other"
         },
         {
          "city": "Bogota",
          "index": 902,
          "language": "Tribal Languages"
         },
         {
          "city": "Bogota",
          "index": 903,
          "language": "Bislama"
         },
         {
          "city": "Bogota",
          "index": 904,
          "language": "English"
         },
         {
          "city": "Bogota",
          "index": 905,
          "language": "French"
         },
         {
          "city": "Bogota",
          "index": 906,
          "language": "Other"
         },
         {
          "city": "Bogota",
          "index": 907,
          "language": "Spanish"
         },
         {
          "city": "Bogota",
          "index": 908,
          "language": "indigenous"
         },
         {
          "city": "Bogota",
          "index": 909,
          "language": "Vietnamese"
         },
         {
          "city": "Bogota",
          "index": 910,
          "language": "English"
         },
         {
          "city": "Bogota",
          "index": 911,
          "language": "Other"
         },
         {
          "city": "Bogota",
          "index": 912,
          "language": "Wallisian"
         },
         {
          "city": "Bogota",
          "index": 913,
          "language": "Futunian"
         },
         {
          "city": "Bogota",
          "index": 914,
          "language": "French"
         },
         {
          "city": "Bogota",
          "index": 915,
          "language": "Other"
         },
         {
          "city": "Bogota",
          "index": 916,
          "language": "Standard"
         },
         {
          "city": "Bogota",
          "index": 917,
          "language": "Hassaniya"
         },
         {
          "city": "Bogota",
          "index": 918,
          "language": "Moroccan"
         },
         {
          "city": "Bogota",
          "index": 919,
          "language": "Arabic"
         },
         {
          "city": "Bogota",
          "index": 920,
          "language": "Bembe"
         },
         {
          "city": "Bogota",
          "index": 921,
          "language": "Nyanja"
         },
         {
          "city": "Bogota",
          "index": 922,
          "language": "Tonga"
         },
         {
          "city": "Bogota",
          "index": 923,
          "language": "Lozi"
         },
         {
          "city": "Bogota",
          "index": 924,
          "language": "Chewa"
         },
         {
          "city": "Bogota",
          "index": 925,
          "language": "Nsenga"
         },
         {
          "city": "Bogota",
          "index": 926,
          "language": "Tumbuka"
         },
         {
          "city": "Bogota",
          "index": 927,
          "language": "Lunda"
         },
         {
          "city": "Bogota",
          "index": 928,
          "language": "Kaonde"
         },
         {
          "city": "Bogota",
          "index": 929,
          "language": "Lala"
         },
         {
          "city": "Bogota",
          "index": 930,
          "language": "Lamba"
         },
         {
          "city": "Bogota",
          "index": 931,
          "language": "English"
         },
         {
          "city": "Bogota",
          "index": 932,
          "language": "Luvale"
         },
         {
          "city": "Bogota",
          "index": 933,
          "language": "Mambwe"
         },
         {
          "city": "Bogota",
          "index": 934,
          "language": "Namwanga"
         },
         {
          "city": "Bogota",
          "index": 935,
          "language": "Lenje"
         },
         {
          "city": "Bogota",
          "index": 936,
          "language": "Bisa"
         },
         {
          "city": "Bogota",
          "index": 937,
          "language": "Other"
         },
         {
          "city": "Bogota",
          "index": 938,
          "language": "unspecified"
         },
         {
          "city": "Bogota",
          "index": 939,
          "language": "Shona"
         },
         {
          "city": "Bogota",
          "index": 940,
          "language": "Ndebele"
         },
         {
          "city": "Bogota",
          "index": 941,
          "language": "English"
         },
         {
          "city": "Bogota",
          "index": 942,
          "language": "Chewa"
         },
         {
          "city": "Bogota",
          "index": 943,
          "language": "Chibarwe"
         },
         {
          "city": "Bogota",
          "index": 944,
          "language": "Kalanga"
         },
         {
          "city": "Bogota",
          "index": 945,
          "language": "Koisan"
         },
         {
          "city": "Bogota",
          "index": 946,
          "language": "Nambya"
         },
         {
          "city": "Bogota",
          "index": 947,
          "language": "Ndau"
         },
         {
          "city": "Bogota",
          "index": 948,
          "language": "Shangani"
         },
         {
          "city": "Bogota",
          "index": 949,
          "language": "sign"
         },
         {
          "city": "Bogota",
          "index": 950,
          "language": "Sotho"
         },
         {
          "city": "Bogota",
          "index": 951,
          "language": "Tonga"
         },
         {
          "city": "Bogota",
          "index": 952,
          "language": "Tswana"
         },
         {
          "city": "Bogota",
          "index": 953,
          "language": "Venda"
         },
         {
          "city": "Bogota",
          "index": 954,
          "language": "Xhosa"
         }
        ],
        "schema": {
         "fields": [
          {
           "name": "index",
           "type": "integer"
          },
          {
           "name": "city",
           "type": "string"
          },
          {
           "name": "language",
           "type": "string"
          }
         ],
         "pandas_version": "1.4.0",
         "primaryKey": [
          "index"
         ]
        }
       },
       "total_rows": 955,
       "truncation_type": null
      },
      "text/html": [
       "<div>\n",
       "<style scoped>\n",
       "    .dataframe tbody tr th:only-of-type {\n",
       "        vertical-align: middle;\n",
       "    }\n",
       "\n",
       "    .dataframe tbody tr th {\n",
       "        vertical-align: top;\n",
       "    }\n",
       "\n",
       "    .dataframe thead th {\n",
       "        text-align: right;\n",
       "    }\n",
       "</style>\n",
       "<table border=\"1\" class=\"dataframe\">\n",
       "  <thead>\n",
       "    <tr style=\"text-align: right;\">\n",
       "      <th></th>\n",
       "      <th>city</th>\n",
       "      <th>language</th>\n",
       "    </tr>\n",
       "  </thead>\n",
       "  <tbody>\n",
       "    <tr>\n",
       "      <th>0</th>\n",
       "      <td>Bogota</td>\n",
       "      <td>Dari</td>\n",
       "    </tr>\n",
       "    <tr>\n",
       "      <th>1</th>\n",
       "      <td>Bogota</td>\n",
       "      <td>Pashto</td>\n",
       "    </tr>\n",
       "    <tr>\n",
       "      <th>2</th>\n",
       "      <td>Bogota</td>\n",
       "      <td>Turkic</td>\n",
       "    </tr>\n",
       "    <tr>\n",
       "      <th>3</th>\n",
       "      <td>Bogota</td>\n",
       "      <td>Other</td>\n",
       "    </tr>\n",
       "    <tr>\n",
       "      <th>4</th>\n",
       "      <td>Bogota</td>\n",
       "      <td>Albanian</td>\n",
       "    </tr>\n",
       "    <tr>\n",
       "      <th>...</th>\n",
       "      <td>...</td>\n",
       "      <td>...</td>\n",
       "    </tr>\n",
       "    <tr>\n",
       "      <th>950</th>\n",
       "      <td>Bogota</td>\n",
       "      <td>Sotho</td>\n",
       "    </tr>\n",
       "    <tr>\n",
       "      <th>951</th>\n",
       "      <td>Bogota</td>\n",
       "      <td>Tonga</td>\n",
       "    </tr>\n",
       "    <tr>\n",
       "      <th>952</th>\n",
       "      <td>Bogota</td>\n",
       "      <td>Tswana</td>\n",
       "    </tr>\n",
       "    <tr>\n",
       "      <th>953</th>\n",
       "      <td>Bogota</td>\n",
       "      <td>Venda</td>\n",
       "    </tr>\n",
       "    <tr>\n",
       "      <th>954</th>\n",
       "      <td>Bogota</td>\n",
       "      <td>Xhosa</td>\n",
       "    </tr>\n",
       "  </tbody>\n",
       "</table>\n",
       "<p>955 rows × 2 columns</p>\n",
       "</div>"
      ],
      "text/plain": [
       "       city  language\n",
       "0    Bogota      Dari\n",
       "1    Bogota    Pashto\n",
       "2    Bogota    Turkic\n",
       "3    Bogota     Other\n",
       "4    Bogota  Albanian\n",
       "..      ...       ...\n",
       "950  Bogota     Sotho\n",
       "951  Bogota     Tonga\n",
       "952  Bogota    Tswana\n",
       "953  Bogota     Venda\n",
       "954  Bogota     Xhosa\n",
       "\n",
       "[955 rows x 2 columns]"
      ]
     },
     "execution_count": 2,
     "metadata": {},
     "output_type": "execute_result"
    }
   ],
   "source": [
    "SELECT c.name AS city, l.name AS language\n",
    "FROM world.cities AS c        \n",
    "CROSS JOIN world.languages AS l\n",
    "WHERE c.name LIKE 'Bog%';"
   ]
  }
 ],
 "metadata": {
  "editor": "DataCamp Workspace",
  "kernelspec": {
   "display_name": "Python 3 (ipykernel)",
   "language": "python",
   "name": "python3"
  },
  "language_info": {
   "codemirror_mode": {
    "name": "ipython",
    "version": 3
   },
   "file_extension": ".py",
   "mimetype": "text/x-python",
   "name": "python",
   "nbconvert_exporter": "python",
   "pygments_lexer": "ipython3",
   "version": "3.11.6"
  }
 },
 "nbformat": 4,
 "nbformat_minor": 5
}
